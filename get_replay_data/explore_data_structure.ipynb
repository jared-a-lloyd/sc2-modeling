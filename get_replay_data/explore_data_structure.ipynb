{
 "cells": [
  {
   "cell_type": "code",
   "execution_count": 1,
   "metadata": {},
   "outputs": [],
   "source": [
    "# initially based on work at this link\n",
    "# https://web.archive.org/web/20201031184319/https://miguelgondu.github.io/python/ai/video%20games/2018/09/04/a-tutorial-on-sc2reader-events-and-units.html \n",
    "\n",
    "import pandas as pd\n",
    "import sc2reader\n",
    "from sc2reader.scripts import sc2json\n",
    "import json\n",
    "import datetime\n",
    "from sc2reader.engine.plugins import SelectionTracker, APMTracker\n",
    "from sc2reader.factories.plugins.replay import toJSON\n",
    "\n",
    "sc2reader.engine.register_plugin(SelectionTracker())\n",
    "sc2reader.engine.register_plugin(APMTracker())"
   ]
  },
  {
   "cell_type": "code",
   "execution_count": 2,
   "metadata": {},
   "outputs": [],
   "source": [
    "# Load one of professional replays\n",
    "replay = sc2reader.load_replay(\n",
    "    '../data/replays/SpawningTool/Pro/page1/2021-09-05-zserral-vs-pshowtime.SC2Replay',\n",
    "    load_level=4)"
   ]
  },
  {
   "cell_type": "code",
   "execution_count": 10,
   "metadata": {},
   "outputs": [],
   "source": [
    "events_list = replay.events"
   ]
  },
  {
   "cell_type": "code",
   "execution_count": 11,
   "metadata": {},
   "outputs": [
    {
     "data": {
      "text/plain": [
       "151759"
      ]
     },
     "execution_count": 11,
     "metadata": {},
     "output_type": "execute_result"
    }
   ],
   "source": [
    "# How many events are there?\n",
    "len(events_list)"
   ]
  },
  {
   "cell_type": "code",
   "execution_count": 14,
   "metadata": {},
   "outputs": [
    {
     "data": {
      "text/plain": [
       "['__class__',\n",
       " '__delattr__',\n",
       " '__dict__',\n",
       " '__dir__',\n",
       " '__doc__',\n",
       " '__eq__',\n",
       " '__format__',\n",
       " '__ge__',\n",
       " '__getattribute__',\n",
       " '__gt__',\n",
       " '__hash__',\n",
       " '__init__',\n",
       " '__init_subclass__',\n",
       " '__le__',\n",
       " '__lt__',\n",
       " '__module__',\n",
       " '__ne__',\n",
       " '__new__',\n",
       " '__reduce__',\n",
       " '__reduce_ex__',\n",
       " '__repr__',\n",
       " '__setattr__',\n",
       " '__sizeof__',\n",
       " '__str__',\n",
       " '__subclasshook__',\n",
       " '__weakref__',\n",
       " '_str_prefix',\n",
       " 'frame',\n",
       " 'load_context',\n",
       " 'name',\n",
       " 'pid',\n",
       " 'second',\n",
       " 'sid',\n",
       " 'type',\n",
       " 'uid']"
      ]
     },
     "execution_count": 14,
     "metadata": {},
     "output_type": "execute_result"
    }
   ],
   "source": [
    "# extract the name and frame of each event\n"
   ]
  },
  {
   "cell_type": "code",
   "execution_count": 39,
   "metadata": {},
   "outputs": [],
   "source": [
    "def dict_replace_value(d):\n",
    "    x = {}\n",
    "    for k, v in d.items():\n",
    "        if isinstance(v, dict):\n",
    "            v = dict_replace_value(v)\n",
    "        elif isinstance(v, list):\n",
    "            v = list_replace_value(v)\n",
    "        elif 'sc2reader.utils.DepotFile' in str(type(v)):\n",
    "            v = None\n",
    "        elif isinstance(v, bytes):\n",
    "            v = None\n",
    "        elif 'Attribute' in str(type(v)):\n",
    "            v = None\n",
    "        x[k] = v\n",
    "    return x\n",
    "\n",
    "\n",
    "def list_replace_value(l):\n",
    "    x = []\n",
    "    for e in l:\n",
    "        if isinstance(e, list):\n",
    "            e = list_replace_value(e)\n",
    "        elif isinstance(e, dict):\n",
    "            e = dict_replace_value(e)\n",
    "        elif 'sc2reader.utils.DepotFile' in str(type(e)):\n",
    "            e = None\n",
    "        elif isinstance(e, bytes):\n",
    "            e = None\n",
    "        elif 'Attribute' in str(type(e)):\n",
    "            e = None\n",
    "        x.append(e)\n",
    "    return x\n",
    "\n",
    "a = dict_replace_value(replay.raw_data)"
   ]
  },
  {
   "cell_type": "code",
   "execution_count": 40,
   "metadata": {},
   "outputs": [
    {
     "ename": "TypeError",
     "evalue": "Object of type ChatEvent is not JSON serializable",
     "output_type": "error",
     "traceback": [
      "\u001b[0;31m---------------------------------------------------------------------------\u001b[0m",
      "\u001b[0;31mTypeError\u001b[0m                                 Traceback (most recent call last)",
      "\u001b[0;32m/tmp/ipykernel_3262/1956974898.py\u001b[0m in \u001b[0;36m<module>\u001b[0;34m\u001b[0m\n\u001b[1;32m      1\u001b[0m \u001b[0;32mwith\u001b[0m \u001b[0mopen\u001b[0m\u001b[0;34m(\u001b[0m\u001b[0;34m'replay_json.json'\u001b[0m\u001b[0;34m,\u001b[0m \u001b[0;34m'w'\u001b[0m\u001b[0;34m,\u001b[0m \u001b[0mencoding\u001b[0m\u001b[0;34m=\u001b[0m\u001b[0;34m'utf-8'\u001b[0m\u001b[0;34m)\u001b[0m \u001b[0;32mas\u001b[0m \u001b[0mfile\u001b[0m\u001b[0;34m:\u001b[0m\u001b[0;34m\u001b[0m\u001b[0;34m\u001b[0m\u001b[0m\n\u001b[0;32m----> 2\u001b[0;31m     \u001b[0mjson\u001b[0m\u001b[0;34m.\u001b[0m\u001b[0mdump\u001b[0m\u001b[0;34m(\u001b[0m\u001b[0ma\u001b[0m\u001b[0;34m,\u001b[0m \u001b[0mfile\u001b[0m\u001b[0;34m,\u001b[0m \u001b[0mindent\u001b[0m\u001b[0;34m=\u001b[0m\u001b[0;36m4\u001b[0m\u001b[0;34m,\u001b[0m \u001b[0mseparators\u001b[0m\u001b[0;34m=\u001b[0m\u001b[0;34m(\u001b[0m\u001b[0;34m','\u001b[0m\u001b[0;34m,\u001b[0m \u001b[0;34m': '\u001b[0m\u001b[0;34m)\u001b[0m\u001b[0;34m)\u001b[0m\u001b[0;34m\u001b[0m\u001b[0;34m\u001b[0m\u001b[0m\n\u001b[0m",
      "\u001b[0;32m~/anaconda3/envs/sc2/lib/python3.9/json/__init__.py\u001b[0m in \u001b[0;36mdump\u001b[0;34m(obj, fp, skipkeys, ensure_ascii, check_circular, allow_nan, cls, indent, separators, default, sort_keys, **kw)\u001b[0m\n\u001b[1;32m    177\u001b[0m     \u001b[0;31m# could accelerate with writelines in some versions of Python, at\u001b[0m\u001b[0;34m\u001b[0m\u001b[0;34m\u001b[0m\u001b[0m\n\u001b[1;32m    178\u001b[0m     \u001b[0;31m# a debuggability cost\u001b[0m\u001b[0;34m\u001b[0m\u001b[0;34m\u001b[0m\u001b[0m\n\u001b[0;32m--> 179\u001b[0;31m     \u001b[0;32mfor\u001b[0m \u001b[0mchunk\u001b[0m \u001b[0;32min\u001b[0m \u001b[0miterable\u001b[0m\u001b[0;34m:\u001b[0m\u001b[0;34m\u001b[0m\u001b[0;34m\u001b[0m\u001b[0m\n\u001b[0m\u001b[1;32m    180\u001b[0m         \u001b[0mfp\u001b[0m\u001b[0;34m.\u001b[0m\u001b[0mwrite\u001b[0m\u001b[0;34m(\u001b[0m\u001b[0mchunk\u001b[0m\u001b[0;34m)\u001b[0m\u001b[0;34m\u001b[0m\u001b[0;34m\u001b[0m\u001b[0m\n\u001b[1;32m    181\u001b[0m \u001b[0;34m\u001b[0m\u001b[0m\n",
      "\u001b[0;32m~/anaconda3/envs/sc2/lib/python3.9/json/encoder.py\u001b[0m in \u001b[0;36m_iterencode\u001b[0;34m(o, _current_indent_level)\u001b[0m\n\u001b[1;32m    429\u001b[0m             \u001b[0;32myield\u001b[0m \u001b[0;32mfrom\u001b[0m \u001b[0m_iterencode_list\u001b[0m\u001b[0;34m(\u001b[0m\u001b[0mo\u001b[0m\u001b[0;34m,\u001b[0m \u001b[0m_current_indent_level\u001b[0m\u001b[0;34m)\u001b[0m\u001b[0;34m\u001b[0m\u001b[0;34m\u001b[0m\u001b[0m\n\u001b[1;32m    430\u001b[0m         \u001b[0;32melif\u001b[0m \u001b[0misinstance\u001b[0m\u001b[0;34m(\u001b[0m\u001b[0mo\u001b[0m\u001b[0;34m,\u001b[0m \u001b[0mdict\u001b[0m\u001b[0;34m)\u001b[0m\u001b[0;34m:\u001b[0m\u001b[0;34m\u001b[0m\u001b[0;34m\u001b[0m\u001b[0m\n\u001b[0;32m--> 431\u001b[0;31m             \u001b[0;32myield\u001b[0m \u001b[0;32mfrom\u001b[0m \u001b[0m_iterencode_dict\u001b[0m\u001b[0;34m(\u001b[0m\u001b[0mo\u001b[0m\u001b[0;34m,\u001b[0m \u001b[0m_current_indent_level\u001b[0m\u001b[0;34m)\u001b[0m\u001b[0;34m\u001b[0m\u001b[0;34m\u001b[0m\u001b[0m\n\u001b[0m\u001b[1;32m    432\u001b[0m         \u001b[0;32melse\u001b[0m\u001b[0;34m:\u001b[0m\u001b[0;34m\u001b[0m\u001b[0;34m\u001b[0m\u001b[0m\n\u001b[1;32m    433\u001b[0m             \u001b[0;32mif\u001b[0m \u001b[0mmarkers\u001b[0m \u001b[0;32mis\u001b[0m \u001b[0;32mnot\u001b[0m \u001b[0;32mNone\u001b[0m\u001b[0;34m:\u001b[0m\u001b[0;34m\u001b[0m\u001b[0;34m\u001b[0m\u001b[0m\n",
      "\u001b[0;32m~/anaconda3/envs/sc2/lib/python3.9/json/encoder.py\u001b[0m in \u001b[0;36m_iterencode_dict\u001b[0;34m(dct, _current_indent_level)\u001b[0m\n\u001b[1;32m    403\u001b[0m                 \u001b[0;32melse\u001b[0m\u001b[0;34m:\u001b[0m\u001b[0;34m\u001b[0m\u001b[0;34m\u001b[0m\u001b[0m\n\u001b[1;32m    404\u001b[0m                     \u001b[0mchunks\u001b[0m \u001b[0;34m=\u001b[0m \u001b[0m_iterencode\u001b[0m\u001b[0;34m(\u001b[0m\u001b[0mvalue\u001b[0m\u001b[0;34m,\u001b[0m \u001b[0m_current_indent_level\u001b[0m\u001b[0;34m)\u001b[0m\u001b[0;34m\u001b[0m\u001b[0;34m\u001b[0m\u001b[0m\n\u001b[0;32m--> 405\u001b[0;31m                 \u001b[0;32myield\u001b[0m \u001b[0;32mfrom\u001b[0m \u001b[0mchunks\u001b[0m\u001b[0;34m\u001b[0m\u001b[0;34m\u001b[0m\u001b[0m\n\u001b[0m\u001b[1;32m    406\u001b[0m         \u001b[0;32mif\u001b[0m \u001b[0mnewline_indent\u001b[0m \u001b[0;32mis\u001b[0m \u001b[0;32mnot\u001b[0m \u001b[0;32mNone\u001b[0m\u001b[0;34m:\u001b[0m\u001b[0;34m\u001b[0m\u001b[0;34m\u001b[0m\u001b[0m\n\u001b[1;32m    407\u001b[0m             \u001b[0m_current_indent_level\u001b[0m \u001b[0;34m-=\u001b[0m \u001b[0;36m1\u001b[0m\u001b[0;34m\u001b[0m\u001b[0;34m\u001b[0m\u001b[0m\n",
      "\u001b[0;32m~/anaconda3/envs/sc2/lib/python3.9/json/encoder.py\u001b[0m in \u001b[0;36m_iterencode_dict\u001b[0;34m(dct, _current_indent_level)\u001b[0m\n\u001b[1;32m    403\u001b[0m                 \u001b[0;32melse\u001b[0m\u001b[0;34m:\u001b[0m\u001b[0;34m\u001b[0m\u001b[0;34m\u001b[0m\u001b[0m\n\u001b[1;32m    404\u001b[0m                     \u001b[0mchunks\u001b[0m \u001b[0;34m=\u001b[0m \u001b[0m_iterencode\u001b[0m\u001b[0;34m(\u001b[0m\u001b[0mvalue\u001b[0m\u001b[0;34m,\u001b[0m \u001b[0m_current_indent_level\u001b[0m\u001b[0;34m)\u001b[0m\u001b[0;34m\u001b[0m\u001b[0;34m\u001b[0m\u001b[0m\n\u001b[0;32m--> 405\u001b[0;31m                 \u001b[0;32myield\u001b[0m \u001b[0;32mfrom\u001b[0m \u001b[0mchunks\u001b[0m\u001b[0;34m\u001b[0m\u001b[0;34m\u001b[0m\u001b[0m\n\u001b[0m\u001b[1;32m    406\u001b[0m         \u001b[0;32mif\u001b[0m \u001b[0mnewline_indent\u001b[0m \u001b[0;32mis\u001b[0m \u001b[0;32mnot\u001b[0m \u001b[0;32mNone\u001b[0m\u001b[0;34m:\u001b[0m\u001b[0;34m\u001b[0m\u001b[0;34m\u001b[0m\u001b[0m\n\u001b[1;32m    407\u001b[0m             \u001b[0m_current_indent_level\u001b[0m \u001b[0;34m-=\u001b[0m \u001b[0;36m1\u001b[0m\u001b[0;34m\u001b[0m\u001b[0;34m\u001b[0m\u001b[0m\n",
      "\u001b[0;32m~/anaconda3/envs/sc2/lib/python3.9/json/encoder.py\u001b[0m in \u001b[0;36m_iterencode_list\u001b[0;34m(lst, _current_indent_level)\u001b[0m\n\u001b[1;32m    323\u001b[0m                 \u001b[0;32melse\u001b[0m\u001b[0;34m:\u001b[0m\u001b[0;34m\u001b[0m\u001b[0;34m\u001b[0m\u001b[0m\n\u001b[1;32m    324\u001b[0m                     \u001b[0mchunks\u001b[0m \u001b[0;34m=\u001b[0m \u001b[0m_iterencode\u001b[0m\u001b[0;34m(\u001b[0m\u001b[0mvalue\u001b[0m\u001b[0;34m,\u001b[0m \u001b[0m_current_indent_level\u001b[0m\u001b[0;34m)\u001b[0m\u001b[0;34m\u001b[0m\u001b[0;34m\u001b[0m\u001b[0m\n\u001b[0;32m--> 325\u001b[0;31m                 \u001b[0;32myield\u001b[0m \u001b[0;32mfrom\u001b[0m \u001b[0mchunks\u001b[0m\u001b[0;34m\u001b[0m\u001b[0;34m\u001b[0m\u001b[0m\n\u001b[0m\u001b[1;32m    326\u001b[0m         \u001b[0;32mif\u001b[0m \u001b[0mnewline_indent\u001b[0m \u001b[0;32mis\u001b[0m \u001b[0;32mnot\u001b[0m \u001b[0;32mNone\u001b[0m\u001b[0;34m:\u001b[0m\u001b[0;34m\u001b[0m\u001b[0;34m\u001b[0m\u001b[0m\n\u001b[1;32m    327\u001b[0m             \u001b[0m_current_indent_level\u001b[0m \u001b[0;34m-=\u001b[0m \u001b[0;36m1\u001b[0m\u001b[0;34m\u001b[0m\u001b[0;34m\u001b[0m\u001b[0m\n",
      "\u001b[0;32m~/anaconda3/envs/sc2/lib/python3.9/json/encoder.py\u001b[0m in \u001b[0;36m_iterencode\u001b[0;34m(o, _current_indent_level)\u001b[0m\n\u001b[1;32m    436\u001b[0m                     \u001b[0;32mraise\u001b[0m \u001b[0mValueError\u001b[0m\u001b[0;34m(\u001b[0m\u001b[0;34m\"Circular reference detected\"\u001b[0m\u001b[0;34m)\u001b[0m\u001b[0;34m\u001b[0m\u001b[0;34m\u001b[0m\u001b[0m\n\u001b[1;32m    437\u001b[0m                 \u001b[0mmarkers\u001b[0m\u001b[0;34m[\u001b[0m\u001b[0mmarkerid\u001b[0m\u001b[0;34m]\u001b[0m \u001b[0;34m=\u001b[0m \u001b[0mo\u001b[0m\u001b[0;34m\u001b[0m\u001b[0;34m\u001b[0m\u001b[0m\n\u001b[0;32m--> 438\u001b[0;31m             \u001b[0mo\u001b[0m \u001b[0;34m=\u001b[0m \u001b[0m_default\u001b[0m\u001b[0;34m(\u001b[0m\u001b[0mo\u001b[0m\u001b[0;34m)\u001b[0m\u001b[0;34m\u001b[0m\u001b[0;34m\u001b[0m\u001b[0m\n\u001b[0m\u001b[1;32m    439\u001b[0m             \u001b[0;32myield\u001b[0m \u001b[0;32mfrom\u001b[0m \u001b[0m_iterencode\u001b[0m\u001b[0;34m(\u001b[0m\u001b[0mo\u001b[0m\u001b[0;34m,\u001b[0m \u001b[0m_current_indent_level\u001b[0m\u001b[0;34m)\u001b[0m\u001b[0;34m\u001b[0m\u001b[0;34m\u001b[0m\u001b[0m\n\u001b[1;32m    440\u001b[0m             \u001b[0;32mif\u001b[0m \u001b[0mmarkers\u001b[0m \u001b[0;32mis\u001b[0m \u001b[0;32mnot\u001b[0m \u001b[0;32mNone\u001b[0m\u001b[0;34m:\u001b[0m\u001b[0;34m\u001b[0m\u001b[0;34m\u001b[0m\u001b[0m\n",
      "\u001b[0;32m~/anaconda3/envs/sc2/lib/python3.9/json/encoder.py\u001b[0m in \u001b[0;36mdefault\u001b[0;34m(self, o)\u001b[0m\n\u001b[1;32m    177\u001b[0m \u001b[0;34m\u001b[0m\u001b[0m\n\u001b[1;32m    178\u001b[0m         \"\"\"\n\u001b[0;32m--> 179\u001b[0;31m         raise TypeError(f'Object of type {o.__class__.__name__} '\n\u001b[0m\u001b[1;32m    180\u001b[0m                         f'is not JSON serializable')\n\u001b[1;32m    181\u001b[0m \u001b[0;34m\u001b[0m\u001b[0m\n",
      "\u001b[0;31mTypeError\u001b[0m: Object of type ChatEvent is not JSON serializable"
     ]
    }
   ],
   "source": [
    "with open('replay_json.json', 'w', encoding='utf-8') as file:\n",
    "    json.dump(a, file, indent=4, separators=(',', ': '))"
   ]
  },
  {
   "cell_type": "code",
   "execution_count": 3,
   "metadata": {},
   "outputs": [
    {
     "name": "stdout",
     "output_type": "stream",
     "text": [
      "dict_keys(['ControlGroupEvent', 'PlayerSetupEvent', 'GetControlGroupEvent', 'BasicCommandEvent', 'UpdateTargetPointCommandEvent', 'UnitDoneEvent', 'ProgressEvent', 'TargetPointCommandEvent', 'PlayerLeaveEvent', 'UpdateTargetUnitCommandEvent', 'UserOptionsEvent', 'UnitPositionsEvent', 'ChatEvent', 'AddToControlGroupEvent', 'PlayerStatsEvent', 'CameraEvent', 'UpgradeCompleteEvent', 'UnitTypeChangeEvent', 'SelectionEvent', 'UnitDiedEvent', 'UnitOwnerChangeEvent', 'UnitBornEvent', 'UnitInitEvent', 'SetControlGroupEvent', 'TargetUnitCommandEvent'])\n"
     ]
    }
   ],
   "source": [
    "# Create a list of event_names for each event in replay.events\n",
    "event_names = set([event.name for event in replay.events])\n",
    "events_of_type = {name: [] for name in event_names}\n",
    "for event in replay.events:\n",
    "    events_of_type[event.name].append(event)\n",
    "\n",
    "print(events_of_type.keys())"
   ]
  },
  {
   "cell_type": "markdown",
   "metadata": {},
   "source": [
    "## Locating Relevant Data\n",
    "We are interested in the events that *should* be instigated by hotkey action. If a hotkey is available, and it is reasonable, assume that a hotkey was used. Eg. New players may use mouse clicks to start a building, but most long time players regardless of skill level would use a hotkey. It should feed into our data about what sequences of actions are required.\n",
    "\n",
    "Relevant events would possibly be:\n",
    "#### DataCommandEvent(CommandEvent): > USE\n",
    "Should be tracked as this would relate to a hotkey:\n",
    "\n",
    "    Extends :class:`CommandEvent`\n",
    "\n",
    "    DataCommandEvent are recorded when ever a player issues a command that has no target. Commands\n",
    "    like Burrow, SeigeMode, Train XYZ, and Stop fall under this category.\n",
    "\n",
    "    Note that like all CommandEvents, the event will be recorded regardless\n",
    "    of whether or not the command was successful.\n",
    "\n",
    "#### 'SetControlGroupEvent' > USE\n",
    "Appears to be potentially related to hotkey action:\n",
    "\n",
    "    Extends :class:`ControlGroupEvent`\n",
    "\n",
    "    This event does a straight forward replace of the current control group contents\n",
    "    with the player's current selection. This event doesn't have masks set.\n",
    "\n",
    "#### 'BasicCommandEvent' > USE\n",
    "Appears to be additional command event:\n",
    "\n",
    "    Extends :class:`CommandEvent`\n",
    "\n",
    "    This event is recorded for events that have no extra information recorded.\n",
    "\n",
    "    Note that like all CommandEvents, the event will be recorded regardless\n",
    "    of whether or not the command was successful.\n",
    "\n",
    "#### 'GetControlGroupEvent' > Use\n",
    "Is activate through control group hotkey\n",
    "\n",
    "From the docs:\n",
    "\n",
    "    Extends :class:`ControlGroupEvent`\n",
    "\n",
    "    This event replaces the current selection with the contents of the control group.\n",
    "    The mask data is used to limit that selection to units that are currently selectable.\n",
    "    You might have 1 medivac and 8 marines on the control group but if the 8 marines are\n",
    "    inside the medivac they cannot be part of your selection.\n",
    "\n",
    "#### 'UpdateTargetUnitCommandEvent' > IGNORE\n",
    "Appears that Update events are automatic events when something in the game state changes and not when the player interacts.\n",
    "\n",
    "From the docs:\n",
    "\n",
    "    Extends :class:`TargetUnitCommandEvent`\n",
    "\n",
    "    This event is generated when a TargetUnitCommandEvent is updated, likely due to\n",
    "    changing the target unit. It is unclear if this needs to be a separate event\n",
    "    from TargetUnitCommandEvent, but for flexibility, it will be treated\n",
    "    differently.\n",
    "\n",
    "    One example of this event occurring is casting inject on a hatchery while\n",
    "    holding shift, and then shift clicking on a second hatchery.\n",
    "     \n",
    "#### 'UpdateTargetPointCommandEvent' > IGNORE\n",
    "Again appears to relate to events that are generated as a secondary result of user interaction, and not relate to direct actions.\n",
    "\n",
    "From the docs:\n",
    "\n",
    "    Extends :class: 'TargetPointCommandEvent'\n",
    "\n",
    "    This event is generated when the user changes the point of a unit. Appears to happen\n",
    "    when a unit is moving and it is given a new command. It's possible there are other\n",
    "    instances of this occurring.\n",
    "\n",
    "\n",
    "#### 'SelectionEvent' > USE\n",
    "May be useful. Might be hard to differentiate between hotkey and mouse interactions. Include for now\n",
    "\n",
    "    Selection events are generated when ever the active selection of the\n",
    "    player is updated. Unlike other game events, these events can also be\n",
    "    generated by non-player actions like unit deaths or transformations.\n",
    "\n",
    "    Starting in Starcraft 2.0.0, selection events targeting control group\n",
    "    buffers are also generated when control group selections are modified\n",
    "    by non-player actions. When a player action updates a control group\n",
    "    a :class:`ControlGroupEvent` is generated. \n",
    "\n",
    "#### 'CameraEvent' > USE\n",
    "> Hotkey input could be inferred by finding repeated jumps to the exact same hotspot and assuming these could only be reproduced so accurately by hotkey.\n",
    "\n",
    "Docs directly state that it cannot determine if this was from hokey. Probably best to be ignored and see if this interaction is available elsewhere:\n",
    "\n",
    "    Camera events are generated when ever the player camera moves, zooms, or rotates.\n",
    "    It does not matter why the camera changed, this event simply records the current\n",
    "    state of the camera after changing.\n",
    "\n",
    "#### 'AddToControlGroupEvent' > USE\n",
    "This would have to be a hotkey event\n",
    "\n",
    "    Extends :class:`ControlGroupEvent`\n",
    "\n",
    "    This event adds the current selection to the control group.\n",
    "\n",
    "#### 'TargetUnitCommandEvent' > USE\n",
    "Most of these would be hotkey events. Might be possible to determine from the type if they are or are not\n",
    "\n",
    "    Extends :class:`CommandEvent`\n",
    "\n",
    "    This event is recorded when ever a player issues a command that targets a unit.\n",
    "    The location of the target unit at the time of the command is also recorded. Commands like\n",
    "    Chronoboost, Transfuse, and Snipe fall under this category.\n",
    "\n",
    "    Note that like all CommandEvents, the event will be recorded regardless\n",
    "    of whether or not the command was successful.\n",
    "\n",
    "#### 'UnitInitEvent' > USE\n",
    "Not part of game.py. Records the initial state of units at the beginning of the game.\n",
    "\n",
    "    The counter part to :class:`UnitDoneEvent`, generated by the game engine when a unit is\n",
    "    initiated. This applies only to units which are started in game before they are finished.\n",
    "    Primary examples being buildings and warp-in units.\n",
    "\n",
    "#### 'UnitTypeChangeEvent' > USE\n",
    "Might be duplicated elsewhere, but seems to be useful because most transformations would be instigated by hotkey.\n",
    "\n",
    "    Generated when the unit's type changes. This generally tracks upgrades to buildings (Hatch,\n",
    "    Lair, Hive) and mode switches (Sieging Tanks, Phasing prisms, Burrowing roaches). There may\n",
    "    be some other situations where a unit transformation is a type change and not a new unit.\n",
    "\n",
    "#### 'TargetPointCommandEvent' > USE\n",
    "These abilities would almost certainly be called by hotkey\n",
    "\n",
    "    Extends :class:`CommandEvent`\n",
    "\n",
    "    This event is recorded when ever a player issues a command that targets a location\n",
    "    and NOT a unit. Commands like Psistorm, Attack Move, Fungal Growth, and EMP fall\n",
    "    under this category.\n",
    "\n",
    "    Note that like all CommandEvents, the event will be recorded regardless\n",
    "    of whether or not the command was successful.\n",
    "\n",
    "#### 'UpgradeCompleteEvent' > USE for now\n",
    "> Attempt to back-calculate start time by using build time. Handle Protoss by tracking if ChronoBoost ability was used on the building?\n",
    "\n",
    "    Generated when a player completes an upgrade.\n",
    "\n",
    "Reading the code __[here](https://github.com/ggtracker/sc2reader/blob/upstream/sc2reader/engine/plugins/apm.py)__ defines the following three events as affecting APM. APM measures the rate of human interaction with the game, and so it would be fair to assume that all necessary player interaction would be captured in these three:\n",
    "\n",
    "1. handleControlGroupEvent\n",
    "2. handleSelectionEvent\n",
    "3. handleCommandEvent\n",
    "\n",
    "Extract all of these events and print to see what information is contained.\n",
    "\n",
    "#### Compare to APM\n",
    "As there is an existing plugin for it, use the calculated APM to compare with the number of actions that this program has identified. May be useful (at least during construction) to inform whether all user actions are being captured."
   ]
  },
  {
   "cell_type": "code",
   "execution_count": 4,
   "metadata": {},
   "outputs": [],
   "source": [
    "interesting_events_list = ['DataCommandEvent', 'SetControlGroupEvent', \n",
    "        'BasicCommandEvent', 'SelectionEvent', 'AddToControlGroupEvent', 'TargetUnitCommandEvent', 'UnitTypeChangeEvent', 'TargetPointCommandEvent', 'GetControlGroupEvent', 'UnitInitEvent',\n",
    "        'UnitTypeChangeEvent', 'CameraEvent', 'UpgradeCompleteEvent']"
   ]
  },
  {
   "cell_type": "markdown",
   "metadata": {},
   "source": [
    "Things that seem to be missing from this list:\n",
    "\n",
    "- Starting a unit construction - *Found in **UnitInitEvent** including buildings, maybe upgrades too*\n",
    "- Starting a building construction - *Same as unit construction*\n",
    "- Starting an upgrade - *Might have to use ending time and then calculate backwards to start time based on build speed, could be hard for Protoss with Chrono which modifies build speed"
   ]
  },
  {
   "cell_type": "code",
   "execution_count": 5,
   "metadata": {},
   "outputs": [],
   "source": [
    "# build a list of attributes for each event\n",
    "# can be used as a directory for navigating replay.events\n",
    "event_attribute_dict = {}\n",
    "for list_i in interesting_events_list:\n",
    "    event_attribute_dict[list_i] = []\n",
    "    try:\n",
    "        event_i = events_of_type[list_i][0] # only use first value for now\n",
    "    except:\n",
    "        continue\n",
    "    # NOTE - Use this loop later to loop through each event if necessary?\n",
    "    # Might not be necessary if each even is identical with different values\n",
    "    # for i, event_i in enumerate(events):\n",
    "    \n",
    "    # dir(event_i) returns a list containing attribute names\n",
    "    event_dir = dir(event_i)\n",
    "\n",
    "    # loop through elements remove any __???__ type strings to get\n",
    "    # meaningful names likely to lead to value\n",
    "    # use event_dir.name as key\n",
    "    for attr_name in event_dir:\n",
    "        \n",
    "        # create dict key for attr_name linked to a blank dictionary to be\n",
    "        # filled in after upcoming loop\n",
    "        # event_attribute_dict[attr_name] = {}\n",
    "        if (attr_name[0] != '_') & (attr_name != 'name'):\n",
    "            event_attribute_dict[list_i].append(attr_name)\n",
    "\n",
    "# print a list of all event keys to .json\n",
    "# print(event_attribute_dict)\n",
    "with open('../info/event_attribute_dict.json', 'w', encoding=\"utf-8\") as file:\n",
    "    json.dump(event_attribute_dict, file, indent=4, separators=(',', ': '))\n",
    "\n"
   ]
  },
  {
   "cell_type": "code",
   "execution_count": 6,
   "metadata": {},
   "outputs": [
    {
     "data": {
      "text/plain": [
       "[]"
      ]
     },
     "execution_count": 6,
     "metadata": {},
     "output_type": "execute_result"
    }
   ],
   "source": [
    "event_attribute_dict['DataCommandEvent']"
   ]
  },
  {
   "cell_type": "code",
   "execution_count": 7,
   "metadata": {},
   "outputs": [],
   "source": [
    "# extract this information from event of type datacommandevent as a test\n",
    "for att in event_attribute_dict['DataCommandEvent']:\n",
    "    val = getattr(events_of_type['DataCommandEvent'][0], att)\n",
    "    print(att, val)"
   ]
  },
  {
   "cell_type": "markdown",
   "metadata": {},
   "source": [
    "\n",
    "---\n",
    "\n",
    "#### Converting MS File Time to Human Readable Datetime\n",
    "\n",
    "We need to convert MS File Time to something more useful\n",
    "Conversion will be based on method found in __[this link](https://gist.github.com/Mostafa-Hamdy-Elgiar/9714475f1b3bc224ea063af81566d873)__"
   ]
  },
  {
   "cell_type": "code",
   "execution_count": 15,
   "metadata": {},
   "outputs": [
    {
     "name": "stdout",
     "output_type": "stream",
     "text": [
      "1630814400\n"
     ]
    }
   ],
   "source": [
    "d = datetime.datetime(\n",
    "    year=2021,\n",
    "    month=9,\n",
    "    day=5\n",
    ")\n",
    "print(int(d.timestamp()))"
   ]
  },
  {
   "cell_type": "code",
   "execution_count": 17,
   "metadata": {},
   "outputs": [],
   "source": [
    "filetime = 132750822404142771"
   ]
  },
  {
   "cell_type": "code",
   "execution_count": 18,
   "metadata": {},
   "outputs": [],
   "source": [
    "EPOCH_AS_FILETIME = 116444736000000000  # January 1, 1970 as MS file time\n",
    "HUNDREDS_OF_NANOSECONDS = 10000000"
   ]
  },
  {
   "cell_type": "code",
   "execution_count": 20,
   "metadata": {},
   "outputs": [
    {
     "data": {
      "text/plain": [
       "datetime.datetime(2021, 9, 2, 18, 50, 40, 414277)"
      ]
     },
     "execution_count": 20,
     "metadata": {},
     "output_type": "execute_result"
    }
   ],
   "source": [
    "datetime.datetime.utcfromtimestamp((filetime - EPOCH_AS_FILETIME) / HUNDREDS_OF_NANOSECONDS)"
   ]
  }
 ],
 "metadata": {
  "interpreter": {
   "hash": "d4cf022966bbd36933c612b9a537128a7afa164db307dc826422466b94a3d27f"
  },
  "kernelspec": {
   "display_name": "Python 3.9.7 64-bit ('sc2': conda)",
   "name": "python3"
  },
  "language_info": {
   "codemirror_mode": {
    "name": "ipython",
    "version": 3
   },
   "file_extension": ".py",
   "mimetype": "text/x-python",
   "name": "python",
   "nbconvert_exporter": "python",
   "pygments_lexer": "ipython3",
   "version": "3.9.7"
  },
  "orig_nbformat": 4
 },
 "nbformat": 4,
 "nbformat_minor": 2
}
