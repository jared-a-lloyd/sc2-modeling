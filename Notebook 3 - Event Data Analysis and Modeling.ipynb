{
 "cells": [
  {
   "cell_type": "markdown",
   "metadata": {},
   "source": [
    "# Notebook 3 - Event Data Analysis and Modeling\n",
    "\n",
    "In this Notebook we will explore the data available in the SpawningTool event dataset.\n",
    "\n",
    "We will analyze some of the features that are available, identify any that may have linear correlations to our outcome (i.e. who wins the game), and decide on how best to use this information in creating our Neural Network model."
   ]
  },
  {
   "cell_type": "code",
   "execution_count": 34,
   "metadata": {},
   "outputs": [
    {
     "name": "stdout",
     "output_type": "stream",
     "text": [
      "The autoreload extension is already loaded. To reload it, use:\n",
      "  %reload_ext autoreload\n"
     ]
    }
   ],
   "source": [
    "import os\n",
    "\n",
    "from datetime import datetime, timedelta\n",
    "import time\n",
    "import numpy as np\n",
    "import pandas as pd\n",
    "import matplotlib.pyplot as plt\n",
    "import seaborn as sns\n",
    "\n",
    "# tensorflow\n",
    "import tensorflow as tf\n",
    "from tensorflow import keras\n",
    "from tensorflow.keras.models import Sequential\n",
    "from tensorflow.keras.layers import Dense, Dropout, LSTM, GRU \n",
    "from tensorflow.keras.layers import BatchNormalization\n",
    "from tensorflow.keras.optimizers import Adam, RMSprop, Adagrad\n",
    "from scikeras.wrappers import KerasClassifier\n",
    "\n",
    "# sklearn\n",
    "from sklearn.preprocessing import StandardScaler\n",
    "from sklearn.metrics import confusion_matrix\n",
    "from sklearn.metrics import recall_score, precision_score, accuracy_score\n",
    "from sklearn.model_selection import GridSearchCV\n",
    "\n",
    "#other\n",
    "from tqdm import tqdm\n",
    "import multiprocessing as mp\n",
    "\n",
    "#### Matplotlib settings\n",
    "%matplotlib inline\n",
    "import matplotlib as mpl\n",
    "\n",
    "# specify default rcParams so that fontsize, weight and style do not need to set\n",
    "# each time\n",
    "# Title in bold, fontsize 20\n",
    "mpl.rcParams['figure.titleweight'] = 'bold'\n",
    "mpl.rcParams['figure.titlesize'] = 20\n",
    "mpl.rcParams['axes.titleweight'] = 'bold'\n",
    "mpl.rcParams['axes.titlesize'] = 20\n",
    "# Plot fontsize 12 and bold\n",
    "mpl.rcParams['axes.labelweight'] = 'bold'\n",
    "mpl.rcParams['axes.labelsize'] = 13\n",
    "# set figure size\n",
    "mpl.rcParams['figure.figsize'] = (18, 8)\n",
    "\n",
    "# race list and colors that will be used to represent them\n",
    "RACE_LIST = [\n",
    "    'Protoss',\n",
    "    'Terran',\n",
    "    'Zerg'\n",
    "    ]\n",
    "COLOR_DICT = {\n",
    "    'Protoss': 'goldenrod',\n",
    "    'Terran': 'firebrick',\n",
    "    'Zerg': 'darkviolet'\n",
    "    }\n",
    "\n",
    "#### Pandas options\n",
    "# these are set to allow better exploration of the large dataframes in this \n",
    "# notebook\n",
    "pd.options.display.max_rows = 200\n",
    "pd.options.display.max_columns = 200\n",
    "\n",
    "#IPython\n",
    "from IPython.display import display\n",
    "%load_ext autoreload"
   ]
  },
  {
   "cell_type": "markdown",
   "metadata": {},
   "source": [
    "## Section 2: Modeling with RNN\n",
    "\n",
    "In this section we will build and train an RNN model to predict the outcome of the game. Initial modeling attempts will use the first 5 minutes of every game, later attempts will use the entirety of each game, but this will involve longer training times, both because there will be more data needed (we will likely need to re-aggregate the data to larger windows) and because we will need to train the model one game at a time, increasing the run time significantly.\n",
    "\n",
    "### 2.1 Extracting the datasets\n",
    "\n",
    "Two methods are included to extract the dataset:\n",
    "1. Extract the data directly from the cleaned SpawningTool event data. This will take the longest, but allows freedom for choosing how we set up the data (i.e. size of the train, validation and test sets; and how many minutes of data we use for each game). Once data are extracted we save them to `.npy` (numpy files) files for later use.\n",
    "2. Use existing `.npy` files to extract the data. This will be faster, but requires that the data have already been extracted.\n",
    "\n",
    "#### 2.1.1 Extracting the data directly from the cleaned SpawningTool event data\n",
    "The code below can be uncommented to be extract data directly from the cleaned SpawningTool event data. The methodology is as follows:\n",
    "1. Read filehashes from SpawningTool Metadata.\n",
    "2. Remove the filehashes of games that we are not interested in based on `game_length` or any other criterion in the Metadata.\n",
    "3. Load dataframes of each games event data into a dictionary, indexed by the filehash.\n",
    "4. Split the keys up into train, validation and test sets. If required we can use stratify on any criteria in the Metadata to ensure that the train, validation and test sets are balanced.\n",
    "5. Create 3D tensors of the data:\n",
    "    * First make sure each dataframe contains the same columns (fill in missing columns with zeros) in the same order.\n",
    "    * Convert to 3D arrays of shape (Number of Games, Number of Events, Number of Features).\n",
    "    * Save to `.npy` files.\n",
    "6. Create 3D tensors of the target:\n",
    "    * 1 target for each game with a value of 1 if player 1 wins, and 0 if player 2 wins.\n",
    "    * Convert to 3D arrays of shape (Number of Games, 1, 1). The last two dimensions are 1 because there is only one target at one time for each game.\n",
    "    * Save to `.npy` files.\n"
   ]
  },
  {
   "cell_type": "code",
   "execution_count": 2,
   "metadata": {},
   "outputs": [],
   "source": [
    "# # read in the data using os.walk, read into a dict keyed by filehash\n",
    "# # create empty dict for the dataframes\n",
    "# df_dict = {}\n",
    "# for root, dirs, files in os.walk('data/clean_events'):\n",
    "#     for file in files:\n",
    "#         if file.endswith('.zip'):\n",
    "#             filehash = file.split('/')[-1].split('.')[0]\n",
    "#             df_dict[filehash] = pd.read_pickle(os.path.join(root, file))\n",
    "\n",
    "# len(df_dict)"
   ]
  },
  {
   "cell_type": "code",
   "execution_count": 3,
   "metadata": {},
   "outputs": [],
   "source": [
    "# # filter out dataframes by length\n",
    "# min_frames = 5 * 60 * 22.4  # 5 minutes at 22.4 frames per second\n",
    "# max_frames = 45 * 60 * 22.4 # 45 minutes at 22.4 frames per second\n",
    "\n",
    "# list_dict_keys = list(df_dict.keys())\n",
    "\n",
    "# # loop through df_dict and remove dataframes that are too short or too long\n",
    "# for i, filehash in enumerate(list_dict_keys):\n",
    "#     df = df_dict[filehash]\n",
    "#     max_df_frames = df.index.max()\n",
    "#     if min_frames <= max_df_frames <= max_frames:\n",
    "#         pass\n",
    "#     else:\n",
    "#         print(f'Removing {filehash} for length')\n",
    "#         del df_dict[filehash]\n",
    "#         continue\n",
    "\n",
    "#     # check that df has no nans\n",
    "#     if df.isnull().values.any():\n",
    "#         print(f'Removing {filehash} for nans')\n",
    "#         del df_dict[filehash]\n",
    "#         continue\n",
    "\n",
    "# len(df_dict)"
   ]
  },
  {
   "cell_type": "code",
   "execution_count": 4,
   "metadata": {},
   "outputs": [],
   "source": [
    "# list_dict_keys = list(df_dict.keys())\n",
    "\n",
    "# # set random seed for reproducibility\n",
    "# np.random.seed(42)\n",
    "\n",
    "# dict_keys = np.random.choice(list_dict_keys, size=1000, replace=False)\n",
    "# df_dict = {k: df_dict[k] for k in dict_keys}\n",
    "\n",
    "# # split the data into train val and test\n",
    "# # randomly sample df_dict keys to create train, val and test\n",
    "# train_keys = np.random.choice(\n",
    "#     list(df_dict.keys()),\n",
    "#     size=int(len(df_dict) * 0.8), \n",
    "#     replace=False\n",
    "# )\n",
    "# # split the train keys into train and val\n",
    "# val_keys = np.random.choice(\n",
    "#     train_keys, \n",
    "#     size=int(len(train_keys) * 0.3),\n",
    "#     replace=False\n",
    "# )\n",
    "# # train keys are train keys minus val keys\n",
    "# train_keys = np.setdiff1d(train_keys, val_keys)\n",
    "\n",
    "# # test keys are all keys minus train and val keys\n",
    "# test_keys = np.setdiff1d(\n",
    "#     list(df_dict.keys()), \n",
    "#     list(train_keys) + list(val_keys)\n",
    "# )\n",
    "\n",
    "# print('train keys:', len(train_keys))\n",
    "# print('val keys:', len(val_keys))\n",
    "# print('test keys:', len(test_keys))\n"
   ]
  },
  {
   "cell_type": "code",
   "execution_count": 5,
   "metadata": {},
   "outputs": [],
   "source": [
    "def convert_to_3d(list_of_df, window_size, num_features):\n",
    "    \"\"\"\n",
    "    List of dataframes to 3d numpy array\n",
    "    \"\"\"\n",
    "    # create empty array\n",
    "    # loop through the list of dataframes\n",
    "    # create a 2d numpy array of the dataframe\n",
    "    # append the 2d numpy array to the array\n",
    "         \n",
    "    # create empty array of form (num_batch, window_size, num_features)\n",
    "    arr = np.empty((len(list_of_df), window_size, num_features))\n",
    "    # loop through the list of dataframes\n",
    "    for i, df in enumerate(list_of_df):\n",
    "        # create a 2d numpy array of the dataframe\n",
    "        arr[i, :, :] = df.values[:window_size, :]\n",
    "\n",
    "    return arr"
   ]
  },
  {
   "cell_type": "code",
   "execution_count": 6,
   "metadata": {},
   "outputs": [],
   "source": [
    "def complete_columns(df, columns_list):\n",
    "    \"\"\"\n",
    "    Complete columns of dataframe with zeros\n",
    "    \"\"\"\n",
    "    \n",
    "    # create the new dataframe\n",
    "    new_df = df.copy()\n",
    "\n",
    "    # get all columns in columns_list that are not in df\n",
    "    new_columns = [col for col in columns_list if col not in df.columns]\n",
    "\n",
    "    # assign zeros to new columns\n",
    "    new_df[new_columns] = 0\n",
    "    \n",
    "    # arrange the columns to all have the same order and return\n",
    "    return new_df[columns_list].copy()\n"
   ]
  },
  {
   "cell_type": "code",
   "execution_count": 3,
   "metadata": {},
   "outputs": [],
   "source": [
    "def create_target_array(keys, lookup_df):\n",
    "    \"\"\"\n",
    "    Create game_winner from Metadata dataframe, 1 to 1, 2 to 0\n",
    "    \"\"\"\n",
    "    # create empty array\n",
    "    # loop through the keys\n",
    "    # append the target value to the array\n",
    "    arr = np.empty(len(keys))\n",
    "    for i, key in enumerate(keys):\n",
    "        # get row from lookup_df where key == filehash\n",
    "        game_result = lookup_df.loc[\n",
    "            lookup_df['filehash'] == key, \n",
    "            'game_winner'\n",
    "        ].values[0]\n",
    "        if game_result == 1:\n",
    "            arr[i] = 1\n",
    "        else:\n",
    "            arr[i] = 0\n",
    "\n",
    "    return arr.reshape(-1, 1, 1)"
   ]
  },
  {
   "cell_type": "code",
   "execution_count": 8,
   "metadata": {},
   "outputs": [
    {
     "data": {
      "text/plain": [
       "383"
      ]
     },
     "execution_count": 8,
     "metadata": {},
     "output_type": "execute_result"
    }
   ],
   "source": [
    "# get spawningtool_df\n",
    "spawningtool_df = pd.read_csv('data/spawningtool_replays.csv')\n",
    "# get dummies_list\n",
    "dummy_columns = pd.read_csv('info/dummies_list.csv', header=None)\n",
    "# get non_dummies_list\n",
    "non_dummy_columns = pd.read_csv('info/non_dummies_list.csv', header=None)\n",
    "# combine dummy and non_dummy columns into a list\n",
    "columns_list = dummy_columns[0].tolist() + non_dummy_columns[0].tolist()\n",
    "len(columns_list)"
   ]
  },
  {
   "cell_type": "code",
   "execution_count": 9,
   "metadata": {},
   "outputs": [],
   "source": [
    "# # create train labels\n",
    "# train_lables = create_target_array(train_keys, spawningtool_df)\n",
    "# # create train 3d\n",
    "# train_3d = convert_to_3d(\n",
    "#     [complete_columns(df_dict[key], columns_list) for key in train_keys],\n",
    "#     int(5 * 60 * 22.4/112),\n",
    "#     len(columns_list)\n",
    "# )    "
   ]
  },
  {
   "cell_type": "code",
   "execution_count": 10,
   "metadata": {},
   "outputs": [],
   "source": [
    "# # create val labels\n",
    "# val_lables = create_target_array(val_keys, spawningtool_df)\n",
    "# # create val 3d\n",
    "# val_3d = convert_to_3d(\n",
    "#     [complete_columns(df_dict[key], columns_list) for key in val_keys],\n",
    "#     int(5 * 60 * 22.4/112),\n",
    "#     len(columns_list)\n",
    "# )"
   ]
  },
  {
   "cell_type": "code",
   "execution_count": 11,
   "metadata": {},
   "outputs": [],
   "source": [
    "# # create test labels\n",
    "# test_lables = create_target_array(test_keys, spawningtool_df)\n",
    "# # create test 3d\n",
    "# test_3d = convert_to_3d(\n",
    "#     [complete_columns(df_dict[key], columns_list) for key in test_keys],\n",
    "#     int(5 * 60 * 22.4/112),\n",
    "#     len(columns_list)\n",
    "# )"
   ]
  },
  {
   "cell_type": "code",
   "execution_count": 12,
   "metadata": {},
   "outputs": [],
   "source": [
    "# # save the data to model/model001/\n",
    "# np.save('models/model001/train_3d.npy', train_3d)\n",
    "# np.save('models/model001/train_lables.npy', train_lables)\n",
    "# np.save('models/model001/val_3d.npy', val_3d)\n",
    "# np.save('models/model001/val_lables.npy', val_lables)\n",
    "# np.save('models/model001/test_3d.npy', test_3d)\n",
    "# np.save('models/model001/test_lables.npy', test_lables)"
   ]
  },
  {
   "cell_type": "markdown",
   "metadata": {},
   "source": [
    "#### 2.1.2 Extracting the data from existing `.npy` files\n",
    "Here we can simply use `np.load` to load all the datasets from `.npy` files."
   ]
  },
  {
   "cell_type": "code",
   "execution_count": 13,
   "metadata": {},
   "outputs": [],
   "source": [
    "# restore the data from model/model001/\n",
    "train_3d = np.load('models/model001/train_3d.npy')\n",
    "train_lables = np.load('models/model001/train_lables.npy')\n",
    "val_3d = np.load('models/model001/val_3d.npy')\n",
    "val_lables = np.load('models/model001/val_lables.npy')\n",
    "test_3d = np.load('models/model001/test_3d.npy')\n",
    "test_lables = np.load('models/model001/test_lables.npy')\n"
   ]
  },
  {
   "cell_type": "markdown",
   "metadata": {},
   "source": [
    "### 2.2 Simple RNN model\n",
    "Here we will train a simple RNN model with one layer of LSTM (long short term memory) cells. A default of 128 LSTM cells will be used, with BatchNormalization and Dropout layers added to avoid overfitting.\n",
    "\n",
    "A basic explanation of the model architecture can be found [here](https://www.tensorflow.org/tutorials/structured_data/time_series) but a summary is included below:\n",
    "* **LSTM**: LSTM is a type of recurrent neural network that is used to process time series and sequential data. It is different from a traditional neural network node in that it has feedback connections which allow it to learn patterns in the data. It was developed to be an improvement over traditional RNN, by dealing with the __[vanishing gradient problem](https://en.wikipedia.org/wiki/Vanishing_gradient_problem)__. The __[Wikipedia article](https://en.wikipedia.org/wiki/Long_short-term_memory)__ contain a nice summary of the LSTM use-cases and __[this](https://www.tensorflow.org/api_docs/python/tf/keras/layers/LSTM)__ contains more information on setup and training. The most important options are:\n",
    "    * `kernel_regularizer`: Regularization to avoid overfitting.\n",
    "    * `return_sequences`: If True, returns the full sequence instead of only the last output. This setting allows multiple LSTM layers to be stacked. The final LSTM layer should have this set to False.\n",
    "    * `return_state`: If True, returns the last state in addition to the output. This is useful for passing the state to the next layer, and may be implemented in further modeling attempts because we are interested in predicting the state of the game.\n",
    "* **BatchNormalization**: `BatchNormalization` is a technique to reduce the effect of the vanishing gradient problem by normalizing the input and output of the network.\n",
    "* **Dropout**: `Dropout` is a technique to reduce overfitting by randomly dropping units from the network. Dropout of 0.2 means 20% of the units will be dropped.\n",
    "\n",
    "The input shape of the model is (Number of Events, Number of Features) so that the model knows how to process the 3D tensor we are passing it.\n",
    "\n",
    "The final layer of the model will always be a `Dense` layer with a single node, and the activation function will be `sigmoid`. This is because we are trying to predict the probability of the game being won by player 1, and sigmoid is the function that returns this probability, similar to how Logistic Regression works.\n",
    "\n",
    "We use `binary_crossentropy` as the loss function as this is the standard loss function for binary classification problems. __(This post)[https://towardsdatascience.com/understanding-binary-cross-entropy-log-loss-a-visual-explanation-a3ac6025181a]__ contains an interesting exploration of binary crossentropy, but to summarize: It is a loss function that penalizes wrong predictions more the higher their probability is. In other words, if the model has 55% probability for one prediction and 80% for another, but both are wrong, the 80% probability prediction would be penalized more.\n"
   ]
  },
  {
   "cell_type": "code",
   "execution_count": 14,
   "metadata": {},
   "outputs": [
    {
     "name": "stdout",
     "output_type": "stream",
     "text": [
      "Shapes are (num_batch, window_size, num_features)\n",
      "train 3d - (18919, 60, 383)\n",
      "train labels - (18919, 1, 1)\n",
      "val 3d - (8107, 60, 383)\n",
      "val labels - (8107, 1, 1)\n",
      "test 3d - (6757, 60, 383)\n",
      "test labels - (6757, 1, 1)\n"
     ]
    }
   ],
   "source": [
    "print('Shapes are (num_batch, window_size, num_features)')\n",
    "print(f'train 3d - {train_3d.shape}')\n",
    "print(f'train labels - {train_lables.shape}')\n",
    "print(f'val 3d - {val_3d.shape}')\n",
    "print(f'val labels - {val_lables.shape}')\n",
    "print(f'test 3d - {test_3d.shape}')\n",
    "print(f'test labels - {test_lables.shape}')"
   ]
  },
  {
   "cell_type": "code",
   "execution_count": 15,
   "metadata": {},
   "outputs": [
    {
     "data": {
      "image/png": "[encoded data removed]",
      "text/plain": [
       "<Figure size 1296x576 with 1 Axes>"
      ]
     },
     "metadata": {
      "needs_background": "light"
     },
     "output_type": "display_data"
    }
   ],
   "source": [
    "# plot hist of train_lables\n",
    "plt.figure()\n",
    "plt.hist(train_lables.reshape(-1, 1), bins=2)\n",
    "plt.title('Train Labels')\n",
    "plt.xlabel('Game Winner')\n",
    "plt.ylabel('Frequency')\n",
    "plt.show()"
   ]
  },
  {
   "cell_type": "markdown",
   "metadata": {},
   "source": [
    "Our data is well balanced, with similar numbers of wins and losses for each player."
   ]
  },
  {
   "cell_type": "code",
   "execution_count": 16,
   "metadata": {},
   "outputs": [],
   "source": [
    "# scale the data using standard scaler\n",
    "scaler = StandardScaler()\n",
    "\n",
    "# reshape each array to 2d for scaling and then reshape back to original shape\n",
    "train_3d_scaled = scaler.fit_transform(\n",
    "    train_3d.reshape(-1, train_3d.shape[-1])\n",
    ").reshape(train_3d.shape)\n",
    "\n",
    "val_3d_scaled = scaler.transform(\n",
    "    val_3d.reshape(-1, val_3d.shape[-1])\n",
    ").reshape(val_3d.shape)\n",
    "\n",
    "test_3d_scaled = scaler.transform(\n",
    "    test_3d.reshape(-1, test_3d.shape[-1])\n",
    ").reshape(test_3d.shape)\n"
   ]
  },
  {
   "cell_type": "code",
   "execution_count": 17,
   "metadata": {},
   "outputs": [],
   "source": [
    "# instantiate RNN model\n",
    "model = Sequential()\n",
    "\n",
    "# add LSTM layer\n",
    "model.add(GRU(\n",
    "    units=128,\n",
    "    input_shape=(train_3d.shape[1], train_3d.shape[2]),\n",
    "    return_sequences=False\n",
    "))\n",
    "model.add(BatchNormalization())\n",
    "model.add(Dropout(0.2))\n",
    "\n",
    "# add dense layer\n",
    "model.add(Dense(\n",
    "    1, \n",
    "    activation='sigmoid', \n",
    "    kernel_regularizer=keras.regularizers.l1(0.01)\n",
    "))\n"
   ]
  },
  {
   "cell_type": "code",
   "execution_count": 18,
   "metadata": {},
   "outputs": [],
   "source": [
    "# compile model using binary crossentropy loss and adam optimizer\n",
    "model.compile(\n",
    "    loss='binary_crossentropy',\n",
    "    optimizer=Adam(learning_rate=0.001),\n",
    "    metrics=['accuracy']\n",
    ")"
   ]
  },
  {
   "cell_type": "code",
   "execution_count": 19,
   "metadata": {},
   "outputs": [],
   "source": [
    "# length=18919 # set this to the number of training images\n",
    "# b_max=1024 # maximum batch size you will allow based on memory capacity\n",
    "# batch_size=sorted([int(length/n) for n in range(1,length+1) if length % n ==0 and length/n<=b_max],reverse=True)[0]  \n",
    "# steps=int(length/batch_size)\n",
    "# print(f'batch_size: {batch_size}')\n",
    "# print(f'steps: {steps}')\n"
   ]
  },
  {
   "cell_type": "code",
   "execution_count": 20,
   "metadata": {},
   "outputs": [],
   "source": [
    "# create a callback which stops training when no improvement is being made\n",
    "earlystop = keras.callbacks.EarlyStopping(\n",
    "    monitor='val_loss', # monitor validation loss to prevent overfitting\n",
    "    patience=3, # stop after 3 epochs without improvement\n",
    "    verbose=1,  # print a message when the callback is triggered\n",
    "    mode='auto' # keras infers if the monitored variable should be increasing or decreasing\n",
    ")\n",
    "\n"
   ]
  },
  {
   "cell_type": "code",
   "execution_count": 21,
   "metadata": {},
   "outputs": [
    {
     "name": "stdout",
     "output_type": "stream",
     "text": [
      "Epoch 1/100\n",
      "145/145 [==============================] - 5s 15ms/step - loss: 0.8138 - accuracy: 0.6094 - val_loss: 0.7221 - val_accuracy: 0.6441\n",
      "Epoch 2/100\n",
      "145/145 [==============================] - 2s 11ms/step - loss: 0.7053 - accuracy: 0.6448 - val_loss: 0.6833 - val_accuracy: 0.6471\n",
      "Epoch 3/100\n",
      "145/145 [==============================] - 2s 11ms/step - loss: 0.6572 - accuracy: 0.6575 - val_loss: 0.6410 - val_accuracy: 0.6647\n",
      "Epoch 4/100\n",
      "145/145 [==============================] - 2s 11ms/step - loss: 0.6301 - accuracy: 0.6680 - val_loss: 0.6294 - val_accuracy: 0.6586\n",
      "Epoch 5/100\n",
      "145/145 [==============================] - 2s 11ms/step - loss: 0.6173 - accuracy: 0.6699 - val_loss: 0.6187 - val_accuracy: 0.6692\n",
      "Epoch 6/100\n",
      "145/145 [==============================] - 2s 11ms/step - loss: 0.6096 - accuracy: 0.6758 - val_loss: 0.6499 - val_accuracy: 0.6361\n",
      "Epoch 7/100\n",
      "145/145 [==============================] - 2s 11ms/step - loss: 0.6060 - accuracy: 0.6784 - val_loss: 0.6247 - val_accuracy: 0.6560\n",
      "Epoch 8/100\n",
      "145/145 [==============================] - 2s 11ms/step - loss: 0.5954 - accuracy: 0.6871 - val_loss: 0.6122 - val_accuracy: 0.6752\n",
      "Epoch 9/100\n",
      "145/145 [==============================] - 2s 11ms/step - loss: 0.5911 - accuracy: 0.6922 - val_loss: 0.6106 - val_accuracy: 0.6831\n",
      "Epoch 10/100\n",
      "145/145 [==============================] - 2s 11ms/step - loss: 0.5649 - accuracy: 0.7187 - val_loss: 0.6110 - val_accuracy: 0.6846\n",
      "Epoch 11/100\n",
      "145/145 [==============================] - 2s 11ms/step - loss: 0.5458 - accuracy: 0.7289 - val_loss: 0.6037 - val_accuracy: 0.6940\n",
      "Epoch 12/100\n",
      "145/145 [==============================] - 2s 11ms/step - loss: 0.5355 - accuracy: 0.7377 - val_loss: 0.5967 - val_accuracy: 0.6977\n",
      "Epoch 13/100\n",
      "145/145 [==============================] - 2s 11ms/step - loss: 0.5157 - accuracy: 0.7538 - val_loss: 0.6187 - val_accuracy: 0.6864\n",
      "Epoch 14/100\n",
      "145/145 [==============================] - 1s 10ms/step - loss: 0.5017 - accuracy: 0.7625 - val_loss: 0.6160 - val_accuracy: 0.6885\n",
      "Epoch 15/100\n",
      "145/145 [==============================] - 2s 11ms/step - loss: 0.4804 - accuracy: 0.7806 - val_loss: 0.6322 - val_accuracy: 0.6845\n",
      "Epoch 00015: early stopping\n"
     ]
    }
   ],
   "source": [
    "# batch size * steps per epoch ~number of games to get one batch of data per epoch\n",
    "\n",
    "# fit the model and save to history\n",
    "history = model.fit(\n",
    "    train_3d_scaled,\n",
    "    train_lables,\n",
    "    epochs=100,\n",
    "    batch_size=128,\n",
    "    steps_per_epoch=145,\n",
    "    validation_data=(val_3d_scaled, val_lables),\n",
    "    callbacks=[earlystop]\n",
    ")"
   ]
  },
  {
   "cell_type": "code",
   "execution_count": 81,
   "metadata": {},
   "outputs": [],
   "source": [
    "# # predict train data\n",
    "# train_pred = model.predict(train_3d_scaled) # returns probabilities\n",
    "# train_pred = np.where(train_pred > 0.5, 1, 0) # convert to binary using threshold\n",
    "\n",
    "# # predict val data\n",
    "# val_pred = model.predict(val_3d_scaled) # returns probabilities\n",
    "# val_pred = np.where(val_pred > 0.5, 1, 0) # convert to binary using threshold"
   ]
  },
  {
   "cell_type": "code",
   "execution_count": 82,
   "metadata": {},
   "outputs": [],
   "source": [
    "# # plot train and validation accuracy over epochs\n",
    "# plt.figure()\n",
    "# # multiply by 100 to get percentage\n",
    "# plt.plot([v*100 for v in history.history['accuracy']])\n",
    "# plt.plot([v*100 for v in history.history['val_accuracy']])\n",
    "# plt.title('Model accuracy', style='italic')\n",
    "# plt.ylabel('Accuracy (%)')\n",
    "# plt.xlabel('Epoch')\n",
    "# plt.legend(['Train', 'Validation'], loc='upper left')\n",
    "# # make x-ticks every integer\n",
    "# plt.xticks(np.arange(0, len(history.history['accuracy'])))\n",
    "# # make x-axis start at 0\n",
    "# plt.gca().set_xlim(0, len(history.history['accuracy']))\n",
    "# plt.grid(linestyle='--')\n",
    "# plt.show()\n"
   ]
  },
  {
   "cell_type": "markdown",
   "metadata": {},
   "source": [
    "Our model performs decently on its first run. Around epoch 6 we begin to see significant deviation between validation and training accuracy, this is the point at which we are beginning to overfit, which results in early stopping being triggered. To further explore the model outputs we will use the confusion matrix and precision and recall scores to evaluate the model.\n",
    "* __[Precision Score](https://scikit-learn.org/stable/modules/generated/sklearn.metrics.precision_score.html)__: True positives divided by total true and false positives. This is a measure of how often the model was correct in labeling a prediction as 0. In our case this is a measure of how sure the model is that Player 2 did not win.\n",
    "* __[Recall Score](https://scikit-learn.org/stable/modules/generated/sklearn.metrics.recall_score.html?highlight=recall%20score#sklearn.metrics.recall_score)__: True positives divided by total true and false negatives. This is a measure of how often the model was correct in labeling a prediction as 1. In our case this is a measure of how sure the model is that Player 1 did win."
   ]
  },
  {
   "cell_type": "code",
   "execution_count": 22,
   "metadata": {},
   "outputs": [],
   "source": [
    "# function to display the confusion matrix in a nice format\n",
    "def display_confusion_matrix(\n",
    "    y_true,\n",
    "    y_pred,\n",
    "    class_names\n",
    "):\n",
    "    \"\"\"\n",
    "    display_confusion_matrix\n",
    "    Display a confusion matrix created by the sklearn module as a formatted pandas dataframe with styled background and class labels.\n",
    "\n",
    "    Args:\n",
    "        y_true (array): the true labels\n",
    "        y_pred (array): the predicted labels\n",
    "        class_names (array): the names of the classes\n",
    "        figsize (tuple): the size of the figure\n",
    "        fontsize (int): the font size of the labels\n",
    "    Returns:\n",
    "        None\n",
    "    \"\"\"    \n",
    "\n",
    "    # get the confusion matrix using sklearn\n",
    "    cm = confusion_matrix(y_true, y_pred)\n",
    "\n",
    "    # create a pandas dataframe from the confusion matrix\n",
    "    df_cm = pd.DataFrame(\n",
    "        cm, \n",
    "        index=['true - ' + v for v in class_names], \n",
    "        columns=['predicted - ' + v for v in class_names]\n",
    "    )\n",
    "\n",
    "    display(df_cm.style.background_gradient())"
   ]
  },
  {
   "cell_type": "code",
   "execution_count": 23,
   "metadata": {},
   "outputs": [],
   "source": [
    "# display_confusion_matrix(\n",
    "#     val_lables.reshape(-1, 1), \n",
    "#     val_pred.reshape(-1, 1),\n",
    "#     ['Player1 Win', 'Player2 Win']    \n",
    "# )\n",
    "\n",
    "# print('Precision Score: {}%'.format(\n",
    "#     round(\n",
    "#         precision_score(\n",
    "#             val_lables.reshape(-1, 1), \n",
    "#             val_pred.reshape(-1, 1)\n",
    "#         )*100, 2\n",
    "#     )\n",
    "# ))\n",
    "# print('Recall Score: {}%'.format(\n",
    "#     round(\n",
    "#         recall_score(\n",
    "#             val_lables.reshape(-1, 1),\n",
    "#             val_pred.reshape(-1, 1)\n",
    "#         )*100, 2\n",
    "#     )\n",
    "# ))"
   ]
  },
  {
   "cell_type": "markdown",
   "metadata": {},
   "source": [
    "### 2.3 Building a Grid Search\n",
    "\n",
    "To optimize the hyperparameters of the model, we could retry multiple times with different hyperparameters (such as number of LSTM cells, dropout rate, learning rate, etc) and then running the model on each of these hyperparameter combinations. This would take a long time, and we would have to manually reset the hyperparameters each time.\n",
    "\n",
    "However, Scikit-Learn has a built-in `GridSearchCV` class that can be used to do this for us. This class will automatically run the model with different hyperparameters and return the best model. In order to use GridSearchCV we will be following the guide outlined __[here](https://machinelearningmastery.com/grid-search-hyperparameters-deep-learning-models-python-keras/)__ (**Note**: The `KerasClassifier` used in this post has since been deprecated. `scikeras.wrappers.KerasClassifier` is used here instead). \n",
    "\n",
    "The basic outline of the process is:\n",
    "1. Define a `create_model()` function that returns a model which we can pass to `GridSearchCV`.\n",
    "2. Use the `KerasClassifier` class to create a `GridSearchCV` object with the `create_model()` function.\n",
    "3. Define a dictionary of hyperparameters over which we want to search.\n",
    "4. Run the `GridSearchCV` object.\n",
    "\n",
    "#### 2.3.1 Defining the model"
   ]
  },
  {
   "cell_type": "markdown",
   "metadata": {},
   "source": [
    "We have now created a function that returns the model. The function allows for the optimization of:\n",
    "* Number of nodes per layer.\n",
    "* Number of hidden layers.\n",
    "* Type of node (LSTM or GRU).\n",
    "* Dropout rate.\n",
    "* Learning rate.\n",
    "* Optimizer (Adam, RMSprop, or Adagrad).\n",
    "\n",
    "The function always adds a Dense layer, with a single node, and sigmoid activation, as this will this will always be the final output for the model.\n",
    "\n",
    "Now we can use KerasClassifier to create a GridSearchCV object."
   ]
  },
  {
   "cell_type": "code",
   "execution_count": 24,
   "metadata": {},
   "outputs": [],
   "source": [
    "def _make_lstm(model, nodes, dropout):\n",
    "    \"\"\"\n",
    "    _make_lstm\n",
    "    Create a LSTM model with the given parameters.\n",
    "\n",
    "    Args:\n",
    "        nodes (list, int): the number of nodes in each hidden layer\n",
    "        dropout (float): the dropout rate\n",
    "    \n",
    "    Returns:\n",
    "        model (keras.models.Sequential): the LSTM model\n",
    "    \"\"\"\n",
    "\n",
    "    for i, number_nodes in enumerate(nodes):\n",
    "        if i == 0:\n",
    "            model.add(LSTM(\n",
    "                number_nodes,\n",
    "                input_shape=(train_3d.shape[1], train_3d.shape[2]),\n",
    "                return_sequences=True\n",
    "            ))\n",
    "        elif i == len(nodes) - 1:\n",
    "            model.add(LSTM(\n",
    "                number_nodes,\n",
    "                return_sequences=False\n",
    "            ))\n",
    "        else:\n",
    "            model.add(LSTM(\n",
    "                number_nodes,\n",
    "                return_sequences=True\n",
    "            ))\n",
    "        model.add(BatchNormalization())\n",
    "        model.add(Dropout(dropout))\n",
    "\n",
    "    return model\n",
    "\n",
    "\n",
    "def _make_gru(model, nodes, dropout):\n",
    "    \"\"\"\n",
    "    _make_gru\n",
    "    Create a GRU model with the given parameters.\n",
    "\n",
    "    Args:\n",
    "        nodes (list, int): the number of nodes in each hidden layer\n",
    "        dropout (float): the dropout rate\n",
    "    \n",
    "    Returns:\n",
    "        model (keras.models.Sequential): the GRU model\n",
    "    \"\"\"\n",
    "\n",
    "    for i, number_nodes in enumerate(nodes):\n",
    "        if i == 0:\n",
    "            model.add(GRU(\n",
    "                number_nodes,\n",
    "                input_shape=(train_3d.shape[1], train_3d.shape[2]),\n",
    "                return_sequences=True\n",
    "            ))\n",
    "        elif i == len(nodes) - 1:\n",
    "            model.add(GRU(\n",
    "                number_nodes,\n",
    "                return_sequences=False\n",
    "            ))\n",
    "        else:\n",
    "            model.add(GRU(\n",
    "                number_nodes,\n",
    "                return_sequences=True\n",
    "            ))\n",
    "        model.add(BatchNormalization())\n",
    "        model.add(Dropout(dropout))\n",
    "\n",
    "    return model\n",
    "\n",
    "\n",
    "def get_model(\n",
    "    nodes,\n",
    "    learning_rate,\n",
    "    dropout_rate,\n",
    "    node_type\n",
    "):\n",
    "\n",
    "    # model = Sequential()\n",
    "    # model.add(LSTM(\n",
    "    #     units=128,\n",
    "    #     input_shape=(train_3d.shape[1], train_3d.shape[2]),\n",
    "    #     return_sequences=False\n",
    "    # ))\n",
    "    # model.add(BatchNormalization())\n",
    "    # model.add(Dropout(dropout_rate))\n",
    "\n",
    "    if node_type == 'lstm':\n",
    "        model = _make_lstm(\n",
    "            model=Sequential(),\n",
    "            nodes=nodes,\n",
    "            dropout=dropout_rate\n",
    "        )\n",
    "    elif node_type == 'gru':\n",
    "        model = _make_gru(\n",
    "            model=Sequential(),\n",
    "            nodes=nodes,\n",
    "            dropout=dropout_rate\n",
    "        )\n",
    "    else:\n",
    "        raise(ValueError('Node type not recognized'))\n",
    "\n",
    "    model.add(Dense(1, activation='sigmoid'))\n",
    "    model.compile(\n",
    "        loss='binary_crossentropy',\n",
    "        optimizer=Adam(learning_rate=learning_rate),\n",
    "        metrics=['accuracy']\n",
    "    )\n",
    "    return model\n"
   ]
  },
  {
   "cell_type": "code",
   "execution_count": 25,
   "metadata": {},
   "outputs": [
    {
     "name": "stderr",
     "output_type": "stream",
     "text": [
      "WARNING:absl:Found untraced functions such as gru_cell_layer_call_fn, gru_cell_layer_call_and_return_conditional_losses, gru_cell_layer_call_fn, gru_cell_layer_call_and_return_conditional_losses, gru_cell_layer_call_and_return_conditional_losses while saving (showing 5 of 5). These functions will not be directly callable after loading.\n"
     ]
    },
    {
     "name": "stdout",
     "output_type": "stream",
     "text": [
      "INFO:tensorflow:Assets written to: C:\\Users\\jared\\AppData\\Local\\Temp\\tmphse_z2ms\\assets\n"
     ]
    },
    {
     "name": "stderr",
     "output_type": "stream",
     "text": [
      "INFO:tensorflow:Assets written to: C:\\Users\\jared\\AppData\\Local\\Temp\\tmphse_z2ms\\assets\n",
      "WARNING:absl:<keras.layers.recurrent.GRUCell object at 0x0000017B13C62820> has the same name 'GRUCell' as a built-in Keras object. Consider renaming <class 'keras.layers.recurrent.GRUCell'> to avoid naming conflicts when loading with `tf.keras.models.load_model`. If renaming is not possible, pass the object in the `custom_objects` parameter of the load function.\n"
     ]
    },
    {
     "name": "stdout",
     "output_type": "stream",
     "text": [
      "Fitting 3 folds for each of 72 candidates, totalling 216 fits\n"
     ]
    },
    {
     "name": "stderr",
     "output_type": "stream",
     "text": [
      "WARNING:absl:Found untraced functions such as gru_cell_1_layer_call_fn, gru_cell_1_layer_call_and_return_conditional_losses, gru_cell_1_layer_call_fn, gru_cell_1_layer_call_and_return_conditional_losses, gru_cell_1_layer_call_and_return_conditional_losses while saving (showing 5 of 5). These functions will not be directly callable after loading.\n"
     ]
    },
    {
     "name": "stdout",
     "output_type": "stream",
     "text": [
      "INFO:tensorflow:Assets written to: C:\\Users\\jared\\AppData\\Local\\Temp\\tmp8m6vqndp\\assets\n"
     ]
    },
    {
     "name": "stderr",
     "output_type": "stream",
     "text": [
      "INFO:tensorflow:Assets written to: C:\\Users\\jared\\AppData\\Local\\Temp\\tmp8m6vqndp\\assets\n",
      "WARNING:absl:<keras.layers.recurrent.GRUCell object at 0x0000017E0BBDADF0> has the same name 'GRUCell' as a built-in Keras object. Consider renaming <class 'keras.layers.recurrent.GRUCell'> to avoid naming conflicts when loading with `tf.keras.models.load_model`. If renaming is not possible, pass the object in the `custom_objects` parameter of the load function.\n",
      "C:\\Users\\jared\\anaconda3\\envs\\tflow\\lib\\site-packages\\scikeras\\wrappers.py:289: UserWarning: ``build_fn`` will be renamed to ``model`` in a future release, at which point use of ``build_fn`` will raise an Error instead.\n",
      "  warnings.warn(\n"
     ]
    },
    {
     "name": "stdout",
     "output_type": "stream",
     "text": [
      "Epoch 1/20\n",
      "99/99 [==============================] - 3s 22ms/step - loss: 0.7188 - accuracy: 0.5317 - val_loss: 0.6790 - val_accuracy: 0.5570\n",
      "Epoch 2/20\n",
      "99/99 [==============================] - 1s 12ms/step - loss: 0.6879 - accuracy: 0.5506 - val_loss: 0.6729 - val_accuracy: 0.5659\n",
      "Epoch 3/20\n",
      "99/99 [==============================] - 1s 12ms/step - loss: 0.6787 - accuracy: 0.5606 - val_loss: 0.6693 - val_accuracy: 0.5741\n",
      "Epoch 4/20\n",
      "99/99 [==============================] - 1s 12ms/step - loss: 0.6730 - accuracy: 0.5657 - val_loss: 0.6678 - val_accuracy: 0.5773\n",
      "Epoch 5/20\n",
      "99/99 [==============================] - 1s 12ms/step - loss: 0.6686 - accuracy: 0.5701 - val_loss: 0.6661 - val_accuracy: 0.5784\n",
      "Epoch 6/20\n",
      "99/99 [==============================] - 1s 12ms/step - loss: 0.6640 - accuracy: 0.5748 - val_loss: 0.6657 - val_accuracy: 0.5808\n",
      "Epoch 7/20\n",
      "99/99 [==============================] - 1s 12ms/step - loss: 0.6605 - accuracy: 0.5775 - val_loss: 0.6724 - val_accuracy: 0.5662\n",
      "Epoch 8/20\n",
      "99/99 [==============================] - 1s 12ms/step - loss: 0.6572 - accuracy: 0.5810 - val_loss: 0.6671 - val_accuracy: 0.5801\n",
      "Epoch 9/20\n",
      "99/99 [==============================] - 1s 12ms/step - loss: 0.6552 - accuracy: 0.5839 - val_loss: 0.6696 - val_accuracy: 0.5769\n",
      "Epoch 00009: early stopping\n",
      "50/50 [==============================] - 0s 4ms/step\n",
      "[CV 1/3] END dropout_rate=0.1, learning_rate=0.001, node_type=lstm, nodes=[128];, score=nan total time=  15.0s\n"
     ]
    },
    {
     "name": "stderr",
     "output_type": "stream",
     "text": [
      "C:\\Users\\jared\\anaconda3\\envs\\tflow\\lib\\site-packages\\sklearn\\model_selection\\_validation.py:771: UserWarning: Scoring failed. The score on this train-test partition for these parameters will be set to nan. Details: \n",
      "Traceback (most recent call last):\n",
      "  File \"C:\\Users\\jared\\anaconda3\\envs\\tflow\\lib\\site-packages\\sklearn\\model_selection\\_validation.py\", line 762, in _score\n",
      "    scores = scorer(estimator, X_test, y_test)\n",
      "  File \"C:\\Users\\jared\\anaconda3\\envs\\tflow\\lib\\site-packages\\sklearn\\metrics\\_scorer.py\", line 216, in __call__\n",
      "    return self._score(\n",
      "  File \"C:\\Users\\jared\\anaconda3\\envs\\tflow\\lib\\site-packages\\sklearn\\metrics\\_scorer.py\", line 258, in _score\n",
      "    y_pred = method_caller(estimator, \"predict\", X)\n",
      "  File \"C:\\Users\\jared\\anaconda3\\envs\\tflow\\lib\\site-packages\\sklearn\\metrics\\_scorer.py\", line 68, in _cached_call\n",
      "    return getattr(estimator, method)(*args, **kwargs)\n",
      "  File \"C:\\Users\\jared\\anaconda3\\envs\\tflow\\lib\\site-packages\\scikeras\\wrappers.py\", line 1013, in predict\n",
      "    y_pred = self.target_encoder_.inverse_transform(y_pred)\n",
      "  File \"C:\\Users\\jared\\anaconda3\\envs\\tflow\\lib\\site-packages\\scikeras\\utils\\transformers.py\", line 257, in inverse_transform\n",
      "    class_predictions = self._final_encoder.inverse_transform(class_predictions)\n",
      "  File \"C:\\Users\\jared\\anaconda3\\envs\\tflow\\lib\\site-packages\\sklearn\\utils\\metaestimators.py\", line 113, in <lambda>\n",
      "    out = lambda *args, **kwargs: self.fn(obj, *args, **kwargs)  # noqa\n",
      "  File \"C:\\Users\\jared\\anaconda3\\envs\\tflow\\lib\\site-packages\\sklearn\\pipeline.py\", line 675, in inverse_transform\n",
      "    Xt = transform.inverse_transform(Xt)\n",
      "  File \"C:\\Users\\jared\\anaconda3\\envs\\tflow\\lib\\site-packages\\sklearn\\preprocessing\\_encoders.py\", line 990, in inverse_transform\n",
      "    X_tr[:, i] = self.categories_[i][labels]\n",
      "IndexError: index 37 is out of bounds for axis 0 with size 2\n",
      "\n",
      "  warnings.warn(\n",
      "WARNING:absl:Found untraced functions such as gru_cell_1_layer_call_fn, gru_cell_1_layer_call_and_return_conditional_losses, gru_cell_1_layer_call_fn, gru_cell_1_layer_call_and_return_conditional_losses, gru_cell_1_layer_call_and_return_conditional_losses while saving (showing 5 of 5). These functions will not be directly callable after loading.\n"
     ]
    },
    {
     "name": "stdout",
     "output_type": "stream",
     "text": [
      "INFO:tensorflow:Assets written to: C:\\Users\\jared\\AppData\\Local\\Temp\\tmpklhoyfh6\\assets\n"
     ]
    },
    {
     "name": "stderr",
     "output_type": "stream",
     "text": [
      "INFO:tensorflow:Assets written to: C:\\Users\\jared\\AppData\\Local\\Temp\\tmpklhoyfh6\\assets\n",
      "WARNING:absl:<keras.layers.recurrent.GRUCell object at 0x0000017E0BBDADF0> has the same name 'GRUCell' as a built-in Keras object. Consider renaming <class 'keras.layers.recurrent.GRUCell'> to avoid naming conflicts when loading with `tf.keras.models.load_model`. If renaming is not possible, pass the object in the `custom_objects` parameter of the load function.\n",
      "C:\\Users\\jared\\anaconda3\\envs\\tflow\\lib\\site-packages\\scikeras\\wrappers.py:289: UserWarning: ``build_fn`` will be renamed to ``model`` in a future release, at which point use of ``build_fn`` will raise an Error instead.\n",
      "  warnings.warn(\n"
     ]
    },
    {
     "name": "stdout",
     "output_type": "stream",
     "text": [
      "Epoch 1/20\n",
      "99/99 [==============================] - 3s 18ms/step - loss: 0.7084 - accuracy: 0.5366 - val_loss: 0.6789 - val_accuracy: 0.5527\n",
      "Epoch 2/20\n",
      "99/99 [==============================] - 1s 12ms/step - loss: 0.6842 - accuracy: 0.5558 - val_loss: 0.6740 - val_accuracy: 0.5663\n",
      "Epoch 3/20\n",
      "99/99 [==============================] - 1s 12ms/step - loss: 0.6755 - accuracy: 0.5636 - val_loss: 0.6694 - val_accuracy: 0.5697\n",
      "Epoch 4/20\n",
      "99/99 [==============================] - 1s 12ms/step - loss: 0.6692 - accuracy: 0.5703 - val_loss: 0.6727 - val_accuracy: 0.5670\n",
      "Epoch 5/20\n",
      "99/99 [==============================] - 1s 12ms/step - loss: 0.6660 - accuracy: 0.5738 - val_loss: 0.6649 - val_accuracy: 0.5752\n",
      "Epoch 6/20\n",
      "99/99 [==============================] - 1s 12ms/step - loss: 0.6620 - accuracy: 0.5775 - val_loss: 0.6661 - val_accuracy: 0.5735\n",
      "Epoch 7/20\n",
      "99/99 [==============================] - 1s 12ms/step - loss: 0.6589 - accuracy: 0.5793 - val_loss: 0.6661 - val_accuracy: 0.5759\n",
      "Epoch 8/20\n",
      "99/99 [==============================] - 1s 12ms/step - loss: 0.6549 - accuracy: 0.5856 - val_loss: 0.6662 - val_accuracy: 0.5777\n",
      "Epoch 00008: early stopping\n",
      "50/50 [==============================] - 0s 4ms/step\n",
      "[CV 2/3] END dropout_rate=0.1, learning_rate=0.001, node_type=lstm, nodes=[128];, score=nan total time=  13.3s\n"
     ]
    },
    {
     "name": "stderr",
     "output_type": "stream",
     "text": [
      "C:\\Users\\jared\\anaconda3\\envs\\tflow\\lib\\site-packages\\sklearn\\model_selection\\_validation.py:771: UserWarning: Scoring failed. The score on this train-test partition for these parameters will be set to nan. Details: \n",
      "Traceback (most recent call last):\n",
      "  File \"C:\\Users\\jared\\anaconda3\\envs\\tflow\\lib\\site-packages\\sklearn\\model_selection\\_validation.py\", line 762, in _score\n",
      "    scores = scorer(estimator, X_test, y_test)\n",
      "  File \"C:\\Users\\jared\\anaconda3\\envs\\tflow\\lib\\site-packages\\sklearn\\metrics\\_scorer.py\", line 216, in __call__\n",
      "    return self._score(\n",
      "  File \"C:\\Users\\jared\\anaconda3\\envs\\tflow\\lib\\site-packages\\sklearn\\metrics\\_scorer.py\", line 258, in _score\n",
      "    y_pred = method_caller(estimator, \"predict\", X)\n",
      "  File \"C:\\Users\\jared\\anaconda3\\envs\\tflow\\lib\\site-packages\\sklearn\\metrics\\_scorer.py\", line 68, in _cached_call\n",
      "    return getattr(estimator, method)(*args, **kwargs)\n",
      "  File \"C:\\Users\\jared\\anaconda3\\envs\\tflow\\lib\\site-packages\\scikeras\\wrappers.py\", line 1013, in predict\n",
      "    y_pred = self.target_encoder_.inverse_transform(y_pred)\n",
      "  File \"C:\\Users\\jared\\anaconda3\\envs\\tflow\\lib\\site-packages\\scikeras\\utils\\transformers.py\", line 257, in inverse_transform\n",
      "    class_predictions = self._final_encoder.inverse_transform(class_predictions)\n",
      "  File \"C:\\Users\\jared\\anaconda3\\envs\\tflow\\lib\\site-packages\\sklearn\\utils\\metaestimators.py\", line 113, in <lambda>\n",
      "    out = lambda *args, **kwargs: self.fn(obj, *args, **kwargs)  # noqa\n",
      "  File \"C:\\Users\\jared\\anaconda3\\envs\\tflow\\lib\\site-packages\\sklearn\\pipeline.py\", line 675, in inverse_transform\n",
      "    Xt = transform.inverse_transform(Xt)\n",
      "  File \"C:\\Users\\jared\\anaconda3\\envs\\tflow\\lib\\site-packages\\sklearn\\preprocessing\\_encoders.py\", line 990, in inverse_transform\n",
      "    X_tr[:, i] = self.categories_[i][labels]\n",
      "IndexError: index 57 is out of bounds for axis 0 with size 2\n",
      "\n",
      "  warnings.warn(\n",
      "WARNING:absl:Found untraced functions such as gru_cell_1_layer_call_fn, gru_cell_1_layer_call_and_return_conditional_losses, gru_cell_1_layer_call_fn, gru_cell_1_layer_call_and_return_conditional_losses, gru_cell_1_layer_call_and_return_conditional_losses while saving (showing 5 of 5). These functions will not be directly callable after loading.\n"
     ]
    },
    {
     "name": "stdout",
     "output_type": "stream",
     "text": [
      "INFO:tensorflow:Assets written to: C:\\Users\\jared\\AppData\\Local\\Temp\\tmpannjeaiy\\assets\n"
     ]
    },
    {
     "name": "stderr",
     "output_type": "stream",
     "text": [
      "INFO:tensorflow:Assets written to: C:\\Users\\jared\\AppData\\Local\\Temp\\tmpannjeaiy\\assets\n",
      "WARNING:absl:<keras.layers.recurrent.GRUCell object at 0x0000017E0BBDADF0> has the same name 'GRUCell' as a built-in Keras object. Consider renaming <class 'keras.layers.recurrent.GRUCell'> to avoid naming conflicts when loading with `tf.keras.models.load_model`. If renaming is not possible, pass the object in the `custom_objects` parameter of the load function.\n",
      "C:\\Users\\jared\\anaconda3\\envs\\tflow\\lib\\site-packages\\scikeras\\wrappers.py:289: UserWarning: ``build_fn`` will be renamed to ``model`` in a future release, at which point use of ``build_fn`` will raise an Error instead.\n",
      "  warnings.warn(\n"
     ]
    },
    {
     "name": "stdout",
     "output_type": "stream",
     "text": [
      "Epoch 1/20\n",
      "99/99 [==============================] - 3s 18ms/step - loss: 0.7168 - accuracy: 0.5337 - val_loss: 0.6814 - val_accuracy: 0.5546\n",
      "Epoch 2/20\n",
      "99/99 [==============================] - 1s 12ms/step - loss: 0.6858 - accuracy: 0.5554 - val_loss: 0.6716 - val_accuracy: 0.5736\n",
      "Epoch 3/20\n",
      "99/99 [==============================] - 1s 12ms/step - loss: 0.6777 - accuracy: 0.5632 - val_loss: 0.6680 - val_accuracy: 0.5745\n",
      "Epoch 4/20\n",
      "99/99 [==============================] - 1s 12ms/step - loss: 0.6717 - accuracy: 0.5675 - val_loss: 0.6649 - val_accuracy: 0.5784\n",
      "Epoch 5/20\n",
      "99/99 [==============================] - 1s 12ms/step - loss: 0.6670 - accuracy: 0.5729 - val_loss: 0.6649 - val_accuracy: 0.5815\n",
      "Epoch 6/20\n",
      "99/99 [==============================] - 1s 12ms/step - loss: 0.6619 - accuracy: 0.5787 - val_loss: 0.6638 - val_accuracy: 0.5804\n",
      "Epoch 7/20\n",
      "99/99 [==============================] - 1s 12ms/step - loss: 0.6593 - accuracy: 0.5816 - val_loss: 0.6652 - val_accuracy: 0.5792\n",
      "Epoch 8/20\n",
      "99/99 [==============================] - 1s 12ms/step - loss: 0.6565 - accuracy: 0.5848 - val_loss: 0.6669 - val_accuracy: 0.5698\n",
      "Epoch 9/20\n",
      "99/99 [==============================] - 1s 12ms/step - loss: 0.6535 - accuracy: 0.5864 - val_loss: 0.6656 - val_accuracy: 0.5839\n",
      "Epoch 00009: early stopping\n",
      "50/50 [==============================] - 0s 4ms/step\n",
      "[CV 3/3] END dropout_rate=0.1, learning_rate=0.001, node_type=lstm, nodes=[128];, score=nan total time=  14.8s\n"
     ]
    },
    {
     "name": "stderr",
     "output_type": "stream",
     "text": [
      "C:\\Users\\jared\\anaconda3\\envs\\tflow\\lib\\site-packages\\sklearn\\model_selection\\_validation.py:771: UserWarning: Scoring failed. The score on this train-test partition for these parameters will be set to nan. Details: \n",
      "Traceback (most recent call last):\n",
      "  File \"C:\\Users\\jared\\anaconda3\\envs\\tflow\\lib\\site-packages\\sklearn\\model_selection\\_validation.py\", line 762, in _score\n",
      "    scores = scorer(estimator, X_test, y_test)\n",
      "  File \"C:\\Users\\jared\\anaconda3\\envs\\tflow\\lib\\site-packages\\sklearn\\metrics\\_scorer.py\", line 216, in __call__\n",
      "    return self._score(\n",
      "  File \"C:\\Users\\jared\\anaconda3\\envs\\tflow\\lib\\site-packages\\sklearn\\metrics\\_scorer.py\", line 258, in _score\n",
      "    y_pred = method_caller(estimator, \"predict\", X)\n",
      "  File \"C:\\Users\\jared\\anaconda3\\envs\\tflow\\lib\\site-packages\\sklearn\\metrics\\_scorer.py\", line 68, in _cached_call\n",
      "    return getattr(estimator, method)(*args, **kwargs)\n",
      "  File \"C:\\Users\\jared\\anaconda3\\envs\\tflow\\lib\\site-packages\\scikeras\\wrappers.py\", line 1013, in predict\n",
      "    y_pred = self.target_encoder_.inverse_transform(y_pred)\n",
      "  File \"C:\\Users\\jared\\anaconda3\\envs\\tflow\\lib\\site-packages\\scikeras\\utils\\transformers.py\", line 257, in inverse_transform\n",
      "    class_predictions = self._final_encoder.inverse_transform(class_predictions)\n",
      "  File \"C:\\Users\\jared\\anaconda3\\envs\\tflow\\lib\\site-packages\\sklearn\\utils\\metaestimators.py\", line 113, in <lambda>\n",
      "    out = lambda *args, **kwargs: self.fn(obj, *args, **kwargs)  # noqa\n",
      "  File \"C:\\Users\\jared\\anaconda3\\envs\\tflow\\lib\\site-packages\\sklearn\\pipeline.py\", line 675, in inverse_transform\n",
      "    Xt = transform.inverse_transform(Xt)\n",
      "  File \"C:\\Users\\jared\\anaconda3\\envs\\tflow\\lib\\site-packages\\sklearn\\preprocessing\\_encoders.py\", line 990, in inverse_transform\n",
      "    X_tr[:, i] = self.categories_[i][labels]\n",
      "IndexError: index 59 is out of bounds for axis 0 with size 2\n",
      "\n",
      "  warnings.warn(\n",
      "WARNING:absl:Found untraced functions such as gru_cell_1_layer_call_fn, gru_cell_1_layer_call_and_return_conditional_losses, gru_cell_1_layer_call_fn, gru_cell_1_layer_call_and_return_conditional_losses, gru_cell_1_layer_call_and_return_conditional_losses while saving (showing 5 of 5). These functions will not be directly callable after loading.\n"
     ]
    },
    {
     "name": "stdout",
     "output_type": "stream",
     "text": [
      "INFO:tensorflow:Assets written to: C:\\Users\\jared\\AppData\\Local\\Temp\\tmpc58vxn78\\assets\n"
     ]
    },
    {
     "name": "stderr",
     "output_type": "stream",
     "text": [
      "INFO:tensorflow:Assets written to: C:\\Users\\jared\\AppData\\Local\\Temp\\tmpc58vxn78\\assets\n",
      "WARNING:absl:<keras.layers.recurrent.GRUCell object at 0x0000017E0BBDADF0> has the same name 'GRUCell' as a built-in Keras object. Consider renaming <class 'keras.layers.recurrent.GRUCell'> to avoid naming conflicts when loading with `tf.keras.models.load_model`. If renaming is not possible, pass the object in the `custom_objects` parameter of the load function.\n",
      "C:\\Users\\jared\\anaconda3\\envs\\tflow\\lib\\site-packages\\scikeras\\wrappers.py:289: UserWarning: ``build_fn`` will be renamed to ``model`` in a future release, at which point use of ``build_fn`` will raise an Error instead.\n",
      "  warnings.warn(\n"
     ]
    },
    {
     "name": "stdout",
     "output_type": "stream",
     "text": [
      "Epoch 1/20\n",
      "99/99 [==============================] - 4s 24ms/step - loss: 0.7076 - accuracy: 0.5766 - val_loss: 0.6646 - val_accuracy: 0.5923\n",
      "Epoch 2/20\n",
      "99/99 [==============================] - 2s 16ms/step - loss: 0.6410 - accuracy: 0.6284 - val_loss: 0.6405 - val_accuracy: 0.6299\n",
      "Epoch 3/20\n",
      "99/99 [==============================] - 2s 16ms/step - loss: 0.6185 - accuracy: 0.6544 - val_loss: 0.6276 - val_accuracy: 0.6435\n",
      "Epoch 4/20\n",
      "99/99 [==============================] - 2s 16ms/step - loss: 0.6012 - accuracy: 0.6652 - val_loss: 0.6308 - val_accuracy: 0.6367\n",
      "Epoch 5/20\n",
      "99/99 [==============================] - 2s 16ms/step - loss: 0.5899 - accuracy: 0.6767 - val_loss: 0.6295 - val_accuracy: 0.6398\n",
      "Epoch 6/20\n",
      "99/99 [==============================] - 2s 16ms/step - loss: 0.5713 - accuracy: 0.6892 - val_loss: 0.6300 - val_accuracy: 0.6489\n",
      "Epoch 00006: early stopping\n",
      "50/50 [==============================] - 1s 5ms/step\n",
      "[CV 1/3] END dropout_rate=0.1, learning_rate=0.001, node_type=lstm, nodes=[64, 64];, score=0.644 total time=  14.6s\n"
     ]
    },
    {
     "name": "stderr",
     "output_type": "stream",
     "text": [
      "WARNING:absl:Found untraced functions such as gru_cell_1_layer_call_fn, gru_cell_1_layer_call_and_return_conditional_losses, gru_cell_1_layer_call_fn, gru_cell_1_layer_call_and_return_conditional_losses, gru_cell_1_layer_call_and_return_conditional_losses while saving (showing 5 of 5). These functions will not be directly callable after loading.\n"
     ]
    },
    {
     "name": "stdout",
     "output_type": "stream",
     "text": [
      "INFO:tensorflow:Assets written to: C:\\Users\\jared\\AppData\\Local\\Temp\\tmpep24g5ca\\assets\n"
     ]
    },
    {
     "name": "stderr",
     "output_type": "stream",
     "text": [
      "INFO:tensorflow:Assets written to: C:\\Users\\jared\\AppData\\Local\\Temp\\tmpep24g5ca\\assets\n",
      "WARNING:absl:<keras.layers.recurrent.GRUCell object at 0x0000017E0BBDADF0> has the same name 'GRUCell' as a built-in Keras object. Consider renaming <class 'keras.layers.recurrent.GRUCell'> to avoid naming conflicts when loading with `tf.keras.models.load_model`. If renaming is not possible, pass the object in the `custom_objects` parameter of the load function.\n",
      "C:\\Users\\jared\\anaconda3\\envs\\tflow\\lib\\site-packages\\scikeras\\wrappers.py:289: UserWarning: ``build_fn`` will be renamed to ``model`` in a future release, at which point use of ``build_fn`` will raise an Error instead.\n",
      "  warnings.warn(\n"
     ]
    },
    {
     "name": "stdout",
     "output_type": "stream",
     "text": [
      "Epoch 1/20\n",
      "99/99 [==============================] - 4s 23ms/step - loss: 0.7046 - accuracy: 0.5847 - val_loss: 0.6615 - val_accuracy: 0.6212\n",
      "Epoch 2/20\n",
      "99/99 [==============================] - 1s 15ms/step - loss: 0.6447 - accuracy: 0.6305 - val_loss: 0.6410 - val_accuracy: 0.6350\n",
      "Epoch 3/20\n",
      "99/99 [==============================] - 1s 15ms/step - loss: 0.6154 - accuracy: 0.6558 - val_loss: 0.6228 - val_accuracy: 0.6457\n",
      "Epoch 4/20\n",
      "99/99 [==============================] - 2s 15ms/step - loss: 0.6012 - accuracy: 0.6671 - val_loss: 0.6138 - val_accuracy: 0.6524\n",
      "Epoch 5/20\n",
      "99/99 [==============================] - 2s 15ms/step - loss: 0.5862 - accuracy: 0.6775 - val_loss: 0.6394 - val_accuracy: 0.6388\n",
      "Epoch 6/20\n",
      "99/99 [==============================] - 1s 15ms/step - loss: 0.5737 - accuracy: 0.6880 - val_loss: 0.6317 - val_accuracy: 0.6415\n",
      "Epoch 7/20\n",
      "99/99 [==============================] - 1s 15ms/step - loss: 0.5631 - accuracy: 0.6944 - val_loss: 0.6270 - val_accuracy: 0.6462\n",
      "Epoch 00007: early stopping\n",
      "50/50 [==============================] - 1s 5ms/step\n",
      "[CV 2/3] END dropout_rate=0.1, learning_rate=0.001, node_type=lstm, nodes=[64, 64];, score=0.637 total time=  15.5s\n"
     ]
    },
    {
     "name": "stderr",
     "output_type": "stream",
     "text": [
      "WARNING:absl:Found untraced functions such as gru_cell_1_layer_call_fn, gru_cell_1_layer_call_and_return_conditional_losses, gru_cell_1_layer_call_fn, gru_cell_1_layer_call_and_return_conditional_losses, gru_cell_1_layer_call_and_return_conditional_losses while saving (showing 5 of 5). These functions will not be directly callable after loading.\n"
     ]
    },
    {
     "name": "stdout",
     "output_type": "stream",
     "text": [
      "INFO:tensorflow:Assets written to: C:\\Users\\jared\\AppData\\Local\\Temp\\tmp92rvw3yd\\assets\n"
     ]
    },
    {
     "name": "stderr",
     "output_type": "stream",
     "text": [
      "INFO:tensorflow:Assets written to: C:\\Users\\jared\\AppData\\Local\\Temp\\tmp92rvw3yd\\assets\n",
      "WARNING:absl:<keras.layers.recurrent.GRUCell object at 0x0000017E0BBDADF0> has the same name 'GRUCell' as a built-in Keras object. Consider renaming <class 'keras.layers.recurrent.GRUCell'> to avoid naming conflicts when loading with `tf.keras.models.load_model`. If renaming is not possible, pass the object in the `custom_objects` parameter of the load function.\n",
      "C:\\Users\\jared\\anaconda3\\envs\\tflow\\lib\\site-packages\\scikeras\\wrappers.py:289: UserWarning: ``build_fn`` will be renamed to ``model`` in a future release, at which point use of ``build_fn`` will raise an Error instead.\n",
      "  warnings.warn(\n"
     ]
    },
    {
     "name": "stdout",
     "output_type": "stream",
     "text": [
      "Epoch 1/20\n",
      "99/99 [==============================] - 4s 22ms/step - loss: 0.7053 - accuracy: 0.5840 - val_loss: 0.6643 - val_accuracy: 0.5915\n",
      "Epoch 2/20\n",
      "99/99 [==============================] - 1s 15ms/step - loss: 0.6437 - accuracy: 0.6260 - val_loss: 0.6361 - val_accuracy: 0.6468\n",
      "Epoch 3/20\n",
      "99/99 [==============================] - 1s 15ms/step - loss: 0.6159 - accuracy: 0.6537 - val_loss: 0.6307 - val_accuracy: 0.6330\n",
      "Epoch 4/20\n",
      "99/99 [==============================] - 1s 15ms/step - loss: 0.5990 - accuracy: 0.6705 - val_loss: 0.6301 - val_accuracy: 0.6396\n",
      "Epoch 5/20\n",
      "99/99 [==============================] - 1s 15ms/step - loss: 0.5889 - accuracy: 0.6749 - val_loss: 0.6227 - val_accuracy: 0.6473\n",
      "Epoch 6/20\n",
      "99/99 [==============================] - 1s 15ms/step - loss: 0.5742 - accuracy: 0.6854 - val_loss: 0.6291 - val_accuracy: 0.6534\n",
      "Epoch 7/20\n",
      "99/99 [==============================] - 1s 15ms/step - loss: 0.5633 - accuracy: 0.6980 - val_loss: 0.6286 - val_accuracy: 0.6492\n",
      "Epoch 8/20\n",
      "99/99 [==============================] - 1s 15ms/step - loss: 0.5553 - accuracy: 0.7009 - val_loss: 0.6444 - val_accuracy: 0.6461\n",
      "Epoch 00008: early stopping\n",
      "50/50 [==============================] - 1s 5ms/step\n",
      "[CV 3/3] END dropout_rate=0.1, learning_rate=0.001, node_type=lstm, nodes=[64, 64];, score=0.641 total time=  17.0s\n"
     ]
    },
    {
     "name": "stderr",
     "output_type": "stream",
     "text": [
      "WARNING:absl:Found untraced functions such as gru_cell_1_layer_call_fn, gru_cell_1_layer_call_and_return_conditional_losses, gru_cell_1_layer_call_fn, gru_cell_1_layer_call_and_return_conditional_losses, gru_cell_1_layer_call_and_return_conditional_losses while saving (showing 5 of 5). These functions will not be directly callable after loading.\n"
     ]
    },
    {
     "name": "stdout",
     "output_type": "stream",
     "text": [
      "INFO:tensorflow:Assets written to: C:\\Users\\jared\\AppData\\Local\\Temp\\tmpa18onnqz\\assets\n"
     ]
    },
    {
     "name": "stderr",
     "output_type": "stream",
     "text": [
      "INFO:tensorflow:Assets written to: C:\\Users\\jared\\AppData\\Local\\Temp\\tmpa18onnqz\\assets\n",
      "WARNING:absl:<keras.layers.recurrent.GRUCell object at 0x0000017E0BBDADF0> has the same name 'GRUCell' as a built-in Keras object. Consider renaming <class 'keras.layers.recurrent.GRUCell'> to avoid naming conflicts when loading with `tf.keras.models.load_model`. If renaming is not possible, pass the object in the `custom_objects` parameter of the load function.\n",
      "C:\\Users\\jared\\anaconda3\\envs\\tflow\\lib\\site-packages\\scikeras\\wrappers.py:289: UserWarning: ``build_fn`` will be renamed to ``model`` in a future release, at which point use of ``build_fn`` will raise an Error instead.\n",
      "  warnings.warn(\n"
     ]
    },
    {
     "name": "stdout",
     "output_type": "stream",
     "text": [
      "Epoch 1/20\n",
      "99/99 [==============================] - 5s 27ms/step - loss: 0.7286 - accuracy: 0.5538 - val_loss: 0.6750 - val_accuracy: 0.6029\n",
      "Epoch 2/20\n",
      "99/99 [==============================] - 2s 19ms/step - loss: 0.6756 - accuracy: 0.5965 - val_loss: 0.6598 - val_accuracy: 0.6018\n",
      "Epoch 3/20\n",
      "99/99 [==============================] - 2s 19ms/step - loss: 0.6465 - accuracy: 0.6307 - val_loss: 0.6381 - val_accuracy: 0.6227\n",
      "Epoch 4/20\n",
      "99/99 [==============================] - 2s 19ms/step - loss: 0.6277 - accuracy: 0.6508 - val_loss: 0.6301 - val_accuracy: 0.6397\n",
      "Epoch 5/20\n",
      "99/99 [==============================] - 2s 18ms/step - loss: 0.6175 - accuracy: 0.6572 - val_loss: 0.6279 - val_accuracy: 0.6498\n",
      "Epoch 6/20\n",
      "99/99 [==============================] - 2s 18ms/step - loss: 0.6087 - accuracy: 0.6637 - val_loss: 0.6512 - val_accuracy: 0.6176\n",
      "Epoch 7/20\n",
      "99/99 [==============================] - 2s 19ms/step - loss: 0.6007 - accuracy: 0.6671 - val_loss: 0.6325 - val_accuracy: 0.6466\n",
      "Epoch 8/20\n",
      "99/99 [==============================] - 2s 18ms/step - loss: 0.5902 - accuracy: 0.6758 - val_loss: 0.6361 - val_accuracy: 0.6544\n",
      "Epoch 00008: early stopping\n",
      "50/50 [==============================] - 1s 6ms/step\n",
      "[CV 1/3] END dropout_rate=0.1, learning_rate=0.001, node_type=lstm, nodes=[32, 32, 32];, score=0.651 total time=  21.0s\n"
     ]
    },
    {
     "name": "stderr",
     "output_type": "stream",
     "text": [
      "WARNING:absl:Found untraced functions such as gru_cell_1_layer_call_fn, gru_cell_1_layer_call_and_return_conditional_losses, gru_cell_1_layer_call_fn, gru_cell_1_layer_call_and_return_conditional_losses, gru_cell_1_layer_call_and_return_conditional_losses while saving (showing 5 of 5). These functions will not be directly callable after loading.\n"
     ]
    },
    {
     "name": "stdout",
     "output_type": "stream",
     "text": [
      "INFO:tensorflow:Assets written to: C:\\Users\\jared\\AppData\\Local\\Temp\\tmpw6x09_c3\\assets\n"
     ]
    },
    {
     "name": "stderr",
     "output_type": "stream",
     "text": [
      "INFO:tensorflow:Assets written to: C:\\Users\\jared\\AppData\\Local\\Temp\\tmpw6x09_c3\\assets\n",
      "WARNING:absl:<keras.layers.recurrent.GRUCell object at 0x0000017E0BBDADF0> has the same name 'GRUCell' as a built-in Keras object. Consider renaming <class 'keras.layers.recurrent.GRUCell'> to avoid naming conflicts when loading with `tf.keras.models.load_model`. If renaming is not possible, pass the object in the `custom_objects` parameter of the load function.\n",
      "C:\\Users\\jared\\anaconda3\\envs\\tflow\\lib\\site-packages\\scikeras\\wrappers.py:289: UserWarning: ``build_fn`` will be renamed to ``model`` in a future release, at which point use of ``build_fn`` will raise an Error instead.\n",
      "  warnings.warn(\n"
     ]
    },
    {
     "name": "stdout",
     "output_type": "stream",
     "text": [
      "Epoch 1/20\n",
      "99/99 [==============================] - 5s 29ms/step - loss: 0.7286 - accuracy: 0.5479 - val_loss: 0.6823 - val_accuracy: 0.5672\n",
      "Epoch 2/20\n",
      "99/99 [==============================] - 2s 18ms/step - loss: 0.6658 - accuracy: 0.6073 - val_loss: 0.6622 - val_accuracy: 0.5890\n",
      "Epoch 3/20\n",
      "99/99 [==============================] - 2s 18ms/step - loss: 0.6468 - accuracy: 0.6236 - val_loss: 0.6326 - val_accuracy: 0.6402\n",
      "Epoch 4/20\n",
      "99/99 [==============================] - 2s 19ms/step - loss: 0.6282 - accuracy: 0.6457 - val_loss: 0.6281 - val_accuracy: 0.6383\n",
      "Epoch 5/20\n",
      "99/99 [==============================] - 2s 18ms/step - loss: 0.6150 - accuracy: 0.6573 - val_loss: 0.6313 - val_accuracy: 0.6376\n",
      "Epoch 6/20\n",
      "99/99 [==============================] - 2s 19ms/step - loss: 0.6063 - accuracy: 0.6634 - val_loss: 0.6190 - val_accuracy: 0.6524\n",
      "Epoch 7/20\n",
      "99/99 [==============================] - 2s 19ms/step - loss: 0.5932 - accuracy: 0.6728 - val_loss: 0.6182 - val_accuracy: 0.6556\n",
      "Epoch 8/20\n",
      "99/99 [==============================] - 2s 19ms/step - loss: 0.5879 - accuracy: 0.6754 - val_loss: 0.6443 - val_accuracy: 0.6366\n",
      "Epoch 9/20\n",
      "99/99 [==============================] - 2s 19ms/step - loss: 0.5823 - accuracy: 0.6842 - val_loss: 0.6233 - val_accuracy: 0.6504\n",
      "Epoch 10/20\n",
      "99/99 [==============================] - 2s 20ms/step - loss: 0.5671 - accuracy: 0.6930 - val_loss: 0.6346 - val_accuracy: 0.6434\n",
      "Epoch 00010: early stopping\n",
      "50/50 [==============================] - 1s 6ms/step\n",
      "[CV 2/3] END dropout_rate=0.1, learning_rate=0.001, node_type=lstm, nodes=[32, 32, 32];, score=0.635 total time=  24.7s\n"
     ]
    },
    {
     "name": "stderr",
     "output_type": "stream",
     "text": [
      "WARNING:absl:Found untraced functions such as gru_cell_1_layer_call_fn, gru_cell_1_layer_call_and_return_conditional_losses, gru_cell_1_layer_call_fn, gru_cell_1_layer_call_and_return_conditional_losses, gru_cell_1_layer_call_and_return_conditional_losses while saving (showing 5 of 5). These functions will not be directly callable after loading.\n"
     ]
    },
    {
     "name": "stdout",
     "output_type": "stream",
     "text": [
      "INFO:tensorflow:Assets written to: C:\\Users\\jared\\AppData\\Local\\Temp\\tmpelwrcu10\\assets\n"
     ]
    },
    {
     "name": "stderr",
     "output_type": "stream",
     "text": [
      "INFO:tensorflow:Assets written to: C:\\Users\\jared\\AppData\\Local\\Temp\\tmpelwrcu10\\assets\n",
      "WARNING:absl:<keras.layers.recurrent.GRUCell object at 0x0000017E0BBDADF0> has the same name 'GRUCell' as a built-in Keras object. Consider renaming <class 'keras.layers.recurrent.GRUCell'> to avoid naming conflicts when loading with `tf.keras.models.load_model`. If renaming is not possible, pass the object in the `custom_objects` parameter of the load function.\n",
      "C:\\Users\\jared\\anaconda3\\envs\\tflow\\lib\\site-packages\\scikeras\\wrappers.py:289: UserWarning: ``build_fn`` will be renamed to ``model`` in a future release, at which point use of ``build_fn`` will raise an Error instead.\n",
      "  warnings.warn(\n"
     ]
    },
    {
     "name": "stdout",
     "output_type": "stream",
     "text": [
      "Epoch 1/20\n",
      "99/99 [==============================] - 5s 28ms/step - loss: 0.7460 - accuracy: 0.5398 - val_loss: 0.6813 - val_accuracy: 0.5643\n",
      "Epoch 2/20\n",
      "99/99 [==============================] - 2s 19ms/step - loss: 0.6860 - accuracy: 0.5859 - val_loss: 0.6608 - val_accuracy: 0.6074\n",
      "Epoch 3/20\n",
      "99/99 [==============================] - 2s 19ms/step - loss: 0.6540 - accuracy: 0.6170 - val_loss: 0.6384 - val_accuracy: 0.6348\n",
      "Epoch 4/20\n",
      "99/99 [==============================] - 2s 19ms/step - loss: 0.6368 - accuracy: 0.6348 - val_loss: 0.6267 - val_accuracy: 0.6445\n",
      "Epoch 5/20\n",
      "99/99 [==============================] - 2s 20ms/step - loss: 0.6204 - accuracy: 0.6506 - val_loss: 0.6216 - val_accuracy: 0.6452\n",
      "Epoch 6/20\n",
      "99/99 [==============================] - 2s 18ms/step - loss: 0.6101 - accuracy: 0.6600 - val_loss: 0.6238 - val_accuracy: 0.6483\n",
      "Epoch 7/20\n",
      "99/99 [==============================] - 2s 18ms/step - loss: 0.5979 - accuracy: 0.6729 - val_loss: 0.6237 - val_accuracy: 0.6512\n",
      "Epoch 8/20\n",
      "99/99 [==============================] - 2s 20ms/step - loss: 0.5950 - accuracy: 0.6727 - val_loss: 0.6236 - val_accuracy: 0.6562\n",
      "Epoch 00008: early stopping\n",
      "50/50 [==============================] - 1s 7ms/step\n",
      "[CV 3/3] END dropout_rate=0.1, learning_rate=0.001, node_type=lstm, nodes=[32, 32, 32];, score=0.643 total time=  21.4s\n"
     ]
    },
    {
     "name": "stderr",
     "output_type": "stream",
     "text": [
      "WARNING:absl:Found untraced functions such as gru_cell_1_layer_call_fn, gru_cell_1_layer_call_and_return_conditional_losses, gru_cell_1_layer_call_fn, gru_cell_1_layer_call_and_return_conditional_losses, gru_cell_1_layer_call_and_return_conditional_losses while saving (showing 5 of 5). These functions will not be directly callable after loading.\n"
     ]
    },
    {
     "name": "stdout",
     "output_type": "stream",
     "text": [
      "INFO:tensorflow:Assets written to: C:\\Users\\jared\\AppData\\Local\\Temp\\tmpw9hri7_u\\assets\n"
     ]
    },
    {
     "name": "stderr",
     "output_type": "stream",
     "text": [
      "INFO:tensorflow:Assets written to: C:\\Users\\jared\\AppData\\Local\\Temp\\tmpw9hri7_u\\assets\n",
      "WARNING:absl:<keras.layers.recurrent.GRUCell object at 0x0000017E0BBDADF0> has the same name 'GRUCell' as a built-in Keras object. Consider renaming <class 'keras.layers.recurrent.GRUCell'> to avoid naming conflicts when loading with `tf.keras.models.load_model`. If renaming is not possible, pass the object in the `custom_objects` parameter of the load function.\n",
      "C:\\Users\\jared\\anaconda3\\envs\\tflow\\lib\\site-packages\\scikeras\\wrappers.py:289: UserWarning: ``build_fn`` will be renamed to ``model`` in a future release, at which point use of ``build_fn`` will raise an Error instead.\n",
      "  warnings.warn(\n"
     ]
    },
    {
     "name": "stdout",
     "output_type": "stream",
     "text": [
      "Epoch 1/20\n",
      "99/99 [==============================] - 3s 17ms/step - loss: 0.7130 - accuracy: 0.5362 - val_loss: 0.6795 - val_accuracy: 0.5536\n",
      "Epoch 2/20\n",
      "99/99 [==============================] - 1s 11ms/step - loss: 0.6916 - accuracy: 0.5479 - val_loss: 0.6722 - val_accuracy: 0.5668\n",
      "Epoch 3/20\n",
      "99/99 [==============================] - 1s 11ms/step - loss: 0.6832 - accuracy: 0.5559 - val_loss: 0.6696 - val_accuracy: 0.5723\n",
      "Epoch 4/20\n",
      "99/99 [==============================] - 1s 11ms/step - loss: 0.6786 - accuracy: 0.5605 - val_loss: 0.6674 - val_accuracy: 0.5760\n",
      "Epoch 5/20\n",
      "99/99 [==============================] - 1s 11ms/step - loss: 0.6740 - accuracy: 0.5641 - val_loss: 0.6660 - val_accuracy: 0.5779\n",
      "Epoch 6/20\n",
      "99/99 [==============================] - 1s 12ms/step - loss: 0.6707 - accuracy: 0.5679 - val_loss: 0.6657 - val_accuracy: 0.5763\n",
      "Epoch 7/20\n",
      "99/99 [==============================] - 1s 13ms/step - loss: 0.6689 - accuracy: 0.5695 - val_loss: 0.6640 - val_accuracy: 0.5810\n",
      "Epoch 8/20\n",
      "99/99 [==============================] - 1s 13ms/step - loss: 0.6651 - accuracy: 0.5735 - val_loss: 0.6677 - val_accuracy: 0.5724\n",
      "Epoch 9/20\n",
      "99/99 [==============================] - 1s 12ms/step - loss: 0.6644 - accuracy: 0.5742 - val_loss: 0.6701 - val_accuracy: 0.5718\n",
      "Epoch 10/20\n",
      "99/99 [==============================] - 1s 12ms/step - loss: 0.6622 - accuracy: 0.5775 - val_loss: 0.6618 - val_accuracy: 0.5852\n",
      "Epoch 11/20\n",
      "99/99 [==============================] - 1s 12ms/step - loss: 0.6603 - accuracy: 0.5786 - val_loss: 0.6647 - val_accuracy: 0.5795\n",
      "Epoch 12/20\n",
      "99/99 [==============================] - 1s 12ms/step - loss: 0.6591 - accuracy: 0.5815 - val_loss: 0.6649 - val_accuracy: 0.5793\n",
      "Epoch 13/20\n",
      "99/99 [==============================] - 1s 12ms/step - loss: 0.6571 - accuracy: 0.5847 - val_loss: 0.6670 - val_accuracy: 0.5764\n",
      "Epoch 00013: early stopping\n",
      "50/50 [==============================] - 0s 4ms/step\n",
      "[CV 1/3] END dropout_rate=0.1, learning_rate=0.001, node_type=gru, nodes=[128];, score=nan total time=  19.3s\n"
     ]
    },
    {
     "name": "stderr",
     "output_type": "stream",
     "text": [
      "C:\\Users\\jared\\anaconda3\\envs\\tflow\\lib\\site-packages\\sklearn\\model_selection\\_validation.py:771: UserWarning: Scoring failed. The score on this train-test partition for these parameters will be set to nan. Details: \n",
      "Traceback (most recent call last):\n",
      "  File \"C:\\Users\\jared\\anaconda3\\envs\\tflow\\lib\\site-packages\\sklearn\\model_selection\\_validation.py\", line 762, in _score\n",
      "    scores = scorer(estimator, X_test, y_test)\n",
      "  File \"C:\\Users\\jared\\anaconda3\\envs\\tflow\\lib\\site-packages\\sklearn\\metrics\\_scorer.py\", line 216, in __call__\n",
      "    return self._score(\n",
      "  File \"C:\\Users\\jared\\anaconda3\\envs\\tflow\\lib\\site-packages\\sklearn\\metrics\\_scorer.py\", line 258, in _score\n",
      "    y_pred = method_caller(estimator, \"predict\", X)\n",
      "  File \"C:\\Users\\jared\\anaconda3\\envs\\tflow\\lib\\site-packages\\sklearn\\metrics\\_scorer.py\", line 68, in _cached_call\n",
      "    return getattr(estimator, method)(*args, **kwargs)\n",
      "  File \"C:\\Users\\jared\\anaconda3\\envs\\tflow\\lib\\site-packages\\scikeras\\wrappers.py\", line 1013, in predict\n",
      "    y_pred = self.target_encoder_.inverse_transform(y_pred)\n",
      "  File \"C:\\Users\\jared\\anaconda3\\envs\\tflow\\lib\\site-packages\\scikeras\\utils\\transformers.py\", line 257, in inverse_transform\n",
      "    class_predictions = self._final_encoder.inverse_transform(class_predictions)\n",
      "  File \"C:\\Users\\jared\\anaconda3\\envs\\tflow\\lib\\site-packages\\sklearn\\utils\\metaestimators.py\", line 113, in <lambda>\n",
      "    out = lambda *args, **kwargs: self.fn(obj, *args, **kwargs)  # noqa\n",
      "  File \"C:\\Users\\jared\\anaconda3\\envs\\tflow\\lib\\site-packages\\sklearn\\pipeline.py\", line 675, in inverse_transform\n",
      "    Xt = transform.inverse_transform(Xt)\n",
      "  File \"C:\\Users\\jared\\anaconda3\\envs\\tflow\\lib\\site-packages\\sklearn\\preprocessing\\_encoders.py\", line 990, in inverse_transform\n",
      "    X_tr[:, i] = self.categories_[i][labels]\n",
      "IndexError: index 37 is out of bounds for axis 0 with size 2\n",
      "\n",
      "  warnings.warn(\n",
      "WARNING:absl:Found untraced functions such as gru_cell_1_layer_call_fn, gru_cell_1_layer_call_and_return_conditional_losses, gru_cell_1_layer_call_fn, gru_cell_1_layer_call_and_return_conditional_losses, gru_cell_1_layer_call_and_return_conditional_losses while saving (showing 5 of 5). These functions will not be directly callable after loading.\n"
     ]
    },
    {
     "name": "stdout",
     "output_type": "stream",
     "text": [
      "INFO:tensorflow:Assets written to: C:\\Users\\jared\\AppData\\Local\\Temp\\tmpgnx01cid\\assets\n"
     ]
    },
    {
     "name": "stderr",
     "output_type": "stream",
     "text": [
      "INFO:tensorflow:Assets written to: C:\\Users\\jared\\AppData\\Local\\Temp\\tmpgnx01cid\\assets\n",
      "WARNING:absl:<keras.layers.recurrent.GRUCell object at 0x0000017E0BBDADF0> has the same name 'GRUCell' as a built-in Keras object. Consider renaming <class 'keras.layers.recurrent.GRUCell'> to avoid naming conflicts when loading with `tf.keras.models.load_model`. If renaming is not possible, pass the object in the `custom_objects` parameter of the load function.\n",
      "C:\\Users\\jared\\anaconda3\\envs\\tflow\\lib\\site-packages\\scikeras\\wrappers.py:289: UserWarning: ``build_fn`` will be renamed to ``model`` in a future release, at which point use of ``build_fn`` will raise an Error instead.\n",
      "  warnings.warn(\n"
     ]
    },
    {
     "name": "stdout",
     "output_type": "stream",
     "text": [
      "Epoch 1/20\n",
      "99/99 [==============================] - 3s 18ms/step - loss: 0.7115 - accuracy: 0.5376 - val_loss: 0.6773 - val_accuracy: 0.5612\n",
      "Epoch 2/20\n",
      "99/99 [==============================] - 1s 12ms/step - loss: 0.6890 - accuracy: 0.5511 - val_loss: 0.6698 - val_accuracy: 0.5721\n",
      "Epoch 3/20\n",
      "99/99 [==============================] - 1s 12ms/step - loss: 0.6824 - accuracy: 0.5559 - val_loss: 0.6686 - val_accuracy: 0.5700\n",
      "Epoch 4/20\n",
      "99/99 [==============================] - 1s 13ms/step - loss: 0.6774 - accuracy: 0.5610 - val_loss: 0.6679 - val_accuracy: 0.5735\n",
      "Epoch 5/20\n",
      "99/99 [==============================] - 1s 13ms/step - loss: 0.6727 - accuracy: 0.5658 - val_loss: 0.6643 - val_accuracy: 0.5791\n",
      "Epoch 6/20\n",
      "99/99 [==============================] - 1s 13ms/step - loss: 0.6693 - accuracy: 0.5693 - val_loss: 0.6641 - val_accuracy: 0.5807\n",
      "Epoch 7/20\n",
      "99/99 [==============================] - 1s 12ms/step - loss: 0.6666 - accuracy: 0.5738 - val_loss: 0.6634 - val_accuracy: 0.5772\n",
      "Epoch 8/20\n",
      "99/99 [==============================] - 1s 12ms/step - loss: 0.6645 - accuracy: 0.5756 - val_loss: 0.6629 - val_accuracy: 0.5833\n",
      "Epoch 9/20\n",
      "99/99 [==============================] - 1s 12ms/step - loss: 0.6614 - accuracy: 0.5789 - val_loss: 0.6653 - val_accuracy: 0.5746\n",
      "Epoch 10/20\n",
      "99/99 [==============================] - 1s 12ms/step - loss: 0.6600 - accuracy: 0.5791 - val_loss: 0.6671 - val_accuracy: 0.5677\n",
      "Epoch 11/20\n",
      "99/99 [==============================] - 1s 12ms/step - loss: 0.6589 - accuracy: 0.5819 - val_loss: 0.6621 - val_accuracy: 0.5826\n",
      "Epoch 12/20\n",
      "99/99 [==============================] - 1s 12ms/step - loss: 0.6563 - accuracy: 0.5850 - val_loss: 0.6630 - val_accuracy: 0.5832\n",
      "Epoch 13/20\n",
      "99/99 [==============================] - 1s 12ms/step - loss: 0.6536 - accuracy: 0.5886 - val_loss: 0.6653 - val_accuracy: 0.5763\n",
      "Epoch 14/20\n",
      "99/99 [==============================] - 1s 12ms/step - loss: 0.6536 - accuracy: 0.5890 - val_loss: 0.6624 - val_accuracy: 0.5804\n",
      "Epoch 00014: early stopping\n",
      "50/50 [==============================] - 0s 4ms/step\n",
      "[CV 2/3] END dropout_rate=0.1, learning_rate=0.001, node_type=gru, nodes=[128];, score=nan total time=  20.7s\n"
     ]
    },
    {
     "name": "stderr",
     "output_type": "stream",
     "text": [
      "C:\\Users\\jared\\anaconda3\\envs\\tflow\\lib\\site-packages\\sklearn\\model_selection\\_validation.py:771: UserWarning: Scoring failed. The score on this train-test partition for these parameters will be set to nan. Details: \n",
      "Traceback (most recent call last):\n",
      "  File \"C:\\Users\\jared\\anaconda3\\envs\\tflow\\lib\\site-packages\\sklearn\\model_selection\\_validation.py\", line 762, in _score\n",
      "    scores = scorer(estimator, X_test, y_test)\n",
      "  File \"C:\\Users\\jared\\anaconda3\\envs\\tflow\\lib\\site-packages\\sklearn\\metrics\\_scorer.py\", line 216, in __call__\n",
      "    return self._score(\n",
      "  File \"C:\\Users\\jared\\anaconda3\\envs\\tflow\\lib\\site-packages\\sklearn\\metrics\\_scorer.py\", line 258, in _score\n",
      "    y_pred = method_caller(estimator, \"predict\", X)\n",
      "  File \"C:\\Users\\jared\\anaconda3\\envs\\tflow\\lib\\site-packages\\sklearn\\metrics\\_scorer.py\", line 68, in _cached_call\n",
      "    return getattr(estimator, method)(*args, **kwargs)\n",
      "  File \"C:\\Users\\jared\\anaconda3\\envs\\tflow\\lib\\site-packages\\scikeras\\wrappers.py\", line 1013, in predict\n",
      "    y_pred = self.target_encoder_.inverse_transform(y_pred)\n",
      "  File \"C:\\Users\\jared\\anaconda3\\envs\\tflow\\lib\\site-packages\\scikeras\\utils\\transformers.py\", line 257, in inverse_transform\n",
      "    class_predictions = self._final_encoder.inverse_transform(class_predictions)\n",
      "  File \"C:\\Users\\jared\\anaconda3\\envs\\tflow\\lib\\site-packages\\sklearn\\utils\\metaestimators.py\", line 113, in <lambda>\n",
      "    out = lambda *args, **kwargs: self.fn(obj, *args, **kwargs)  # noqa\n",
      "  File \"C:\\Users\\jared\\anaconda3\\envs\\tflow\\lib\\site-packages\\sklearn\\pipeline.py\", line 675, in inverse_transform\n",
      "    Xt = transform.inverse_transform(Xt)\n",
      "  File \"C:\\Users\\jared\\anaconda3\\envs\\tflow\\lib\\site-packages\\sklearn\\preprocessing\\_encoders.py\", line 990, in inverse_transform\n",
      "    X_tr[:, i] = self.categories_[i][labels]\n",
      "IndexError: index 57 is out of bounds for axis 0 with size 2\n",
      "\n",
      "  warnings.warn(\n",
      "WARNING:absl:Found untraced functions such as gru_cell_1_layer_call_fn, gru_cell_1_layer_call_and_return_conditional_losses, gru_cell_1_layer_call_fn, gru_cell_1_layer_call_and_return_conditional_losses, gru_cell_1_layer_call_and_return_conditional_losses while saving (showing 5 of 5). These functions will not be directly callable after loading.\n"
     ]
    },
    {
     "name": "stdout",
     "output_type": "stream",
     "text": [
      "INFO:tensorflow:Assets written to: C:\\Users\\jared\\AppData\\Local\\Temp\\tmp_suhypq4\\assets\n"
     ]
    },
    {
     "name": "stderr",
     "output_type": "stream",
     "text": [
      "INFO:tensorflow:Assets written to: C:\\Users\\jared\\AppData\\Local\\Temp\\tmp_suhypq4\\assets\n",
      "WARNING:absl:<keras.layers.recurrent.GRUCell object at 0x0000017E0BBDADF0> has the same name 'GRUCell' as a built-in Keras object. Consider renaming <class 'keras.layers.recurrent.GRUCell'> to avoid naming conflicts when loading with `tf.keras.models.load_model`. If renaming is not possible, pass the object in the `custom_objects` parameter of the load function.\n",
      "C:\\Users\\jared\\anaconda3\\envs\\tflow\\lib\\site-packages\\scikeras\\wrappers.py:289: UserWarning: ``build_fn`` will be renamed to ``model`` in a future release, at which point use of ``build_fn`` will raise an Error instead.\n",
      "  warnings.warn(\n"
     ]
    },
    {
     "name": "stdout",
     "output_type": "stream",
     "text": [
      "Epoch 1/20\n",
      "99/99 [==============================] - 3s 18ms/step - loss: 0.7191 - accuracy: 0.5340 - val_loss: 0.6774 - val_accuracy: 0.5639\n",
      "Epoch 2/20\n",
      "99/99 [==============================] - 1s 12ms/step - loss: 0.6937 - accuracy: 0.5488 - val_loss: 0.6746 - val_accuracy: 0.5660\n",
      "Epoch 3/20\n",
      "99/99 [==============================] - 1s 12ms/step - loss: 0.6851 - accuracy: 0.5537 - val_loss: 0.6724 - val_accuracy: 0.5660\n",
      "Epoch 4/20\n",
      "99/99 [==============================] - 1s 12ms/step - loss: 0.6792 - accuracy: 0.5588 - val_loss: 0.6672 - val_accuracy: 0.5718\n",
      "Epoch 5/20\n",
      "99/99 [==============================] - 1s 12ms/step - loss: 0.6734 - accuracy: 0.5662 - val_loss: 0.6635 - val_accuracy: 0.5812\n",
      "Epoch 6/20\n",
      "99/99 [==============================] - 1s 12ms/step - loss: 0.6704 - accuracy: 0.5692 - val_loss: 0.6657 - val_accuracy: 0.5782\n",
      "Epoch 7/20\n",
      "99/99 [==============================] - 1s 12ms/step - loss: 0.6674 - accuracy: 0.5727 - val_loss: 0.6635 - val_accuracy: 0.5813\n",
      "Epoch 8/20\n",
      "99/99 [==============================] - 1s 12ms/step - loss: 0.6647 - accuracy: 0.5760 - val_loss: 0.6641 - val_accuracy: 0.5796\n",
      "Epoch 9/20\n",
      "99/99 [==============================] - 1s 12ms/step - loss: 0.6621 - accuracy: 0.5793 - val_loss: 0.6637 - val_accuracy: 0.5754\n",
      "Epoch 10/20\n",
      "99/99 [==============================] - 1s 12ms/step - loss: 0.6604 - accuracy: 0.5801 - val_loss: 0.6613 - val_accuracy: 0.5838\n",
      "Epoch 11/20\n",
      "99/99 [==============================] - 1s 12ms/step - loss: 0.6582 - accuracy: 0.5830 - val_loss: 0.6653 - val_accuracy: 0.5795\n",
      "Epoch 12/20\n",
      "99/99 [==============================] - 1s 12ms/step - loss: 0.6565 - accuracy: 0.5860 - val_loss: 0.6674 - val_accuracy: 0.5749\n",
      "Epoch 13/20\n",
      "99/99 [==============================] - 1s 12ms/step - loss: 0.6547 - accuracy: 0.5874 - val_loss: 0.6650 - val_accuracy: 0.5794\n",
      "Epoch 00013: early stopping\n",
      "50/50 [==============================] - 0s 4ms/step\n",
      "[CV 3/3] END dropout_rate=0.1, learning_rate=0.001, node_type=gru, nodes=[128];, score=nan total time=  19.1s\n"
     ]
    },
    {
     "name": "stderr",
     "output_type": "stream",
     "text": [
      "C:\\Users\\jared\\anaconda3\\envs\\tflow\\lib\\site-packages\\sklearn\\model_selection\\_validation.py:771: UserWarning: Scoring failed. The score on this train-test partition for these parameters will be set to nan. Details: \n",
      "Traceback (most recent call last):\n",
      "  File \"C:\\Users\\jared\\anaconda3\\envs\\tflow\\lib\\site-packages\\sklearn\\model_selection\\_validation.py\", line 762, in _score\n",
      "    scores = scorer(estimator, X_test, y_test)\n",
      "  File \"C:\\Users\\jared\\anaconda3\\envs\\tflow\\lib\\site-packages\\sklearn\\metrics\\_scorer.py\", line 216, in __call__\n",
      "    return self._score(\n",
      "  File \"C:\\Users\\jared\\anaconda3\\envs\\tflow\\lib\\site-packages\\sklearn\\metrics\\_scorer.py\", line 258, in _score\n",
      "    y_pred = method_caller(estimator, \"predict\", X)\n",
      "  File \"C:\\Users\\jared\\anaconda3\\envs\\tflow\\lib\\site-packages\\sklearn\\metrics\\_scorer.py\", line 68, in _cached_call\n",
      "    return getattr(estimator, method)(*args, **kwargs)\n",
      "  File \"C:\\Users\\jared\\anaconda3\\envs\\tflow\\lib\\site-packages\\scikeras\\wrappers.py\", line 1013, in predict\n",
      "    y_pred = self.target_encoder_.inverse_transform(y_pred)\n",
      "  File \"C:\\Users\\jared\\anaconda3\\envs\\tflow\\lib\\site-packages\\scikeras\\utils\\transformers.py\", line 257, in inverse_transform\n",
      "    class_predictions = self._final_encoder.inverse_transform(class_predictions)\n",
      "  File \"C:\\Users\\jared\\anaconda3\\envs\\tflow\\lib\\site-packages\\sklearn\\utils\\metaestimators.py\", line 113, in <lambda>\n",
      "    out = lambda *args, **kwargs: self.fn(obj, *args, **kwargs)  # noqa\n",
      "  File \"C:\\Users\\jared\\anaconda3\\envs\\tflow\\lib\\site-packages\\sklearn\\pipeline.py\", line 675, in inverse_transform\n",
      "    Xt = transform.inverse_transform(Xt)\n",
      "  File \"C:\\Users\\jared\\anaconda3\\envs\\tflow\\lib\\site-packages\\sklearn\\preprocessing\\_encoders.py\", line 990, in inverse_transform\n",
      "    X_tr[:, i] = self.categories_[i][labels]\n",
      "IndexError: index 59 is out of bounds for axis 0 with size 2\n",
      "\n",
      "  warnings.warn(\n",
      "WARNING:absl:Found untraced functions such as gru_cell_1_layer_call_fn, gru_cell_1_layer_call_and_return_conditional_losses, gru_cell_1_layer_call_fn, gru_cell_1_layer_call_and_return_conditional_losses, gru_cell_1_layer_call_and_return_conditional_losses while saving (showing 5 of 5). These functions will not be directly callable after loading.\n"
     ]
    },
    {
     "name": "stdout",
     "output_type": "stream",
     "text": [
      "INFO:tensorflow:Assets written to: C:\\Users\\jared\\AppData\\Local\\Temp\\tmpvcs6uykc\\assets\n"
     ]
    },
    {
     "name": "stderr",
     "output_type": "stream",
     "text": [
      "INFO:tensorflow:Assets written to: C:\\Users\\jared\\AppData\\Local\\Temp\\tmpvcs6uykc\\assets\n",
      "WARNING:absl:<keras.layers.recurrent.GRUCell object at 0x0000017E0BBDADF0> has the same name 'GRUCell' as a built-in Keras object. Consider renaming <class 'keras.layers.recurrent.GRUCell'> to avoid naming conflicts when loading with `tf.keras.models.load_model`. If renaming is not possible, pass the object in the `custom_objects` parameter of the load function.\n",
      "C:\\Users\\jared\\anaconda3\\envs\\tflow\\lib\\site-packages\\scikeras\\wrappers.py:289: UserWarning: ``build_fn`` will be renamed to ``model`` in a future release, at which point use of ``build_fn`` will raise an Error instead.\n",
      "  warnings.warn(\n"
     ]
    },
    {
     "name": "stdout",
     "output_type": "stream",
     "text": [
      "Epoch 1/20\n",
      "99/99 [==============================] - 4s 21ms/step - loss: 0.6986 - accuracy: 0.5842 - val_loss: 0.6499 - val_accuracy: 0.6187\n",
      "Epoch 2/20\n",
      "99/99 [==============================] - 1s 14ms/step - loss: 0.6406 - accuracy: 0.6330 - val_loss: 0.6318 - val_accuracy: 0.6376\n",
      "Epoch 3/20\n",
      "99/99 [==============================] - 1s 14ms/step - loss: 0.6230 - accuracy: 0.6494 - val_loss: 0.6480 - val_accuracy: 0.6163\n",
      "Epoch 4/20\n",
      "99/99 [==============================] - 1s 14ms/step - loss: 0.6083 - accuracy: 0.6633 - val_loss: 0.6251 - val_accuracy: 0.6460\n",
      "Epoch 5/20\n",
      "99/99 [==============================] - 1s 14ms/step - loss: 0.6013 - accuracy: 0.6693 - val_loss: 0.6175 - val_accuracy: 0.6551\n",
      "Epoch 6/20\n",
      "99/99 [==============================] - 1s 14ms/step - loss: 0.5927 - accuracy: 0.6722 - val_loss: 0.6220 - val_accuracy: 0.6508\n",
      "Epoch 7/20\n",
      "99/99 [==============================] - 1s 15ms/step - loss: 0.5793 - accuracy: 0.6793 - val_loss: 0.6150 - val_accuracy: 0.6609\n",
      "Epoch 8/20\n",
      "99/99 [==============================] - 2s 15ms/step - loss: 0.5695 - accuracy: 0.6931 - val_loss: 0.6251 - val_accuracy: 0.6560\n",
      "Epoch 9/20\n",
      "99/99 [==============================] - 1s 14ms/step - loss: 0.5610 - accuracy: 0.6970 - val_loss: 0.6345 - val_accuracy: 0.6466\n",
      "Epoch 10/20\n",
      "99/99 [==============================] - 1s 15ms/step - loss: 0.5574 - accuracy: 0.7032 - val_loss: 0.6261 - val_accuracy: 0.6589\n",
      "Epoch 00010: early stopping\n",
      "50/50 [==============================] - 1s 5ms/step\n",
      "[CV 1/3] END dropout_rate=0.1, learning_rate=0.001, node_type=gru, nodes=[64, 64];, score=0.655 total time=  19.5s\n"
     ]
    },
    {
     "name": "stderr",
     "output_type": "stream",
     "text": [
      "WARNING:absl:Found untraced functions such as gru_cell_1_layer_call_fn, gru_cell_1_layer_call_and_return_conditional_losses, gru_cell_1_layer_call_fn, gru_cell_1_layer_call_and_return_conditional_losses, gru_cell_1_layer_call_and_return_conditional_losses while saving (showing 5 of 5). These functions will not be directly callable after loading.\n"
     ]
    },
    {
     "name": "stdout",
     "output_type": "stream",
     "text": [
      "INFO:tensorflow:Assets written to: C:\\Users\\jared\\AppData\\Local\\Temp\\tmpxhgrfp2r\\assets\n"
     ]
    },
    {
     "name": "stderr",
     "output_type": "stream",
     "text": [
      "INFO:tensorflow:Assets written to: C:\\Users\\jared\\AppData\\Local\\Temp\\tmpxhgrfp2r\\assets\n",
      "WARNING:absl:<keras.layers.recurrent.GRUCell object at 0x0000017E0BBDADF0> has the same name 'GRUCell' as a built-in Keras object. Consider renaming <class 'keras.layers.recurrent.GRUCell'> to avoid naming conflicts when loading with `tf.keras.models.load_model`. If renaming is not possible, pass the object in the `custom_objects` parameter of the load function.\n",
      "C:\\Users\\jared\\anaconda3\\envs\\tflow\\lib\\site-packages\\scikeras\\wrappers.py:289: UserWarning: ``build_fn`` will be renamed to ``model`` in a future release, at which point use of ``build_fn`` will raise an Error instead.\n",
      "  warnings.warn(\n"
     ]
    },
    {
     "name": "stdout",
     "output_type": "stream",
     "text": [
      "Epoch 1/20\n",
      "99/99 [==============================] - 4s 21ms/step - loss: 0.6971 - accuracy: 0.5961 - val_loss: 0.6431 - val_accuracy: 0.6291\n",
      "Epoch 2/20\n",
      "99/99 [==============================] - 1s 14ms/step - loss: 0.6418 - accuracy: 0.6332 - val_loss: 0.6286 - val_accuracy: 0.6473\n",
      "Epoch 3/20\n",
      "99/99 [==============================] - 1s 15ms/step - loss: 0.6205 - accuracy: 0.6542 - val_loss: 0.6175 - val_accuracy: 0.6486\n",
      "Epoch 4/20\n",
      "99/99 [==============================] - 2s 16ms/step - loss: 0.6067 - accuracy: 0.6623 - val_loss: 0.6070 - val_accuracy: 0.6644\n",
      "Epoch 5/20\n",
      "99/99 [==============================] - 1s 15ms/step - loss: 0.5958 - accuracy: 0.6697 - val_loss: 0.6113 - val_accuracy: 0.6518\n",
      "Epoch 6/20\n",
      "99/99 [==============================] - 2s 15ms/step - loss: 0.5877 - accuracy: 0.6775 - val_loss: 0.6210 - val_accuracy: 0.6520\n",
      "Epoch 7/20\n",
      "99/99 [==============================] - 1s 15ms/step - loss: 0.5770 - accuracy: 0.6861 - val_loss: 0.6157 - val_accuracy: 0.6539\n",
      "Epoch 00007: early stopping\n",
      "50/50 [==============================] - 1s 5ms/step\n",
      "[CV 2/3] END dropout_rate=0.1, learning_rate=0.001, node_type=gru, nodes=[64, 64];, score=0.647 total time=  15.1s\n"
     ]
    },
    {
     "name": "stderr",
     "output_type": "stream",
     "text": [
      "WARNING:absl:Found untraced functions such as gru_cell_1_layer_call_fn, gru_cell_1_layer_call_and_return_conditional_losses, gru_cell_1_layer_call_fn, gru_cell_1_layer_call_and_return_conditional_losses, gru_cell_1_layer_call_and_return_conditional_losses while saving (showing 5 of 5). These functions will not be directly callable after loading.\n"
     ]
    },
    {
     "name": "stdout",
     "output_type": "stream",
     "text": [
      "INFO:tensorflow:Assets written to: C:\\Users\\jared\\AppData\\Local\\Temp\\tmp3b5koy4z\\assets\n"
     ]
    },
    {
     "name": "stderr",
     "output_type": "stream",
     "text": [
      "INFO:tensorflow:Assets written to: C:\\Users\\jared\\AppData\\Local\\Temp\\tmp3b5koy4z\\assets\n",
      "WARNING:absl:<keras.layers.recurrent.GRUCell object at 0x0000017E0BBDADF0> has the same name 'GRUCell' as a built-in Keras object. Consider renaming <class 'keras.layers.recurrent.GRUCell'> to avoid naming conflicts when loading with `tf.keras.models.load_model`. If renaming is not possible, pass the object in the `custom_objects` parameter of the load function.\n",
      "C:\\Users\\jared\\anaconda3\\envs\\tflow\\lib\\site-packages\\scikeras\\wrappers.py:289: UserWarning: ``build_fn`` will be renamed to ``model`` in a future release, at which point use of ``build_fn`` will raise an Error instead.\n",
      "  warnings.warn(\n"
     ]
    },
    {
     "name": "stdout",
     "output_type": "stream",
     "text": [
      "Epoch 1/20\n",
      "99/99 [==============================] - 4s 21ms/step - loss: 0.6933 - accuracy: 0.5929 - val_loss: 0.6461 - val_accuracy: 0.6138\n",
      "Epoch 2/20\n",
      "99/99 [==============================] - 1s 14ms/step - loss: 0.6430 - accuracy: 0.6292 - val_loss: 0.6238 - val_accuracy: 0.6444\n",
      "Epoch 3/20\n",
      "99/99 [==============================] - 1s 14ms/step - loss: 0.6239 - accuracy: 0.6471 - val_loss: 0.6234 - val_accuracy: 0.6411\n",
      "Epoch 4/20\n",
      "99/99 [==============================] - 1s 15ms/step - loss: 0.6112 - accuracy: 0.6573 - val_loss: 0.6135 - val_accuracy: 0.6587\n",
      "Epoch 5/20\n",
      "99/99 [==============================] - 1s 15ms/step - loss: 0.5954 - accuracy: 0.6691 - val_loss: 0.6109 - val_accuracy: 0.6646\n",
      "Epoch 6/20\n",
      "99/99 [==============================] - 1s 15ms/step - loss: 0.5882 - accuracy: 0.6809 - val_loss: 0.6232 - val_accuracy: 0.6546\n",
      "Epoch 7/20\n",
      "99/99 [==============================] - 1s 14ms/step - loss: 0.5807 - accuracy: 0.6816 - val_loss: 0.6171 - val_accuracy: 0.6524\n",
      "Epoch 8/20\n",
      "99/99 [==============================] - 1s 14ms/step - loss: 0.5739 - accuracy: 0.6900 - val_loss: 0.6232 - val_accuracy: 0.6579\n",
      "Epoch 00008: early stopping\n",
      "50/50 [==============================] - 1s 5ms/step\n",
      "[CV 3/3] END dropout_rate=0.1, learning_rate=0.001, node_type=gru, nodes=[64, 64];, score=0.649 total time=  16.3s\n"
     ]
    },
    {
     "name": "stderr",
     "output_type": "stream",
     "text": [
      "WARNING:absl:Found untraced functions such as gru_cell_1_layer_call_fn, gru_cell_1_layer_call_and_return_conditional_losses, gru_cell_1_layer_call_fn, gru_cell_1_layer_call_and_return_conditional_losses, gru_cell_1_layer_call_and_return_conditional_losses while saving (showing 5 of 5). These functions will not be directly callable after loading.\n"
     ]
    },
    {
     "name": "stdout",
     "output_type": "stream",
     "text": [
      "INFO:tensorflow:Assets written to: C:\\Users\\jared\\AppData\\Local\\Temp\\tmpopxdn27q\\assets\n"
     ]
    },
    {
     "name": "stderr",
     "output_type": "stream",
     "text": [
      "INFO:tensorflow:Assets written to: C:\\Users\\jared\\AppData\\Local\\Temp\\tmpopxdn27q\\assets\n",
      "WARNING:absl:<keras.layers.recurrent.GRUCell object at 0x0000017E0BBDADF0> has the same name 'GRUCell' as a built-in Keras object. Consider renaming <class 'keras.layers.recurrent.GRUCell'> to avoid naming conflicts when loading with `tf.keras.models.load_model`. If renaming is not possible, pass the object in the `custom_objects` parameter of the load function.\n",
      "C:\\Users\\jared\\anaconda3\\envs\\tflow\\lib\\site-packages\\scikeras\\wrappers.py:289: UserWarning: ``build_fn`` will be renamed to ``model`` in a future release, at which point use of ``build_fn`` will raise an Error instead.\n",
      "  warnings.warn(\n"
     ]
    },
    {
     "name": "stdout",
     "output_type": "stream",
     "text": [
      "Epoch 1/20\n",
      "99/99 [==============================] - 5s 26ms/step - loss: 0.7066 - accuracy: 0.5785 - val_loss: 0.6541 - val_accuracy: 0.6253\n",
      "Epoch 2/20\n",
      "99/99 [==============================] - 2s 18ms/step - loss: 0.6538 - accuracy: 0.6231 - val_loss: 0.6318 - val_accuracy: 0.6472\n",
      "Epoch 3/20\n",
      "99/99 [==============================] - 2s 18ms/step - loss: 0.6361 - accuracy: 0.6378 - val_loss: 0.6239 - val_accuracy: 0.6417\n",
      "Epoch 4/20\n",
      "99/99 [==============================] - 2s 19ms/step - loss: 0.6235 - accuracy: 0.6533 - val_loss: 0.6189 - val_accuracy: 0.6518\n",
      "Epoch 5/20\n",
      "99/99 [==============================] - 2s 19ms/step - loss: 0.6148 - accuracy: 0.6558 - val_loss: 0.6139 - val_accuracy: 0.6524\n",
      "Epoch 6/20\n",
      "99/99 [==============================] - 2s 19ms/step - loss: 0.6066 - accuracy: 0.6629 - val_loss: 0.6113 - val_accuracy: 0.6538\n",
      "Epoch 7/20\n",
      "99/99 [==============================] - 2s 19ms/step - loss: 0.5972 - accuracy: 0.6701 - val_loss: 0.6133 - val_accuracy: 0.6560\n",
      "Epoch 8/20\n",
      "99/99 [==============================] - 2s 19ms/step - loss: 0.5960 - accuracy: 0.6725 - val_loss: 0.6216 - val_accuracy: 0.6486\n",
      "Epoch 9/20\n",
      "99/99 [==============================] - 2s 19ms/step - loss: 0.5848 - accuracy: 0.6813 - val_loss: 0.6164 - val_accuracy: 0.6562\n",
      "Epoch 00009: early stopping\n",
      "50/50 [==============================] - 1s 6ms/step\n",
      "[CV 1/3] END dropout_rate=0.1, learning_rate=0.001, node_type=gru, nodes=[32, 32, 32];, score=0.643 total time=  22.9s\n"
     ]
    },
    {
     "name": "stderr",
     "output_type": "stream",
     "text": [
      "WARNING:absl:Found untraced functions such as gru_cell_1_layer_call_fn, gru_cell_1_layer_call_and_return_conditional_losses, gru_cell_1_layer_call_fn, gru_cell_1_layer_call_and_return_conditional_losses, gru_cell_1_layer_call_and_return_conditional_losses while saving (showing 5 of 5). These functions will not be directly callable after loading.\n"
     ]
    },
    {
     "name": "stdout",
     "output_type": "stream",
     "text": [
      "INFO:tensorflow:Assets written to: C:\\Users\\jared\\AppData\\Local\\Temp\\tmpwvo_o30r\\assets\n"
     ]
    },
    {
     "name": "stderr",
     "output_type": "stream",
     "text": [
      "INFO:tensorflow:Assets written to: C:\\Users\\jared\\AppData\\Local\\Temp\\tmpwvo_o30r\\assets\n",
      "WARNING:absl:<keras.layers.recurrent.GRUCell object at 0x0000017E0BBDADF0> has the same name 'GRUCell' as a built-in Keras object. Consider renaming <class 'keras.layers.recurrent.GRUCell'> to avoid naming conflicts when loading with `tf.keras.models.load_model`. If renaming is not possible, pass the object in the `custom_objects` parameter of the load function.\n",
      "C:\\Users\\jared\\anaconda3\\envs\\tflow\\lib\\site-packages\\scikeras\\wrappers.py:289: UserWarning: ``build_fn`` will be renamed to ``model`` in a future release, at which point use of ``build_fn`` will raise an Error instead.\n",
      "  warnings.warn(\n"
     ]
    },
    {
     "name": "stdout",
     "output_type": "stream",
     "text": [
      "Epoch 1/20\n",
      "99/99 [==============================] - 6s 30ms/step - loss: 0.6829 - accuracy: 0.5935 - val_loss: 0.6534 - val_accuracy: 0.6124\n",
      "Epoch 2/20\n",
      "99/99 [==============================] - 2s 20ms/step - loss: 0.6436 - accuracy: 0.6301 - val_loss: 0.6265 - val_accuracy: 0.6524\n",
      "Epoch 3/20\n",
      "99/99 [==============================] - 2s 19ms/step - loss: 0.6256 - accuracy: 0.6468 - val_loss: 0.6104 - val_accuracy: 0.6561\n",
      "Epoch 4/20\n",
      "99/99 [==============================] - 2s 21ms/step - loss: 0.6177 - accuracy: 0.6557 - val_loss: 0.6106 - val_accuracy: 0.6545\n",
      "Epoch 5/20\n",
      "99/99 [==============================] - 2s 21ms/step - loss: 0.6119 - accuracy: 0.6561 - val_loss: 0.6219 - val_accuracy: 0.6445\n",
      "Epoch 6/20\n",
      "99/99 [==============================] - 2s 21ms/step - loss: 0.6009 - accuracy: 0.6661 - val_loss: 0.6192 - val_accuracy: 0.6570\n",
      "Epoch 00006: early stopping\n",
      "50/50 [==============================] - 1s 6ms/step\n",
      "[CV 2/3] END dropout_rate=0.1, learning_rate=0.001, node_type=gru, nodes=[32, 32, 32];, score=0.654 total time=  19.1s\n"
     ]
    },
    {
     "name": "stderr",
     "output_type": "stream",
     "text": [
      "WARNING:absl:Found untraced functions such as gru_cell_1_layer_call_fn, gru_cell_1_layer_call_and_return_conditional_losses, gru_cell_1_layer_call_fn, gru_cell_1_layer_call_and_return_conditional_losses, gru_cell_1_layer_call_and_return_conditional_losses while saving (showing 5 of 5). These functions will not be directly callable after loading.\n"
     ]
    },
    {
     "name": "stdout",
     "output_type": "stream",
     "text": [
      "INFO:tensorflow:Assets written to: C:\\Users\\jared\\AppData\\Local\\Temp\\tmp86eloya9\\assets\n"
     ]
    },
    {
     "name": "stderr",
     "output_type": "stream",
     "text": [
      "INFO:tensorflow:Assets written to: C:\\Users\\jared\\AppData\\Local\\Temp\\tmp86eloya9\\assets\n",
      "WARNING:absl:<keras.layers.recurrent.GRUCell object at 0x0000017E0BBDADF0> has the same name 'GRUCell' as a built-in Keras object. Consider renaming <class 'keras.layers.recurrent.GRUCell'> to avoid naming conflicts when loading with `tf.keras.models.load_model`. If renaming is not possible, pass the object in the `custom_objects` parameter of the load function.\n",
      "C:\\Users\\jared\\anaconda3\\envs\\tflow\\lib\\site-packages\\scikeras\\wrappers.py:289: UserWarning: ``build_fn`` will be renamed to ``model`` in a future release, at which point use of ``build_fn`` will raise an Error instead.\n",
      "  warnings.warn(\n"
     ]
    },
    {
     "name": "stdout",
     "output_type": "stream",
     "text": [
      "Epoch 1/20\n",
      "99/99 [==============================] - 6s 30ms/step - loss: 0.6916 - accuracy: 0.5838 - val_loss: 0.6532 - val_accuracy: 0.6307\n",
      "Epoch 2/20\n",
      "99/99 [==============================] - 2s 20ms/step - loss: 0.6453 - accuracy: 0.6284 - val_loss: 0.6264 - val_accuracy: 0.6563\n",
      "Epoch 3/20\n",
      "99/99 [==============================] - 2s 19ms/step - loss: 0.6264 - accuracy: 0.6492 - val_loss: 0.6171 - val_accuracy: 0.6609\n",
      "Epoch 4/20\n",
      "99/99 [==============================] - 2s 21ms/step - loss: 0.6190 - accuracy: 0.6548 - val_loss: 0.6160 - val_accuracy: 0.6631\n",
      "Epoch 5/20\n",
      "99/99 [==============================] - 2s 21ms/step - loss: 0.6092 - accuracy: 0.6633 - val_loss: 0.6155 - val_accuracy: 0.6610\n",
      "Epoch 6/20\n",
      "99/99 [==============================] - 2s 21ms/step - loss: 0.6049 - accuracy: 0.6611 - val_loss: 0.6378 - val_accuracy: 0.6383\n",
      "Epoch 7/20\n",
      "99/99 [==============================] - 2s 21ms/step - loss: 0.5968 - accuracy: 0.6734 - val_loss: 0.6198 - val_accuracy: 0.6578\n",
      "Epoch 8/20\n",
      "99/99 [==============================] - 2s 22ms/step - loss: 0.5920 - accuracy: 0.6770 - val_loss: 0.6402 - val_accuracy: 0.6378\n",
      "Epoch 00008: early stopping\n",
      "50/50 [==============================] - 1s 7ms/step\n",
      "[CV 3/3] END dropout_rate=0.1, learning_rate=0.001, node_type=gru, nodes=[32, 32, 32];, score=0.639 total time=  23.4s\n"
     ]
    },
    {
     "name": "stderr",
     "output_type": "stream",
     "text": [
      "WARNING:absl:Found untraced functions such as gru_cell_1_layer_call_fn, gru_cell_1_layer_call_and_return_conditional_losses, gru_cell_1_layer_call_fn, gru_cell_1_layer_call_and_return_conditional_losses, gru_cell_1_layer_call_and_return_conditional_losses while saving (showing 5 of 5). These functions will not be directly callable after loading.\n"
     ]
    },
    {
     "name": "stdout",
     "output_type": "stream",
     "text": [
      "INFO:tensorflow:Assets written to: C:\\Users\\jared\\AppData\\Local\\Temp\\tmpw5aj2jio\\assets\n"
     ]
    },
    {
     "name": "stderr",
     "output_type": "stream",
     "text": [
      "INFO:tensorflow:Assets written to: C:\\Users\\jared\\AppData\\Local\\Temp\\tmpw5aj2jio\\assets\n",
      "WARNING:absl:<keras.layers.recurrent.GRUCell object at 0x0000017E0BBDADF0> has the same name 'GRUCell' as a built-in Keras object. Consider renaming <class 'keras.layers.recurrent.GRUCell'> to avoid naming conflicts when loading with `tf.keras.models.load_model`. If renaming is not possible, pass the object in the `custom_objects` parameter of the load function.\n",
      "C:\\Users\\jared\\anaconda3\\envs\\tflow\\lib\\site-packages\\scikeras\\wrappers.py:289: UserWarning: ``build_fn`` will be renamed to ``model`` in a future release, at which point use of ``build_fn`` will raise an Error instead.\n",
      "  warnings.warn(\n"
     ]
    },
    {
     "name": "stdout",
     "output_type": "stream",
     "text": [
      "Epoch 1/20\n",
      "99/99 [==============================] - 3s 19ms/step - loss: 0.7610 - accuracy: 0.5246 - val_loss: 0.6841 - val_accuracy: 0.5332\n",
      "Epoch 2/20\n",
      "99/99 [==============================] - 1s 14ms/step - loss: 0.6800 - accuracy: 0.5516 - val_loss: 0.6768 - val_accuracy: 0.5663\n",
      "Epoch 3/20\n",
      "99/99 [==============================] - 1s 14ms/step - loss: 0.6750 - accuracy: 0.5614 - val_loss: 0.6755 - val_accuracy: 0.5665\n",
      "Epoch 4/20\n",
      "99/99 [==============================] - 1s 13ms/step - loss: 0.6714 - accuracy: 0.5651 - val_loss: 0.6767 - val_accuracy: 0.5482\n",
      "Epoch 5/20\n",
      "99/99 [==============================] - 1s 14ms/step - loss: 0.6689 - accuracy: 0.5702 - val_loss: 0.6680 - val_accuracy: 0.5729\n",
      "Epoch 6/20\n",
      "99/99 [==============================] - 1s 14ms/step - loss: 0.6686 - accuracy: 0.5700 - val_loss: 0.6770 - val_accuracy: 0.5491\n",
      "Epoch 7/20\n",
      "99/99 [==============================] - 1s 14ms/step - loss: 0.6657 - accuracy: 0.5749 - val_loss: 0.6692 - val_accuracy: 0.5697\n",
      "Epoch 8/20\n",
      "99/99 [==============================] - 1s 14ms/step - loss: 0.6662 - accuracy: 0.5714 - val_loss: 0.6705 - val_accuracy: 0.5657\n",
      "Epoch 00008: early stopping\n",
      "50/50 [==============================] - 0s 5ms/step\n",
      "[CV 1/3] END dropout_rate=0.1, learning_rate=0.01, node_type=lstm, nodes=[128];, score=nan total time=  14.9s\n"
     ]
    },
    {
     "name": "stderr",
     "output_type": "stream",
     "text": [
      "C:\\Users\\jared\\anaconda3\\envs\\tflow\\lib\\site-packages\\sklearn\\model_selection\\_validation.py:771: UserWarning: Scoring failed. The score on this train-test partition for these parameters will be set to nan. Details: \n",
      "Traceback (most recent call last):\n",
      "  File \"C:\\Users\\jared\\anaconda3\\envs\\tflow\\lib\\site-packages\\sklearn\\model_selection\\_validation.py\", line 762, in _score\n",
      "    scores = scorer(estimator, X_test, y_test)\n",
      "  File \"C:\\Users\\jared\\anaconda3\\envs\\tflow\\lib\\site-packages\\sklearn\\metrics\\_scorer.py\", line 216, in __call__\n",
      "    return self._score(\n",
      "  File \"C:\\Users\\jared\\anaconda3\\envs\\tflow\\lib\\site-packages\\sklearn\\metrics\\_scorer.py\", line 258, in _score\n",
      "    y_pred = method_caller(estimator, \"predict\", X)\n",
      "  File \"C:\\Users\\jared\\anaconda3\\envs\\tflow\\lib\\site-packages\\sklearn\\metrics\\_scorer.py\", line 68, in _cached_call\n",
      "    return getattr(estimator, method)(*args, **kwargs)\n",
      "  File \"C:\\Users\\jared\\anaconda3\\envs\\tflow\\lib\\site-packages\\scikeras\\wrappers.py\", line 1013, in predict\n",
      "    y_pred = self.target_encoder_.inverse_transform(y_pred)\n",
      "  File \"C:\\Users\\jared\\anaconda3\\envs\\tflow\\lib\\site-packages\\scikeras\\utils\\transformers.py\", line 257, in inverse_transform\n",
      "    class_predictions = self._final_encoder.inverse_transform(class_predictions)\n",
      "  File \"C:\\Users\\jared\\anaconda3\\envs\\tflow\\lib\\site-packages\\sklearn\\utils\\metaestimators.py\", line 113, in <lambda>\n",
      "    out = lambda *args, **kwargs: self.fn(obj, *args, **kwargs)  # noqa\n",
      "  File \"C:\\Users\\jared\\anaconda3\\envs\\tflow\\lib\\site-packages\\sklearn\\pipeline.py\", line 675, in inverse_transform\n",
      "    Xt = transform.inverse_transform(Xt)\n",
      "  File \"C:\\Users\\jared\\anaconda3\\envs\\tflow\\lib\\site-packages\\sklearn\\preprocessing\\_encoders.py\", line 990, in inverse_transform\n",
      "    X_tr[:, i] = self.categories_[i][labels]\n",
      "IndexError: index 56 is out of bounds for axis 0 with size 2\n",
      "\n",
      "  warnings.warn(\n",
      "WARNING:absl:Found untraced functions such as gru_cell_1_layer_call_fn, gru_cell_1_layer_call_and_return_conditional_losses, gru_cell_1_layer_call_fn, gru_cell_1_layer_call_and_return_conditional_losses, gru_cell_1_layer_call_and_return_conditional_losses while saving (showing 5 of 5). These functions will not be directly callable after loading.\n"
     ]
    },
    {
     "name": "stdout",
     "output_type": "stream",
     "text": [
      "INFO:tensorflow:Assets written to: C:\\Users\\jared\\AppData\\Local\\Temp\\tmp6ap5nw1d\\assets\n"
     ]
    },
    {
     "name": "stderr",
     "output_type": "stream",
     "text": [
      "INFO:tensorflow:Assets written to: C:\\Users\\jared\\AppData\\Local\\Temp\\tmp6ap5nw1d\\assets\n",
      "WARNING:absl:<keras.layers.recurrent.GRUCell object at 0x0000017E0BBDADF0> has the same name 'GRUCell' as a built-in Keras object. Consider renaming <class 'keras.layers.recurrent.GRUCell'> to avoid naming conflicts when loading with `tf.keras.models.load_model`. If renaming is not possible, pass the object in the `custom_objects` parameter of the load function.\n",
      "C:\\Users\\jared\\anaconda3\\envs\\tflow\\lib\\site-packages\\scikeras\\wrappers.py:289: UserWarning: ``build_fn`` will be renamed to ``model`` in a future release, at which point use of ``build_fn`` will raise an Error instead.\n",
      "  warnings.warn(\n"
     ]
    },
    {
     "name": "stdout",
     "output_type": "stream",
     "text": [
      "Epoch 1/20\n",
      "99/99 [==============================] - 3s 19ms/step - loss: 0.7174 - accuracy: 0.5303 - val_loss: 0.6810 - val_accuracy: 0.5566\n",
      "Epoch 2/20\n",
      "99/99 [==============================] - 1s 13ms/step - loss: 0.6774 - accuracy: 0.5565 - val_loss: 0.6760 - val_accuracy: 0.5654\n",
      "Epoch 3/20\n",
      "99/99 [==============================] - 1s 13ms/step - loss: 0.6728 - accuracy: 0.5628 - val_loss: 0.6721 - val_accuracy: 0.5696\n",
      "Epoch 4/20\n",
      "99/99 [==============================] - 1s 14ms/step - loss: 0.6710 - accuracy: 0.5672 - val_loss: 0.6794 - val_accuracy: 0.5554\n",
      "Epoch 5/20\n",
      "99/99 [==============================] - 1s 14ms/step - loss: 0.6684 - accuracy: 0.5700 - val_loss: 0.6926 - val_accuracy: 0.5441\n",
      "Epoch 6/20\n",
      "99/99 [==============================] - 1s 14ms/step - loss: 0.6671 - accuracy: 0.5714 - val_loss: 0.6650 - val_accuracy: 0.5795\n",
      "Epoch 7/20\n",
      "99/99 [==============================] - 1s 14ms/step - loss: 0.6647 - accuracy: 0.5745 - val_loss: 0.6676 - val_accuracy: 0.5755\n",
      "Epoch 8/20\n",
      "99/99 [==============================] - 1s 13ms/step - loss: 0.6625 - accuracy: 0.5775 - val_loss: 0.6702 - val_accuracy: 0.5660\n",
      "Epoch 9/20\n",
      "99/99 [==============================] - 1s 13ms/step - loss: 0.6616 - accuracy: 0.5808 - val_loss: 0.6707 - val_accuracy: 0.5680\n",
      "Epoch 00009: early stopping\n",
      "50/50 [==============================] - 0s 5ms/step\n",
      "[CV 2/3] END dropout_rate=0.1, learning_rate=0.01, node_type=lstm, nodes=[128];, score=nan total time=  16.2s\n"
     ]
    },
    {
     "name": "stderr",
     "output_type": "stream",
     "text": [
      "C:\\Users\\jared\\anaconda3\\envs\\tflow\\lib\\site-packages\\sklearn\\model_selection\\_validation.py:771: UserWarning: Scoring failed. The score on this train-test partition for these parameters will be set to nan. Details: \n",
      "Traceback (most recent call last):\n",
      "  File \"C:\\Users\\jared\\anaconda3\\envs\\tflow\\lib\\site-packages\\sklearn\\model_selection\\_validation.py\", line 762, in _score\n",
      "    scores = scorer(estimator, X_test, y_test)\n",
      "  File \"C:\\Users\\jared\\anaconda3\\envs\\tflow\\lib\\site-packages\\sklearn\\metrics\\_scorer.py\", line 216, in __call__\n",
      "    return self._score(\n",
      "  File \"C:\\Users\\jared\\anaconda3\\envs\\tflow\\lib\\site-packages\\sklearn\\metrics\\_scorer.py\", line 258, in _score\n",
      "    y_pred = method_caller(estimator, \"predict\", X)\n",
      "  File \"C:\\Users\\jared\\anaconda3\\envs\\tflow\\lib\\site-packages\\sklearn\\metrics\\_scorer.py\", line 68, in _cached_call\n",
      "    return getattr(estimator, method)(*args, **kwargs)\n",
      "  File \"C:\\Users\\jared\\anaconda3\\envs\\tflow\\lib\\site-packages\\scikeras\\wrappers.py\", line 1013, in predict\n",
      "    y_pred = self.target_encoder_.inverse_transform(y_pred)\n",
      "  File \"C:\\Users\\jared\\anaconda3\\envs\\tflow\\lib\\site-packages\\scikeras\\utils\\transformers.py\", line 257, in inverse_transform\n",
      "    class_predictions = self._final_encoder.inverse_transform(class_predictions)\n",
      "  File \"C:\\Users\\jared\\anaconda3\\envs\\tflow\\lib\\site-packages\\sklearn\\utils\\metaestimators.py\", line 113, in <lambda>\n",
      "    out = lambda *args, **kwargs: self.fn(obj, *args, **kwargs)  # noqa\n",
      "  File \"C:\\Users\\jared\\anaconda3\\envs\\tflow\\lib\\site-packages\\sklearn\\pipeline.py\", line 675, in inverse_transform\n",
      "    Xt = transform.inverse_transform(Xt)\n",
      "  File \"C:\\Users\\jared\\anaconda3\\envs\\tflow\\lib\\site-packages\\sklearn\\preprocessing\\_encoders.py\", line 990, in inverse_transform\n",
      "    X_tr[:, i] = self.categories_[i][labels]\n",
      "IndexError: index 46 is out of bounds for axis 0 with size 2\n",
      "\n",
      "  warnings.warn(\n",
      "WARNING:absl:Found untraced functions such as gru_cell_1_layer_call_fn, gru_cell_1_layer_call_and_return_conditional_losses, gru_cell_1_layer_call_fn, gru_cell_1_layer_call_and_return_conditional_losses, gru_cell_1_layer_call_and_return_conditional_losses while saving (showing 5 of 5). These functions will not be directly callable after loading.\n"
     ]
    },
    {
     "name": "stdout",
     "output_type": "stream",
     "text": [
      "INFO:tensorflow:Assets written to: C:\\Users\\jared\\AppData\\Local\\Temp\\tmpryipbgcf\\assets\n"
     ]
    },
    {
     "name": "stderr",
     "output_type": "stream",
     "text": [
      "INFO:tensorflow:Assets written to: C:\\Users\\jared\\AppData\\Local\\Temp\\tmpryipbgcf\\assets\n",
      "WARNING:absl:<keras.layers.recurrent.GRUCell object at 0x0000017E0BBDADF0> has the same name 'GRUCell' as a built-in Keras object. Consider renaming <class 'keras.layers.recurrent.GRUCell'> to avoid naming conflicts when loading with `tf.keras.models.load_model`. If renaming is not possible, pass the object in the `custom_objects` parameter of the load function.\n",
      "C:\\Users\\jared\\anaconda3\\envs\\tflow\\lib\\site-packages\\scikeras\\wrappers.py:289: UserWarning: ``build_fn`` will be renamed to ``model`` in a future release, at which point use of ``build_fn`` will raise an Error instead.\n",
      "  warnings.warn(\n"
     ]
    },
    {
     "name": "stdout",
     "output_type": "stream",
     "text": [
      "Epoch 1/20\n",
      "99/99 [==============================] - 3s 19ms/step - loss: 0.7366 - accuracy: 0.5274 - val_loss: 0.6794 - val_accuracy: 0.5570\n",
      "Epoch 2/20\n",
      "99/99 [==============================] - 1s 12ms/step - loss: 0.6783 - accuracy: 0.5546 - val_loss: 0.6764 - val_accuracy: 0.5623\n",
      "Epoch 3/20\n",
      "99/99 [==============================] - 1s 12ms/step - loss: 0.6731 - accuracy: 0.5633 - val_loss: 0.6731 - val_accuracy: 0.5680\n",
      "Epoch 4/20\n",
      "99/99 [==============================] - 1s 12ms/step - loss: 0.6702 - accuracy: 0.5692 - val_loss: 0.6699 - val_accuracy: 0.5657\n",
      "Epoch 5/20\n",
      "99/99 [==============================] - 1s 12ms/step - loss: 0.6687 - accuracy: 0.5716 - val_loss: 0.6678 - val_accuracy: 0.5768\n",
      "Epoch 6/20\n",
      "99/99 [==============================] - 1s 12ms/step - loss: 0.6665 - accuracy: 0.5745 - val_loss: 0.6682 - val_accuracy: 0.5745\n",
      "Epoch 7/20\n",
      "99/99 [==============================] - 1s 12ms/step - loss: 0.6642 - accuracy: 0.5771 - val_loss: 0.6831 - val_accuracy: 0.5531\n",
      "Epoch 8/20\n",
      "99/99 [==============================] - 1s 12ms/step - loss: 0.6625 - accuracy: 0.5789 - val_loss: 0.6719 - val_accuracy: 0.5720\n",
      "Epoch 00008: early stopping\n",
      "50/50 [==============================] - 0s 5ms/step\n",
      "[CV 3/3] END dropout_rate=0.1, learning_rate=0.01, node_type=lstm, nodes=[128];, score=nan total time=  13.6s\n"
     ]
    },
    {
     "name": "stderr",
     "output_type": "stream",
     "text": [
      "C:\\Users\\jared\\anaconda3\\envs\\tflow\\lib\\site-packages\\sklearn\\model_selection\\_validation.py:771: UserWarning: Scoring failed. The score on this train-test partition for these parameters will be set to nan. Details: \n",
      "Traceback (most recent call last):\n",
      "  File \"C:\\Users\\jared\\anaconda3\\envs\\tflow\\lib\\site-packages\\sklearn\\model_selection\\_validation.py\", line 762, in _score\n",
      "    scores = scorer(estimator, X_test, y_test)\n",
      "  File \"C:\\Users\\jared\\anaconda3\\envs\\tflow\\lib\\site-packages\\sklearn\\metrics\\_scorer.py\", line 216, in __call__\n",
      "    return self._score(\n",
      "  File \"C:\\Users\\jared\\anaconda3\\envs\\tflow\\lib\\site-packages\\sklearn\\metrics\\_scorer.py\", line 258, in _score\n",
      "    y_pred = method_caller(estimator, \"predict\", X)\n",
      "  File \"C:\\Users\\jared\\anaconda3\\envs\\tflow\\lib\\site-packages\\sklearn\\metrics\\_scorer.py\", line 68, in _cached_call\n",
      "    return getattr(estimator, method)(*args, **kwargs)\n",
      "  File \"C:\\Users\\jared\\anaconda3\\envs\\tflow\\lib\\site-packages\\scikeras\\wrappers.py\", line 1013, in predict\n",
      "    y_pred = self.target_encoder_.inverse_transform(y_pred)\n",
      "  File \"C:\\Users\\jared\\anaconda3\\envs\\tflow\\lib\\site-packages\\scikeras\\utils\\transformers.py\", line 257, in inverse_transform\n",
      "    class_predictions = self._final_encoder.inverse_transform(class_predictions)\n",
      "  File \"C:\\Users\\jared\\anaconda3\\envs\\tflow\\lib\\site-packages\\sklearn\\utils\\metaestimators.py\", line 113, in <lambda>\n",
      "    out = lambda *args, **kwargs: self.fn(obj, *args, **kwargs)  # noqa\n",
      "  File \"C:\\Users\\jared\\anaconda3\\envs\\tflow\\lib\\site-packages\\sklearn\\pipeline.py\", line 675, in inverse_transform\n",
      "    Xt = transform.inverse_transform(Xt)\n",
      "  File \"C:\\Users\\jared\\anaconda3\\envs\\tflow\\lib\\site-packages\\sklearn\\preprocessing\\_encoders.py\", line 990, in inverse_transform\n",
      "    X_tr[:, i] = self.categories_[i][labels]\n",
      "IndexError: index 59 is out of bounds for axis 0 with size 2\n",
      "\n",
      "  warnings.warn(\n",
      "WARNING:absl:Found untraced functions such as gru_cell_1_layer_call_fn, gru_cell_1_layer_call_and_return_conditional_losses, gru_cell_1_layer_call_fn, gru_cell_1_layer_call_and_return_conditional_losses, gru_cell_1_layer_call_and_return_conditional_losses while saving (showing 5 of 5). These functions will not be directly callable after loading.\n"
     ]
    },
    {
     "name": "stdout",
     "output_type": "stream",
     "text": [
      "INFO:tensorflow:Assets written to: C:\\Users\\jared\\AppData\\Local\\Temp\\tmpsgb8pvs2\\assets\n"
     ]
    },
    {
     "name": "stderr",
     "output_type": "stream",
     "text": [
      "INFO:tensorflow:Assets written to: C:\\Users\\jared\\AppData\\Local\\Temp\\tmpsgb8pvs2\\assets\n",
      "WARNING:absl:<keras.layers.recurrent.GRUCell object at 0x0000017E0BBDADF0> has the same name 'GRUCell' as a built-in Keras object. Consider renaming <class 'keras.layers.recurrent.GRUCell'> to avoid naming conflicts when loading with `tf.keras.models.load_model`. If renaming is not possible, pass the object in the `custom_objects` parameter of the load function.\n",
      "C:\\Users\\jared\\anaconda3\\envs\\tflow\\lib\\site-packages\\scikeras\\wrappers.py:289: UserWarning: ``build_fn`` will be renamed to ``model`` in a future release, at which point use of ``build_fn`` will raise an Error instead.\n",
      "  warnings.warn(\n"
     ]
    },
    {
     "name": "stdout",
     "output_type": "stream",
     "text": [
      "Epoch 1/20\n",
      "99/99 [==============================] - 4s 24ms/step - loss: 0.6947 - accuracy: 0.5860 - val_loss: 0.6751 - val_accuracy: 0.5769\n",
      "Epoch 2/20\n",
      "99/99 [==============================] - 2s 17ms/step - loss: 0.6436 - accuracy: 0.6305 - val_loss: 0.6720 - val_accuracy: 0.5553\n",
      "Epoch 3/20\n",
      "99/99 [==============================] - 2s 17ms/step - loss: 0.6289 - accuracy: 0.6424 - val_loss: 0.6417 - val_accuracy: 0.6336\n",
      "Epoch 4/20\n",
      "99/99 [==============================] - 2s 17ms/step - loss: 0.6245 - accuracy: 0.6523 - val_loss: 0.6204 - val_accuracy: 0.6555\n",
      "Epoch 5/20\n",
      "99/99 [==============================] - 2s 16ms/step - loss: 0.6179 - accuracy: 0.6512 - val_loss: 0.6190 - val_accuracy: 0.6487\n",
      "Epoch 6/20\n",
      "99/99 [==============================] - 2s 16ms/step - loss: 0.6109 - accuracy: 0.6577 - val_loss: 0.6195 - val_accuracy: 0.6464\n",
      "Epoch 7/20\n",
      "99/99 [==============================] - 2s 16ms/step - loss: 0.6108 - accuracy: 0.6579 - val_loss: 0.6329 - val_accuracy: 0.6375\n",
      "Epoch 8/20\n",
      "99/99 [==============================] - 2s 16ms/step - loss: 0.6088 - accuracy: 0.6602 - val_loss: 0.6246 - val_accuracy: 0.6380\n",
      "Epoch 00008: early stopping\n",
      "50/50 [==============================] - 1s 5ms/step\n",
      "[CV 1/3] END dropout_rate=0.1, learning_rate=0.01, node_type=lstm, nodes=[64, 64];, score=0.628 total time=  18.4s\n"
     ]
    },
    {
     "name": "stderr",
     "output_type": "stream",
     "text": [
      "WARNING:absl:Found untraced functions such as gru_cell_1_layer_call_fn, gru_cell_1_layer_call_and_return_conditional_losses, gru_cell_1_layer_call_fn, gru_cell_1_layer_call_and_return_conditional_losses, gru_cell_1_layer_call_and_return_conditional_losses while saving (showing 5 of 5). These functions will not be directly callable after loading.\n"
     ]
    },
    {
     "name": "stdout",
     "output_type": "stream",
     "text": [
      "INFO:tensorflow:Assets written to: C:\\Users\\jared\\AppData\\Local\\Temp\\tmppwe5y4e_\\assets\n"
     ]
    },
    {
     "name": "stderr",
     "output_type": "stream",
     "text": [
      "INFO:tensorflow:Assets written to: C:\\Users\\jared\\AppData\\Local\\Temp\\tmppwe5y4e_\\assets\n",
      "WARNING:absl:<keras.layers.recurrent.GRUCell object at 0x0000017E0BBDADF0> has the same name 'GRUCell' as a built-in Keras object. Consider renaming <class 'keras.layers.recurrent.GRUCell'> to avoid naming conflicts when loading with `tf.keras.models.load_model`. If renaming is not possible, pass the object in the `custom_objects` parameter of the load function.\n",
      "C:\\Users\\jared\\anaconda3\\envs\\tflow\\lib\\site-packages\\scikeras\\wrappers.py:289: UserWarning: ``build_fn`` will be renamed to ``model`` in a future release, at which point use of ``build_fn`` will raise an Error instead.\n",
      "  warnings.warn(\n"
     ]
    },
    {
     "name": "stdout",
     "output_type": "stream",
     "text": [
      "Epoch 1/20\n",
      "99/99 [==============================] - 4s 25ms/step - loss: 0.6967 - accuracy: 0.5875 - val_loss: 0.6665 - val_accuracy: 0.5996\n",
      "Epoch 2/20\n",
      "99/99 [==============================] - 2s 16ms/step - loss: 0.6325 - accuracy: 0.6354 - val_loss: 0.6518 - val_accuracy: 0.6255\n",
      "Epoch 3/20\n",
      "99/99 [==============================] - 2s 17ms/step - loss: 0.6235 - accuracy: 0.6461 - val_loss: 0.6394 - val_accuracy: 0.6411\n",
      "Epoch 4/20\n",
      "99/99 [==============================] - 2s 17ms/step - loss: 0.6175 - accuracy: 0.6512 - val_loss: 0.6302 - val_accuracy: 0.6449\n",
      "Epoch 5/20\n",
      "99/99 [==============================] - 2s 17ms/step - loss: 0.6236 - accuracy: 0.6494 - val_loss: 0.6722 - val_accuracy: 0.6144\n",
      "Epoch 6/20\n",
      "99/99 [==============================] - 2s 16ms/step - loss: 0.6150 - accuracy: 0.6574 - val_loss: 0.6281 - val_accuracy: 0.6486\n",
      "Epoch 7/20\n",
      "99/99 [==============================] - 2s 16ms/step - loss: 0.6127 - accuracy: 0.6615 - val_loss: 0.6320 - val_accuracy: 0.6139\n",
      "Epoch 8/20\n",
      "99/99 [==============================] - 2s 16ms/step - loss: 0.6087 - accuracy: 0.6653 - val_loss: 0.6113 - val_accuracy: 0.6670\n",
      "Epoch 9/20\n",
      "99/99 [==============================] - 2s 16ms/step - loss: 0.6034 - accuracy: 0.6717 - val_loss: 0.6331 - val_accuracy: 0.6430\n",
      "Epoch 10/20\n",
      "99/99 [==============================] - 2s 16ms/step - loss: 0.5983 - accuracy: 0.6782 - val_loss: 0.5993 - val_accuracy: 0.6711\n",
      "Epoch 11/20\n",
      "99/99 [==============================] - 2s 16ms/step - loss: 0.5972 - accuracy: 0.6755 - val_loss: 0.6323 - val_accuracy: 0.6365\n",
      "Epoch 12/20\n",
      "99/99 [==============================] - 2s 16ms/step - loss: 0.5967 - accuracy: 0.6730 - val_loss: 0.6262 - val_accuracy: 0.6534\n",
      "Epoch 13/20\n",
      "99/99 [==============================] - 2s 16ms/step - loss: 0.5958 - accuracy: 0.6823 - val_loss: 0.5957 - val_accuracy: 0.6821\n",
      "Epoch 14/20\n",
      "99/99 [==============================] - 2s 15ms/step - loss: 0.5935 - accuracy: 0.6817 - val_loss: 0.5948 - val_accuracy: 0.6803\n",
      "Epoch 15/20\n",
      "99/99 [==============================] - 2s 16ms/step - loss: 0.5923 - accuracy: 0.6859 - val_loss: 0.6104 - val_accuracy: 0.6628\n",
      "Epoch 16/20\n",
      "99/99 [==============================] - 2s 15ms/step - loss: 0.5967 - accuracy: 0.6772 - val_loss: 0.6050 - val_accuracy: 0.6740\n",
      "Epoch 17/20\n",
      "99/99 [==============================] - 2s 16ms/step - loss: 0.5915 - accuracy: 0.6829 - val_loss: 0.6078 - val_accuracy: 0.6677\n",
      "Epoch 00017: early stopping\n",
      "50/50 [==============================] - 1s 5ms/step\n",
      "[CV 2/3] END dropout_rate=0.1, learning_rate=0.01, node_type=lstm, nodes=[64, 64];, score=0.662 total time=  32.2s\n"
     ]
    },
    {
     "name": "stderr",
     "output_type": "stream",
     "text": [
      "WARNING:absl:Found untraced functions such as gru_cell_1_layer_call_fn, gru_cell_1_layer_call_and_return_conditional_losses, gru_cell_1_layer_call_fn, gru_cell_1_layer_call_and_return_conditional_losses, gru_cell_1_layer_call_and_return_conditional_losses while saving (showing 5 of 5). These functions will not be directly callable after loading.\n"
     ]
    },
    {
     "name": "stdout",
     "output_type": "stream",
     "text": [
      "INFO:tensorflow:Assets written to: C:\\Users\\jared\\AppData\\Local\\Temp\\tmptzqsgb8b\\assets\n"
     ]
    },
    {
     "name": "stderr",
     "output_type": "stream",
     "text": [
      "INFO:tensorflow:Assets written to: C:\\Users\\jared\\AppData\\Local\\Temp\\tmptzqsgb8b\\assets\n",
      "WARNING:absl:<keras.layers.recurrent.GRUCell object at 0x0000017E0BBDADF0> has the same name 'GRUCell' as a built-in Keras object. Consider renaming <class 'keras.layers.recurrent.GRUCell'> to avoid naming conflicts when loading with `tf.keras.models.load_model`. If renaming is not possible, pass the object in the `custom_objects` parameter of the load function.\n",
      "C:\\Users\\jared\\anaconda3\\envs\\tflow\\lib\\site-packages\\scikeras\\wrappers.py:289: UserWarning: ``build_fn`` will be renamed to ``model`` in a future release, at which point use of ``build_fn`` will raise an Error instead.\n",
      "  warnings.warn(\n"
     ]
    },
    {
     "name": "stdout",
     "output_type": "stream",
     "text": [
      "Epoch 1/20\n",
      "99/99 [==============================] - 4s 24ms/step - loss: 0.6860 - accuracy: 0.5844 - val_loss: 0.6773 - val_accuracy: 0.5772\n",
      "Epoch 2/20\n",
      "99/99 [==============================] - 2s 16ms/step - loss: 0.6379 - accuracy: 0.6366 - val_loss: 0.6375 - val_accuracy: 0.6459\n",
      "Epoch 3/20\n",
      "99/99 [==============================] - 2s 16ms/step - loss: 0.6259 - accuracy: 0.6479 - val_loss: 0.6419 - val_accuracy: 0.6288\n",
      "Epoch 4/20\n",
      "99/99 [==============================] - 2s 16ms/step - loss: 0.6216 - accuracy: 0.6524 - val_loss: 0.6206 - val_accuracy: 0.6491\n",
      "Epoch 5/20\n",
      "99/99 [==============================] - 2s 16ms/step - loss: 0.6198 - accuracy: 0.6475 - val_loss: 0.6280 - val_accuracy: 0.6465\n",
      "Epoch 6/20\n",
      "99/99 [==============================] - 2s 16ms/step - loss: 0.6145 - accuracy: 0.6550 - val_loss: 0.6287 - val_accuracy: 0.6499\n",
      "Epoch 7/20\n",
      "99/99 [==============================] - 2s 16ms/step - loss: 0.6143 - accuracy: 0.6610 - val_loss: 0.6226 - val_accuracy: 0.6394\n",
      "Epoch 00007: early stopping\n",
      "50/50 [==============================] - 1s 5ms/step\n",
      "[CV 3/3] END dropout_rate=0.1, learning_rate=0.01, node_type=lstm, nodes=[64, 64];, score=0.639 total time=  16.4s\n"
     ]
    },
    {
     "name": "stderr",
     "output_type": "stream",
     "text": [
      "WARNING:absl:Found untraced functions such as gru_cell_1_layer_call_fn, gru_cell_1_layer_call_and_return_conditional_losses, gru_cell_1_layer_call_fn, gru_cell_1_layer_call_and_return_conditional_losses, gru_cell_1_layer_call_and_return_conditional_losses while saving (showing 5 of 5). These functions will not be directly callable after loading.\n"
     ]
    },
    {
     "name": "stdout",
     "output_type": "stream",
     "text": [
      "INFO:tensorflow:Assets written to: C:\\Users\\jared\\AppData\\Local\\Temp\\tmpki2c5ro6\\assets\n"
     ]
    },
    {
     "name": "stderr",
     "output_type": "stream",
     "text": [
      "INFO:tensorflow:Assets written to: C:\\Users\\jared\\AppData\\Local\\Temp\\tmpki2c5ro6\\assets\n",
      "WARNING:absl:<keras.layers.recurrent.GRUCell object at 0x0000017E0BBDADF0> has the same name 'GRUCell' as a built-in Keras object. Consider renaming <class 'keras.layers.recurrent.GRUCell'> to avoid naming conflicts when loading with `tf.keras.models.load_model`. If renaming is not possible, pass the object in the `custom_objects` parameter of the load function.\n",
      "C:\\Users\\jared\\anaconda3\\envs\\tflow\\lib\\site-packages\\scikeras\\wrappers.py:289: UserWarning: ``build_fn`` will be renamed to ``model`` in a future release, at which point use of ``build_fn`` will raise an Error instead.\n",
      "  warnings.warn(\n"
     ]
    },
    {
     "name": "stdout",
     "output_type": "stream",
     "text": [
      "Epoch 1/20\n",
      "99/99 [==============================] - 5s 31ms/step - loss: 0.6950 - accuracy: 0.5595 - val_loss: 0.6868 - val_accuracy: 0.5196\n",
      "Epoch 2/20\n",
      "99/99 [==============================] - 2s 20ms/step - loss: 0.6483 - accuracy: 0.6212 - val_loss: 0.6614 - val_accuracy: 0.6181\n",
      "Epoch 3/20\n",
      "99/99 [==============================] - 2s 20ms/step - loss: 0.6319 - accuracy: 0.6430 - val_loss: 0.6435 - val_accuracy: 0.6356\n",
      "Epoch 4/20\n",
      "99/99 [==============================] - 2s 19ms/step - loss: 0.6252 - accuracy: 0.6486 - val_loss: 0.6273 - val_accuracy: 0.6498\n",
      "Epoch 5/20\n",
      "99/99 [==============================] - 2s 19ms/step - loss: 0.6198 - accuracy: 0.6516 - val_loss: 0.6273 - val_accuracy: 0.6541\n",
      "Epoch 6/20\n",
      "99/99 [==============================] - 2s 19ms/step - loss: 0.6158 - accuracy: 0.6568 - val_loss: 0.6225 - val_accuracy: 0.6486\n",
      "Epoch 7/20\n",
      "99/99 [==============================] - 2s 19ms/step - loss: 0.6065 - accuracy: 0.6659 - val_loss: 0.6244 - val_accuracy: 0.6383\n",
      "Epoch 8/20\n",
      "99/99 [==============================] - 2s 19ms/step - loss: 0.6055 - accuracy: 0.6612 - val_loss: 0.6198 - val_accuracy: 0.6536\n",
      "Epoch 9/20\n",
      "99/99 [==============================] - 2s 21ms/step - loss: 0.6074 - accuracy: 0.6650 - val_loss: 0.6196 - val_accuracy: 0.6565\n",
      "Epoch 10/20\n",
      "99/99 [==============================] - 2s 20ms/step - loss: 0.6020 - accuracy: 0.6670 - val_loss: 0.6204 - val_accuracy: 0.6526\n",
      "Epoch 11/20\n",
      "99/99 [==============================] - 2s 19ms/step - loss: 0.5980 - accuracy: 0.6717 - val_loss: 0.6281 - val_accuracy: 0.6565\n",
      "Epoch 12/20\n",
      "99/99 [==============================] - 2s 19ms/step - loss: 0.5916 - accuracy: 0.6794 - val_loss: 0.6452 - val_accuracy: 0.6390\n",
      "Epoch 00012: early stopping\n",
      "50/50 [==============================] - 1s 6ms/step\n",
      "[CV 1/3] END dropout_rate=0.1, learning_rate=0.01, node_type=lstm, nodes=[32, 32, 32];, score=0.638 total time=  29.5s\n"
     ]
    },
    {
     "name": "stderr",
     "output_type": "stream",
     "text": [
      "WARNING:absl:Found untraced functions such as gru_cell_1_layer_call_fn, gru_cell_1_layer_call_and_return_conditional_losses, gru_cell_1_layer_call_fn, gru_cell_1_layer_call_and_return_conditional_losses, gru_cell_1_layer_call_and_return_conditional_losses while saving (showing 5 of 5). These functions will not be directly callable after loading.\n"
     ]
    },
    {
     "name": "stdout",
     "output_type": "stream",
     "text": [
      "INFO:tensorflow:Assets written to: C:\\Users\\jared\\AppData\\Local\\Temp\\tmplehk7ix3\\assets\n"
     ]
    },
    {
     "name": "stderr",
     "output_type": "stream",
     "text": [
      "INFO:tensorflow:Assets written to: C:\\Users\\jared\\AppData\\Local\\Temp\\tmplehk7ix3\\assets\n",
      "WARNING:absl:<keras.layers.recurrent.GRUCell object at 0x0000017E0BBDADF0> has the same name 'GRUCell' as a built-in Keras object. Consider renaming <class 'keras.layers.recurrent.GRUCell'> to avoid naming conflicts when loading with `tf.keras.models.load_model`. If renaming is not possible, pass the object in the `custom_objects` parameter of the load function.\n",
      "C:\\Users\\jared\\anaconda3\\envs\\tflow\\lib\\site-packages\\scikeras\\wrappers.py:289: UserWarning: ``build_fn`` will be renamed to ``model`` in a future release, at which point use of ``build_fn`` will raise an Error instead.\n",
      "  warnings.warn(\n"
     ]
    },
    {
     "name": "stdout",
     "output_type": "stream",
     "text": [
      "Epoch 1/20\n",
      "99/99 [==============================] - 5s 28ms/step - loss: 0.6967 - accuracy: 0.5597 - val_loss: 0.6789 - val_accuracy: 0.5962\n",
      "Epoch 2/20\n",
      "99/99 [==============================] - 2s 19ms/step - loss: 0.6459 - accuracy: 0.6221 - val_loss: 0.6631 - val_accuracy: 0.6325\n",
      "Epoch 3/20\n",
      "99/99 [==============================] - 2s 19ms/step - loss: 0.6327 - accuracy: 0.6369 - val_loss: 0.6568 - val_accuracy: 0.6118\n",
      "Epoch 4/20\n",
      "99/99 [==============================] - 2s 19ms/step - loss: 0.6201 - accuracy: 0.6521 - val_loss: 0.6393 - val_accuracy: 0.6364\n",
      "Epoch 5/20\n",
      "99/99 [==============================] - 2s 19ms/step - loss: 0.6186 - accuracy: 0.6522 - val_loss: 0.6613 - val_accuracy: 0.5936\n",
      "Epoch 6/20\n",
      "99/99 [==============================] - 2s 19ms/step - loss: 0.6137 - accuracy: 0.6600 - val_loss: 0.7103 - val_accuracy: 0.6151\n",
      "Epoch 7/20\n",
      "99/99 [==============================] - 2s 20ms/step - loss: 0.6120 - accuracy: 0.6630 - val_loss: 0.6171 - val_accuracy: 0.6512\n",
      "Epoch 8/20\n",
      "99/99 [==============================] - 2s 21ms/step - loss: 0.6037 - accuracy: 0.6661 - val_loss: 0.6262 - val_accuracy: 0.6476\n",
      "Epoch 9/20\n",
      "99/99 [==============================] - 2s 21ms/step - loss: 0.6056 - accuracy: 0.6676 - val_loss: 0.6146 - val_accuracy: 0.6739\n",
      "Epoch 10/20\n",
      "99/99 [==============================] - 2s 21ms/step - loss: 0.6024 - accuracy: 0.6693 - val_loss: 0.6091 - val_accuracy: 0.6721\n",
      "Epoch 11/20\n",
      "99/99 [==============================] - 2s 21ms/step - loss: 0.5988 - accuracy: 0.6747 - val_loss: 0.6108 - val_accuracy: 0.6575\n",
      "Epoch 12/20\n",
      "99/99 [==============================] - 2s 21ms/step - loss: 0.5979 - accuracy: 0.6757 - val_loss: 0.6062 - val_accuracy: 0.6670\n",
      "Epoch 13/20\n",
      "99/99 [==============================] - 2s 21ms/step - loss: 0.5899 - accuracy: 0.6799 - val_loss: 0.6084 - val_accuracy: 0.6693\n",
      "Epoch 14/20\n",
      "99/99 [==============================] - 2s 20ms/step - loss: 0.5933 - accuracy: 0.6708 - val_loss: 0.5976 - val_accuracy: 0.6698\n",
      "Epoch 15/20\n",
      "99/99 [==============================] - 2s 20ms/step - loss: 0.5883 - accuracy: 0.6822 - val_loss: 0.6148 - val_accuracy: 0.6731\n",
      "Epoch 16/20\n",
      "99/99 [==============================] - 2s 20ms/step - loss: 0.5882 - accuracy: 0.6832 - val_loss: 0.6031 - val_accuracy: 0.6674\n",
      "Epoch 17/20\n",
      "99/99 [==============================] - 2s 21ms/step - loss: 0.5855 - accuracy: 0.6848 - val_loss: 0.5914 - val_accuracy: 0.6824\n",
      "Epoch 18/20\n",
      "99/99 [==============================] - 2s 21ms/step - loss: 0.5792 - accuracy: 0.6897 - val_loss: 0.5981 - val_accuracy: 0.6763\n",
      "Epoch 19/20\n",
      "99/99 [==============================] - 2s 21ms/step - loss: 0.5803 - accuracy: 0.6929 - val_loss: 0.6067 - val_accuracy: 0.6689\n",
      "Epoch 20/20\n",
      "99/99 [==============================] - 2s 20ms/step - loss: 0.5733 - accuracy: 0.6967 - val_loss: 0.6389 - val_accuracy: 0.6598\n",
      "Epoch 00020: early stopping\n",
      "50/50 [==============================] - 1s 7ms/step\n",
      "[CV 2/3] END dropout_rate=0.1, learning_rate=0.01, node_type=lstm, nodes=[32, 32, 32];, score=0.657 total time=  46.0s\n"
     ]
    },
    {
     "name": "stderr",
     "output_type": "stream",
     "text": [
      "WARNING:absl:Found untraced functions such as gru_cell_1_layer_call_fn, gru_cell_1_layer_call_and_return_conditional_losses, gru_cell_1_layer_call_fn, gru_cell_1_layer_call_and_return_conditional_losses, gru_cell_1_layer_call_and_return_conditional_losses while saving (showing 5 of 5). These functions will not be directly callable after loading.\n"
     ]
    },
    {
     "name": "stdout",
     "output_type": "stream",
     "text": [
      "INFO:tensorflow:Assets written to: C:\\Users\\jared\\AppData\\Local\\Temp\\tmpnpwas82w\\assets\n"
     ]
    },
    {
     "name": "stderr",
     "output_type": "stream",
     "text": [
      "INFO:tensorflow:Assets written to: C:\\Users\\jared\\AppData\\Local\\Temp\\tmpnpwas82w\\assets\n",
      "WARNING:absl:<keras.layers.recurrent.GRUCell object at 0x0000017E0BBDADF0> has the same name 'GRUCell' as a built-in Keras object. Consider renaming <class 'keras.layers.recurrent.GRUCell'> to avoid naming conflicts when loading with `tf.keras.models.load_model`. If renaming is not possible, pass the object in the `custom_objects` parameter of the load function.\n",
      "C:\\Users\\jared\\anaconda3\\envs\\tflow\\lib\\site-packages\\scikeras\\wrappers.py:289: UserWarning: ``build_fn`` will be renamed to ``model`` in a future release, at which point use of ``build_fn`` will raise an Error instead.\n",
      "  warnings.warn(\n"
     ]
    },
    {
     "name": "stdout",
     "output_type": "stream",
     "text": [
      "Epoch 1/20\n",
      "99/99 [==============================] - 6s 31ms/step - loss: 0.6976 - accuracy: 0.5604 - val_loss: 0.6724 - val_accuracy: 0.6053\n",
      "Epoch 2/20\n",
      "99/99 [==============================] - 2s 21ms/step - loss: 0.6517 - accuracy: 0.6183 - val_loss: 0.6605 - val_accuracy: 0.6198\n",
      "Epoch 3/20\n",
      "99/99 [==============================] - 2s 21ms/step - loss: 0.6342 - accuracy: 0.6454 - val_loss: 0.6423 - val_accuracy: 0.6475\n",
      "Epoch 4/20\n",
      "99/99 [==============================] - 2s 21ms/step - loss: 0.6307 - accuracy: 0.6514 - val_loss: 0.6311 - val_accuracy: 0.6486\n",
      "Epoch 5/20\n",
      "99/99 [==============================] - 2s 20ms/step - loss: 0.6262 - accuracy: 0.6516 - val_loss: 0.6305 - val_accuracy: 0.6486\n",
      "Epoch 6/20\n",
      "99/99 [==============================] - 2s 21ms/step - loss: 0.6223 - accuracy: 0.6513 - val_loss: 0.6270 - val_accuracy: 0.6370\n",
      "Epoch 7/20\n",
      "99/99 [==============================] - 2s 21ms/step - loss: 0.6183 - accuracy: 0.6591 - val_loss: 0.6291 - val_accuracy: 0.6502\n",
      "Epoch 8/20\n",
      "99/99 [==============================] - 2s 19ms/step - loss: 0.6113 - accuracy: 0.6619 - val_loss: 0.6235 - val_accuracy: 0.6477\n",
      "Epoch 9/20\n",
      "99/99 [==============================] - 2s 21ms/step - loss: 0.6106 - accuracy: 0.6677 - val_loss: 0.6188 - val_accuracy: 0.6439\n",
      "Epoch 10/20\n",
      "99/99 [==============================] - 2s 20ms/step - loss: 0.6128 - accuracy: 0.6625 - val_loss: 0.6205 - val_accuracy: 0.6487\n",
      "Epoch 11/20\n",
      "99/99 [==============================] - 2s 21ms/step - loss: 0.6060 - accuracy: 0.6667 - val_loss: 0.6233 - val_accuracy: 0.6438\n",
      "Epoch 12/20\n",
      "99/99 [==============================] - 2s 21ms/step - loss: 0.5998 - accuracy: 0.6749 - val_loss: 0.6337 - val_accuracy: 0.6508\n",
      "Epoch 00012: early stopping\n",
      "50/50 [==============================] - 1s 7ms/step\n",
      "[CV 3/3] END dropout_rate=0.1, learning_rate=0.01, node_type=lstm, nodes=[32, 32, 32];, score=0.637 total time=  31.2s\n"
     ]
    },
    {
     "name": "stderr",
     "output_type": "stream",
     "text": [
      "WARNING:absl:Found untraced functions such as gru_cell_1_layer_call_fn, gru_cell_1_layer_call_and_return_conditional_losses, gru_cell_1_layer_call_fn, gru_cell_1_layer_call_and_return_conditional_losses, gru_cell_1_layer_call_and_return_conditional_losses while saving (showing 5 of 5). These functions will not be directly callable after loading.\n"
     ]
    },
    {
     "name": "stdout",
     "output_type": "stream",
     "text": [
      "INFO:tensorflow:Assets written to: C:\\Users\\jared\\AppData\\Local\\Temp\\tmpww9aopj2\\assets\n"
     ]
    },
    {
     "name": "stderr",
     "output_type": "stream",
     "text": [
      "INFO:tensorflow:Assets written to: C:\\Users\\jared\\AppData\\Local\\Temp\\tmpww9aopj2\\assets\n",
      "WARNING:absl:<keras.layers.recurrent.GRUCell object at 0x0000017E0BBDADF0> has the same name 'GRUCell' as a built-in Keras object. Consider renaming <class 'keras.layers.recurrent.GRUCell'> to avoid naming conflicts when loading with `tf.keras.models.load_model`. If renaming is not possible, pass the object in the `custom_objects` parameter of the load function.\n",
      "C:\\Users\\jared\\anaconda3\\envs\\tflow\\lib\\site-packages\\scikeras\\wrappers.py:289: UserWarning: ``build_fn`` will be renamed to ``model`` in a future release, at which point use of ``build_fn`` will raise an Error instead.\n",
      "  warnings.warn(\n"
     ]
    },
    {
     "name": "stdout",
     "output_type": "stream",
     "text": [
      "Epoch 1/20\n",
      "99/99 [==============================] - 3s 19ms/step - loss: 0.7581 - accuracy: 0.5332 - val_loss: 0.6781 - val_accuracy: 0.5542\n",
      "Epoch 2/20\n",
      "99/99 [==============================] - 1s 13ms/step - loss: 0.6795 - accuracy: 0.5519 - val_loss: 0.6727 - val_accuracy: 0.5648\n",
      "Epoch 3/20\n",
      "99/99 [==============================] - 1s 13ms/step - loss: 0.6734 - accuracy: 0.5636 - val_loss: 0.6842 - val_accuracy: 0.5468\n",
      "Epoch 4/20\n",
      "99/99 [==============================] - 1s 13ms/step - loss: 0.6701 - accuracy: 0.5681 - val_loss: 0.6702 - val_accuracy: 0.5689\n",
      "Epoch 5/20\n",
      "99/99 [==============================] - 1s 12ms/step - loss: 0.6679 - accuracy: 0.5689 - val_loss: 0.6736 - val_accuracy: 0.5636\n",
      "Epoch 6/20\n",
      "99/99 [==============================] - 1s 13ms/step - loss: 0.6661 - accuracy: 0.5733 - val_loss: 0.6689 - val_accuracy: 0.5727\n",
      "Epoch 7/20\n",
      "99/99 [==============================] - 1s 12ms/step - loss: 0.6632 - accuracy: 0.5769 - val_loss: 0.6712 - val_accuracy: 0.5742\n",
      "Epoch 8/20\n",
      "99/99 [==============================] - 1s 12ms/step - loss: 0.6614 - accuracy: 0.5777 - val_loss: 0.6719 - val_accuracy: 0.5690\n",
      "Epoch 9/20\n",
      "99/99 [==============================] - 1s 13ms/step - loss: 0.6583 - accuracy: 0.5799 - val_loss: 0.6747 - val_accuracy: 0.5706\n",
      "Epoch 00009: early stopping\n",
      "50/50 [==============================] - 1s 4ms/step\n",
      "[CV 1/3] END dropout_rate=0.1, learning_rate=0.01, node_type=gru, nodes=[128];, score=nan total time=  15.6s\n"
     ]
    },
    {
     "name": "stderr",
     "output_type": "stream",
     "text": [
      "C:\\Users\\jared\\anaconda3\\envs\\tflow\\lib\\site-packages\\sklearn\\model_selection\\_validation.py:771: UserWarning: Scoring failed. The score on this train-test partition for these parameters will be set to nan. Details: \n",
      "Traceback (most recent call last):\n",
      "  File \"C:\\Users\\jared\\anaconda3\\envs\\tflow\\lib\\site-packages\\sklearn\\model_selection\\_validation.py\", line 762, in _score\n",
      "    scores = scorer(estimator, X_test, y_test)\n",
      "  File \"C:\\Users\\jared\\anaconda3\\envs\\tflow\\lib\\site-packages\\sklearn\\metrics\\_scorer.py\", line 216, in __call__\n",
      "    return self._score(\n",
      "  File \"C:\\Users\\jared\\anaconda3\\envs\\tflow\\lib\\site-packages\\sklearn\\metrics\\_scorer.py\", line 258, in _score\n",
      "    y_pred = method_caller(estimator, \"predict\", X)\n",
      "  File \"C:\\Users\\jared\\anaconda3\\envs\\tflow\\lib\\site-packages\\sklearn\\metrics\\_scorer.py\", line 68, in _cached_call\n",
      "    return getattr(estimator, method)(*args, **kwargs)\n",
      "  File \"C:\\Users\\jared\\anaconda3\\envs\\tflow\\lib\\site-packages\\scikeras\\wrappers.py\", line 1013, in predict\n",
      "    y_pred = self.target_encoder_.inverse_transform(y_pred)\n",
      "  File \"C:\\Users\\jared\\anaconda3\\envs\\tflow\\lib\\site-packages\\scikeras\\utils\\transformers.py\", line 257, in inverse_transform\n",
      "    class_predictions = self._final_encoder.inverse_transform(class_predictions)\n",
      "  File \"C:\\Users\\jared\\anaconda3\\envs\\tflow\\lib\\site-packages\\sklearn\\utils\\metaestimators.py\", line 113, in <lambda>\n",
      "    out = lambda *args, **kwargs: self.fn(obj, *args, **kwargs)  # noqa\n",
      "  File \"C:\\Users\\jared\\anaconda3\\envs\\tflow\\lib\\site-packages\\sklearn\\pipeline.py\", line 675, in inverse_transform\n",
      "    Xt = transform.inverse_transform(Xt)\n",
      "  File \"C:\\Users\\jared\\anaconda3\\envs\\tflow\\lib\\site-packages\\sklearn\\preprocessing\\_encoders.py\", line 990, in inverse_transform\n",
      "    X_tr[:, i] = self.categories_[i][labels]\n",
      "IndexError: index 52 is out of bounds for axis 0 with size 2\n",
      "\n",
      "  warnings.warn(\n",
      "WARNING:absl:Found untraced functions such as gru_cell_1_layer_call_fn, gru_cell_1_layer_call_and_return_conditional_losses, gru_cell_1_layer_call_fn, gru_cell_1_layer_call_and_return_conditional_losses, gru_cell_1_layer_call_and_return_conditional_losses while saving (showing 5 of 5). These functions will not be directly callable after loading.\n"
     ]
    },
    {
     "name": "stdout",
     "output_type": "stream",
     "text": [
      "INFO:tensorflow:Assets written to: C:\\Users\\jared\\AppData\\Local\\Temp\\tmpm8mzk3j2\\assets\n"
     ]
    },
    {
     "name": "stderr",
     "output_type": "stream",
     "text": [
      "INFO:tensorflow:Assets written to: C:\\Users\\jared\\AppData\\Local\\Temp\\tmpm8mzk3j2\\assets\n",
      "WARNING:absl:<keras.layers.recurrent.GRUCell object at 0x0000017E0BBDADF0> has the same name 'GRUCell' as a built-in Keras object. Consider renaming <class 'keras.layers.recurrent.GRUCell'> to avoid naming conflicts when loading with `tf.keras.models.load_model`. If renaming is not possible, pass the object in the `custom_objects` parameter of the load function.\n",
      "C:\\Users\\jared\\anaconda3\\envs\\tflow\\lib\\site-packages\\scikeras\\wrappers.py:289: UserWarning: ``build_fn`` will be renamed to ``model`` in a future release, at which point use of ``build_fn`` will raise an Error instead.\n",
      "  warnings.warn(\n"
     ]
    },
    {
     "name": "stdout",
     "output_type": "stream",
     "text": [
      "Epoch 1/20\n",
      "99/99 [==============================] - 3s 19ms/step - loss: 0.7337 - accuracy: 0.5321 - val_loss: 0.6775 - val_accuracy: 0.5573\n",
      "Epoch 2/20\n",
      "99/99 [==============================] - 1s 13ms/step - loss: 0.6769 - accuracy: 0.5576 - val_loss: 0.6717 - val_accuracy: 0.5658\n",
      "Epoch 3/20\n",
      "99/99 [==============================] - 1s 13ms/step - loss: 0.6721 - accuracy: 0.5644 - val_loss: 0.6684 - val_accuracy: 0.5738\n",
      "Epoch 4/20\n",
      "99/99 [==============================] - 1s 13ms/step - loss: 0.6691 - accuracy: 0.5700 - val_loss: 0.6680 - val_accuracy: 0.5705\n",
      "Epoch 5/20\n",
      "99/99 [==============================] - 1s 12ms/step - loss: 0.6677 - accuracy: 0.5727 - val_loss: 0.6703 - val_accuracy: 0.5716\n",
      "Epoch 6/20\n",
      "99/99 [==============================] - 1s 13ms/step - loss: 0.6647 - accuracy: 0.5754 - val_loss: 0.6729 - val_accuracy: 0.5669\n",
      "Epoch 7/20\n",
      "99/99 [==============================] - 1s 12ms/step - loss: 0.6626 - accuracy: 0.5761 - val_loss: 0.6723 - val_accuracy: 0.5674\n",
      "Epoch 00007: early stopping\n",
      "50/50 [==============================] - 0s 5ms/step\n",
      "[CV 2/3] END dropout_rate=0.1, learning_rate=0.01, node_type=gru, nodes=[128];, score=nan total time=  13.1s\n"
     ]
    },
    {
     "name": "stderr",
     "output_type": "stream",
     "text": [
      "C:\\Users\\jared\\anaconda3\\envs\\tflow\\lib\\site-packages\\sklearn\\model_selection\\_validation.py:771: UserWarning: Scoring failed. The score on this train-test partition for these parameters will be set to nan. Details: \n",
      "Traceback (most recent call last):\n",
      "  File \"C:\\Users\\jared\\anaconda3\\envs\\tflow\\lib\\site-packages\\sklearn\\model_selection\\_validation.py\", line 762, in _score\n",
      "    scores = scorer(estimator, X_test, y_test)\n",
      "  File \"C:\\Users\\jared\\anaconda3\\envs\\tflow\\lib\\site-packages\\sklearn\\metrics\\_scorer.py\", line 216, in __call__\n",
      "    return self._score(\n",
      "  File \"C:\\Users\\jared\\anaconda3\\envs\\tflow\\lib\\site-packages\\sklearn\\metrics\\_scorer.py\", line 258, in _score\n",
      "    y_pred = method_caller(estimator, \"predict\", X)\n",
      "  File \"C:\\Users\\jared\\anaconda3\\envs\\tflow\\lib\\site-packages\\sklearn\\metrics\\_scorer.py\", line 68, in _cached_call\n",
      "    return getattr(estimator, method)(*args, **kwargs)\n",
      "  File \"C:\\Users\\jared\\anaconda3\\envs\\tflow\\lib\\site-packages\\scikeras\\wrappers.py\", line 1013, in predict\n",
      "    y_pred = self.target_encoder_.inverse_transform(y_pred)\n",
      "  File \"C:\\Users\\jared\\anaconda3\\envs\\tflow\\lib\\site-packages\\scikeras\\utils\\transformers.py\", line 257, in inverse_transform\n",
      "    class_predictions = self._final_encoder.inverse_transform(class_predictions)\n",
      "  File \"C:\\Users\\jared\\anaconda3\\envs\\tflow\\lib\\site-packages\\sklearn\\utils\\metaestimators.py\", line 113, in <lambda>\n",
      "    out = lambda *args, **kwargs: self.fn(obj, *args, **kwargs)  # noqa\n",
      "  File \"C:\\Users\\jared\\anaconda3\\envs\\tflow\\lib\\site-packages\\sklearn\\pipeline.py\", line 675, in inverse_transform\n",
      "    Xt = transform.inverse_transform(Xt)\n",
      "  File \"C:\\Users\\jared\\anaconda3\\envs\\tflow\\lib\\site-packages\\sklearn\\preprocessing\\_encoders.py\", line 990, in inverse_transform\n",
      "    X_tr[:, i] = self.categories_[i][labels]\n",
      "IndexError: index 53 is out of bounds for axis 0 with size 2\n",
      "\n",
      "  warnings.warn(\n",
      "WARNING:absl:Found untraced functions such as gru_cell_1_layer_call_fn, gru_cell_1_layer_call_and_return_conditional_losses, gru_cell_1_layer_call_fn, gru_cell_1_layer_call_and_return_conditional_losses, gru_cell_1_layer_call_and_return_conditional_losses while saving (showing 5 of 5). These functions will not be directly callable after loading.\n"
     ]
    },
    {
     "name": "stdout",
     "output_type": "stream",
     "text": [
      "INFO:tensorflow:Assets written to: C:\\Users\\jared\\AppData\\Local\\Temp\\tmpufbnzgu5\\assets\n"
     ]
    },
    {
     "name": "stderr",
     "output_type": "stream",
     "text": [
      "INFO:tensorflow:Assets written to: C:\\Users\\jared\\AppData\\Local\\Temp\\tmpufbnzgu5\\assets\n",
      "WARNING:absl:<keras.layers.recurrent.GRUCell object at 0x0000017E0BBDADF0> has the same name 'GRUCell' as a built-in Keras object. Consider renaming <class 'keras.layers.recurrent.GRUCell'> to avoid naming conflicts when loading with `tf.keras.models.load_model`. If renaming is not possible, pass the object in the `custom_objects` parameter of the load function.\n",
      "C:\\Users\\jared\\anaconda3\\envs\\tflow\\lib\\site-packages\\scikeras\\wrappers.py:289: UserWarning: ``build_fn`` will be renamed to ``model`` in a future release, at which point use of ``build_fn`` will raise an Error instead.\n",
      "  warnings.warn(\n"
     ]
    },
    {
     "name": "stdout",
     "output_type": "stream",
     "text": [
      "Epoch 1/20\n",
      "99/99 [==============================] - 3s 19ms/step - loss: 0.7559 - accuracy: 0.5287 - val_loss: 0.6890 - val_accuracy: 0.5406\n",
      "Epoch 2/20\n",
      "99/99 [==============================] - 1s 13ms/step - loss: 0.6810 - accuracy: 0.5499 - val_loss: 0.6767 - val_accuracy: 0.5540\n",
      "Epoch 3/20\n",
      "99/99 [==============================] - 1s 13ms/step - loss: 0.6735 - accuracy: 0.5621 - val_loss: 0.6686 - val_accuracy: 0.5740\n",
      "Epoch 4/20\n",
      "99/99 [==============================] - 1s 12ms/step - loss: 0.6697 - accuracy: 0.5688 - val_loss: 0.6670 - val_accuracy: 0.5777\n",
      "Epoch 5/20\n",
      "99/99 [==============================] - 1s 12ms/step - loss: 0.6676 - accuracy: 0.5701 - val_loss: 0.6687 - val_accuracy: 0.5720\n",
      "Epoch 6/20\n",
      "99/99 [==============================] - 1s 12ms/step - loss: 0.6654 - accuracy: 0.5761 - val_loss: 0.6668 - val_accuracy: 0.5757\n",
      "Epoch 7/20\n",
      "99/99 [==============================] - 1s 12ms/step - loss: 0.6637 - accuracy: 0.5762 - val_loss: 0.6696 - val_accuracy: 0.5667\n",
      "Epoch 8/20\n",
      "99/99 [==============================] - 1s 12ms/step - loss: 0.6611 - accuracy: 0.5782 - val_loss: 0.6740 - val_accuracy: 0.5689\n",
      "Epoch 9/20\n",
      "99/99 [==============================] - 1s 12ms/step - loss: 0.6575 - accuracy: 0.5829 - val_loss: 0.6743 - val_accuracy: 0.5661\n",
      "Epoch 00009: early stopping\n",
      "50/50 [==============================] - 0s 5ms/step\n",
      "[CV 3/3] END dropout_rate=0.1, learning_rate=0.01, node_type=gru, nodes=[128];, score=nan total time=  15.0s\n"
     ]
    },
    {
     "name": "stderr",
     "output_type": "stream",
     "text": [
      "C:\\Users\\jared\\anaconda3\\envs\\tflow\\lib\\site-packages\\sklearn\\model_selection\\_validation.py:771: UserWarning: Scoring failed. The score on this train-test partition for these parameters will be set to nan. Details: \n",
      "Traceback (most recent call last):\n",
      "  File \"C:\\Users\\jared\\anaconda3\\envs\\tflow\\lib\\site-packages\\sklearn\\model_selection\\_validation.py\", line 762, in _score\n",
      "    scores = scorer(estimator, X_test, y_test)\n",
      "  File \"C:\\Users\\jared\\anaconda3\\envs\\tflow\\lib\\site-packages\\sklearn\\metrics\\_scorer.py\", line 216, in __call__\n",
      "    return self._score(\n",
      "  File \"C:\\Users\\jared\\anaconda3\\envs\\tflow\\lib\\site-packages\\sklearn\\metrics\\_scorer.py\", line 258, in _score\n",
      "    y_pred = method_caller(estimator, \"predict\", X)\n",
      "  File \"C:\\Users\\jared\\anaconda3\\envs\\tflow\\lib\\site-packages\\sklearn\\metrics\\_scorer.py\", line 68, in _cached_call\n",
      "    return getattr(estimator, method)(*args, **kwargs)\n",
      "  File \"C:\\Users\\jared\\anaconda3\\envs\\tflow\\lib\\site-packages\\scikeras\\wrappers.py\", line 1013, in predict\n",
      "    y_pred = self.target_encoder_.inverse_transform(y_pred)\n",
      "  File \"C:\\Users\\jared\\anaconda3\\envs\\tflow\\lib\\site-packages\\scikeras\\utils\\transformers.py\", line 257, in inverse_transform\n",
      "    class_predictions = self._final_encoder.inverse_transform(class_predictions)\n",
      "  File \"C:\\Users\\jared\\anaconda3\\envs\\tflow\\lib\\site-packages\\sklearn\\utils\\metaestimators.py\", line 113, in <lambda>\n",
      "    out = lambda *args, **kwargs: self.fn(obj, *args, **kwargs)  # noqa\n",
      "  File \"C:\\Users\\jared\\anaconda3\\envs\\tflow\\lib\\site-packages\\sklearn\\pipeline.py\", line 675, in inverse_transform\n",
      "    Xt = transform.inverse_transform(Xt)\n",
      "  File \"C:\\Users\\jared\\anaconda3\\envs\\tflow\\lib\\site-packages\\sklearn\\preprocessing\\_encoders.py\", line 990, in inverse_transform\n",
      "    X_tr[:, i] = self.categories_[i][labels]\n",
      "IndexError: index 59 is out of bounds for axis 0 with size 2\n",
      "\n",
      "  warnings.warn(\n",
      "WARNING:absl:Found untraced functions such as gru_cell_1_layer_call_fn, gru_cell_1_layer_call_and_return_conditional_losses, gru_cell_1_layer_call_fn, gru_cell_1_layer_call_and_return_conditional_losses, gru_cell_1_layer_call_and_return_conditional_losses while saving (showing 5 of 5). These functions will not be directly callable after loading.\n"
     ]
    },
    {
     "name": "stdout",
     "output_type": "stream",
     "text": [
      "INFO:tensorflow:Assets written to: C:\\Users\\jared\\AppData\\Local\\Temp\\tmpqovhthm1\\assets\n"
     ]
    },
    {
     "name": "stderr",
     "output_type": "stream",
     "text": [
      "INFO:tensorflow:Assets written to: C:\\Users\\jared\\AppData\\Local\\Temp\\tmpqovhthm1\\assets\n",
      "WARNING:absl:<keras.layers.recurrent.GRUCell object at 0x0000017E0BBDADF0> has the same name 'GRUCell' as a built-in Keras object. Consider renaming <class 'keras.layers.recurrent.GRUCell'> to avoid naming conflicts when loading with `tf.keras.models.load_model`. If renaming is not possible, pass the object in the `custom_objects` parameter of the load function.\n",
      "C:\\Users\\jared\\anaconda3\\envs\\tflow\\lib\\site-packages\\scikeras\\wrappers.py:289: UserWarning: ``build_fn`` will be renamed to ``model`` in a future release, at which point use of ``build_fn`` will raise an Error instead.\n",
      "  warnings.warn(\n"
     ]
    },
    {
     "name": "stdout",
     "output_type": "stream",
     "text": [
      "Epoch 1/20\n",
      "99/99 [==============================] - 4s 26ms/step - loss: 0.6831 - accuracy: 0.5985 - val_loss: 0.6441 - val_accuracy: 0.6324\n",
      "Epoch 2/20\n",
      "99/99 [==============================] - 1s 15ms/step - loss: 0.6304 - accuracy: 0.6411 - val_loss: 0.6271 - val_accuracy: 0.6423\n",
      "Epoch 3/20\n",
      "99/99 [==============================] - 1s 15ms/step - loss: 0.6267 - accuracy: 0.6413 - val_loss: 0.6399 - val_accuracy: 0.6160\n",
      "Epoch 4/20\n",
      "99/99 [==============================] - 1s 15ms/step - loss: 0.6216 - accuracy: 0.6484 - val_loss: 0.6565 - val_accuracy: 0.6110\n",
      "Epoch 5/20\n",
      "99/99 [==============================] - 2s 15ms/step - loss: 0.6144 - accuracy: 0.6593 - val_loss: 0.6210 - val_accuracy: 0.6428\n",
      "Epoch 6/20\n",
      "99/99 [==============================] - 2s 15ms/step - loss: 0.6098 - accuracy: 0.6571 - val_loss: 0.6240 - val_accuracy: 0.6552\n",
      "Epoch 7/20\n",
      "99/99 [==============================] - 2s 15ms/step - loss: 0.6059 - accuracy: 0.6634 - val_loss: 0.6231 - val_accuracy: 0.6481\n",
      "Epoch 8/20\n",
      "99/99 [==============================] - 1s 15ms/step - loss: 0.6014 - accuracy: 0.6667 - val_loss: 0.6317 - val_accuracy: 0.6566\n",
      "Epoch 00008: early stopping\n",
      "50/50 [==============================] - 1s 6ms/step\n",
      "[CV 1/3] END dropout_rate=0.1, learning_rate=0.01, node_type=gru, nodes=[64, 64];, score=0.651 total time=  17.5s\n"
     ]
    },
    {
     "name": "stderr",
     "output_type": "stream",
     "text": [
      "WARNING:absl:Found untraced functions such as gru_cell_1_layer_call_fn, gru_cell_1_layer_call_and_return_conditional_losses, gru_cell_1_layer_call_fn, gru_cell_1_layer_call_and_return_conditional_losses, gru_cell_1_layer_call_and_return_conditional_losses while saving (showing 5 of 5). These functions will not be directly callable after loading.\n"
     ]
    },
    {
     "name": "stdout",
     "output_type": "stream",
     "text": [
      "INFO:tensorflow:Assets written to: C:\\Users\\jared\\AppData\\Local\\Temp\\tmp72o39frj\\assets\n"
     ]
    },
    {
     "name": "stderr",
     "output_type": "stream",
     "text": [
      "INFO:tensorflow:Assets written to: C:\\Users\\jared\\AppData\\Local\\Temp\\tmp72o39frj\\assets\n",
      "WARNING:absl:<keras.layers.recurrent.GRUCell object at 0x0000017E0BBDADF0> has the same name 'GRUCell' as a built-in Keras object. Consider renaming <class 'keras.layers.recurrent.GRUCell'> to avoid naming conflicts when loading with `tf.keras.models.load_model`. If renaming is not possible, pass the object in the `custom_objects` parameter of the load function.\n",
      "C:\\Users\\jared\\anaconda3\\envs\\tflow\\lib\\site-packages\\scikeras\\wrappers.py:289: UserWarning: ``build_fn`` will be renamed to ``model`` in a future release, at which point use of ``build_fn`` will raise an Error instead.\n",
      "  warnings.warn(\n"
     ]
    },
    {
     "name": "stdout",
     "output_type": "stream",
     "text": [
      "Epoch 1/20\n",
      "99/99 [==============================] - 4s 22ms/step - loss: 0.6755 - accuracy: 0.6041 - val_loss: 0.6442 - val_accuracy: 0.6168\n",
      "Epoch 2/20\n",
      "99/99 [==============================] - 2s 15ms/step - loss: 0.6305 - accuracy: 0.6393 - val_loss: 0.6325 - val_accuracy: 0.6483\n",
      "Epoch 3/20\n",
      "99/99 [==============================] - 2s 15ms/step - loss: 0.6237 - accuracy: 0.6473 - val_loss: 0.6153 - val_accuracy: 0.6551\n",
      "Epoch 4/20\n",
      "99/99 [==============================] - 2s 15ms/step - loss: 0.6206 - accuracy: 0.6540 - val_loss: 0.6316 - val_accuracy: 0.6366\n",
      "Epoch 5/20\n",
      "99/99 [==============================] - 1s 15ms/step - loss: 0.6120 - accuracy: 0.6576 - val_loss: 0.6370 - val_accuracy: 0.6207\n",
      "Epoch 6/20\n",
      "99/99 [==============================] - 2s 15ms/step - loss: 0.6088 - accuracy: 0.6586 - val_loss: 0.6233 - val_accuracy: 0.6385\n",
      "Epoch 00006: early stopping\n",
      "50/50 [==============================] - 1s 5ms/step\n",
      "[CV 2/3] END dropout_rate=0.1, learning_rate=0.01, node_type=gru, nodes=[64, 64];, score=0.634 total time=  14.1s\n"
     ]
    },
    {
     "name": "stderr",
     "output_type": "stream",
     "text": [
      "WARNING:absl:Found untraced functions such as gru_cell_1_layer_call_fn, gru_cell_1_layer_call_and_return_conditional_losses, gru_cell_1_layer_call_fn, gru_cell_1_layer_call_and_return_conditional_losses, gru_cell_1_layer_call_and_return_conditional_losses while saving (showing 5 of 5). These functions will not be directly callable after loading.\n"
     ]
    },
    {
     "name": "stdout",
     "output_type": "stream",
     "text": [
      "INFO:tensorflow:Assets written to: C:\\Users\\jared\\AppData\\Local\\Temp\\tmpesb3h2k3\\assets\n"
     ]
    },
    {
     "name": "stderr",
     "output_type": "stream",
     "text": [
      "INFO:tensorflow:Assets written to: C:\\Users\\jared\\AppData\\Local\\Temp\\tmpesb3h2k3\\assets\n",
      "WARNING:absl:<keras.layers.recurrent.GRUCell object at 0x0000017E0BBDADF0> has the same name 'GRUCell' as a built-in Keras object. Consider renaming <class 'keras.layers.recurrent.GRUCell'> to avoid naming conflicts when loading with `tf.keras.models.load_model`. If renaming is not possible, pass the object in the `custom_objects` parameter of the load function.\n",
      "C:\\Users\\jared\\anaconda3\\envs\\tflow\\lib\\site-packages\\scikeras\\wrappers.py:289: UserWarning: ``build_fn`` will be renamed to ``model`` in a future release, at which point use of ``build_fn`` will raise an Error instead.\n",
      "  warnings.warn(\n"
     ]
    },
    {
     "name": "stdout",
     "output_type": "stream",
     "text": [
      "Epoch 1/20\n",
      "99/99 [==============================] - 4s 26ms/step - loss: 0.6734 - accuracy: 0.6056 - val_loss: 0.6420 - val_accuracy: 0.6267\n",
      "Epoch 2/20\n",
      "99/99 [==============================] - 2s 16ms/step - loss: 0.6321 - accuracy: 0.6375 - val_loss: 0.6217 - val_accuracy: 0.6462\n",
      "Epoch 3/20\n",
      "99/99 [==============================] - 2s 16ms/step - loss: 0.6202 - accuracy: 0.6496 - val_loss: 0.6231 - val_accuracy: 0.6478\n",
      "Epoch 4/20\n",
      "99/99 [==============================] - 2s 16ms/step - loss: 0.6171 - accuracy: 0.6574 - val_loss: 0.6120 - val_accuracy: 0.6584\n",
      "Epoch 5/20\n",
      "99/99 [==============================] - 1s 15ms/step - loss: 0.6134 - accuracy: 0.6598 - val_loss: 0.6360 - val_accuracy: 0.6245\n",
      "Epoch 6/20\n",
      "99/99 [==============================] - 1s 15ms/step - loss: 0.6125 - accuracy: 0.6603 - val_loss: 0.6195 - val_accuracy: 0.6593\n",
      "Epoch 7/20\n",
      "99/99 [==============================] - 1s 15ms/step - loss: 0.6074 - accuracy: 0.6684 - val_loss: 0.6253 - val_accuracy: 0.6393\n",
      "Epoch 00007: early stopping\n",
      "50/50 [==============================] - 1s 5ms/step\n",
      "[CV 3/3] END dropout_rate=0.1, learning_rate=0.01, node_type=gru, nodes=[64, 64];, score=0.625 total time=  16.0s\n"
     ]
    },
    {
     "name": "stderr",
     "output_type": "stream",
     "text": [
      "WARNING:absl:Found untraced functions such as gru_cell_1_layer_call_fn, gru_cell_1_layer_call_and_return_conditional_losses, gru_cell_1_layer_call_fn, gru_cell_1_layer_call_and_return_conditional_losses, gru_cell_1_layer_call_and_return_conditional_losses while saving (showing 5 of 5). These functions will not be directly callable after loading.\n"
     ]
    },
    {
     "name": "stdout",
     "output_type": "stream",
     "text": [
      "INFO:tensorflow:Assets written to: C:\\Users\\jared\\AppData\\Local\\Temp\\tmpflijt904\\assets\n"
     ]
    },
    {
     "name": "stderr",
     "output_type": "stream",
     "text": [
      "INFO:tensorflow:Assets written to: C:\\Users\\jared\\AppData\\Local\\Temp\\tmpflijt904\\assets\n",
      "WARNING:absl:<keras.layers.recurrent.GRUCell object at 0x0000017E0BBDADF0> has the same name 'GRUCell' as a built-in Keras object. Consider renaming <class 'keras.layers.recurrent.GRUCell'> to avoid naming conflicts when loading with `tf.keras.models.load_model`. If renaming is not possible, pass the object in the `custom_objects` parameter of the load function.\n",
      "C:\\Users\\jared\\anaconda3\\envs\\tflow\\lib\\site-packages\\scikeras\\wrappers.py:289: UserWarning: ``build_fn`` will be renamed to ``model`` in a future release, at which point use of ``build_fn`` will raise an Error instead.\n",
      "  warnings.warn(\n"
     ]
    },
    {
     "name": "stdout",
     "output_type": "stream",
     "text": [
      "Epoch 1/20\n",
      "99/99 [==============================] - 5s 28ms/step - loss: 0.6916 - accuracy: 0.5781 - val_loss: 0.6637 - val_accuracy: 0.5871\n",
      "Epoch 2/20\n",
      "99/99 [==============================] - 2s 20ms/step - loss: 0.6381 - accuracy: 0.6334 - val_loss: 0.6358 - val_accuracy: 0.6297\n",
      "Epoch 3/20\n",
      "99/99 [==============================] - 2s 20ms/step - loss: 0.6267 - accuracy: 0.6498 - val_loss: 0.6645 - val_accuracy: 0.5923\n",
      "Epoch 4/20\n",
      "99/99 [==============================] - 2s 20ms/step - loss: 0.6213 - accuracy: 0.6544 - val_loss: 0.6205 - val_accuracy: 0.6561\n",
      "Epoch 5/20\n",
      "99/99 [==============================] - 2s 20ms/step - loss: 0.6151 - accuracy: 0.6534 - val_loss: 0.6234 - val_accuracy: 0.6356\n",
      "Epoch 6/20\n",
      "99/99 [==============================] - 2s 21ms/step - loss: 0.6111 - accuracy: 0.6619 - val_loss: 0.6416 - val_accuracy: 0.6271\n",
      "Epoch 7/20\n",
      "99/99 [==============================] - 2s 21ms/step - loss: 0.6085 - accuracy: 0.6606 - val_loss: 0.6134 - val_accuracy: 0.6545\n",
      "Epoch 8/20\n",
      "99/99 [==============================] - 2s 20ms/step - loss: 0.6010 - accuracy: 0.6698 - val_loss: 0.6283 - val_accuracy: 0.6552\n",
      "Epoch 9/20\n",
      "99/99 [==============================] - 2s 20ms/step - loss: 0.5967 - accuracy: 0.6716 - val_loss: 0.6129 - val_accuracy: 0.6534\n",
      "Epoch 10/20\n",
      "99/99 [==============================] - 2s 20ms/step - loss: 0.5949 - accuracy: 0.6743 - val_loss: 0.6188 - val_accuracy: 0.6504\n",
      "Epoch 11/20\n",
      "99/99 [==============================] - 2s 19ms/step - loss: 0.5904 - accuracy: 0.6802 - val_loss: 0.6187 - val_accuracy: 0.6578\n",
      "Epoch 12/20\n",
      "99/99 [==============================] - 2s 20ms/step - loss: 0.5844 - accuracy: 0.6810 - val_loss: 0.6253 - val_accuracy: 0.6399\n",
      "Epoch 00012: early stopping\n",
      "50/50 [==============================] - 1s 7ms/step\n",
      "[CV 1/3] END dropout_rate=0.1, learning_rate=0.01, node_type=gru, nodes=[32, 32, 32];, score=0.640 total time=  30.2s\n"
     ]
    },
    {
     "name": "stderr",
     "output_type": "stream",
     "text": [
      "WARNING:absl:Found untraced functions such as gru_cell_1_layer_call_fn, gru_cell_1_layer_call_and_return_conditional_losses, gru_cell_1_layer_call_fn, gru_cell_1_layer_call_and_return_conditional_losses, gru_cell_1_layer_call_and_return_conditional_losses while saving (showing 5 of 5). These functions will not be directly callable after loading.\n"
     ]
    },
    {
     "name": "stdout",
     "output_type": "stream",
     "text": [
      "INFO:tensorflow:Assets written to: C:\\Users\\jared\\AppData\\Local\\Temp\\tmpsq7y1uph\\assets\n"
     ]
    },
    {
     "name": "stderr",
     "output_type": "stream",
     "text": [
      "INFO:tensorflow:Assets written to: C:\\Users\\jared\\AppData\\Local\\Temp\\tmpsq7y1uph\\assets\n",
      "WARNING:absl:<keras.layers.recurrent.GRUCell object at 0x0000017E0BBDADF0> has the same name 'GRUCell' as a built-in Keras object. Consider renaming <class 'keras.layers.recurrent.GRUCell'> to avoid naming conflicts when loading with `tf.keras.models.load_model`. If renaming is not possible, pass the object in the `custom_objects` parameter of the load function.\n",
      "C:\\Users\\jared\\anaconda3\\envs\\tflow\\lib\\site-packages\\scikeras\\wrappers.py:289: UserWarning: ``build_fn`` will be renamed to ``model`` in a future release, at which point use of ``build_fn`` will raise an Error instead.\n",
      "  warnings.warn(\n"
     ]
    },
    {
     "name": "stdout",
     "output_type": "stream",
     "text": [
      "Epoch 1/20\n",
      "99/99 [==============================] - 6s 30ms/step - loss: 0.6777 - accuracy: 0.5915 - val_loss: 0.6448 - val_accuracy: 0.6371\n",
      "Epoch 2/20\n",
      "99/99 [==============================] - 2s 20ms/step - loss: 0.6329 - accuracy: 0.6405 - val_loss: 0.6386 - val_accuracy: 0.6333\n",
      "Epoch 3/20\n",
      "99/99 [==============================] - 2s 20ms/step - loss: 0.6246 - accuracy: 0.6482 - val_loss: 0.6157 - val_accuracy: 0.6587\n",
      "Epoch 4/20\n",
      "99/99 [==============================] - 2s 20ms/step - loss: 0.6192 - accuracy: 0.6523 - val_loss: 0.6232 - val_accuracy: 0.6524\n",
      "Epoch 5/20\n",
      "99/99 [==============================] - 2s 20ms/step - loss: 0.6131 - accuracy: 0.6573 - val_loss: 0.6190 - val_accuracy: 0.6456\n",
      "Epoch 6/20\n",
      "99/99 [==============================] - 2s 20ms/step - loss: 0.6072 - accuracy: 0.6627 - val_loss: 0.6312 - val_accuracy: 0.6438\n",
      "Epoch 00006: early stopping\n",
      "50/50 [==============================] - 1s 7ms/step\n",
      "[CV 2/3] END dropout_rate=0.1, learning_rate=0.01, node_type=gru, nodes=[32, 32, 32];, score=0.639 total time=  18.5s\n"
     ]
    },
    {
     "name": "stderr",
     "output_type": "stream",
     "text": [
      "WARNING:absl:Found untraced functions such as gru_cell_1_layer_call_fn, gru_cell_1_layer_call_and_return_conditional_losses, gru_cell_1_layer_call_fn, gru_cell_1_layer_call_and_return_conditional_losses, gru_cell_1_layer_call_and_return_conditional_losses while saving (showing 5 of 5). These functions will not be directly callable after loading.\n"
     ]
    },
    {
     "name": "stdout",
     "output_type": "stream",
     "text": [
      "INFO:tensorflow:Assets written to: C:\\Users\\jared\\AppData\\Local\\Temp\\tmp68zh7i88\\assets\n"
     ]
    },
    {
     "name": "stderr",
     "output_type": "stream",
     "text": [
      "INFO:tensorflow:Assets written to: C:\\Users\\jared\\AppData\\Local\\Temp\\tmp68zh7i88\\assets\n",
      "WARNING:absl:<keras.layers.recurrent.GRUCell object at 0x0000017E0BBDADF0> has the same name 'GRUCell' as a built-in Keras object. Consider renaming <class 'keras.layers.recurrent.GRUCell'> to avoid naming conflicts when loading with `tf.keras.models.load_model`. If renaming is not possible, pass the object in the `custom_objects` parameter of the load function.\n",
      "C:\\Users\\jared\\anaconda3\\envs\\tflow\\lib\\site-packages\\scikeras\\wrappers.py:289: UserWarning: ``build_fn`` will be renamed to ``model`` in a future release, at which point use of ``build_fn`` will raise an Error instead.\n",
      "  warnings.warn(\n"
     ]
    },
    {
     "name": "stdout",
     "output_type": "stream",
     "text": [
      "Epoch 1/20\n",
      "99/99 [==============================] - 6s 30ms/step - loss: 0.6782 - accuracy: 0.5928 - val_loss: 0.6395 - val_accuracy: 0.6460\n",
      "Epoch 2/20\n",
      "99/99 [==============================] - 2s 20ms/step - loss: 0.6364 - accuracy: 0.6419 - val_loss: 0.6218 - val_accuracy: 0.6584\n",
      "Epoch 3/20\n",
      "99/99 [==============================] - 2s 20ms/step - loss: 0.6238 - accuracy: 0.6513 - val_loss: 0.6332 - val_accuracy: 0.6255\n",
      "Epoch 4/20\n",
      "99/99 [==============================] - 2s 20ms/step - loss: 0.6161 - accuracy: 0.6612 - val_loss: 0.6505 - val_accuracy: 0.6129\n",
      "Epoch 5/20\n",
      "99/99 [==============================] - 2s 19ms/step - loss: 0.6110 - accuracy: 0.6601 - val_loss: 0.6121 - val_accuracy: 0.6614\n",
      "Epoch 6/20\n",
      "99/99 [==============================] - 2s 19ms/step - loss: 0.6107 - accuracy: 0.6591 - val_loss: 0.6087 - val_accuracy: 0.6607\n",
      "Epoch 7/20\n",
      "99/99 [==============================] - 2s 20ms/step - loss: 0.6011 - accuracy: 0.6675 - val_loss: 0.6216 - val_accuracy: 0.6452\n",
      "Epoch 8/20\n",
      "99/99 [==============================] - 2s 19ms/step - loss: 0.6003 - accuracy: 0.6674 - val_loss: 0.6515 - val_accuracy: 0.6539\n",
      "Epoch 9/20\n",
      "99/99 [==============================] - 2s 20ms/step - loss: 0.5905 - accuracy: 0.6822 - val_loss: 0.6207 - val_accuracy: 0.6401\n",
      "Epoch 00009: early stopping\n",
      "50/50 [==============================] - 1s 6ms/step\n",
      "[CV 3/3] END dropout_rate=0.1, learning_rate=0.01, node_type=gru, nodes=[32, 32, 32];, score=0.644 total time=  24.5s\n"
     ]
    },
    {
     "name": "stderr",
     "output_type": "stream",
     "text": [
      "WARNING:absl:Found untraced functions such as gru_cell_1_layer_call_fn, gru_cell_1_layer_call_and_return_conditional_losses, gru_cell_1_layer_call_fn, gru_cell_1_layer_call_and_return_conditional_losses, gru_cell_1_layer_call_and_return_conditional_losses while saving (showing 5 of 5). These functions will not be directly callable after loading.\n"
     ]
    },
    {
     "name": "stdout",
     "output_type": "stream",
     "text": [
      "INFO:tensorflow:Assets written to: C:\\Users\\jared\\AppData\\Local\\Temp\\tmpjeq0gt7y\\assets\n"
     ]
    },
    {
     "name": "stderr",
     "output_type": "stream",
     "text": [
      "INFO:tensorflow:Assets written to: C:\\Users\\jared\\AppData\\Local\\Temp\\tmpjeq0gt7y\\assets\n",
      "WARNING:absl:<keras.layers.recurrent.GRUCell object at 0x0000017E0BBDADF0> has the same name 'GRUCell' as a built-in Keras object. Consider renaming <class 'keras.layers.recurrent.GRUCell'> to avoid naming conflicts when loading with `tf.keras.models.load_model`. If renaming is not possible, pass the object in the `custom_objects` parameter of the load function.\n",
      "C:\\Users\\jared\\anaconda3\\envs\\tflow\\lib\\site-packages\\scikeras\\wrappers.py:289: UserWarning: ``build_fn`` will be renamed to ``model`` in a future release, at which point use of ``build_fn`` will raise an Error instead.\n",
      "  warnings.warn(\n"
     ]
    },
    {
     "name": "stdout",
     "output_type": "stream",
     "text": [
      "Epoch 1/20\n",
      "99/99 [==============================] - 3s 20ms/step - loss: 0.7706 - accuracy: 0.5066 - val_loss: 0.6924 - val_accuracy: 0.5198\n",
      "Epoch 2/20\n",
      "99/99 [==============================] - 1s 13ms/step - loss: 0.6915 - accuracy: 0.5219 - val_loss: 0.6878 - val_accuracy: 0.5303\n",
      "Epoch 3/20\n",
      "99/99 [==============================] - 1s 13ms/step - loss: 0.6867 - accuracy: 0.5383 - val_loss: 0.6882 - val_accuracy: 0.5319\n",
      "Epoch 4/20\n",
      "99/99 [==============================] - 1s 13ms/step - loss: 0.6851 - accuracy: 0.5416 - val_loss: 0.6793 - val_accuracy: 0.5550\n",
      "Epoch 5/20\n",
      "99/99 [==============================] - 1s 13ms/step - loss: 0.6819 - accuracy: 0.5501 - val_loss: 0.6792 - val_accuracy: 0.5494\n",
      "Epoch 6/20\n",
      "99/99 [==============================] - 1s 13ms/step - loss: 0.6814 - accuracy: 0.5472 - val_loss: 0.6785 - val_accuracy: 0.5567\n",
      "Epoch 7/20\n",
      "99/99 [==============================] - 1s 13ms/step - loss: 0.6834 - accuracy: 0.5472 - val_loss: 0.6977 - val_accuracy: 0.5332\n",
      "Epoch 8/20\n",
      "99/99 [==============================] - 1s 13ms/step - loss: 0.6813 - accuracy: 0.5517 - val_loss: 0.6843 - val_accuracy: 0.5454\n",
      "Epoch 9/20\n",
      "99/99 [==============================] - 1s 13ms/step - loss: 0.6801 - accuracy: 0.5514 - val_loss: 0.6762 - val_accuracy: 0.5591\n",
      "Epoch 10/20\n",
      "99/99 [==============================] - 1s 13ms/step - loss: 0.6791 - accuracy: 0.5557 - val_loss: 0.6766 - val_accuracy: 0.5458\n",
      "Epoch 11/20\n",
      "99/99 [==============================] - 1s 13ms/step - loss: 0.6806 - accuracy: 0.5524 - val_loss: 0.7045 - val_accuracy: 0.5289\n",
      "Epoch 12/20\n",
      "99/99 [==============================] - 1s 13ms/step - loss: 0.6841 - accuracy: 0.5496 - val_loss: 0.6740 - val_accuracy: 0.5580\n",
      "Epoch 13/20\n",
      "99/99 [==============================] - 1s 13ms/step - loss: 0.6813 - accuracy: 0.5464 - val_loss: 0.6785 - val_accuracy: 0.5522\n",
      "Epoch 14/20\n",
      "99/99 [==============================] - 1s 13ms/step - loss: 0.6847 - accuracy: 0.5521 - val_loss: 0.6826 - val_accuracy: 0.5541\n",
      "Epoch 15/20\n",
      "99/99 [==============================] - 1s 13ms/step - loss: 0.6814 - accuracy: 0.5507 - val_loss: 0.6814 - val_accuracy: 0.5486\n",
      "Epoch 00015: early stopping\n",
      "50/50 [==============================] - 0s 5ms/step\n",
      "[CV 1/3] END dropout_rate=0.1, learning_rate=0.1, node_type=lstm, nodes=[128];, score=nan total time=  23.6s\n"
     ]
    },
    {
     "name": "stderr",
     "output_type": "stream",
     "text": [
      "C:\\Users\\jared\\anaconda3\\envs\\tflow\\lib\\site-packages\\sklearn\\model_selection\\_validation.py:771: UserWarning: Scoring failed. The score on this train-test partition for these parameters will be set to nan. Details: \n",
      "Traceback (most recent call last):\n",
      "  File \"C:\\Users\\jared\\anaconda3\\envs\\tflow\\lib\\site-packages\\sklearn\\model_selection\\_validation.py\", line 762, in _score\n",
      "    scores = scorer(estimator, X_test, y_test)\n",
      "  File \"C:\\Users\\jared\\anaconda3\\envs\\tflow\\lib\\site-packages\\sklearn\\metrics\\_scorer.py\", line 216, in __call__\n",
      "    return self._score(\n",
      "  File \"C:\\Users\\jared\\anaconda3\\envs\\tflow\\lib\\site-packages\\sklearn\\metrics\\_scorer.py\", line 258, in _score\n",
      "    y_pred = method_caller(estimator, \"predict\", X)\n",
      "  File \"C:\\Users\\jared\\anaconda3\\envs\\tflow\\lib\\site-packages\\sklearn\\metrics\\_scorer.py\", line 68, in _cached_call\n",
      "    return getattr(estimator, method)(*args, **kwargs)\n",
      "  File \"C:\\Users\\jared\\anaconda3\\envs\\tflow\\lib\\site-packages\\scikeras\\wrappers.py\", line 1013, in predict\n",
      "    y_pred = self.target_encoder_.inverse_transform(y_pred)\n",
      "  File \"C:\\Users\\jared\\anaconda3\\envs\\tflow\\lib\\site-packages\\scikeras\\utils\\transformers.py\", line 257, in inverse_transform\n",
      "    class_predictions = self._final_encoder.inverse_transform(class_predictions)\n",
      "  File \"C:\\Users\\jared\\anaconda3\\envs\\tflow\\lib\\site-packages\\sklearn\\utils\\metaestimators.py\", line 113, in <lambda>\n",
      "    out = lambda *args, **kwargs: self.fn(obj, *args, **kwargs)  # noqa\n",
      "  File \"C:\\Users\\jared\\anaconda3\\envs\\tflow\\lib\\site-packages\\sklearn\\pipeline.py\", line 675, in inverse_transform\n",
      "    Xt = transform.inverse_transform(Xt)\n",
      "  File \"C:\\Users\\jared\\anaconda3\\envs\\tflow\\lib\\site-packages\\sklearn\\preprocessing\\_encoders.py\", line 990, in inverse_transform\n",
      "    X_tr[:, i] = self.categories_[i][labels]\n",
      "IndexError: index 57 is out of bounds for axis 0 with size 2\n",
      "\n",
      "  warnings.warn(\n",
      "WARNING:absl:Found untraced functions such as gru_cell_1_layer_call_fn, gru_cell_1_layer_call_and_return_conditional_losses, gru_cell_1_layer_call_fn, gru_cell_1_layer_call_and_return_conditional_losses, gru_cell_1_layer_call_and_return_conditional_losses while saving (showing 5 of 5). These functions will not be directly callable after loading.\n"
     ]
    },
    {
     "name": "stdout",
     "output_type": "stream",
     "text": [
      "INFO:tensorflow:Assets written to: C:\\Users\\jared\\AppData\\Local\\Temp\\tmpxbccgpmj\\assets\n"
     ]
    },
    {
     "name": "stderr",
     "output_type": "stream",
     "text": [
      "INFO:tensorflow:Assets written to: C:\\Users\\jared\\AppData\\Local\\Temp\\tmpxbccgpmj\\assets\n",
      "WARNING:absl:<keras.layers.recurrent.GRUCell object at 0x0000017E0BBDADF0> has the same name 'GRUCell' as a built-in Keras object. Consider renaming <class 'keras.layers.recurrent.GRUCell'> to avoid naming conflicts when loading with `tf.keras.models.load_model`. If renaming is not possible, pass the object in the `custom_objects` parameter of the load function.\n",
      "C:\\Users\\jared\\anaconda3\\envs\\tflow\\lib\\site-packages\\scikeras\\wrappers.py:289: UserWarning: ``build_fn`` will be renamed to ``model`` in a future release, at which point use of ``build_fn`` will raise an Error instead.\n",
      "  warnings.warn(\n"
     ]
    },
    {
     "name": "stdout",
     "output_type": "stream",
     "text": [
      "Epoch 1/20\n",
      "99/99 [==============================] - 3s 20ms/step - loss: 0.7619 - accuracy: 0.5148 - val_loss: 0.6927 - val_accuracy: 0.4991\n",
      "Epoch 2/20\n",
      "99/99 [==============================] - 1s 13ms/step - loss: 0.6894 - accuracy: 0.5319 - val_loss: 0.6861 - val_accuracy: 0.5452\n",
      "Epoch 3/20\n",
      "99/99 [==============================] - 1s 13ms/step - loss: 0.6838 - accuracy: 0.5455 - val_loss: 0.6818 - val_accuracy: 0.5565\n",
      "Epoch 4/20\n",
      "99/99 [==============================] - 1s 13ms/step - loss: 0.6822 - accuracy: 0.5511 - val_loss: 0.6830 - val_accuracy: 0.5502\n",
      "Epoch 5/20\n",
      "99/99 [==============================] - 1s 13ms/step - loss: 0.6822 - accuracy: 0.5501 - val_loss: 0.6748 - val_accuracy: 0.5607\n",
      "Epoch 6/20\n",
      "99/99 [==============================] - 1s 13ms/step - loss: 0.6810 - accuracy: 0.5547 - val_loss: 0.6865 - val_accuracy: 0.5470\n",
      "Epoch 7/20\n",
      "99/99 [==============================] - 1s 13ms/step - loss: 0.6817 - accuracy: 0.5517 - val_loss: 0.6874 - val_accuracy: 0.5412\n",
      "Epoch 8/20\n",
      "99/99 [==============================] - 1s 13ms/step - loss: 0.6801 - accuracy: 0.5555 - val_loss: 0.6879 - val_accuracy: 0.5584\n",
      "Epoch 00008: early stopping\n",
      "50/50 [==============================] - 0s 5ms/step\n",
      "[CV 2/3] END dropout_rate=0.1, learning_rate=0.1, node_type=lstm, nodes=[128];, score=nan total time=  14.7s\n"
     ]
    },
    {
     "name": "stderr",
     "output_type": "stream",
     "text": [
      "C:\\Users\\jared\\anaconda3\\envs\\tflow\\lib\\site-packages\\sklearn\\model_selection\\_validation.py:771: UserWarning: Scoring failed. The score on this train-test partition for these parameters will be set to nan. Details: \n",
      "Traceback (most recent call last):\n",
      "  File \"C:\\Users\\jared\\anaconda3\\envs\\tflow\\lib\\site-packages\\sklearn\\model_selection\\_validation.py\", line 762, in _score\n",
      "    scores = scorer(estimator, X_test, y_test)\n",
      "  File \"C:\\Users\\jared\\anaconda3\\envs\\tflow\\lib\\site-packages\\sklearn\\metrics\\_scorer.py\", line 216, in __call__\n",
      "    return self._score(\n",
      "  File \"C:\\Users\\jared\\anaconda3\\envs\\tflow\\lib\\site-packages\\sklearn\\metrics\\_scorer.py\", line 258, in _score\n",
      "    y_pred = method_caller(estimator, \"predict\", X)\n",
      "  File \"C:\\Users\\jared\\anaconda3\\envs\\tflow\\lib\\site-packages\\sklearn\\metrics\\_scorer.py\", line 68, in _cached_call\n",
      "    return getattr(estimator, method)(*args, **kwargs)\n",
      "  File \"C:\\Users\\jared\\anaconda3\\envs\\tflow\\lib\\site-packages\\scikeras\\wrappers.py\", line 1013, in predict\n",
      "    y_pred = self.target_encoder_.inverse_transform(y_pred)\n",
      "  File \"C:\\Users\\jared\\anaconda3\\envs\\tflow\\lib\\site-packages\\scikeras\\utils\\transformers.py\", line 257, in inverse_transform\n",
      "    class_predictions = self._final_encoder.inverse_transform(class_predictions)\n",
      "  File \"C:\\Users\\jared\\anaconda3\\envs\\tflow\\lib\\site-packages\\sklearn\\utils\\metaestimators.py\", line 113, in <lambda>\n",
      "    out = lambda *args, **kwargs: self.fn(obj, *args, **kwargs)  # noqa\n",
      "  File \"C:\\Users\\jared\\anaconda3\\envs\\tflow\\lib\\site-packages\\sklearn\\pipeline.py\", line 675, in inverse_transform\n",
      "    Xt = transform.inverse_transform(Xt)\n",
      "  File \"C:\\Users\\jared\\anaconda3\\envs\\tflow\\lib\\site-packages\\sklearn\\preprocessing\\_encoders.py\", line 990, in inverse_transform\n",
      "    X_tr[:, i] = self.categories_[i][labels]\n",
      "IndexError: index 57 is out of bounds for axis 0 with size 2\n",
      "\n",
      "  warnings.warn(\n",
      "WARNING:absl:Found untraced functions such as gru_cell_1_layer_call_fn, gru_cell_1_layer_call_and_return_conditional_losses, gru_cell_1_layer_call_fn, gru_cell_1_layer_call_and_return_conditional_losses, gru_cell_1_layer_call_and_return_conditional_losses while saving (showing 5 of 5). These functions will not be directly callable after loading.\n"
     ]
    },
    {
     "name": "stdout",
     "output_type": "stream",
     "text": [
      "INFO:tensorflow:Assets written to: C:\\Users\\jared\\AppData\\Local\\Temp\\tmptr476yyw\\assets\n"
     ]
    },
    {
     "name": "stderr",
     "output_type": "stream",
     "text": [
      "INFO:tensorflow:Assets written to: C:\\Users\\jared\\AppData\\Local\\Temp\\tmptr476yyw\\assets\n",
      "WARNING:absl:<keras.layers.recurrent.GRUCell object at 0x0000017E0BBDADF0> has the same name 'GRUCell' as a built-in Keras object. Consider renaming <class 'keras.layers.recurrent.GRUCell'> to avoid naming conflicts when loading with `tf.keras.models.load_model`. If renaming is not possible, pass the object in the `custom_objects` parameter of the load function.\n",
      "C:\\Users\\jared\\anaconda3\\envs\\tflow\\lib\\site-packages\\scikeras\\wrappers.py:289: UserWarning: ``build_fn`` will be renamed to ``model`` in a future release, at which point use of ``build_fn`` will raise an Error instead.\n",
      "  warnings.warn(\n"
     ]
    },
    {
     "name": "stdout",
     "output_type": "stream",
     "text": [
      "Epoch 1/20\n",
      "99/99 [==============================] - 3s 20ms/step - loss: 0.7629 - accuracy: 0.5125 - val_loss: 0.6926 - val_accuracy: 0.5172\n",
      "Epoch 2/20\n",
      "99/99 [==============================] - 1s 13ms/step - loss: 0.6906 - accuracy: 0.5305 - val_loss: 0.6856 - val_accuracy: 0.5376\n",
      "Epoch 3/20\n",
      "99/99 [==============================] - 1s 13ms/step - loss: 0.6850 - accuracy: 0.5402 - val_loss: 0.6819 - val_accuracy: 0.5466\n",
      "Epoch 4/20\n",
      "99/99 [==============================] - 1s 13ms/step - loss: 0.6832 - accuracy: 0.5473 - val_loss: 0.6779 - val_accuracy: 0.5583\n",
      "Epoch 5/20\n",
      "99/99 [==============================] - 1s 13ms/step - loss: 0.6808 - accuracy: 0.5511 - val_loss: 0.6779 - val_accuracy: 0.5526\n",
      "Epoch 6/20\n",
      "99/99 [==============================] - 1s 13ms/step - loss: 0.6827 - accuracy: 0.5498 - val_loss: 0.6789 - val_accuracy: 0.5584\n",
      "Epoch 7/20\n",
      "99/99 [==============================] - 1s 13ms/step - loss: 0.6824 - accuracy: 0.5496 - val_loss: 0.6847 - val_accuracy: 0.5465\n",
      "Epoch 8/20\n",
      "99/99 [==============================] - 1s 13ms/step - loss: 0.6859 - accuracy: 0.5438 - val_loss: 0.6797 - val_accuracy: 0.5618\n",
      "Epoch 00008: early stopping\n",
      "50/50 [==============================] - 0s 5ms/step\n",
      "[CV 3/3] END dropout_rate=0.1, learning_rate=0.1, node_type=lstm, nodes=[128];, score=nan total time=  14.4s\n"
     ]
    },
    {
     "name": "stderr",
     "output_type": "stream",
     "text": [
      "C:\\Users\\jared\\anaconda3\\envs\\tflow\\lib\\site-packages\\sklearn\\model_selection\\_validation.py:771: UserWarning: Scoring failed. The score on this train-test partition for these parameters will be set to nan. Details: \n",
      "Traceback (most recent call last):\n",
      "  File \"C:\\Users\\jared\\anaconda3\\envs\\tflow\\lib\\site-packages\\sklearn\\model_selection\\_validation.py\", line 762, in _score\n",
      "    scores = scorer(estimator, X_test, y_test)\n",
      "  File \"C:\\Users\\jared\\anaconda3\\envs\\tflow\\lib\\site-packages\\sklearn\\metrics\\_scorer.py\", line 216, in __call__\n",
      "    return self._score(\n",
      "  File \"C:\\Users\\jared\\anaconda3\\envs\\tflow\\lib\\site-packages\\sklearn\\metrics\\_scorer.py\", line 258, in _score\n",
      "    y_pred = method_caller(estimator, \"predict\", X)\n",
      "  File \"C:\\Users\\jared\\anaconda3\\envs\\tflow\\lib\\site-packages\\sklearn\\metrics\\_scorer.py\", line 68, in _cached_call\n",
      "    return getattr(estimator, method)(*args, **kwargs)\n",
      "  File \"C:\\Users\\jared\\anaconda3\\envs\\tflow\\lib\\site-packages\\scikeras\\wrappers.py\", line 1013, in predict\n",
      "    y_pred = self.target_encoder_.inverse_transform(y_pred)\n",
      "  File \"C:\\Users\\jared\\anaconda3\\envs\\tflow\\lib\\site-packages\\scikeras\\utils\\transformers.py\", line 257, in inverse_transform\n",
      "    class_predictions = self._final_encoder.inverse_transform(class_predictions)\n",
      "  File \"C:\\Users\\jared\\anaconda3\\envs\\tflow\\lib\\site-packages\\sklearn\\utils\\metaestimators.py\", line 113, in <lambda>\n",
      "    out = lambda *args, **kwargs: self.fn(obj, *args, **kwargs)  # noqa\n",
      "  File \"C:\\Users\\jared\\anaconda3\\envs\\tflow\\lib\\site-packages\\sklearn\\pipeline.py\", line 675, in inverse_transform\n",
      "    Xt = transform.inverse_transform(Xt)\n",
      "  File \"C:\\Users\\jared\\anaconda3\\envs\\tflow\\lib\\site-packages\\sklearn\\preprocessing\\_encoders.py\", line 990, in inverse_transform\n",
      "    X_tr[:, i] = self.categories_[i][labels]\n",
      "IndexError: index 57 is out of bounds for axis 0 with size 2\n",
      "\n",
      "  warnings.warn(\n",
      "WARNING:absl:Found untraced functions such as gru_cell_1_layer_call_fn, gru_cell_1_layer_call_and_return_conditional_losses, gru_cell_1_layer_call_fn, gru_cell_1_layer_call_and_return_conditional_losses, gru_cell_1_layer_call_and_return_conditional_losses while saving (showing 5 of 5). These functions will not be directly callable after loading.\n"
     ]
    },
    {
     "name": "stdout",
     "output_type": "stream",
     "text": [
      "INFO:tensorflow:Assets written to: C:\\Users\\jared\\AppData\\Local\\Temp\\tmpt3aykwkm\\assets\n"
     ]
    },
    {
     "name": "stderr",
     "output_type": "stream",
     "text": [
      "INFO:tensorflow:Assets written to: C:\\Users\\jared\\AppData\\Local\\Temp\\tmpt3aykwkm\\assets\n",
      "WARNING:absl:<keras.layers.recurrent.GRUCell object at 0x0000017E0BBDADF0> has the same name 'GRUCell' as a built-in Keras object. Consider renaming <class 'keras.layers.recurrent.GRUCell'> to avoid naming conflicts when loading with `tf.keras.models.load_model`. If renaming is not possible, pass the object in the `custom_objects` parameter of the load function.\n",
      "C:\\Users\\jared\\anaconda3\\envs\\tflow\\lib\\site-packages\\scikeras\\wrappers.py:289: UserWarning: ``build_fn`` will be renamed to ``model`` in a future release, at which point use of ``build_fn`` will raise an Error instead.\n",
      "  warnings.warn(\n"
     ]
    },
    {
     "name": "stdout",
     "output_type": "stream",
     "text": [
      "Epoch 1/20\n",
      "99/99 [==============================] - 4s 26ms/step - loss: 0.7193 - accuracy: 0.5222 - val_loss: 0.7026 - val_accuracy: 0.5087\n",
      "Epoch 2/20\n",
      "99/99 [==============================] - 2s 17ms/step - loss: 0.6963 - accuracy: 0.5172 - val_loss: 0.6968 - val_accuracy: 0.4912\n",
      "Epoch 3/20\n",
      "99/99 [==============================] - 2s 17ms/step - loss: 0.7002 - accuracy: 0.5101 - val_loss: 0.7062 - val_accuracy: 0.5089\n",
      "Epoch 4/20\n",
      "99/99 [==============================] - 2s 17ms/step - loss: 0.6964 - accuracy: 0.5201 - val_loss: 0.7077 - val_accuracy: 0.5088\n",
      "Epoch 5/20\n",
      "99/99 [==============================] - 2s 17ms/step - loss: 0.6967 - accuracy: 0.5102 - val_loss: 0.7658 - val_accuracy: 0.5088\n",
      "Epoch 00005: early stopping\n",
      "50/50 [==============================] - 1s 6ms/step\n",
      "[CV 1/3] END dropout_rate=0.1, learning_rate=0.1, node_type=lstm, nodes=[64, 64];, score=0.509 total time=  14.1s\n"
     ]
    },
    {
     "name": "stderr",
     "output_type": "stream",
     "text": [
      "WARNING:absl:Found untraced functions such as gru_cell_1_layer_call_fn, gru_cell_1_layer_call_and_return_conditional_losses, gru_cell_1_layer_call_fn, gru_cell_1_layer_call_and_return_conditional_losses, gru_cell_1_layer_call_and_return_conditional_losses while saving (showing 5 of 5). These functions will not be directly callable after loading.\n"
     ]
    },
    {
     "name": "stdout",
     "output_type": "stream",
     "text": [
      "INFO:tensorflow:Assets written to: C:\\Users\\jared\\AppData\\Local\\Temp\\tmp4nvn9qb5\\assets\n"
     ]
    },
    {
     "name": "stderr",
     "output_type": "stream",
     "text": [
      "INFO:tensorflow:Assets written to: C:\\Users\\jared\\AppData\\Local\\Temp\\tmp4nvn9qb5\\assets\n",
      "WARNING:absl:<keras.layers.recurrent.GRUCell object at 0x0000017E0BBDADF0> has the same name 'GRUCell' as a built-in Keras object. Consider renaming <class 'keras.layers.recurrent.GRUCell'> to avoid naming conflicts when loading with `tf.keras.models.load_model`. If renaming is not possible, pass the object in the `custom_objects` parameter of the load function.\n",
      "C:\\Users\\jared\\anaconda3\\envs\\tflow\\lib\\site-packages\\scikeras\\wrappers.py:289: UserWarning: ``build_fn`` will be renamed to ``model`` in a future release, at which point use of ``build_fn`` will raise an Error instead.\n",
      "  warnings.warn(\n"
     ]
    },
    {
     "name": "stdout",
     "output_type": "stream",
     "text": [
      "Epoch 1/20\n",
      "99/99 [==============================] - 4s 24ms/step - loss: 0.7160 - accuracy: 0.5138 - val_loss: 0.7063 - val_accuracy: 0.5091\n",
      "Epoch 2/20\n",
      "99/99 [==============================] - 2s 17ms/step - loss: 0.6959 - accuracy: 0.5218 - val_loss: 0.6940 - val_accuracy: 0.4924\n",
      "Epoch 3/20\n",
      "99/99 [==============================] - 2s 17ms/step - loss: 0.7006 - accuracy: 0.4998 - val_loss: 0.6936 - val_accuracy: 0.5088\n",
      "Epoch 4/20\n",
      "99/99 [==============================] - 2s 17ms/step - loss: 0.6979 - accuracy: 0.5077 - val_loss: 0.6927 - val_accuracy: 0.5162\n",
      "Epoch 5/20\n",
      "99/99 [==============================] - 2s 17ms/step - loss: 0.6995 - accuracy: 0.5019 - val_loss: 0.6930 - val_accuracy: 0.5089\n",
      "Epoch 6/20\n",
      "99/99 [==============================] - 2s 17ms/step - loss: 0.6967 - accuracy: 0.5041 - val_loss: 0.6930 - val_accuracy: 0.5089\n",
      "Epoch 7/20\n",
      "99/99 [==============================] - 2s 17ms/step - loss: 0.6974 - accuracy: 0.5015 - val_loss: 0.7172 - val_accuracy: 0.5091\n",
      "Epoch 00007: early stopping\n",
      "50/50 [==============================] - 1s 6ms/step\n",
      "[CV 2/3] END dropout_rate=0.1, learning_rate=0.1, node_type=lstm, nodes=[64, 64];, score=0.509 total time=  17.3s\n"
     ]
    },
    {
     "name": "stderr",
     "output_type": "stream",
     "text": [
      "WARNING:absl:Found untraced functions such as gru_cell_1_layer_call_fn, gru_cell_1_layer_call_and_return_conditional_losses, gru_cell_1_layer_call_fn, gru_cell_1_layer_call_and_return_conditional_losses, gru_cell_1_layer_call_and_return_conditional_losses while saving (showing 5 of 5). These functions will not be directly callable after loading.\n"
     ]
    },
    {
     "name": "stdout",
     "output_type": "stream",
     "text": [
      "INFO:tensorflow:Assets written to: C:\\Users\\jared\\AppData\\Local\\Temp\\tmplukltpql\\assets\n"
     ]
    },
    {
     "name": "stderr",
     "output_type": "stream",
     "text": [
      "INFO:tensorflow:Assets written to: C:\\Users\\jared\\AppData\\Local\\Temp\\tmplukltpql\\assets\n",
      "WARNING:absl:<keras.layers.recurrent.GRUCell object at 0x0000017E0BBDADF0> has the same name 'GRUCell' as a built-in Keras object. Consider renaming <class 'keras.layers.recurrent.GRUCell'> to avoid naming conflicts when loading with `tf.keras.models.load_model`. If renaming is not possible, pass the object in the `custom_objects` parameter of the load function.\n",
      "C:\\Users\\jared\\anaconda3\\envs\\tflow\\lib\\site-packages\\scikeras\\wrappers.py:289: UserWarning: ``build_fn`` will be renamed to ``model`` in a future release, at which point use of ``build_fn`` will raise an Error instead.\n",
      "  warnings.warn(\n"
     ]
    },
    {
     "name": "stdout",
     "output_type": "stream",
     "text": [
      "Epoch 1/20\n",
      "99/99 [==============================] - 4s 25ms/step - loss: 0.7167 - accuracy: 0.5253 - val_loss: 0.6907 - val_accuracy: 0.5360\n",
      "Epoch 2/20\n",
      "99/99 [==============================] - 2s 17ms/step - loss: 0.6948 - accuracy: 0.5138 - val_loss: 0.6911 - val_accuracy: 0.5482\n",
      "Epoch 3/20\n",
      "99/99 [==============================] - 2s 17ms/step - loss: 0.6964 - accuracy: 0.5027 - val_loss: 0.6927 - val_accuracy: 0.5089\n",
      "Epoch 4/20\n",
      "99/99 [==============================] - 2s 17ms/step - loss: 0.6964 - accuracy: 0.5065 - val_loss: 0.6986 - val_accuracy: 0.4874\n",
      "Epoch 00004: early stopping\n",
      "50/50 [==============================] - 1s 5ms/step\n",
      "[CV 3/3] END dropout_rate=0.1, learning_rate=0.1, node_type=lstm, nodes=[64, 64];, score=0.487 total time=  12.4s\n"
     ]
    },
    {
     "name": "stderr",
     "output_type": "stream",
     "text": [
      "WARNING:absl:Found untraced functions such as gru_cell_1_layer_call_fn, gru_cell_1_layer_call_and_return_conditional_losses, gru_cell_1_layer_call_fn, gru_cell_1_layer_call_and_return_conditional_losses, gru_cell_1_layer_call_and_return_conditional_losses while saving (showing 5 of 5). These functions will not be directly callable after loading.\n"
     ]
    },
    {
     "name": "stdout",
     "output_type": "stream",
     "text": [
      "INFO:tensorflow:Assets written to: C:\\Users\\jared\\AppData\\Local\\Temp\\tmp29hk4zgh\\assets\n"
     ]
    },
    {
     "name": "stderr",
     "output_type": "stream",
     "text": [
      "INFO:tensorflow:Assets written to: C:\\Users\\jared\\AppData\\Local\\Temp\\tmp29hk4zgh\\assets\n",
      "WARNING:absl:<keras.layers.recurrent.GRUCell object at 0x0000017E0BBDADF0> has the same name 'GRUCell' as a built-in Keras object. Consider renaming <class 'keras.layers.recurrent.GRUCell'> to avoid naming conflicts when loading with `tf.keras.models.load_model`. If renaming is not possible, pass the object in the `custom_objects` parameter of the load function.\n",
      "C:\\Users\\jared\\anaconda3\\envs\\tflow\\lib\\site-packages\\scikeras\\wrappers.py:289: UserWarning: ``build_fn`` will be renamed to ``model`` in a future release, at which point use of ``build_fn`` will raise an Error instead.\n",
      "  warnings.warn(\n"
     ]
    },
    {
     "name": "stdout",
     "output_type": "stream",
     "text": [
      "Epoch 1/20\n",
      "99/99 [==============================] - 6s 30ms/step - loss: 0.7128 - accuracy: 0.4975 - val_loss: 0.6947 - val_accuracy: 0.5087\n",
      "Epoch 2/20\n",
      "99/99 [==============================] - 2s 20ms/step - loss: 0.6938 - accuracy: 0.5167 - val_loss: 0.7051 - val_accuracy: 0.4902\n",
      "Epoch 3/20\n",
      "99/99 [==============================] - 2s 20ms/step - loss: 0.6960 - accuracy: 0.5038 - val_loss: 0.6930 - val_accuracy: 0.5088\n",
      "Epoch 4/20\n",
      "99/99 [==============================] - 2s 20ms/step - loss: 0.6963 - accuracy: 0.4973 - val_loss: 0.6947 - val_accuracy: 0.5088\n",
      "Epoch 5/20\n",
      "99/99 [==============================] - 2s 20ms/step - loss: 0.6954 - accuracy: 0.5029 - val_loss: 1.1736 - val_accuracy: 0.4914\n",
      "Epoch 6/20\n",
      "99/99 [==============================] - 2s 21ms/step - loss: 0.6961 - accuracy: 0.4975 - val_loss: 0.7164 - val_accuracy: 0.5087\n",
      "Epoch 00006: early stopping\n",
      "50/50 [==============================] - 1s 7ms/step\n",
      "[CV 1/3] END dropout_rate=0.1, learning_rate=0.1, node_type=lstm, nodes=[32, 32, 32];, score=0.508 total time=  18.9s\n"
     ]
    },
    {
     "name": "stderr",
     "output_type": "stream",
     "text": [
      "WARNING:absl:Found untraced functions such as gru_cell_1_layer_call_fn, gru_cell_1_layer_call_and_return_conditional_losses, gru_cell_1_layer_call_fn, gru_cell_1_layer_call_and_return_conditional_losses, gru_cell_1_layer_call_and_return_conditional_losses while saving (showing 5 of 5). These functions will not be directly callable after loading.\n"
     ]
    },
    {
     "name": "stdout",
     "output_type": "stream",
     "text": [
      "INFO:tensorflow:Assets written to: C:\\Users\\jared\\AppData\\Local\\Temp\\tmpxwoe9d_4\\assets\n"
     ]
    },
    {
     "name": "stderr",
     "output_type": "stream",
     "text": [
      "INFO:tensorflow:Assets written to: C:\\Users\\jared\\AppData\\Local\\Temp\\tmpxwoe9d_4\\assets\n",
      "WARNING:absl:<keras.layers.recurrent.GRUCell object at 0x0000017E0BBDADF0> has the same name 'GRUCell' as a built-in Keras object. Consider renaming <class 'keras.layers.recurrent.GRUCell'> to avoid naming conflicts when loading with `tf.keras.models.load_model`. If renaming is not possible, pass the object in the `custom_objects` parameter of the load function.\n",
      "C:\\Users\\jared\\anaconda3\\envs\\tflow\\lib\\site-packages\\scikeras\\wrappers.py:289: UserWarning: ``build_fn`` will be renamed to ``model`` in a future release, at which point use of ``build_fn`` will raise an Error instead.\n",
      "  warnings.warn(\n"
     ]
    },
    {
     "name": "stdout",
     "output_type": "stream",
     "text": [
      "Epoch 1/20\n",
      "99/99 [==============================] - 6s 31ms/step - loss: 0.7110 - accuracy: 0.5074 - val_loss: 0.6926 - val_accuracy: 0.5136\n",
      "Epoch 2/20\n",
      "99/99 [==============================] - 2s 21ms/step - loss: 0.6955 - accuracy: 0.5038 - val_loss: 0.6978 - val_accuracy: 0.5096\n",
      "Epoch 3/20\n",
      "99/99 [==============================] - 2s 21ms/step - loss: 0.6956 - accuracy: 0.5025 - val_loss: 0.6988 - val_accuracy: 0.5138\n",
      "Epoch 4/20\n",
      "99/99 [==============================] - 2s 21ms/step - loss: 0.6963 - accuracy: 0.5023 - val_loss: 0.6968 - val_accuracy: 0.5088\n",
      "Epoch 00004: early stopping\n",
      "50/50 [==============================] - 1s 7ms/step\n",
      "[CV 2/3] END dropout_rate=0.1, learning_rate=0.1, node_type=lstm, nodes=[32, 32, 32];, score=0.509 total time=  15.2s\n"
     ]
    },
    {
     "name": "stderr",
     "output_type": "stream",
     "text": [
      "WARNING:absl:Found untraced functions such as gru_cell_1_layer_call_fn, gru_cell_1_layer_call_and_return_conditional_losses, gru_cell_1_layer_call_fn, gru_cell_1_layer_call_and_return_conditional_losses, gru_cell_1_layer_call_and_return_conditional_losses while saving (showing 5 of 5). These functions will not be directly callable after loading.\n"
     ]
    },
    {
     "name": "stdout",
     "output_type": "stream",
     "text": [
      "INFO:tensorflow:Assets written to: C:\\Users\\jared\\AppData\\Local\\Temp\\tmpusq_pm5x\\assets\n"
     ]
    },
    {
     "name": "stderr",
     "output_type": "stream",
     "text": [
      "INFO:tensorflow:Assets written to: C:\\Users\\jared\\AppData\\Local\\Temp\\tmpusq_pm5x\\assets\n",
      "WARNING:absl:<keras.layers.recurrent.GRUCell object at 0x0000017E0BBDADF0> has the same name 'GRUCell' as a built-in Keras object. Consider renaming <class 'keras.layers.recurrent.GRUCell'> to avoid naming conflicts when loading with `tf.keras.models.load_model`. If renaming is not possible, pass the object in the `custom_objects` parameter of the load function.\n",
      "C:\\Users\\jared\\anaconda3\\envs\\tflow\\lib\\site-packages\\scikeras\\wrappers.py:289: UserWarning: ``build_fn`` will be renamed to ``model`` in a future release, at which point use of ``build_fn`` will raise an Error instead.\n",
      "  warnings.warn(\n"
     ]
    },
    {
     "name": "stdout",
     "output_type": "stream",
     "text": [
      "Epoch 1/20\n",
      "99/99 [==============================] - 6s 30ms/step - loss: 0.7127 - accuracy: 0.5068 - val_loss: 0.6941 - val_accuracy: 0.5088\n",
      "Epoch 2/20\n",
      "99/99 [==============================] - 2s 20ms/step - loss: 0.6956 - accuracy: 0.5099 - val_loss: 0.6931 - val_accuracy: 0.5089\n",
      "Epoch 3/20\n",
      "99/99 [==============================] - 2s 21ms/step - loss: 0.6955 - accuracy: 0.5010 - val_loss: 0.6934 - val_accuracy: 0.5088\n",
      "Epoch 4/20\n",
      "99/99 [==============================] - 2s 21ms/step - loss: 0.6939 - accuracy: 0.5066 - val_loss: 0.6937 - val_accuracy: 0.4912\n",
      "Epoch 5/20\n",
      "99/99 [==============================] - 2s 21ms/step - loss: 0.6945 - accuracy: 0.5022 - val_loss: 0.6933 - val_accuracy: 0.4912\n",
      "Epoch 00005: early stopping\n",
      "50/50 [==============================] - 1s 7ms/step\n",
      "[CV 3/3] END dropout_rate=0.1, learning_rate=0.1, node_type=lstm, nodes=[32, 32, 32];, score=0.490 total time=  17.3s\n"
     ]
    },
    {
     "name": "stderr",
     "output_type": "stream",
     "text": [
      "WARNING:absl:Found untraced functions such as gru_cell_1_layer_call_fn, gru_cell_1_layer_call_and_return_conditional_losses, gru_cell_1_layer_call_fn, gru_cell_1_layer_call_and_return_conditional_losses, gru_cell_1_layer_call_and_return_conditional_losses while saving (showing 5 of 5). These functions will not be directly callable after loading.\n"
     ]
    },
    {
     "name": "stdout",
     "output_type": "stream",
     "text": [
      "INFO:tensorflow:Assets written to: C:\\Users\\jared\\AppData\\Local\\Temp\\tmprofwe15y\\assets\n"
     ]
    },
    {
     "name": "stderr",
     "output_type": "stream",
     "text": [
      "INFO:tensorflow:Assets written to: C:\\Users\\jared\\AppData\\Local\\Temp\\tmprofwe15y\\assets\n",
      "WARNING:absl:<keras.layers.recurrent.GRUCell object at 0x0000017E0BBDADF0> has the same name 'GRUCell' as a built-in Keras object. Consider renaming <class 'keras.layers.recurrent.GRUCell'> to avoid naming conflicts when loading with `tf.keras.models.load_model`. If renaming is not possible, pass the object in the `custom_objects` parameter of the load function.\n",
      "C:\\Users\\jared\\anaconda3\\envs\\tflow\\lib\\site-packages\\scikeras\\wrappers.py:289: UserWarning: ``build_fn`` will be renamed to ``model`` in a future release, at which point use of ``build_fn`` will raise an Error instead.\n",
      "  warnings.warn(\n"
     ]
    },
    {
     "name": "stdout",
     "output_type": "stream",
     "text": [
      "Epoch 1/20\n",
      "99/99 [==============================] - 3s 18ms/step - loss: 0.7734 - accuracy: 0.5131 - val_loss: 0.7088 - val_accuracy: 0.5190\n",
      "Epoch 2/20\n",
      "99/99 [==============================] - 1s 12ms/step - loss: 0.6942 - accuracy: 0.5163 - val_loss: 0.6885 - val_accuracy: 0.5277\n",
      "Epoch 3/20\n",
      "99/99 [==============================] - 1s 13ms/step - loss: 0.6912 - accuracy: 0.5261 - val_loss: 0.6880 - val_accuracy: 0.5348\n",
      "Epoch 4/20\n",
      "99/99 [==============================] - 1s 12ms/step - loss: 0.6863 - accuracy: 0.5378 - val_loss: 0.6850 - val_accuracy: 0.5369\n",
      "Epoch 5/20\n",
      "99/99 [==============================] - 1s 13ms/step - loss: 0.6848 - accuracy: 0.5423 - val_loss: 0.6781 - val_accuracy: 0.5581\n",
      "Epoch 6/20\n",
      "99/99 [==============================] - 1s 13ms/step - loss: 0.6856 - accuracy: 0.5461 - val_loss: 0.6823 - val_accuracy: 0.5528\n",
      "Epoch 7/20\n",
      "99/99 [==============================] - 1s 13ms/step - loss: 0.6848 - accuracy: 0.5474 - val_loss: 0.6792 - val_accuracy: 0.5660\n",
      "Epoch 8/20\n",
      "99/99 [==============================] - 1s 12ms/step - loss: 0.6830 - accuracy: 0.5484 - val_loss: 0.6773 - val_accuracy: 0.5612\n",
      "Epoch 9/20\n",
      "99/99 [==============================] - 1s 13ms/step - loss: 0.6832 - accuracy: 0.5558 - val_loss: 0.6867 - val_accuracy: 0.5471\n",
      "Epoch 10/20\n",
      "99/99 [==============================] - 1s 12ms/step - loss: 0.6829 - accuracy: 0.5520 - val_loss: 0.6746 - val_accuracy: 0.5658\n",
      "Epoch 11/20\n",
      "99/99 [==============================] - 1s 12ms/step - loss: 0.6835 - accuracy: 0.5493 - val_loss: 0.7066 - val_accuracy: 0.5387\n",
      "Epoch 12/20\n",
      "99/99 [==============================] - 1s 12ms/step - loss: 0.6852 - accuracy: 0.5495 - val_loss: 0.6872 - val_accuracy: 0.5409\n",
      "Epoch 13/20\n",
      "99/99 [==============================] - 1s 13ms/step - loss: 0.6819 - accuracy: 0.5542 - val_loss: 0.6850 - val_accuracy: 0.5617\n",
      "Epoch 00013: early stopping\n",
      "50/50 [==============================] - 0s 4ms/step\n",
      "[CV 1/3] END dropout_rate=0.1, learning_rate=0.1, node_type=gru, nodes=[128];, score=nan total time=  20.0s\n"
     ]
    },
    {
     "name": "stderr",
     "output_type": "stream",
     "text": [
      "C:\\Users\\jared\\anaconda3\\envs\\tflow\\lib\\site-packages\\sklearn\\model_selection\\_validation.py:771: UserWarning: Scoring failed. The score on this train-test partition for these parameters will be set to nan. Details: \n",
      "Traceback (most recent call last):\n",
      "  File \"C:\\Users\\jared\\anaconda3\\envs\\tflow\\lib\\site-packages\\sklearn\\model_selection\\_validation.py\", line 762, in _score\n",
      "    scores = scorer(estimator, X_test, y_test)\n",
      "  File \"C:\\Users\\jared\\anaconda3\\envs\\tflow\\lib\\site-packages\\sklearn\\metrics\\_scorer.py\", line 216, in __call__\n",
      "    return self._score(\n",
      "  File \"C:\\Users\\jared\\anaconda3\\envs\\tflow\\lib\\site-packages\\sklearn\\metrics\\_scorer.py\", line 258, in _score\n",
      "    y_pred = method_caller(estimator, \"predict\", X)\n",
      "  File \"C:\\Users\\jared\\anaconda3\\envs\\tflow\\lib\\site-packages\\sklearn\\metrics\\_scorer.py\", line 68, in _cached_call\n",
      "    return getattr(estimator, method)(*args, **kwargs)\n",
      "  File \"C:\\Users\\jared\\anaconda3\\envs\\tflow\\lib\\site-packages\\scikeras\\wrappers.py\", line 1013, in predict\n",
      "    y_pred = self.target_encoder_.inverse_transform(y_pred)\n",
      "  File \"C:\\Users\\jared\\anaconda3\\envs\\tflow\\lib\\site-packages\\scikeras\\utils\\transformers.py\", line 257, in inverse_transform\n",
      "    class_predictions = self._final_encoder.inverse_transform(class_predictions)\n",
      "  File \"C:\\Users\\jared\\anaconda3\\envs\\tflow\\lib\\site-packages\\sklearn\\utils\\metaestimators.py\", line 113, in <lambda>\n",
      "    out = lambda *args, **kwargs: self.fn(obj, *args, **kwargs)  # noqa\n",
      "  File \"C:\\Users\\jared\\anaconda3\\envs\\tflow\\lib\\site-packages\\sklearn\\pipeline.py\", line 675, in inverse_transform\n",
      "    Xt = transform.inverse_transform(Xt)\n",
      "  File \"C:\\Users\\jared\\anaconda3\\envs\\tflow\\lib\\site-packages\\sklearn\\preprocessing\\_encoders.py\", line 990, in inverse_transform\n",
      "    X_tr[:, i] = self.categories_[i][labels]\n",
      "IndexError: index 32 is out of bounds for axis 0 with size 2\n",
      "\n",
      "  warnings.warn(\n",
      "WARNING:absl:Found untraced functions such as gru_cell_1_layer_call_fn, gru_cell_1_layer_call_and_return_conditional_losses, gru_cell_1_layer_call_fn, gru_cell_1_layer_call_and_return_conditional_losses, gru_cell_1_layer_call_and_return_conditional_losses while saving (showing 5 of 5). These functions will not be directly callable after loading.\n"
     ]
    },
    {
     "name": "stdout",
     "output_type": "stream",
     "text": [
      "INFO:tensorflow:Assets written to: C:\\Users\\jared\\AppData\\Local\\Temp\\tmp1mllphah\\assets\n"
     ]
    },
    {
     "name": "stderr",
     "output_type": "stream",
     "text": [
      "INFO:tensorflow:Assets written to: C:\\Users\\jared\\AppData\\Local\\Temp\\tmp1mllphah\\assets\n",
      "WARNING:absl:<keras.layers.recurrent.GRUCell object at 0x0000017E0BBDADF0> has the same name 'GRUCell' as a built-in Keras object. Consider renaming <class 'keras.layers.recurrent.GRUCell'> to avoid naming conflicts when loading with `tf.keras.models.load_model`. If renaming is not possible, pass the object in the `custom_objects` parameter of the load function.\n",
      "C:\\Users\\jared\\anaconda3\\envs\\tflow\\lib\\site-packages\\scikeras\\wrappers.py:289: UserWarning: ``build_fn`` will be renamed to ``model`` in a future release, at which point use of ``build_fn`` will raise an Error instead.\n",
      "  warnings.warn(\n"
     ]
    },
    {
     "name": "stdout",
     "output_type": "stream",
     "text": [
      "Epoch 1/20\n",
      "99/99 [==============================] - 3s 18ms/step - loss: 0.7873 - accuracy: 0.5113 - val_loss: 0.6873 - val_accuracy: 0.5324\n",
      "Epoch 2/20\n",
      "99/99 [==============================] - 1s 13ms/step - loss: 0.6892 - accuracy: 0.5300 - val_loss: 0.6826 - val_accuracy: 0.5533\n",
      "Epoch 3/20\n",
      "99/99 [==============================] - 1s 12ms/step - loss: 0.6867 - accuracy: 0.5445 - val_loss: 0.6818 - val_accuracy: 0.5607\n",
      "Epoch 4/20\n",
      "99/99 [==============================] - 1s 12ms/step - loss: 0.6877 - accuracy: 0.5421 - val_loss: 0.6879 - val_accuracy: 0.5349\n",
      "Epoch 5/20\n",
      "99/99 [==============================] - 1s 13ms/step - loss: 0.6838 - accuracy: 0.5498 - val_loss: 0.6803 - val_accuracy: 0.5433\n",
      "Epoch 6/20\n",
      "99/99 [==============================] - 1s 12ms/step - loss: 0.6822 - accuracy: 0.5524 - val_loss: 0.6789 - val_accuracy: 0.5459\n",
      "Epoch 7/20\n",
      "99/99 [==============================] - 1s 12ms/step - loss: 0.6828 - accuracy: 0.5471 - val_loss: 0.6804 - val_accuracy: 0.5550\n",
      "Epoch 8/20\n",
      "99/99 [==============================] - 1s 12ms/step - loss: 0.6821 - accuracy: 0.5499 - val_loss: 0.6770 - val_accuracy: 0.5586\n",
      "Epoch 9/20\n",
      "99/99 [==============================] - 1s 12ms/step - loss: 0.6836 - accuracy: 0.5497 - val_loss: 0.6987 - val_accuracy: 0.5348\n",
      "Epoch 10/20\n",
      "99/99 [==============================] - 1s 12ms/step - loss: 0.6843 - accuracy: 0.5514 - val_loss: 0.6778 - val_accuracy: 0.5588\n",
      "Epoch 11/20\n",
      "99/99 [==============================] - 1s 13ms/step - loss: 0.6808 - accuracy: 0.5536 - val_loss: 0.6998 - val_accuracy: 0.5320\n",
      "Epoch 00011: early stopping\n",
      "50/50 [==============================] - 0s 5ms/step\n",
      "[CV 2/3] END dropout_rate=0.1, learning_rate=0.1, node_type=gru, nodes=[128];, score=nan total time=  17.5s\n"
     ]
    },
    {
     "name": "stderr",
     "output_type": "stream",
     "text": [
      "C:\\Users\\jared\\anaconda3\\envs\\tflow\\lib\\site-packages\\sklearn\\model_selection\\_validation.py:771: UserWarning: Scoring failed. The score on this train-test partition for these parameters will be set to nan. Details: \n",
      "Traceback (most recent call last):\n",
      "  File \"C:\\Users\\jared\\anaconda3\\envs\\tflow\\lib\\site-packages\\sklearn\\model_selection\\_validation.py\", line 762, in _score\n",
      "    scores = scorer(estimator, X_test, y_test)\n",
      "  File \"C:\\Users\\jared\\anaconda3\\envs\\tflow\\lib\\site-packages\\sklearn\\metrics\\_scorer.py\", line 216, in __call__\n",
      "    return self._score(\n",
      "  File \"C:\\Users\\jared\\anaconda3\\envs\\tflow\\lib\\site-packages\\sklearn\\metrics\\_scorer.py\", line 258, in _score\n",
      "    y_pred = method_caller(estimator, \"predict\", X)\n",
      "  File \"C:\\Users\\jared\\anaconda3\\envs\\tflow\\lib\\site-packages\\sklearn\\metrics\\_scorer.py\", line 68, in _cached_call\n",
      "    return getattr(estimator, method)(*args, **kwargs)\n",
      "  File \"C:\\Users\\jared\\anaconda3\\envs\\tflow\\lib\\site-packages\\scikeras\\wrappers.py\", line 1013, in predict\n",
      "    y_pred = self.target_encoder_.inverse_transform(y_pred)\n",
      "  File \"C:\\Users\\jared\\anaconda3\\envs\\tflow\\lib\\site-packages\\scikeras\\utils\\transformers.py\", line 257, in inverse_transform\n",
      "    class_predictions = self._final_encoder.inverse_transform(class_predictions)\n",
      "  File \"C:\\Users\\jared\\anaconda3\\envs\\tflow\\lib\\site-packages\\sklearn\\utils\\metaestimators.py\", line 113, in <lambda>\n",
      "    out = lambda *args, **kwargs: self.fn(obj, *args, **kwargs)  # noqa\n",
      "  File \"C:\\Users\\jared\\anaconda3\\envs\\tflow\\lib\\site-packages\\sklearn\\pipeline.py\", line 675, in inverse_transform\n",
      "    Xt = transform.inverse_transform(Xt)\n",
      "  File \"C:\\Users\\jared\\anaconda3\\envs\\tflow\\lib\\site-packages\\sklearn\\preprocessing\\_encoders.py\", line 990, in inverse_transform\n",
      "    X_tr[:, i] = self.categories_[i][labels]\n",
      "IndexError: index 57 is out of bounds for axis 0 with size 2\n",
      "\n",
      "  warnings.warn(\n",
      "WARNING:absl:Found untraced functions such as gru_cell_1_layer_call_fn, gru_cell_1_layer_call_and_return_conditional_losses, gru_cell_1_layer_call_fn, gru_cell_1_layer_call_and_return_conditional_losses, gru_cell_1_layer_call_and_return_conditional_losses while saving (showing 5 of 5). These functions will not be directly callable after loading.\n"
     ]
    },
    {
     "name": "stdout",
     "output_type": "stream",
     "text": [
      "INFO:tensorflow:Assets written to: C:\\Users\\jared\\AppData\\Local\\Temp\\tmpe2yw5xlh\\assets\n"
     ]
    },
    {
     "name": "stderr",
     "output_type": "stream",
     "text": [
      "INFO:tensorflow:Assets written to: C:\\Users\\jared\\AppData\\Local\\Temp\\tmpe2yw5xlh\\assets\n",
      "WARNING:absl:<keras.layers.recurrent.GRUCell object at 0x0000017E0BBDADF0> has the same name 'GRUCell' as a built-in Keras object. Consider renaming <class 'keras.layers.recurrent.GRUCell'> to avoid naming conflicts when loading with `tf.keras.models.load_model`. If renaming is not possible, pass the object in the `custom_objects` parameter of the load function.\n",
      "C:\\Users\\jared\\anaconda3\\envs\\tflow\\lib\\site-packages\\scikeras\\wrappers.py:289: UserWarning: ``build_fn`` will be renamed to ``model`` in a future release, at which point use of ``build_fn`` will raise an Error instead.\n",
      "  warnings.warn(\n"
     ]
    },
    {
     "name": "stdout",
     "output_type": "stream",
     "text": [
      "Epoch 1/20\n",
      "99/99 [==============================] - 3s 18ms/step - loss: 0.7775 - accuracy: 0.5137 - val_loss: 0.6891 - val_accuracy: 0.5303\n",
      "Epoch 2/20\n",
      "99/99 [==============================] - 1s 12ms/step - loss: 0.6876 - accuracy: 0.5392 - val_loss: 0.6843 - val_accuracy: 0.5545\n",
      "Epoch 3/20\n",
      "99/99 [==============================] - 1s 12ms/step - loss: 0.6841 - accuracy: 0.5472 - val_loss: 0.6811 - val_accuracy: 0.5539\n",
      "Epoch 4/20\n",
      "99/99 [==============================] - 1s 13ms/step - loss: 0.6826 - accuracy: 0.5462 - val_loss: 0.6778 - val_accuracy: 0.5542\n",
      "Epoch 5/20\n",
      "99/99 [==============================] - 1s 13ms/step - loss: 0.6825 - accuracy: 0.5490 - val_loss: 0.6796 - val_accuracy: 0.5538\n",
      "Epoch 6/20\n",
      "99/99 [==============================] - 1s 13ms/step - loss: 0.6831 - accuracy: 0.5498 - val_loss: 0.6767 - val_accuracy: 0.5611\n",
      "Epoch 7/20\n",
      "99/99 [==============================] - 1s 13ms/step - loss: 0.6860 - accuracy: 0.5453 - val_loss: 0.6784 - val_accuracy: 0.5542\n",
      "Epoch 8/20\n",
      "99/99 [==============================] - 1s 12ms/step - loss: 0.6843 - accuracy: 0.5442 - val_loss: 0.7017 - val_accuracy: 0.5287\n",
      "Epoch 9/20\n",
      "99/99 [==============================] - 1s 12ms/step - loss: 0.6862 - accuracy: 0.5470 - val_loss: 0.6845 - val_accuracy: 0.5579\n",
      "Epoch 00009: early stopping\n",
      "50/50 [==============================] - 0s 4ms/step\n",
      "[CV 3/3] END dropout_rate=0.1, learning_rate=0.1, node_type=gru, nodes=[128];, score=nan total time=  15.4s\n"
     ]
    },
    {
     "name": "stderr",
     "output_type": "stream",
     "text": [
      "C:\\Users\\jared\\anaconda3\\envs\\tflow\\lib\\site-packages\\sklearn\\model_selection\\_validation.py:771: UserWarning: Scoring failed. The score on this train-test partition for these parameters will be set to nan. Details: \n",
      "Traceback (most recent call last):\n",
      "  File \"C:\\Users\\jared\\anaconda3\\envs\\tflow\\lib\\site-packages\\sklearn\\model_selection\\_validation.py\", line 762, in _score\n",
      "    scores = scorer(estimator, X_test, y_test)\n",
      "  File \"C:\\Users\\jared\\anaconda3\\envs\\tflow\\lib\\site-packages\\sklearn\\metrics\\_scorer.py\", line 216, in __call__\n",
      "    return self._score(\n",
      "  File \"C:\\Users\\jared\\anaconda3\\envs\\tflow\\lib\\site-packages\\sklearn\\metrics\\_scorer.py\", line 258, in _score\n",
      "    y_pred = method_caller(estimator, \"predict\", X)\n",
      "  File \"C:\\Users\\jared\\anaconda3\\envs\\tflow\\lib\\site-packages\\sklearn\\metrics\\_scorer.py\", line 68, in _cached_call\n",
      "    return getattr(estimator, method)(*args, **kwargs)\n",
      "  File \"C:\\Users\\jared\\anaconda3\\envs\\tflow\\lib\\site-packages\\scikeras\\wrappers.py\", line 1013, in predict\n",
      "    y_pred = self.target_encoder_.inverse_transform(y_pred)\n",
      "  File \"C:\\Users\\jared\\anaconda3\\envs\\tflow\\lib\\site-packages\\scikeras\\utils\\transformers.py\", line 257, in inverse_transform\n",
      "    class_predictions = self._final_encoder.inverse_transform(class_predictions)\n",
      "  File \"C:\\Users\\jared\\anaconda3\\envs\\tflow\\lib\\site-packages\\sklearn\\utils\\metaestimators.py\", line 113, in <lambda>\n",
      "    out = lambda *args, **kwargs: self.fn(obj, *args, **kwargs)  # noqa\n",
      "  File \"C:\\Users\\jared\\anaconda3\\envs\\tflow\\lib\\site-packages\\sklearn\\pipeline.py\", line 675, in inverse_transform\n",
      "    Xt = transform.inverse_transform(Xt)\n",
      "  File \"C:\\Users\\jared\\anaconda3\\envs\\tflow\\lib\\site-packages\\sklearn\\preprocessing\\_encoders.py\", line 990, in inverse_transform\n",
      "    X_tr[:, i] = self.categories_[i][labels]\n",
      "IndexError: index 59 is out of bounds for axis 0 with size 2\n",
      "\n",
      "  warnings.warn(\n",
      "WARNING:absl:Found untraced functions such as gru_cell_1_layer_call_fn, gru_cell_1_layer_call_and_return_conditional_losses, gru_cell_1_layer_call_fn, gru_cell_1_layer_call_and_return_conditional_losses, gru_cell_1_layer_call_and_return_conditional_losses while saving (showing 5 of 5). These functions will not be directly callable after loading.\n"
     ]
    },
    {
     "name": "stdout",
     "output_type": "stream",
     "text": [
      "INFO:tensorflow:Assets written to: C:\\Users\\jared\\AppData\\Local\\Temp\\tmpd803t3cr\\assets\n"
     ]
    },
    {
     "name": "stderr",
     "output_type": "stream",
     "text": [
      "INFO:tensorflow:Assets written to: C:\\Users\\jared\\AppData\\Local\\Temp\\tmpd803t3cr\\assets\n",
      "WARNING:absl:<keras.layers.recurrent.GRUCell object at 0x0000017E0BBDADF0> has the same name 'GRUCell' as a built-in Keras object. Consider renaming <class 'keras.layers.recurrent.GRUCell'> to avoid naming conflicts when loading with `tf.keras.models.load_model`. If renaming is not possible, pass the object in the `custom_objects` parameter of the load function.\n",
      "C:\\Users\\jared\\anaconda3\\envs\\tflow\\lib\\site-packages\\scikeras\\wrappers.py:289: UserWarning: ``build_fn`` will be renamed to ``model`` in a future release, at which point use of ``build_fn`` will raise an Error instead.\n",
      "  warnings.warn(\n"
     ]
    },
    {
     "name": "stdout",
     "output_type": "stream",
     "text": [
      "Epoch 1/20\n",
      "99/99 [==============================] - 4s 23ms/step - loss: 0.7409 - accuracy: 0.5216 - val_loss: 0.7006 - val_accuracy: 0.5155\n",
      "Epoch 2/20\n",
      "99/99 [==============================] - 1s 15ms/step - loss: 0.6898 - accuracy: 0.5416 - val_loss: 0.6832 - val_accuracy: 0.5516\n",
      "Epoch 3/20\n",
      "99/99 [==============================] - 1s 15ms/step - loss: 0.6918 - accuracy: 0.5400 - val_loss: 0.6963 - val_accuracy: 0.5382\n",
      "Epoch 4/20\n",
      "99/99 [==============================] - 1s 15ms/step - loss: 0.6914 - accuracy: 0.5320 - val_loss: 0.6925 - val_accuracy: 0.5196\n",
      "Epoch 5/20\n",
      "99/99 [==============================] - 1s 15ms/step - loss: 0.6980 - accuracy: 0.5128 - val_loss: 0.6886 - val_accuracy: 0.5371\n",
      "Epoch 00005: early stopping\n",
      "50/50 [==============================] - 1s 6ms/step\n",
      "[CV 1/3] END dropout_rate=0.1, learning_rate=0.1, node_type=gru, nodes=[64, 64];, score=0.533 total time=  12.6s\n"
     ]
    },
    {
     "name": "stderr",
     "output_type": "stream",
     "text": [
      "WARNING:absl:Found untraced functions such as gru_cell_1_layer_call_fn, gru_cell_1_layer_call_and_return_conditional_losses, gru_cell_1_layer_call_fn, gru_cell_1_layer_call_and_return_conditional_losses, gru_cell_1_layer_call_and_return_conditional_losses while saving (showing 5 of 5). These functions will not be directly callable after loading.\n"
     ]
    },
    {
     "name": "stdout",
     "output_type": "stream",
     "text": [
      "INFO:tensorflow:Assets written to: C:\\Users\\jared\\AppData\\Local\\Temp\\tmpv2b605f5\\assets\n"
     ]
    },
    {
     "name": "stderr",
     "output_type": "stream",
     "text": [
      "INFO:tensorflow:Assets written to: C:\\Users\\jared\\AppData\\Local\\Temp\\tmpv2b605f5\\assets\n",
      "WARNING:absl:<keras.layers.recurrent.GRUCell object at 0x0000017E0BBDADF0> has the same name 'GRUCell' as a built-in Keras object. Consider renaming <class 'keras.layers.recurrent.GRUCell'> to avoid naming conflicts when loading with `tf.keras.models.load_model`. If renaming is not possible, pass the object in the `custom_objects` parameter of the load function.\n",
      "C:\\Users\\jared\\anaconda3\\envs\\tflow\\lib\\site-packages\\scikeras\\wrappers.py:289: UserWarning: ``build_fn`` will be renamed to ``model`` in a future release, at which point use of ``build_fn`` will raise an Error instead.\n",
      "  warnings.warn(\n"
     ]
    },
    {
     "name": "stdout",
     "output_type": "stream",
     "text": [
      "Epoch 1/20\n",
      "99/99 [==============================] - 4s 23ms/step - loss: 0.7270 - accuracy: 0.5090 - val_loss: 0.6990 - val_accuracy: 0.5092\n",
      "Epoch 2/20\n",
      "99/99 [==============================] - 2s 15ms/step - loss: 0.6932 - accuracy: 0.5310 - val_loss: 0.7038 - val_accuracy: 0.4920\n",
      "Epoch 3/20\n",
      "99/99 [==============================] - 2s 15ms/step - loss: 0.6972 - accuracy: 0.5145 - val_loss: 0.6980 - val_accuracy: 0.5258\n",
      "Epoch 4/20\n",
      "99/99 [==============================] - 1s 15ms/step - loss: 0.6983 - accuracy: 0.5076 - val_loss: 0.6937 - val_accuracy: 0.4944\n",
      "Epoch 5/20\n",
      "99/99 [==============================] - 1s 15ms/step - loss: 0.6954 - accuracy: 0.5073 - val_loss: 0.6927 - val_accuracy: 0.5268\n",
      "Epoch 6/20\n",
      "99/99 [==============================] - 2s 15ms/step - loss: 0.6943 - accuracy: 0.5102 - val_loss: 0.6995 - val_accuracy: 0.5138\n",
      "Epoch 7/20\n",
      "99/99 [==============================] - 1s 15ms/step - loss: 0.7024 - accuracy: 0.5047 - val_loss: 0.6939 - val_accuracy: 0.5101\n",
      "Epoch 8/20\n",
      "99/99 [==============================] - 1s 15ms/step - loss: 0.6954 - accuracy: 0.5110 - val_loss: 0.6953 - val_accuracy: 0.5136\n",
      "Epoch 00008: early stopping\n",
      "50/50 [==============================] - 1s 5ms/step\n",
      "[CV 2/3] END dropout_rate=0.1, learning_rate=0.1, node_type=gru, nodes=[64, 64];, score=0.518 total time=  17.5s\n"
     ]
    },
    {
     "name": "stderr",
     "output_type": "stream",
     "text": [
      "WARNING:absl:Found untraced functions such as gru_cell_1_layer_call_fn, gru_cell_1_layer_call_and_return_conditional_losses, gru_cell_1_layer_call_fn, gru_cell_1_layer_call_and_return_conditional_losses, gru_cell_1_layer_call_and_return_conditional_losses while saving (showing 5 of 5). These functions will not be directly callable after loading.\n"
     ]
    },
    {
     "name": "stdout",
     "output_type": "stream",
     "text": [
      "INFO:tensorflow:Assets written to: C:\\Users\\jared\\AppData\\Local\\Temp\\tmprh3otta6\\assets\n"
     ]
    },
    {
     "name": "stderr",
     "output_type": "stream",
     "text": [
      "INFO:tensorflow:Assets written to: C:\\Users\\jared\\AppData\\Local\\Temp\\tmprh3otta6\\assets\n",
      "WARNING:absl:<keras.layers.recurrent.GRUCell object at 0x0000017E0BBDADF0> has the same name 'GRUCell' as a built-in Keras object. Consider renaming <class 'keras.layers.recurrent.GRUCell'> to avoid naming conflicts when loading with `tf.keras.models.load_model`. If renaming is not possible, pass the object in the `custom_objects` parameter of the load function.\n",
      "C:\\Users\\jared\\anaconda3\\envs\\tflow\\lib\\site-packages\\scikeras\\wrappers.py:289: UserWarning: ``build_fn`` will be renamed to ``model`` in a future release, at which point use of ``build_fn`` will raise an Error instead.\n",
      "  warnings.warn(\n"
     ]
    },
    {
     "name": "stdout",
     "output_type": "stream",
     "text": [
      "Epoch 1/20\n",
      "99/99 [==============================] - 4s 23ms/step - loss: 0.7248 - accuracy: 0.5147 - val_loss: 0.6900 - val_accuracy: 0.5567\n",
      "Epoch 2/20\n",
      "99/99 [==============================] - 2s 16ms/step - loss: 0.6950 - accuracy: 0.5256 - val_loss: 0.6905 - val_accuracy: 0.5236\n",
      "Epoch 3/20\n",
      "99/99 [==============================] - 2s 16ms/step - loss: 0.6965 - accuracy: 0.5207 - val_loss: 0.6960 - val_accuracy: 0.5335\n",
      "Epoch 4/20\n",
      "99/99 [==============================] - 2s 16ms/step - loss: 0.7033 - accuracy: 0.5160 - val_loss: 0.6988 - val_accuracy: 0.5253\n",
      "Epoch 00004: early stopping\n",
      "50/50 [==============================] - 1s 6ms/step\n",
      "[CV 3/3] END dropout_rate=0.1, learning_rate=0.1, node_type=gru, nodes=[64, 64];, score=0.519 total time=  11.4s\n"
     ]
    },
    {
     "name": "stderr",
     "output_type": "stream",
     "text": [
      "WARNING:absl:Found untraced functions such as gru_cell_1_layer_call_fn, gru_cell_1_layer_call_and_return_conditional_losses, gru_cell_1_layer_call_fn, gru_cell_1_layer_call_and_return_conditional_losses, gru_cell_1_layer_call_and_return_conditional_losses while saving (showing 5 of 5). These functions will not be directly callable after loading.\n"
     ]
    },
    {
     "name": "stdout",
     "output_type": "stream",
     "text": [
      "INFO:tensorflow:Assets written to: C:\\Users\\jared\\AppData\\Local\\Temp\\tmpdfdv14c6\\assets\n"
     ]
    },
    {
     "name": "stderr",
     "output_type": "stream",
     "text": [
      "INFO:tensorflow:Assets written to: C:\\Users\\jared\\AppData\\Local\\Temp\\tmpdfdv14c6\\assets\n",
      "WARNING:absl:<keras.layers.recurrent.GRUCell object at 0x0000017E0BBDADF0> has the same name 'GRUCell' as a built-in Keras object. Consider renaming <class 'keras.layers.recurrent.GRUCell'> to avoid naming conflicts when loading with `tf.keras.models.load_model`. If renaming is not possible, pass the object in the `custom_objects` parameter of the load function.\n",
      "C:\\Users\\jared\\anaconda3\\envs\\tflow\\lib\\site-packages\\scikeras\\wrappers.py:289: UserWarning: ``build_fn`` will be renamed to ``model`` in a future release, at which point use of ``build_fn`` will raise an Error instead.\n",
      "  warnings.warn(\n"
     ]
    },
    {
     "name": "stdout",
     "output_type": "stream",
     "text": [
      "Epoch 1/20\n",
      "99/99 [==============================] - 6s 30ms/step - loss: 0.7143 - accuracy: 0.5029 - val_loss: 0.6936 - val_accuracy: 0.5050\n",
      "Epoch 2/20\n",
      "99/99 [==============================] - 2s 20ms/step - loss: 0.6971 - accuracy: 0.4984 - val_loss: 0.7027 - val_accuracy: 0.4922\n",
      "Epoch 3/20\n",
      "99/99 [==============================] - 2s 21ms/step - loss: 0.6960 - accuracy: 0.5027 - val_loss: 0.7108 - val_accuracy: 0.4912\n",
      "Epoch 4/20\n",
      "99/99 [==============================] - 2s 20ms/step - loss: 0.6981 - accuracy: 0.4980 - val_loss: 0.6943 - val_accuracy: 0.4916\n",
      "Epoch 00004: early stopping\n",
      "50/50 [==============================] - 1s 7ms/step\n",
      "[CV 1/3] END dropout_rate=0.1, learning_rate=0.1, node_type=gru, nodes=[32, 32, 32];, score=0.492 total time=  14.6s\n"
     ]
    },
    {
     "name": "stderr",
     "output_type": "stream",
     "text": [
      "WARNING:absl:Found untraced functions such as gru_cell_1_layer_call_fn, gru_cell_1_layer_call_and_return_conditional_losses, gru_cell_1_layer_call_fn, gru_cell_1_layer_call_and_return_conditional_losses, gru_cell_1_layer_call_and_return_conditional_losses while saving (showing 5 of 5). These functions will not be directly callable after loading.\n"
     ]
    },
    {
     "name": "stdout",
     "output_type": "stream",
     "text": [
      "INFO:tensorflow:Assets written to: C:\\Users\\jared\\AppData\\Local\\Temp\\tmpuat8crgs\\assets\n"
     ]
    },
    {
     "name": "stderr",
     "output_type": "stream",
     "text": [
      "INFO:tensorflow:Assets written to: C:\\Users\\jared\\AppData\\Local\\Temp\\tmpuat8crgs\\assets\n",
      "WARNING:absl:<keras.layers.recurrent.GRUCell object at 0x0000017E0BBDADF0> has the same name 'GRUCell' as a built-in Keras object. Consider renaming <class 'keras.layers.recurrent.GRUCell'> to avoid naming conflicts when loading with `tf.keras.models.load_model`. If renaming is not possible, pass the object in the `custom_objects` parameter of the load function.\n",
      "C:\\Users\\jared\\anaconda3\\envs\\tflow\\lib\\site-packages\\scikeras\\wrappers.py:289: UserWarning: ``build_fn`` will be renamed to ``model`` in a future release, at which point use of ``build_fn`` will raise an Error instead.\n",
      "  warnings.warn(\n"
     ]
    },
    {
     "name": "stdout",
     "output_type": "stream",
     "text": [
      "Epoch 1/20\n",
      "99/99 [==============================] - 6s 30ms/step - loss: 0.7124 - accuracy: 0.5070 - val_loss: 0.7027 - val_accuracy: 0.4955\n",
      "Epoch 2/20\n",
      "99/99 [==============================] - 2s 21ms/step - loss: 0.6948 - accuracy: 0.5099 - val_loss: 0.6925 - val_accuracy: 0.5135\n",
      "Epoch 3/20\n",
      "99/99 [==============================] - 2s 21ms/step - loss: 0.6970 - accuracy: 0.5054 - val_loss: 0.6974 - val_accuracy: 0.4881\n",
      "Epoch 4/20\n",
      "99/99 [==============================] - 2s 21ms/step - loss: 0.6992 - accuracy: 0.5019 - val_loss: 0.7000 - val_accuracy: 0.4912\n",
      "Epoch 5/20\n",
      "99/99 [==============================] - 2s 21ms/step - loss: 0.6968 - accuracy: 0.5042 - val_loss: 0.6946 - val_accuracy: 0.5088\n",
      "Epoch 00005: early stopping\n",
      "50/50 [==============================] - 1s 7ms/step\n",
      "[CV 2/3] END dropout_rate=0.1, learning_rate=0.1, node_type=gru, nodes=[32, 32, 32];, score=0.509 total time=  17.1s\n"
     ]
    },
    {
     "name": "stderr",
     "output_type": "stream",
     "text": [
      "WARNING:absl:Found untraced functions such as gru_cell_1_layer_call_fn, gru_cell_1_layer_call_and_return_conditional_losses, gru_cell_1_layer_call_fn, gru_cell_1_layer_call_and_return_conditional_losses, gru_cell_1_layer_call_and_return_conditional_losses while saving (showing 5 of 5). These functions will not be directly callable after loading.\n"
     ]
    },
    {
     "name": "stdout",
     "output_type": "stream",
     "text": [
      "INFO:tensorflow:Assets written to: C:\\Users\\jared\\AppData\\Local\\Temp\\tmpf9a4hiej\\assets\n"
     ]
    },
    {
     "name": "stderr",
     "output_type": "stream",
     "text": [
      "INFO:tensorflow:Assets written to: C:\\Users\\jared\\AppData\\Local\\Temp\\tmpf9a4hiej\\assets\n",
      "WARNING:absl:<keras.layers.recurrent.GRUCell object at 0x0000017E0BBDADF0> has the same name 'GRUCell' as a built-in Keras object. Consider renaming <class 'keras.layers.recurrent.GRUCell'> to avoid naming conflicts when loading with `tf.keras.models.load_model`. If renaming is not possible, pass the object in the `custom_objects` parameter of the load function.\n",
      "C:\\Users\\jared\\anaconda3\\envs\\tflow\\lib\\site-packages\\scikeras\\wrappers.py:289: UserWarning: ``build_fn`` will be renamed to ``model`` in a future release, at which point use of ``build_fn`` will raise an Error instead.\n",
      "  warnings.warn(\n"
     ]
    },
    {
     "name": "stdout",
     "output_type": "stream",
     "text": [
      "Epoch 1/20\n",
      "99/99 [==============================] - 6s 30ms/step - loss: 0.7145 - accuracy: 0.5019 - val_loss: 0.6931 - val_accuracy: 0.5084\n",
      "Epoch 2/20\n",
      "99/99 [==============================] - 2s 21ms/step - loss: 0.6963 - accuracy: 0.5074 - val_loss: 0.6951 - val_accuracy: 0.4916\n",
      "Epoch 3/20\n",
      "99/99 [==============================] - 2s 20ms/step - loss: 0.6951 - accuracy: 0.5058 - val_loss: 0.6950 - val_accuracy: 0.4912\n",
      "Epoch 4/20\n",
      "99/99 [==============================] - 2s 20ms/step - loss: 0.6949 - accuracy: 0.4966 - val_loss: 0.6930 - val_accuracy: 0.5088\n",
      "Epoch 5/20\n",
      "99/99 [==============================] - 2s 20ms/step - loss: 0.6947 - accuracy: 0.4964 - val_loss: 0.6941 - val_accuracy: 0.4964\n",
      "Epoch 6/20\n",
      "99/99 [==============================] - 2s 20ms/step - loss: 0.6959 - accuracy: 0.5032 - val_loss: 0.6930 - val_accuracy: 0.5088\n",
      "Epoch 7/20\n",
      "99/99 [==============================] - 2s 20ms/step - loss: 0.6955 - accuracy: 0.5023 - val_loss: 0.6932 - val_accuracy: 0.4912\n",
      "Epoch 00007: early stopping\n",
      "50/50 [==============================] - 1s 7ms/step\n",
      "[CV 3/3] END dropout_rate=0.1, learning_rate=0.1, node_type=gru, nodes=[32, 32, 32];, score=0.491 total time=  21.1s\n"
     ]
    },
    {
     "name": "stderr",
     "output_type": "stream",
     "text": [
      "WARNING:absl:Found untraced functions such as gru_cell_1_layer_call_fn, gru_cell_1_layer_call_and_return_conditional_losses, gru_cell_1_layer_call_fn, gru_cell_1_layer_call_and_return_conditional_losses, gru_cell_1_layer_call_and_return_conditional_losses while saving (showing 5 of 5). These functions will not be directly callable after loading.\n"
     ]
    },
    {
     "name": "stdout",
     "output_type": "stream",
     "text": [
      "INFO:tensorflow:Assets written to: C:\\Users\\jared\\AppData\\Local\\Temp\\tmpmj5p_4e3\\assets\n"
     ]
    },
    {
     "name": "stderr",
     "output_type": "stream",
     "text": [
      "INFO:tensorflow:Assets written to: C:\\Users\\jared\\AppData\\Local\\Temp\\tmpmj5p_4e3\\assets\n",
      "WARNING:absl:<keras.layers.recurrent.GRUCell object at 0x0000017E0BBDADF0> has the same name 'GRUCell' as a built-in Keras object. Consider renaming <class 'keras.layers.recurrent.GRUCell'> to avoid naming conflicts when loading with `tf.keras.models.load_model`. If renaming is not possible, pass the object in the `custom_objects` parameter of the load function.\n",
      "C:\\Users\\jared\\anaconda3\\envs\\tflow\\lib\\site-packages\\scikeras\\wrappers.py:289: UserWarning: ``build_fn`` will be renamed to ``model`` in a future release, at which point use of ``build_fn`` will raise an Error instead.\n",
      "  warnings.warn(\n"
     ]
    },
    {
     "name": "stdout",
     "output_type": "stream",
     "text": [
      "Epoch 1/20\n",
      "99/99 [==============================] - 3s 19ms/step - loss: 0.7364 - accuracy: 0.5299 - val_loss: 0.6787 - val_accuracy: 0.5608\n",
      "Epoch 2/20\n",
      "99/99 [==============================] - 1s 13ms/step - loss: 0.6992 - accuracy: 0.5456 - val_loss: 0.6742 - val_accuracy: 0.5649\n",
      "Epoch 3/20\n",
      "99/99 [==============================] - 1s 13ms/step - loss: 0.6837 - accuracy: 0.5565 - val_loss: 0.6707 - val_accuracy: 0.5693\n",
      "Epoch 4/20\n",
      "99/99 [==============================] - 1s 13ms/step - loss: 0.6749 - accuracy: 0.5630 - val_loss: 0.6668 - val_accuracy: 0.5733\n",
      "Epoch 5/20\n",
      "99/99 [==============================] - 1s 13ms/step - loss: 0.6691 - accuracy: 0.5689 - val_loss: 0.6684 - val_accuracy: 0.5696\n",
      "Epoch 6/20\n",
      "99/99 [==============================] - 1s 13ms/step - loss: 0.6653 - accuracy: 0.5728 - val_loss: 0.6657 - val_accuracy: 0.5762\n",
      "Epoch 7/20\n",
      "99/99 [==============================] - 1s 13ms/step - loss: 0.6610 - accuracy: 0.5771 - val_loss: 0.6648 - val_accuracy: 0.5778\n",
      "Epoch 8/20\n",
      "99/99 [==============================] - 1s 13ms/step - loss: 0.6586 - accuracy: 0.5817 - val_loss: 0.6680 - val_accuracy: 0.5703\n",
      "Epoch 9/20\n",
      "99/99 [==============================] - 1s 13ms/step - loss: 0.6556 - accuracy: 0.5839 - val_loss: 0.6729 - val_accuracy: 0.5700\n",
      "Epoch 10/20\n",
      "99/99 [==============================] - 1s 13ms/step - loss: 0.6535 - accuracy: 0.5849 - val_loss: 0.6649 - val_accuracy: 0.5800\n",
      "Epoch 00010: early stopping\n",
      "50/50 [==============================] - 0s 5ms/step\n",
      "[CV 1/3] END dropout_rate=0.2, learning_rate=0.001, node_type=lstm, nodes=[128];, score=nan total time=  17.0s\n"
     ]
    },
    {
     "name": "stderr",
     "output_type": "stream",
     "text": [
      "C:\\Users\\jared\\anaconda3\\envs\\tflow\\lib\\site-packages\\sklearn\\model_selection\\_validation.py:771: UserWarning: Scoring failed. The score on this train-test partition for these parameters will be set to nan. Details: \n",
      "Traceback (most recent call last):\n",
      "  File \"C:\\Users\\jared\\anaconda3\\envs\\tflow\\lib\\site-packages\\sklearn\\model_selection\\_validation.py\", line 762, in _score\n",
      "    scores = scorer(estimator, X_test, y_test)\n",
      "  File \"C:\\Users\\jared\\anaconda3\\envs\\tflow\\lib\\site-packages\\sklearn\\metrics\\_scorer.py\", line 216, in __call__\n",
      "    return self._score(\n",
      "  File \"C:\\Users\\jared\\anaconda3\\envs\\tflow\\lib\\site-packages\\sklearn\\metrics\\_scorer.py\", line 258, in _score\n",
      "    y_pred = method_caller(estimator, \"predict\", X)\n",
      "  File \"C:\\Users\\jared\\anaconda3\\envs\\tflow\\lib\\site-packages\\sklearn\\metrics\\_scorer.py\", line 68, in _cached_call\n",
      "    return getattr(estimator, method)(*args, **kwargs)\n",
      "  File \"C:\\Users\\jared\\anaconda3\\envs\\tflow\\lib\\site-packages\\scikeras\\wrappers.py\", line 1013, in predict\n",
      "    y_pred = self.target_encoder_.inverse_transform(y_pred)\n",
      "  File \"C:\\Users\\jared\\anaconda3\\envs\\tflow\\lib\\site-packages\\scikeras\\utils\\transformers.py\", line 257, in inverse_transform\n",
      "    class_predictions = self._final_encoder.inverse_transform(class_predictions)\n",
      "  File \"C:\\Users\\jared\\anaconda3\\envs\\tflow\\lib\\site-packages\\sklearn\\utils\\metaestimators.py\", line 113, in <lambda>\n",
      "    out = lambda *args, **kwargs: self.fn(obj, *args, **kwargs)  # noqa\n",
      "  File \"C:\\Users\\jared\\anaconda3\\envs\\tflow\\lib\\site-packages\\sklearn\\pipeline.py\", line 675, in inverse_transform\n",
      "    Xt = transform.inverse_transform(Xt)\n",
      "  File \"C:\\Users\\jared\\anaconda3\\envs\\tflow\\lib\\site-packages\\sklearn\\preprocessing\\_encoders.py\", line 990, in inverse_transform\n",
      "    X_tr[:, i] = self.categories_[i][labels]\n",
      "IndexError: index 44 is out of bounds for axis 0 with size 2\n",
      "\n",
      "  warnings.warn(\n",
      "WARNING:absl:Found untraced functions such as gru_cell_1_layer_call_fn, gru_cell_1_layer_call_and_return_conditional_losses, gru_cell_1_layer_call_fn, gru_cell_1_layer_call_and_return_conditional_losses, gru_cell_1_layer_call_and_return_conditional_losses while saving (showing 5 of 5). These functions will not be directly callable after loading.\n"
     ]
    },
    {
     "name": "stdout",
     "output_type": "stream",
     "text": [
      "INFO:tensorflow:Assets written to: C:\\Users\\jared\\AppData\\Local\\Temp\\tmpt1fdi_e7\\assets\n"
     ]
    },
    {
     "name": "stderr",
     "output_type": "stream",
     "text": [
      "INFO:tensorflow:Assets written to: C:\\Users\\jared\\AppData\\Local\\Temp\\tmpt1fdi_e7\\assets\n",
      "WARNING:absl:<keras.layers.recurrent.GRUCell object at 0x0000017E0BBDADF0> has the same name 'GRUCell' as a built-in Keras object. Consider renaming <class 'keras.layers.recurrent.GRUCell'> to avoid naming conflicts when loading with `tf.keras.models.load_model`. If renaming is not possible, pass the object in the `custom_objects` parameter of the load function.\n",
      "C:\\Users\\jared\\anaconda3\\envs\\tflow\\lib\\site-packages\\scikeras\\wrappers.py:289: UserWarning: ``build_fn`` will be renamed to ``model`` in a future release, at which point use of ``build_fn`` will raise an Error instead.\n",
      "  warnings.warn(\n"
     ]
    },
    {
     "name": "stdout",
     "output_type": "stream",
     "text": [
      "Epoch 1/20\n",
      "99/99 [==============================] - 3s 20ms/step - loss: 0.7303 - accuracy: 0.5338 - val_loss: 0.6809 - val_accuracy: 0.5437\n",
      "Epoch 2/20\n",
      "99/99 [==============================] - 1s 13ms/step - loss: 0.6930 - accuracy: 0.5515 - val_loss: 0.6728 - val_accuracy: 0.5724\n",
      "Epoch 3/20\n",
      "99/99 [==============================] - 1s 13ms/step - loss: 0.6796 - accuracy: 0.5597 - val_loss: 0.6706 - val_accuracy: 0.5660\n",
      "Epoch 4/20\n",
      "99/99 [==============================] - 1s 13ms/step - loss: 0.6710 - accuracy: 0.5679 - val_loss: 0.6652 - val_accuracy: 0.5727\n",
      "Epoch 5/20\n",
      "99/99 [==============================] - 1s 13ms/step - loss: 0.6653 - accuracy: 0.5736 - val_loss: 0.6670 - val_accuracy: 0.5685\n",
      "Epoch 6/20\n",
      "99/99 [==============================] - 1s 13ms/step - loss: 0.6614 - accuracy: 0.5784 - val_loss: 0.6628 - val_accuracy: 0.5838\n",
      "Epoch 7/20\n",
      "99/99 [==============================] - 1s 13ms/step - loss: 0.6590 - accuracy: 0.5813 - val_loss: 0.6644 - val_accuracy: 0.5790\n",
      "Epoch 8/20\n",
      "99/99 [==============================] - 1s 13ms/step - loss: 0.6559 - accuracy: 0.5843 - val_loss: 0.6652 - val_accuracy: 0.5738\n",
      "Epoch 9/20\n",
      "99/99 [==============================] - 1s 13ms/step - loss: 0.6527 - accuracy: 0.5880 - val_loss: 0.6675 - val_accuracy: 0.5742\n",
      "Epoch 00009: early stopping\n",
      "50/50 [==============================] - 0s 5ms/step\n",
      "[CV 2/3] END dropout_rate=0.2, learning_rate=0.001, node_type=lstm, nodes=[128];, score=nan total time=  16.0s\n"
     ]
    },
    {
     "name": "stderr",
     "output_type": "stream",
     "text": [
      "C:\\Users\\jared\\anaconda3\\envs\\tflow\\lib\\site-packages\\sklearn\\model_selection\\_validation.py:771: UserWarning: Scoring failed. The score on this train-test partition for these parameters will be set to nan. Details: \n",
      "Traceback (most recent call last):\n",
      "  File \"C:\\Users\\jared\\anaconda3\\envs\\tflow\\lib\\site-packages\\sklearn\\model_selection\\_validation.py\", line 762, in _score\n",
      "    scores = scorer(estimator, X_test, y_test)\n",
      "  File \"C:\\Users\\jared\\anaconda3\\envs\\tflow\\lib\\site-packages\\sklearn\\metrics\\_scorer.py\", line 216, in __call__\n",
      "    return self._score(\n",
      "  File \"C:\\Users\\jared\\anaconda3\\envs\\tflow\\lib\\site-packages\\sklearn\\metrics\\_scorer.py\", line 258, in _score\n",
      "    y_pred = method_caller(estimator, \"predict\", X)\n",
      "  File \"C:\\Users\\jared\\anaconda3\\envs\\tflow\\lib\\site-packages\\sklearn\\metrics\\_scorer.py\", line 68, in _cached_call\n",
      "    return getattr(estimator, method)(*args, **kwargs)\n",
      "  File \"C:\\Users\\jared\\anaconda3\\envs\\tflow\\lib\\site-packages\\scikeras\\wrappers.py\", line 1013, in predict\n",
      "    y_pred = self.target_encoder_.inverse_transform(y_pred)\n",
      "  File \"C:\\Users\\jared\\anaconda3\\envs\\tflow\\lib\\site-packages\\scikeras\\utils\\transformers.py\", line 257, in inverse_transform\n",
      "    class_predictions = self._final_encoder.inverse_transform(class_predictions)\n",
      "  File \"C:\\Users\\jared\\anaconda3\\envs\\tflow\\lib\\site-packages\\sklearn\\utils\\metaestimators.py\", line 113, in <lambda>\n",
      "    out = lambda *args, **kwargs: self.fn(obj, *args, **kwargs)  # noqa\n",
      "  File \"C:\\Users\\jared\\anaconda3\\envs\\tflow\\lib\\site-packages\\sklearn\\pipeline.py\", line 675, in inverse_transform\n",
      "    Xt = transform.inverse_transform(Xt)\n",
      "  File \"C:\\Users\\jared\\anaconda3\\envs\\tflow\\lib\\site-packages\\sklearn\\preprocessing\\_encoders.py\", line 990, in inverse_transform\n",
      "    X_tr[:, i] = self.categories_[i][labels]\n",
      "IndexError: index 57 is out of bounds for axis 0 with size 2\n",
      "\n",
      "  warnings.warn(\n",
      "WARNING:absl:Found untraced functions such as gru_cell_1_layer_call_fn, gru_cell_1_layer_call_and_return_conditional_losses, gru_cell_1_layer_call_fn, gru_cell_1_layer_call_and_return_conditional_losses, gru_cell_1_layer_call_and_return_conditional_losses while saving (showing 5 of 5). These functions will not be directly callable after loading.\n"
     ]
    },
    {
     "name": "stdout",
     "output_type": "stream",
     "text": [
      "INFO:tensorflow:Assets written to: C:\\Users\\jared\\AppData\\Local\\Temp\\tmp8_9whuqe\\assets\n"
     ]
    },
    {
     "name": "stderr",
     "output_type": "stream",
     "text": [
      "INFO:tensorflow:Assets written to: C:\\Users\\jared\\AppData\\Local\\Temp\\tmp8_9whuqe\\assets\n",
      "WARNING:absl:<keras.layers.recurrent.GRUCell object at 0x0000017E0BBDADF0> has the same name 'GRUCell' as a built-in Keras object. Consider renaming <class 'keras.layers.recurrent.GRUCell'> to avoid naming conflicts when loading with `tf.keras.models.load_model`. If renaming is not possible, pass the object in the `custom_objects` parameter of the load function.\n",
      "C:\\Users\\jared\\anaconda3\\envs\\tflow\\lib\\site-packages\\scikeras\\wrappers.py:289: UserWarning: ``build_fn`` will be renamed to ``model`` in a future release, at which point use of ``build_fn`` will raise an Error instead.\n",
      "  warnings.warn(\n"
     ]
    },
    {
     "name": "stdout",
     "output_type": "stream",
     "text": [
      "Epoch 1/20\n",
      "99/99 [==============================] - 3s 19ms/step - loss: 0.7331 - accuracy: 0.5320 - val_loss: 0.6810 - val_accuracy: 0.5418\n",
      "Epoch 2/20\n",
      "99/99 [==============================] - 1s 13ms/step - loss: 0.6973 - accuracy: 0.5488 - val_loss: 0.6749 - val_accuracy: 0.5606\n",
      "Epoch 3/20\n",
      "99/99 [==============================] - 1s 13ms/step - loss: 0.6824 - accuracy: 0.5573 - val_loss: 0.6684 - val_accuracy: 0.5754\n",
      "Epoch 4/20\n",
      "99/99 [==============================] - 1s 13ms/step - loss: 0.6727 - accuracy: 0.5652 - val_loss: 0.6674 - val_accuracy: 0.5722\n",
      "Epoch 5/20\n",
      "99/99 [==============================] - 1s 13ms/step - loss: 0.6676 - accuracy: 0.5708 - val_loss: 0.6640 - val_accuracy: 0.5796\n",
      "Epoch 6/20\n",
      "99/99 [==============================] - 1s 13ms/step - loss: 0.6623 - accuracy: 0.5770 - val_loss: 0.6637 - val_accuracy: 0.5792\n",
      "Epoch 7/20\n",
      "99/99 [==============================] - 1s 14ms/step - loss: 0.6589 - accuracy: 0.5798 - val_loss: 0.6734 - val_accuracy: 0.5696\n",
      "Epoch 8/20\n",
      "99/99 [==============================] - 1s 13ms/step - loss: 0.6565 - accuracy: 0.5821 - val_loss: 0.6646 - val_accuracy: 0.5803\n",
      "Epoch 9/20\n",
      "99/99 [==============================] - 1s 13ms/step - loss: 0.6534 - accuracy: 0.5869 - val_loss: 0.6683 - val_accuracy: 0.5719\n",
      "Epoch 00009: early stopping\n",
      "50/50 [==============================] - 0s 5ms/step\n",
      "[CV 3/3] END dropout_rate=0.2, learning_rate=0.001, node_type=lstm, nodes=[128];, score=nan total time=  16.4s\n"
     ]
    },
    {
     "name": "stderr",
     "output_type": "stream",
     "text": [
      "C:\\Users\\jared\\anaconda3\\envs\\tflow\\lib\\site-packages\\sklearn\\model_selection\\_validation.py:771: UserWarning: Scoring failed. The score on this train-test partition for these parameters will be set to nan. Details: \n",
      "Traceback (most recent call last):\n",
      "  File \"C:\\Users\\jared\\anaconda3\\envs\\tflow\\lib\\site-packages\\sklearn\\model_selection\\_validation.py\", line 762, in _score\n",
      "    scores = scorer(estimator, X_test, y_test)\n",
      "  File \"C:\\Users\\jared\\anaconda3\\envs\\tflow\\lib\\site-packages\\sklearn\\metrics\\_scorer.py\", line 216, in __call__\n",
      "    return self._score(\n",
      "  File \"C:\\Users\\jared\\anaconda3\\envs\\tflow\\lib\\site-packages\\sklearn\\metrics\\_scorer.py\", line 258, in _score\n",
      "    y_pred = method_caller(estimator, \"predict\", X)\n",
      "  File \"C:\\Users\\jared\\anaconda3\\envs\\tflow\\lib\\site-packages\\sklearn\\metrics\\_scorer.py\", line 68, in _cached_call\n",
      "    return getattr(estimator, method)(*args, **kwargs)\n",
      "  File \"C:\\Users\\jared\\anaconda3\\envs\\tflow\\lib\\site-packages\\scikeras\\wrappers.py\", line 1013, in predict\n",
      "    y_pred = self.target_encoder_.inverse_transform(y_pred)\n",
      "  File \"C:\\Users\\jared\\anaconda3\\envs\\tflow\\lib\\site-packages\\scikeras\\utils\\transformers.py\", line 257, in inverse_transform\n",
      "    class_predictions = self._final_encoder.inverse_transform(class_predictions)\n",
      "  File \"C:\\Users\\jared\\anaconda3\\envs\\tflow\\lib\\site-packages\\sklearn\\utils\\metaestimators.py\", line 113, in <lambda>\n",
      "    out = lambda *args, **kwargs: self.fn(obj, *args, **kwargs)  # noqa\n",
      "  File \"C:\\Users\\jared\\anaconda3\\envs\\tflow\\lib\\site-packages\\sklearn\\pipeline.py\", line 675, in inverse_transform\n",
      "    Xt = transform.inverse_transform(Xt)\n",
      "  File \"C:\\Users\\jared\\anaconda3\\envs\\tflow\\lib\\site-packages\\sklearn\\preprocessing\\_encoders.py\", line 990, in inverse_transform\n",
      "    X_tr[:, i] = self.categories_[i][labels]\n",
      "IndexError: index 59 is out of bounds for axis 0 with size 2\n",
      "\n",
      "  warnings.warn(\n",
      "WARNING:absl:Found untraced functions such as gru_cell_1_layer_call_fn, gru_cell_1_layer_call_and_return_conditional_losses, gru_cell_1_layer_call_fn, gru_cell_1_layer_call_and_return_conditional_losses, gru_cell_1_layer_call_and_return_conditional_losses while saving (showing 5 of 5). These functions will not be directly callable after loading.\n"
     ]
    },
    {
     "name": "stdout",
     "output_type": "stream",
     "text": [
      "INFO:tensorflow:Assets written to: C:\\Users\\jared\\AppData\\Local\\Temp\\tmp4e3vjtdr\\assets\n"
     ]
    },
    {
     "name": "stderr",
     "output_type": "stream",
     "text": [
      "INFO:tensorflow:Assets written to: C:\\Users\\jared\\AppData\\Local\\Temp\\tmp4e3vjtdr\\assets\n",
      "WARNING:absl:<keras.layers.recurrent.GRUCell object at 0x0000017E0BBDADF0> has the same name 'GRUCell' as a built-in Keras object. Consider renaming <class 'keras.layers.recurrent.GRUCell'> to avoid naming conflicts when loading with `tf.keras.models.load_model`. If renaming is not possible, pass the object in the `custom_objects` parameter of the load function.\n",
      "C:\\Users\\jared\\anaconda3\\envs\\tflow\\lib\\site-packages\\scikeras\\wrappers.py:289: UserWarning: ``build_fn`` will be renamed to ``model`` in a future release, at which point use of ``build_fn`` will raise an Error instead.\n",
      "  warnings.warn(\n"
     ]
    },
    {
     "name": "stdout",
     "output_type": "stream",
     "text": [
      "Epoch 1/20\n",
      "99/99 [==============================] - 4s 25ms/step - loss: 0.7530 - accuracy: 0.5721 - val_loss: 0.6611 - val_accuracy: 0.5969\n",
      "Epoch 2/20\n",
      "99/99 [==============================] - 2s 17ms/step - loss: 0.6777 - accuracy: 0.6082 - val_loss: 0.6421 - val_accuracy: 0.6391\n",
      "Epoch 3/20\n",
      "99/99 [==============================] - 2s 17ms/step - loss: 0.6404 - accuracy: 0.6415 - val_loss: 0.6217 - val_accuracy: 0.6462\n",
      "Epoch 4/20\n",
      "99/99 [==============================] - 2s 17ms/step - loss: 0.6232 - accuracy: 0.6488 - val_loss: 0.6241 - val_accuracy: 0.6476\n",
      "Epoch 5/20\n",
      "99/99 [==============================] - 2s 17ms/step - loss: 0.6074 - accuracy: 0.6624 - val_loss: 0.6447 - val_accuracy: 0.6327\n",
      "Epoch 6/20\n",
      "99/99 [==============================] - 2s 17ms/step - loss: 0.5996 - accuracy: 0.6678 - val_loss: 0.6207 - val_accuracy: 0.6520\n",
      "Epoch 7/20\n",
      "99/99 [==============================] - 2s 17ms/step - loss: 0.5850 - accuracy: 0.6787 - val_loss: 0.6221 - val_accuracy: 0.6546\n",
      "Epoch 8/20\n",
      "99/99 [==============================] - 2s 17ms/step - loss: 0.5769 - accuracy: 0.6881 - val_loss: 0.6251 - val_accuracy: 0.6501\n",
      "Epoch 9/20\n",
      "99/99 [==============================] - 2s 17ms/step - loss: 0.5696 - accuracy: 0.6955 - val_loss: 0.6400 - val_accuracy: 0.6404\n",
      "Epoch 00009: early stopping\n",
      "50/50 [==============================] - 1s 6ms/step\n",
      "[CV 1/3] END dropout_rate=0.2, learning_rate=0.001, node_type=lstm, nodes=[64, 64];, score=0.630 total time=  20.6s\n"
     ]
    },
    {
     "name": "stderr",
     "output_type": "stream",
     "text": [
      "WARNING:absl:Found untraced functions such as gru_cell_1_layer_call_fn, gru_cell_1_layer_call_and_return_conditional_losses, gru_cell_1_layer_call_fn, gru_cell_1_layer_call_and_return_conditional_losses, gru_cell_1_layer_call_and_return_conditional_losses while saving (showing 5 of 5). These functions will not be directly callable after loading.\n"
     ]
    },
    {
     "name": "stdout",
     "output_type": "stream",
     "text": [
      "INFO:tensorflow:Assets written to: C:\\Users\\jared\\AppData\\Local\\Temp\\tmphx_ezdea\\assets\n"
     ]
    },
    {
     "name": "stderr",
     "output_type": "stream",
     "text": [
      "INFO:tensorflow:Assets written to: C:\\Users\\jared\\AppData\\Local\\Temp\\tmphx_ezdea\\assets\n",
      "WARNING:absl:<keras.layers.recurrent.GRUCell object at 0x0000017E0BBDADF0> has the same name 'GRUCell' as a built-in Keras object. Consider renaming <class 'keras.layers.recurrent.GRUCell'> to avoid naming conflicts when loading with `tf.keras.models.load_model`. If renaming is not possible, pass the object in the `custom_objects` parameter of the load function.\n",
      "C:\\Users\\jared\\anaconda3\\envs\\tflow\\lib\\site-packages\\scikeras\\wrappers.py:289: UserWarning: ``build_fn`` will be renamed to ``model`` in a future release, at which point use of ``build_fn`` will raise an Error instead.\n",
      "  warnings.warn(\n"
     ]
    },
    {
     "name": "stdout",
     "output_type": "stream",
     "text": [
      "Epoch 1/20\n",
      "99/99 [==============================] - 5s 25ms/step - loss: 0.7257 - accuracy: 0.5773 - val_loss: 0.6588 - val_accuracy: 0.6292\n",
      "Epoch 2/20\n",
      "99/99 [==============================] - 2s 17ms/step - loss: 0.6623 - accuracy: 0.6213 - val_loss: 0.6381 - val_accuracy: 0.6380\n",
      "Epoch 3/20\n",
      "99/99 [==============================] - 2s 17ms/step - loss: 0.6357 - accuracy: 0.6429 - val_loss: 0.6263 - val_accuracy: 0.6462\n",
      "Epoch 4/20\n",
      "99/99 [==============================] - 2s 17ms/step - loss: 0.6215 - accuracy: 0.6513 - val_loss: 0.6274 - val_accuracy: 0.6366\n",
      "Epoch 5/20\n",
      "99/99 [==============================] - 2s 17ms/step - loss: 0.6020 - accuracy: 0.6678 - val_loss: 0.6148 - val_accuracy: 0.6538\n",
      "Epoch 6/20\n",
      "99/99 [==============================] - 2s 17ms/step - loss: 0.5908 - accuracy: 0.6815 - val_loss: 0.6185 - val_accuracy: 0.6451\n",
      "Epoch 7/20\n",
      "99/99 [==============================] - 2s 17ms/step - loss: 0.5834 - accuracy: 0.6811 - val_loss: 0.6219 - val_accuracy: 0.6462\n",
      "Epoch 8/20\n",
      "99/99 [==============================] - 2s 17ms/step - loss: 0.5705 - accuracy: 0.6894 - val_loss: 0.6181 - val_accuracy: 0.6555\n",
      "Epoch 00008: early stopping\n",
      "50/50 [==============================] - 1s 6ms/step\n",
      "[CV 2/3] END dropout_rate=0.2, learning_rate=0.001, node_type=lstm, nodes=[64, 64];, score=0.651 total time=  18.9s\n"
     ]
    },
    {
     "name": "stderr",
     "output_type": "stream",
     "text": [
      "WARNING:absl:Found untraced functions such as gru_cell_1_layer_call_fn, gru_cell_1_layer_call_and_return_conditional_losses, gru_cell_1_layer_call_fn, gru_cell_1_layer_call_and_return_conditional_losses, gru_cell_1_layer_call_and_return_conditional_losses while saving (showing 5 of 5). These functions will not be directly callable after loading.\n"
     ]
    },
    {
     "name": "stdout",
     "output_type": "stream",
     "text": [
      "INFO:tensorflow:Assets written to: C:\\Users\\jared\\AppData\\Local\\Temp\\tmpgfffhp4b\\assets\n"
     ]
    },
    {
     "name": "stderr",
     "output_type": "stream",
     "text": [
      "INFO:tensorflow:Assets written to: C:\\Users\\jared\\AppData\\Local\\Temp\\tmpgfffhp4b\\assets\n",
      "WARNING:absl:<keras.layers.recurrent.GRUCell object at 0x0000017E0BBDADF0> has the same name 'GRUCell' as a built-in Keras object. Consider renaming <class 'keras.layers.recurrent.GRUCell'> to avoid naming conflicts when loading with `tf.keras.models.load_model`. If renaming is not possible, pass the object in the `custom_objects` parameter of the load function.\n",
      "C:\\Users\\jared\\anaconda3\\envs\\tflow\\lib\\site-packages\\scikeras\\wrappers.py:289: UserWarning: ``build_fn`` will be renamed to ``model`` in a future release, at which point use of ``build_fn`` will raise an Error instead.\n",
      "  warnings.warn(\n"
     ]
    },
    {
     "name": "stdout",
     "output_type": "stream",
     "text": [
      "Epoch 1/20\n",
      "99/99 [==============================] - 4s 26ms/step - loss: 0.7404 - accuracy: 0.5697 - val_loss: 0.6621 - val_accuracy: 0.6201\n",
      "Epoch 2/20\n",
      "99/99 [==============================] - 2s 17ms/step - loss: 0.6776 - accuracy: 0.6083 - val_loss: 0.6525 - val_accuracy: 0.6060\n",
      "Epoch 3/20\n",
      "99/99 [==============================] - 2s 17ms/step - loss: 0.6400 - accuracy: 0.6377 - val_loss: 0.6248 - val_accuracy: 0.6414\n",
      "Epoch 4/20\n",
      "99/99 [==============================] - 2s 17ms/step - loss: 0.6220 - accuracy: 0.6471 - val_loss: 0.6186 - val_accuracy: 0.6531\n",
      "Epoch 5/20\n",
      "99/99 [==============================] - 2s 17ms/step - loss: 0.6089 - accuracy: 0.6670 - val_loss: 0.6178 - val_accuracy: 0.6518\n",
      "Epoch 6/20\n",
      "99/99 [==============================] - 2s 17ms/step - loss: 0.6008 - accuracy: 0.6728 - val_loss: 0.6162 - val_accuracy: 0.6483\n",
      "Epoch 7/20\n",
      "99/99 [==============================] - 2s 16ms/step - loss: 0.5901 - accuracy: 0.6741 - val_loss: 0.6143 - val_accuracy: 0.6573\n",
      "Epoch 8/20\n",
      "99/99 [==============================] - 2s 17ms/step - loss: 0.5796 - accuracy: 0.6846 - val_loss: 0.6186 - val_accuracy: 0.6504\n",
      "Epoch 9/20\n",
      "99/99 [==============================] - 2s 17ms/step - loss: 0.5682 - accuracy: 0.6974 - val_loss: 0.6188 - val_accuracy: 0.6582\n",
      "Epoch 10/20\n",
      "99/99 [==============================] - 2s 17ms/step - loss: 0.5614 - accuracy: 0.6982 - val_loss: 0.6206 - val_accuracy: 0.6528\n",
      "Epoch 00010: early stopping\n",
      "50/50 [==============================] - 1s 6ms/step\n",
      "[CV 3/3] END dropout_rate=0.2, learning_rate=0.001, node_type=lstm, nodes=[64, 64];, score=0.645 total time=  22.1s\n"
     ]
    },
    {
     "name": "stderr",
     "output_type": "stream",
     "text": [
      "WARNING:absl:Found untraced functions such as gru_cell_1_layer_call_fn, gru_cell_1_layer_call_and_return_conditional_losses, gru_cell_1_layer_call_fn, gru_cell_1_layer_call_and_return_conditional_losses, gru_cell_1_layer_call_and_return_conditional_losses while saving (showing 5 of 5). These functions will not be directly callable after loading.\n"
     ]
    },
    {
     "name": "stdout",
     "output_type": "stream",
     "text": [
      "INFO:tensorflow:Assets written to: C:\\Users\\jared\\AppData\\Local\\Temp\\tmpu1i5b2jd\\assets\n"
     ]
    },
    {
     "name": "stderr",
     "output_type": "stream",
     "text": [
      "INFO:tensorflow:Assets written to: C:\\Users\\jared\\AppData\\Local\\Temp\\tmpu1i5b2jd\\assets\n",
      "WARNING:absl:<keras.layers.recurrent.GRUCell object at 0x0000017E0BBDADF0> has the same name 'GRUCell' as a built-in Keras object. Consider renaming <class 'keras.layers.recurrent.GRUCell'> to avoid naming conflicts when loading with `tf.keras.models.load_model`. If renaming is not possible, pass the object in the `custom_objects` parameter of the load function.\n",
      "C:\\Users\\jared\\anaconda3\\envs\\tflow\\lib\\site-packages\\scikeras\\wrappers.py:289: UserWarning: ``build_fn`` will be renamed to ``model`` in a future release, at which point use of ``build_fn`` will raise an Error instead.\n",
      "  warnings.warn(\n"
     ]
    },
    {
     "name": "stdout",
     "output_type": "stream",
     "text": [
      "Epoch 1/20\n",
      "99/99 [==============================] - 6s 30ms/step - loss: 0.7317 - accuracy: 0.5468 - val_loss: 0.6745 - val_accuracy: 0.5962\n",
      "Epoch 2/20\n",
      "99/99 [==============================] - 2s 21ms/step - loss: 0.6790 - accuracy: 0.5916 - val_loss: 0.6533 - val_accuracy: 0.6276\n",
      "Epoch 3/20\n",
      "99/99 [==============================] - 2s 21ms/step - loss: 0.6515 - accuracy: 0.6258 - val_loss: 0.6385 - val_accuracy: 0.6235\n",
      "Epoch 4/20\n",
      "99/99 [==============================] - 2s 21ms/step - loss: 0.6355 - accuracy: 0.6432 - val_loss: 0.6332 - val_accuracy: 0.6296\n",
      "Epoch 5/20\n",
      "99/99 [==============================] - 2s 21ms/step - loss: 0.6249 - accuracy: 0.6498 - val_loss: 0.6216 - val_accuracy: 0.6457\n",
      "Epoch 6/20\n",
      "99/99 [==============================] - 2s 21ms/step - loss: 0.6140 - accuracy: 0.6532 - val_loss: 0.6224 - val_accuracy: 0.6461\n",
      "Epoch 7/20\n",
      "99/99 [==============================] - 2s 21ms/step - loss: 0.6119 - accuracy: 0.6579 - val_loss: 0.6176 - val_accuracy: 0.6501\n",
      "Epoch 8/20\n",
      "99/99 [==============================] - 2s 21ms/step - loss: 0.5999 - accuracy: 0.6671 - val_loss: 0.6125 - val_accuracy: 0.6554\n",
      "Epoch 9/20\n",
      "99/99 [==============================] - 2s 21ms/step - loss: 0.5932 - accuracy: 0.6729 - val_loss: 0.6188 - val_accuracy: 0.6594\n",
      "Epoch 10/20\n",
      "99/99 [==============================] - 2s 21ms/step - loss: 0.5849 - accuracy: 0.6782 - val_loss: 0.6220 - val_accuracy: 0.6475\n",
      "Epoch 11/20\n",
      "99/99 [==============================] - 2s 21ms/step - loss: 0.5796 - accuracy: 0.6859 - val_loss: 0.6209 - val_accuracy: 0.6525\n",
      "Epoch 00011: early stopping\n",
      "50/50 [==============================] - 1s 7ms/step\n",
      "[CV 1/3] END dropout_rate=0.2, learning_rate=0.001, node_type=lstm, nodes=[32, 32, 32];, score=0.643 total time=  29.3s\n"
     ]
    },
    {
     "name": "stderr",
     "output_type": "stream",
     "text": [
      "WARNING:absl:Found untraced functions such as gru_cell_1_layer_call_fn, gru_cell_1_layer_call_and_return_conditional_losses, gru_cell_1_layer_call_fn, gru_cell_1_layer_call_and_return_conditional_losses, gru_cell_1_layer_call_and_return_conditional_losses while saving (showing 5 of 5). These functions will not be directly callable after loading.\n"
     ]
    },
    {
     "name": "stdout",
     "output_type": "stream",
     "text": [
      "INFO:tensorflow:Assets written to: C:\\Users\\jared\\AppData\\Local\\Temp\\tmpk9vda2sf\\assets\n"
     ]
    },
    {
     "name": "stderr",
     "output_type": "stream",
     "text": [
      "INFO:tensorflow:Assets written to: C:\\Users\\jared\\AppData\\Local\\Temp\\tmpk9vda2sf\\assets\n",
      "WARNING:absl:<keras.layers.recurrent.GRUCell object at 0x0000017E0BBDADF0> has the same name 'GRUCell' as a built-in Keras object. Consider renaming <class 'keras.layers.recurrent.GRUCell'> to avoid naming conflicts when loading with `tf.keras.models.load_model`. If renaming is not possible, pass the object in the `custom_objects` parameter of the load function.\n",
      "C:\\Users\\jared\\anaconda3\\envs\\tflow\\lib\\site-packages\\scikeras\\wrappers.py:289: UserWarning: ``build_fn`` will be renamed to ``model`` in a future release, at which point use of ``build_fn`` will raise an Error instead.\n",
      "  warnings.warn(\n"
     ]
    },
    {
     "name": "stdout",
     "output_type": "stream",
     "text": [
      "Epoch 1/20\n",
      "99/99 [==============================] - 6s 29ms/step - loss: 0.7650 - accuracy: 0.5364 - val_loss: 0.6767 - val_accuracy: 0.5985\n",
      "Epoch 2/20\n",
      "99/99 [==============================] - 2s 21ms/step - loss: 0.6925 - accuracy: 0.5887 - val_loss: 0.6486 - val_accuracy: 0.6251\n",
      "Epoch 3/20\n",
      "99/99 [==============================] - 2s 20ms/step - loss: 0.6646 - accuracy: 0.6137 - val_loss: 0.6315 - val_accuracy: 0.6418\n",
      "Epoch 4/20\n",
      "99/99 [==============================] - 2s 21ms/step - loss: 0.6421 - accuracy: 0.6327 - val_loss: 0.6283 - val_accuracy: 0.6327\n",
      "Epoch 5/20\n",
      "99/99 [==============================] - 2s 20ms/step - loss: 0.6260 - accuracy: 0.6458 - val_loss: 0.6315 - val_accuracy: 0.6327\n",
      "Epoch 6/20\n",
      "99/99 [==============================] - 2s 20ms/step - loss: 0.6165 - accuracy: 0.6620 - val_loss: 0.6225 - val_accuracy: 0.6468\n",
      "Epoch 7/20\n",
      "99/99 [==============================] - 2s 21ms/step - loss: 0.6057 - accuracy: 0.6650 - val_loss: 0.6165 - val_accuracy: 0.6562\n",
      "Epoch 8/20\n",
      "99/99 [==============================] - 2s 21ms/step - loss: 0.6051 - accuracy: 0.6653 - val_loss: 0.6206 - val_accuracy: 0.6539\n",
      "Epoch 9/20\n",
      "99/99 [==============================] - 2s 20ms/step - loss: 0.5943 - accuracy: 0.6698 - val_loss: 0.6195 - val_accuracy: 0.6523\n",
      "Epoch 10/20\n",
      "99/99 [==============================] - 2s 20ms/step - loss: 0.5889 - accuracy: 0.6766 - val_loss: 0.6339 - val_accuracy: 0.6359\n",
      "Epoch 00010: early stopping\n",
      "50/50 [==============================] - 1s 6ms/step\n",
      "[CV 2/3] END dropout_rate=0.2, learning_rate=0.001, node_type=lstm, nodes=[32, 32, 32];, score=0.637 total time=  26.9s\n"
     ]
    },
    {
     "name": "stderr",
     "output_type": "stream",
     "text": [
      "WARNING:absl:Found untraced functions such as gru_cell_1_layer_call_fn, gru_cell_1_layer_call_and_return_conditional_losses, gru_cell_1_layer_call_fn, gru_cell_1_layer_call_and_return_conditional_losses, gru_cell_1_layer_call_and_return_conditional_losses while saving (showing 5 of 5). These functions will not be directly callable after loading.\n"
     ]
    },
    {
     "name": "stdout",
     "output_type": "stream",
     "text": [
      "INFO:tensorflow:Assets written to: C:\\Users\\jared\\AppData\\Local\\Temp\\tmpa_rb_lkv\\assets\n"
     ]
    },
    {
     "name": "stderr",
     "output_type": "stream",
     "text": [
      "INFO:tensorflow:Assets written to: C:\\Users\\jared\\AppData\\Local\\Temp\\tmpa_rb_lkv\\assets\n",
      "WARNING:absl:<keras.layers.recurrent.GRUCell object at 0x0000017E0BBDADF0> has the same name 'GRUCell' as a built-in Keras object. Consider renaming <class 'keras.layers.recurrent.GRUCell'> to avoid naming conflicts when loading with `tf.keras.models.load_model`. If renaming is not possible, pass the object in the `custom_objects` parameter of the load function.\n",
      "C:\\Users\\jared\\anaconda3\\envs\\tflow\\lib\\site-packages\\scikeras\\wrappers.py:289: UserWarning: ``build_fn`` will be renamed to ``model`` in a future release, at which point use of ``build_fn`` will raise an Error instead.\n",
      "  warnings.warn(\n"
     ]
    },
    {
     "name": "stdout",
     "output_type": "stream",
     "text": [
      "Epoch 1/20\n",
      "99/99 [==============================] - 6s 34ms/step - loss: 0.7845 - accuracy: 0.5480 - val_loss: 0.6737 - val_accuracy: 0.6008\n",
      "Epoch 2/20\n",
      "99/99 [==============================] - 2s 21ms/step - loss: 0.7010 - accuracy: 0.5865 - val_loss: 0.6512 - val_accuracy: 0.6163\n",
      "Epoch 3/20\n",
      "99/99 [==============================] - 2s 21ms/step - loss: 0.6681 - accuracy: 0.6158 - val_loss: 0.6348 - val_accuracy: 0.6392\n",
      "Epoch 4/20\n",
      "99/99 [==============================] - 2s 21ms/step - loss: 0.6448 - accuracy: 0.6324 - val_loss: 0.6258 - val_accuracy: 0.6454\n",
      "Epoch 5/20\n",
      "99/99 [==============================] - 2s 21ms/step - loss: 0.6330 - accuracy: 0.6377 - val_loss: 0.6263 - val_accuracy: 0.6491\n",
      "Epoch 6/20\n",
      "99/99 [==============================] - 2s 21ms/step - loss: 0.6188 - accuracy: 0.6582 - val_loss: 0.6148 - val_accuracy: 0.6593\n",
      "Epoch 7/20\n",
      "99/99 [==============================] - 2s 21ms/step - loss: 0.6121 - accuracy: 0.6661 - val_loss: 0.6189 - val_accuracy: 0.6538\n",
      "Epoch 8/20\n",
      "99/99 [==============================] - 2s 21ms/step - loss: 0.6030 - accuracy: 0.6714 - val_loss: 0.6233 - val_accuracy: 0.6566\n",
      "Epoch 9/20\n",
      "99/99 [==============================] - 2s 21ms/step - loss: 0.5964 - accuracy: 0.6753 - val_loss: 0.6215 - val_accuracy: 0.6559\n",
      "Epoch 00009: early stopping\n",
      "50/50 [==============================] - 1s 7ms/step\n",
      "[CV 3/3] END dropout_rate=0.2, learning_rate=0.001, node_type=lstm, nodes=[32, 32, 32];, score=0.637 total time=  25.5s\n"
     ]
    },
    {
     "name": "stderr",
     "output_type": "stream",
     "text": [
      "WARNING:absl:Found untraced functions such as gru_cell_1_layer_call_fn, gru_cell_1_layer_call_and_return_conditional_losses, gru_cell_1_layer_call_fn, gru_cell_1_layer_call_and_return_conditional_losses, gru_cell_1_layer_call_and_return_conditional_losses while saving (showing 5 of 5). These functions will not be directly callable after loading.\n"
     ]
    },
    {
     "name": "stdout",
     "output_type": "stream",
     "text": [
      "INFO:tensorflow:Assets written to: C:\\Users\\jared\\AppData\\Local\\Temp\\tmplz5uo_as\\assets\n"
     ]
    },
    {
     "name": "stderr",
     "output_type": "stream",
     "text": [
      "INFO:tensorflow:Assets written to: C:\\Users\\jared\\AppData\\Local\\Temp\\tmplz5uo_as\\assets\n",
      "WARNING:absl:<keras.layers.recurrent.GRUCell object at 0x0000017E0BBDADF0> has the same name 'GRUCell' as a built-in Keras object. Consider renaming <class 'keras.layers.recurrent.GRUCell'> to avoid naming conflicts when loading with `tf.keras.models.load_model`. If renaming is not possible, pass the object in the `custom_objects` parameter of the load function.\n",
      "C:\\Users\\jared\\anaconda3\\envs\\tflow\\lib\\site-packages\\scikeras\\wrappers.py:289: UserWarning: ``build_fn`` will be renamed to ``model`` in a future release, at which point use of ``build_fn`` will raise an Error instead.\n",
      "  warnings.warn(\n"
     ]
    },
    {
     "name": "stdout",
     "output_type": "stream",
     "text": [
      "Epoch 1/20\n",
      "99/99 [==============================] - 3s 18ms/step - loss: 0.7405 - accuracy: 0.5300 - val_loss: 0.6800 - val_accuracy: 0.5503\n",
      "Epoch 2/20\n",
      "99/99 [==============================] - 1s 12ms/step - loss: 0.7049 - accuracy: 0.5423 - val_loss: 0.6767 - val_accuracy: 0.5551\n",
      "Epoch 3/20\n",
      "99/99 [==============================] - 1s 13ms/step - loss: 0.6907 - accuracy: 0.5503 - val_loss: 0.6698 - val_accuracy: 0.5711\n",
      "Epoch 4/20\n",
      "99/99 [==============================] - 1s 12ms/step - loss: 0.6808 - accuracy: 0.5571 - val_loss: 0.6692 - val_accuracy: 0.5746\n",
      "Epoch 5/20\n",
      "99/99 [==============================] - 1s 12ms/step - loss: 0.6747 - accuracy: 0.5626 - val_loss: 0.6680 - val_accuracy: 0.5748\n",
      "Epoch 6/20\n",
      "99/99 [==============================] - 1s 12ms/step - loss: 0.6713 - accuracy: 0.5658 - val_loss: 0.6662 - val_accuracy: 0.5751\n",
      "Epoch 7/20\n",
      "99/99 [==============================] - 1s 13ms/step - loss: 0.6675 - accuracy: 0.5713 - val_loss: 0.6637 - val_accuracy: 0.5812\n",
      "Epoch 8/20\n",
      "99/99 [==============================] - 1s 12ms/step - loss: 0.6650 - accuracy: 0.5745 - val_loss: 0.6651 - val_accuracy: 0.5754\n",
      "Epoch 9/20\n",
      "99/99 [==============================] - 1s 12ms/step - loss: 0.6639 - accuracy: 0.5751 - val_loss: 0.6637 - val_accuracy: 0.5826\n",
      "Epoch 10/20\n",
      "99/99 [==============================] - 1s 12ms/step - loss: 0.6618 - accuracy: 0.5775 - val_loss: 0.6632 - val_accuracy: 0.5800\n",
      "Epoch 11/20\n",
      "99/99 [==============================] - 1s 12ms/step - loss: 0.6605 - accuracy: 0.5808 - val_loss: 0.6649 - val_accuracy: 0.5742\n",
      "Epoch 12/20\n",
      "99/99 [==============================] - 1s 13ms/step - loss: 0.6583 - accuracy: 0.5824 - val_loss: 0.6636 - val_accuracy: 0.5822\n",
      "Epoch 13/20\n",
      "99/99 [==============================] - 1s 12ms/step - loss: 0.6573 - accuracy: 0.5828 - val_loss: 0.6655 - val_accuracy: 0.5774\n",
      "Epoch 00013: early stopping\n",
      "50/50 [==============================] - 0s 4ms/step\n",
      "[CV 1/3] END dropout_rate=0.2, learning_rate=0.001, node_type=gru, nodes=[128];, score=nan total time=  19.9s\n"
     ]
    },
    {
     "name": "stderr",
     "output_type": "stream",
     "text": [
      "C:\\Users\\jared\\anaconda3\\envs\\tflow\\lib\\site-packages\\sklearn\\model_selection\\_validation.py:771: UserWarning: Scoring failed. The score on this train-test partition for these parameters will be set to nan. Details: \n",
      "Traceback (most recent call last):\n",
      "  File \"C:\\Users\\jared\\anaconda3\\envs\\tflow\\lib\\site-packages\\sklearn\\model_selection\\_validation.py\", line 762, in _score\n",
      "    scores = scorer(estimator, X_test, y_test)\n",
      "  File \"C:\\Users\\jared\\anaconda3\\envs\\tflow\\lib\\site-packages\\sklearn\\metrics\\_scorer.py\", line 216, in __call__\n",
      "    return self._score(\n",
      "  File \"C:\\Users\\jared\\anaconda3\\envs\\tflow\\lib\\site-packages\\sklearn\\metrics\\_scorer.py\", line 258, in _score\n",
      "    y_pred = method_caller(estimator, \"predict\", X)\n",
      "  File \"C:\\Users\\jared\\anaconda3\\envs\\tflow\\lib\\site-packages\\sklearn\\metrics\\_scorer.py\", line 68, in _cached_call\n",
      "    return getattr(estimator, method)(*args, **kwargs)\n",
      "  File \"C:\\Users\\jared\\anaconda3\\envs\\tflow\\lib\\site-packages\\scikeras\\wrappers.py\", line 1013, in predict\n",
      "    y_pred = self.target_encoder_.inverse_transform(y_pred)\n",
      "  File \"C:\\Users\\jared\\anaconda3\\envs\\tflow\\lib\\site-packages\\scikeras\\utils\\transformers.py\", line 257, in inverse_transform\n",
      "    class_predictions = self._final_encoder.inverse_transform(class_predictions)\n",
      "  File \"C:\\Users\\jared\\anaconda3\\envs\\tflow\\lib\\site-packages\\sklearn\\utils\\metaestimators.py\", line 113, in <lambda>\n",
      "    out = lambda *args, **kwargs: self.fn(obj, *args, **kwargs)  # noqa\n",
      "  File \"C:\\Users\\jared\\anaconda3\\envs\\tflow\\lib\\site-packages\\sklearn\\pipeline.py\", line 675, in inverse_transform\n",
      "    Xt = transform.inverse_transform(Xt)\n",
      "  File \"C:\\Users\\jared\\anaconda3\\envs\\tflow\\lib\\site-packages\\sklearn\\preprocessing\\_encoders.py\", line 990, in inverse_transform\n",
      "    X_tr[:, i] = self.categories_[i][labels]\n",
      "IndexError: index 37 is out of bounds for axis 0 with size 2\n",
      "\n",
      "  warnings.warn(\n",
      "WARNING:absl:Found untraced functions such as gru_cell_1_layer_call_fn, gru_cell_1_layer_call_and_return_conditional_losses, gru_cell_1_layer_call_fn, gru_cell_1_layer_call_and_return_conditional_losses, gru_cell_1_layer_call_and_return_conditional_losses while saving (showing 5 of 5). These functions will not be directly callable after loading.\n"
     ]
    },
    {
     "name": "stdout",
     "output_type": "stream",
     "text": [
      "INFO:tensorflow:Assets written to: C:\\Users\\jared\\AppData\\Local\\Temp\\tmp3tih4bd2\\assets\n"
     ]
    },
    {
     "name": "stderr",
     "output_type": "stream",
     "text": [
      "INFO:tensorflow:Assets written to: C:\\Users\\jared\\AppData\\Local\\Temp\\tmp3tih4bd2\\assets\n",
      "WARNING:absl:<keras.layers.recurrent.GRUCell object at 0x0000017E0BBDADF0> has the same name 'GRUCell' as a built-in Keras object. Consider renaming <class 'keras.layers.recurrent.GRUCell'> to avoid naming conflicts when loading with `tf.keras.models.load_model`. If renaming is not possible, pass the object in the `custom_objects` parameter of the load function.\n",
      "C:\\Users\\jared\\anaconda3\\envs\\tflow\\lib\\site-packages\\scikeras\\wrappers.py:289: UserWarning: ``build_fn`` will be renamed to ``model`` in a future release, at which point use of ``build_fn`` will raise an Error instead.\n",
      "  warnings.warn(\n"
     ]
    },
    {
     "name": "stdout",
     "output_type": "stream",
     "text": [
      "Epoch 1/20\n",
      "99/99 [==============================] - 3s 19ms/step - loss: 0.7367 - accuracy: 0.5321 - val_loss: 0.6774 - val_accuracy: 0.5588\n",
      "Epoch 2/20\n",
      "99/99 [==============================] - 1s 13ms/step - loss: 0.7001 - accuracy: 0.5460 - val_loss: 0.6704 - val_accuracy: 0.5727\n",
      "Epoch 3/20\n",
      "99/99 [==============================] - 1s 13ms/step - loss: 0.6875 - accuracy: 0.5522 - val_loss: 0.6684 - val_accuracy: 0.5751\n",
      "Epoch 4/20\n",
      "99/99 [==============================] - 1s 12ms/step - loss: 0.6782 - accuracy: 0.5598 - val_loss: 0.6655 - val_accuracy: 0.5807\n",
      "Epoch 5/20\n",
      "99/99 [==============================] - 1s 13ms/step - loss: 0.6727 - accuracy: 0.5643 - val_loss: 0.6641 - val_accuracy: 0.5816\n",
      "Epoch 6/20\n",
      "99/99 [==============================] - 1s 12ms/step - loss: 0.6689 - accuracy: 0.5700 - val_loss: 0.6654 - val_accuracy: 0.5790\n",
      "Epoch 7/20\n",
      "99/99 [==============================] - 1s 13ms/step - loss: 0.6674 - accuracy: 0.5723 - val_loss: 0.6646 - val_accuracy: 0.5798\n",
      "Epoch 8/20\n",
      "99/99 [==============================] - 1s 13ms/step - loss: 0.6645 - accuracy: 0.5755 - val_loss: 0.6632 - val_accuracy: 0.5801\n",
      "Epoch 9/20\n",
      "99/99 [==============================] - 1s 12ms/step - loss: 0.6624 - accuracy: 0.5785 - val_loss: 0.6652 - val_accuracy: 0.5734\n",
      "Epoch 10/20\n",
      "99/99 [==============================] - 1s 12ms/step - loss: 0.6608 - accuracy: 0.5790 - val_loss: 0.6616 - val_accuracy: 0.5830\n",
      "Epoch 11/20\n",
      "99/99 [==============================] - 1s 12ms/step - loss: 0.6593 - accuracy: 0.5839 - val_loss: 0.6613 - val_accuracy: 0.5798\n",
      "Epoch 12/20\n",
      "99/99 [==============================] - 1s 13ms/step - loss: 0.6572 - accuracy: 0.5855 - val_loss: 0.6642 - val_accuracy: 0.5756\n",
      "Epoch 13/20\n",
      "99/99 [==============================] - 1s 12ms/step - loss: 0.6562 - accuracy: 0.5863 - val_loss: 0.6597 - val_accuracy: 0.5865\n",
      "Epoch 14/20\n",
      "99/99 [==============================] - 1s 12ms/step - loss: 0.6555 - accuracy: 0.5860 - val_loss: 0.6597 - val_accuracy: 0.5856\n",
      "Epoch 15/20\n",
      "99/99 [==============================] - 1s 12ms/step - loss: 0.6518 - accuracy: 0.5918 - val_loss: 0.6584 - val_accuracy: 0.5873\n",
      "Epoch 16/20\n",
      "99/99 [==============================] - 1s 12ms/step - loss: 0.6493 - accuracy: 0.5944 - val_loss: 0.6633 - val_accuracy: 0.5806\n",
      "Epoch 17/20\n",
      "99/99 [==============================] - 1s 12ms/step - loss: 0.6476 - accuracy: 0.5949 - val_loss: 0.6761 - val_accuracy: 0.5580\n",
      "Epoch 18/20\n",
      "99/99 [==============================] - 1s 12ms/step - loss: 0.6455 - accuracy: 0.5968 - val_loss: 0.6626 - val_accuracy: 0.5824\n",
      "Epoch 00018: early stopping\n",
      "50/50 [==============================] - 0s 5ms/step\n",
      "[CV 2/3] END dropout_rate=0.2, learning_rate=0.001, node_type=gru, nodes=[128];, score=nan total time=  26.2s\n"
     ]
    },
    {
     "name": "stderr",
     "output_type": "stream",
     "text": [
      "C:\\Users\\jared\\anaconda3\\envs\\tflow\\lib\\site-packages\\sklearn\\model_selection\\_validation.py:771: UserWarning: Scoring failed. The score on this train-test partition for these parameters will be set to nan. Details: \n",
      "Traceback (most recent call last):\n",
      "  File \"C:\\Users\\jared\\anaconda3\\envs\\tflow\\lib\\site-packages\\sklearn\\model_selection\\_validation.py\", line 762, in _score\n",
      "    scores = scorer(estimator, X_test, y_test)\n",
      "  File \"C:\\Users\\jared\\anaconda3\\envs\\tflow\\lib\\site-packages\\sklearn\\metrics\\_scorer.py\", line 216, in __call__\n",
      "    return self._score(\n",
      "  File \"C:\\Users\\jared\\anaconda3\\envs\\tflow\\lib\\site-packages\\sklearn\\metrics\\_scorer.py\", line 258, in _score\n",
      "    y_pred = method_caller(estimator, \"predict\", X)\n",
      "  File \"C:\\Users\\jared\\anaconda3\\envs\\tflow\\lib\\site-packages\\sklearn\\metrics\\_scorer.py\", line 68, in _cached_call\n",
      "    return getattr(estimator, method)(*args, **kwargs)\n",
      "  File \"C:\\Users\\jared\\anaconda3\\envs\\tflow\\lib\\site-packages\\scikeras\\wrappers.py\", line 1013, in predict\n",
      "    y_pred = self.target_encoder_.inverse_transform(y_pred)\n",
      "  File \"C:\\Users\\jared\\anaconda3\\envs\\tflow\\lib\\site-packages\\scikeras\\utils\\transformers.py\", line 257, in inverse_transform\n",
      "    class_predictions = self._final_encoder.inverse_transform(class_predictions)\n",
      "  File \"C:\\Users\\jared\\anaconda3\\envs\\tflow\\lib\\site-packages\\sklearn\\utils\\metaestimators.py\", line 113, in <lambda>\n",
      "    out = lambda *args, **kwargs: self.fn(obj, *args, **kwargs)  # noqa\n",
      "  File \"C:\\Users\\jared\\anaconda3\\envs\\tflow\\lib\\site-packages\\sklearn\\pipeline.py\", line 675, in inverse_transform\n",
      "    Xt = transform.inverse_transform(Xt)\n",
      "  File \"C:\\Users\\jared\\anaconda3\\envs\\tflow\\lib\\site-packages\\sklearn\\preprocessing\\_encoders.py\", line 990, in inverse_transform\n",
      "    X_tr[:, i] = self.categories_[i][labels]\n",
      "IndexError: index 57 is out of bounds for axis 0 with size 2\n",
      "\n",
      "  warnings.warn(\n",
      "WARNING:absl:Found untraced functions such as gru_cell_1_layer_call_fn, gru_cell_1_layer_call_and_return_conditional_losses, gru_cell_1_layer_call_fn, gru_cell_1_layer_call_and_return_conditional_losses, gru_cell_1_layer_call_and_return_conditional_losses while saving (showing 5 of 5). These functions will not be directly callable after loading.\n"
     ]
    },
    {
     "name": "stdout",
     "output_type": "stream",
     "text": [
      "INFO:tensorflow:Assets written to: C:\\Users\\jared\\AppData\\Local\\Temp\\tmp4u9kwbz1\\assets\n"
     ]
    },
    {
     "name": "stderr",
     "output_type": "stream",
     "text": [
      "INFO:tensorflow:Assets written to: C:\\Users\\jared\\AppData\\Local\\Temp\\tmp4u9kwbz1\\assets\n",
      "WARNING:absl:<keras.layers.recurrent.GRUCell object at 0x0000017E0BBDADF0> has the same name 'GRUCell' as a built-in Keras object. Consider renaming <class 'keras.layers.recurrent.GRUCell'> to avoid naming conflicts when loading with `tf.keras.models.load_model`. If renaming is not possible, pass the object in the `custom_objects` parameter of the load function.\n",
      "C:\\Users\\jared\\anaconda3\\envs\\tflow\\lib\\site-packages\\scikeras\\wrappers.py:289: UserWarning: ``build_fn`` will be renamed to ``model`` in a future release, at which point use of ``build_fn`` will raise an Error instead.\n",
      "  warnings.warn(\n"
     ]
    },
    {
     "name": "stdout",
     "output_type": "stream",
     "text": [
      "Epoch 1/20\n",
      "99/99 [==============================] - 3s 18ms/step - loss: 0.7382 - accuracy: 0.5289 - val_loss: 0.6762 - val_accuracy: 0.5613\n",
      "Epoch 2/20\n",
      "99/99 [==============================] - 1s 12ms/step - loss: 0.7032 - accuracy: 0.5433 - val_loss: 0.6734 - val_accuracy: 0.5654\n",
      "Epoch 3/20\n",
      "99/99 [==============================] - 1s 13ms/step - loss: 0.6882 - accuracy: 0.5522 - val_loss: 0.6688 - val_accuracy: 0.5732\n",
      "Epoch 4/20\n",
      "99/99 [==============================] - 1s 12ms/step - loss: 0.6804 - accuracy: 0.5570 - val_loss: 0.6655 - val_accuracy: 0.5778\n",
      "Epoch 5/20\n",
      "99/99 [==============================] - 1s 12ms/step - loss: 0.6737 - accuracy: 0.5641 - val_loss: 0.6659 - val_accuracy: 0.5757\n",
      "Epoch 6/20\n",
      "99/99 [==============================] - 1s 13ms/step - loss: 0.6695 - accuracy: 0.5695 - val_loss: 0.6649 - val_accuracy: 0.5783\n",
      "Epoch 7/20\n",
      "99/99 [==============================] - 1s 13ms/step - loss: 0.6660 - accuracy: 0.5731 - val_loss: 0.6625 - val_accuracy: 0.5838\n",
      "Epoch 8/20\n",
      "99/99 [==============================] - 1s 12ms/step - loss: 0.6643 - accuracy: 0.5761 - val_loss: 0.6630 - val_accuracy: 0.5807\n",
      "Epoch 9/20\n",
      "99/99 [==============================] - 1s 12ms/step - loss: 0.6638 - accuracy: 0.5766 - val_loss: 0.6626 - val_accuracy: 0.5829\n",
      "Epoch 10/20\n",
      "99/99 [==============================] - 1s 12ms/step - loss: 0.6607 - accuracy: 0.5804 - val_loss: 0.6608 - val_accuracy: 0.5860\n",
      "Epoch 11/20\n",
      "99/99 [==============================] - 1s 12ms/step - loss: 0.6592 - accuracy: 0.5828 - val_loss: 0.6643 - val_accuracy: 0.5718\n",
      "Epoch 12/20\n",
      "99/99 [==============================] - 1s 12ms/step - loss: 0.6570 - accuracy: 0.5839 - val_loss: 0.6599 - val_accuracy: 0.5875\n",
      "Epoch 13/20\n",
      "99/99 [==============================] - 1s 12ms/step - loss: 0.6551 - accuracy: 0.5878 - val_loss: 0.6640 - val_accuracy: 0.5782\n",
      "Epoch 14/20\n",
      "99/99 [==============================] - 1s 12ms/step - loss: 0.6538 - accuracy: 0.5882 - val_loss: 0.6612 - val_accuracy: 0.5835\n",
      "Epoch 15/20\n",
      "99/99 [==============================] - 1s 12ms/step - loss: 0.6507 - accuracy: 0.5913 - val_loss: 0.6647 - val_accuracy: 0.5813\n",
      "Epoch 00015: early stopping\n",
      "50/50 [==============================] - 0s 5ms/step\n",
      "[CV 3/3] END dropout_rate=0.2, learning_rate=0.001, node_type=gru, nodes=[128];, score=nan total time=  22.3s\n"
     ]
    },
    {
     "name": "stderr",
     "output_type": "stream",
     "text": [
      "C:\\Users\\jared\\anaconda3\\envs\\tflow\\lib\\site-packages\\sklearn\\model_selection\\_validation.py:771: UserWarning: Scoring failed. The score on this train-test partition for these parameters will be set to nan. Details: \n",
      "Traceback (most recent call last):\n",
      "  File \"C:\\Users\\jared\\anaconda3\\envs\\tflow\\lib\\site-packages\\sklearn\\model_selection\\_validation.py\", line 762, in _score\n",
      "    scores = scorer(estimator, X_test, y_test)\n",
      "  File \"C:\\Users\\jared\\anaconda3\\envs\\tflow\\lib\\site-packages\\sklearn\\metrics\\_scorer.py\", line 216, in __call__\n",
      "    return self._score(\n",
      "  File \"C:\\Users\\jared\\anaconda3\\envs\\tflow\\lib\\site-packages\\sklearn\\metrics\\_scorer.py\", line 258, in _score\n",
      "    y_pred = method_caller(estimator, \"predict\", X)\n",
      "  File \"C:\\Users\\jared\\anaconda3\\envs\\tflow\\lib\\site-packages\\sklearn\\metrics\\_scorer.py\", line 68, in _cached_call\n",
      "    return getattr(estimator, method)(*args, **kwargs)\n",
      "  File \"C:\\Users\\jared\\anaconda3\\envs\\tflow\\lib\\site-packages\\scikeras\\wrappers.py\", line 1013, in predict\n",
      "    y_pred = self.target_encoder_.inverse_transform(y_pred)\n",
      "  File \"C:\\Users\\jared\\anaconda3\\envs\\tflow\\lib\\site-packages\\scikeras\\utils\\transformers.py\", line 257, in inverse_transform\n",
      "    class_predictions = self._final_encoder.inverse_transform(class_predictions)\n",
      "  File \"C:\\Users\\jared\\anaconda3\\envs\\tflow\\lib\\site-packages\\sklearn\\utils\\metaestimators.py\", line 113, in <lambda>\n",
      "    out = lambda *args, **kwargs: self.fn(obj, *args, **kwargs)  # noqa\n",
      "  File \"C:\\Users\\jared\\anaconda3\\envs\\tflow\\lib\\site-packages\\sklearn\\pipeline.py\", line 675, in inverse_transform\n",
      "    Xt = transform.inverse_transform(Xt)\n",
      "  File \"C:\\Users\\jared\\anaconda3\\envs\\tflow\\lib\\site-packages\\sklearn\\preprocessing\\_encoders.py\", line 990, in inverse_transform\n",
      "    X_tr[:, i] = self.categories_[i][labels]\n",
      "IndexError: index 59 is out of bounds for axis 0 with size 2\n",
      "\n",
      "  warnings.warn(\n",
      "WARNING:absl:Found untraced functions such as gru_cell_1_layer_call_fn, gru_cell_1_layer_call_and_return_conditional_losses, gru_cell_1_layer_call_fn, gru_cell_1_layer_call_and_return_conditional_losses, gru_cell_1_layer_call_and_return_conditional_losses while saving (showing 5 of 5). These functions will not be directly callable after loading.\n"
     ]
    },
    {
     "name": "stdout",
     "output_type": "stream",
     "text": [
      "INFO:tensorflow:Assets written to: C:\\Users\\jared\\AppData\\Local\\Temp\\tmp51gtf1vm\\assets\n"
     ]
    },
    {
     "name": "stderr",
     "output_type": "stream",
     "text": [
      "INFO:tensorflow:Assets written to: C:\\Users\\jared\\AppData\\Local\\Temp\\tmp51gtf1vm\\assets\n",
      "WARNING:absl:<keras.layers.recurrent.GRUCell object at 0x0000017E0BBDADF0> has the same name 'GRUCell' as a built-in Keras object. Consider renaming <class 'keras.layers.recurrent.GRUCell'> to avoid naming conflicts when loading with `tf.keras.models.load_model`. If renaming is not possible, pass the object in the `custom_objects` parameter of the load function.\n",
      "C:\\Users\\jared\\anaconda3\\envs\\tflow\\lib\\site-packages\\scikeras\\wrappers.py:289: UserWarning: ``build_fn`` will be renamed to ``model`` in a future release, at which point use of ``build_fn`` will raise an Error instead.\n",
      "  warnings.warn(\n"
     ]
    },
    {
     "name": "stdout",
     "output_type": "stream",
     "text": [
      "Epoch 1/20\n",
      "99/99 [==============================] - 5s 25ms/step - loss: 0.7078 - accuracy: 0.5858 - val_loss: 0.6473 - val_accuracy: 0.6131\n",
      "Epoch 2/20\n",
      "99/99 [==============================] - 2s 15ms/step - loss: 0.6500 - accuracy: 0.6254 - val_loss: 0.6206 - val_accuracy: 0.6478\n",
      "Epoch 3/20\n",
      "99/99 [==============================] - 2s 16ms/step - loss: 0.6345 - accuracy: 0.6333 - val_loss: 0.6226 - val_accuracy: 0.6417\n",
      "Epoch 4/20\n",
      "99/99 [==============================] - 2s 16ms/step - loss: 0.6180 - accuracy: 0.6546 - val_loss: 0.6148 - val_accuracy: 0.6572\n",
      "Epoch 5/20\n",
      "99/99 [==============================] - 2s 16ms/step - loss: 0.6082 - accuracy: 0.6617 - val_loss: 0.6097 - val_accuracy: 0.6625\n",
      "Epoch 6/20\n",
      "99/99 [==============================] - 2s 16ms/step - loss: 0.5996 - accuracy: 0.6648 - val_loss: 0.6129 - val_accuracy: 0.6524\n",
      "Epoch 7/20\n",
      "99/99 [==============================] - 2s 16ms/step - loss: 0.5933 - accuracy: 0.6738 - val_loss: 0.6201 - val_accuracy: 0.6524\n",
      "Epoch 8/20\n",
      "99/99 [==============================] - 2s 16ms/step - loss: 0.5880 - accuracy: 0.6790 - val_loss: 0.6092 - val_accuracy: 0.6628\n",
      "Epoch 9/20\n",
      "99/99 [==============================] - 2s 15ms/step - loss: 0.5815 - accuracy: 0.6821 - val_loss: 0.6152 - val_accuracy: 0.6602\n",
      "Epoch 10/20\n",
      "99/99 [==============================] - 2s 15ms/step - loss: 0.5747 - accuracy: 0.6884 - val_loss: 0.6159 - val_accuracy: 0.6642\n",
      "Epoch 11/20\n",
      "99/99 [==============================] - 1s 15ms/step - loss: 0.5706 - accuracy: 0.6890 - val_loss: 0.6160 - val_accuracy: 0.6676\n",
      "Epoch 00011: early stopping\n",
      "50/50 [==============================] - 1s 6ms/step\n",
      "[CV 1/3] END dropout_rate=0.2, learning_rate=0.001, node_type=gru, nodes=[64, 64];, score=0.655 total time=  22.7s\n"
     ]
    },
    {
     "name": "stderr",
     "output_type": "stream",
     "text": [
      "WARNING:absl:Found untraced functions such as gru_cell_1_layer_call_fn, gru_cell_1_layer_call_and_return_conditional_losses, gru_cell_1_layer_call_fn, gru_cell_1_layer_call_and_return_conditional_losses, gru_cell_1_layer_call_and_return_conditional_losses while saving (showing 5 of 5). These functions will not be directly callable after loading.\n"
     ]
    },
    {
     "name": "stdout",
     "output_type": "stream",
     "text": [
      "INFO:tensorflow:Assets written to: C:\\Users\\jared\\AppData\\Local\\Temp\\tmpllkbgu0b\\assets\n"
     ]
    },
    {
     "name": "stderr",
     "output_type": "stream",
     "text": [
      "INFO:tensorflow:Assets written to: C:\\Users\\jared\\AppData\\Local\\Temp\\tmpllkbgu0b\\assets\n",
      "WARNING:absl:<keras.layers.recurrent.GRUCell object at 0x0000017E0BBDADF0> has the same name 'GRUCell' as a built-in Keras object. Consider renaming <class 'keras.layers.recurrent.GRUCell'> to avoid naming conflicts when loading with `tf.keras.models.load_model`. If renaming is not possible, pass the object in the `custom_objects` parameter of the load function.\n",
      "C:\\Users\\jared\\anaconda3\\envs\\tflow\\lib\\site-packages\\scikeras\\wrappers.py:289: UserWarning: ``build_fn`` will be renamed to ``model`` in a future release, at which point use of ``build_fn`` will raise an Error instead.\n",
      "  warnings.warn(\n"
     ]
    },
    {
     "name": "stdout",
     "output_type": "stream",
     "text": [
      "Epoch 1/20\n",
      "99/99 [==============================] - 4s 23ms/step - loss: 0.7110 - accuracy: 0.5913 - val_loss: 0.6535 - val_accuracy: 0.5986\n",
      "Epoch 2/20\n",
      "99/99 [==============================] - 2s 15ms/step - loss: 0.6645 - accuracy: 0.6169 - val_loss: 0.6405 - val_accuracy: 0.6126\n",
      "Epoch 3/20\n",
      "99/99 [==============================] - 2s 15ms/step - loss: 0.6390 - accuracy: 0.6351 - val_loss: 0.6196 - val_accuracy: 0.6468\n",
      "Epoch 4/20\n",
      "99/99 [==============================] - 2s 16ms/step - loss: 0.6226 - accuracy: 0.6501 - val_loss: 0.6092 - val_accuracy: 0.6631\n",
      "Epoch 5/20\n",
      "99/99 [==============================] - 2s 15ms/step - loss: 0.6106 - accuracy: 0.6596 - val_loss: 0.6043 - val_accuracy: 0.6626\n",
      "Epoch 6/20\n",
      "99/99 [==============================] - 2s 16ms/step - loss: 0.6034 - accuracy: 0.6691 - val_loss: 0.6083 - val_accuracy: 0.6614\n",
      "Epoch 7/20\n",
      "99/99 [==============================] - 2s 16ms/step - loss: 0.5977 - accuracy: 0.6685 - val_loss: 0.6068 - val_accuracy: 0.6614\n",
      "Epoch 8/20\n",
      "99/99 [==============================] - 2s 16ms/step - loss: 0.5924 - accuracy: 0.6754 - val_loss: 0.6107 - val_accuracy: 0.6624\n",
      "Epoch 00008: early stopping\n",
      "50/50 [==============================] - 1s 5ms/step\n",
      "[CV 2/3] END dropout_rate=0.2, learning_rate=0.001, node_type=gru, nodes=[64, 64];, score=0.652 total time=  17.5s\n"
     ]
    },
    {
     "name": "stderr",
     "output_type": "stream",
     "text": [
      "WARNING:absl:Found untraced functions such as gru_cell_1_layer_call_fn, gru_cell_1_layer_call_and_return_conditional_losses, gru_cell_1_layer_call_fn, gru_cell_1_layer_call_and_return_conditional_losses, gru_cell_1_layer_call_and_return_conditional_losses while saving (showing 5 of 5). These functions will not be directly callable after loading.\n"
     ]
    },
    {
     "name": "stdout",
     "output_type": "stream",
     "text": [
      "INFO:tensorflow:Assets written to: C:\\Users\\jared\\AppData\\Local\\Temp\\tmpyiusmfvj\\assets\n"
     ]
    },
    {
     "name": "stderr",
     "output_type": "stream",
     "text": [
      "INFO:tensorflow:Assets written to: C:\\Users\\jared\\AppData\\Local\\Temp\\tmpyiusmfvj\\assets\n",
      "WARNING:absl:<keras.layers.recurrent.GRUCell object at 0x0000017E0BBDADF0> has the same name 'GRUCell' as a built-in Keras object. Consider renaming <class 'keras.layers.recurrent.GRUCell'> to avoid naming conflicts when loading with `tf.keras.models.load_model`. If renaming is not possible, pass the object in the `custom_objects` parameter of the load function.\n",
      "C:\\Users\\jared\\anaconda3\\envs\\tflow\\lib\\site-packages\\scikeras\\wrappers.py:289: UserWarning: ``build_fn`` will be renamed to ``model`` in a future release, at which point use of ``build_fn`` will raise an Error instead.\n",
      "  warnings.warn(\n"
     ]
    },
    {
     "name": "stdout",
     "output_type": "stream",
     "text": [
      "Epoch 1/20\n",
      "99/99 [==============================] - 4s 24ms/step - loss: 0.7273 - accuracy: 0.5761 - val_loss: 0.6356 - val_accuracy: 0.6259\n",
      "Epoch 2/20\n",
      "99/99 [==============================] - 2s 15ms/step - loss: 0.6698 - accuracy: 0.6183 - val_loss: 0.6319 - val_accuracy: 0.6286\n",
      "Epoch 3/20\n",
      "99/99 [==============================] - 2s 15ms/step - loss: 0.6424 - accuracy: 0.6378 - val_loss: 0.6177 - val_accuracy: 0.6518\n",
      "Epoch 4/20\n",
      "99/99 [==============================] - 1s 15ms/step - loss: 0.6235 - accuracy: 0.6495 - val_loss: 0.6213 - val_accuracy: 0.6428\n",
      "Epoch 5/20\n",
      "99/99 [==============================] - 2s 16ms/step - loss: 0.6140 - accuracy: 0.6584 - val_loss: 0.6095 - val_accuracy: 0.6645\n",
      "Epoch 6/20\n",
      "99/99 [==============================] - 2s 15ms/step - loss: 0.6030 - accuracy: 0.6665 - val_loss: 0.6093 - val_accuracy: 0.6615\n",
      "Epoch 7/20\n",
      "99/99 [==============================] - 2s 15ms/step - loss: 0.5986 - accuracy: 0.6703 - val_loss: 0.6124 - val_accuracy: 0.6588\n",
      "Epoch 8/20\n",
      "99/99 [==============================] - 2s 15ms/step - loss: 0.5906 - accuracy: 0.6747 - val_loss: 0.6281 - val_accuracy: 0.6443\n",
      "Epoch 9/20\n",
      "99/99 [==============================] - 2s 15ms/step - loss: 0.5856 - accuracy: 0.6776 - val_loss: 0.6089 - val_accuracy: 0.6596\n",
      "Epoch 10/20\n",
      "99/99 [==============================] - 2s 16ms/step - loss: 0.5765 - accuracy: 0.6887 - val_loss: 0.6191 - val_accuracy: 0.6542\n",
      "Epoch 11/20\n",
      "99/99 [==============================] - 2s 16ms/step - loss: 0.5715 - accuracy: 0.6905 - val_loss: 0.6198 - val_accuracy: 0.6594\n",
      "Epoch 12/20\n",
      "99/99 [==============================] - 2s 15ms/step - loss: 0.5599 - accuracy: 0.7010 - val_loss: 0.6175 - val_accuracy: 0.6589\n",
      "Epoch 00012: early stopping\n",
      "50/50 [==============================] - 1s 5ms/step\n",
      "[CV 3/3] END dropout_rate=0.2, learning_rate=0.001, node_type=gru, nodes=[64, 64];, score=0.651 total time=  23.8s\n"
     ]
    },
    {
     "name": "stderr",
     "output_type": "stream",
     "text": [
      "WARNING:absl:Found untraced functions such as gru_cell_1_layer_call_fn, gru_cell_1_layer_call_and_return_conditional_losses, gru_cell_1_layer_call_fn, gru_cell_1_layer_call_and_return_conditional_losses, gru_cell_1_layer_call_and_return_conditional_losses while saving (showing 5 of 5). These functions will not be directly callable after loading.\n"
     ]
    },
    {
     "name": "stdout",
     "output_type": "stream",
     "text": [
      "INFO:tensorflow:Assets written to: C:\\Users\\jared\\AppData\\Local\\Temp\\tmpk6ttqn2j\\assets\n"
     ]
    },
    {
     "name": "stderr",
     "output_type": "stream",
     "text": [
      "INFO:tensorflow:Assets written to: C:\\Users\\jared\\AppData\\Local\\Temp\\tmpk6ttqn2j\\assets\n",
      "WARNING:absl:<keras.layers.recurrent.GRUCell object at 0x0000017E0BBDADF0> has the same name 'GRUCell' as a built-in Keras object. Consider renaming <class 'keras.layers.recurrent.GRUCell'> to avoid naming conflicts when loading with `tf.keras.models.load_model`. If renaming is not possible, pass the object in the `custom_objects` parameter of the load function.\n",
      "C:\\Users\\jared\\anaconda3\\envs\\tflow\\lib\\site-packages\\scikeras\\wrappers.py:289: UserWarning: ``build_fn`` will be renamed to ``model`` in a future release, at which point use of ``build_fn`` will raise an Error instead.\n",
      "  warnings.warn(\n"
     ]
    },
    {
     "name": "stdout",
     "output_type": "stream",
     "text": [
      "Epoch 1/20\n",
      "99/99 [==============================] - 6s 28ms/step - loss: 0.7415 - accuracy: 0.5526 - val_loss: 0.6590 - val_accuracy: 0.5990\n",
      "Epoch 2/20\n",
      "99/99 [==============================] - 2s 19ms/step - loss: 0.6784 - accuracy: 0.5997 - val_loss: 0.6295 - val_accuracy: 0.6325\n",
      "Epoch 3/20\n",
      "99/99 [==============================] - 2s 20ms/step - loss: 0.6535 - accuracy: 0.6254 - val_loss: 0.6152 - val_accuracy: 0.6518\n",
      "Epoch 4/20\n",
      "99/99 [==============================] - 2s 20ms/step - loss: 0.6330 - accuracy: 0.6391 - val_loss: 0.6136 - val_accuracy: 0.6583\n",
      "Epoch 5/20\n",
      "99/99 [==============================] - 2s 20ms/step - loss: 0.6257 - accuracy: 0.6470 - val_loss: 0.6118 - val_accuracy: 0.6577\n",
      "Epoch 6/20\n",
      "99/99 [==============================] - 2s 20ms/step - loss: 0.6160 - accuracy: 0.6586 - val_loss: 0.6126 - val_accuracy: 0.6620\n",
      "Epoch 7/20\n",
      "99/99 [==============================] - 2s 20ms/step - loss: 0.6112 - accuracy: 0.6604 - val_loss: 0.6100 - val_accuracy: 0.6646\n",
      "Epoch 8/20\n",
      "99/99 [==============================] - 2s 19ms/step - loss: 0.6058 - accuracy: 0.6637 - val_loss: 0.6072 - val_accuracy: 0.6668\n",
      "Epoch 9/20\n",
      "99/99 [==============================] - 2s 19ms/step - loss: 0.6039 - accuracy: 0.6690 - val_loss: 0.6079 - val_accuracy: 0.6661\n",
      "Epoch 10/20\n",
      "99/99 [==============================] - 2s 20ms/step - loss: 0.5988 - accuracy: 0.6705 - val_loss: 0.6083 - val_accuracy: 0.6665\n",
      "Epoch 11/20\n",
      "99/99 [==============================] - 2s 20ms/step - loss: 0.5982 - accuracy: 0.6660 - val_loss: 0.6054 - val_accuracy: 0.6678\n",
      "Epoch 12/20\n",
      "99/99 [==============================] - 2s 20ms/step - loss: 0.5913 - accuracy: 0.6740 - val_loss: 0.6051 - val_accuracy: 0.6668\n",
      "Epoch 13/20\n",
      "99/99 [==============================] - 2s 20ms/step - loss: 0.5862 - accuracy: 0.6779 - val_loss: 0.6095 - val_accuracy: 0.6639\n",
      "Epoch 14/20\n",
      "99/99 [==============================] - 2s 20ms/step - loss: 0.5841 - accuracy: 0.6783 - val_loss: 0.6189 - val_accuracy: 0.6646\n",
      "Epoch 15/20\n",
      "99/99 [==============================] - 2s 21ms/step - loss: 0.5776 - accuracy: 0.6892 - val_loss: 0.6207 - val_accuracy: 0.6549\n",
      "Epoch 00015: early stopping\n",
      "50/50 [==============================] - 1s 7ms/step\n",
      "[CV 1/3] END dropout_rate=0.2, learning_rate=0.001, node_type=gru, nodes=[32, 32, 32];, score=0.652 total time=  36.3s\n"
     ]
    },
    {
     "name": "stderr",
     "output_type": "stream",
     "text": [
      "WARNING:absl:Found untraced functions such as gru_cell_1_layer_call_fn, gru_cell_1_layer_call_and_return_conditional_losses, gru_cell_1_layer_call_fn, gru_cell_1_layer_call_and_return_conditional_losses, gru_cell_1_layer_call_and_return_conditional_losses while saving (showing 5 of 5). These functions will not be directly callable after loading.\n"
     ]
    },
    {
     "name": "stdout",
     "output_type": "stream",
     "text": [
      "INFO:tensorflow:Assets written to: C:\\Users\\jared\\AppData\\Local\\Temp\\tmp5w3zo6i1\\assets\n"
     ]
    },
    {
     "name": "stderr",
     "output_type": "stream",
     "text": [
      "INFO:tensorflow:Assets written to: C:\\Users\\jared\\AppData\\Local\\Temp\\tmp5w3zo6i1\\assets\n",
      "WARNING:absl:<keras.layers.recurrent.GRUCell object at 0x0000017E0BBDADF0> has the same name 'GRUCell' as a built-in Keras object. Consider renaming <class 'keras.layers.recurrent.GRUCell'> to avoid naming conflicts when loading with `tf.keras.models.load_model`. If renaming is not possible, pass the object in the `custom_objects` parameter of the load function.\n",
      "C:\\Users\\jared\\anaconda3\\envs\\tflow\\lib\\site-packages\\scikeras\\wrappers.py:289: UserWarning: ``build_fn`` will be renamed to ``model`` in a future release, at which point use of ``build_fn`` will raise an Error instead.\n",
      "  warnings.warn(\n"
     ]
    },
    {
     "name": "stdout",
     "output_type": "stream",
     "text": [
      "Epoch 1/20\n",
      "99/99 [==============================] - 5s 29ms/step - loss: 0.7322 - accuracy: 0.5667 - val_loss: 0.6562 - val_accuracy: 0.5923\n",
      "Epoch 2/20\n",
      "99/99 [==============================] - 2s 21ms/step - loss: 0.6689 - accuracy: 0.6106 - val_loss: 0.6387 - val_accuracy: 0.6198\n",
      "Epoch 3/20\n",
      "99/99 [==============================] - 2s 20ms/step - loss: 0.6502 - accuracy: 0.6291 - val_loss: 0.6201 - val_accuracy: 0.6472\n",
      "Epoch 4/20\n",
      "99/99 [==============================] - 2s 20ms/step - loss: 0.6331 - accuracy: 0.6448 - val_loss: 0.6097 - val_accuracy: 0.6582\n",
      "Epoch 5/20\n",
      "99/99 [==============================] - 2s 20ms/step - loss: 0.6197 - accuracy: 0.6523 - val_loss: 0.6251 - val_accuracy: 0.6433\n",
      "Epoch 6/20\n",
      "99/99 [==============================] - 2s 20ms/step - loss: 0.6181 - accuracy: 0.6547 - val_loss: 0.6144 - val_accuracy: 0.6567\n",
      "Epoch 7/20\n",
      "99/99 [==============================] - 2s 21ms/step - loss: 0.6098 - accuracy: 0.6615 - val_loss: 0.6072 - val_accuracy: 0.6545\n",
      "Epoch 8/20\n",
      "99/99 [==============================] - 2s 21ms/step - loss: 0.6056 - accuracy: 0.6641 - val_loss: 0.6159 - val_accuracy: 0.6510\n",
      "Epoch 9/20\n",
      "99/99 [==============================] - 2s 22ms/step - loss: 0.6040 - accuracy: 0.6638 - val_loss: 0.6139 - val_accuracy: 0.6566\n",
      "Epoch 10/20\n",
      "99/99 [==============================] - 2s 21ms/step - loss: 0.6000 - accuracy: 0.6714 - val_loss: 0.6079 - val_accuracy: 0.6584\n",
      "Epoch 00010: early stopping\n",
      "50/50 [==============================] - 1s 7ms/step\n",
      "[CV 2/3] END dropout_rate=0.2, learning_rate=0.001, node_type=gru, nodes=[32, 32, 32];, score=0.656 total time=  26.9s\n"
     ]
    },
    {
     "name": "stderr",
     "output_type": "stream",
     "text": [
      "WARNING:absl:Found untraced functions such as gru_cell_1_layer_call_fn, gru_cell_1_layer_call_and_return_conditional_losses, gru_cell_1_layer_call_fn, gru_cell_1_layer_call_and_return_conditional_losses, gru_cell_1_layer_call_and_return_conditional_losses while saving (showing 5 of 5). These functions will not be directly callable after loading.\n"
     ]
    },
    {
     "name": "stdout",
     "output_type": "stream",
     "text": [
      "INFO:tensorflow:Assets written to: C:\\Users\\jared\\AppData\\Local\\Temp\\tmpci9uivci\\assets\n"
     ]
    },
    {
     "name": "stderr",
     "output_type": "stream",
     "text": [
      "INFO:tensorflow:Assets written to: C:\\Users\\jared\\AppData\\Local\\Temp\\tmpci9uivci\\assets\n",
      "WARNING:absl:<keras.layers.recurrent.GRUCell object at 0x0000017E0BBDADF0> has the same name 'GRUCell' as a built-in Keras object. Consider renaming <class 'keras.layers.recurrent.GRUCell'> to avoid naming conflicts when loading with `tf.keras.models.load_model`. If renaming is not possible, pass the object in the `custom_objects` parameter of the load function.\n",
      "C:\\Users\\jared\\anaconda3\\envs\\tflow\\lib\\site-packages\\scikeras\\wrappers.py:289: UserWarning: ``build_fn`` will be renamed to ``model`` in a future release, at which point use of ``build_fn`` will raise an Error instead.\n",
      "  warnings.warn(\n"
     ]
    },
    {
     "name": "stdout",
     "output_type": "stream",
     "text": [
      "Epoch 1/20\n",
      "99/99 [==============================] - 6s 30ms/step - loss: 0.7354 - accuracy: 0.5615 - val_loss: 0.6546 - val_accuracy: 0.6150\n",
      "Epoch 2/20\n",
      "99/99 [==============================] - 2s 21ms/step - loss: 0.6792 - accuracy: 0.6042 - val_loss: 0.6642 - val_accuracy: 0.5928\n",
      "Epoch 3/20\n",
      "99/99 [==============================] - 2s 21ms/step - loss: 0.6527 - accuracy: 0.6282 - val_loss: 0.6173 - val_accuracy: 0.6489\n",
      "Epoch 4/20\n",
      "99/99 [==============================] - 2s 21ms/step - loss: 0.6393 - accuracy: 0.6343 - val_loss: 0.6125 - val_accuracy: 0.6583\n",
      "Epoch 5/20\n",
      "99/99 [==============================] - 2s 20ms/step - loss: 0.6262 - accuracy: 0.6471 - val_loss: 0.6128 - val_accuracy: 0.6573\n",
      "Epoch 6/20\n",
      "99/99 [==============================] - 2s 20ms/step - loss: 0.6173 - accuracy: 0.6573 - val_loss: 0.6126 - val_accuracy: 0.6612\n",
      "Epoch 7/20\n",
      "99/99 [==============================] - 2s 21ms/step - loss: 0.6103 - accuracy: 0.6614 - val_loss: 0.6127 - val_accuracy: 0.6618\n",
      "Epoch 00007: early stopping\n",
      "50/50 [==============================] - 1s 7ms/step\n",
      "[CV 3/3] END dropout_rate=0.2, learning_rate=0.001, node_type=gru, nodes=[32, 32, 32];, score=0.658 total time=  20.8s\n"
     ]
    },
    {
     "name": "stderr",
     "output_type": "stream",
     "text": [
      "WARNING:absl:Found untraced functions such as gru_cell_1_layer_call_fn, gru_cell_1_layer_call_and_return_conditional_losses, gru_cell_1_layer_call_fn, gru_cell_1_layer_call_and_return_conditional_losses, gru_cell_1_layer_call_and_return_conditional_losses while saving (showing 5 of 5). These functions will not be directly callable after loading.\n"
     ]
    },
    {
     "name": "stdout",
     "output_type": "stream",
     "text": [
      "INFO:tensorflow:Assets written to: C:\\Users\\jared\\AppData\\Local\\Temp\\tmpz3cnb5tp\\assets\n"
     ]
    },
    {
     "name": "stderr",
     "output_type": "stream",
     "text": [
      "INFO:tensorflow:Assets written to: C:\\Users\\jared\\AppData\\Local\\Temp\\tmpz3cnb5tp\\assets\n",
      "WARNING:absl:<keras.layers.recurrent.GRUCell object at 0x0000017E0BBDADF0> has the same name 'GRUCell' as a built-in Keras object. Consider renaming <class 'keras.layers.recurrent.GRUCell'> to avoid naming conflicts when loading with `tf.keras.models.load_model`. If renaming is not possible, pass the object in the `custom_objects` parameter of the load function.\n",
      "C:\\Users\\jared\\anaconda3\\envs\\tflow\\lib\\site-packages\\scikeras\\wrappers.py:289: UserWarning: ``build_fn`` will be renamed to ``model`` in a future release, at which point use of ``build_fn`` will raise an Error instead.\n",
      "  warnings.warn(\n"
     ]
    },
    {
     "name": "stdout",
     "output_type": "stream",
     "text": [
      "Epoch 1/20\n",
      "99/99 [==============================] - 3s 23ms/step - loss: 0.7594 - accuracy: 0.5241 - val_loss: 0.6835 - val_accuracy: 0.5548\n",
      "Epoch 2/20\n",
      "99/99 [==============================] - 1s 13ms/step - loss: 0.6782 - accuracy: 0.5554 - val_loss: 0.6764 - val_accuracy: 0.5682\n",
      "Epoch 3/20\n",
      "99/99 [==============================] - 1s 14ms/step - loss: 0.6741 - accuracy: 0.5630 - val_loss: 0.6733 - val_accuracy: 0.5676\n",
      "Epoch 4/20\n",
      "99/99 [==============================] - 1s 13ms/step - loss: 0.6714 - accuracy: 0.5667 - val_loss: 0.6724 - val_accuracy: 0.5679\n",
      "Epoch 5/20\n",
      "99/99 [==============================] - 1s 13ms/step - loss: 0.6704 - accuracy: 0.5679 - val_loss: 0.6680 - val_accuracy: 0.5736\n",
      "Epoch 6/20\n",
      "99/99 [==============================] - 1s 14ms/step - loss: 0.6686 - accuracy: 0.5710 - val_loss: 0.6671 - val_accuracy: 0.5729\n",
      "Epoch 7/20\n",
      "99/99 [==============================] - 1s 14ms/step - loss: 0.6671 - accuracy: 0.5729 - val_loss: 0.6740 - val_accuracy: 0.5667\n",
      "Epoch 8/20\n",
      "99/99 [==============================] - 1s 13ms/step - loss: 0.6656 - accuracy: 0.5737 - val_loss: 0.6754 - val_accuracy: 0.5668\n",
      "Epoch 9/20\n",
      "99/99 [==============================] - 1s 14ms/step - loss: 0.6635 - accuracy: 0.5783 - val_loss: 0.6687 - val_accuracy: 0.5748\n",
      "Epoch 00009: early stopping\n",
      "50/50 [==============================] - 0s 5ms/step\n",
      "[CV 1/3] END dropout_rate=0.2, learning_rate=0.01, node_type=lstm, nodes=[128];, score=nan total time=  16.3s\n"
     ]
    },
    {
     "name": "stderr",
     "output_type": "stream",
     "text": [
      "C:\\Users\\jared\\anaconda3\\envs\\tflow\\lib\\site-packages\\sklearn\\model_selection\\_validation.py:771: UserWarning: Scoring failed. The score on this train-test partition for these parameters will be set to nan. Details: \n",
      "Traceback (most recent call last):\n",
      "  File \"C:\\Users\\jared\\anaconda3\\envs\\tflow\\lib\\site-packages\\sklearn\\model_selection\\_validation.py\", line 762, in _score\n",
      "    scores = scorer(estimator, X_test, y_test)\n",
      "  File \"C:\\Users\\jared\\anaconda3\\envs\\tflow\\lib\\site-packages\\sklearn\\metrics\\_scorer.py\", line 216, in __call__\n",
      "    return self._score(\n",
      "  File \"C:\\Users\\jared\\anaconda3\\envs\\tflow\\lib\\site-packages\\sklearn\\metrics\\_scorer.py\", line 258, in _score\n",
      "    y_pred = method_caller(estimator, \"predict\", X)\n",
      "  File \"C:\\Users\\jared\\anaconda3\\envs\\tflow\\lib\\site-packages\\sklearn\\metrics\\_scorer.py\", line 68, in _cached_call\n",
      "    return getattr(estimator, method)(*args, **kwargs)\n",
      "  File \"C:\\Users\\jared\\anaconda3\\envs\\tflow\\lib\\site-packages\\scikeras\\wrappers.py\", line 1013, in predict\n",
      "    y_pred = self.target_encoder_.inverse_transform(y_pred)\n",
      "  File \"C:\\Users\\jared\\anaconda3\\envs\\tflow\\lib\\site-packages\\scikeras\\utils\\transformers.py\", line 257, in inverse_transform\n",
      "    class_predictions = self._final_encoder.inverse_transform(class_predictions)\n",
      "  File \"C:\\Users\\jared\\anaconda3\\envs\\tflow\\lib\\site-packages\\sklearn\\utils\\metaestimators.py\", line 113, in <lambda>\n",
      "    out = lambda *args, **kwargs: self.fn(obj, *args, **kwargs)  # noqa\n",
      "  File \"C:\\Users\\jared\\anaconda3\\envs\\tflow\\lib\\site-packages\\sklearn\\pipeline.py\", line 675, in inverse_transform\n",
      "    Xt = transform.inverse_transform(Xt)\n",
      "  File \"C:\\Users\\jared\\anaconda3\\envs\\tflow\\lib\\site-packages\\sklearn\\preprocessing\\_encoders.py\", line 990, in inverse_transform\n",
      "    X_tr[:, i] = self.categories_[i][labels]\n",
      "IndexError: index 40 is out of bounds for axis 0 with size 2\n",
      "\n",
      "  warnings.warn(\n",
      "WARNING:absl:Found untraced functions such as gru_cell_1_layer_call_fn, gru_cell_1_layer_call_and_return_conditional_losses, gru_cell_1_layer_call_fn, gru_cell_1_layer_call_and_return_conditional_losses, gru_cell_1_layer_call_and_return_conditional_losses while saving (showing 5 of 5). These functions will not be directly callable after loading.\n"
     ]
    },
    {
     "name": "stdout",
     "output_type": "stream",
     "text": [
      "INFO:tensorflow:Assets written to: C:\\Users\\jared\\AppData\\Local\\Temp\\tmp3rcg_f4u\\assets\n"
     ]
    },
    {
     "name": "stderr",
     "output_type": "stream",
     "text": [
      "INFO:tensorflow:Assets written to: C:\\Users\\jared\\AppData\\Local\\Temp\\tmp3rcg_f4u\\assets\n",
      "WARNING:absl:<keras.layers.recurrent.GRUCell object at 0x0000017E0BBDADF0> has the same name 'GRUCell' as a built-in Keras object. Consider renaming <class 'keras.layers.recurrent.GRUCell'> to avoid naming conflicts when loading with `tf.keras.models.load_model`. If renaming is not possible, pass the object in the `custom_objects` parameter of the load function.\n",
      "C:\\Users\\jared\\anaconda3\\envs\\tflow\\lib\\site-packages\\scikeras\\wrappers.py:289: UserWarning: ``build_fn`` will be renamed to ``model`` in a future release, at which point use of ``build_fn`` will raise an Error instead.\n",
      "  warnings.warn(\n"
     ]
    },
    {
     "name": "stdout",
     "output_type": "stream",
     "text": [
      "Epoch 1/20\n",
      "99/99 [==============================] - 3s 20ms/step - loss: 0.7328 - accuracy: 0.5263 - val_loss: 0.6827 - val_accuracy: 0.5505\n",
      "Epoch 2/20\n",
      "99/99 [==============================] - 1s 13ms/step - loss: 0.6784 - accuracy: 0.5544 - val_loss: 0.6769 - val_accuracy: 0.5630\n",
      "Epoch 3/20\n",
      "99/99 [==============================] - 1s 14ms/step - loss: 0.6737 - accuracy: 0.5635 - val_loss: 0.6737 - val_accuracy: 0.5692\n",
      "Epoch 4/20\n",
      "99/99 [==============================] - 1s 13ms/step - loss: 0.6711 - accuracy: 0.5675 - val_loss: 0.6682 - val_accuracy: 0.5741\n",
      "Epoch 5/20\n",
      "99/99 [==============================] - 1s 13ms/step - loss: 0.6701 - accuracy: 0.5687 - val_loss: 0.6701 - val_accuracy: 0.5658\n",
      "Epoch 6/20\n",
      "99/99 [==============================] - 1s 13ms/step - loss: 0.6668 - accuracy: 0.5749 - val_loss: 0.6706 - val_accuracy: 0.5726\n",
      "Epoch 7/20\n",
      "99/99 [==============================] - 1s 13ms/step - loss: 0.6661 - accuracy: 0.5734 - val_loss: 0.6668 - val_accuracy: 0.5707\n",
      "Epoch 8/20\n",
      "99/99 [==============================] - 1s 13ms/step - loss: 0.6635 - accuracy: 0.5757 - val_loss: 0.6689 - val_accuracy: 0.5717\n",
      "Epoch 9/20\n",
      "99/99 [==============================] - 1s 13ms/step - loss: 0.6622 - accuracy: 0.5779 - val_loss: 0.6760 - val_accuracy: 0.5574\n",
      "Epoch 10/20\n",
      "99/99 [==============================] - 1s 13ms/step - loss: 0.6590 - accuracy: 0.5822 - val_loss: 0.6707 - val_accuracy: 0.5692\n",
      "Epoch 00010: early stopping\n",
      "50/50 [==============================] - 0s 5ms/step\n",
      "[CV 2/3] END dropout_rate=0.2, learning_rate=0.01, node_type=lstm, nodes=[128];, score=nan total time=  17.4s\n"
     ]
    },
    {
     "name": "stderr",
     "output_type": "stream",
     "text": [
      "C:\\Users\\jared\\anaconda3\\envs\\tflow\\lib\\site-packages\\sklearn\\model_selection\\_validation.py:771: UserWarning: Scoring failed. The score on this train-test partition for these parameters will be set to nan. Details: \n",
      "Traceback (most recent call last):\n",
      "  File \"C:\\Users\\jared\\anaconda3\\envs\\tflow\\lib\\site-packages\\sklearn\\model_selection\\_validation.py\", line 762, in _score\n",
      "    scores = scorer(estimator, X_test, y_test)\n",
      "  File \"C:\\Users\\jared\\anaconda3\\envs\\tflow\\lib\\site-packages\\sklearn\\metrics\\_scorer.py\", line 216, in __call__\n",
      "    return self._score(\n",
      "  File \"C:\\Users\\jared\\anaconda3\\envs\\tflow\\lib\\site-packages\\sklearn\\metrics\\_scorer.py\", line 258, in _score\n",
      "    y_pred = method_caller(estimator, \"predict\", X)\n",
      "  File \"C:\\Users\\jared\\anaconda3\\envs\\tflow\\lib\\site-packages\\sklearn\\metrics\\_scorer.py\", line 68, in _cached_call\n",
      "    return getattr(estimator, method)(*args, **kwargs)\n",
      "  File \"C:\\Users\\jared\\anaconda3\\envs\\tflow\\lib\\site-packages\\scikeras\\wrappers.py\", line 1013, in predict\n",
      "    y_pred = self.target_encoder_.inverse_transform(y_pred)\n",
      "  File \"C:\\Users\\jared\\anaconda3\\envs\\tflow\\lib\\site-packages\\scikeras\\utils\\transformers.py\", line 257, in inverse_transform\n",
      "    class_predictions = self._final_encoder.inverse_transform(class_predictions)\n",
      "  File \"C:\\Users\\jared\\anaconda3\\envs\\tflow\\lib\\site-packages\\sklearn\\utils\\metaestimators.py\", line 113, in <lambda>\n",
      "    out = lambda *args, **kwargs: self.fn(obj, *args, **kwargs)  # noqa\n",
      "  File \"C:\\Users\\jared\\anaconda3\\envs\\tflow\\lib\\site-packages\\sklearn\\pipeline.py\", line 675, in inverse_transform\n",
      "    Xt = transform.inverse_transform(Xt)\n",
      "  File \"C:\\Users\\jared\\anaconda3\\envs\\tflow\\lib\\site-packages\\sklearn\\preprocessing\\_encoders.py\", line 990, in inverse_transform\n",
      "    X_tr[:, i] = self.categories_[i][labels]\n",
      "IndexError: index 57 is out of bounds for axis 0 with size 2\n",
      "\n",
      "  warnings.warn(\n",
      "WARNING:absl:Found untraced functions such as gru_cell_1_layer_call_fn, gru_cell_1_layer_call_and_return_conditional_losses, gru_cell_1_layer_call_fn, gru_cell_1_layer_call_and_return_conditional_losses, gru_cell_1_layer_call_and_return_conditional_losses while saving (showing 5 of 5). These functions will not be directly callable after loading.\n"
     ]
    },
    {
     "name": "stdout",
     "output_type": "stream",
     "text": [
      "INFO:tensorflow:Assets written to: C:\\Users\\jared\\AppData\\Local\\Temp\\tmp01pb8zeh\\assets\n"
     ]
    },
    {
     "name": "stderr",
     "output_type": "stream",
     "text": [
      "INFO:tensorflow:Assets written to: C:\\Users\\jared\\AppData\\Local\\Temp\\tmp01pb8zeh\\assets\n",
      "WARNING:absl:<keras.layers.recurrent.GRUCell object at 0x0000017E0BBDADF0> has the same name 'GRUCell' as a built-in Keras object. Consider renaming <class 'keras.layers.recurrent.GRUCell'> to avoid naming conflicts when loading with `tf.keras.models.load_model`. If renaming is not possible, pass the object in the `custom_objects` parameter of the load function.\n",
      "C:\\Users\\jared\\anaconda3\\envs\\tflow\\lib\\site-packages\\scikeras\\wrappers.py:289: UserWarning: ``build_fn`` will be renamed to ``model`` in a future release, at which point use of ``build_fn`` will raise an Error instead.\n",
      "  warnings.warn(\n"
     ]
    },
    {
     "name": "stdout",
     "output_type": "stream",
     "text": [
      "Epoch 1/20\n",
      "99/99 [==============================] - 3s 20ms/step - loss: 0.7842 - accuracy: 0.5194 - val_loss: 0.6848 - val_accuracy: 0.5388\n",
      "Epoch 2/20\n",
      "99/99 [==============================] - 1s 13ms/step - loss: 0.6809 - accuracy: 0.5484 - val_loss: 0.6774 - val_accuracy: 0.5629\n",
      "Epoch 3/20\n",
      "99/99 [==============================] - 1s 13ms/step - loss: 0.6741 - accuracy: 0.5636 - val_loss: 0.6715 - val_accuracy: 0.5706\n",
      "Epoch 4/20\n",
      "99/99 [==============================] - 1s 13ms/step - loss: 0.6719 - accuracy: 0.5654 - val_loss: 0.6696 - val_accuracy: 0.5752\n",
      "Epoch 5/20\n",
      "99/99 [==============================] - 1s 13ms/step - loss: 0.6702 - accuracy: 0.5686 - val_loss: 0.6686 - val_accuracy: 0.5757\n",
      "Epoch 6/20\n",
      "99/99 [==============================] - 1s 13ms/step - loss: 0.6679 - accuracy: 0.5734 - val_loss: 0.6676 - val_accuracy: 0.5737\n",
      "Epoch 7/20\n",
      "99/99 [==============================] - 1s 13ms/step - loss: 0.6680 - accuracy: 0.5723 - val_loss: 0.6711 - val_accuracy: 0.5673\n",
      "Epoch 8/20\n",
      "99/99 [==============================] - 1s 13ms/step - loss: 0.6661 - accuracy: 0.5736 - val_loss: 0.6659 - val_accuracy: 0.5769\n",
      "Epoch 9/20\n",
      "99/99 [==============================] - 1s 13ms/step - loss: 0.6633 - accuracy: 0.5783 - val_loss: 0.6674 - val_accuracy: 0.5728\n",
      "Epoch 10/20\n",
      "99/99 [==============================] - 1s 13ms/step - loss: 0.6621 - accuracy: 0.5786 - val_loss: 0.6762 - val_accuracy: 0.5517\n",
      "Epoch 11/20\n",
      "99/99 [==============================] - 1s 13ms/step - loss: 0.6594 - accuracy: 0.5820 - val_loss: 0.6749 - val_accuracy: 0.5714\n",
      "Epoch 00011: early stopping\n",
      "50/50 [==============================] - 0s 5ms/step\n",
      "[CV 3/3] END dropout_rate=0.2, learning_rate=0.01, node_type=lstm, nodes=[128];, score=nan total time=  18.3s\n"
     ]
    },
    {
     "name": "stderr",
     "output_type": "stream",
     "text": [
      "C:\\Users\\jared\\anaconda3\\envs\\tflow\\lib\\site-packages\\sklearn\\model_selection\\_validation.py:771: UserWarning: Scoring failed. The score on this train-test partition for these parameters will be set to nan. Details: \n",
      "Traceback (most recent call last):\n",
      "  File \"C:\\Users\\jared\\anaconda3\\envs\\tflow\\lib\\site-packages\\sklearn\\model_selection\\_validation.py\", line 762, in _score\n",
      "    scores = scorer(estimator, X_test, y_test)\n",
      "  File \"C:\\Users\\jared\\anaconda3\\envs\\tflow\\lib\\site-packages\\sklearn\\metrics\\_scorer.py\", line 216, in __call__\n",
      "    return self._score(\n",
      "  File \"C:\\Users\\jared\\anaconda3\\envs\\tflow\\lib\\site-packages\\sklearn\\metrics\\_scorer.py\", line 258, in _score\n",
      "    y_pred = method_caller(estimator, \"predict\", X)\n",
      "  File \"C:\\Users\\jared\\anaconda3\\envs\\tflow\\lib\\site-packages\\sklearn\\metrics\\_scorer.py\", line 68, in _cached_call\n",
      "    return getattr(estimator, method)(*args, **kwargs)\n",
      "  File \"C:\\Users\\jared\\anaconda3\\envs\\tflow\\lib\\site-packages\\scikeras\\wrappers.py\", line 1013, in predict\n",
      "    y_pred = self.target_encoder_.inverse_transform(y_pred)\n",
      "  File \"C:\\Users\\jared\\anaconda3\\envs\\tflow\\lib\\site-packages\\scikeras\\utils\\transformers.py\", line 257, in inverse_transform\n",
      "    class_predictions = self._final_encoder.inverse_transform(class_predictions)\n",
      "  File \"C:\\Users\\jared\\anaconda3\\envs\\tflow\\lib\\site-packages\\sklearn\\utils\\metaestimators.py\", line 113, in <lambda>\n",
      "    out = lambda *args, **kwargs: self.fn(obj, *args, **kwargs)  # noqa\n",
      "  File \"C:\\Users\\jared\\anaconda3\\envs\\tflow\\lib\\site-packages\\sklearn\\pipeline.py\", line 675, in inverse_transform\n",
      "    Xt = transform.inverse_transform(Xt)\n",
      "  File \"C:\\Users\\jared\\anaconda3\\envs\\tflow\\lib\\site-packages\\sklearn\\preprocessing\\_encoders.py\", line 990, in inverse_transform\n",
      "    X_tr[:, i] = self.categories_[i][labels]\n",
      "IndexError: index 58 is out of bounds for axis 0 with size 2\n",
      "\n",
      "  warnings.warn(\n",
      "WARNING:absl:Found untraced functions such as gru_cell_1_layer_call_fn, gru_cell_1_layer_call_and_return_conditional_losses, gru_cell_1_layer_call_fn, gru_cell_1_layer_call_and_return_conditional_losses, gru_cell_1_layer_call_and_return_conditional_losses while saving (showing 5 of 5). These functions will not be directly callable after loading.\n"
     ]
    },
    {
     "name": "stdout",
     "output_type": "stream",
     "text": [
      "INFO:tensorflow:Assets written to: C:\\Users\\jared\\AppData\\Local\\Temp\\tmpo8h_2rl5\\assets\n"
     ]
    },
    {
     "name": "stderr",
     "output_type": "stream",
     "text": [
      "INFO:tensorflow:Assets written to: C:\\Users\\jared\\AppData\\Local\\Temp\\tmpo8h_2rl5\\assets\n",
      "WARNING:absl:<keras.layers.recurrent.GRUCell object at 0x0000017E0BBDADF0> has the same name 'GRUCell' as a built-in Keras object. Consider renaming <class 'keras.layers.recurrent.GRUCell'> to avoid naming conflicts when loading with `tf.keras.models.load_model`. If renaming is not possible, pass the object in the `custom_objects` parameter of the load function.\n",
      "C:\\Users\\jared\\anaconda3\\envs\\tflow\\lib\\site-packages\\scikeras\\wrappers.py:289: UserWarning: ``build_fn`` will be renamed to ``model`` in a future release, at which point use of ``build_fn`` will raise an Error instead.\n",
      "  warnings.warn(\n"
     ]
    },
    {
     "name": "stdout",
     "output_type": "stream",
     "text": [
      "Epoch 1/20\n",
      "99/99 [==============================] - 4s 28ms/step - loss: 0.6843 - accuracy: 0.5803 - val_loss: 0.6921 - val_accuracy: 0.5138\n",
      "Epoch 2/20\n",
      "99/99 [==============================] - 2s 16ms/step - loss: 0.6355 - accuracy: 0.6365 - val_loss: 0.6694 - val_accuracy: 0.5749\n",
      "Epoch 3/20\n",
      "99/99 [==============================] - 2s 16ms/step - loss: 0.6316 - accuracy: 0.6377 - val_loss: 0.6370 - val_accuracy: 0.6466\n",
      "Epoch 4/20\n",
      "99/99 [==============================] - 2s 16ms/step - loss: 0.6269 - accuracy: 0.6526 - val_loss: 0.6261 - val_accuracy: 0.6403\n",
      "Epoch 5/20\n",
      "99/99 [==============================] - 2s 17ms/step - loss: 0.6221 - accuracy: 0.6495 - val_loss: 0.6537 - val_accuracy: 0.6124\n",
      "Epoch 6/20\n",
      "99/99 [==============================] - 2s 17ms/step - loss: 0.6181 - accuracy: 0.6492 - val_loss: 0.6112 - val_accuracy: 0.6613\n",
      "Epoch 7/20\n",
      "99/99 [==============================] - 2s 17ms/step - loss: 0.6159 - accuracy: 0.6597 - val_loss: 0.6231 - val_accuracy: 0.6517\n",
      "Epoch 8/20\n",
      "99/99 [==============================] - 2s 17ms/step - loss: 0.6144 - accuracy: 0.6584 - val_loss: 0.6272 - val_accuracy: 0.6504\n",
      "Epoch 9/20\n",
      "99/99 [==============================] - 2s 17ms/step - loss: 0.6075 - accuracy: 0.6593 - val_loss: 0.6475 - val_accuracy: 0.6142\n",
      "Epoch 00009: early stopping\n",
      "50/50 [==============================] - 1s 6ms/step\n",
      "[CV 1/3] END dropout_rate=0.2, learning_rate=0.01, node_type=lstm, nodes=[64, 64];, score=0.615 total time=  20.4s\n"
     ]
    },
    {
     "name": "stderr",
     "output_type": "stream",
     "text": [
      "WARNING:absl:Found untraced functions such as gru_cell_1_layer_call_fn, gru_cell_1_layer_call_and_return_conditional_losses, gru_cell_1_layer_call_fn, gru_cell_1_layer_call_and_return_conditional_losses, gru_cell_1_layer_call_and_return_conditional_losses while saving (showing 5 of 5). These functions will not be directly callable after loading.\n"
     ]
    },
    {
     "name": "stdout",
     "output_type": "stream",
     "text": [
      "INFO:tensorflow:Assets written to: C:\\Users\\jared\\AppData\\Local\\Temp\\tmpt5o01gyw\\assets\n"
     ]
    },
    {
     "name": "stderr",
     "output_type": "stream",
     "text": [
      "INFO:tensorflow:Assets written to: C:\\Users\\jared\\AppData\\Local\\Temp\\tmpt5o01gyw\\assets\n",
      "WARNING:absl:<keras.layers.recurrent.GRUCell object at 0x0000017E0BBDADF0> has the same name 'GRUCell' as a built-in Keras object. Consider renaming <class 'keras.layers.recurrent.GRUCell'> to avoid naming conflicts when loading with `tf.keras.models.load_model`. If renaming is not possible, pass the object in the `custom_objects` parameter of the load function.\n",
      "C:\\Users\\jared\\anaconda3\\envs\\tflow\\lib\\site-packages\\scikeras\\wrappers.py:289: UserWarning: ``build_fn`` will be renamed to ``model`` in a future release, at which point use of ``build_fn`` will raise an Error instead.\n",
      "  warnings.warn(\n"
     ]
    },
    {
     "name": "stdout",
     "output_type": "stream",
     "text": [
      "Epoch 1/20\n",
      "99/99 [==============================] - 4s 26ms/step - loss: 0.6923 - accuracy: 0.5827 - val_loss: 0.6815 - val_accuracy: 0.5488\n",
      "Epoch 2/20\n",
      "99/99 [==============================] - 2s 17ms/step - loss: 0.6399 - accuracy: 0.6309 - val_loss: 0.6419 - val_accuracy: 0.6483\n",
      "Epoch 3/20\n",
      "99/99 [==============================] - 2s 17ms/step - loss: 0.6301 - accuracy: 0.6457 - val_loss: 0.6215 - val_accuracy: 0.6526\n",
      "Epoch 4/20\n",
      "99/99 [==============================] - 2s 17ms/step - loss: 0.6259 - accuracy: 0.6466 - val_loss: 0.6310 - val_accuracy: 0.6277\n",
      "Epoch 5/20\n",
      "99/99 [==============================] - 2s 17ms/step - loss: 0.6208 - accuracy: 0.6495 - val_loss: 0.6215 - val_accuracy: 0.6507\n",
      "Epoch 6/20\n",
      "99/99 [==============================] - 2s 17ms/step - loss: 0.6187 - accuracy: 0.6552 - val_loss: 0.6248 - val_accuracy: 0.6369\n",
      "Epoch 7/20\n",
      "99/99 [==============================] - 2s 17ms/step - loss: 0.6130 - accuracy: 0.6622 - val_loss: 0.6415 - val_accuracy: 0.6318\n",
      "Epoch 8/20\n",
      "99/99 [==============================] - 2s 17ms/step - loss: 0.6123 - accuracy: 0.6581 - val_loss: 0.6131 - val_accuracy: 0.6565\n",
      "Epoch 9/20\n",
      "99/99 [==============================] - 2s 17ms/step - loss: 0.6125 - accuracy: 0.6577 - val_loss: 0.6198 - val_accuracy: 0.6589\n",
      "Epoch 10/20\n",
      "99/99 [==============================] - 2s 17ms/step - loss: 0.6090 - accuracy: 0.6657 - val_loss: 0.6192 - val_accuracy: 0.6488\n",
      "Epoch 11/20\n",
      "99/99 [==============================] - 2s 17ms/step - loss: 0.6059 - accuracy: 0.6691 - val_loss: 0.6558 - val_accuracy: 0.5975\n",
      "Epoch 00011: early stopping\n",
      "50/50 [==============================] - 1s 6ms/step\n",
      "[CV 2/3] END dropout_rate=0.2, learning_rate=0.01, node_type=lstm, nodes=[64, 64];, score=0.588 total time=  23.7s\n"
     ]
    },
    {
     "name": "stderr",
     "output_type": "stream",
     "text": [
      "WARNING:absl:Found untraced functions such as gru_cell_1_layer_call_fn, gru_cell_1_layer_call_and_return_conditional_losses, gru_cell_1_layer_call_fn, gru_cell_1_layer_call_and_return_conditional_losses, gru_cell_1_layer_call_and_return_conditional_losses while saving (showing 5 of 5). These functions will not be directly callable after loading.\n"
     ]
    },
    {
     "name": "stdout",
     "output_type": "stream",
     "text": [
      "INFO:tensorflow:Assets written to: C:\\Users\\jared\\AppData\\Local\\Temp\\tmpnbhlqws1\\assets\n"
     ]
    },
    {
     "name": "stderr",
     "output_type": "stream",
     "text": [
      "INFO:tensorflow:Assets written to: C:\\Users\\jared\\AppData\\Local\\Temp\\tmpnbhlqws1\\assets\n",
      "WARNING:absl:<keras.layers.recurrent.GRUCell object at 0x0000017E0BBDADF0> has the same name 'GRUCell' as a built-in Keras object. Consider renaming <class 'keras.layers.recurrent.GRUCell'> to avoid naming conflicts when loading with `tf.keras.models.load_model`. If renaming is not possible, pass the object in the `custom_objects` parameter of the load function.\n",
      "C:\\Users\\jared\\anaconda3\\envs\\tflow\\lib\\site-packages\\scikeras\\wrappers.py:289: UserWarning: ``build_fn`` will be renamed to ``model`` in a future release, at which point use of ``build_fn`` will raise an Error instead.\n",
      "  warnings.warn(\n"
     ]
    },
    {
     "name": "stdout",
     "output_type": "stream",
     "text": [
      "Epoch 1/20\n",
      "99/99 [==============================] - 4s 24ms/step - loss: 0.6887 - accuracy: 0.5950 - val_loss: 0.6674 - val_accuracy: 0.6227\n",
      "Epoch 2/20\n",
      "99/99 [==============================] - 2s 16ms/step - loss: 0.6389 - accuracy: 0.6355 - val_loss: 0.6584 - val_accuracy: 0.6135\n",
      "Epoch 3/20\n",
      "99/99 [==============================] - 2s 17ms/step - loss: 0.6305 - accuracy: 0.6504 - val_loss: 0.6293 - val_accuracy: 0.6480\n",
      "Epoch 4/20\n",
      "99/99 [==============================] - 2s 20ms/step - loss: 0.6229 - accuracy: 0.6516 - val_loss: 0.7248 - val_accuracy: 0.5693\n",
      "Epoch 5/20\n",
      "99/99 [==============================] - 2s 17ms/step - loss: 0.6217 - accuracy: 0.6527 - val_loss: 0.6174 - val_accuracy: 0.6505\n",
      "Epoch 6/20\n",
      "99/99 [==============================] - 2s 17ms/step - loss: 0.6147 - accuracy: 0.6550 - val_loss: 0.6240 - val_accuracy: 0.6473\n",
      "Epoch 7/20\n",
      "99/99 [==============================] - 2s 17ms/step - loss: 0.6183 - accuracy: 0.6547 - val_loss: 0.6239 - val_accuracy: 0.6460\n",
      "Epoch 8/20\n",
      "99/99 [==============================] - 2s 17ms/step - loss: 0.6131 - accuracy: 0.6604 - val_loss: 0.6478 - val_accuracy: 0.6317\n",
      "Epoch 00008: early stopping\n",
      "50/50 [==============================] - 1s 5ms/step\n",
      "[CV 3/3] END dropout_rate=0.2, learning_rate=0.01, node_type=lstm, nodes=[64, 64];, score=0.636 total time=  18.8s\n"
     ]
    },
    {
     "name": "stderr",
     "output_type": "stream",
     "text": [
      "WARNING:absl:Found untraced functions such as gru_cell_1_layer_call_fn, gru_cell_1_layer_call_and_return_conditional_losses, gru_cell_1_layer_call_fn, gru_cell_1_layer_call_and_return_conditional_losses, gru_cell_1_layer_call_and_return_conditional_losses while saving (showing 5 of 5). These functions will not be directly callable after loading.\n"
     ]
    },
    {
     "name": "stdout",
     "output_type": "stream",
     "text": [
      "INFO:tensorflow:Assets written to: C:\\Users\\jared\\AppData\\Local\\Temp\\tmpjssa_r6k\\assets\n"
     ]
    },
    {
     "name": "stderr",
     "output_type": "stream",
     "text": [
      "INFO:tensorflow:Assets written to: C:\\Users\\jared\\AppData\\Local\\Temp\\tmpjssa_r6k\\assets\n",
      "WARNING:absl:<keras.layers.recurrent.GRUCell object at 0x0000017E0BBDADF0> has the same name 'GRUCell' as a built-in Keras object. Consider renaming <class 'keras.layers.recurrent.GRUCell'> to avoid naming conflicts when loading with `tf.keras.models.load_model`. If renaming is not possible, pass the object in the `custom_objects` parameter of the load function.\n",
      "C:\\Users\\jared\\anaconda3\\envs\\tflow\\lib\\site-packages\\scikeras\\wrappers.py:289: UserWarning: ``build_fn`` will be renamed to ``model`` in a future release, at which point use of ``build_fn`` will raise an Error instead.\n",
      "  warnings.warn(\n"
     ]
    },
    {
     "name": "stdout",
     "output_type": "stream",
     "text": [
      "Epoch 1/20\n",
      "99/99 [==============================] - 6s 31ms/step - loss: 0.7068 - accuracy: 0.5692 - val_loss: 0.6742 - val_accuracy: 0.6184\n",
      "Epoch 2/20\n",
      "99/99 [==============================] - 2s 21ms/step - loss: 0.6437 - accuracy: 0.6286 - val_loss: 0.6435 - val_accuracy: 0.6333\n",
      "Epoch 3/20\n",
      "99/99 [==============================] - 2s 21ms/step - loss: 0.6281 - accuracy: 0.6531 - val_loss: 0.6346 - val_accuracy: 0.6460\n",
      "Epoch 4/20\n",
      "99/99 [==============================] - 2s 21ms/step - loss: 0.6194 - accuracy: 0.6567 - val_loss: 0.6262 - val_accuracy: 0.6411\n",
      "Epoch 5/20\n",
      "99/99 [==============================] - 2s 21ms/step - loss: 0.6199 - accuracy: 0.6572 - val_loss: 0.6467 - val_accuracy: 0.5994\n",
      "Epoch 6/20\n",
      "99/99 [==============================] - 2s 22ms/step - loss: 0.6169 - accuracy: 0.6565 - val_loss: 0.6262 - val_accuracy: 0.6422\n",
      "Epoch 7/20\n",
      "99/99 [==============================] - 2s 22ms/step - loss: 0.6164 - accuracy: 0.6621 - val_loss: 0.6130 - val_accuracy: 0.6592\n",
      "Epoch 8/20\n",
      "99/99 [==============================] - 2s 21ms/step - loss: 0.6101 - accuracy: 0.6626 - val_loss: 0.6495 - val_accuracy: 0.6282\n",
      "Epoch 9/20\n",
      "99/99 [==============================] - 2s 20ms/step - loss: 0.6093 - accuracy: 0.6636 - val_loss: 0.6269 - val_accuracy: 0.6536\n",
      "Epoch 10/20\n",
      "99/99 [==============================] - 2s 22ms/step - loss: 0.6090 - accuracy: 0.6623 - val_loss: 0.6280 - val_accuracy: 0.6443\n",
      "Epoch 00010: early stopping\n",
      "50/50 [==============================] - 1s 7ms/step\n",
      "[CV 1/3] END dropout_rate=0.2, learning_rate=0.01, node_type=lstm, nodes=[32, 32, 32];, score=0.644 total time=  28.0s\n"
     ]
    },
    {
     "name": "stderr",
     "output_type": "stream",
     "text": [
      "WARNING:absl:Found untraced functions such as gru_cell_1_layer_call_fn, gru_cell_1_layer_call_and_return_conditional_losses, gru_cell_1_layer_call_fn, gru_cell_1_layer_call_and_return_conditional_losses, gru_cell_1_layer_call_and_return_conditional_losses while saving (showing 5 of 5). These functions will not be directly callable after loading.\n"
     ]
    },
    {
     "name": "stdout",
     "output_type": "stream",
     "text": [
      "INFO:tensorflow:Assets written to: C:\\Users\\jared\\AppData\\Local\\Temp\\tmpdmly2dm8\\assets\n"
     ]
    },
    {
     "name": "stderr",
     "output_type": "stream",
     "text": [
      "INFO:tensorflow:Assets written to: C:\\Users\\jared\\AppData\\Local\\Temp\\tmpdmly2dm8\\assets\n",
      "WARNING:absl:<keras.layers.recurrent.GRUCell object at 0x0000017E0BBDADF0> has the same name 'GRUCell' as a built-in Keras object. Consider renaming <class 'keras.layers.recurrent.GRUCell'> to avoid naming conflicts when loading with `tf.keras.models.load_model`. If renaming is not possible, pass the object in the `custom_objects` parameter of the load function.\n",
      "C:\\Users\\jared\\anaconda3\\envs\\tflow\\lib\\site-packages\\scikeras\\wrappers.py:289: UserWarning: ``build_fn`` will be renamed to ``model`` in a future release, at which point use of ``build_fn`` will raise an Error instead.\n",
      "  warnings.warn(\n"
     ]
    },
    {
     "name": "stdout",
     "output_type": "stream",
     "text": [
      "Epoch 1/20\n",
      "99/99 [==============================] - 6s 31ms/step - loss: 0.7137 - accuracy: 0.5534 - val_loss: 0.6710 - val_accuracy: 0.6024\n",
      "Epoch 2/20\n",
      "99/99 [==============================] - 2s 21ms/step - loss: 0.6471 - accuracy: 0.6252 - val_loss: 0.6445 - val_accuracy: 0.6385\n",
      "Epoch 3/20\n",
      "99/99 [==============================] - 2s 20ms/step - loss: 0.6311 - accuracy: 0.6408 - val_loss: 0.6335 - val_accuracy: 0.6444\n",
      "Epoch 4/20\n",
      "99/99 [==============================] - 2s 20ms/step - loss: 0.6245 - accuracy: 0.6497 - val_loss: 0.6281 - val_accuracy: 0.6481\n",
      "Epoch 5/20\n",
      "99/99 [==============================] - 2s 21ms/step - loss: 0.6194 - accuracy: 0.6535 - val_loss: 0.6224 - val_accuracy: 0.6523\n",
      "Epoch 6/20\n",
      "99/99 [==============================] - 2s 21ms/step - loss: 0.6198 - accuracy: 0.6501 - val_loss: 0.6165 - val_accuracy: 0.6637\n",
      "Epoch 7/20\n",
      "99/99 [==============================] - 2s 21ms/step - loss: 0.6124 - accuracy: 0.6574 - val_loss: 0.6155 - val_accuracy: 0.6566\n",
      "Epoch 8/20\n",
      "99/99 [==============================] - 2s 21ms/step - loss: 0.6118 - accuracy: 0.6550 - val_loss: 0.6169 - val_accuracy: 0.6577\n",
      "Epoch 9/20\n",
      "99/99 [==============================] - 2s 19ms/step - loss: 0.6057 - accuracy: 0.6622 - val_loss: 0.6331 - val_accuracy: 0.6356\n",
      "Epoch 10/20\n",
      "99/99 [==============================] - 2s 20ms/step - loss: 0.6070 - accuracy: 0.6623 - val_loss: 0.6312 - val_accuracy: 0.6517\n",
      "Epoch 00010: early stopping\n",
      "50/50 [==============================] - 1s 7ms/step\n",
      "[CV 2/3] END dropout_rate=0.2, learning_rate=0.01, node_type=lstm, nodes=[32, 32, 32];, score=0.644 total time=  27.5s\n"
     ]
    },
    {
     "name": "stderr",
     "output_type": "stream",
     "text": [
      "WARNING:absl:Found untraced functions such as gru_cell_1_layer_call_fn, gru_cell_1_layer_call_and_return_conditional_losses, gru_cell_1_layer_call_fn, gru_cell_1_layer_call_and_return_conditional_losses, gru_cell_1_layer_call_and_return_conditional_losses while saving (showing 5 of 5). These functions will not be directly callable after loading.\n"
     ]
    },
    {
     "name": "stdout",
     "output_type": "stream",
     "text": [
      "INFO:tensorflow:Assets written to: C:\\Users\\jared\\AppData\\Local\\Temp\\tmp75yp8n6w\\assets\n"
     ]
    },
    {
     "name": "stderr",
     "output_type": "stream",
     "text": [
      "INFO:tensorflow:Assets written to: C:\\Users\\jared\\AppData\\Local\\Temp\\tmp75yp8n6w\\assets\n",
      "WARNING:absl:<keras.layers.recurrent.GRUCell object at 0x0000017E0BBDADF0> has the same name 'GRUCell' as a built-in Keras object. Consider renaming <class 'keras.layers.recurrent.GRUCell'> to avoid naming conflicts when loading with `tf.keras.models.load_model`. If renaming is not possible, pass the object in the `custom_objects` parameter of the load function.\n",
      "C:\\Users\\jared\\anaconda3\\envs\\tflow\\lib\\site-packages\\scikeras\\wrappers.py:289: UserWarning: ``build_fn`` will be renamed to ``model`` in a future release, at which point use of ``build_fn`` will raise an Error instead.\n",
      "  warnings.warn(\n"
     ]
    },
    {
     "name": "stdout",
     "output_type": "stream",
     "text": [
      "Epoch 1/20\n",
      "99/99 [==============================] - 6s 31ms/step - loss: 0.7018 - accuracy: 0.5652 - val_loss: 0.6909 - val_accuracy: 0.5318\n",
      "Epoch 2/20\n",
      "99/99 [==============================] - 2s 21ms/step - loss: 0.6477 - accuracy: 0.6267 - val_loss: 0.6655 - val_accuracy: 0.5677\n",
      "Epoch 3/20\n",
      "99/99 [==============================] - 2s 21ms/step - loss: 0.6317 - accuracy: 0.6494 - val_loss: 0.6290 - val_accuracy: 0.6545\n",
      "Epoch 4/20\n",
      "99/99 [==============================] - 2s 21ms/step - loss: 0.6265 - accuracy: 0.6527 - val_loss: 0.6287 - val_accuracy: 0.6522\n",
      "Epoch 5/20\n",
      "99/99 [==============================] - 2s 21ms/step - loss: 0.6264 - accuracy: 0.6497 - val_loss: 0.6419 - val_accuracy: 0.6260\n",
      "Epoch 6/20\n",
      "99/99 [==============================] - 2s 20ms/step - loss: 0.6194 - accuracy: 0.6544 - val_loss: 0.6945 - val_accuracy: 0.5896\n",
      "Epoch 7/20\n",
      "99/99 [==============================] - 2s 20ms/step - loss: 0.6160 - accuracy: 0.6578 - val_loss: 0.6266 - val_accuracy: 0.6411\n",
      "Epoch 8/20\n",
      "99/99 [==============================] - 2s 21ms/step - loss: 0.6107 - accuracy: 0.6610 - val_loss: 0.6228 - val_accuracy: 0.6504\n",
      "Epoch 9/20\n",
      "99/99 [==============================] - 2s 21ms/step - loss: 0.6132 - accuracy: 0.6621 - val_loss: 0.6116 - val_accuracy: 0.6605\n",
      "Epoch 10/20\n",
      "99/99 [==============================] - 2s 21ms/step - loss: 0.6083 - accuracy: 0.6646 - val_loss: 0.6116 - val_accuracy: 0.6628\n",
      "Epoch 11/20\n",
      "99/99 [==============================] - 2s 21ms/step - loss: 0.6050 - accuracy: 0.6703 - val_loss: 0.6252 - val_accuracy: 0.6418\n",
      "Epoch 12/20\n",
      "99/99 [==============================] - 2s 20ms/step - loss: 0.6034 - accuracy: 0.6669 - val_loss: 0.6261 - val_accuracy: 0.6576\n",
      "Epoch 13/20\n",
      "99/99 [==============================] - 2s 21ms/step - loss: 0.6008 - accuracy: 0.6741 - val_loss: 0.6120 - val_accuracy: 0.6652\n",
      "Epoch 00013: early stopping\n",
      "50/50 [==============================] - 1s 7ms/step\n",
      "[CV 3/3] END dropout_rate=0.2, learning_rate=0.01, node_type=lstm, nodes=[32, 32, 32];, score=0.650 total time=  33.4s\n"
     ]
    },
    {
     "name": "stderr",
     "output_type": "stream",
     "text": [
      "WARNING:absl:Found untraced functions such as gru_cell_1_layer_call_fn, gru_cell_1_layer_call_and_return_conditional_losses, gru_cell_1_layer_call_fn, gru_cell_1_layer_call_and_return_conditional_losses, gru_cell_1_layer_call_and_return_conditional_losses while saving (showing 5 of 5). These functions will not be directly callable after loading.\n"
     ]
    },
    {
     "name": "stdout",
     "output_type": "stream",
     "text": [
      "INFO:tensorflow:Assets written to: C:\\Users\\jared\\AppData\\Local\\Temp\\tmpn3b777fa\\assets\n"
     ]
    },
    {
     "name": "stderr",
     "output_type": "stream",
     "text": [
      "INFO:tensorflow:Assets written to: C:\\Users\\jared\\AppData\\Local\\Temp\\tmpn3b777fa\\assets\n",
      "WARNING:absl:<keras.layers.recurrent.GRUCell object at 0x0000017E0BBDADF0> has the same name 'GRUCell' as a built-in Keras object. Consider renaming <class 'keras.layers.recurrent.GRUCell'> to avoid naming conflicts when loading with `tf.keras.models.load_model`. If renaming is not possible, pass the object in the `custom_objects` parameter of the load function.\n",
      "C:\\Users\\jared\\anaconda3\\envs\\tflow\\lib\\site-packages\\scikeras\\wrappers.py:289: UserWarning: ``build_fn`` will be renamed to ``model`` in a future release, at which point use of ``build_fn`` will raise an Error instead.\n",
      "  warnings.warn(\n"
     ]
    },
    {
     "name": "stdout",
     "output_type": "stream",
     "text": [
      "Epoch 1/20\n",
      "99/99 [==============================] - 3s 19ms/step - loss: 0.7500 - accuracy: 0.5255 - val_loss: 0.6813 - val_accuracy: 0.5481\n",
      "Epoch 2/20\n",
      "99/99 [==============================] - 1s 12ms/step - loss: 0.6792 - accuracy: 0.5518 - val_loss: 0.6734 - val_accuracy: 0.5681\n",
      "Epoch 3/20\n",
      "99/99 [==============================] - 1s 12ms/step - loss: 0.6742 - accuracy: 0.5620 - val_loss: 0.6737 - val_accuracy: 0.5638\n",
      "Epoch 4/20\n",
      "99/99 [==============================] - 1s 13ms/step - loss: 0.6725 - accuracy: 0.5637 - val_loss: 0.6692 - val_accuracy: 0.5643\n",
      "Epoch 5/20\n",
      "99/99 [==============================] - 1s 12ms/step - loss: 0.6707 - accuracy: 0.5664 - val_loss: 0.6691 - val_accuracy: 0.5713\n",
      "Epoch 6/20\n",
      "99/99 [==============================] - 1s 13ms/step - loss: 0.6684 - accuracy: 0.5703 - val_loss: 0.6681 - val_accuracy: 0.5746\n",
      "Epoch 7/20\n",
      "99/99 [==============================] - 1s 12ms/step - loss: 0.6679 - accuracy: 0.5708 - val_loss: 0.6679 - val_accuracy: 0.5764\n",
      "Epoch 8/20\n",
      "99/99 [==============================] - 1s 12ms/step - loss: 0.6656 - accuracy: 0.5745 - val_loss: 0.6700 - val_accuracy: 0.5708\n",
      "Epoch 9/20\n",
      "99/99 [==============================] - 1s 13ms/step - loss: 0.6656 - accuracy: 0.5725 - val_loss: 0.6697 - val_accuracy: 0.5686\n",
      "Epoch 10/20\n",
      "99/99 [==============================] - 1s 13ms/step - loss: 0.6620 - accuracy: 0.5785 - val_loss: 0.6708 - val_accuracy: 0.5613\n",
      "Epoch 00010: early stopping\n",
      "50/50 [==============================] - 0s 5ms/step\n",
      "[CV 1/3] END dropout_rate=0.2, learning_rate=0.01, node_type=gru, nodes=[128];, score=nan total time=  16.4s\n"
     ]
    },
    {
     "name": "stderr",
     "output_type": "stream",
     "text": [
      "C:\\Users\\jared\\anaconda3\\envs\\tflow\\lib\\site-packages\\sklearn\\model_selection\\_validation.py:771: UserWarning: Scoring failed. The score on this train-test partition for these parameters will be set to nan. Details: \n",
      "Traceback (most recent call last):\n",
      "  File \"C:\\Users\\jared\\anaconda3\\envs\\tflow\\lib\\site-packages\\sklearn\\model_selection\\_validation.py\", line 762, in _score\n",
      "    scores = scorer(estimator, X_test, y_test)\n",
      "  File \"C:\\Users\\jared\\anaconda3\\envs\\tflow\\lib\\site-packages\\sklearn\\metrics\\_scorer.py\", line 216, in __call__\n",
      "    return self._score(\n",
      "  File \"C:\\Users\\jared\\anaconda3\\envs\\tflow\\lib\\site-packages\\sklearn\\metrics\\_scorer.py\", line 258, in _score\n",
      "    y_pred = method_caller(estimator, \"predict\", X)\n",
      "  File \"C:\\Users\\jared\\anaconda3\\envs\\tflow\\lib\\site-packages\\sklearn\\metrics\\_scorer.py\", line 68, in _cached_call\n",
      "    return getattr(estimator, method)(*args, **kwargs)\n",
      "  File \"C:\\Users\\jared\\anaconda3\\envs\\tflow\\lib\\site-packages\\scikeras\\wrappers.py\", line 1013, in predict\n",
      "    y_pred = self.target_encoder_.inverse_transform(y_pred)\n",
      "  File \"C:\\Users\\jared\\anaconda3\\envs\\tflow\\lib\\site-packages\\scikeras\\utils\\transformers.py\", line 257, in inverse_transform\n",
      "    class_predictions = self._final_encoder.inverse_transform(class_predictions)\n",
      "  File \"C:\\Users\\jared\\anaconda3\\envs\\tflow\\lib\\site-packages\\sklearn\\utils\\metaestimators.py\", line 113, in <lambda>\n",
      "    out = lambda *args, **kwargs: self.fn(obj, *args, **kwargs)  # noqa\n",
      "  File \"C:\\Users\\jared\\anaconda3\\envs\\tflow\\lib\\site-packages\\sklearn\\pipeline.py\", line 675, in inverse_transform\n",
      "    Xt = transform.inverse_transform(Xt)\n",
      "  File \"C:\\Users\\jared\\anaconda3\\envs\\tflow\\lib\\site-packages\\sklearn\\preprocessing\\_encoders.py\", line 990, in inverse_transform\n",
      "    X_tr[:, i] = self.categories_[i][labels]\n",
      "IndexError: index 50 is out of bounds for axis 0 with size 2\n",
      "\n",
      "  warnings.warn(\n",
      "WARNING:absl:Found untraced functions such as gru_cell_1_layer_call_fn, gru_cell_1_layer_call_and_return_conditional_losses, gru_cell_1_layer_call_fn, gru_cell_1_layer_call_and_return_conditional_losses, gru_cell_1_layer_call_and_return_conditional_losses while saving (showing 5 of 5). These functions will not be directly callable after loading.\n"
     ]
    },
    {
     "name": "stdout",
     "output_type": "stream",
     "text": [
      "INFO:tensorflow:Assets written to: C:\\Users\\jared\\AppData\\Local\\Temp\\tmpudy336jz\\assets\n"
     ]
    },
    {
     "name": "stderr",
     "output_type": "stream",
     "text": [
      "INFO:tensorflow:Assets written to: C:\\Users\\jared\\AppData\\Local\\Temp\\tmpudy336jz\\assets\n",
      "WARNING:absl:<keras.layers.recurrent.GRUCell object at 0x0000017E0BBDADF0> has the same name 'GRUCell' as a built-in Keras object. Consider renaming <class 'keras.layers.recurrent.GRUCell'> to avoid naming conflicts when loading with `tf.keras.models.load_model`. If renaming is not possible, pass the object in the `custom_objects` parameter of the load function.\n",
      "C:\\Users\\jared\\anaconda3\\envs\\tflow\\lib\\site-packages\\scikeras\\wrappers.py:289: UserWarning: ``build_fn`` will be renamed to ``model`` in a future release, at which point use of ``build_fn`` will raise an Error instead.\n",
      "  warnings.warn(\n"
     ]
    },
    {
     "name": "stdout",
     "output_type": "stream",
     "text": [
      "Epoch 1/20\n",
      "99/99 [==============================] - 3s 19ms/step - loss: 0.7306 - accuracy: 0.5326 - val_loss: 0.6755 - val_accuracy: 0.5674\n",
      "Epoch 2/20\n",
      "99/99 [==============================] - 1s 13ms/step - loss: 0.6762 - accuracy: 0.5595 - val_loss: 0.6722 - val_accuracy: 0.5638\n",
      "Epoch 3/20\n",
      "99/99 [==============================] - 1s 13ms/step - loss: 0.6723 - accuracy: 0.5655 - val_loss: 0.6746 - val_accuracy: 0.5580\n",
      "Epoch 4/20\n",
      "99/99 [==============================] - 1s 13ms/step - loss: 0.6692 - accuracy: 0.5704 - val_loss: 0.6675 - val_accuracy: 0.5748\n",
      "Epoch 5/20\n",
      "99/99 [==============================] - 1s 13ms/step - loss: 0.6681 - accuracy: 0.5711 - val_loss: 0.6682 - val_accuracy: 0.5742\n",
      "Epoch 6/20\n",
      "99/99 [==============================] - 1s 13ms/step - loss: 0.6663 - accuracy: 0.5751 - val_loss: 0.6660 - val_accuracy: 0.5755\n",
      "Epoch 7/20\n",
      "99/99 [==============================] - 1s 13ms/step - loss: 0.6641 - accuracy: 0.5773 - val_loss: 0.6696 - val_accuracy: 0.5711\n",
      "Epoch 8/20\n",
      "99/99 [==============================] - 1s 13ms/step - loss: 0.6615 - accuracy: 0.5789 - val_loss: 0.6703 - val_accuracy: 0.5692\n",
      "Epoch 9/20\n",
      "99/99 [==============================] - 1s 13ms/step - loss: 0.6589 - accuracy: 0.5828 - val_loss: 0.6728 - val_accuracy: 0.5625\n",
      "Epoch 00009: early stopping\n",
      "50/50 [==============================] - 0s 5ms/step\n",
      "[CV 2/3] END dropout_rate=0.2, learning_rate=0.01, node_type=gru, nodes=[128];, score=nan total time=  15.6s\n"
     ]
    },
    {
     "name": "stderr",
     "output_type": "stream",
     "text": [
      "C:\\Users\\jared\\anaconda3\\envs\\tflow\\lib\\site-packages\\sklearn\\model_selection\\_validation.py:771: UserWarning: Scoring failed. The score on this train-test partition for these parameters will be set to nan. Details: \n",
      "Traceback (most recent call last):\n",
      "  File \"C:\\Users\\jared\\anaconda3\\envs\\tflow\\lib\\site-packages\\sklearn\\model_selection\\_validation.py\", line 762, in _score\n",
      "    scores = scorer(estimator, X_test, y_test)\n",
      "  File \"C:\\Users\\jared\\anaconda3\\envs\\tflow\\lib\\site-packages\\sklearn\\metrics\\_scorer.py\", line 216, in __call__\n",
      "    return self._score(\n",
      "  File \"C:\\Users\\jared\\anaconda3\\envs\\tflow\\lib\\site-packages\\sklearn\\metrics\\_scorer.py\", line 258, in _score\n",
      "    y_pred = method_caller(estimator, \"predict\", X)\n",
      "  File \"C:\\Users\\jared\\anaconda3\\envs\\tflow\\lib\\site-packages\\sklearn\\metrics\\_scorer.py\", line 68, in _cached_call\n",
      "    return getattr(estimator, method)(*args, **kwargs)\n",
      "  File \"C:\\Users\\jared\\anaconda3\\envs\\tflow\\lib\\site-packages\\scikeras\\wrappers.py\", line 1013, in predict\n",
      "    y_pred = self.target_encoder_.inverse_transform(y_pred)\n",
      "  File \"C:\\Users\\jared\\anaconda3\\envs\\tflow\\lib\\site-packages\\scikeras\\utils\\transformers.py\", line 257, in inverse_transform\n",
      "    class_predictions = self._final_encoder.inverse_transform(class_predictions)\n",
      "  File \"C:\\Users\\jared\\anaconda3\\envs\\tflow\\lib\\site-packages\\sklearn\\utils\\metaestimators.py\", line 113, in <lambda>\n",
      "    out = lambda *args, **kwargs: self.fn(obj, *args, **kwargs)  # noqa\n",
      "  File \"C:\\Users\\jared\\anaconda3\\envs\\tflow\\lib\\site-packages\\sklearn\\pipeline.py\", line 675, in inverse_transform\n",
      "    Xt = transform.inverse_transform(Xt)\n",
      "  File \"C:\\Users\\jared\\anaconda3\\envs\\tflow\\lib\\site-packages\\sklearn\\preprocessing\\_encoders.py\", line 990, in inverse_transform\n",
      "    X_tr[:, i] = self.categories_[i][labels]\n",
      "IndexError: index 57 is out of bounds for axis 0 with size 2\n",
      "\n",
      "  warnings.warn(\n",
      "WARNING:absl:Found untraced functions such as gru_cell_1_layer_call_fn, gru_cell_1_layer_call_and_return_conditional_losses, gru_cell_1_layer_call_fn, gru_cell_1_layer_call_and_return_conditional_losses, gru_cell_1_layer_call_and_return_conditional_losses while saving (showing 5 of 5). These functions will not be directly callable after loading.\n"
     ]
    },
    {
     "name": "stdout",
     "output_type": "stream",
     "text": [
      "INFO:tensorflow:Assets written to: C:\\Users\\jared\\AppData\\Local\\Temp\\tmp_fdq7bb2\\assets\n"
     ]
    },
    {
     "name": "stderr",
     "output_type": "stream",
     "text": [
      "INFO:tensorflow:Assets written to: C:\\Users\\jared\\AppData\\Local\\Temp\\tmp_fdq7bb2\\assets\n",
      "WARNING:absl:<keras.layers.recurrent.GRUCell object at 0x0000017E0BBDADF0> has the same name 'GRUCell' as a built-in Keras object. Consider renaming <class 'keras.layers.recurrent.GRUCell'> to avoid naming conflicts when loading with `tf.keras.models.load_model`. If renaming is not possible, pass the object in the `custom_objects` parameter of the load function.\n",
      "C:\\Users\\jared\\anaconda3\\envs\\tflow\\lib\\site-packages\\scikeras\\wrappers.py:289: UserWarning: ``build_fn`` will be renamed to ``model`` in a future release, at which point use of ``build_fn`` will raise an Error instead.\n",
      "  warnings.warn(\n"
     ]
    },
    {
     "name": "stdout",
     "output_type": "stream",
     "text": [
      "Epoch 1/20\n",
      "99/99 [==============================] - 3s 18ms/step - loss: 0.7479 - accuracy: 0.5283 - val_loss: 0.6783 - val_accuracy: 0.5615\n",
      "Epoch 2/20\n",
      "99/99 [==============================] - 1s 13ms/step - loss: 0.6778 - accuracy: 0.5566 - val_loss: 0.6764 - val_accuracy: 0.5541\n",
      "Epoch 3/20\n",
      "99/99 [==============================] - 1s 13ms/step - loss: 0.6733 - accuracy: 0.5652 - val_loss: 0.6697 - val_accuracy: 0.5723\n",
      "Epoch 4/20\n",
      "99/99 [==============================] - 1s 13ms/step - loss: 0.6715 - accuracy: 0.5668 - val_loss: 0.6653 - val_accuracy: 0.5818\n",
      "Epoch 5/20\n",
      "99/99 [==============================] - 1s 13ms/step - loss: 0.6694 - accuracy: 0.5695 - val_loss: 0.6680 - val_accuracy: 0.5748\n",
      "Epoch 6/20\n",
      "99/99 [==============================] - 1s 13ms/step - loss: 0.6666 - accuracy: 0.5749 - val_loss: 0.6672 - val_accuracy: 0.5719\n",
      "Epoch 7/20\n",
      "99/99 [==============================] - 1s 13ms/step - loss: 0.6650 - accuracy: 0.5759 - val_loss: 0.6729 - val_accuracy: 0.5586\n",
      "Epoch 00007: early stopping\n",
      "50/50 [==============================] - 0s 5ms/step\n",
      "[CV 3/3] END dropout_rate=0.2, learning_rate=0.01, node_type=gru, nodes=[128];, score=nan total time=  13.2s\n"
     ]
    },
    {
     "name": "stderr",
     "output_type": "stream",
     "text": [
      "C:\\Users\\jared\\anaconda3\\envs\\tflow\\lib\\site-packages\\sklearn\\model_selection\\_validation.py:771: UserWarning: Scoring failed. The score on this train-test partition for these parameters will be set to nan. Details: \n",
      "Traceback (most recent call last):\n",
      "  File \"C:\\Users\\jared\\anaconda3\\envs\\tflow\\lib\\site-packages\\sklearn\\model_selection\\_validation.py\", line 762, in _score\n",
      "    scores = scorer(estimator, X_test, y_test)\n",
      "  File \"C:\\Users\\jared\\anaconda3\\envs\\tflow\\lib\\site-packages\\sklearn\\metrics\\_scorer.py\", line 216, in __call__\n",
      "    return self._score(\n",
      "  File \"C:\\Users\\jared\\anaconda3\\envs\\tflow\\lib\\site-packages\\sklearn\\metrics\\_scorer.py\", line 258, in _score\n",
      "    y_pred = method_caller(estimator, \"predict\", X)\n",
      "  File \"C:\\Users\\jared\\anaconda3\\envs\\tflow\\lib\\site-packages\\sklearn\\metrics\\_scorer.py\", line 68, in _cached_call\n",
      "    return getattr(estimator, method)(*args, **kwargs)\n",
      "  File \"C:\\Users\\jared\\anaconda3\\envs\\tflow\\lib\\site-packages\\scikeras\\wrappers.py\", line 1013, in predict\n",
      "    y_pred = self.target_encoder_.inverse_transform(y_pred)\n",
      "  File \"C:\\Users\\jared\\anaconda3\\envs\\tflow\\lib\\site-packages\\scikeras\\utils\\transformers.py\", line 257, in inverse_transform\n",
      "    class_predictions = self._final_encoder.inverse_transform(class_predictions)\n",
      "  File \"C:\\Users\\jared\\anaconda3\\envs\\tflow\\lib\\site-packages\\sklearn\\utils\\metaestimators.py\", line 113, in <lambda>\n",
      "    out = lambda *args, **kwargs: self.fn(obj, *args, **kwargs)  # noqa\n",
      "  File \"C:\\Users\\jared\\anaconda3\\envs\\tflow\\lib\\site-packages\\sklearn\\pipeline.py\", line 675, in inverse_transform\n",
      "    Xt = transform.inverse_transform(Xt)\n",
      "  File \"C:\\Users\\jared\\anaconda3\\envs\\tflow\\lib\\site-packages\\sklearn\\preprocessing\\_encoders.py\", line 990, in inverse_transform\n",
      "    X_tr[:, i] = self.categories_[i][labels]\n",
      "IndexError: index 59 is out of bounds for axis 0 with size 2\n",
      "\n",
      "  warnings.warn(\n",
      "WARNING:absl:Found untraced functions such as gru_cell_1_layer_call_fn, gru_cell_1_layer_call_and_return_conditional_losses, gru_cell_1_layer_call_fn, gru_cell_1_layer_call_and_return_conditional_losses, gru_cell_1_layer_call_and_return_conditional_losses while saving (showing 5 of 5). These functions will not be directly callable after loading.\n"
     ]
    },
    {
     "name": "stdout",
     "output_type": "stream",
     "text": [
      "INFO:tensorflow:Assets written to: C:\\Users\\jared\\AppData\\Local\\Temp\\tmpxldzh9oo\\assets\n"
     ]
    },
    {
     "name": "stderr",
     "output_type": "stream",
     "text": [
      "INFO:tensorflow:Assets written to: C:\\Users\\jared\\AppData\\Local\\Temp\\tmpxldzh9oo\\assets\n",
      "WARNING:absl:<keras.layers.recurrent.GRUCell object at 0x0000017E0BBDADF0> has the same name 'GRUCell' as a built-in Keras object. Consider renaming <class 'keras.layers.recurrent.GRUCell'> to avoid naming conflicts when loading with `tf.keras.models.load_model`. If renaming is not possible, pass the object in the `custom_objects` parameter of the load function.\n",
      "C:\\Users\\jared\\anaconda3\\envs\\tflow\\lib\\site-packages\\scikeras\\wrappers.py:289: UserWarning: ``build_fn`` will be renamed to ``model`` in a future release, at which point use of ``build_fn`` will raise an Error instead.\n",
      "  warnings.warn(\n"
     ]
    },
    {
     "name": "stdout",
     "output_type": "stream",
     "text": [
      "Epoch 1/20\n",
      "99/99 [==============================] - 4s 24ms/step - loss: 0.6831 - accuracy: 0.6009 - val_loss: 0.6469 - val_accuracy: 0.6369\n",
      "Epoch 2/20\n",
      "99/99 [==============================] - 2s 16ms/step - loss: 0.6327 - accuracy: 0.6398 - val_loss: 0.6297 - val_accuracy: 0.6461\n",
      "Epoch 3/20\n",
      "99/99 [==============================] - 2s 16ms/step - loss: 0.6270 - accuracy: 0.6449 - val_loss: 0.6326 - val_accuracy: 0.6323\n",
      "Epoch 4/20\n",
      "99/99 [==============================] - 2s 16ms/step - loss: 0.6225 - accuracy: 0.6537 - val_loss: 0.6248 - val_accuracy: 0.6575\n",
      "Epoch 5/20\n",
      "99/99 [==============================] - 2s 16ms/step - loss: 0.6193 - accuracy: 0.6445 - val_loss: 0.7518 - val_accuracy: 0.6170\n",
      "Epoch 6/20\n",
      "99/99 [==============================] - 2s 17ms/step - loss: 0.6231 - accuracy: 0.6461 - val_loss: 0.6334 - val_accuracy: 0.6378\n",
      "Epoch 7/20\n",
      "99/99 [==============================] - 2s 16ms/step - loss: 0.6171 - accuracy: 0.6528 - val_loss: 0.6838 - val_accuracy: 0.6042\n",
      "Epoch 00007: early stopping\n",
      "50/50 [==============================] - 1s 6ms/step\n",
      "[CV 1/3] END dropout_rate=0.2, learning_rate=0.01, node_type=gru, nodes=[64, 64];, score=0.597 total time=  16.6s\n"
     ]
    },
    {
     "name": "stderr",
     "output_type": "stream",
     "text": [
      "WARNING:absl:Found untraced functions such as gru_cell_1_layer_call_fn, gru_cell_1_layer_call_and_return_conditional_losses, gru_cell_1_layer_call_fn, gru_cell_1_layer_call_and_return_conditional_losses, gru_cell_1_layer_call_and_return_conditional_losses while saving (showing 5 of 5). These functions will not be directly callable after loading.\n"
     ]
    },
    {
     "name": "stdout",
     "output_type": "stream",
     "text": [
      "INFO:tensorflow:Assets written to: C:\\Users\\jared\\AppData\\Local\\Temp\\tmpjfmjsvq6\\assets\n"
     ]
    },
    {
     "name": "stderr",
     "output_type": "stream",
     "text": [
      "INFO:tensorflow:Assets written to: C:\\Users\\jared\\AppData\\Local\\Temp\\tmpjfmjsvq6\\assets\n",
      "WARNING:absl:<keras.layers.recurrent.GRUCell object at 0x0000017E0BBDADF0> has the same name 'GRUCell' as a built-in Keras object. Consider renaming <class 'keras.layers.recurrent.GRUCell'> to avoid naming conflicts when loading with `tf.keras.models.load_model`. If renaming is not possible, pass the object in the `custom_objects` parameter of the load function.\n",
      "C:\\Users\\jared\\anaconda3\\envs\\tflow\\lib\\site-packages\\scikeras\\wrappers.py:289: UserWarning: ``build_fn`` will be renamed to ``model`` in a future release, at which point use of ``build_fn`` will raise an Error instead.\n",
      "  warnings.warn(\n"
     ]
    },
    {
     "name": "stdout",
     "output_type": "stream",
     "text": [
      "Epoch 1/20\n",
      "99/99 [==============================] - 5s 24ms/step - loss: 0.6873 - accuracy: 0.5987 - val_loss: 0.6554 - val_accuracy: 0.6243\n",
      "Epoch 2/20\n",
      "99/99 [==============================] - 2s 16ms/step - loss: 0.6362 - accuracy: 0.6320 - val_loss: 0.6326 - val_accuracy: 0.6282\n",
      "Epoch 3/20\n",
      "99/99 [==============================] - 2s 16ms/step - loss: 0.6299 - accuracy: 0.6400 - val_loss: 0.6302 - val_accuracy: 0.6317\n",
      "Epoch 4/20\n",
      "99/99 [==============================] - 2s 16ms/step - loss: 0.6220 - accuracy: 0.6498 - val_loss: 0.6272 - val_accuracy: 0.6520\n",
      "Epoch 5/20\n",
      "99/99 [==============================] - 2s 15ms/step - loss: 0.6168 - accuracy: 0.6526 - val_loss: 0.6334 - val_accuracy: 0.6403\n",
      "Epoch 6/20\n",
      "99/99 [==============================] - 2s 16ms/step - loss: 0.6146 - accuracy: 0.6543 - val_loss: 0.6199 - val_accuracy: 0.6501\n",
      "Epoch 7/20\n",
      "99/99 [==============================] - 2s 16ms/step - loss: 0.6078 - accuracy: 0.6612 - val_loss: 0.6159 - val_accuracy: 0.6493\n",
      "Epoch 8/20\n",
      "99/99 [==============================] - 2s 16ms/step - loss: 0.6071 - accuracy: 0.6642 - val_loss: 0.6203 - val_accuracy: 0.6482\n",
      "Epoch 9/20\n",
      "99/99 [==============================] - 2s 16ms/step - loss: 0.6019 - accuracy: 0.6682 - val_loss: 0.6239 - val_accuracy: 0.6499\n",
      "Epoch 10/20\n",
      "99/99 [==============================] - 2s 15ms/step - loss: 0.6001 - accuracy: 0.6670 - val_loss: 0.6163 - val_accuracy: 0.6550\n",
      "Epoch 00010: early stopping\n",
      "50/50 [==============================] - 1s 5ms/step\n",
      "[CV 2/3] END dropout_rate=0.2, learning_rate=0.01, node_type=gru, nodes=[64, 64];, score=0.649 total time=  21.2s\n"
     ]
    },
    {
     "name": "stderr",
     "output_type": "stream",
     "text": [
      "WARNING:absl:Found untraced functions such as gru_cell_1_layer_call_fn, gru_cell_1_layer_call_and_return_conditional_losses, gru_cell_1_layer_call_fn, gru_cell_1_layer_call_and_return_conditional_losses, gru_cell_1_layer_call_and_return_conditional_losses while saving (showing 5 of 5). These functions will not be directly callable after loading.\n"
     ]
    },
    {
     "name": "stdout",
     "output_type": "stream",
     "text": [
      "INFO:tensorflow:Assets written to: C:\\Users\\jared\\AppData\\Local\\Temp\\tmp2i8o1x_p\\assets\n"
     ]
    },
    {
     "name": "stderr",
     "output_type": "stream",
     "text": [
      "INFO:tensorflow:Assets written to: C:\\Users\\jared\\AppData\\Local\\Temp\\tmp2i8o1x_p\\assets\n",
      "WARNING:absl:<keras.layers.recurrent.GRUCell object at 0x0000017E0BBDADF0> has the same name 'GRUCell' as a built-in Keras object. Consider renaming <class 'keras.layers.recurrent.GRUCell'> to avoid naming conflicts when loading with `tf.keras.models.load_model`. If renaming is not possible, pass the object in the `custom_objects` parameter of the load function.\n",
      "C:\\Users\\jared\\anaconda3\\envs\\tflow\\lib\\site-packages\\scikeras\\wrappers.py:289: UserWarning: ``build_fn`` will be renamed to ``model`` in a future release, at which point use of ``build_fn`` will raise an Error instead.\n",
      "  warnings.warn(\n"
     ]
    },
    {
     "name": "stdout",
     "output_type": "stream",
     "text": [
      "Epoch 1/20\n",
      "99/99 [==============================] - 4s 23ms/step - loss: 0.6851 - accuracy: 0.5987 - val_loss: 0.6507 - val_accuracy: 0.6055\n",
      "Epoch 2/20\n",
      "99/99 [==============================] - 2s 16ms/step - loss: 0.6350 - accuracy: 0.6428 - val_loss: 0.6290 - val_accuracy: 0.6378\n",
      "Epoch 3/20\n",
      "99/99 [==============================] - 2s 16ms/step - loss: 0.6275 - accuracy: 0.6495 - val_loss: 0.6446 - val_accuracy: 0.6159\n",
      "Epoch 4/20\n",
      "99/99 [==============================] - 2s 16ms/step - loss: 0.6218 - accuracy: 0.6521 - val_loss: 0.6317 - val_accuracy: 0.6360\n",
      "Epoch 5/20\n",
      "99/99 [==============================] - 2s 16ms/step - loss: 0.6176 - accuracy: 0.6538 - val_loss: 0.6301 - val_accuracy: 0.6390\n",
      "Epoch 00005: early stopping\n",
      "50/50 [==============================] - 1s 6ms/step\n",
      "[CV 3/3] END dropout_rate=0.2, learning_rate=0.01, node_type=gru, nodes=[64, 64];, score=0.634 total time=  12.9s\n"
     ]
    },
    {
     "name": "stderr",
     "output_type": "stream",
     "text": [
      "WARNING:absl:Found untraced functions such as gru_cell_1_layer_call_fn, gru_cell_1_layer_call_and_return_conditional_losses, gru_cell_1_layer_call_fn, gru_cell_1_layer_call_and_return_conditional_losses, gru_cell_1_layer_call_and_return_conditional_losses while saving (showing 5 of 5). These functions will not be directly callable after loading.\n"
     ]
    },
    {
     "name": "stdout",
     "output_type": "stream",
     "text": [
      "INFO:tensorflow:Assets written to: C:\\Users\\jared\\AppData\\Local\\Temp\\tmpqypz16t3\\assets\n"
     ]
    },
    {
     "name": "stderr",
     "output_type": "stream",
     "text": [
      "INFO:tensorflow:Assets written to: C:\\Users\\jared\\AppData\\Local\\Temp\\tmpqypz16t3\\assets\n",
      "WARNING:absl:<keras.layers.recurrent.GRUCell object at 0x0000017E0BBDADF0> has the same name 'GRUCell' as a built-in Keras object. Consider renaming <class 'keras.layers.recurrent.GRUCell'> to avoid naming conflicts when loading with `tf.keras.models.load_model`. If renaming is not possible, pass the object in the `custom_objects` parameter of the load function.\n",
      "C:\\Users\\jared\\anaconda3\\envs\\tflow\\lib\\site-packages\\scikeras\\wrappers.py:289: UserWarning: ``build_fn`` will be renamed to ``model`` in a future release, at which point use of ``build_fn`` will raise an Error instead.\n",
      "  warnings.warn(\n"
     ]
    },
    {
     "name": "stdout",
     "output_type": "stream",
     "text": [
      "Epoch 1/20\n",
      "99/99 [==============================] - 6s 29ms/step - loss: 0.6914 - accuracy: 0.5843 - val_loss: 0.6457 - val_accuracy: 0.6360\n",
      "Epoch 2/20\n",
      "99/99 [==============================] - 2s 21ms/step - loss: 0.6367 - accuracy: 0.6357 - val_loss: 0.6309 - val_accuracy: 0.6470\n",
      "Epoch 3/20\n",
      "99/99 [==============================] - 2s 21ms/step - loss: 0.6280 - accuracy: 0.6489 - val_loss: 0.6381 - val_accuracy: 0.6193\n",
      "Epoch 4/20\n",
      "99/99 [==============================] - 2s 20ms/step - loss: 0.6227 - accuracy: 0.6507 - val_loss: 0.6296 - val_accuracy: 0.6522\n",
      "Epoch 5/20\n",
      "99/99 [==============================] - 2s 21ms/step - loss: 0.6185 - accuracy: 0.6572 - val_loss: 0.6257 - val_accuracy: 0.6464\n",
      "Epoch 6/20\n",
      "99/99 [==============================] - 2s 21ms/step - loss: 0.6154 - accuracy: 0.6614 - val_loss: 0.6135 - val_accuracy: 0.6613\n",
      "Epoch 7/20\n",
      "99/99 [==============================] - 2s 21ms/step - loss: 0.6129 - accuracy: 0.6552 - val_loss: 0.6103 - val_accuracy: 0.6589\n",
      "Epoch 8/20\n",
      "99/99 [==============================] - 2s 21ms/step - loss: 0.6075 - accuracy: 0.6649 - val_loss: 0.6134 - val_accuracy: 0.6522\n",
      "Epoch 9/20\n",
      "99/99 [==============================] - 2s 21ms/step - loss: 0.6065 - accuracy: 0.6649 - val_loss: 0.6342 - val_accuracy: 0.6407\n",
      "Epoch 10/20\n",
      "99/99 [==============================] - 2s 19ms/step - loss: 0.6039 - accuracy: 0.6688 - val_loss: 0.6291 - val_accuracy: 0.6285\n",
      "Epoch 00010: early stopping\n",
      "50/50 [==============================] - 1s 6ms/step\n",
      "[CV 1/3] END dropout_rate=0.2, learning_rate=0.01, node_type=gru, nodes=[32, 32, 32];, score=0.636 total time=  27.3s\n"
     ]
    },
    {
     "name": "stderr",
     "output_type": "stream",
     "text": [
      "WARNING:absl:Found untraced functions such as gru_cell_1_layer_call_fn, gru_cell_1_layer_call_and_return_conditional_losses, gru_cell_1_layer_call_fn, gru_cell_1_layer_call_and_return_conditional_losses, gru_cell_1_layer_call_and_return_conditional_losses while saving (showing 5 of 5). These functions will not be directly callable after loading.\n"
     ]
    },
    {
     "name": "stdout",
     "output_type": "stream",
     "text": [
      "INFO:tensorflow:Assets written to: C:\\Users\\jared\\AppData\\Local\\Temp\\tmp57vuqv0n\\assets\n"
     ]
    },
    {
     "name": "stderr",
     "output_type": "stream",
     "text": [
      "INFO:tensorflow:Assets written to: C:\\Users\\jared\\AppData\\Local\\Temp\\tmp57vuqv0n\\assets\n",
      "WARNING:absl:<keras.layers.recurrent.GRUCell object at 0x0000017E0BBDADF0> has the same name 'GRUCell' as a built-in Keras object. Consider renaming <class 'keras.layers.recurrent.GRUCell'> to avoid naming conflicts when loading with `tf.keras.models.load_model`. If renaming is not possible, pass the object in the `custom_objects` parameter of the load function.\n",
      "C:\\Users\\jared\\anaconda3\\envs\\tflow\\lib\\site-packages\\scikeras\\wrappers.py:289: UserWarning: ``build_fn`` will be renamed to ``model`` in a future release, at which point use of ``build_fn`` will raise an Error instead.\n",
      "  warnings.warn(\n"
     ]
    },
    {
     "name": "stdout",
     "output_type": "stream",
     "text": [
      "Epoch 1/20\n",
      "99/99 [==============================] - 6s 30ms/step - loss: 0.6777 - accuracy: 0.5955 - val_loss: 0.6480 - val_accuracy: 0.6340\n",
      "Epoch 2/20\n",
      "99/99 [==============================] - 2s 20ms/step - loss: 0.6347 - accuracy: 0.6362 - val_loss: 0.6308 - val_accuracy: 0.6438\n",
      "Epoch 3/20\n",
      "99/99 [==============================] - 2s 21ms/step - loss: 0.6269 - accuracy: 0.6512 - val_loss: 0.6411 - val_accuracy: 0.6364\n",
      "Epoch 4/20\n",
      "99/99 [==============================] - 2s 20ms/step - loss: 0.6246 - accuracy: 0.6452 - val_loss: 0.6305 - val_accuracy: 0.6378\n",
      "Epoch 5/20\n",
      "99/99 [==============================] - 2s 21ms/step - loss: 0.6191 - accuracy: 0.6554 - val_loss: 0.6120 - val_accuracy: 0.6641\n",
      "Epoch 6/20\n",
      "99/99 [==============================] - 2s 21ms/step - loss: 0.6135 - accuracy: 0.6599 - val_loss: 0.6205 - val_accuracy: 0.6411\n",
      "Epoch 7/20\n",
      "99/99 [==============================] - 2s 21ms/step - loss: 0.6088 - accuracy: 0.6621 - val_loss: 0.6195 - val_accuracy: 0.6466\n",
      "Epoch 8/20\n",
      "99/99 [==============================] - 2s 21ms/step - loss: 0.6063 - accuracy: 0.6626 - val_loss: 0.6200 - val_accuracy: 0.6565\n",
      "Epoch 00008: early stopping\n",
      "50/50 [==============================] - 1s 7ms/step\n",
      "[CV 2/3] END dropout_rate=0.2, learning_rate=0.01, node_type=gru, nodes=[32, 32, 32];, score=0.646 total time=  23.4s\n"
     ]
    },
    {
     "name": "stderr",
     "output_type": "stream",
     "text": [
      "WARNING:absl:Found untraced functions such as gru_cell_1_layer_call_fn, gru_cell_1_layer_call_and_return_conditional_losses, gru_cell_1_layer_call_fn, gru_cell_1_layer_call_and_return_conditional_losses, gru_cell_1_layer_call_and_return_conditional_losses while saving (showing 5 of 5). These functions will not be directly callable after loading.\n"
     ]
    },
    {
     "name": "stdout",
     "output_type": "stream",
     "text": [
      "INFO:tensorflow:Assets written to: C:\\Users\\jared\\AppData\\Local\\Temp\\tmp5tzu42ze\\assets\n"
     ]
    },
    {
     "name": "stderr",
     "output_type": "stream",
     "text": [
      "INFO:tensorflow:Assets written to: C:\\Users\\jared\\AppData\\Local\\Temp\\tmp5tzu42ze\\assets\n",
      "WARNING:absl:<keras.layers.recurrent.GRUCell object at 0x0000017E0BBDADF0> has the same name 'GRUCell' as a built-in Keras object. Consider renaming <class 'keras.layers.recurrent.GRUCell'> to avoid naming conflicts when loading with `tf.keras.models.load_model`. If renaming is not possible, pass the object in the `custom_objects` parameter of the load function.\n",
      "C:\\Users\\jared\\anaconda3\\envs\\tflow\\lib\\site-packages\\scikeras\\wrappers.py:289: UserWarning: ``build_fn`` will be renamed to ``model`` in a future release, at which point use of ``build_fn`` will raise an Error instead.\n",
      "  warnings.warn(\n"
     ]
    },
    {
     "name": "stdout",
     "output_type": "stream",
     "text": [
      "Epoch 1/20\n",
      "99/99 [==============================] - 6s 32ms/step - loss: 0.6849 - accuracy: 0.5837 - val_loss: 0.6474 - val_accuracy: 0.6264\n",
      "Epoch 2/20\n",
      "99/99 [==============================] - 2s 21ms/step - loss: 0.6419 - accuracy: 0.6305 - val_loss: 0.6277 - val_accuracy: 0.6473\n",
      "Epoch 3/20\n",
      "99/99 [==============================] - 2s 20ms/step - loss: 0.6280 - accuracy: 0.6499 - val_loss: 0.6335 - val_accuracy: 0.6393\n",
      "Epoch 4/20\n",
      "99/99 [==============================] - 2s 20ms/step - loss: 0.6240 - accuracy: 0.6532 - val_loss: 0.6387 - val_accuracy: 0.6370\n",
      "Epoch 5/20\n",
      "99/99 [==============================] - 2s 20ms/step - loss: 0.6157 - accuracy: 0.6586 - val_loss: 0.6131 - val_accuracy: 0.6596\n",
      "Epoch 6/20\n",
      "99/99 [==============================] - 2s 21ms/step - loss: 0.6116 - accuracy: 0.6661 - val_loss: 0.6372 - val_accuracy: 0.6503\n",
      "Epoch 7/20\n",
      "99/99 [==============================] - 2s 20ms/step - loss: 0.6083 - accuracy: 0.6652 - val_loss: 0.6176 - val_accuracy: 0.6505\n",
      "Epoch 8/20\n",
      "99/99 [==============================] - 2s 20ms/step - loss: 0.6033 - accuracy: 0.6697 - val_loss: 0.6208 - val_accuracy: 0.6545\n",
      "Epoch 00008: early stopping\n",
      "50/50 [==============================] - 1s 7ms/step\n",
      "[CV 3/3] END dropout_rate=0.2, learning_rate=0.01, node_type=gru, nodes=[32, 32, 32];, score=0.640 total time=  22.8s\n"
     ]
    },
    {
     "name": "stderr",
     "output_type": "stream",
     "text": [
      "WARNING:absl:Found untraced functions such as gru_cell_1_layer_call_fn, gru_cell_1_layer_call_and_return_conditional_losses, gru_cell_1_layer_call_fn, gru_cell_1_layer_call_and_return_conditional_losses, gru_cell_1_layer_call_and_return_conditional_losses while saving (showing 5 of 5). These functions will not be directly callable after loading.\n"
     ]
    },
    {
     "name": "stdout",
     "output_type": "stream",
     "text": [
      "INFO:tensorflow:Assets written to: C:\\Users\\jared\\AppData\\Local\\Temp\\tmpbp1fwjpl\\assets\n"
     ]
    },
    {
     "name": "stderr",
     "output_type": "stream",
     "text": [
      "INFO:tensorflow:Assets written to: C:\\Users\\jared\\AppData\\Local\\Temp\\tmpbp1fwjpl\\assets\n",
      "WARNING:absl:<keras.layers.recurrent.GRUCell object at 0x0000017E0BBDADF0> has the same name 'GRUCell' as a built-in Keras object. Consider renaming <class 'keras.layers.recurrent.GRUCell'> to avoid naming conflicts when loading with `tf.keras.models.load_model`. If renaming is not possible, pass the object in the `custom_objects` parameter of the load function.\n",
      "C:\\Users\\jared\\anaconda3\\envs\\tflow\\lib\\site-packages\\scikeras\\wrappers.py:289: UserWarning: ``build_fn`` will be renamed to ``model`` in a future release, at which point use of ``build_fn`` will raise an Error instead.\n",
      "  warnings.warn(\n"
     ]
    },
    {
     "name": "stdout",
     "output_type": "stream",
     "text": [
      "Epoch 1/20\n",
      "99/99 [==============================] - 3s 18ms/step - loss: 0.7626 - accuracy: 0.5080 - val_loss: 0.6907 - val_accuracy: 0.5239\n",
      "Epoch 2/20\n",
      "99/99 [==============================] - 1s 12ms/step - loss: 0.6910 - accuracy: 0.5250 - val_loss: 0.6865 - val_accuracy: 0.5267\n",
      "Epoch 3/20\n",
      "99/99 [==============================] - 1s 12ms/step - loss: 0.6868 - accuracy: 0.5366 - val_loss: 0.6863 - val_accuracy: 0.5438\n",
      "Epoch 4/20\n",
      "99/99 [==============================] - 1s 12ms/step - loss: 0.6867 - accuracy: 0.5387 - val_loss: 0.6916 - val_accuracy: 0.5128\n",
      "Epoch 5/20\n",
      "99/99 [==============================] - 1s 12ms/step - loss: 0.6857 - accuracy: 0.5420 - val_loss: 0.6781 - val_accuracy: 0.5556\n",
      "Epoch 6/20\n",
      "99/99 [==============================] - 1s 12ms/step - loss: 0.6836 - accuracy: 0.5470 - val_loss: 0.7012 - val_accuracy: 0.5052\n",
      "Epoch 7/20\n",
      "99/99 [==============================] - 1s 12ms/step - loss: 0.6839 - accuracy: 0.5435 - val_loss: 0.6801 - val_accuracy: 0.5540\n",
      "Epoch 8/20\n",
      "99/99 [==============================] - 1s 13ms/step - loss: 0.6816 - accuracy: 0.5529 - val_loss: 0.6816 - val_accuracy: 0.5521\n",
      "Epoch 00008: early stopping\n",
      "50/50 [==============================] - 0s 5ms/step\n",
      "[CV 1/3] END dropout_rate=0.2, learning_rate=0.1, node_type=lstm, nodes=[128];, score=nan total time=  13.6s\n"
     ]
    },
    {
     "name": "stderr",
     "output_type": "stream",
     "text": [
      "C:\\Users\\jared\\anaconda3\\envs\\tflow\\lib\\site-packages\\sklearn\\model_selection\\_validation.py:771: UserWarning: Scoring failed. The score on this train-test partition for these parameters will be set to nan. Details: \n",
      "Traceback (most recent call last):\n",
      "  File \"C:\\Users\\jared\\anaconda3\\envs\\tflow\\lib\\site-packages\\sklearn\\model_selection\\_validation.py\", line 762, in _score\n",
      "    scores = scorer(estimator, X_test, y_test)\n",
      "  File \"C:\\Users\\jared\\anaconda3\\envs\\tflow\\lib\\site-packages\\sklearn\\metrics\\_scorer.py\", line 216, in __call__\n",
      "    return self._score(\n",
      "  File \"C:\\Users\\jared\\anaconda3\\envs\\tflow\\lib\\site-packages\\sklearn\\metrics\\_scorer.py\", line 258, in _score\n",
      "    y_pred = method_caller(estimator, \"predict\", X)\n",
      "  File \"C:\\Users\\jared\\anaconda3\\envs\\tflow\\lib\\site-packages\\sklearn\\metrics\\_scorer.py\", line 68, in _cached_call\n",
      "    return getattr(estimator, method)(*args, **kwargs)\n",
      "  File \"C:\\Users\\jared\\anaconda3\\envs\\tflow\\lib\\site-packages\\scikeras\\wrappers.py\", line 1013, in predict\n",
      "    y_pred = self.target_encoder_.inverse_transform(y_pred)\n",
      "  File \"C:\\Users\\jared\\anaconda3\\envs\\tflow\\lib\\site-packages\\scikeras\\utils\\transformers.py\", line 257, in inverse_transform\n",
      "    class_predictions = self._final_encoder.inverse_transform(class_predictions)\n",
      "  File \"C:\\Users\\jared\\anaconda3\\envs\\tflow\\lib\\site-packages\\sklearn\\utils\\metaestimators.py\", line 113, in <lambda>\n",
      "    out = lambda *args, **kwargs: self.fn(obj, *args, **kwargs)  # noqa\n",
      "  File \"C:\\Users\\jared\\anaconda3\\envs\\tflow\\lib\\site-packages\\sklearn\\pipeline.py\", line 675, in inverse_transform\n",
      "    Xt = transform.inverse_transform(Xt)\n",
      "  File \"C:\\Users\\jared\\anaconda3\\envs\\tflow\\lib\\site-packages\\sklearn\\preprocessing\\_encoders.py\", line 990, in inverse_transform\n",
      "    X_tr[:, i] = self.categories_[i][labels]\n",
      "IndexError: index 45 is out of bounds for axis 0 with size 2\n",
      "\n",
      "  warnings.warn(\n",
      "WARNING:absl:Found untraced functions such as gru_cell_1_layer_call_fn, gru_cell_1_layer_call_and_return_conditional_losses, gru_cell_1_layer_call_fn, gru_cell_1_layer_call_and_return_conditional_losses, gru_cell_1_layer_call_and_return_conditional_losses while saving (showing 5 of 5). These functions will not be directly callable after loading.\n"
     ]
    },
    {
     "name": "stdout",
     "output_type": "stream",
     "text": [
      "INFO:tensorflow:Assets written to: C:\\Users\\jared\\AppData\\Local\\Temp\\tmpay0pv3zr\\assets\n"
     ]
    },
    {
     "name": "stderr",
     "output_type": "stream",
     "text": [
      "INFO:tensorflow:Assets written to: C:\\Users\\jared\\AppData\\Local\\Temp\\tmpay0pv3zr\\assets\n",
      "WARNING:absl:<keras.layers.recurrent.GRUCell object at 0x0000017E0BBDADF0> has the same name 'GRUCell' as a built-in Keras object. Consider renaming <class 'keras.layers.recurrent.GRUCell'> to avoid naming conflicts when loading with `tf.keras.models.load_model`. If renaming is not possible, pass the object in the `custom_objects` parameter of the load function.\n",
      "C:\\Users\\jared\\anaconda3\\envs\\tflow\\lib\\site-packages\\scikeras\\wrappers.py:289: UserWarning: ``build_fn`` will be renamed to ``model`` in a future release, at which point use of ``build_fn`` will raise an Error instead.\n",
      "  warnings.warn(\n"
     ]
    },
    {
     "name": "stdout",
     "output_type": "stream",
     "text": [
      "Epoch 1/20\n",
      "99/99 [==============================] - 3s 19ms/step - loss: 0.7714 - accuracy: 0.5117 - val_loss: 0.6920 - val_accuracy: 0.5122\n",
      "Epoch 2/20\n",
      "99/99 [==============================] - 1s 13ms/step - loss: 0.6891 - accuracy: 0.5284 - val_loss: 0.6832 - val_accuracy: 0.5456\n",
      "Epoch 3/20\n",
      "99/99 [==============================] - 1s 13ms/step - loss: 0.6855 - accuracy: 0.5429 - val_loss: 0.6866 - val_accuracy: 0.5473\n",
      "Epoch 4/20\n",
      "99/99 [==============================] - 1s 12ms/step - loss: 0.6825 - accuracy: 0.5466 - val_loss: 0.6815 - val_accuracy: 0.5495\n",
      "Epoch 5/20\n",
      "99/99 [==============================] - 1s 13ms/step - loss: 0.6840 - accuracy: 0.5461 - val_loss: 0.6781 - val_accuracy: 0.5625\n",
      "Epoch 6/20\n",
      "99/99 [==============================] - 1s 12ms/step - loss: 0.6824 - accuracy: 0.5465 - val_loss: 0.6859 - val_accuracy: 0.5574\n",
      "Epoch 7/20\n",
      "99/99 [==============================] - 1s 12ms/step - loss: 0.6813 - accuracy: 0.5511 - val_loss: 0.6775 - val_accuracy: 0.5578\n",
      "Epoch 8/20\n",
      "99/99 [==============================] - 1s 13ms/step - loss: 0.6829 - accuracy: 0.5492 - val_loss: 0.6899 - val_accuracy: 0.5484\n",
      "Epoch 9/20\n",
      "99/99 [==============================] - 1s 13ms/step - loss: 0.6820 - accuracy: 0.5505 - val_loss: 0.6740 - val_accuracy: 0.5665\n",
      "Epoch 10/20\n",
      "99/99 [==============================] - 1s 12ms/step - loss: 0.6808 - accuracy: 0.5518 - val_loss: 0.6878 - val_accuracy: 0.5571\n",
      "Epoch 11/20\n",
      "99/99 [==============================] - 1s 13ms/step - loss: 0.6872 - accuracy: 0.5447 - val_loss: 0.6871 - val_accuracy: 0.5402\n",
      "Epoch 12/20\n",
      "99/99 [==============================] - 1s 13ms/step - loss: 0.6880 - accuracy: 0.5480 - val_loss: 0.6881 - val_accuracy: 0.5334\n",
      "Epoch 00012: early stopping\n",
      "50/50 [==============================] - 0s 4ms/step\n",
      "[CV 2/3] END dropout_rate=0.2, learning_rate=0.1, node_type=lstm, nodes=[128];, score=nan total time=  19.0s\n"
     ]
    },
    {
     "name": "stderr",
     "output_type": "stream",
     "text": [
      "C:\\Users\\jared\\anaconda3\\envs\\tflow\\lib\\site-packages\\sklearn\\model_selection\\_validation.py:771: UserWarning: Scoring failed. The score on this train-test partition for these parameters will be set to nan. Details: \n",
      "Traceback (most recent call last):\n",
      "  File \"C:\\Users\\jared\\anaconda3\\envs\\tflow\\lib\\site-packages\\sklearn\\model_selection\\_validation.py\", line 762, in _score\n",
      "    scores = scorer(estimator, X_test, y_test)\n",
      "  File \"C:\\Users\\jared\\anaconda3\\envs\\tflow\\lib\\site-packages\\sklearn\\metrics\\_scorer.py\", line 216, in __call__\n",
      "    return self._score(\n",
      "  File \"C:\\Users\\jared\\anaconda3\\envs\\tflow\\lib\\site-packages\\sklearn\\metrics\\_scorer.py\", line 258, in _score\n",
      "    y_pred = method_caller(estimator, \"predict\", X)\n",
      "  File \"C:\\Users\\jared\\anaconda3\\envs\\tflow\\lib\\site-packages\\sklearn\\metrics\\_scorer.py\", line 68, in _cached_call\n",
      "    return getattr(estimator, method)(*args, **kwargs)\n",
      "  File \"C:\\Users\\jared\\anaconda3\\envs\\tflow\\lib\\site-packages\\scikeras\\wrappers.py\", line 1013, in predict\n",
      "    y_pred = self.target_encoder_.inverse_transform(y_pred)\n",
      "  File \"C:\\Users\\jared\\anaconda3\\envs\\tflow\\lib\\site-packages\\scikeras\\utils\\transformers.py\", line 257, in inverse_transform\n",
      "    class_predictions = self._final_encoder.inverse_transform(class_predictions)\n",
      "  File \"C:\\Users\\jared\\anaconda3\\envs\\tflow\\lib\\site-packages\\sklearn\\utils\\metaestimators.py\", line 113, in <lambda>\n",
      "    out = lambda *args, **kwargs: self.fn(obj, *args, **kwargs)  # noqa\n",
      "  File \"C:\\Users\\jared\\anaconda3\\envs\\tflow\\lib\\site-packages\\sklearn\\pipeline.py\", line 675, in inverse_transform\n",
      "    Xt = transform.inverse_transform(Xt)\n",
      "  File \"C:\\Users\\jared\\anaconda3\\envs\\tflow\\lib\\site-packages\\sklearn\\preprocessing\\_encoders.py\", line 990, in inverse_transform\n",
      "    X_tr[:, i] = self.categories_[i][labels]\n",
      "IndexError: index 59 is out of bounds for axis 0 with size 2\n",
      "\n",
      "  warnings.warn(\n",
      "WARNING:absl:Found untraced functions such as gru_cell_1_layer_call_fn, gru_cell_1_layer_call_and_return_conditional_losses, gru_cell_1_layer_call_fn, gru_cell_1_layer_call_and_return_conditional_losses, gru_cell_1_layer_call_and_return_conditional_losses while saving (showing 5 of 5). These functions will not be directly callable after loading.\n"
     ]
    },
    {
     "name": "stdout",
     "output_type": "stream",
     "text": [
      "INFO:tensorflow:Assets written to: C:\\Users\\jared\\AppData\\Local\\Temp\\tmpch5uv4j3\\assets\n"
     ]
    },
    {
     "name": "stderr",
     "output_type": "stream",
     "text": [
      "INFO:tensorflow:Assets written to: C:\\Users\\jared\\AppData\\Local\\Temp\\tmpch5uv4j3\\assets\n",
      "WARNING:absl:<keras.layers.recurrent.GRUCell object at 0x0000017E0BBDADF0> has the same name 'GRUCell' as a built-in Keras object. Consider renaming <class 'keras.layers.recurrent.GRUCell'> to avoid naming conflicts when loading with `tf.keras.models.load_model`. If renaming is not possible, pass the object in the `custom_objects` parameter of the load function.\n",
      "C:\\Users\\jared\\anaconda3\\envs\\tflow\\lib\\site-packages\\scikeras\\wrappers.py:289: UserWarning: ``build_fn`` will be renamed to ``model`` in a future release, at which point use of ``build_fn`` will raise an Error instead.\n",
      "  warnings.warn(\n"
     ]
    },
    {
     "name": "stdout",
     "output_type": "stream",
     "text": [
      "Epoch 1/20\n",
      "99/99 [==============================] - 3s 18ms/step - loss: 0.7615 - accuracy: 0.5102 - val_loss: 0.6963 - val_accuracy: 0.5093\n",
      "Epoch 2/20\n",
      "99/99 [==============================] - 1s 13ms/step - loss: 0.6903 - accuracy: 0.5323 - val_loss: 0.6893 - val_accuracy: 0.5273\n",
      "Epoch 3/20\n",
      "99/99 [==============================] - 1s 12ms/step - loss: 0.6861 - accuracy: 0.5414 - val_loss: 0.6800 - val_accuracy: 0.5634\n",
      "Epoch 4/20\n",
      "99/99 [==============================] - 1s 13ms/step - loss: 0.6838 - accuracy: 0.5457 - val_loss: 0.6853 - val_accuracy: 0.5321\n",
      "Epoch 5/20\n",
      "99/99 [==============================] - 1s 13ms/step - loss: 0.6820 - accuracy: 0.5485 - val_loss: 0.6771 - val_accuracy: 0.5614\n",
      "Epoch 6/20\n",
      "99/99 [==============================] - 1s 13ms/step - loss: 0.6816 - accuracy: 0.5513 - val_loss: 0.6829 - val_accuracy: 0.5496\n",
      "Epoch 7/20\n",
      "99/99 [==============================] - 1s 12ms/step - loss: 0.6825 - accuracy: 0.5504 - val_loss: 0.6789 - val_accuracy: 0.5647\n",
      "Epoch 8/20\n",
      "99/99 [==============================] - 1s 12ms/step - loss: 0.6835 - accuracy: 0.5506 - val_loss: 0.6865 - val_accuracy: 0.5485\n",
      "Epoch 00008: early stopping\n",
      "50/50 [==============================] - 1s 5ms/step\n",
      "[CV 3/3] END dropout_rate=0.2, learning_rate=0.1, node_type=lstm, nodes=[128];, score=nan total time=  14.3s\n"
     ]
    },
    {
     "name": "stderr",
     "output_type": "stream",
     "text": [
      "C:\\Users\\jared\\anaconda3\\envs\\tflow\\lib\\site-packages\\sklearn\\model_selection\\_validation.py:771: UserWarning: Scoring failed. The score on this train-test partition for these parameters will be set to nan. Details: \n",
      "Traceback (most recent call last):\n",
      "  File \"C:\\Users\\jared\\anaconda3\\envs\\tflow\\lib\\site-packages\\sklearn\\model_selection\\_validation.py\", line 762, in _score\n",
      "    scores = scorer(estimator, X_test, y_test)\n",
      "  File \"C:\\Users\\jared\\anaconda3\\envs\\tflow\\lib\\site-packages\\sklearn\\metrics\\_scorer.py\", line 216, in __call__\n",
      "    return self._score(\n",
      "  File \"C:\\Users\\jared\\anaconda3\\envs\\tflow\\lib\\site-packages\\sklearn\\metrics\\_scorer.py\", line 258, in _score\n",
      "    y_pred = method_caller(estimator, \"predict\", X)\n",
      "  File \"C:\\Users\\jared\\anaconda3\\envs\\tflow\\lib\\site-packages\\sklearn\\metrics\\_scorer.py\", line 68, in _cached_call\n",
      "    return getattr(estimator, method)(*args, **kwargs)\n",
      "  File \"C:\\Users\\jared\\anaconda3\\envs\\tflow\\lib\\site-packages\\scikeras\\wrappers.py\", line 1013, in predict\n",
      "    y_pred = self.target_encoder_.inverse_transform(y_pred)\n",
      "  File \"C:\\Users\\jared\\anaconda3\\envs\\tflow\\lib\\site-packages\\scikeras\\utils\\transformers.py\", line 257, in inverse_transform\n",
      "    class_predictions = self._final_encoder.inverse_transform(class_predictions)\n",
      "  File \"C:\\Users\\jared\\anaconda3\\envs\\tflow\\lib\\site-packages\\sklearn\\utils\\metaestimators.py\", line 113, in <lambda>\n",
      "    out = lambda *args, **kwargs: self.fn(obj, *args, **kwargs)  # noqa\n",
      "  File \"C:\\Users\\jared\\anaconda3\\envs\\tflow\\lib\\site-packages\\sklearn\\pipeline.py\", line 675, in inverse_transform\n",
      "    Xt = transform.inverse_transform(Xt)\n",
      "  File \"C:\\Users\\jared\\anaconda3\\envs\\tflow\\lib\\site-packages\\sklearn\\preprocessing\\_encoders.py\", line 990, in inverse_transform\n",
      "    X_tr[:, i] = self.categories_[i][labels]\n",
      "IndexError: index 59 is out of bounds for axis 0 with size 2\n",
      "\n",
      "  warnings.warn(\n",
      "WARNING:absl:Found untraced functions such as gru_cell_1_layer_call_fn, gru_cell_1_layer_call_and_return_conditional_losses, gru_cell_1_layer_call_fn, gru_cell_1_layer_call_and_return_conditional_losses, gru_cell_1_layer_call_and_return_conditional_losses while saving (showing 5 of 5). These functions will not be directly callable after loading.\n"
     ]
    },
    {
     "name": "stdout",
     "output_type": "stream",
     "text": [
      "INFO:tensorflow:Assets written to: C:\\Users\\jared\\AppData\\Local\\Temp\\tmpsg86vx0q\\assets\n"
     ]
    },
    {
     "name": "stderr",
     "output_type": "stream",
     "text": [
      "INFO:tensorflow:Assets written to: C:\\Users\\jared\\AppData\\Local\\Temp\\tmpsg86vx0q\\assets\n",
      "WARNING:absl:<keras.layers.recurrent.GRUCell object at 0x0000017E0BBDADF0> has the same name 'GRUCell' as a built-in Keras object. Consider renaming <class 'keras.layers.recurrent.GRUCell'> to avoid naming conflicts when loading with `tf.keras.models.load_model`. If renaming is not possible, pass the object in the `custom_objects` parameter of the load function.\n",
      "C:\\Users\\jared\\anaconda3\\envs\\tflow\\lib\\site-packages\\scikeras\\wrappers.py:289: UserWarning: ``build_fn`` will be renamed to ``model`` in a future release, at which point use of ``build_fn`` will raise an Error instead.\n",
      "  warnings.warn(\n"
     ]
    },
    {
     "name": "stdout",
     "output_type": "stream",
     "text": [
      "Epoch 1/20\n",
      "99/99 [==============================] - 4s 25ms/step - loss: 0.7172 - accuracy: 0.5138 - val_loss: 0.6953 - val_accuracy: 0.5077\n",
      "Epoch 2/20\n",
      "99/99 [==============================] - 2s 16ms/step - loss: 0.6960 - accuracy: 0.5085 - val_loss: 0.7012 - val_accuracy: 0.4912\n",
      "Epoch 3/20\n",
      "99/99 [==============================] - 2s 17ms/step - loss: 0.6996 - accuracy: 0.5038 - val_loss: 0.7075 - val_accuracy: 0.4913\n",
      "Epoch 4/20\n",
      "99/99 [==============================] - 2s 17ms/step - loss: 0.7053 - accuracy: 0.5021 - val_loss: 0.7184 - val_accuracy: 0.4912\n",
      "Epoch 00004: early stopping\n",
      "50/50 [==============================] - 1s 5ms/step\n",
      "[CV 1/3] END dropout_rate=0.2, learning_rate=0.1, node_type=lstm, nodes=[64, 64];, score=0.491 total time=  12.2s\n"
     ]
    },
    {
     "name": "stderr",
     "output_type": "stream",
     "text": [
      "WARNING:absl:Found untraced functions such as gru_cell_1_layer_call_fn, gru_cell_1_layer_call_and_return_conditional_losses, gru_cell_1_layer_call_fn, gru_cell_1_layer_call_and_return_conditional_losses, gru_cell_1_layer_call_and_return_conditional_losses while saving (showing 5 of 5). These functions will not be directly callable after loading.\n"
     ]
    },
    {
     "name": "stdout",
     "output_type": "stream",
     "text": [
      "INFO:tensorflow:Assets written to: C:\\Users\\jared\\AppData\\Local\\Temp\\tmp6yhbi4qv\\assets\n"
     ]
    },
    {
     "name": "stderr",
     "output_type": "stream",
     "text": [
      "INFO:tensorflow:Assets written to: C:\\Users\\jared\\AppData\\Local\\Temp\\tmp6yhbi4qv\\assets\n",
      "WARNING:absl:<keras.layers.recurrent.GRUCell object at 0x0000017E0BBDADF0> has the same name 'GRUCell' as a built-in Keras object. Consider renaming <class 'keras.layers.recurrent.GRUCell'> to avoid naming conflicts when loading with `tf.keras.models.load_model`. If renaming is not possible, pass the object in the `custom_objects` parameter of the load function.\n",
      "C:\\Users\\jared\\anaconda3\\envs\\tflow\\lib\\site-packages\\scikeras\\wrappers.py:289: UserWarning: ``build_fn`` will be renamed to ``model`` in a future release, at which point use of ``build_fn`` will raise an Error instead.\n",
      "  warnings.warn(\n"
     ]
    },
    {
     "name": "stdout",
     "output_type": "stream",
     "text": [
      "Epoch 1/20\n",
      "99/99 [==============================] - 4s 25ms/step - loss: 0.7221 - accuracy: 0.5042 - val_loss: 0.7152 - val_accuracy: 0.5089\n",
      "Epoch 2/20\n",
      "99/99 [==============================] - 2s 16ms/step - loss: 0.6994 - accuracy: 0.5081 - val_loss: 0.6972 - val_accuracy: 0.4911\n",
      "Epoch 3/20\n",
      "99/99 [==============================] - 2s 16ms/step - loss: 0.6952 - accuracy: 0.5189 - val_loss: 0.6889 - val_accuracy: 0.5413\n",
      "Epoch 4/20\n",
      "99/99 [==============================] - 2s 16ms/step - loss: 0.7043 - accuracy: 0.5066 - val_loss: 0.6972 - val_accuracy: 0.5084\n",
      "Epoch 5/20\n",
      "99/99 [==============================] - 2s 16ms/step - loss: 0.7052 - accuracy: 0.5036 - val_loss: 0.6952 - val_accuracy: 0.5096\n",
      "Epoch 6/20\n",
      "99/99 [==============================] - 2s 16ms/step - loss: 0.7066 - accuracy: 0.5078 - val_loss: 0.7848 - val_accuracy: 0.5119\n",
      "Epoch 00006: early stopping\n",
      "50/50 [==============================] - 1s 5ms/step\n",
      "[CV 2/3] END dropout_rate=0.2, learning_rate=0.1, node_type=lstm, nodes=[64, 64];, score=0.508 total time=  15.0s\n"
     ]
    },
    {
     "name": "stderr",
     "output_type": "stream",
     "text": [
      "WARNING:absl:Found untraced functions such as gru_cell_1_layer_call_fn, gru_cell_1_layer_call_and_return_conditional_losses, gru_cell_1_layer_call_fn, gru_cell_1_layer_call_and_return_conditional_losses, gru_cell_1_layer_call_and_return_conditional_losses while saving (showing 5 of 5). These functions will not be directly callable after loading.\n"
     ]
    },
    {
     "name": "stdout",
     "output_type": "stream",
     "text": [
      "INFO:tensorflow:Assets written to: C:\\Users\\jared\\AppData\\Local\\Temp\\tmpme_j2zfn\\assets\n"
     ]
    },
    {
     "name": "stderr",
     "output_type": "stream",
     "text": [
      "INFO:tensorflow:Assets written to: C:\\Users\\jared\\AppData\\Local\\Temp\\tmpme_j2zfn\\assets\n",
      "WARNING:absl:<keras.layers.recurrent.GRUCell object at 0x0000017E0BBDADF0> has the same name 'GRUCell' as a built-in Keras object. Consider renaming <class 'keras.layers.recurrent.GRUCell'> to avoid naming conflicts when loading with `tf.keras.models.load_model`. If renaming is not possible, pass the object in the `custom_objects` parameter of the load function.\n",
      "C:\\Users\\jared\\anaconda3\\envs\\tflow\\lib\\site-packages\\scikeras\\wrappers.py:289: UserWarning: ``build_fn`` will be renamed to ``model`` in a future release, at which point use of ``build_fn`` will raise an Error instead.\n",
      "  warnings.warn(\n"
     ]
    },
    {
     "name": "stdout",
     "output_type": "stream",
     "text": [
      "Epoch 1/20\n",
      "99/99 [==============================] - 4s 23ms/step - loss: 0.7218 - accuracy: 0.5103 - val_loss: 0.6907 - val_accuracy: 0.5327\n",
      "Epoch 2/20\n",
      "99/99 [==============================] - 2s 15ms/step - loss: 0.7021 - accuracy: 0.5072 - val_loss: 0.7078 - val_accuracy: 0.4996\n",
      "Epoch 3/20\n",
      "99/99 [==============================] - 2s 17ms/step - loss: 0.6977 - accuracy: 0.5208 - val_loss: 0.6932 - val_accuracy: 0.5097\n",
      "Epoch 4/20\n",
      "99/99 [==============================] - 2s 15ms/step - loss: 0.7011 - accuracy: 0.5139 - val_loss: 0.6935 - val_accuracy: 0.5234\n",
      "Epoch 00004: early stopping\n",
      "50/50 [==============================] - 1s 5ms/step\n",
      "[CV 3/3] END dropout_rate=0.2, learning_rate=0.1, node_type=lstm, nodes=[64, 64];, score=0.524 total time=  11.7s\n"
     ]
    },
    {
     "name": "stderr",
     "output_type": "stream",
     "text": [
      "WARNING:absl:Found untraced functions such as gru_cell_1_layer_call_fn, gru_cell_1_layer_call_and_return_conditional_losses, gru_cell_1_layer_call_fn, gru_cell_1_layer_call_and_return_conditional_losses, gru_cell_1_layer_call_and_return_conditional_losses while saving (showing 5 of 5). These functions will not be directly callable after loading.\n"
     ]
    },
    {
     "name": "stdout",
     "output_type": "stream",
     "text": [
      "INFO:tensorflow:Assets written to: C:\\Users\\jared\\AppData\\Local\\Temp\\tmpcxfu5274\\assets\n"
     ]
    },
    {
     "name": "stderr",
     "output_type": "stream",
     "text": [
      "INFO:tensorflow:Assets written to: C:\\Users\\jared\\AppData\\Local\\Temp\\tmpcxfu5274\\assets\n",
      "WARNING:absl:<keras.layers.recurrent.GRUCell object at 0x0000017E0BBDADF0> has the same name 'GRUCell' as a built-in Keras object. Consider renaming <class 'keras.layers.recurrent.GRUCell'> to avoid naming conflicts when loading with `tf.keras.models.load_model`. If renaming is not possible, pass the object in the `custom_objects` parameter of the load function.\n",
      "C:\\Users\\jared\\anaconda3\\envs\\tflow\\lib\\site-packages\\scikeras\\wrappers.py:289: UserWarning: ``build_fn`` will be renamed to ``model`` in a future release, at which point use of ``build_fn`` will raise an Error instead.\n",
      "  warnings.warn(\n"
     ]
    },
    {
     "name": "stdout",
     "output_type": "stream",
     "text": [
      "Epoch 1/20\n",
      "99/99 [==============================] - 6s 30ms/step - loss: 0.7102 - accuracy: 0.4990 - val_loss: 0.6930 - val_accuracy: 0.5087\n",
      "Epoch 2/20\n",
      "99/99 [==============================] - 2s 21ms/step - loss: 0.6953 - accuracy: 0.5049 - val_loss: 0.6931 - val_accuracy: 0.4949\n",
      "Epoch 3/20\n",
      "99/99 [==============================] - 2s 19ms/step - loss: 0.6992 - accuracy: 0.4959 - val_loss: 0.6940 - val_accuracy: 0.5089\n",
      "Epoch 4/20\n",
      "99/99 [==============================] - 2s 21ms/step - loss: 0.6954 - accuracy: 0.4948 - val_loss: 0.6944 - val_accuracy: 0.4908\n",
      "Epoch 00004: early stopping\n",
      "50/50 [==============================] - 1s 7ms/step\n",
      "[CV 1/3] END dropout_rate=0.2, learning_rate=0.1, node_type=lstm, nodes=[32, 32, 32];, score=0.491 total time=  14.9s\n"
     ]
    },
    {
     "name": "stderr",
     "output_type": "stream",
     "text": [
      "WARNING:absl:Found untraced functions such as gru_cell_1_layer_call_fn, gru_cell_1_layer_call_and_return_conditional_losses, gru_cell_1_layer_call_fn, gru_cell_1_layer_call_and_return_conditional_losses, gru_cell_1_layer_call_and_return_conditional_losses while saving (showing 5 of 5). These functions will not be directly callable after loading.\n"
     ]
    },
    {
     "name": "stdout",
     "output_type": "stream",
     "text": [
      "INFO:tensorflow:Assets written to: C:\\Users\\jared\\AppData\\Local\\Temp\\tmp3vu0whv8\\assets\n"
     ]
    },
    {
     "name": "stderr",
     "output_type": "stream",
     "text": [
      "INFO:tensorflow:Assets written to: C:\\Users\\jared\\AppData\\Local\\Temp\\tmp3vu0whv8\\assets\n",
      "WARNING:absl:<keras.layers.recurrent.GRUCell object at 0x0000017E0BBDADF0> has the same name 'GRUCell' as a built-in Keras object. Consider renaming <class 'keras.layers.recurrent.GRUCell'> to avoid naming conflicts when loading with `tf.keras.models.load_model`. If renaming is not possible, pass the object in the `custom_objects` parameter of the load function.\n",
      "C:\\Users\\jared\\anaconda3\\envs\\tflow\\lib\\site-packages\\scikeras\\wrappers.py:289: UserWarning: ``build_fn`` will be renamed to ``model`` in a future release, at which point use of ``build_fn`` will raise an Error instead.\n",
      "  warnings.warn(\n"
     ]
    },
    {
     "name": "stdout",
     "output_type": "stream",
     "text": [
      "Epoch 1/20\n",
      "99/99 [==============================] - 5s 29ms/step - loss: 0.7126 - accuracy: 0.5073 - val_loss: 0.6938 - val_accuracy: 0.4898\n",
      "Epoch 2/20\n",
      "99/99 [==============================] - 2s 19ms/step - loss: 0.6959 - accuracy: 0.4965 - val_loss: 0.6968 - val_accuracy: 0.5088\n",
      "Epoch 3/20\n",
      "99/99 [==============================] - 2s 21ms/step - loss: 0.6982 - accuracy: 0.4992 - val_loss: 0.7019 - val_accuracy: 0.4912\n",
      "Epoch 4/20\n",
      "99/99 [==============================] - 2s 21ms/step - loss: 0.6959 - accuracy: 0.4967 - val_loss: 0.6943 - val_accuracy: 0.5089\n",
      "Epoch 00004: early stopping\n",
      "50/50 [==============================] - 1s 7ms/step\n",
      "[CV 2/3] END dropout_rate=0.2, learning_rate=0.1, node_type=lstm, nodes=[32, 32, 32];, score=0.509 total time=  14.7s\n"
     ]
    },
    {
     "name": "stderr",
     "output_type": "stream",
     "text": [
      "WARNING:absl:Found untraced functions such as gru_cell_1_layer_call_fn, gru_cell_1_layer_call_and_return_conditional_losses, gru_cell_1_layer_call_fn, gru_cell_1_layer_call_and_return_conditional_losses, gru_cell_1_layer_call_and_return_conditional_losses while saving (showing 5 of 5). These functions will not be directly callable after loading.\n"
     ]
    },
    {
     "name": "stdout",
     "output_type": "stream",
     "text": [
      "INFO:tensorflow:Assets written to: C:\\Users\\jared\\AppData\\Local\\Temp\\tmptvxrm3br\\assets\n"
     ]
    },
    {
     "name": "stderr",
     "output_type": "stream",
     "text": [
      "INFO:tensorflow:Assets written to: C:\\Users\\jared\\AppData\\Local\\Temp\\tmptvxrm3br\\assets\n",
      "WARNING:absl:<keras.layers.recurrent.GRUCell object at 0x0000017E0BBDADF0> has the same name 'GRUCell' as a built-in Keras object. Consider renaming <class 'keras.layers.recurrent.GRUCell'> to avoid naming conflicts when loading with `tf.keras.models.load_model`. If renaming is not possible, pass the object in the `custom_objects` parameter of the load function.\n",
      "C:\\Users\\jared\\anaconda3\\envs\\tflow\\lib\\site-packages\\scikeras\\wrappers.py:289: UserWarning: ``build_fn`` will be renamed to ``model`` in a future release, at which point use of ``build_fn`` will raise an Error instead.\n",
      "  warnings.warn(\n"
     ]
    },
    {
     "name": "stdout",
     "output_type": "stream",
     "text": [
      "Epoch 1/20\n",
      "99/99 [==============================] - 6s 28ms/step - loss: 0.7190 - accuracy: 0.4934 - val_loss: 0.6942 - val_accuracy: 0.5088\n",
      "Epoch 2/20\n",
      "99/99 [==============================] - 2s 20ms/step - loss: 0.6948 - accuracy: 0.5012 - val_loss: 0.6958 - val_accuracy: 0.4912\n",
      "Epoch 3/20\n",
      "99/99 [==============================] - 2s 20ms/step - loss: 0.6975 - accuracy: 0.5015 - val_loss: 0.7004 - val_accuracy: 0.5088\n",
      "Epoch 4/20\n",
      "99/99 [==============================] - 2s 20ms/step - loss: 0.6945 - accuracy: 0.5023 - val_loss: 0.6930 - val_accuracy: 0.5088\n",
      "Epoch 5/20\n",
      "99/99 [==============================] - 2s 18ms/step - loss: 0.6968 - accuracy: 0.4989 - val_loss: 0.6950 - val_accuracy: 0.4911\n",
      "Epoch 6/20\n",
      "99/99 [==============================] - 2s 19ms/step - loss: 0.6943 - accuracy: 0.5023 - val_loss: 0.6930 - val_accuracy: 0.5088\n",
      "Epoch 7/20\n",
      "99/99 [==============================] - 2s 19ms/step - loss: 0.6944 - accuracy: 0.5031 - val_loss: 0.6939 - val_accuracy: 0.4912\n",
      "Epoch 8/20\n",
      "99/99 [==============================] - 2s 19ms/step - loss: 0.6944 - accuracy: 0.4989 - val_loss: 0.6932 - val_accuracy: 0.4912\n",
      "Epoch 9/20\n",
      "99/99 [==============================] - 2s 20ms/step - loss: 0.6937 - accuracy: 0.5020 - val_loss: 0.6944 - val_accuracy: 0.4912\n",
      "Epoch 00009: early stopping\n",
      "50/50 [==============================] - 1s 7ms/step\n",
      "[CV 3/3] END dropout_rate=0.2, learning_rate=0.1, node_type=lstm, nodes=[32, 32, 32];, score=0.491 total time=  24.1s\n"
     ]
    },
    {
     "name": "stderr",
     "output_type": "stream",
     "text": [
      "WARNING:absl:Found untraced functions such as gru_cell_1_layer_call_fn, gru_cell_1_layer_call_and_return_conditional_losses, gru_cell_1_layer_call_fn, gru_cell_1_layer_call_and_return_conditional_losses, gru_cell_1_layer_call_and_return_conditional_losses while saving (showing 5 of 5). These functions will not be directly callable after loading.\n"
     ]
    },
    {
     "name": "stdout",
     "output_type": "stream",
     "text": [
      "INFO:tensorflow:Assets written to: C:\\Users\\jared\\AppData\\Local\\Temp\\tmpetoyowvk\\assets\n"
     ]
    },
    {
     "name": "stderr",
     "output_type": "stream",
     "text": [
      "INFO:tensorflow:Assets written to: C:\\Users\\jared\\AppData\\Local\\Temp\\tmpetoyowvk\\assets\n",
      "WARNING:absl:<keras.layers.recurrent.GRUCell object at 0x0000017E0BBDADF0> has the same name 'GRUCell' as a built-in Keras object. Consider renaming <class 'keras.layers.recurrent.GRUCell'> to avoid naming conflicts when loading with `tf.keras.models.load_model`. If renaming is not possible, pass the object in the `custom_objects` parameter of the load function.\n",
      "C:\\Users\\jared\\anaconda3\\envs\\tflow\\lib\\site-packages\\scikeras\\wrappers.py:289: UserWarning: ``build_fn`` will be renamed to ``model`` in a future release, at which point use of ``build_fn`` will raise an Error instead.\n",
      "  warnings.warn(\n"
     ]
    },
    {
     "name": "stdout",
     "output_type": "stream",
     "text": [
      "Epoch 1/20\n",
      "99/99 [==============================] - 3s 20ms/step - loss: 0.7888 - accuracy: 0.5127 - val_loss: 0.6869 - val_accuracy: 0.5359\n",
      "Epoch 2/20\n",
      "99/99 [==============================] - 1s 12ms/step - loss: 0.6888 - accuracy: 0.5313 - val_loss: 0.6838 - val_accuracy: 0.5427\n",
      "Epoch 3/20\n",
      "99/99 [==============================] - 1s 12ms/step - loss: 0.6852 - accuracy: 0.5407 - val_loss: 0.6961 - val_accuracy: 0.5356\n",
      "Epoch 4/20\n",
      "99/99 [==============================] - 1s 12ms/step - loss: 0.6850 - accuracy: 0.5421 - val_loss: 0.6885 - val_accuracy: 0.5474\n",
      "Epoch 5/20\n",
      "99/99 [==============================] - 1s 12ms/step - loss: 0.6842 - accuracy: 0.5462 - val_loss: 0.6876 - val_accuracy: 0.5372\n",
      "Epoch 00005: early stopping\n",
      "50/50 [==============================] - 0s 4ms/step\n",
      "[CV 1/3] END dropout_rate=0.2, learning_rate=0.1, node_type=gru, nodes=[128];, score=nan total time=   9.8s\n"
     ]
    },
    {
     "name": "stderr",
     "output_type": "stream",
     "text": [
      "C:\\Users\\jared\\anaconda3\\envs\\tflow\\lib\\site-packages\\sklearn\\model_selection\\_validation.py:771: UserWarning: Scoring failed. The score on this train-test partition for these parameters will be set to nan. Details: \n",
      "Traceback (most recent call last):\n",
      "  File \"C:\\Users\\jared\\anaconda3\\envs\\tflow\\lib\\site-packages\\sklearn\\model_selection\\_validation.py\", line 762, in _score\n",
      "    scores = scorer(estimator, X_test, y_test)\n",
      "  File \"C:\\Users\\jared\\anaconda3\\envs\\tflow\\lib\\site-packages\\sklearn\\metrics\\_scorer.py\", line 216, in __call__\n",
      "    return self._score(\n",
      "  File \"C:\\Users\\jared\\anaconda3\\envs\\tflow\\lib\\site-packages\\sklearn\\metrics\\_scorer.py\", line 258, in _score\n",
      "    y_pred = method_caller(estimator, \"predict\", X)\n",
      "  File \"C:\\Users\\jared\\anaconda3\\envs\\tflow\\lib\\site-packages\\sklearn\\metrics\\_scorer.py\", line 68, in _cached_call\n",
      "    return getattr(estimator, method)(*args, **kwargs)\n",
      "  File \"C:\\Users\\jared\\anaconda3\\envs\\tflow\\lib\\site-packages\\scikeras\\wrappers.py\", line 1013, in predict\n",
      "    y_pred = self.target_encoder_.inverse_transform(y_pred)\n",
      "  File \"C:\\Users\\jared\\anaconda3\\envs\\tflow\\lib\\site-packages\\scikeras\\utils\\transformers.py\", line 257, in inverse_transform\n",
      "    class_predictions = self._final_encoder.inverse_transform(class_predictions)\n",
      "  File \"C:\\Users\\jared\\anaconda3\\envs\\tflow\\lib\\site-packages\\sklearn\\utils\\metaestimators.py\", line 113, in <lambda>\n",
      "    out = lambda *args, **kwargs: self.fn(obj, *args, **kwargs)  # noqa\n",
      "  File \"C:\\Users\\jared\\anaconda3\\envs\\tflow\\lib\\site-packages\\sklearn\\pipeline.py\", line 675, in inverse_transform\n",
      "    Xt = transform.inverse_transform(Xt)\n",
      "  File \"C:\\Users\\jared\\anaconda3\\envs\\tflow\\lib\\site-packages\\sklearn\\preprocessing\\_encoders.py\", line 990, in inverse_transform\n",
      "    X_tr[:, i] = self.categories_[i][labels]\n",
      "IndexError: index 55 is out of bounds for axis 0 with size 2\n",
      "\n",
      "  warnings.warn(\n",
      "WARNING:absl:Found untraced functions such as gru_cell_1_layer_call_fn, gru_cell_1_layer_call_and_return_conditional_losses, gru_cell_1_layer_call_fn, gru_cell_1_layer_call_and_return_conditional_losses, gru_cell_1_layer_call_and_return_conditional_losses while saving (showing 5 of 5). These functions will not be directly callable after loading.\n"
     ]
    },
    {
     "name": "stdout",
     "output_type": "stream",
     "text": [
      "INFO:tensorflow:Assets written to: C:\\Users\\jared\\AppData\\Local\\Temp\\tmpb1bqfbez\\assets\n"
     ]
    },
    {
     "name": "stderr",
     "output_type": "stream",
     "text": [
      "INFO:tensorflow:Assets written to: C:\\Users\\jared\\AppData\\Local\\Temp\\tmpb1bqfbez\\assets\n",
      "WARNING:absl:<keras.layers.recurrent.GRUCell object at 0x0000017E0BBDADF0> has the same name 'GRUCell' as a built-in Keras object. Consider renaming <class 'keras.layers.recurrent.GRUCell'> to avoid naming conflicts when loading with `tf.keras.models.load_model`. If renaming is not possible, pass the object in the `custom_objects` parameter of the load function.\n",
      "C:\\Users\\jared\\anaconda3\\envs\\tflow\\lib\\site-packages\\scikeras\\wrappers.py:289: UserWarning: ``build_fn`` will be renamed to ``model`` in a future release, at which point use of ``build_fn`` will raise an Error instead.\n",
      "  warnings.warn(\n"
     ]
    },
    {
     "name": "stdout",
     "output_type": "stream",
     "text": [
      "Epoch 1/20\n",
      "99/99 [==============================] - 3s 17ms/step - loss: 0.7740 - accuracy: 0.5122 - val_loss: 0.6902 - val_accuracy: 0.5282\n",
      "Epoch 2/20\n",
      "99/99 [==============================] - 1s 12ms/step - loss: 0.6914 - accuracy: 0.5216 - val_loss: 0.6853 - val_accuracy: 0.5315\n",
      "Epoch 3/20\n",
      "99/99 [==============================] - 1s 12ms/step - loss: 0.6872 - accuracy: 0.5354 - val_loss: 0.6830 - val_accuracy: 0.5445\n",
      "Epoch 4/20\n",
      "99/99 [==============================] - 1s 12ms/step - loss: 0.6849 - accuracy: 0.5435 - val_loss: 0.6803 - val_accuracy: 0.5495\n",
      "Epoch 5/20\n",
      "99/99 [==============================] - 1s 12ms/step - loss: 0.6842 - accuracy: 0.5456 - val_loss: 0.6871 - val_accuracy: 0.5386\n",
      "Epoch 6/20\n",
      "99/99 [==============================] - 1s 12ms/step - loss: 0.6837 - accuracy: 0.5432 - val_loss: 0.6818 - val_accuracy: 0.5348\n",
      "Epoch 7/20\n",
      "99/99 [==============================] - 1s 12ms/step - loss: 0.6864 - accuracy: 0.5363 - val_loss: 0.6818 - val_accuracy: 0.5423\n",
      "Epoch 00007: early stopping\n",
      "50/50 [==============================] - 0s 4ms/step\n",
      "[CV 2/3] END dropout_rate=0.2, learning_rate=0.1, node_type=gru, nodes=[128];, score=nan total time=  11.9s\n"
     ]
    },
    {
     "name": "stderr",
     "output_type": "stream",
     "text": [
      "C:\\Users\\jared\\anaconda3\\envs\\tflow\\lib\\site-packages\\sklearn\\model_selection\\_validation.py:771: UserWarning: Scoring failed. The score on this train-test partition for these parameters will be set to nan. Details: \n",
      "Traceback (most recent call last):\n",
      "  File \"C:\\Users\\jared\\anaconda3\\envs\\tflow\\lib\\site-packages\\sklearn\\model_selection\\_validation.py\", line 762, in _score\n",
      "    scores = scorer(estimator, X_test, y_test)\n",
      "  File \"C:\\Users\\jared\\anaconda3\\envs\\tflow\\lib\\site-packages\\sklearn\\metrics\\_scorer.py\", line 216, in __call__\n",
      "    return self._score(\n",
      "  File \"C:\\Users\\jared\\anaconda3\\envs\\tflow\\lib\\site-packages\\sklearn\\metrics\\_scorer.py\", line 258, in _score\n",
      "    y_pred = method_caller(estimator, \"predict\", X)\n",
      "  File \"C:\\Users\\jared\\anaconda3\\envs\\tflow\\lib\\site-packages\\sklearn\\metrics\\_scorer.py\", line 68, in _cached_call\n",
      "    return getattr(estimator, method)(*args, **kwargs)\n",
      "  File \"C:\\Users\\jared\\anaconda3\\envs\\tflow\\lib\\site-packages\\scikeras\\wrappers.py\", line 1013, in predict\n",
      "    y_pred = self.target_encoder_.inverse_transform(y_pred)\n",
      "  File \"C:\\Users\\jared\\anaconda3\\envs\\tflow\\lib\\site-packages\\scikeras\\utils\\transformers.py\", line 257, in inverse_transform\n",
      "    class_predictions = self._final_encoder.inverse_transform(class_predictions)\n",
      "  File \"C:\\Users\\jared\\anaconda3\\envs\\tflow\\lib\\site-packages\\sklearn\\utils\\metaestimators.py\", line 113, in <lambda>\n",
      "    out = lambda *args, **kwargs: self.fn(obj, *args, **kwargs)  # noqa\n",
      "  File \"C:\\Users\\jared\\anaconda3\\envs\\tflow\\lib\\site-packages\\sklearn\\pipeline.py\", line 675, in inverse_transform\n",
      "    Xt = transform.inverse_transform(Xt)\n",
      "  File \"C:\\Users\\jared\\anaconda3\\envs\\tflow\\lib\\site-packages\\sklearn\\preprocessing\\_encoders.py\", line 990, in inverse_transform\n",
      "    X_tr[:, i] = self.categories_[i][labels]\n",
      "IndexError: index 53 is out of bounds for axis 0 with size 2\n",
      "\n",
      "  warnings.warn(\n",
      "WARNING:absl:Found untraced functions such as gru_cell_1_layer_call_fn, gru_cell_1_layer_call_and_return_conditional_losses, gru_cell_1_layer_call_fn, gru_cell_1_layer_call_and_return_conditional_losses, gru_cell_1_layer_call_and_return_conditional_losses while saving (showing 5 of 5). These functions will not be directly callable after loading.\n"
     ]
    },
    {
     "name": "stdout",
     "output_type": "stream",
     "text": [
      "INFO:tensorflow:Assets written to: C:\\Users\\jared\\AppData\\Local\\Temp\\tmpscfw_lnw\\assets\n"
     ]
    },
    {
     "name": "stderr",
     "output_type": "stream",
     "text": [
      "INFO:tensorflow:Assets written to: C:\\Users\\jared\\AppData\\Local\\Temp\\tmpscfw_lnw\\assets\n",
      "WARNING:absl:<keras.layers.recurrent.GRUCell object at 0x0000017E0BBDADF0> has the same name 'GRUCell' as a built-in Keras object. Consider renaming <class 'keras.layers.recurrent.GRUCell'> to avoid naming conflicts when loading with `tf.keras.models.load_model`. If renaming is not possible, pass the object in the `custom_objects` parameter of the load function.\n",
      "C:\\Users\\jared\\anaconda3\\envs\\tflow\\lib\\site-packages\\scikeras\\wrappers.py:289: UserWarning: ``build_fn`` will be renamed to ``model`` in a future release, at which point use of ``build_fn`` will raise an Error instead.\n",
      "  warnings.warn(\n"
     ]
    },
    {
     "name": "stdout",
     "output_type": "stream",
     "text": [
      "Epoch 1/20\n",
      "99/99 [==============================] - 3s 18ms/step - loss: 0.7964 - accuracy: 0.5056 - val_loss: 0.6951 - val_accuracy: 0.5033\n",
      "Epoch 2/20\n",
      "99/99 [==============================] - 1s 12ms/step - loss: 0.6901 - accuracy: 0.5287 - val_loss: 0.6848 - val_accuracy: 0.5429\n",
      "Epoch 3/20\n",
      "99/99 [==============================] - 1s 13ms/step - loss: 0.6872 - accuracy: 0.5381 - val_loss: 0.6921 - val_accuracy: 0.5348\n",
      "Epoch 4/20\n",
      "99/99 [==============================] - 1s 13ms/step - loss: 0.6877 - accuracy: 0.5382 - val_loss: 0.6807 - val_accuracy: 0.5515\n",
      "Epoch 5/20\n",
      "99/99 [==============================] - 1s 12ms/step - loss: 0.6843 - accuracy: 0.5470 - val_loss: 0.6827 - val_accuracy: 0.5464\n",
      "Epoch 6/20\n",
      "99/99 [==============================] - 1s 12ms/step - loss: 0.6836 - accuracy: 0.5491 - val_loss: 0.6801 - val_accuracy: 0.5557\n",
      "Epoch 7/20\n",
      "99/99 [==============================] - 1s 12ms/step - loss: 0.6825 - accuracy: 0.5513 - val_loss: 0.6814 - val_accuracy: 0.5540\n",
      "Epoch 8/20\n",
      "99/99 [==============================] - 1s 13ms/step - loss: 0.6875 - accuracy: 0.5427 - val_loss: 0.6829 - val_accuracy: 0.5550\n",
      "Epoch 9/20\n",
      "99/99 [==============================] - 1s 13ms/step - loss: 0.6839 - accuracy: 0.5503 - val_loss: 0.6837 - val_accuracy: 0.5459\n",
      "Epoch 00009: early stopping\n",
      "50/50 [==============================] - 0s 4ms/step\n",
      "[CV 3/3] END dropout_rate=0.2, learning_rate=0.1, node_type=gru, nodes=[128];, score=nan total time=  14.9s\n"
     ]
    },
    {
     "name": "stderr",
     "output_type": "stream",
     "text": [
      "C:\\Users\\jared\\anaconda3\\envs\\tflow\\lib\\site-packages\\sklearn\\model_selection\\_validation.py:771: UserWarning: Scoring failed. The score on this train-test partition for these parameters will be set to nan. Details: \n",
      "Traceback (most recent call last):\n",
      "  File \"C:\\Users\\jared\\anaconda3\\envs\\tflow\\lib\\site-packages\\sklearn\\model_selection\\_validation.py\", line 762, in _score\n",
      "    scores = scorer(estimator, X_test, y_test)\n",
      "  File \"C:\\Users\\jared\\anaconda3\\envs\\tflow\\lib\\site-packages\\sklearn\\metrics\\_scorer.py\", line 216, in __call__\n",
      "    return self._score(\n",
      "  File \"C:\\Users\\jared\\anaconda3\\envs\\tflow\\lib\\site-packages\\sklearn\\metrics\\_scorer.py\", line 258, in _score\n",
      "    y_pred = method_caller(estimator, \"predict\", X)\n",
      "  File \"C:\\Users\\jared\\anaconda3\\envs\\tflow\\lib\\site-packages\\sklearn\\metrics\\_scorer.py\", line 68, in _cached_call\n",
      "    return getattr(estimator, method)(*args, **kwargs)\n",
      "  File \"C:\\Users\\jared\\anaconda3\\envs\\tflow\\lib\\site-packages\\scikeras\\wrappers.py\", line 1013, in predict\n",
      "    y_pred = self.target_encoder_.inverse_transform(y_pred)\n",
      "  File \"C:\\Users\\jared\\anaconda3\\envs\\tflow\\lib\\site-packages\\scikeras\\utils\\transformers.py\", line 257, in inverse_transform\n",
      "    class_predictions = self._final_encoder.inverse_transform(class_predictions)\n",
      "  File \"C:\\Users\\jared\\anaconda3\\envs\\tflow\\lib\\site-packages\\sklearn\\utils\\metaestimators.py\", line 113, in <lambda>\n",
      "    out = lambda *args, **kwargs: self.fn(obj, *args, **kwargs)  # noqa\n",
      "  File \"C:\\Users\\jared\\anaconda3\\envs\\tflow\\lib\\site-packages\\sklearn\\pipeline.py\", line 675, in inverse_transform\n",
      "    Xt = transform.inverse_transform(Xt)\n",
      "  File \"C:\\Users\\jared\\anaconda3\\envs\\tflow\\lib\\site-packages\\sklearn\\preprocessing\\_encoders.py\", line 990, in inverse_transform\n",
      "    X_tr[:, i] = self.categories_[i][labels]\n",
      "IndexError: index 57 is out of bounds for axis 0 with size 2\n",
      "\n",
      "  warnings.warn(\n",
      "WARNING:absl:Found untraced functions such as gru_cell_1_layer_call_fn, gru_cell_1_layer_call_and_return_conditional_losses, gru_cell_1_layer_call_fn, gru_cell_1_layer_call_and_return_conditional_losses, gru_cell_1_layer_call_and_return_conditional_losses while saving (showing 5 of 5). These functions will not be directly callable after loading.\n"
     ]
    },
    {
     "name": "stdout",
     "output_type": "stream",
     "text": [
      "INFO:tensorflow:Assets written to: C:\\Users\\jared\\AppData\\Local\\Temp\\tmpk19zvtkb\\assets\n"
     ]
    },
    {
     "name": "stderr",
     "output_type": "stream",
     "text": [
      "INFO:tensorflow:Assets written to: C:\\Users\\jared\\AppData\\Local\\Temp\\tmpk19zvtkb\\assets\n",
      "WARNING:absl:<keras.layers.recurrent.GRUCell object at 0x0000017E0BBDADF0> has the same name 'GRUCell' as a built-in Keras object. Consider renaming <class 'keras.layers.recurrent.GRUCell'> to avoid naming conflicts when loading with `tf.keras.models.load_model`. If renaming is not possible, pass the object in the `custom_objects` parameter of the load function.\n",
      "C:\\Users\\jared\\anaconda3\\envs\\tflow\\lib\\site-packages\\scikeras\\wrappers.py:289: UserWarning: ``build_fn`` will be renamed to ``model`` in a future release, at which point use of ``build_fn`` will raise an Error instead.\n",
      "  warnings.warn(\n"
     ]
    },
    {
     "name": "stdout",
     "output_type": "stream",
     "text": [
      "Epoch 1/20\n",
      "99/99 [==============================] - 4s 25ms/step - loss: 0.7297 - accuracy: 0.5124 - val_loss: 0.7017 - val_accuracy: 0.5088\n",
      "Epoch 2/20\n",
      "99/99 [==============================] - 1s 15ms/step - loss: 0.6959 - accuracy: 0.5014 - val_loss: 0.6924 - val_accuracy: 0.5189\n",
      "Epoch 3/20\n",
      "99/99 [==============================] - 1s 15ms/step - loss: 0.6948 - accuracy: 0.5040 - val_loss: 0.6930 - val_accuracy: 0.5124\n",
      "Epoch 4/20\n",
      "99/99 [==============================] - 1s 15ms/step - loss: 0.6948 - accuracy: 0.5033 - val_loss: 0.6940 - val_accuracy: 0.5088\n",
      "Epoch 5/20\n",
      "99/99 [==============================] - 1s 15ms/step - loss: 0.6956 - accuracy: 0.4999 - val_loss: 0.6939 - val_accuracy: 0.5102\n",
      "Epoch 00005: early stopping\n",
      "50/50 [==============================] - 1s 5ms/step\n",
      "[CV 1/3] END dropout_rate=0.2, learning_rate=0.1, node_type=gru, nodes=[64, 64];, score=0.509 total time=  12.7s\n"
     ]
    },
    {
     "name": "stderr",
     "output_type": "stream",
     "text": [
      "WARNING:absl:Found untraced functions such as gru_cell_1_layer_call_fn, gru_cell_1_layer_call_and_return_conditional_losses, gru_cell_1_layer_call_fn, gru_cell_1_layer_call_and_return_conditional_losses, gru_cell_1_layer_call_and_return_conditional_losses while saving (showing 5 of 5). These functions will not be directly callable after loading.\n"
     ]
    },
    {
     "name": "stdout",
     "output_type": "stream",
     "text": [
      "INFO:tensorflow:Assets written to: C:\\Users\\jared\\AppData\\Local\\Temp\\tmpfmw35edw\\assets\n"
     ]
    },
    {
     "name": "stderr",
     "output_type": "stream",
     "text": [
      "INFO:tensorflow:Assets written to: C:\\Users\\jared\\AppData\\Local\\Temp\\tmpfmw35edw\\assets\n",
      "WARNING:absl:<keras.layers.recurrent.GRUCell object at 0x0000017E0BBDADF0> has the same name 'GRUCell' as a built-in Keras object. Consider renaming <class 'keras.layers.recurrent.GRUCell'> to avoid naming conflicts when loading with `tf.keras.models.load_model`. If renaming is not possible, pass the object in the `custom_objects` parameter of the load function.\n",
      "C:\\Users\\jared\\anaconda3\\envs\\tflow\\lib\\site-packages\\scikeras\\wrappers.py:289: UserWarning: ``build_fn`` will be renamed to ``model`` in a future release, at which point use of ``build_fn`` will raise an Error instead.\n",
      "  warnings.warn(\n"
     ]
    },
    {
     "name": "stdout",
     "output_type": "stream",
     "text": [
      "Epoch 1/20\n",
      "99/99 [==============================] - 4s 22ms/step - loss: 0.7390 - accuracy: 0.5163 - val_loss: 0.6948 - val_accuracy: 0.4919\n",
      "Epoch 2/20\n",
      "99/99 [==============================] - 1s 15ms/step - loss: 0.6961 - accuracy: 0.5124 - val_loss: 0.7107 - val_accuracy: 0.4929\n",
      "Epoch 3/20\n",
      "99/99 [==============================] - 1s 15ms/step - loss: 0.6959 - accuracy: 0.5098 - val_loss: 0.6979 - val_accuracy: 0.5088\n",
      "Epoch 4/20\n",
      "99/99 [==============================] - 2s 15ms/step - loss: 0.6966 - accuracy: 0.5226 - val_loss: 0.7668 - val_accuracy: 0.4908\n",
      "Epoch 00004: early stopping\n",
      "50/50 [==============================] - 1s 5ms/step\n",
      "[CV 2/3] END dropout_rate=0.2, learning_rate=0.1, node_type=gru, nodes=[64, 64];, score=0.490 total time=  10.8s\n"
     ]
    },
    {
     "name": "stderr",
     "output_type": "stream",
     "text": [
      "WARNING:absl:Found untraced functions such as gru_cell_1_layer_call_fn, gru_cell_1_layer_call_and_return_conditional_losses, gru_cell_1_layer_call_fn, gru_cell_1_layer_call_and_return_conditional_losses, gru_cell_1_layer_call_and_return_conditional_losses while saving (showing 5 of 5). These functions will not be directly callable after loading.\n"
     ]
    },
    {
     "name": "stdout",
     "output_type": "stream",
     "text": [
      "INFO:tensorflow:Assets written to: C:\\Users\\jared\\AppData\\Local\\Temp\\tmp17_d3zpo\\assets\n"
     ]
    },
    {
     "name": "stderr",
     "output_type": "stream",
     "text": [
      "INFO:tensorflow:Assets written to: C:\\Users\\jared\\AppData\\Local\\Temp\\tmp17_d3zpo\\assets\n",
      "WARNING:absl:<keras.layers.recurrent.GRUCell object at 0x0000017E0BBDADF0> has the same name 'GRUCell' as a built-in Keras object. Consider renaming <class 'keras.layers.recurrent.GRUCell'> to avoid naming conflicts when loading with `tf.keras.models.load_model`. If renaming is not possible, pass the object in the `custom_objects` parameter of the load function.\n",
      "C:\\Users\\jared\\anaconda3\\envs\\tflow\\lib\\site-packages\\scikeras\\wrappers.py:289: UserWarning: ``build_fn`` will be renamed to ``model`` in a future release, at which point use of ``build_fn`` will raise an Error instead.\n",
      "  warnings.warn(\n"
     ]
    },
    {
     "name": "stdout",
     "output_type": "stream",
     "text": [
      "Epoch 1/20\n",
      "99/99 [==============================] - 4s 25ms/step - loss: 0.7263 - accuracy: 0.5284 - val_loss: 0.6987 - val_accuracy: 0.4939\n",
      "Epoch 2/20\n",
      "99/99 [==============================] - 1s 15ms/step - loss: 0.6956 - accuracy: 0.5218 - val_loss: 0.7337 - val_accuracy: 0.4980\n",
      "Epoch 3/20\n",
      "99/99 [==============================] - 1s 15ms/step - loss: 0.6962 - accuracy: 0.5253 - val_loss: 0.6923 - val_accuracy: 0.5070\n",
      "Epoch 4/20\n",
      "99/99 [==============================] - 1s 15ms/step - loss: 0.6971 - accuracy: 0.4981 - val_loss: 0.7032 - val_accuracy: 0.4907\n",
      "Epoch 5/20\n",
      "99/99 [==============================] - 1s 14ms/step - loss: 0.7005 - accuracy: 0.5054 - val_loss: 0.7008 - val_accuracy: 0.5091\n",
      "Epoch 6/20\n",
      "99/99 [==============================] - 1s 14ms/step - loss: 0.6998 - accuracy: 0.5038 - val_loss: 0.6951 - val_accuracy: 0.4999\n",
      "Epoch 00006: early stopping\n",
      "50/50 [==============================] - 1s 5ms/step\n",
      "[CV 3/3] END dropout_rate=0.2, learning_rate=0.1, node_type=gru, nodes=[64, 64];, score=0.508 total time=  13.9s\n"
     ]
    },
    {
     "name": "stderr",
     "output_type": "stream",
     "text": [
      "WARNING:absl:Found untraced functions such as gru_cell_1_layer_call_fn, gru_cell_1_layer_call_and_return_conditional_losses, gru_cell_1_layer_call_fn, gru_cell_1_layer_call_and_return_conditional_losses, gru_cell_1_layer_call_and_return_conditional_losses while saving (showing 5 of 5). These functions will not be directly callable after loading.\n"
     ]
    },
    {
     "name": "stdout",
     "output_type": "stream",
     "text": [
      "INFO:tensorflow:Assets written to: C:\\Users\\jared\\AppData\\Local\\Temp\\tmp8z81s_g3\\assets\n"
     ]
    },
    {
     "name": "stderr",
     "output_type": "stream",
     "text": [
      "INFO:tensorflow:Assets written to: C:\\Users\\jared\\AppData\\Local\\Temp\\tmp8z81s_g3\\assets\n",
      "WARNING:absl:<keras.layers.recurrent.GRUCell object at 0x0000017E0BBDADF0> has the same name 'GRUCell' as a built-in Keras object. Consider renaming <class 'keras.layers.recurrent.GRUCell'> to avoid naming conflicts when loading with `tf.keras.models.load_model`. If renaming is not possible, pass the object in the `custom_objects` parameter of the load function.\n",
      "C:\\Users\\jared\\anaconda3\\envs\\tflow\\lib\\site-packages\\scikeras\\wrappers.py:289: UserWarning: ``build_fn`` will be renamed to ``model`` in a future release, at which point use of ``build_fn`` will raise an Error instead.\n",
      "  warnings.warn(\n"
     ]
    },
    {
     "name": "stdout",
     "output_type": "stream",
     "text": [
      "Epoch 1/20\n",
      "99/99 [==============================] - 5s 28ms/step - loss: 0.7150 - accuracy: 0.5090 - val_loss: 0.6934 - val_accuracy: 0.5105\n",
      "Epoch 2/20\n",
      "99/99 [==============================] - 2s 19ms/step - loss: 0.6951 - accuracy: 0.5117 - val_loss: 0.7148 - val_accuracy: 0.5088\n",
      "Epoch 3/20\n",
      "99/99 [==============================] - 2s 20ms/step - loss: 0.6955 - accuracy: 0.4954 - val_loss: 0.7037 - val_accuracy: 0.4814\n",
      "Epoch 4/20\n",
      "99/99 [==============================] - 2s 20ms/step - loss: 0.6957 - accuracy: 0.5134 - val_loss: 0.6980 - val_accuracy: 0.5088\n",
      "Epoch 00004: early stopping\n",
      "50/50 [==============================] - 1s 6ms/step\n",
      "[CV 1/3] END dropout_rate=0.2, learning_rate=0.1, node_type=gru, nodes=[32, 32, 32];, score=0.509 total time=  13.9s\n"
     ]
    },
    {
     "name": "stderr",
     "output_type": "stream",
     "text": [
      "WARNING:absl:Found untraced functions such as gru_cell_1_layer_call_fn, gru_cell_1_layer_call_and_return_conditional_losses, gru_cell_1_layer_call_fn, gru_cell_1_layer_call_and_return_conditional_losses, gru_cell_1_layer_call_and_return_conditional_losses while saving (showing 5 of 5). These functions will not be directly callable after loading.\n"
     ]
    },
    {
     "name": "stdout",
     "output_type": "stream",
     "text": [
      "INFO:tensorflow:Assets written to: C:\\Users\\jared\\AppData\\Local\\Temp\\tmp_xhwi8m7\\assets\n"
     ]
    },
    {
     "name": "stderr",
     "output_type": "stream",
     "text": [
      "INFO:tensorflow:Assets written to: C:\\Users\\jared\\AppData\\Local\\Temp\\tmp_xhwi8m7\\assets\n",
      "WARNING:absl:<keras.layers.recurrent.GRUCell object at 0x0000017E0BBDADF0> has the same name 'GRUCell' as a built-in Keras object. Consider renaming <class 'keras.layers.recurrent.GRUCell'> to avoid naming conflicts when loading with `tf.keras.models.load_model`. If renaming is not possible, pass the object in the `custom_objects` parameter of the load function.\n",
      "C:\\Users\\jared\\anaconda3\\envs\\tflow\\lib\\site-packages\\scikeras\\wrappers.py:289: UserWarning: ``build_fn`` will be renamed to ``model`` in a future release, at which point use of ``build_fn`` will raise an Error instead.\n",
      "  warnings.warn(\n"
     ]
    },
    {
     "name": "stdout",
     "output_type": "stream",
     "text": [
      "Epoch 1/20\n",
      "99/99 [==============================] - 5s 28ms/step - loss: 0.7146 - accuracy: 0.5036 - val_loss: 0.7088 - val_accuracy: 0.5088\n",
      "Epoch 2/20\n",
      "99/99 [==============================] - 2s 20ms/step - loss: 0.6955 - accuracy: 0.5114 - val_loss: 0.6957 - val_accuracy: 0.5088\n",
      "Epoch 3/20\n",
      "99/99 [==============================] - 2s 19ms/step - loss: 0.6960 - accuracy: 0.5133 - val_loss: 0.7650 - val_accuracy: 0.4912\n",
      "Epoch 4/20\n",
      "99/99 [==============================] - 2s 20ms/step - loss: 0.6984 - accuracy: 0.5028 - val_loss: 0.6994 - val_accuracy: 0.5088\n",
      "Epoch 5/20\n",
      "99/99 [==============================] - 2s 20ms/step - loss: 0.6966 - accuracy: 0.5090 - val_loss: 0.6934 - val_accuracy: 0.5049\n",
      "Epoch 6/20\n",
      "99/99 [==============================] - 2s 20ms/step - loss: 0.6966 - accuracy: 0.5033 - val_loss: 0.6981 - val_accuracy: 0.4912\n",
      "Epoch 7/20\n",
      "99/99 [==============================] - 2s 19ms/step - loss: 0.6971 - accuracy: 0.4996 - val_loss: 0.6930 - val_accuracy: 0.5117\n",
      "Epoch 8/20\n",
      "99/99 [==============================] - 2s 20ms/step - loss: 0.6958 - accuracy: 0.5037 - val_loss: 0.6953 - val_accuracy: 0.5088\n",
      "Epoch 9/20\n",
      "99/99 [==============================] - 2s 20ms/step - loss: 0.6951 - accuracy: 0.5055 - val_loss: 0.6942 - val_accuracy: 0.5088\n",
      "Epoch 10/20\n",
      "99/99 [==============================] - 2s 19ms/step - loss: 0.6997 - accuracy: 0.4992 - val_loss: 0.7134 - val_accuracy: 0.5088\n",
      "Epoch 00010: early stopping\n",
      "50/50 [==============================] - 1s 7ms/step\n",
      "[CV 2/3] END dropout_rate=0.2, learning_rate=0.1, node_type=gru, nodes=[32, 32, 32];, score=0.509 total time=  25.9s\n"
     ]
    },
    {
     "name": "stderr",
     "output_type": "stream",
     "text": [
      "WARNING:absl:Found untraced functions such as gru_cell_1_layer_call_fn, gru_cell_1_layer_call_and_return_conditional_losses, gru_cell_1_layer_call_fn, gru_cell_1_layer_call_and_return_conditional_losses, gru_cell_1_layer_call_and_return_conditional_losses while saving (showing 5 of 5). These functions will not be directly callable after loading.\n"
     ]
    },
    {
     "name": "stdout",
     "output_type": "stream",
     "text": [
      "INFO:tensorflow:Assets written to: C:\\Users\\jared\\AppData\\Local\\Temp\\tmp9xunods9\\assets\n"
     ]
    },
    {
     "name": "stderr",
     "output_type": "stream",
     "text": [
      "INFO:tensorflow:Assets written to: C:\\Users\\jared\\AppData\\Local\\Temp\\tmp9xunods9\\assets\n",
      "WARNING:absl:<keras.layers.recurrent.GRUCell object at 0x0000017E0BBDADF0> has the same name 'GRUCell' as a built-in Keras object. Consider renaming <class 'keras.layers.recurrent.GRUCell'> to avoid naming conflicts when loading with `tf.keras.models.load_model`. If renaming is not possible, pass the object in the `custom_objects` parameter of the load function.\n",
      "C:\\Users\\jared\\anaconda3\\envs\\tflow\\lib\\site-packages\\scikeras\\wrappers.py:289: UserWarning: ``build_fn`` will be renamed to ``model`` in a future release, at which point use of ``build_fn`` will raise an Error instead.\n",
      "  warnings.warn(\n"
     ]
    },
    {
     "name": "stdout",
     "output_type": "stream",
     "text": [
      "Epoch 1/20\n",
      "99/99 [==============================] - 6s 29ms/step - loss: 0.7102 - accuracy: 0.4985 - val_loss: 0.6965 - val_accuracy: 0.4885\n",
      "Epoch 2/20\n",
      "99/99 [==============================] - 2s 20ms/step - loss: 0.6993 - accuracy: 0.4939 - val_loss: 0.6966 - val_accuracy: 0.4912\n",
      "Epoch 3/20\n",
      "99/99 [==============================] - 2s 19ms/step - loss: 0.6984 - accuracy: 0.5047 - val_loss: 0.6949 - val_accuracy: 0.4918\n",
      "Epoch 4/20\n",
      "99/99 [==============================] - 2s 20ms/step - loss: 0.6969 - accuracy: 0.4986 - val_loss: 0.6967 - val_accuracy: 0.4912\n",
      "Epoch 5/20\n",
      "99/99 [==============================] - 2s 20ms/step - loss: 0.6947 - accuracy: 0.5008 - val_loss: 0.6935 - val_accuracy: 0.4881\n",
      "Epoch 6/20\n",
      "99/99 [==============================] - 2s 20ms/step - loss: 0.6957 - accuracy: 0.4975 - val_loss: 0.7014 - val_accuracy: 0.4912\n",
      "Epoch 7/20\n",
      "99/99 [==============================] - 2s 20ms/step - loss: 0.6946 - accuracy: 0.4960 - val_loss: 0.6933 - val_accuracy: 0.5088\n",
      "Epoch 8/20\n",
      "99/99 [==============================] - 2s 20ms/step - loss: 0.6979 - accuracy: 0.5071 - val_loss: 0.6931 - val_accuracy: 0.5088\n",
      "Epoch 9/20\n",
      "99/99 [==============================] - 2s 22ms/step - loss: 0.6994 - accuracy: 0.5027 - val_loss: 0.7658 - val_accuracy: 0.5088\n",
      "Epoch 10/20\n",
      "99/99 [==============================] - 2s 21ms/step - loss: 0.6957 - accuracy: 0.5019 - val_loss: 0.6931 - val_accuracy: 0.5088\n",
      "Epoch 11/20\n",
      "99/99 [==============================] - 2s 18ms/step - loss: 0.6945 - accuracy: 0.5036 - val_loss: 0.6945 - val_accuracy: 0.5088\n",
      "Epoch 12/20\n",
      "99/99 [==============================] - 2s 18ms/step - loss: 0.6952 - accuracy: 0.5015 - val_loss: 0.6932 - val_accuracy: 0.5088\n",
      "Epoch 13/20\n",
      "99/99 [==============================] - 2s 17ms/step - loss: 0.6935 - accuracy: 0.5117 - val_loss: 0.6981 - val_accuracy: 0.5088\n",
      "Epoch 00013: early stopping\n",
      "50/50 [==============================] - 1s 6ms/step\n",
      "[CV 3/3] END dropout_rate=0.2, learning_rate=0.1, node_type=gru, nodes=[32, 32, 32];, score=0.509 total time=  31.5s\n"
     ]
    },
    {
     "name": "stderr",
     "output_type": "stream",
     "text": [
      "WARNING:absl:Found untraced functions such as gru_cell_1_layer_call_fn, gru_cell_1_layer_call_and_return_conditional_losses, gru_cell_1_layer_call_fn, gru_cell_1_layer_call_and_return_conditional_losses, gru_cell_1_layer_call_and_return_conditional_losses while saving (showing 5 of 5). These functions will not be directly callable after loading.\n"
     ]
    },
    {
     "name": "stdout",
     "output_type": "stream",
     "text": [
      "INFO:tensorflow:Assets written to: C:\\Users\\jared\\AppData\\Local\\Temp\\tmpit6qe6qf\\assets\n"
     ]
    },
    {
     "name": "stderr",
     "output_type": "stream",
     "text": [
      "INFO:tensorflow:Assets written to: C:\\Users\\jared\\AppData\\Local\\Temp\\tmpit6qe6qf\\assets\n",
      "WARNING:absl:<keras.layers.recurrent.GRUCell object at 0x0000017E0BBDADF0> has the same name 'GRUCell' as a built-in Keras object. Consider renaming <class 'keras.layers.recurrent.GRUCell'> to avoid naming conflicts when loading with `tf.keras.models.load_model`. If renaming is not possible, pass the object in the `custom_objects` parameter of the load function.\n",
      "C:\\Users\\jared\\anaconda3\\envs\\tflow\\lib\\site-packages\\scikeras\\wrappers.py:289: UserWarning: ``build_fn`` will be renamed to ``model`` in a future release, at which point use of ``build_fn`` will raise an Error instead.\n",
      "  warnings.warn(\n"
     ]
    },
    {
     "name": "stdout",
     "output_type": "stream",
     "text": [
      "Epoch 1/20\n",
      "99/99 [==============================] - 3s 18ms/step - loss: 0.7374 - accuracy: 0.5310 - val_loss: 0.6797 - val_accuracy: 0.5531\n",
      "Epoch 2/20\n",
      "99/99 [==============================] - 1s 12ms/step - loss: 0.6923 - accuracy: 0.5490 - val_loss: 0.6742 - val_accuracy: 0.5685\n",
      "Epoch 3/20\n",
      "99/99 [==============================] - 1s 12ms/step - loss: 0.6766 - accuracy: 0.5605 - val_loss: 0.6711 - val_accuracy: 0.5740\n",
      "Epoch 4/20\n",
      "99/99 [==============================] - 1s 13ms/step - loss: 0.6696 - accuracy: 0.5671 - val_loss: 0.6682 - val_accuracy: 0.5755\n",
      "Epoch 5/20\n",
      "99/99 [==============================] - 2s 16ms/step - loss: 0.6666 - accuracy: 0.5712 - val_loss: 0.6658 - val_accuracy: 0.5748\n",
      "Epoch 6/20\n",
      "99/99 [==============================] - 2s 18ms/step - loss: 0.6638 - accuracy: 0.5736 - val_loss: 0.6677 - val_accuracy: 0.5678\n",
      "Epoch 7/20\n",
      "99/99 [==============================] - 2s 18ms/step - loss: 0.6614 - accuracy: 0.5762 - val_loss: 0.6662 - val_accuracy: 0.5777\n",
      "Epoch 8/20\n",
      "99/99 [==============================] - 1s 15ms/step - loss: 0.6589 - accuracy: 0.5814 - val_loss: 0.6657 - val_accuracy: 0.5805\n",
      "Epoch 9/20\n",
      "99/99 [==============================] - 1s 14ms/step - loss: 0.6570 - accuracy: 0.5829 - val_loss: 0.6658 - val_accuracy: 0.5797\n",
      "Epoch 10/20\n",
      "99/99 [==============================] - 1s 14ms/step - loss: 0.6562 - accuracy: 0.5816 - val_loss: 0.6667 - val_accuracy: 0.5765\n",
      "Epoch 11/20\n",
      "99/99 [==============================] - 1s 13ms/step - loss: 0.6522 - accuracy: 0.5867 - val_loss: 0.6689 - val_accuracy: 0.5751\n",
      "Epoch 00011: early stopping\n",
      "50/50 [==============================] - 0s 4ms/step\n",
      "[CV 1/3] END dropout_rate=0.3, learning_rate=0.001, node_type=lstm, nodes=[128];, score=nan total time=  19.5s\n"
     ]
    },
    {
     "name": "stderr",
     "output_type": "stream",
     "text": [
      "C:\\Users\\jared\\anaconda3\\envs\\tflow\\lib\\site-packages\\sklearn\\model_selection\\_validation.py:771: UserWarning: Scoring failed. The score on this train-test partition for these parameters will be set to nan. Details: \n",
      "Traceback (most recent call last):\n",
      "  File \"C:\\Users\\jared\\anaconda3\\envs\\tflow\\lib\\site-packages\\sklearn\\model_selection\\_validation.py\", line 762, in _score\n",
      "    scores = scorer(estimator, X_test, y_test)\n",
      "  File \"C:\\Users\\jared\\anaconda3\\envs\\tflow\\lib\\site-packages\\sklearn\\metrics\\_scorer.py\", line 216, in __call__\n",
      "    return self._score(\n",
      "  File \"C:\\Users\\jared\\anaconda3\\envs\\tflow\\lib\\site-packages\\sklearn\\metrics\\_scorer.py\", line 258, in _score\n",
      "    y_pred = method_caller(estimator, \"predict\", X)\n",
      "  File \"C:\\Users\\jared\\anaconda3\\envs\\tflow\\lib\\site-packages\\sklearn\\metrics\\_scorer.py\", line 68, in _cached_call\n",
      "    return getattr(estimator, method)(*args, **kwargs)\n",
      "  File \"C:\\Users\\jared\\anaconda3\\envs\\tflow\\lib\\site-packages\\scikeras\\wrappers.py\", line 1013, in predict\n",
      "    y_pred = self.target_encoder_.inverse_transform(y_pred)\n",
      "  File \"C:\\Users\\jared\\anaconda3\\envs\\tflow\\lib\\site-packages\\scikeras\\utils\\transformers.py\", line 257, in inverse_transform\n",
      "    class_predictions = self._final_encoder.inverse_transform(class_predictions)\n",
      "  File \"C:\\Users\\jared\\anaconda3\\envs\\tflow\\lib\\site-packages\\sklearn\\utils\\metaestimators.py\", line 113, in <lambda>\n",
      "    out = lambda *args, **kwargs: self.fn(obj, *args, **kwargs)  # noqa\n",
      "  File \"C:\\Users\\jared\\anaconda3\\envs\\tflow\\lib\\site-packages\\sklearn\\pipeline.py\", line 675, in inverse_transform\n",
      "    Xt = transform.inverse_transform(Xt)\n",
      "  File \"C:\\Users\\jared\\anaconda3\\envs\\tflow\\lib\\site-packages\\sklearn\\preprocessing\\_encoders.py\", line 990, in inverse_transform\n",
      "    X_tr[:, i] = self.categories_[i][labels]\n",
      "IndexError: index 37 is out of bounds for axis 0 with size 2\n",
      "\n",
      "  warnings.warn(\n",
      "WARNING:absl:Found untraced functions such as gru_cell_1_layer_call_fn, gru_cell_1_layer_call_and_return_conditional_losses, gru_cell_1_layer_call_fn, gru_cell_1_layer_call_and_return_conditional_losses, gru_cell_1_layer_call_and_return_conditional_losses while saving (showing 5 of 5). These functions will not be directly callable after loading.\n"
     ]
    },
    {
     "name": "stdout",
     "output_type": "stream",
     "text": [
      "INFO:tensorflow:Assets written to: C:\\Users\\jared\\AppData\\Local\\Temp\\tmppamjqxh0\\assets\n"
     ]
    },
    {
     "name": "stderr",
     "output_type": "stream",
     "text": [
      "INFO:tensorflow:Assets written to: C:\\Users\\jared\\AppData\\Local\\Temp\\tmppamjqxh0\\assets\n",
      "WARNING:absl:<keras.layers.recurrent.GRUCell object at 0x0000017E0BBDADF0> has the same name 'GRUCell' as a built-in Keras object. Consider renaming <class 'keras.layers.recurrent.GRUCell'> to avoid naming conflicts when loading with `tf.keras.models.load_model`. If renaming is not possible, pass the object in the `custom_objects` parameter of the load function.\n",
      "C:\\Users\\jared\\anaconda3\\envs\\tflow\\lib\\site-packages\\scikeras\\wrappers.py:289: UserWarning: ``build_fn`` will be renamed to ``model`` in a future release, at which point use of ``build_fn`` will raise an Error instead.\n",
      "  warnings.warn(\n"
     ]
    },
    {
     "name": "stdout",
     "output_type": "stream",
     "text": [
      "Epoch 1/20\n",
      "99/99 [==============================] - 3s 19ms/step - loss: 0.7645 - accuracy: 0.5275 - val_loss: 0.6789 - val_accuracy: 0.5533\n",
      "Epoch 2/20\n",
      "99/99 [==============================] - 1s 13ms/step - loss: 0.7090 - accuracy: 0.5457 - val_loss: 0.6744 - val_accuracy: 0.5616\n",
      "Epoch 3/20\n",
      "99/99 [==============================] - 1s 12ms/step - loss: 0.6861 - accuracy: 0.5556 - val_loss: 0.6679 - val_accuracy: 0.5742\n",
      "Epoch 4/20\n",
      "99/99 [==============================] - 1s 12ms/step - loss: 0.6741 - accuracy: 0.5659 - val_loss: 0.6666 - val_accuracy: 0.5760\n",
      "Epoch 5/20\n",
      "99/99 [==============================] - 1s 12ms/step - loss: 0.6674 - accuracy: 0.5716 - val_loss: 0.6652 - val_accuracy: 0.5774\n",
      "Epoch 6/20\n",
      "99/99 [==============================] - 1s 12ms/step - loss: 0.6624 - accuracy: 0.5766 - val_loss: 0.6633 - val_accuracy: 0.5779\n",
      "Epoch 7/20\n",
      "99/99 [==============================] - 1s 12ms/step - loss: 0.6592 - accuracy: 0.5810 - val_loss: 0.6630 - val_accuracy: 0.5794\n",
      "Epoch 8/20\n",
      "99/99 [==============================] - 1s 12ms/step - loss: 0.6563 - accuracy: 0.5862 - val_loss: 0.6655 - val_accuracy: 0.5813\n",
      "Epoch 9/20\n",
      "99/99 [==============================] - 1s 12ms/step - loss: 0.6541 - accuracy: 0.5874 - val_loss: 0.6728 - val_accuracy: 0.5566\n",
      "Epoch 10/20\n",
      "99/99 [==============================] - 1s 12ms/step - loss: 0.6527 - accuracy: 0.5856 - val_loss: 0.6655 - val_accuracy: 0.5825\n",
      "Epoch 00010: early stopping\n",
      "50/50 [==============================] - 0s 5ms/step\n",
      "[CV 2/3] END dropout_rate=0.3, learning_rate=0.001, node_type=lstm, nodes=[128];, score=nan total time=  16.2s\n"
     ]
    },
    {
     "name": "stderr",
     "output_type": "stream",
     "text": [
      "C:\\Users\\jared\\anaconda3\\envs\\tflow\\lib\\site-packages\\sklearn\\model_selection\\_validation.py:771: UserWarning: Scoring failed. The score on this train-test partition for these parameters will be set to nan. Details: \n",
      "Traceback (most recent call last):\n",
      "  File \"C:\\Users\\jared\\anaconda3\\envs\\tflow\\lib\\site-packages\\sklearn\\model_selection\\_validation.py\", line 762, in _score\n",
      "    scores = scorer(estimator, X_test, y_test)\n",
      "  File \"C:\\Users\\jared\\anaconda3\\envs\\tflow\\lib\\site-packages\\sklearn\\metrics\\_scorer.py\", line 216, in __call__\n",
      "    return self._score(\n",
      "  File \"C:\\Users\\jared\\anaconda3\\envs\\tflow\\lib\\site-packages\\sklearn\\metrics\\_scorer.py\", line 258, in _score\n",
      "    y_pred = method_caller(estimator, \"predict\", X)\n",
      "  File \"C:\\Users\\jared\\anaconda3\\envs\\tflow\\lib\\site-packages\\sklearn\\metrics\\_scorer.py\", line 68, in _cached_call\n",
      "    return getattr(estimator, method)(*args, **kwargs)\n",
      "  File \"C:\\Users\\jared\\anaconda3\\envs\\tflow\\lib\\site-packages\\scikeras\\wrappers.py\", line 1013, in predict\n",
      "    y_pred = self.target_encoder_.inverse_transform(y_pred)\n",
      "  File \"C:\\Users\\jared\\anaconda3\\envs\\tflow\\lib\\site-packages\\scikeras\\utils\\transformers.py\", line 257, in inverse_transform\n",
      "    class_predictions = self._final_encoder.inverse_transform(class_predictions)\n",
      "  File \"C:\\Users\\jared\\anaconda3\\envs\\tflow\\lib\\site-packages\\sklearn\\utils\\metaestimators.py\", line 113, in <lambda>\n",
      "    out = lambda *args, **kwargs: self.fn(obj, *args, **kwargs)  # noqa\n",
      "  File \"C:\\Users\\jared\\anaconda3\\envs\\tflow\\lib\\site-packages\\sklearn\\pipeline.py\", line 675, in inverse_transform\n",
      "    Xt = transform.inverse_transform(Xt)\n",
      "  File \"C:\\Users\\jared\\anaconda3\\envs\\tflow\\lib\\site-packages\\sklearn\\preprocessing\\_encoders.py\", line 990, in inverse_transform\n",
      "    X_tr[:, i] = self.categories_[i][labels]\n",
      "IndexError: index 42 is out of bounds for axis 0 with size 2\n",
      "\n",
      "  warnings.warn(\n",
      "WARNING:absl:Found untraced functions such as gru_cell_1_layer_call_fn, gru_cell_1_layer_call_and_return_conditional_losses, gru_cell_1_layer_call_fn, gru_cell_1_layer_call_and_return_conditional_losses, gru_cell_1_layer_call_and_return_conditional_losses while saving (showing 5 of 5). These functions will not be directly callable after loading.\n"
     ]
    },
    {
     "name": "stdout",
     "output_type": "stream",
     "text": [
      "INFO:tensorflow:Assets written to: C:\\Users\\jared\\AppData\\Local\\Temp\\tmpuii9wqn9\\assets\n"
     ]
    },
    {
     "name": "stderr",
     "output_type": "stream",
     "text": [
      "INFO:tensorflow:Assets written to: C:\\Users\\jared\\AppData\\Local\\Temp\\tmpuii9wqn9\\assets\n",
      "WARNING:absl:<keras.layers.recurrent.GRUCell object at 0x0000017E0BBDADF0> has the same name 'GRUCell' as a built-in Keras object. Consider renaming <class 'keras.layers.recurrent.GRUCell'> to avoid naming conflicts when loading with `tf.keras.models.load_model`. If renaming is not possible, pass the object in the `custom_objects` parameter of the load function.\n",
      "C:\\Users\\jared\\anaconda3\\envs\\tflow\\lib\\site-packages\\scikeras\\wrappers.py:289: UserWarning: ``build_fn`` will be renamed to ``model`` in a future release, at which point use of ``build_fn`` will raise an Error instead.\n",
      "  warnings.warn(\n"
     ]
    },
    {
     "name": "stdout",
     "output_type": "stream",
     "text": [
      "Epoch 1/20\n",
      "99/99 [==============================] - 3s 18ms/step - loss: 0.7815 - accuracy: 0.5255 - val_loss: 0.6792 - val_accuracy: 0.5561\n",
      "Epoch 2/20\n",
      "99/99 [==============================] - 1s 12ms/step - loss: 0.7224 - accuracy: 0.5402 - val_loss: 0.6728 - val_accuracy: 0.5681\n",
      "Epoch 3/20\n",
      "99/99 [==============================] - 1s 12ms/step - loss: 0.6967 - accuracy: 0.5498 - val_loss: 0.6699 - val_accuracy: 0.5764\n",
      "Epoch 4/20\n",
      "99/99 [==============================] - 1s 12ms/step - loss: 0.6795 - accuracy: 0.5599 - val_loss: 0.6658 - val_accuracy: 0.5825\n",
      "Epoch 5/20\n",
      "99/99 [==============================] - 1s 12ms/step - loss: 0.6704 - accuracy: 0.5683 - val_loss: 0.6643 - val_accuracy: 0.5812\n",
      "Epoch 6/20\n",
      "99/99 [==============================] - 1s 12ms/step - loss: 0.6650 - accuracy: 0.5732 - val_loss: 0.6690 - val_accuracy: 0.5714\n",
      "Epoch 7/20\n",
      "99/99 [==============================] - 1s 12ms/step - loss: 0.6624 - accuracy: 0.5773 - val_loss: 0.6622 - val_accuracy: 0.5853\n",
      "Epoch 8/20\n",
      "99/99 [==============================] - 1s 12ms/step - loss: 0.6587 - accuracy: 0.5808 - val_loss: 0.6711 - val_accuracy: 0.5700\n",
      "Epoch 9/20\n",
      "99/99 [==============================] - 1s 12ms/step - loss: 0.6569 - accuracy: 0.5836 - val_loss: 0.6650 - val_accuracy: 0.5822\n",
      "Epoch 10/20\n",
      "99/99 [==============================] - 1s 12ms/step - loss: 0.6553 - accuracy: 0.5837 - val_loss: 0.6654 - val_accuracy: 0.5795\n",
      "Epoch 00010: early stopping\n",
      "50/50 [==============================] - 0s 4ms/step\n",
      "[CV 3/3] END dropout_rate=0.3, learning_rate=0.001, node_type=lstm, nodes=[128];, score=nan total time=  15.5s\n"
     ]
    },
    {
     "name": "stderr",
     "output_type": "stream",
     "text": [
      "C:\\Users\\jared\\anaconda3\\envs\\tflow\\lib\\site-packages\\sklearn\\model_selection\\_validation.py:771: UserWarning: Scoring failed. The score on this train-test partition for these parameters will be set to nan. Details: \n",
      "Traceback (most recent call last):\n",
      "  File \"C:\\Users\\jared\\anaconda3\\envs\\tflow\\lib\\site-packages\\sklearn\\model_selection\\_validation.py\", line 762, in _score\n",
      "    scores = scorer(estimator, X_test, y_test)\n",
      "  File \"C:\\Users\\jared\\anaconda3\\envs\\tflow\\lib\\site-packages\\sklearn\\metrics\\_scorer.py\", line 216, in __call__\n",
      "    return self._score(\n",
      "  File \"C:\\Users\\jared\\anaconda3\\envs\\tflow\\lib\\site-packages\\sklearn\\metrics\\_scorer.py\", line 258, in _score\n",
      "    y_pred = method_caller(estimator, \"predict\", X)\n",
      "  File \"C:\\Users\\jared\\anaconda3\\envs\\tflow\\lib\\site-packages\\sklearn\\metrics\\_scorer.py\", line 68, in _cached_call\n",
      "    return getattr(estimator, method)(*args, **kwargs)\n",
      "  File \"C:\\Users\\jared\\anaconda3\\envs\\tflow\\lib\\site-packages\\scikeras\\wrappers.py\", line 1013, in predict\n",
      "    y_pred = self.target_encoder_.inverse_transform(y_pred)\n",
      "  File \"C:\\Users\\jared\\anaconda3\\envs\\tflow\\lib\\site-packages\\scikeras\\utils\\transformers.py\", line 257, in inverse_transform\n",
      "    class_predictions = self._final_encoder.inverse_transform(class_predictions)\n",
      "  File \"C:\\Users\\jared\\anaconda3\\envs\\tflow\\lib\\site-packages\\sklearn\\utils\\metaestimators.py\", line 113, in <lambda>\n",
      "    out = lambda *args, **kwargs: self.fn(obj, *args, **kwargs)  # noqa\n",
      "  File \"C:\\Users\\jared\\anaconda3\\envs\\tflow\\lib\\site-packages\\sklearn\\pipeline.py\", line 675, in inverse_transform\n",
      "    Xt = transform.inverse_transform(Xt)\n",
      "  File \"C:\\Users\\jared\\anaconda3\\envs\\tflow\\lib\\site-packages\\sklearn\\preprocessing\\_encoders.py\", line 990, in inverse_transform\n",
      "    X_tr[:, i] = self.categories_[i][labels]\n",
      "IndexError: index 59 is out of bounds for axis 0 with size 2\n",
      "\n",
      "  warnings.warn(\n",
      "WARNING:absl:Found untraced functions such as gru_cell_1_layer_call_fn, gru_cell_1_layer_call_and_return_conditional_losses, gru_cell_1_layer_call_fn, gru_cell_1_layer_call_and_return_conditional_losses, gru_cell_1_layer_call_and_return_conditional_losses while saving (showing 5 of 5). These functions will not be directly callable after loading.\n"
     ]
    },
    {
     "name": "stdout",
     "output_type": "stream",
     "text": [
      "INFO:tensorflow:Assets written to: C:\\Users\\jared\\AppData\\Local\\Temp\\tmphe2mryd5\\assets\n"
     ]
    },
    {
     "name": "stderr",
     "output_type": "stream",
     "text": [
      "INFO:tensorflow:Assets written to: C:\\Users\\jared\\AppData\\Local\\Temp\\tmphe2mryd5\\assets\n",
      "WARNING:absl:<keras.layers.recurrent.GRUCell object at 0x0000017E0BBDADF0> has the same name 'GRUCell' as a built-in Keras object. Consider renaming <class 'keras.layers.recurrent.GRUCell'> to avoid naming conflicts when loading with `tf.keras.models.load_model`. If renaming is not possible, pass the object in the `custom_objects` parameter of the load function.\n",
      "C:\\Users\\jared\\anaconda3\\envs\\tflow\\lib\\site-packages\\scikeras\\wrappers.py:289: UserWarning: ``build_fn`` will be renamed to ``model`` in a future release, at which point use of ``build_fn`` will raise an Error instead.\n",
      "  warnings.warn(\n"
     ]
    },
    {
     "name": "stdout",
     "output_type": "stream",
     "text": [
      "Epoch 1/20\n",
      "99/99 [==============================] - 4s 22ms/step - loss: 0.7653 - accuracy: 0.5610 - val_loss: 0.6653 - val_accuracy: 0.6176\n",
      "Epoch 2/20\n",
      "99/99 [==============================] - 1s 15ms/step - loss: 0.6835 - accuracy: 0.6037 - val_loss: 0.6441 - val_accuracy: 0.6328\n",
      "Epoch 3/20\n",
      "99/99 [==============================] - 1s 15ms/step - loss: 0.6504 - accuracy: 0.6250 - val_loss: 0.6296 - val_accuracy: 0.6360\n",
      "Epoch 4/20\n",
      "99/99 [==============================] - 1s 15ms/step - loss: 0.6273 - accuracy: 0.6476 - val_loss: 0.6193 - val_accuracy: 0.6531\n",
      "Epoch 5/20\n",
      "99/99 [==============================] - 1s 15ms/step - loss: 0.6155 - accuracy: 0.6539 - val_loss: 0.6235 - val_accuracy: 0.6427\n",
      "Epoch 6/20\n",
      "99/99 [==============================] - 1s 15ms/step - loss: 0.6044 - accuracy: 0.6626 - val_loss: 0.6156 - val_accuracy: 0.6544\n",
      "Epoch 7/20\n",
      "99/99 [==============================] - 1s 15ms/step - loss: 0.5904 - accuracy: 0.6762 - val_loss: 0.6191 - val_accuracy: 0.6523\n",
      "Epoch 8/20\n",
      "99/99 [==============================] - 2s 16ms/step - loss: 0.5811 - accuracy: 0.6801 - val_loss: 0.6165 - val_accuracy: 0.6523\n",
      "Epoch 9/20\n",
      "99/99 [==============================] - 1s 15ms/step - loss: 0.5738 - accuracy: 0.6882 - val_loss: 0.6228 - val_accuracy: 0.6575\n",
      "Epoch 00009: early stopping\n",
      "50/50 [==============================] - 1s 5ms/step\n",
      "[CV 1/3] END dropout_rate=0.3, learning_rate=0.001, node_type=lstm, nodes=[64, 64];, score=0.654 total time=  18.6s\n"
     ]
    },
    {
     "name": "stderr",
     "output_type": "stream",
     "text": [
      "WARNING:absl:Found untraced functions such as gru_cell_1_layer_call_fn, gru_cell_1_layer_call_and_return_conditional_losses, gru_cell_1_layer_call_fn, gru_cell_1_layer_call_and_return_conditional_losses, gru_cell_1_layer_call_and_return_conditional_losses while saving (showing 5 of 5). These functions will not be directly callable after loading.\n"
     ]
    },
    {
     "name": "stdout",
     "output_type": "stream",
     "text": [
      "INFO:tensorflow:Assets written to: C:\\Users\\jared\\AppData\\Local\\Temp\\tmpunulm1y2\\assets\n"
     ]
    },
    {
     "name": "stderr",
     "output_type": "stream",
     "text": [
      "INFO:tensorflow:Assets written to: C:\\Users\\jared\\AppData\\Local\\Temp\\tmpunulm1y2\\assets\n",
      "WARNING:absl:<keras.layers.recurrent.GRUCell object at 0x0000017E0BBDADF0> has the same name 'GRUCell' as a built-in Keras object. Consider renaming <class 'keras.layers.recurrent.GRUCell'> to avoid naming conflicts when loading with `tf.keras.models.load_model`. If renaming is not possible, pass the object in the `custom_objects` parameter of the load function.\n",
      "C:\\Users\\jared\\anaconda3\\envs\\tflow\\lib\\site-packages\\scikeras\\wrappers.py:289: UserWarning: ``build_fn`` will be renamed to ``model`` in a future release, at which point use of ``build_fn`` will raise an Error instead.\n",
      "  warnings.warn(\n"
     ]
    },
    {
     "name": "stdout",
     "output_type": "stream",
     "text": [
      "Epoch 1/20\n",
      "99/99 [==============================] - 4s 22ms/step - loss: 0.7694 - accuracy: 0.5647 - val_loss: 0.6588 - val_accuracy: 0.6033\n",
      "Epoch 2/20\n",
      "99/99 [==============================] - 1s 15ms/step - loss: 0.6936 - accuracy: 0.5935 - val_loss: 0.6541 - val_accuracy: 0.5994\n",
      "Epoch 3/20\n",
      "99/99 [==============================] - 2s 16ms/step - loss: 0.6583 - accuracy: 0.6168 - val_loss: 0.6534 - val_accuracy: 0.6114\n",
      "Epoch 4/20\n",
      "99/99 [==============================] - 2s 17ms/step - loss: 0.6348 - accuracy: 0.6304 - val_loss: 0.6193 - val_accuracy: 0.6483\n",
      "Epoch 5/20\n",
      "99/99 [==============================] - 2s 17ms/step - loss: 0.6206 - accuracy: 0.6460 - val_loss: 0.6203 - val_accuracy: 0.6524\n",
      "Epoch 6/20\n",
      "99/99 [==============================] - 1s 15ms/step - loss: 0.6032 - accuracy: 0.6669 - val_loss: 0.6185 - val_accuracy: 0.6587\n",
      "Epoch 7/20\n",
      "99/99 [==============================] - 1s 15ms/step - loss: 0.5940 - accuracy: 0.6714 - val_loss: 0.6154 - val_accuracy: 0.6587\n",
      "Epoch 8/20\n",
      "99/99 [==============================] - 1s 15ms/step - loss: 0.5895 - accuracy: 0.6765 - val_loss: 0.6210 - val_accuracy: 0.6593\n",
      "Epoch 9/20\n",
      "99/99 [==============================] - 1s 15ms/step - loss: 0.5787 - accuracy: 0.6811 - val_loss: 0.6327 - val_accuracy: 0.6354\n",
      "Epoch 10/20\n",
      "99/99 [==============================] - 1s 15ms/step - loss: 0.5724 - accuracy: 0.6914 - val_loss: 0.6241 - val_accuracy: 0.6477\n",
      "Epoch 00010: early stopping\n",
      "50/50 [==============================] - 1s 5ms/step\n",
      "[CV 2/3] END dropout_rate=0.3, learning_rate=0.001, node_type=lstm, nodes=[64, 64];, score=0.648 total time=  20.6s\n"
     ]
    },
    {
     "name": "stderr",
     "output_type": "stream",
     "text": [
      "WARNING:absl:Found untraced functions such as gru_cell_1_layer_call_fn, gru_cell_1_layer_call_and_return_conditional_losses, gru_cell_1_layer_call_fn, gru_cell_1_layer_call_and_return_conditional_losses, gru_cell_1_layer_call_and_return_conditional_losses while saving (showing 5 of 5). These functions will not be directly callable after loading.\n"
     ]
    },
    {
     "name": "stdout",
     "output_type": "stream",
     "text": [
      "INFO:tensorflow:Assets written to: C:\\Users\\jared\\AppData\\Local\\Temp\\tmph3ax6wjh\\assets\n"
     ]
    },
    {
     "name": "stderr",
     "output_type": "stream",
     "text": [
      "INFO:tensorflow:Assets written to: C:\\Users\\jared\\AppData\\Local\\Temp\\tmph3ax6wjh\\assets\n",
      "WARNING:absl:<keras.layers.recurrent.GRUCell object at 0x0000017E0BBDADF0> has the same name 'GRUCell' as a built-in Keras object. Consider renaming <class 'keras.layers.recurrent.GRUCell'> to avoid naming conflicts when loading with `tf.keras.models.load_model`. If renaming is not possible, pass the object in the `custom_objects` parameter of the load function.\n",
      "C:\\Users\\jared\\anaconda3\\envs\\tflow\\lib\\site-packages\\scikeras\\wrappers.py:289: UserWarning: ``build_fn`` will be renamed to ``model`` in a future release, at which point use of ``build_fn`` will raise an Error instead.\n",
      "  warnings.warn(\n"
     ]
    },
    {
     "name": "stdout",
     "output_type": "stream",
     "text": [
      "Epoch 1/20\n",
      "99/99 [==============================] - 4s 25ms/step - loss: 0.7756 - accuracy: 0.5528 - val_loss: 0.6576 - val_accuracy: 0.6140\n",
      "Epoch 2/20\n",
      "99/99 [==============================] - 1s 15ms/step - loss: 0.6877 - accuracy: 0.6058 - val_loss: 0.6400 - val_accuracy: 0.6350\n",
      "Epoch 3/20\n",
      "99/99 [==============================] - 2s 16ms/step - loss: 0.6522 - accuracy: 0.6290 - val_loss: 0.6440 - val_accuracy: 0.6172\n",
      "Epoch 4/20\n",
      "99/99 [==============================] - 2s 15ms/step - loss: 0.6295 - accuracy: 0.6471 - val_loss: 0.6131 - val_accuracy: 0.6520\n",
      "Epoch 5/20\n",
      "99/99 [==============================] - 1s 15ms/step - loss: 0.6139 - accuracy: 0.6548 - val_loss: 0.6175 - val_accuracy: 0.6503\n",
      "Epoch 6/20\n",
      "99/99 [==============================] - 1s 15ms/step - loss: 0.6069 - accuracy: 0.6606 - val_loss: 0.6300 - val_accuracy: 0.6504\n",
      "Epoch 7/20\n",
      "99/99 [==============================] - 1s 15ms/step - loss: 0.5944 - accuracy: 0.6723 - val_loss: 0.6123 - val_accuracy: 0.6568\n",
      "Epoch 8/20\n",
      "99/99 [==============================] - 1s 15ms/step - loss: 0.5873 - accuracy: 0.6795 - val_loss: 0.6224 - val_accuracy: 0.6513\n",
      "Epoch 9/20\n",
      "99/99 [==============================] - 2s 15ms/step - loss: 0.5832 - accuracy: 0.6844 - val_loss: 0.6156 - val_accuracy: 0.6560\n",
      "Epoch 10/20\n",
      "99/99 [==============================] - 2s 15ms/step - loss: 0.5778 - accuracy: 0.6830 - val_loss: 0.6202 - val_accuracy: 0.6587\n",
      "Epoch 00010: early stopping\n",
      "50/50 [==============================] - 1s 5ms/step\n",
      "[CV 3/3] END dropout_rate=0.3, learning_rate=0.001, node_type=lstm, nodes=[64, 64];, score=0.657 total time=  20.3s\n"
     ]
    },
    {
     "name": "stderr",
     "output_type": "stream",
     "text": [
      "WARNING:absl:Found untraced functions such as gru_cell_1_layer_call_fn, gru_cell_1_layer_call_and_return_conditional_losses, gru_cell_1_layer_call_fn, gru_cell_1_layer_call_and_return_conditional_losses, gru_cell_1_layer_call_and_return_conditional_losses while saving (showing 5 of 5). These functions will not be directly callable after loading.\n"
     ]
    },
    {
     "name": "stdout",
     "output_type": "stream",
     "text": [
      "INFO:tensorflow:Assets written to: C:\\Users\\jared\\AppData\\Local\\Temp\\tmpmtmtdmb7\\assets\n"
     ]
    },
    {
     "name": "stderr",
     "output_type": "stream",
     "text": [
      "INFO:tensorflow:Assets written to: C:\\Users\\jared\\AppData\\Local\\Temp\\tmpmtmtdmb7\\assets\n",
      "WARNING:absl:<keras.layers.recurrent.GRUCell object at 0x0000017E0BBDADF0> has the same name 'GRUCell' as a built-in Keras object. Consider renaming <class 'keras.layers.recurrent.GRUCell'> to avoid naming conflicts when loading with `tf.keras.models.load_model`. If renaming is not possible, pass the object in the `custom_objects` parameter of the load function.\n",
      "C:\\Users\\jared\\anaconda3\\envs\\tflow\\lib\\site-packages\\scikeras\\wrappers.py:289: UserWarning: ``build_fn`` will be renamed to ``model`` in a future release, at which point use of ``build_fn`` will raise an Error instead.\n",
      "  warnings.warn(\n"
     ]
    },
    {
     "name": "stdout",
     "output_type": "stream",
     "text": [
      "Epoch 1/20\n",
      "99/99 [==============================] - 5s 28ms/step - loss: 0.7896 - accuracy: 0.5333 - val_loss: 0.6780 - val_accuracy: 0.5698\n",
      "Epoch 2/20\n",
      "99/99 [==============================] - 2s 18ms/step - loss: 0.7083 - accuracy: 0.5809 - val_loss: 0.6607 - val_accuracy: 0.6081\n",
      "Epoch 3/20\n",
      "99/99 [==============================] - 2s 18ms/step - loss: 0.6769 - accuracy: 0.6053 - val_loss: 0.6451 - val_accuracy: 0.6206\n",
      "Epoch 4/20\n",
      "99/99 [==============================] - 2s 18ms/step - loss: 0.6549 - accuracy: 0.6205 - val_loss: 0.6454 - val_accuracy: 0.6211\n",
      "Epoch 5/20\n",
      "99/99 [==============================] - 2s 18ms/step - loss: 0.6401 - accuracy: 0.6351 - val_loss: 0.6339 - val_accuracy: 0.6367\n",
      "Epoch 6/20\n",
      "99/99 [==============================] - 2s 18ms/step - loss: 0.6321 - accuracy: 0.6402 - val_loss: 0.6177 - val_accuracy: 0.6493\n",
      "Epoch 7/20\n",
      "99/99 [==============================] - 2s 18ms/step - loss: 0.6164 - accuracy: 0.6589 - val_loss: 0.6205 - val_accuracy: 0.6468\n",
      "Epoch 8/20\n",
      "99/99 [==============================] - 2s 18ms/step - loss: 0.6115 - accuracy: 0.6595 - val_loss: 0.6165 - val_accuracy: 0.6509\n",
      "Epoch 9/20\n",
      "99/99 [==============================] - 2s 18ms/step - loss: 0.6079 - accuracy: 0.6635 - val_loss: 0.6202 - val_accuracy: 0.6507\n",
      "Epoch 10/20\n",
      "99/99 [==============================] - 2s 18ms/step - loss: 0.5962 - accuracy: 0.6728 - val_loss: 0.6207 - val_accuracy: 0.6418\n",
      "Epoch 11/20\n",
      "99/99 [==============================] - 2s 18ms/step - loss: 0.5944 - accuracy: 0.6842 - val_loss: 0.6219 - val_accuracy: 0.6582\n",
      "Epoch 00011: early stopping\n",
      "50/50 [==============================] - 1s 6ms/step\n",
      "[CV 1/3] END dropout_rate=0.3, learning_rate=0.001, node_type=lstm, nodes=[32, 32, 32];, score=0.650 total time=  25.9s\n"
     ]
    },
    {
     "name": "stderr",
     "output_type": "stream",
     "text": [
      "WARNING:absl:Found untraced functions such as gru_cell_1_layer_call_fn, gru_cell_1_layer_call_and_return_conditional_losses, gru_cell_1_layer_call_fn, gru_cell_1_layer_call_and_return_conditional_losses, gru_cell_1_layer_call_and_return_conditional_losses while saving (showing 5 of 5). These functions will not be directly callable after loading.\n"
     ]
    },
    {
     "name": "stdout",
     "output_type": "stream",
     "text": [
      "INFO:tensorflow:Assets written to: C:\\Users\\jared\\AppData\\Local\\Temp\\tmpypdkulux\\assets\n"
     ]
    },
    {
     "name": "stderr",
     "output_type": "stream",
     "text": [
      "INFO:tensorflow:Assets written to: C:\\Users\\jared\\AppData\\Local\\Temp\\tmpypdkulux\\assets\n",
      "WARNING:absl:<keras.layers.recurrent.GRUCell object at 0x0000017E0BBDADF0> has the same name 'GRUCell' as a built-in Keras object. Consider renaming <class 'keras.layers.recurrent.GRUCell'> to avoid naming conflicts when loading with `tf.keras.models.load_model`. If renaming is not possible, pass the object in the `custom_objects` parameter of the load function.\n",
      "C:\\Users\\jared\\anaconda3\\envs\\tflow\\lib\\site-packages\\scikeras\\wrappers.py:289: UserWarning: ``build_fn`` will be renamed to ``model`` in a future release, at which point use of ``build_fn`` will raise an Error instead.\n",
      "  warnings.warn(\n"
     ]
    },
    {
     "name": "stdout",
     "output_type": "stream",
     "text": [
      "Epoch 1/20\n",
      "99/99 [==============================] - 5s 28ms/step - loss: 0.7698 - accuracy: 0.5501 - val_loss: 0.6687 - val_accuracy: 0.6076\n",
      "Epoch 2/20\n",
      "99/99 [==============================] - 2s 18ms/step - loss: 0.6991 - accuracy: 0.5911 - val_loss: 0.6523 - val_accuracy: 0.6223\n",
      "Epoch 3/20\n",
      "99/99 [==============================] - 2s 17ms/step - loss: 0.6686 - accuracy: 0.6079 - val_loss: 0.6400 - val_accuracy: 0.6266\n",
      "Epoch 4/20\n",
      "99/99 [==============================] - 2s 18ms/step - loss: 0.6507 - accuracy: 0.6207 - val_loss: 0.6300 - val_accuracy: 0.6365\n",
      "Epoch 5/20\n",
      "99/99 [==============================] - 2s 18ms/step - loss: 0.6366 - accuracy: 0.6431 - val_loss: 0.6251 - val_accuracy: 0.6454\n",
      "Epoch 6/20\n",
      "99/99 [==============================] - 2s 18ms/step - loss: 0.6230 - accuracy: 0.6477 - val_loss: 0.6210 - val_accuracy: 0.6485\n",
      "Epoch 7/20\n",
      "99/99 [==============================] - 2s 18ms/step - loss: 0.6149 - accuracy: 0.6584 - val_loss: 0.6409 - val_accuracy: 0.6293\n",
      "Epoch 8/20\n",
      "99/99 [==============================] - 2s 18ms/step - loss: 0.6085 - accuracy: 0.6598 - val_loss: 0.6150 - val_accuracy: 0.6556\n",
      "Epoch 9/20\n",
      "99/99 [==============================] - 2s 18ms/step - loss: 0.5989 - accuracy: 0.6673 - val_loss: 0.6155 - val_accuracy: 0.6584\n",
      "Epoch 10/20\n",
      "99/99 [==============================] - 2s 20ms/step - loss: 0.5931 - accuracy: 0.6728 - val_loss: 0.6152 - val_accuracy: 0.6587\n",
      "Epoch 11/20\n",
      "99/99 [==============================] - 2s 20ms/step - loss: 0.5904 - accuracy: 0.6762 - val_loss: 0.6283 - val_accuracy: 0.6504\n",
      "Epoch 00011: early stopping\n",
      "50/50 [==============================] - 1s 7ms/step\n",
      "[CV 2/3] END dropout_rate=0.3, learning_rate=0.001, node_type=lstm, nodes=[32, 32, 32];, score=0.639 total time=  26.4s\n"
     ]
    },
    {
     "name": "stderr",
     "output_type": "stream",
     "text": [
      "WARNING:absl:Found untraced functions such as gru_cell_1_layer_call_fn, gru_cell_1_layer_call_and_return_conditional_losses, gru_cell_1_layer_call_fn, gru_cell_1_layer_call_and_return_conditional_losses, gru_cell_1_layer_call_and_return_conditional_losses while saving (showing 5 of 5). These functions will not be directly callable after loading.\n"
     ]
    },
    {
     "name": "stdout",
     "output_type": "stream",
     "text": [
      "INFO:tensorflow:Assets written to: C:\\Users\\jared\\AppData\\Local\\Temp\\tmp80_s4bwh\\assets\n"
     ]
    },
    {
     "name": "stderr",
     "output_type": "stream",
     "text": [
      "INFO:tensorflow:Assets written to: C:\\Users\\jared\\AppData\\Local\\Temp\\tmp80_s4bwh\\assets\n",
      "WARNING:absl:<keras.layers.recurrent.GRUCell object at 0x0000017E0BBDADF0> has the same name 'GRUCell' as a built-in Keras object. Consider renaming <class 'keras.layers.recurrent.GRUCell'> to avoid naming conflicts when loading with `tf.keras.models.load_model`. If renaming is not possible, pass the object in the `custom_objects` parameter of the load function.\n",
      "C:\\Users\\jared\\anaconda3\\envs\\tflow\\lib\\site-packages\\scikeras\\wrappers.py:289: UserWarning: ``build_fn`` will be renamed to ``model`` in a future release, at which point use of ``build_fn`` will raise an Error instead.\n",
      "  warnings.warn(\n"
     ]
    },
    {
     "name": "stdout",
     "output_type": "stream",
     "text": [
      "Epoch 1/20\n",
      "99/99 [==============================] - 6s 29ms/step - loss: 0.7697 - accuracy: 0.5419 - val_loss: 0.6782 - val_accuracy: 0.5863\n",
      "Epoch 2/20\n",
      "99/99 [==============================] - 2s 19ms/step - loss: 0.7058 - accuracy: 0.5707 - val_loss: 0.6595 - val_accuracy: 0.6124\n",
      "Epoch 3/20\n",
      "99/99 [==============================] - 2s 19ms/step - loss: 0.6746 - accuracy: 0.5955 - val_loss: 0.6357 - val_accuracy: 0.6370\n",
      "Epoch 4/20\n",
      "99/99 [==============================] - 2s 19ms/step - loss: 0.6490 - accuracy: 0.6244 - val_loss: 0.6242 - val_accuracy: 0.6473\n",
      "Epoch 5/20\n",
      "99/99 [==============================] - 2s 19ms/step - loss: 0.6353 - accuracy: 0.6372 - val_loss: 0.6173 - val_accuracy: 0.6476\n",
      "Epoch 6/20\n",
      "99/99 [==============================] - 2s 19ms/step - loss: 0.6238 - accuracy: 0.6525 - val_loss: 0.6268 - val_accuracy: 0.6372\n",
      "Epoch 7/20\n",
      "99/99 [==============================] - 2s 19ms/step - loss: 0.6143 - accuracy: 0.6591 - val_loss: 0.6110 - val_accuracy: 0.6551\n",
      "Epoch 8/20\n",
      "99/99 [==============================] - 2s 19ms/step - loss: 0.6098 - accuracy: 0.6604 - val_loss: 0.6082 - val_accuracy: 0.6596\n",
      "Epoch 9/20\n",
      "99/99 [==============================] - 2s 20ms/step - loss: 0.6025 - accuracy: 0.6707 - val_loss: 0.6180 - val_accuracy: 0.6582\n",
      "Epoch 10/20\n",
      "99/99 [==============================] - 2s 21ms/step - loss: 0.5962 - accuracy: 0.6744 - val_loss: 0.6104 - val_accuracy: 0.6608\n",
      "Epoch 11/20\n",
      "99/99 [==============================] - 2s 20ms/step - loss: 0.5909 - accuracy: 0.6749 - val_loss: 0.6150 - val_accuracy: 0.6639\n",
      "Epoch 00011: early stopping\n",
      "50/50 [==============================] - 1s 6ms/step\n",
      "[CV 3/3] END dropout_rate=0.3, learning_rate=0.001, node_type=lstm, nodes=[32, 32, 32];, score=0.647 total time=  27.7s\n"
     ]
    },
    {
     "name": "stderr",
     "output_type": "stream",
     "text": [
      "WARNING:absl:Found untraced functions such as gru_cell_1_layer_call_fn, gru_cell_1_layer_call_and_return_conditional_losses, gru_cell_1_layer_call_fn, gru_cell_1_layer_call_and_return_conditional_losses, gru_cell_1_layer_call_and_return_conditional_losses while saving (showing 5 of 5). These functions will not be directly callable after loading.\n"
     ]
    },
    {
     "name": "stdout",
     "output_type": "stream",
     "text": [
      "INFO:tensorflow:Assets written to: C:\\Users\\jared\\AppData\\Local\\Temp\\tmpq897_8o9\\assets\n"
     ]
    },
    {
     "name": "stderr",
     "output_type": "stream",
     "text": [
      "INFO:tensorflow:Assets written to: C:\\Users\\jared\\AppData\\Local\\Temp\\tmpq897_8o9\\assets\n",
      "WARNING:absl:<keras.layers.recurrent.GRUCell object at 0x0000017E0BBDADF0> has the same name 'GRUCell' as a built-in Keras object. Consider renaming <class 'keras.layers.recurrent.GRUCell'> to avoid naming conflicts when loading with `tf.keras.models.load_model`. If renaming is not possible, pass the object in the `custom_objects` parameter of the load function.\n",
      "C:\\Users\\jared\\anaconda3\\envs\\tflow\\lib\\site-packages\\scikeras\\wrappers.py:289: UserWarning: ``build_fn`` will be renamed to ``model`` in a future release, at which point use of ``build_fn`` will raise an Error instead.\n",
      "  warnings.warn(\n"
     ]
    },
    {
     "name": "stdout",
     "output_type": "stream",
     "text": [
      "Epoch 1/20\n",
      "99/99 [==============================] - 3s 17ms/step - loss: 0.7534 - accuracy: 0.5285 - val_loss: 0.6775 - val_accuracy: 0.5563\n",
      "Epoch 2/20\n",
      "99/99 [==============================] - 1s 11ms/step - loss: 0.7064 - accuracy: 0.5426 - val_loss: 0.6736 - val_accuracy: 0.5663\n",
      "Epoch 3/20\n",
      "99/99 [==============================] - 1s 12ms/step - loss: 0.6874 - accuracy: 0.5505 - val_loss: 0.6700 - val_accuracy: 0.5723\n",
      "Epoch 4/20\n",
      "99/99 [==============================] - 1s 12ms/step - loss: 0.6778 - accuracy: 0.5583 - val_loss: 0.6677 - val_accuracy: 0.5785\n",
      "Epoch 5/20\n",
      "99/99 [==============================] - 1s 11ms/step - loss: 0.6733 - accuracy: 0.5635 - val_loss: 0.6682 - val_accuracy: 0.5746\n",
      "Epoch 6/20\n",
      "99/99 [==============================] - 1s 11ms/step - loss: 0.6696 - accuracy: 0.5673 - val_loss: 0.6676 - val_accuracy: 0.5702\n",
      "Epoch 7/20\n",
      "99/99 [==============================] - 1s 11ms/step - loss: 0.6678 - accuracy: 0.5703 - val_loss: 0.6656 - val_accuracy: 0.5764\n",
      "Epoch 8/20\n",
      "99/99 [==============================] - 1s 11ms/step - loss: 0.6659 - accuracy: 0.5728 - val_loss: 0.6647 - val_accuracy: 0.5772\n",
      "Epoch 9/20\n",
      "99/99 [==============================] - 1s 12ms/step - loss: 0.6642 - accuracy: 0.5762 - val_loss: 0.6631 - val_accuracy: 0.5838\n",
      "Epoch 10/20\n",
      "99/99 [==============================] - 1s 11ms/step - loss: 0.6631 - accuracy: 0.5776 - val_loss: 0.6658 - val_accuracy: 0.5780\n",
      "Epoch 11/20\n",
      "99/99 [==============================] - 1s 12ms/step - loss: 0.6611 - accuracy: 0.5797 - val_loss: 0.6652 - val_accuracy: 0.5724\n",
      "Epoch 12/20\n",
      "99/99 [==============================] - 1s 12ms/step - loss: 0.6586 - accuracy: 0.5838 - val_loss: 0.6668 - val_accuracy: 0.5735\n",
      "Epoch 00012: early stopping\n",
      "50/50 [==============================] - 0s 4ms/step\n",
      "[CV 1/3] END dropout_rate=0.3, learning_rate=0.001, node_type=gru, nodes=[128];, score=nan total time=  17.7s\n"
     ]
    },
    {
     "name": "stderr",
     "output_type": "stream",
     "text": [
      "C:\\Users\\jared\\anaconda3\\envs\\tflow\\lib\\site-packages\\sklearn\\model_selection\\_validation.py:771: UserWarning: Scoring failed. The score on this train-test partition for these parameters will be set to nan. Details: \n",
      "Traceback (most recent call last):\n",
      "  File \"C:\\Users\\jared\\anaconda3\\envs\\tflow\\lib\\site-packages\\sklearn\\model_selection\\_validation.py\", line 762, in _score\n",
      "    scores = scorer(estimator, X_test, y_test)\n",
      "  File \"C:\\Users\\jared\\anaconda3\\envs\\tflow\\lib\\site-packages\\sklearn\\metrics\\_scorer.py\", line 216, in __call__\n",
      "    return self._score(\n",
      "  File \"C:\\Users\\jared\\anaconda3\\envs\\tflow\\lib\\site-packages\\sklearn\\metrics\\_scorer.py\", line 258, in _score\n",
      "    y_pred = method_caller(estimator, \"predict\", X)\n",
      "  File \"C:\\Users\\jared\\anaconda3\\envs\\tflow\\lib\\site-packages\\sklearn\\metrics\\_scorer.py\", line 68, in _cached_call\n",
      "    return getattr(estimator, method)(*args, **kwargs)\n",
      "  File \"C:\\Users\\jared\\anaconda3\\envs\\tflow\\lib\\site-packages\\scikeras\\wrappers.py\", line 1013, in predict\n",
      "    y_pred = self.target_encoder_.inverse_transform(y_pred)\n",
      "  File \"C:\\Users\\jared\\anaconda3\\envs\\tflow\\lib\\site-packages\\scikeras\\utils\\transformers.py\", line 257, in inverse_transform\n",
      "    class_predictions = self._final_encoder.inverse_transform(class_predictions)\n",
      "  File \"C:\\Users\\jared\\anaconda3\\envs\\tflow\\lib\\site-packages\\sklearn\\utils\\metaestimators.py\", line 113, in <lambda>\n",
      "    out = lambda *args, **kwargs: self.fn(obj, *args, **kwargs)  # noqa\n",
      "  File \"C:\\Users\\jared\\anaconda3\\envs\\tflow\\lib\\site-packages\\sklearn\\pipeline.py\", line 675, in inverse_transform\n",
      "    Xt = transform.inverse_transform(Xt)\n",
      "  File \"C:\\Users\\jared\\anaconda3\\envs\\tflow\\lib\\site-packages\\sklearn\\preprocessing\\_encoders.py\", line 990, in inverse_transform\n",
      "    X_tr[:, i] = self.categories_[i][labels]\n",
      "IndexError: index 52 is out of bounds for axis 0 with size 2\n",
      "\n",
      "  warnings.warn(\n",
      "WARNING:absl:Found untraced functions such as gru_cell_1_layer_call_fn, gru_cell_1_layer_call_and_return_conditional_losses, gru_cell_1_layer_call_fn, gru_cell_1_layer_call_and_return_conditional_losses, gru_cell_1_layer_call_and_return_conditional_losses while saving (showing 5 of 5). These functions will not be directly callable after loading.\n"
     ]
    },
    {
     "name": "stdout",
     "output_type": "stream",
     "text": [
      "INFO:tensorflow:Assets written to: C:\\Users\\jared\\AppData\\Local\\Temp\\tmp9d2btdw5\\assets\n"
     ]
    },
    {
     "name": "stderr",
     "output_type": "stream",
     "text": [
      "INFO:tensorflow:Assets written to: C:\\Users\\jared\\AppData\\Local\\Temp\\tmp9d2btdw5\\assets\n",
      "WARNING:absl:<keras.layers.recurrent.GRUCell object at 0x0000017E0BBDADF0> has the same name 'GRUCell' as a built-in Keras object. Consider renaming <class 'keras.layers.recurrent.GRUCell'> to avoid naming conflicts when loading with `tf.keras.models.load_model`. If renaming is not possible, pass the object in the `custom_objects` parameter of the load function.\n",
      "C:\\Users\\jared\\anaconda3\\envs\\tflow\\lib\\site-packages\\scikeras\\wrappers.py:289: UserWarning: ``build_fn`` will be renamed to ``model`` in a future release, at which point use of ``build_fn`` will raise an Error instead.\n",
      "  warnings.warn(\n"
     ]
    },
    {
     "name": "stdout",
     "output_type": "stream",
     "text": [
      "Epoch 1/20\n",
      "99/99 [==============================] - 3s 21ms/step - loss: 0.7515 - accuracy: 0.5319 - val_loss: 0.6773 - val_accuracy: 0.5662\n",
      "Epoch 2/20\n",
      "99/99 [==============================] - 1s 11ms/step - loss: 0.7036 - accuracy: 0.5450 - val_loss: 0.6719 - val_accuracy: 0.5737\n",
      "Epoch 3/20\n",
      "99/99 [==============================] - 1s 12ms/step - loss: 0.6859 - accuracy: 0.5523 - val_loss: 0.6689 - val_accuracy: 0.5760\n",
      "Epoch 4/20\n",
      "99/99 [==============================] - 1s 11ms/step - loss: 0.6750 - accuracy: 0.5623 - val_loss: 0.6673 - val_accuracy: 0.5766\n",
      "Epoch 5/20\n",
      "99/99 [==============================] - 1s 11ms/step - loss: 0.6702 - accuracy: 0.5685 - val_loss: 0.6667 - val_accuracy: 0.5725\n",
      "Epoch 6/20\n",
      "99/99 [==============================] - 1s 11ms/step - loss: 0.6671 - accuracy: 0.5730 - val_loss: 0.6631 - val_accuracy: 0.5826\n",
      "Epoch 7/20\n",
      "99/99 [==============================] - 1s 11ms/step - loss: 0.6648 - accuracy: 0.5752 - val_loss: 0.6638 - val_accuracy: 0.5808\n",
      "Epoch 8/20\n",
      "99/99 [==============================] - 1s 12ms/step - loss: 0.6637 - accuracy: 0.5771 - val_loss: 0.6637 - val_accuracy: 0.5750\n",
      "Epoch 9/20\n",
      "99/99 [==============================] - 1s 11ms/step - loss: 0.6618 - accuracy: 0.5788 - val_loss: 0.6623 - val_accuracy: 0.5837\n",
      "Epoch 10/20\n",
      "99/99 [==============================] - 1s 12ms/step - loss: 0.6600 - accuracy: 0.5819 - val_loss: 0.6626 - val_accuracy: 0.5780\n",
      "Epoch 11/20\n",
      "99/99 [==============================] - 1s 12ms/step - loss: 0.6588 - accuracy: 0.5831 - val_loss: 0.6621 - val_accuracy: 0.5824\n",
      "Epoch 12/20\n",
      "99/99 [==============================] - 1s 12ms/step - loss: 0.6572 - accuracy: 0.5842 - val_loss: 0.6605 - val_accuracy: 0.5858\n",
      "Epoch 13/20\n",
      "99/99 [==============================] - 1s 12ms/step - loss: 0.6550 - accuracy: 0.5876 - val_loss: 0.6645 - val_accuracy: 0.5786\n",
      "Epoch 14/20\n",
      "99/99 [==============================] - 1s 12ms/step - loss: 0.6537 - accuracy: 0.5886 - val_loss: 0.6704 - val_accuracy: 0.5774\n",
      "Epoch 15/20\n",
      "99/99 [==============================] - 1s 12ms/step - loss: 0.6520 - accuracy: 0.5904 - val_loss: 0.6619 - val_accuracy: 0.5859\n",
      "Epoch 00015: early stopping\n",
      "50/50 [==============================] - 0s 4ms/step\n",
      "[CV 2/3] END dropout_rate=0.3, learning_rate=0.001, node_type=gru, nodes=[128];, score=nan total time=  21.4s\n"
     ]
    },
    {
     "name": "stderr",
     "output_type": "stream",
     "text": [
      "C:\\Users\\jared\\anaconda3\\envs\\tflow\\lib\\site-packages\\sklearn\\model_selection\\_validation.py:771: UserWarning: Scoring failed. The score on this train-test partition for these parameters will be set to nan. Details: \n",
      "Traceback (most recent call last):\n",
      "  File \"C:\\Users\\jared\\anaconda3\\envs\\tflow\\lib\\site-packages\\sklearn\\model_selection\\_validation.py\", line 762, in _score\n",
      "    scores = scorer(estimator, X_test, y_test)\n",
      "  File \"C:\\Users\\jared\\anaconda3\\envs\\tflow\\lib\\site-packages\\sklearn\\metrics\\_scorer.py\", line 216, in __call__\n",
      "    return self._score(\n",
      "  File \"C:\\Users\\jared\\anaconda3\\envs\\tflow\\lib\\site-packages\\sklearn\\metrics\\_scorer.py\", line 258, in _score\n",
      "    y_pred = method_caller(estimator, \"predict\", X)\n",
      "  File \"C:\\Users\\jared\\anaconda3\\envs\\tflow\\lib\\site-packages\\sklearn\\metrics\\_scorer.py\", line 68, in _cached_call\n",
      "    return getattr(estimator, method)(*args, **kwargs)\n",
      "  File \"C:\\Users\\jared\\anaconda3\\envs\\tflow\\lib\\site-packages\\scikeras\\wrappers.py\", line 1013, in predict\n",
      "    y_pred = self.target_encoder_.inverse_transform(y_pred)\n",
      "  File \"C:\\Users\\jared\\anaconda3\\envs\\tflow\\lib\\site-packages\\scikeras\\utils\\transformers.py\", line 257, in inverse_transform\n",
      "    class_predictions = self._final_encoder.inverse_transform(class_predictions)\n",
      "  File \"C:\\Users\\jared\\anaconda3\\envs\\tflow\\lib\\site-packages\\sklearn\\utils\\metaestimators.py\", line 113, in <lambda>\n",
      "    out = lambda *args, **kwargs: self.fn(obj, *args, **kwargs)  # noqa\n",
      "  File \"C:\\Users\\jared\\anaconda3\\envs\\tflow\\lib\\site-packages\\sklearn\\pipeline.py\", line 675, in inverse_transform\n",
      "    Xt = transform.inverse_transform(Xt)\n",
      "  File \"C:\\Users\\jared\\anaconda3\\envs\\tflow\\lib\\site-packages\\sklearn\\preprocessing\\_encoders.py\", line 990, in inverse_transform\n",
      "    X_tr[:, i] = self.categories_[i][labels]\n",
      "IndexError: index 57 is out of bounds for axis 0 with size 2\n",
      "\n",
      "  warnings.warn(\n",
      "WARNING:absl:Found untraced functions such as gru_cell_1_layer_call_fn, gru_cell_1_layer_call_and_return_conditional_losses, gru_cell_1_layer_call_fn, gru_cell_1_layer_call_and_return_conditional_losses, gru_cell_1_layer_call_and_return_conditional_losses while saving (showing 5 of 5). These functions will not be directly callable after loading.\n"
     ]
    },
    {
     "name": "stdout",
     "output_type": "stream",
     "text": [
      "INFO:tensorflow:Assets written to: C:\\Users\\jared\\AppData\\Local\\Temp\\tmpt45e6o91\\assets\n"
     ]
    },
    {
     "name": "stderr",
     "output_type": "stream",
     "text": [
      "INFO:tensorflow:Assets written to: C:\\Users\\jared\\AppData\\Local\\Temp\\tmpt45e6o91\\assets\n",
      "WARNING:absl:<keras.layers.recurrent.GRUCell object at 0x0000017E0BBDADF0> has the same name 'GRUCell' as a built-in Keras object. Consider renaming <class 'keras.layers.recurrent.GRUCell'> to avoid naming conflicts when loading with `tf.keras.models.load_model`. If renaming is not possible, pass the object in the `custom_objects` parameter of the load function.\n",
      "C:\\Users\\jared\\anaconda3\\envs\\tflow\\lib\\site-packages\\scikeras\\wrappers.py:289: UserWarning: ``build_fn`` will be renamed to ``model`` in a future release, at which point use of ``build_fn`` will raise an Error instead.\n",
      "  warnings.warn(\n"
     ]
    },
    {
     "name": "stdout",
     "output_type": "stream",
     "text": [
      "Epoch 1/20\n",
      "99/99 [==============================] - 3s 18ms/step - loss: 0.7561 - accuracy: 0.5305 - val_loss: 0.6769 - val_accuracy: 0.5668\n",
      "Epoch 2/20\n",
      "99/99 [==============================] - 1s 12ms/step - loss: 0.7077 - accuracy: 0.5415 - val_loss: 0.6724 - val_accuracy: 0.5690\n",
      "Epoch 3/20\n",
      "99/99 [==============================] - 1s 11ms/step - loss: 0.6871 - accuracy: 0.5510 - val_loss: 0.6684 - val_accuracy: 0.5760\n",
      "Epoch 4/20\n",
      "99/99 [==============================] - 1s 11ms/step - loss: 0.6772 - accuracy: 0.5594 - val_loss: 0.6686 - val_accuracy: 0.5777\n",
      "Epoch 5/20\n",
      "99/99 [==============================] - 1s 11ms/step - loss: 0.6707 - accuracy: 0.5680 - val_loss: 0.6639 - val_accuracy: 0.5803\n",
      "Epoch 6/20\n",
      "99/99 [==============================] - 1s 12ms/step - loss: 0.6679 - accuracy: 0.5713 - val_loss: 0.6647 - val_accuracy: 0.5770\n",
      "Epoch 7/20\n",
      "99/99 [==============================] - 1s 12ms/step - loss: 0.6661 - accuracy: 0.5746 - val_loss: 0.6624 - val_accuracy: 0.5816\n",
      "Epoch 8/20\n",
      "99/99 [==============================] - 1s 12ms/step - loss: 0.6643 - accuracy: 0.5769 - val_loss: 0.6625 - val_accuracy: 0.5811\n",
      "Epoch 9/20\n",
      "99/99 [==============================] - 1s 12ms/step - loss: 0.6630 - accuracy: 0.5770 - val_loss: 0.6656 - val_accuracy: 0.5762\n",
      "Epoch 10/20\n",
      "99/99 [==============================] - 1s 12ms/step - loss: 0.6605 - accuracy: 0.5803 - val_loss: 0.6636 - val_accuracy: 0.5781\n",
      "Epoch 00010: early stopping\n",
      "50/50 [==============================] - 0s 4ms/step\n",
      "[CV 3/3] END dropout_rate=0.3, learning_rate=0.001, node_type=gru, nodes=[128];, score=nan total time=  15.5s\n"
     ]
    },
    {
     "name": "stderr",
     "output_type": "stream",
     "text": [
      "C:\\Users\\jared\\anaconda3\\envs\\tflow\\lib\\site-packages\\sklearn\\model_selection\\_validation.py:771: UserWarning: Scoring failed. The score on this train-test partition for these parameters will be set to nan. Details: \n",
      "Traceback (most recent call last):\n",
      "  File \"C:\\Users\\jared\\anaconda3\\envs\\tflow\\lib\\site-packages\\sklearn\\model_selection\\_validation.py\", line 762, in _score\n",
      "    scores = scorer(estimator, X_test, y_test)\n",
      "  File \"C:\\Users\\jared\\anaconda3\\envs\\tflow\\lib\\site-packages\\sklearn\\metrics\\_scorer.py\", line 216, in __call__\n",
      "    return self._score(\n",
      "  File \"C:\\Users\\jared\\anaconda3\\envs\\tflow\\lib\\site-packages\\sklearn\\metrics\\_scorer.py\", line 258, in _score\n",
      "    y_pred = method_caller(estimator, \"predict\", X)\n",
      "  File \"C:\\Users\\jared\\anaconda3\\envs\\tflow\\lib\\site-packages\\sklearn\\metrics\\_scorer.py\", line 68, in _cached_call\n",
      "    return getattr(estimator, method)(*args, **kwargs)\n",
      "  File \"C:\\Users\\jared\\anaconda3\\envs\\tflow\\lib\\site-packages\\scikeras\\wrappers.py\", line 1013, in predict\n",
      "    y_pred = self.target_encoder_.inverse_transform(y_pred)\n",
      "  File \"C:\\Users\\jared\\anaconda3\\envs\\tflow\\lib\\site-packages\\scikeras\\utils\\transformers.py\", line 257, in inverse_transform\n",
      "    class_predictions = self._final_encoder.inverse_transform(class_predictions)\n",
      "  File \"C:\\Users\\jared\\anaconda3\\envs\\tflow\\lib\\site-packages\\sklearn\\utils\\metaestimators.py\", line 113, in <lambda>\n",
      "    out = lambda *args, **kwargs: self.fn(obj, *args, **kwargs)  # noqa\n",
      "  File \"C:\\Users\\jared\\anaconda3\\envs\\tflow\\lib\\site-packages\\sklearn\\pipeline.py\", line 675, in inverse_transform\n",
      "    Xt = transform.inverse_transform(Xt)\n",
      "  File \"C:\\Users\\jared\\anaconda3\\envs\\tflow\\lib\\site-packages\\sklearn\\preprocessing\\_encoders.py\", line 990, in inverse_transform\n",
      "    X_tr[:, i] = self.categories_[i][labels]\n",
      "IndexError: index 59 is out of bounds for axis 0 with size 2\n",
      "\n",
      "  warnings.warn(\n",
      "WARNING:absl:Found untraced functions such as gru_cell_1_layer_call_fn, gru_cell_1_layer_call_and_return_conditional_losses, gru_cell_1_layer_call_fn, gru_cell_1_layer_call_and_return_conditional_losses, gru_cell_1_layer_call_and_return_conditional_losses while saving (showing 5 of 5). These functions will not be directly callable after loading.\n"
     ]
    },
    {
     "name": "stdout",
     "output_type": "stream",
     "text": [
      "INFO:tensorflow:Assets written to: C:\\Users\\jared\\AppData\\Local\\Temp\\tmpl_1ftbfb\\assets\n"
     ]
    },
    {
     "name": "stderr",
     "output_type": "stream",
     "text": [
      "INFO:tensorflow:Assets written to: C:\\Users\\jared\\AppData\\Local\\Temp\\tmpl_1ftbfb\\assets\n",
      "WARNING:absl:<keras.layers.recurrent.GRUCell object at 0x0000017E0BBDADF0> has the same name 'GRUCell' as a built-in Keras object. Consider renaming <class 'keras.layers.recurrent.GRUCell'> to avoid naming conflicts when loading with `tf.keras.models.load_model`. If renaming is not possible, pass the object in the `custom_objects` parameter of the load function.\n",
      "C:\\Users\\jared\\anaconda3\\envs\\tflow\\lib\\site-packages\\scikeras\\wrappers.py:289: UserWarning: ``build_fn`` will be renamed to ``model`` in a future release, at which point use of ``build_fn`` will raise an Error instead.\n",
      "  warnings.warn(\n"
     ]
    },
    {
     "name": "stdout",
     "output_type": "stream",
     "text": [
      "Epoch 1/20\n",
      "99/99 [==============================] - 4s 21ms/step - loss: 0.7353 - accuracy: 0.5866 - val_loss: 0.6439 - val_accuracy: 0.6280\n",
      "Epoch 2/20\n",
      "99/99 [==============================] - 1s 14ms/step - loss: 0.6828 - accuracy: 0.6056 - val_loss: 0.6280 - val_accuracy: 0.6351\n",
      "Epoch 3/20\n",
      "99/99 [==============================] - 1s 15ms/step - loss: 0.6475 - accuracy: 0.6308 - val_loss: 0.6141 - val_accuracy: 0.6575\n",
      "Epoch 4/20\n",
      "99/99 [==============================] - 1s 14ms/step - loss: 0.6352 - accuracy: 0.6410 - val_loss: 0.6129 - val_accuracy: 0.6557\n",
      "Epoch 5/20\n",
      "99/99 [==============================] - 1s 15ms/step - loss: 0.6179 - accuracy: 0.6535 - val_loss: 0.6103 - val_accuracy: 0.6565\n",
      "Epoch 6/20\n",
      "99/99 [==============================] - 1s 14ms/step - loss: 0.6102 - accuracy: 0.6608 - val_loss: 0.6110 - val_accuracy: 0.6597\n",
      "Epoch 7/20\n",
      "99/99 [==============================] - 1s 14ms/step - loss: 0.6026 - accuracy: 0.6641 - val_loss: 0.6089 - val_accuracy: 0.6662\n",
      "Epoch 8/20\n",
      "99/99 [==============================] - 1s 14ms/step - loss: 0.5942 - accuracy: 0.6744 - val_loss: 0.6247 - val_accuracy: 0.6491\n",
      "Epoch 9/20\n",
      "99/99 [==============================] - 1s 14ms/step - loss: 0.5920 - accuracy: 0.6757 - val_loss: 0.6197 - val_accuracy: 0.6525\n",
      "Epoch 10/20\n",
      "99/99 [==============================] - 1s 15ms/step - loss: 0.5842 - accuracy: 0.6801 - val_loss: 0.6104 - val_accuracy: 0.6618\n",
      "Epoch 00010: early stopping\n",
      "50/50 [==============================] - 1s 5ms/step\n",
      "[CV 1/3] END dropout_rate=0.3, learning_rate=0.001, node_type=gru, nodes=[64, 64];, score=0.658 total time=  19.0s\n"
     ]
    },
    {
     "name": "stderr",
     "output_type": "stream",
     "text": [
      "WARNING:absl:Found untraced functions such as gru_cell_1_layer_call_fn, gru_cell_1_layer_call_and_return_conditional_losses, gru_cell_1_layer_call_fn, gru_cell_1_layer_call_and_return_conditional_losses, gru_cell_1_layer_call_and_return_conditional_losses while saving (showing 5 of 5). These functions will not be directly callable after loading.\n"
     ]
    },
    {
     "name": "stdout",
     "output_type": "stream",
     "text": [
      "INFO:tensorflow:Assets written to: C:\\Users\\jared\\AppData\\Local\\Temp\\tmpft1yfrmj\\assets\n"
     ]
    },
    {
     "name": "stderr",
     "output_type": "stream",
     "text": [
      "INFO:tensorflow:Assets written to: C:\\Users\\jared\\AppData\\Local\\Temp\\tmpft1yfrmj\\assets\n",
      "WARNING:absl:<keras.layers.recurrent.GRUCell object at 0x0000017E0BBDADF0> has the same name 'GRUCell' as a built-in Keras object. Consider renaming <class 'keras.layers.recurrent.GRUCell'> to avoid naming conflicts when loading with `tf.keras.models.load_model`. If renaming is not possible, pass the object in the `custom_objects` parameter of the load function.\n",
      "C:\\Users\\jared\\anaconda3\\envs\\tflow\\lib\\site-packages\\scikeras\\wrappers.py:289: UserWarning: ``build_fn`` will be renamed to ``model`` in a future release, at which point use of ``build_fn`` will raise an Error instead.\n",
      "  warnings.warn(\n"
     ]
    },
    {
     "name": "stdout",
     "output_type": "stream",
     "text": [
      "Epoch 1/20\n",
      "99/99 [==============================] - 4s 22ms/step - loss: 0.7733 - accuracy: 0.5708 - val_loss: 0.6449 - val_accuracy: 0.6246\n",
      "Epoch 2/20\n",
      "99/99 [==============================] - 1s 15ms/step - loss: 0.6979 - accuracy: 0.5968 - val_loss: 0.6454 - val_accuracy: 0.6052\n",
      "Epoch 3/20\n",
      "99/99 [==============================] - 1s 15ms/step - loss: 0.6611 - accuracy: 0.6172 - val_loss: 0.6260 - val_accuracy: 0.6357\n",
      "Epoch 4/20\n",
      "99/99 [==============================] - 1s 14ms/step - loss: 0.6441 - accuracy: 0.6296 - val_loss: 0.6128 - val_accuracy: 0.6551\n",
      "Epoch 5/20\n",
      "99/99 [==============================] - 1s 14ms/step - loss: 0.6258 - accuracy: 0.6448 - val_loss: 0.6081 - val_accuracy: 0.6600\n",
      "Epoch 6/20\n",
      "99/99 [==============================] - 1s 14ms/step - loss: 0.6153 - accuracy: 0.6562 - val_loss: 0.6109 - val_accuracy: 0.6568\n",
      "Epoch 7/20\n",
      "99/99 [==============================] - 1s 14ms/step - loss: 0.6089 - accuracy: 0.6584 - val_loss: 0.6113 - val_accuracy: 0.6581\n",
      "Epoch 8/20\n",
      "99/99 [==============================] - 1s 14ms/step - loss: 0.6039 - accuracy: 0.6671 - val_loss: 0.6021 - val_accuracy: 0.6666\n",
      "Epoch 9/20\n",
      "99/99 [==============================] - 1s 14ms/step - loss: 0.5995 - accuracy: 0.6653 - val_loss: 0.6029 - val_accuracy: 0.6681\n",
      "Epoch 10/20\n",
      "99/99 [==============================] - 1s 15ms/step - loss: 0.5952 - accuracy: 0.6730 - val_loss: 0.6009 - val_accuracy: 0.6647\n",
      "Epoch 11/20\n",
      "99/99 [==============================] - 1s 15ms/step - loss: 0.5900 - accuracy: 0.6763 - val_loss: 0.6061 - val_accuracy: 0.6655\n",
      "Epoch 12/20\n",
      "99/99 [==============================] - 1s 14ms/step - loss: 0.5855 - accuracy: 0.6815 - val_loss: 0.6036 - val_accuracy: 0.6631\n",
      "Epoch 13/20\n",
      "99/99 [==============================] - 1s 15ms/step - loss: 0.5799 - accuracy: 0.6852 - val_loss: 0.6076 - val_accuracy: 0.6597\n",
      "Epoch 00013: early stopping\n",
      "50/50 [==============================] - 1s 5ms/step\n",
      "[CV 2/3] END dropout_rate=0.3, learning_rate=0.001, node_type=gru, nodes=[64, 64];, score=0.650 total time=  24.1s\n"
     ]
    },
    {
     "name": "stderr",
     "output_type": "stream",
     "text": [
      "WARNING:absl:Found untraced functions such as gru_cell_1_layer_call_fn, gru_cell_1_layer_call_and_return_conditional_losses, gru_cell_1_layer_call_fn, gru_cell_1_layer_call_and_return_conditional_losses, gru_cell_1_layer_call_and_return_conditional_losses while saving (showing 5 of 5). These functions will not be directly callable after loading.\n"
     ]
    },
    {
     "name": "stdout",
     "output_type": "stream",
     "text": [
      "INFO:tensorflow:Assets written to: C:\\Users\\jared\\AppData\\Local\\Temp\\tmphq6fz13l\\assets\n"
     ]
    },
    {
     "name": "stderr",
     "output_type": "stream",
     "text": [
      "INFO:tensorflow:Assets written to: C:\\Users\\jared\\AppData\\Local\\Temp\\tmphq6fz13l\\assets\n",
      "WARNING:absl:<keras.layers.recurrent.GRUCell object at 0x0000017E0BBDADF0> has the same name 'GRUCell' as a built-in Keras object. Consider renaming <class 'keras.layers.recurrent.GRUCell'> to avoid naming conflicts when loading with `tf.keras.models.load_model`. If renaming is not possible, pass the object in the `custom_objects` parameter of the load function.\n",
      "C:\\Users\\jared\\anaconda3\\envs\\tflow\\lib\\site-packages\\scikeras\\wrappers.py:289: UserWarning: ``build_fn`` will be renamed to ``model`` in a future release, at which point use of ``build_fn`` will raise an Error instead.\n",
      "  warnings.warn(\n"
     ]
    },
    {
     "name": "stdout",
     "output_type": "stream",
     "text": [
      "Epoch 1/20\n",
      "99/99 [==============================] - 4s 22ms/step - loss: 0.7542 - accuracy: 0.5649 - val_loss: 0.6504 - val_accuracy: 0.6137\n",
      "Epoch 2/20\n",
      "99/99 [==============================] - 1s 14ms/step - loss: 0.6799 - accuracy: 0.6093 - val_loss: 0.6237 - val_accuracy: 0.6487\n",
      "Epoch 3/20\n",
      "99/99 [==============================] - 1s 15ms/step - loss: 0.6528 - accuracy: 0.6236 - val_loss: 0.6179 - val_accuracy: 0.6515\n",
      "Epoch 4/20\n",
      "99/99 [==============================] - 1s 14ms/step - loss: 0.6325 - accuracy: 0.6400 - val_loss: 0.6156 - val_accuracy: 0.6561\n",
      "Epoch 5/20\n",
      "99/99 [==============================] - 1s 15ms/step - loss: 0.6252 - accuracy: 0.6507 - val_loss: 0.6181 - val_accuracy: 0.6476\n",
      "Epoch 6/20\n",
      "99/99 [==============================] - 1s 14ms/step - loss: 0.6113 - accuracy: 0.6592 - val_loss: 0.6116 - val_accuracy: 0.6600\n",
      "Epoch 7/20\n",
      "99/99 [==============================] - 1s 15ms/step - loss: 0.6044 - accuracy: 0.6657 - val_loss: 0.6106 - val_accuracy: 0.6613\n",
      "Epoch 8/20\n",
      "99/99 [==============================] - 1s 14ms/step - loss: 0.6002 - accuracy: 0.6680 - val_loss: 0.6083 - val_accuracy: 0.6596\n",
      "Epoch 9/20\n",
      "99/99 [==============================] - 1s 15ms/step - loss: 0.5940 - accuracy: 0.6724 - val_loss: 0.6050 - val_accuracy: 0.6646\n",
      "Epoch 10/20\n",
      "99/99 [==============================] - 1s 15ms/step - loss: 0.5900 - accuracy: 0.6758 - val_loss: 0.6152 - val_accuracy: 0.6554\n",
      "Epoch 11/20\n",
      "99/99 [==============================] - 1s 14ms/step - loss: 0.5851 - accuracy: 0.6814 - val_loss: 0.6225 - val_accuracy: 0.6489\n",
      "Epoch 12/20\n",
      "99/99 [==============================] - 1s 14ms/step - loss: 0.5801 - accuracy: 0.6869 - val_loss: 0.6270 - val_accuracy: 0.6493\n",
      "Epoch 00012: early stopping\n",
      "50/50 [==============================] - 1s 5ms/step\n",
      "[CV 3/3] END dropout_rate=0.3, learning_rate=0.001, node_type=gru, nodes=[64, 64];, score=0.642 total time=  22.5s\n"
     ]
    },
    {
     "name": "stderr",
     "output_type": "stream",
     "text": [
      "WARNING:absl:Found untraced functions such as gru_cell_1_layer_call_fn, gru_cell_1_layer_call_and_return_conditional_losses, gru_cell_1_layer_call_fn, gru_cell_1_layer_call_and_return_conditional_losses, gru_cell_1_layer_call_and_return_conditional_losses while saving (showing 5 of 5). These functions will not be directly callable after loading.\n"
     ]
    },
    {
     "name": "stdout",
     "output_type": "stream",
     "text": [
      "INFO:tensorflow:Assets written to: C:\\Users\\jared\\AppData\\Local\\Temp\\tmp9ch55n4d\\assets\n"
     ]
    },
    {
     "name": "stderr",
     "output_type": "stream",
     "text": [
      "INFO:tensorflow:Assets written to: C:\\Users\\jared\\AppData\\Local\\Temp\\tmp9ch55n4d\\assets\n",
      "WARNING:absl:<keras.layers.recurrent.GRUCell object at 0x0000017E0BBDADF0> has the same name 'GRUCell' as a built-in Keras object. Consider renaming <class 'keras.layers.recurrent.GRUCell'> to avoid naming conflicts when loading with `tf.keras.models.load_model`. If renaming is not possible, pass the object in the `custom_objects` parameter of the load function.\n",
      "C:\\Users\\jared\\anaconda3\\envs\\tflow\\lib\\site-packages\\scikeras\\wrappers.py:289: UserWarning: ``build_fn`` will be renamed to ``model`` in a future release, at which point use of ``build_fn`` will raise an Error instead.\n",
      "  warnings.warn(\n"
     ]
    },
    {
     "name": "stdout",
     "output_type": "stream",
     "text": [
      "Epoch 1/20\n",
      "99/99 [==============================] - 6s 27ms/step - loss: 0.7512 - accuracy: 0.5544 - val_loss: 0.6632 - val_accuracy: 0.6061\n",
      "Epoch 2/20\n",
      "99/99 [==============================] - 2s 18ms/step - loss: 0.6898 - accuracy: 0.5879 - val_loss: 0.6351 - val_accuracy: 0.6357\n",
      "Epoch 3/20\n",
      "99/99 [==============================] - 2s 19ms/step - loss: 0.6604 - accuracy: 0.6185 - val_loss: 0.6179 - val_accuracy: 0.6514\n",
      "Epoch 4/20\n",
      "99/99 [==============================] - 2s 18ms/step - loss: 0.6462 - accuracy: 0.6300 - val_loss: 0.6230 - val_accuracy: 0.6454\n",
      "Epoch 5/20\n",
      "99/99 [==============================] - 2s 19ms/step - loss: 0.6312 - accuracy: 0.6470 - val_loss: 0.6121 - val_accuracy: 0.6566\n",
      "Epoch 6/20\n",
      "99/99 [==============================] - 2s 19ms/step - loss: 0.6200 - accuracy: 0.6529 - val_loss: 0.6112 - val_accuracy: 0.6608\n",
      "Epoch 7/20\n",
      "99/99 [==============================] - 2s 19ms/step - loss: 0.6152 - accuracy: 0.6575 - val_loss: 0.6074 - val_accuracy: 0.6647\n",
      "Epoch 8/20\n",
      "99/99 [==============================] - 2s 18ms/step - loss: 0.6096 - accuracy: 0.6620 - val_loss: 0.6106 - val_accuracy: 0.6568\n",
      "Epoch 9/20\n",
      "99/99 [==============================] - 2s 18ms/step - loss: 0.6051 - accuracy: 0.6649 - val_loss: 0.6076 - val_accuracy: 0.6615\n",
      "Epoch 10/20\n",
      "99/99 [==============================] - 2s 18ms/step - loss: 0.6032 - accuracy: 0.6659 - val_loss: 0.6098 - val_accuracy: 0.6570\n",
      "Epoch 00010: early stopping\n",
      "50/50 [==============================] - 1s 6ms/step\n",
      "[CV 1/3] END dropout_rate=0.3, learning_rate=0.001, node_type=gru, nodes=[32, 32, 32];, score=0.651 total time=  24.9s\n"
     ]
    },
    {
     "name": "stderr",
     "output_type": "stream",
     "text": [
      "WARNING:absl:Found untraced functions such as gru_cell_1_layer_call_fn, gru_cell_1_layer_call_and_return_conditional_losses, gru_cell_1_layer_call_fn, gru_cell_1_layer_call_and_return_conditional_losses, gru_cell_1_layer_call_and_return_conditional_losses while saving (showing 5 of 5). These functions will not be directly callable after loading.\n"
     ]
    },
    {
     "name": "stdout",
     "output_type": "stream",
     "text": [
      "INFO:tensorflow:Assets written to: C:\\Users\\jared\\AppData\\Local\\Temp\\tmpqj__9r30\\assets\n"
     ]
    },
    {
     "name": "stderr",
     "output_type": "stream",
     "text": [
      "INFO:tensorflow:Assets written to: C:\\Users\\jared\\AppData\\Local\\Temp\\tmpqj__9r30\\assets\n",
      "WARNING:absl:<keras.layers.recurrent.GRUCell object at 0x0000017E0BBDADF0> has the same name 'GRUCell' as a built-in Keras object. Consider renaming <class 'keras.layers.recurrent.GRUCell'> to avoid naming conflicts when loading with `tf.keras.models.load_model`. If renaming is not possible, pass the object in the `custom_objects` parameter of the load function.\n",
      "C:\\Users\\jared\\anaconda3\\envs\\tflow\\lib\\site-packages\\scikeras\\wrappers.py:289: UserWarning: ``build_fn`` will be renamed to ``model`` in a future release, at which point use of ``build_fn`` will raise an Error instead.\n",
      "  warnings.warn(\n"
     ]
    },
    {
     "name": "stdout",
     "output_type": "stream",
     "text": [
      "Epoch 1/20\n",
      "99/99 [==============================] - 5s 27ms/step - loss: 0.7849 - accuracy: 0.5590 - val_loss: 0.6579 - val_accuracy: 0.6182\n",
      "Epoch 2/20\n",
      "99/99 [==============================] - 2s 18ms/step - loss: 0.7212 - accuracy: 0.5846 - val_loss: 0.6310 - val_accuracy: 0.6332\n",
      "Epoch 3/20\n",
      "99/99 [==============================] - 2s 18ms/step - loss: 0.6850 - accuracy: 0.6003 - val_loss: 0.6263 - val_accuracy: 0.6417\n",
      "Epoch 4/20\n",
      "99/99 [==============================] - 2s 18ms/step - loss: 0.6567 - accuracy: 0.6202 - val_loss: 0.6286 - val_accuracy: 0.6515\n",
      "Epoch 5/20\n",
      "99/99 [==============================] - 2s 19ms/step - loss: 0.6436 - accuracy: 0.6350 - val_loss: 0.6157 - val_accuracy: 0.6599\n",
      "Epoch 6/20\n",
      "99/99 [==============================] - 2s 19ms/step - loss: 0.6319 - accuracy: 0.6431 - val_loss: 0.6161 - val_accuracy: 0.6560\n",
      "Epoch 7/20\n",
      "99/99 [==============================] - 2s 19ms/step - loss: 0.6266 - accuracy: 0.6453 - val_loss: 0.6131 - val_accuracy: 0.6578\n",
      "Epoch 8/20\n",
      "99/99 [==============================] - 2s 19ms/step - loss: 0.6217 - accuracy: 0.6484 - val_loss: 0.6093 - val_accuracy: 0.6640\n",
      "Epoch 9/20\n",
      "99/99 [==============================] - 2s 19ms/step - loss: 0.6142 - accuracy: 0.6592 - val_loss: 0.6158 - val_accuracy: 0.6482\n",
      "Epoch 10/20\n",
      "99/99 [==============================] - 2s 19ms/step - loss: 0.6104 - accuracy: 0.6598 - val_loss: 0.6163 - val_accuracy: 0.6551\n",
      "Epoch 11/20\n",
      "99/99 [==============================] - 2s 18ms/step - loss: 0.6081 - accuracy: 0.6613 - val_loss: 0.6099 - val_accuracy: 0.6617\n",
      "Epoch 00011: early stopping\n",
      "50/50 [==============================] - 1s 6ms/step\n",
      "[CV 2/3] END dropout_rate=0.3, learning_rate=0.001, node_type=gru, nodes=[32, 32, 32];, score=0.657 total time=  26.6s\n"
     ]
    },
    {
     "name": "stderr",
     "output_type": "stream",
     "text": [
      "WARNING:absl:Found untraced functions such as gru_cell_1_layer_call_fn, gru_cell_1_layer_call_and_return_conditional_losses, gru_cell_1_layer_call_fn, gru_cell_1_layer_call_and_return_conditional_losses, gru_cell_1_layer_call_and_return_conditional_losses while saving (showing 5 of 5). These functions will not be directly callable after loading.\n"
     ]
    },
    {
     "name": "stdout",
     "output_type": "stream",
     "text": [
      "INFO:tensorflow:Assets written to: C:\\Users\\jared\\AppData\\Local\\Temp\\tmpw9if0k7w\\assets\n"
     ]
    },
    {
     "name": "stderr",
     "output_type": "stream",
     "text": [
      "INFO:tensorflow:Assets written to: C:\\Users\\jared\\AppData\\Local\\Temp\\tmpw9if0k7w\\assets\n",
      "WARNING:absl:<keras.layers.recurrent.GRUCell object at 0x0000017E0BBDADF0> has the same name 'GRUCell' as a built-in Keras object. Consider renaming <class 'keras.layers.recurrent.GRUCell'> to avoid naming conflicts when loading with `tf.keras.models.load_model`. If renaming is not possible, pass the object in the `custom_objects` parameter of the load function.\n",
      "C:\\Users\\jared\\anaconda3\\envs\\tflow\\lib\\site-packages\\scikeras\\wrappers.py:289: UserWarning: ``build_fn`` will be renamed to ``model`` in a future release, at which point use of ``build_fn`` will raise an Error instead.\n",
      "  warnings.warn(\n"
     ]
    },
    {
     "name": "stdout",
     "output_type": "stream",
     "text": [
      "Epoch 1/20\n",
      "99/99 [==============================] - 5s 28ms/step - loss: 0.7553 - accuracy: 0.5551 - val_loss: 0.6632 - val_accuracy: 0.5926\n",
      "Epoch 2/20\n",
      "99/99 [==============================] - 2s 19ms/step - loss: 0.6958 - accuracy: 0.5892 - val_loss: 0.6484 - val_accuracy: 0.6091\n",
      "Epoch 3/20\n",
      "99/99 [==============================] - 2s 18ms/step - loss: 0.6664 - accuracy: 0.6148 - val_loss: 0.6286 - val_accuracy: 0.6371\n",
      "Epoch 4/20\n",
      "99/99 [==============================] - 2s 19ms/step - loss: 0.6493 - accuracy: 0.6304 - val_loss: 0.6222 - val_accuracy: 0.6422\n",
      "Epoch 5/20\n",
      "99/99 [==============================] - 2s 19ms/step - loss: 0.6339 - accuracy: 0.6388 - val_loss: 0.6176 - val_accuracy: 0.6465\n",
      "Epoch 6/20\n",
      "99/99 [==============================] - 2s 19ms/step - loss: 0.6236 - accuracy: 0.6518 - val_loss: 0.6135 - val_accuracy: 0.6647\n",
      "Epoch 7/20\n",
      "99/99 [==============================] - 2s 18ms/step - loss: 0.6153 - accuracy: 0.6588 - val_loss: 0.6090 - val_accuracy: 0.6645\n",
      "Epoch 8/20\n",
      "99/99 [==============================] - 2s 19ms/step - loss: 0.6139 - accuracy: 0.6616 - val_loss: 0.6372 - val_accuracy: 0.6299\n",
      "Epoch 9/20\n",
      "99/99 [==============================] - 2s 19ms/step - loss: 0.6090 - accuracy: 0.6619 - val_loss: 0.6067 - val_accuracy: 0.6588\n",
      "Epoch 10/20\n",
      "99/99 [==============================] - 2s 19ms/step - loss: 0.6073 - accuracy: 0.6626 - val_loss: 0.6053 - val_accuracy: 0.6620\n",
      "Epoch 11/20\n",
      "99/99 [==============================] - 2s 19ms/step - loss: 0.6015 - accuracy: 0.6684 - val_loss: 0.6057 - val_accuracy: 0.6617\n",
      "Epoch 12/20\n",
      "99/99 [==============================] - 2s 19ms/step - loss: 0.5992 - accuracy: 0.6720 - val_loss: 0.6078 - val_accuracy: 0.6577\n",
      "Epoch 13/20\n",
      "99/99 [==============================] - 2s 19ms/step - loss: 0.5960 - accuracy: 0.6710 - val_loss: 0.6050 - val_accuracy: 0.6575\n",
      "Epoch 14/20\n",
      "99/99 [==============================] - 2s 19ms/step - loss: 0.5915 - accuracy: 0.6778 - val_loss: 0.6172 - val_accuracy: 0.6560\n",
      "Epoch 15/20\n",
      "99/99 [==============================] - 2s 19ms/step - loss: 0.5892 - accuracy: 0.6780 - val_loss: 0.6229 - val_accuracy: 0.6427\n",
      "Epoch 16/20\n",
      "99/99 [==============================] - 2s 19ms/step - loss: 0.5882 - accuracy: 0.6788 - val_loss: 0.6134 - val_accuracy: 0.6546\n",
      "Epoch 00016: early stopping\n",
      "50/50 [==============================] - 1s 6ms/step\n",
      "[CV 3/3] END dropout_rate=0.3, learning_rate=0.001, node_type=gru, nodes=[32, 32, 32];, score=0.650 total time=  36.4s\n"
     ]
    },
    {
     "name": "stderr",
     "output_type": "stream",
     "text": [
      "WARNING:absl:Found untraced functions such as gru_cell_1_layer_call_fn, gru_cell_1_layer_call_and_return_conditional_losses, gru_cell_1_layer_call_fn, gru_cell_1_layer_call_and_return_conditional_losses, gru_cell_1_layer_call_and_return_conditional_losses while saving (showing 5 of 5). These functions will not be directly callable after loading.\n"
     ]
    },
    {
     "name": "stdout",
     "output_type": "stream",
     "text": [
      "INFO:tensorflow:Assets written to: C:\\Users\\jared\\AppData\\Local\\Temp\\tmpr85bzj_n\\assets\n"
     ]
    },
    {
     "name": "stderr",
     "output_type": "stream",
     "text": [
      "INFO:tensorflow:Assets written to: C:\\Users\\jared\\AppData\\Local\\Temp\\tmpr85bzj_n\\assets\n",
      "WARNING:absl:<keras.layers.recurrent.GRUCell object at 0x0000017E0BBDADF0> has the same name 'GRUCell' as a built-in Keras object. Consider renaming <class 'keras.layers.recurrent.GRUCell'> to avoid naming conflicts when loading with `tf.keras.models.load_model`. If renaming is not possible, pass the object in the `custom_objects` parameter of the load function.\n",
      "C:\\Users\\jared\\anaconda3\\envs\\tflow\\lib\\site-packages\\scikeras\\wrappers.py:289: UserWarning: ``build_fn`` will be renamed to ``model`` in a future release, at which point use of ``build_fn`` will raise an Error instead.\n",
      "  warnings.warn(\n"
     ]
    },
    {
     "name": "stdout",
     "output_type": "stream",
     "text": [
      "Epoch 1/20\n",
      "99/99 [==============================] - 3s 19ms/step - loss: 0.7351 - accuracy: 0.5233 - val_loss: 0.6859 - val_accuracy: 0.5371\n",
      "Epoch 2/20\n",
      "99/99 [==============================] - 1s 12ms/step - loss: 0.6793 - accuracy: 0.5539 - val_loss: 0.6796 - val_accuracy: 0.5549\n",
      "Epoch 3/20\n",
      "99/99 [==============================] - 1s 13ms/step - loss: 0.6748 - accuracy: 0.5603 - val_loss: 0.6799 - val_accuracy: 0.5500\n",
      "Epoch 4/20\n",
      "99/99 [==============================] - 1s 12ms/step - loss: 0.6714 - accuracy: 0.5679 - val_loss: 0.6766 - val_accuracy: 0.5571\n",
      "Epoch 5/20\n",
      "99/99 [==============================] - 1s 12ms/step - loss: 0.6720 - accuracy: 0.5664 - val_loss: 0.6748 - val_accuracy: 0.5652\n",
      "Epoch 6/20\n",
      "99/99 [==============================] - 1s 13ms/step - loss: 0.6701 - accuracy: 0.5699 - val_loss: 0.6698 - val_accuracy: 0.5708\n",
      "Epoch 7/20\n",
      "99/99 [==============================] - 1s 12ms/step - loss: 0.6683 - accuracy: 0.5696 - val_loss: 0.6728 - val_accuracy: 0.5714\n",
      "Epoch 8/20\n",
      "99/99 [==============================] - 1s 12ms/step - loss: 0.6667 - accuracy: 0.5727 - val_loss: 0.6722 - val_accuracy: 0.5684\n",
      "Epoch 9/20\n",
      "99/99 [==============================] - 1s 12ms/step - loss: 0.6624 - accuracy: 0.5766 - val_loss: 0.6692 - val_accuracy: 0.5713\n",
      "Epoch 10/20\n",
      "99/99 [==============================] - 1s 12ms/step - loss: 0.6615 - accuracy: 0.5762 - val_loss: 0.6680 - val_accuracy: 0.5737\n",
      "Epoch 11/20\n",
      "99/99 [==============================] - 1s 12ms/step - loss: 0.6567 - accuracy: 0.5839 - val_loss: 0.6732 - val_accuracy: 0.5738\n",
      "Epoch 12/20\n",
      "99/99 [==============================] - 1s 12ms/step - loss: 0.6557 - accuracy: 0.5854 - val_loss: 0.6788 - val_accuracy: 0.5565\n",
      "Epoch 13/20\n",
      "99/99 [==============================] - 1s 12ms/step - loss: 0.6510 - accuracy: 0.5887 - val_loss: 0.6734 - val_accuracy: 0.5704\n",
      "Epoch 00013: early stopping\n",
      "50/50 [==============================] - 0s 4ms/step\n",
      "[CV 1/3] END dropout_rate=0.3, learning_rate=0.01, node_type=lstm, nodes=[128];, score=nan total time=  19.7s\n"
     ]
    },
    {
     "name": "stderr",
     "output_type": "stream",
     "text": [
      "C:\\Users\\jared\\anaconda3\\envs\\tflow\\lib\\site-packages\\sklearn\\model_selection\\_validation.py:771: UserWarning: Scoring failed. The score on this train-test partition for these parameters will be set to nan. Details: \n",
      "Traceback (most recent call last):\n",
      "  File \"C:\\Users\\jared\\anaconda3\\envs\\tflow\\lib\\site-packages\\sklearn\\model_selection\\_validation.py\", line 762, in _score\n",
      "    scores = scorer(estimator, X_test, y_test)\n",
      "  File \"C:\\Users\\jared\\anaconda3\\envs\\tflow\\lib\\site-packages\\sklearn\\metrics\\_scorer.py\", line 216, in __call__\n",
      "    return self._score(\n",
      "  File \"C:\\Users\\jared\\anaconda3\\envs\\tflow\\lib\\site-packages\\sklearn\\metrics\\_scorer.py\", line 258, in _score\n",
      "    y_pred = method_caller(estimator, \"predict\", X)\n",
      "  File \"C:\\Users\\jared\\anaconda3\\envs\\tflow\\lib\\site-packages\\sklearn\\metrics\\_scorer.py\", line 68, in _cached_call\n",
      "    return getattr(estimator, method)(*args, **kwargs)\n",
      "  File \"C:\\Users\\jared\\anaconda3\\envs\\tflow\\lib\\site-packages\\scikeras\\wrappers.py\", line 1013, in predict\n",
      "    y_pred = self.target_encoder_.inverse_transform(y_pred)\n",
      "  File \"C:\\Users\\jared\\anaconda3\\envs\\tflow\\lib\\site-packages\\scikeras\\utils\\transformers.py\", line 257, in inverse_transform\n",
      "    class_predictions = self._final_encoder.inverse_transform(class_predictions)\n",
      "  File \"C:\\Users\\jared\\anaconda3\\envs\\tflow\\lib\\site-packages\\sklearn\\utils\\metaestimators.py\", line 113, in <lambda>\n",
      "    out = lambda *args, **kwargs: self.fn(obj, *args, **kwargs)  # noqa\n",
      "  File \"C:\\Users\\jared\\anaconda3\\envs\\tflow\\lib\\site-packages\\sklearn\\pipeline.py\", line 675, in inverse_transform\n",
      "    Xt = transform.inverse_transform(Xt)\n",
      "  File \"C:\\Users\\jared\\anaconda3\\envs\\tflow\\lib\\site-packages\\sklearn\\preprocessing\\_encoders.py\", line 990, in inverse_transform\n",
      "    X_tr[:, i] = self.categories_[i][labels]\n",
      "IndexError: index 57 is out of bounds for axis 0 with size 2\n",
      "\n",
      "  warnings.warn(\n",
      "WARNING:absl:Found untraced functions such as gru_cell_1_layer_call_fn, gru_cell_1_layer_call_and_return_conditional_losses, gru_cell_1_layer_call_fn, gru_cell_1_layer_call_and_return_conditional_losses, gru_cell_1_layer_call_and_return_conditional_losses while saving (showing 5 of 5). These functions will not be directly callable after loading.\n"
     ]
    },
    {
     "name": "stdout",
     "output_type": "stream",
     "text": [
      "INFO:tensorflow:Assets written to: C:\\Users\\jared\\AppData\\Local\\Temp\\tmppvg9tc8q\\assets\n"
     ]
    },
    {
     "name": "stderr",
     "output_type": "stream",
     "text": [
      "INFO:tensorflow:Assets written to: C:\\Users\\jared\\AppData\\Local\\Temp\\tmppvg9tc8q\\assets\n",
      "WARNING:absl:<keras.layers.recurrent.GRUCell object at 0x0000017E0BBDADF0> has the same name 'GRUCell' as a built-in Keras object. Consider renaming <class 'keras.layers.recurrent.GRUCell'> to avoid naming conflicts when loading with `tf.keras.models.load_model`. If renaming is not possible, pass the object in the `custom_objects` parameter of the load function.\n",
      "C:\\Users\\jared\\anaconda3\\envs\\tflow\\lib\\site-packages\\scikeras\\wrappers.py:289: UserWarning: ``build_fn`` will be renamed to ``model`` in a future release, at which point use of ``build_fn`` will raise an Error instead.\n",
      "  warnings.warn(\n"
     ]
    },
    {
     "name": "stdout",
     "output_type": "stream",
     "text": [
      "Epoch 1/20\n",
      "99/99 [==============================] - 3s 18ms/step - loss: 0.7583 - accuracy: 0.5240 - val_loss: 0.6849 - val_accuracy: 0.5483\n",
      "Epoch 2/20\n",
      "99/99 [==============================] - 1s 12ms/step - loss: 0.6786 - accuracy: 0.5541 - val_loss: 0.6779 - val_accuracy: 0.5539\n",
      "Epoch 3/20\n",
      "99/99 [==============================] - 1s 12ms/step - loss: 0.6735 - accuracy: 0.5636 - val_loss: 0.6724 - val_accuracy: 0.5707\n",
      "Epoch 4/20\n",
      "99/99 [==============================] - 1s 12ms/step - loss: 0.6708 - accuracy: 0.5680 - val_loss: 0.6670 - val_accuracy: 0.5700\n",
      "Epoch 5/20\n",
      "99/99 [==============================] - 1s 12ms/step - loss: 0.6692 - accuracy: 0.5716 - val_loss: 0.6689 - val_accuracy: 0.5701\n",
      "Epoch 6/20\n",
      "99/99 [==============================] - 1s 12ms/step - loss: 0.6690 - accuracy: 0.5692 - val_loss: 0.6751 - val_accuracy: 0.5605\n",
      "Epoch 7/20\n",
      "99/99 [==============================] - 1s 12ms/step - loss: 0.6661 - accuracy: 0.5746 - val_loss: 0.6690 - val_accuracy: 0.5751\n",
      "Epoch 00007: early stopping\n",
      "50/50 [==============================] - 1s 4ms/step\n",
      "[CV 2/3] END dropout_rate=0.3, learning_rate=0.01, node_type=lstm, nodes=[128];, score=nan total time=  12.6s\n"
     ]
    },
    {
     "name": "stderr",
     "output_type": "stream",
     "text": [
      "C:\\Users\\jared\\anaconda3\\envs\\tflow\\lib\\site-packages\\sklearn\\model_selection\\_validation.py:771: UserWarning: Scoring failed. The score on this train-test partition for these parameters will be set to nan. Details: \n",
      "Traceback (most recent call last):\n",
      "  File \"C:\\Users\\jared\\anaconda3\\envs\\tflow\\lib\\site-packages\\sklearn\\model_selection\\_validation.py\", line 762, in _score\n",
      "    scores = scorer(estimator, X_test, y_test)\n",
      "  File \"C:\\Users\\jared\\anaconda3\\envs\\tflow\\lib\\site-packages\\sklearn\\metrics\\_scorer.py\", line 216, in __call__\n",
      "    return self._score(\n",
      "  File \"C:\\Users\\jared\\anaconda3\\envs\\tflow\\lib\\site-packages\\sklearn\\metrics\\_scorer.py\", line 258, in _score\n",
      "    y_pred = method_caller(estimator, \"predict\", X)\n",
      "  File \"C:\\Users\\jared\\anaconda3\\envs\\tflow\\lib\\site-packages\\sklearn\\metrics\\_scorer.py\", line 68, in _cached_call\n",
      "    return getattr(estimator, method)(*args, **kwargs)\n",
      "  File \"C:\\Users\\jared\\anaconda3\\envs\\tflow\\lib\\site-packages\\scikeras\\wrappers.py\", line 1013, in predict\n",
      "    y_pred = self.target_encoder_.inverse_transform(y_pred)\n",
      "  File \"C:\\Users\\jared\\anaconda3\\envs\\tflow\\lib\\site-packages\\scikeras\\utils\\transformers.py\", line 257, in inverse_transform\n",
      "    class_predictions = self._final_encoder.inverse_transform(class_predictions)\n",
      "  File \"C:\\Users\\jared\\anaconda3\\envs\\tflow\\lib\\site-packages\\sklearn\\utils\\metaestimators.py\", line 113, in <lambda>\n",
      "    out = lambda *args, **kwargs: self.fn(obj, *args, **kwargs)  # noqa\n",
      "  File \"C:\\Users\\jared\\anaconda3\\envs\\tflow\\lib\\site-packages\\sklearn\\pipeline.py\", line 675, in inverse_transform\n",
      "    Xt = transform.inverse_transform(Xt)\n",
      "  File \"C:\\Users\\jared\\anaconda3\\envs\\tflow\\lib\\site-packages\\sklearn\\preprocessing\\_encoders.py\", line 990, in inverse_transform\n",
      "    X_tr[:, i] = self.categories_[i][labels]\n",
      "IndexError: index 46 is out of bounds for axis 0 with size 2\n",
      "\n",
      "  warnings.warn(\n",
      "WARNING:absl:Found untraced functions such as gru_cell_1_layer_call_fn, gru_cell_1_layer_call_and_return_conditional_losses, gru_cell_1_layer_call_fn, gru_cell_1_layer_call_and_return_conditional_losses, gru_cell_1_layer_call_and_return_conditional_losses while saving (showing 5 of 5). These functions will not be directly callable after loading.\n"
     ]
    },
    {
     "name": "stdout",
     "output_type": "stream",
     "text": [
      "INFO:tensorflow:Assets written to: C:\\Users\\jared\\AppData\\Local\\Temp\\tmpz7v6yzo3\\assets\n"
     ]
    },
    {
     "name": "stderr",
     "output_type": "stream",
     "text": [
      "INFO:tensorflow:Assets written to: C:\\Users\\jared\\AppData\\Local\\Temp\\tmpz7v6yzo3\\assets\n",
      "WARNING:absl:<keras.layers.recurrent.GRUCell object at 0x0000017E0BBDADF0> has the same name 'GRUCell' as a built-in Keras object. Consider renaming <class 'keras.layers.recurrent.GRUCell'> to avoid naming conflicts when loading with `tf.keras.models.load_model`. If renaming is not possible, pass the object in the `custom_objects` parameter of the load function.\n",
      "C:\\Users\\jared\\anaconda3\\envs\\tflow\\lib\\site-packages\\scikeras\\wrappers.py:289: UserWarning: ``build_fn`` will be renamed to ``model`` in a future release, at which point use of ``build_fn`` will raise an Error instead.\n",
      "  warnings.warn(\n"
     ]
    },
    {
     "name": "stdout",
     "output_type": "stream",
     "text": [
      "Epoch 1/20\n",
      "99/99 [==============================] - 3s 18ms/step - loss: 0.7316 - accuracy: 0.5310 - val_loss: 0.6842 - val_accuracy: 0.5410\n",
      "Epoch 2/20\n",
      "99/99 [==============================] - 1s 12ms/step - loss: 0.6777 - accuracy: 0.5579 - val_loss: 0.6795 - val_accuracy: 0.5614\n",
      "Epoch 3/20\n",
      "99/99 [==============================] - 1s 12ms/step - loss: 0.6743 - accuracy: 0.5614 - val_loss: 0.6769 - val_accuracy: 0.5665\n",
      "Epoch 4/20\n",
      "99/99 [==============================] - 1s 12ms/step - loss: 0.6715 - accuracy: 0.5685 - val_loss: 0.6719 - val_accuracy: 0.5699\n",
      "Epoch 5/20\n",
      "99/99 [==============================] - 1s 12ms/step - loss: 0.6702 - accuracy: 0.5698 - val_loss: 0.6673 - val_accuracy: 0.5742\n",
      "Epoch 6/20\n",
      "99/99 [==============================] - 1s 12ms/step - loss: 0.6690 - accuracy: 0.5695 - val_loss: 0.6690 - val_accuracy: 0.5751\n",
      "Epoch 7/20\n",
      "99/99 [==============================] - 1s 12ms/step - loss: 0.6664 - accuracy: 0.5750 - val_loss: 0.6758 - val_accuracy: 0.5682\n",
      "Epoch 8/20\n",
      "99/99 [==============================] - 1s 12ms/step - loss: 0.6648 - accuracy: 0.5781 - val_loss: 0.6726 - val_accuracy: 0.5608\n",
      "Epoch 00008: early stopping\n",
      "50/50 [==============================] - 0s 5ms/step\n",
      "[CV 3/3] END dropout_rate=0.3, learning_rate=0.01, node_type=lstm, nodes=[128];, score=nan total time=  13.8s\n"
     ]
    },
    {
     "name": "stderr",
     "output_type": "stream",
     "text": [
      "C:\\Users\\jared\\anaconda3\\envs\\tflow\\lib\\site-packages\\sklearn\\model_selection\\_validation.py:771: UserWarning: Scoring failed. The score on this train-test partition for these parameters will be set to nan. Details: \n",
      "Traceback (most recent call last):\n",
      "  File \"C:\\Users\\jared\\anaconda3\\envs\\tflow\\lib\\site-packages\\sklearn\\model_selection\\_validation.py\", line 762, in _score\n",
      "    scores = scorer(estimator, X_test, y_test)\n",
      "  File \"C:\\Users\\jared\\anaconda3\\envs\\tflow\\lib\\site-packages\\sklearn\\metrics\\_scorer.py\", line 216, in __call__\n",
      "    return self._score(\n",
      "  File \"C:\\Users\\jared\\anaconda3\\envs\\tflow\\lib\\site-packages\\sklearn\\metrics\\_scorer.py\", line 258, in _score\n",
      "    y_pred = method_caller(estimator, \"predict\", X)\n",
      "  File \"C:\\Users\\jared\\anaconda3\\envs\\tflow\\lib\\site-packages\\sklearn\\metrics\\_scorer.py\", line 68, in _cached_call\n",
      "    return getattr(estimator, method)(*args, **kwargs)\n",
      "  File \"C:\\Users\\jared\\anaconda3\\envs\\tflow\\lib\\site-packages\\scikeras\\wrappers.py\", line 1013, in predict\n",
      "    y_pred = self.target_encoder_.inverse_transform(y_pred)\n",
      "  File \"C:\\Users\\jared\\anaconda3\\envs\\tflow\\lib\\site-packages\\scikeras\\utils\\transformers.py\", line 257, in inverse_transform\n",
      "    class_predictions = self._final_encoder.inverse_transform(class_predictions)\n",
      "  File \"C:\\Users\\jared\\anaconda3\\envs\\tflow\\lib\\site-packages\\sklearn\\utils\\metaestimators.py\", line 113, in <lambda>\n",
      "    out = lambda *args, **kwargs: self.fn(obj, *args, **kwargs)  # noqa\n",
      "  File \"C:\\Users\\jared\\anaconda3\\envs\\tflow\\lib\\site-packages\\sklearn\\pipeline.py\", line 675, in inverse_transform\n",
      "    Xt = transform.inverse_transform(Xt)\n",
      "  File \"C:\\Users\\jared\\anaconda3\\envs\\tflow\\lib\\site-packages\\sklearn\\preprocessing\\_encoders.py\", line 990, in inverse_transform\n",
      "    X_tr[:, i] = self.categories_[i][labels]\n",
      "IndexError: index 58 is out of bounds for axis 0 with size 2\n",
      "\n",
      "  warnings.warn(\n",
      "WARNING:absl:Found untraced functions such as gru_cell_1_layer_call_fn, gru_cell_1_layer_call_and_return_conditional_losses, gru_cell_1_layer_call_fn, gru_cell_1_layer_call_and_return_conditional_losses, gru_cell_1_layer_call_and_return_conditional_losses while saving (showing 5 of 5). These functions will not be directly callable after loading.\n"
     ]
    },
    {
     "name": "stdout",
     "output_type": "stream",
     "text": [
      "INFO:tensorflow:Assets written to: C:\\Users\\jared\\AppData\\Local\\Temp\\tmpa8liiom4\\assets\n"
     ]
    },
    {
     "name": "stderr",
     "output_type": "stream",
     "text": [
      "INFO:tensorflow:Assets written to: C:\\Users\\jared\\AppData\\Local\\Temp\\tmpa8liiom4\\assets\n",
      "WARNING:absl:<keras.layers.recurrent.GRUCell object at 0x0000017E0BBDADF0> has the same name 'GRUCell' as a built-in Keras object. Consider renaming <class 'keras.layers.recurrent.GRUCell'> to avoid naming conflicts when loading with `tf.keras.models.load_model`. If renaming is not possible, pass the object in the `custom_objects` parameter of the load function.\n",
      "C:\\Users\\jared\\anaconda3\\envs\\tflow\\lib\\site-packages\\scikeras\\wrappers.py:289: UserWarning: ``build_fn`` will be renamed to ``model`` in a future release, at which point use of ``build_fn`` will raise an Error instead.\n",
      "  warnings.warn(\n"
     ]
    },
    {
     "name": "stdout",
     "output_type": "stream",
     "text": [
      "Epoch 1/20\n",
      "99/99 [==============================] - 4s 23ms/step - loss: 0.6992 - accuracy: 0.5814 - val_loss: 0.6716 - val_accuracy: 0.6079\n",
      "Epoch 2/20\n",
      "99/99 [==============================] - 2s 15ms/step - loss: 0.6414 - accuracy: 0.6315 - val_loss: 0.6403 - val_accuracy: 0.6488\n",
      "Epoch 3/20\n",
      "99/99 [==============================] - 2s 15ms/step - loss: 0.6300 - accuracy: 0.6407 - val_loss: 0.6484 - val_accuracy: 0.6137\n",
      "Epoch 4/20\n",
      "99/99 [==============================] - 2s 15ms/step - loss: 0.6258 - accuracy: 0.6516 - val_loss: 0.6413 - val_accuracy: 0.6370\n",
      "Epoch 5/20\n",
      "99/99 [==============================] - 2s 15ms/step - loss: 0.6213 - accuracy: 0.6556 - val_loss: 0.6434 - val_accuracy: 0.6256\n",
      "Epoch 00005: early stopping\n",
      "50/50 [==============================] - 1s 5ms/step\n",
      "[CV 1/3] END dropout_rate=0.3, learning_rate=0.01, node_type=lstm, nodes=[64, 64];, score=0.628 total time=  12.6s\n"
     ]
    },
    {
     "name": "stderr",
     "output_type": "stream",
     "text": [
      "WARNING:absl:Found untraced functions such as gru_cell_1_layer_call_fn, gru_cell_1_layer_call_and_return_conditional_losses, gru_cell_1_layer_call_fn, gru_cell_1_layer_call_and_return_conditional_losses, gru_cell_1_layer_call_and_return_conditional_losses while saving (showing 5 of 5). These functions will not be directly callable after loading.\n"
     ]
    },
    {
     "name": "stdout",
     "output_type": "stream",
     "text": [
      "INFO:tensorflow:Assets written to: C:\\Users\\jared\\AppData\\Local\\Temp\\tmpzlnkgb21\\assets\n"
     ]
    },
    {
     "name": "stderr",
     "output_type": "stream",
     "text": [
      "INFO:tensorflow:Assets written to: C:\\Users\\jared\\AppData\\Local\\Temp\\tmpzlnkgb21\\assets\n",
      "WARNING:absl:<keras.layers.recurrent.GRUCell object at 0x0000017E0BBDADF0> has the same name 'GRUCell' as a built-in Keras object. Consider renaming <class 'keras.layers.recurrent.GRUCell'> to avoid naming conflicts when loading with `tf.keras.models.load_model`. If renaming is not possible, pass the object in the `custom_objects` parameter of the load function.\n",
      "C:\\Users\\jared\\anaconda3\\envs\\tflow\\lib\\site-packages\\scikeras\\wrappers.py:289: UserWarning: ``build_fn`` will be renamed to ``model`` in a future release, at which point use of ``build_fn`` will raise an Error instead.\n",
      "  warnings.warn(\n"
     ]
    },
    {
     "name": "stdout",
     "output_type": "stream",
     "text": [
      "Epoch 1/20\n",
      "99/99 [==============================] - 4s 23ms/step - loss: 0.7027 - accuracy: 0.5775 - val_loss: 0.6635 - val_accuracy: 0.6205\n",
      "Epoch 2/20\n",
      "99/99 [==============================] - 2s 15ms/step - loss: 0.6450 - accuracy: 0.6221 - val_loss: 0.6640 - val_accuracy: 0.5855\n",
      "Epoch 3/20\n",
      "99/99 [==============================] - 2s 16ms/step - loss: 0.6337 - accuracy: 0.6408 - val_loss: 0.6377 - val_accuracy: 0.6470\n",
      "Epoch 4/20\n",
      "99/99 [==============================] - 2s 15ms/step - loss: 0.6250 - accuracy: 0.6489 - val_loss: 0.6419 - val_accuracy: 0.6135\n",
      "Epoch 5/20\n",
      "99/99 [==============================] - 2s 16ms/step - loss: 0.6252 - accuracy: 0.6501 - val_loss: 0.6277 - val_accuracy: 0.6476\n",
      "Epoch 6/20\n",
      "99/99 [==============================] - 2s 16ms/step - loss: 0.6189 - accuracy: 0.6519 - val_loss: 0.6167 - val_accuracy: 0.6485\n",
      "Epoch 7/20\n",
      "99/99 [==============================] - 2s 16ms/step - loss: 0.6138 - accuracy: 0.6602 - val_loss: 0.6188 - val_accuracy: 0.6598\n",
      "Epoch 8/20\n",
      "99/99 [==============================] - 2s 15ms/step - loss: 0.6120 - accuracy: 0.6613 - val_loss: 0.6322 - val_accuracy: 0.6369\n",
      "Epoch 9/20\n",
      "99/99 [==============================] - 2s 15ms/step - loss: 0.6167 - accuracy: 0.6575 - val_loss: 0.6205 - val_accuracy: 0.6512\n",
      "Epoch 00009: early stopping\n",
      "50/50 [==============================] - 1s 5ms/step\n",
      "[CV 2/3] END dropout_rate=0.3, learning_rate=0.01, node_type=lstm, nodes=[64, 64];, score=0.648 total time=  19.2s\n"
     ]
    },
    {
     "name": "stderr",
     "output_type": "stream",
     "text": [
      "WARNING:absl:Found untraced functions such as gru_cell_1_layer_call_fn, gru_cell_1_layer_call_and_return_conditional_losses, gru_cell_1_layer_call_fn, gru_cell_1_layer_call_and_return_conditional_losses, gru_cell_1_layer_call_and_return_conditional_losses while saving (showing 5 of 5). These functions will not be directly callable after loading.\n"
     ]
    },
    {
     "name": "stdout",
     "output_type": "stream",
     "text": [
      "INFO:tensorflow:Assets written to: C:\\Users\\jared\\AppData\\Local\\Temp\\tmpg28wy349\\assets\n"
     ]
    },
    {
     "name": "stderr",
     "output_type": "stream",
     "text": [
      "INFO:tensorflow:Assets written to: C:\\Users\\jared\\AppData\\Local\\Temp\\tmpg28wy349\\assets\n",
      "WARNING:absl:<keras.layers.recurrent.GRUCell object at 0x0000017E0BBDADF0> has the same name 'GRUCell' as a built-in Keras object. Consider renaming <class 'keras.layers.recurrent.GRUCell'> to avoid naming conflicts when loading with `tf.keras.models.load_model`. If renaming is not possible, pass the object in the `custom_objects` parameter of the load function.\n",
      "C:\\Users\\jared\\anaconda3\\envs\\tflow\\lib\\site-packages\\scikeras\\wrappers.py:289: UserWarning: ``build_fn`` will be renamed to ``model`` in a future release, at which point use of ``build_fn`` will raise an Error instead.\n",
      "  warnings.warn(\n"
     ]
    },
    {
     "name": "stdout",
     "output_type": "stream",
     "text": [
      "Epoch 1/20\n",
      "99/99 [==============================] - 4s 23ms/step - loss: 0.7069 - accuracy: 0.5631 - val_loss: 0.6645 - val_accuracy: 0.6243\n",
      "Epoch 2/20\n",
      "99/99 [==============================] - 2s 16ms/step - loss: 0.6442 - accuracy: 0.6270 - val_loss: 0.6552 - val_accuracy: 0.6175\n",
      "Epoch 3/20\n",
      "99/99 [==============================] - 2s 16ms/step - loss: 0.6323 - accuracy: 0.6454 - val_loss: 0.6214 - val_accuracy: 0.6535\n",
      "Epoch 4/20\n",
      "99/99 [==============================] - 2s 16ms/step - loss: 0.6257 - accuracy: 0.6481 - val_loss: 0.6224 - val_accuracy: 0.6588\n",
      "Epoch 5/20\n",
      "99/99 [==============================] - 2s 16ms/step - loss: 0.6209 - accuracy: 0.6550 - val_loss: 0.6866 - val_accuracy: 0.6253\n",
      "Epoch 6/20\n",
      "99/99 [==============================] - 2s 15ms/step - loss: 0.6168 - accuracy: 0.6543 - val_loss: 0.6562 - val_accuracy: 0.6239\n",
      "Epoch 00006: early stopping\n",
      "50/50 [==============================] - 1s 5ms/step\n",
      "[CV 3/3] END dropout_rate=0.3, learning_rate=0.01, node_type=lstm, nodes=[64, 64];, score=0.630 total time=  14.6s\n"
     ]
    },
    {
     "name": "stderr",
     "output_type": "stream",
     "text": [
      "WARNING:absl:Found untraced functions such as gru_cell_1_layer_call_fn, gru_cell_1_layer_call_and_return_conditional_losses, gru_cell_1_layer_call_fn, gru_cell_1_layer_call_and_return_conditional_losses, gru_cell_1_layer_call_and_return_conditional_losses while saving (showing 5 of 5). These functions will not be directly callable after loading.\n"
     ]
    },
    {
     "name": "stdout",
     "output_type": "stream",
     "text": [
      "INFO:tensorflow:Assets written to: C:\\Users\\jared\\AppData\\Local\\Temp\\tmp402o6oqo\\assets\n"
     ]
    },
    {
     "name": "stderr",
     "output_type": "stream",
     "text": [
      "INFO:tensorflow:Assets written to: C:\\Users\\jared\\AppData\\Local\\Temp\\tmp402o6oqo\\assets\n",
      "WARNING:absl:<keras.layers.recurrent.GRUCell object at 0x0000017E0BBDADF0> has the same name 'GRUCell' as a built-in Keras object. Consider renaming <class 'keras.layers.recurrent.GRUCell'> to avoid naming conflicts when loading with `tf.keras.models.load_model`. If renaming is not possible, pass the object in the `custom_objects` parameter of the load function.\n",
      "C:\\Users\\jared\\anaconda3\\envs\\tflow\\lib\\site-packages\\scikeras\\wrappers.py:289: UserWarning: ``build_fn`` will be renamed to ``model`` in a future release, at which point use of ``build_fn`` will raise an Error instead.\n",
      "  warnings.warn(\n"
     ]
    },
    {
     "name": "stdout",
     "output_type": "stream",
     "text": [
      "Epoch 1/20\n",
      "99/99 [==============================] - 5s 29ms/step - loss: 0.7360 - accuracy: 0.5287 - val_loss: 0.6852 - val_accuracy: 0.5725\n",
      "Epoch 2/20\n",
      "99/99 [==============================] - 2s 19ms/step - loss: 0.6538 - accuracy: 0.6178 - val_loss: 0.6664 - val_accuracy: 0.6439\n",
      "Epoch 3/20\n",
      "99/99 [==============================] - 2s 19ms/step - loss: 0.6362 - accuracy: 0.6376 - val_loss: 0.6327 - val_accuracy: 0.6444\n",
      "Epoch 4/20\n",
      "99/99 [==============================] - 2s 19ms/step - loss: 0.6253 - accuracy: 0.6544 - val_loss: 0.6225 - val_accuracy: 0.6546\n",
      "Epoch 5/20\n",
      "99/99 [==============================] - 2s 19ms/step - loss: 0.6227 - accuracy: 0.6523 - val_loss: 0.6300 - val_accuracy: 0.6460\n",
      "Epoch 6/20\n",
      "99/99 [==============================] - 2s 20ms/step - loss: 0.6198 - accuracy: 0.6568 - val_loss: 0.7085 - val_accuracy: 0.5921\n",
      "Epoch 7/20\n",
      "99/99 [==============================] - 2s 19ms/step - loss: 0.6130 - accuracy: 0.6584 - val_loss: 0.6848 - val_accuracy: 0.5775\n",
      "Epoch 00007: early stopping\n",
      "50/50 [==============================] - 1s 6ms/step\n",
      "[CV 1/3] END dropout_rate=0.3, learning_rate=0.01, node_type=lstm, nodes=[32, 32, 32];, score=0.572 total time=  19.9s\n"
     ]
    },
    {
     "name": "stderr",
     "output_type": "stream",
     "text": [
      "WARNING:absl:Found untraced functions such as gru_cell_1_layer_call_fn, gru_cell_1_layer_call_and_return_conditional_losses, gru_cell_1_layer_call_fn, gru_cell_1_layer_call_and_return_conditional_losses, gru_cell_1_layer_call_and_return_conditional_losses while saving (showing 5 of 5). These functions will not be directly callable after loading.\n"
     ]
    },
    {
     "name": "stdout",
     "output_type": "stream",
     "text": [
      "INFO:tensorflow:Assets written to: C:\\Users\\jared\\AppData\\Local\\Temp\\tmp8q_ou1qg\\assets\n"
     ]
    },
    {
     "name": "stderr",
     "output_type": "stream",
     "text": [
      "INFO:tensorflow:Assets written to: C:\\Users\\jared\\AppData\\Local\\Temp\\tmp8q_ou1qg\\assets\n",
      "WARNING:absl:<keras.layers.recurrent.GRUCell object at 0x0000017E0BBDADF0> has the same name 'GRUCell' as a built-in Keras object. Consider renaming <class 'keras.layers.recurrent.GRUCell'> to avoid naming conflicts when loading with `tf.keras.models.load_model`. If renaming is not possible, pass the object in the `custom_objects` parameter of the load function.\n",
      "C:\\Users\\jared\\anaconda3\\envs\\tflow\\lib\\site-packages\\scikeras\\wrappers.py:289: UserWarning: ``build_fn`` will be renamed to ``model`` in a future release, at which point use of ``build_fn`` will raise an Error instead.\n",
      "  warnings.warn(\n"
     ]
    },
    {
     "name": "stdout",
     "output_type": "stream",
     "text": [
      "Epoch 1/20\n",
      "99/99 [==============================] - 6s 29ms/step - loss: 0.6983 - accuracy: 0.5711 - val_loss: 0.6617 - val_accuracy: 0.6335\n",
      "Epoch 2/20\n",
      "99/99 [==============================] - 2s 20ms/step - loss: 0.6466 - accuracy: 0.6259 - val_loss: 0.6494 - val_accuracy: 0.6282\n",
      "Epoch 3/20\n",
      "99/99 [==============================] - 2s 19ms/step - loss: 0.6352 - accuracy: 0.6385 - val_loss: 0.6583 - val_accuracy: 0.6318\n",
      "Epoch 4/20\n",
      "99/99 [==============================] - 2s 19ms/step - loss: 0.6308 - accuracy: 0.6374 - val_loss: 0.6181 - val_accuracy: 0.6572\n",
      "Epoch 5/20\n",
      "99/99 [==============================] - 2s 19ms/step - loss: 0.6256 - accuracy: 0.6477 - val_loss: 0.6698 - val_accuracy: 0.5694\n",
      "Epoch 6/20\n",
      "99/99 [==============================] - 2s 19ms/step - loss: 0.6245 - accuracy: 0.6495 - val_loss: 0.6235 - val_accuracy: 0.6491\n",
      "Epoch 7/20\n",
      "99/99 [==============================] - 2s 19ms/step - loss: 0.6232 - accuracy: 0.6474 - val_loss: 0.6120 - val_accuracy: 0.6584\n",
      "Epoch 8/20\n",
      "99/99 [==============================] - 2s 20ms/step - loss: 0.6139 - accuracy: 0.6548 - val_loss: 0.6442 - val_accuracy: 0.6341\n",
      "Epoch 9/20\n",
      "99/99 [==============================] - 2s 20ms/step - loss: 0.6141 - accuracy: 0.6674 - val_loss: 0.6424 - val_accuracy: 0.6507\n",
      "Epoch 10/20\n",
      "99/99 [==============================] - 2s 19ms/step - loss: 0.6185 - accuracy: 0.6542 - val_loss: 0.6221 - val_accuracy: 0.6478\n",
      "Epoch 00010: early stopping\n",
      "50/50 [==============================] - 1s 6ms/step\n",
      "[CV 2/3] END dropout_rate=0.3, learning_rate=0.01, node_type=lstm, nodes=[32, 32, 32];, score=0.631 total time=  25.7s\n"
     ]
    },
    {
     "name": "stderr",
     "output_type": "stream",
     "text": [
      "WARNING:absl:Found untraced functions such as gru_cell_1_layer_call_fn, gru_cell_1_layer_call_and_return_conditional_losses, gru_cell_1_layer_call_fn, gru_cell_1_layer_call_and_return_conditional_losses, gru_cell_1_layer_call_and_return_conditional_losses while saving (showing 5 of 5). These functions will not be directly callable after loading.\n"
     ]
    },
    {
     "name": "stdout",
     "output_type": "stream",
     "text": [
      "INFO:tensorflow:Assets written to: C:\\Users\\jared\\AppData\\Local\\Temp\\tmpf0t_wuc2\\assets\n"
     ]
    },
    {
     "name": "stderr",
     "output_type": "stream",
     "text": [
      "INFO:tensorflow:Assets written to: C:\\Users\\jared\\AppData\\Local\\Temp\\tmpf0t_wuc2\\assets\n",
      "WARNING:absl:<keras.layers.recurrent.GRUCell object at 0x0000017E0BBDADF0> has the same name 'GRUCell' as a built-in Keras object. Consider renaming <class 'keras.layers.recurrent.GRUCell'> to avoid naming conflicts when loading with `tf.keras.models.load_model`. If renaming is not possible, pass the object in the `custom_objects` parameter of the load function.\n",
      "C:\\Users\\jared\\anaconda3\\envs\\tflow\\lib\\site-packages\\scikeras\\wrappers.py:289: UserWarning: ``build_fn`` will be renamed to ``model`` in a future release, at which point use of ``build_fn`` will raise an Error instead.\n",
      "  warnings.warn(\n"
     ]
    },
    {
     "name": "stdout",
     "output_type": "stream",
     "text": [
      "Epoch 1/20\n",
      "99/99 [==============================] - 5s 28ms/step - loss: 0.7094 - accuracy: 0.5645 - val_loss: 0.6829 - val_accuracy: 0.5495\n",
      "Epoch 2/20\n",
      "99/99 [==============================] - 2s 19ms/step - loss: 0.6495 - accuracy: 0.6254 - val_loss: 0.6603 - val_accuracy: 0.6093\n",
      "Epoch 3/20\n",
      "99/99 [==============================] - 2s 19ms/step - loss: 0.6395 - accuracy: 0.6347 - val_loss: 0.6370 - val_accuracy: 0.6413\n",
      "Epoch 4/20\n",
      "99/99 [==============================] - 2s 19ms/step - loss: 0.6286 - accuracy: 0.6480 - val_loss: 0.6305 - val_accuracy: 0.6441\n",
      "Epoch 5/20\n",
      "99/99 [==============================] - 2s 19ms/step - loss: 0.6222 - accuracy: 0.6566 - val_loss: 0.6229 - val_accuracy: 0.6512\n",
      "Epoch 6/20\n",
      "99/99 [==============================] - 2s 19ms/step - loss: 0.6199 - accuracy: 0.6558 - val_loss: 0.6424 - val_accuracy: 0.6244\n",
      "Epoch 7/20\n",
      "99/99 [==============================] - 2s 19ms/step - loss: 0.6216 - accuracy: 0.6544 - val_loss: 0.6274 - val_accuracy: 0.6545\n",
      "Epoch 8/20\n",
      "99/99 [==============================] - 2s 19ms/step - loss: 0.6153 - accuracy: 0.6581 - val_loss: 0.6155 - val_accuracy: 0.6554\n",
      "Epoch 9/20\n",
      "99/99 [==============================] - 2s 19ms/step - loss: 0.6094 - accuracy: 0.6666 - val_loss: 0.6231 - val_accuracy: 0.6423\n",
      "Epoch 10/20\n",
      "99/99 [==============================] - 2s 19ms/step - loss: 0.6103 - accuracy: 0.6639 - val_loss: 0.6152 - val_accuracy: 0.6550\n",
      "Epoch 11/20\n",
      "99/99 [==============================] - 2s 19ms/step - loss: 0.6069 - accuracy: 0.6703 - val_loss: 0.6150 - val_accuracy: 0.6544\n",
      "Epoch 12/20\n",
      "99/99 [==============================] - 2s 19ms/step - loss: 0.6030 - accuracy: 0.6671 - val_loss: 0.6156 - val_accuracy: 0.6584\n",
      "Epoch 13/20\n",
      "99/99 [==============================] - 2s 19ms/step - loss: 0.6101 - accuracy: 0.6604 - val_loss: 0.6240 - val_accuracy: 0.6497\n",
      "Epoch 14/20\n",
      "99/99 [==============================] - 2s 19ms/step - loss: 0.6074 - accuracy: 0.6655 - val_loss: 0.6135 - val_accuracy: 0.6633\n",
      "Epoch 15/20\n",
      "99/99 [==============================] - 2s 20ms/step - loss: 0.6006 - accuracy: 0.6727 - val_loss: 0.6164 - val_accuracy: 0.6535\n",
      "Epoch 16/20\n",
      "99/99 [==============================] - 2s 19ms/step - loss: 0.5976 - accuracy: 0.6752 - val_loss: 0.6140 - val_accuracy: 0.6628\n",
      "Epoch 17/20\n",
      "99/99 [==============================] - 2s 19ms/step - loss: 0.5925 - accuracy: 0.6797 - val_loss: 0.6188 - val_accuracy: 0.6504\n",
      "Epoch 00017: early stopping\n",
      "50/50 [==============================] - 1s 6ms/step\n",
      "[CV 3/3] END dropout_rate=0.3, learning_rate=0.01, node_type=lstm, nodes=[32, 32, 32];, score=0.644 total time=  38.7s\n"
     ]
    },
    {
     "name": "stderr",
     "output_type": "stream",
     "text": [
      "WARNING:absl:Found untraced functions such as gru_cell_1_layer_call_fn, gru_cell_1_layer_call_and_return_conditional_losses, gru_cell_1_layer_call_fn, gru_cell_1_layer_call_and_return_conditional_losses, gru_cell_1_layer_call_and_return_conditional_losses while saving (showing 5 of 5). These functions will not be directly callable after loading.\n"
     ]
    },
    {
     "name": "stdout",
     "output_type": "stream",
     "text": [
      "INFO:tensorflow:Assets written to: C:\\Users\\jared\\AppData\\Local\\Temp\\tmplsu8sw4d\\assets\n"
     ]
    },
    {
     "name": "stderr",
     "output_type": "stream",
     "text": [
      "INFO:tensorflow:Assets written to: C:\\Users\\jared\\AppData\\Local\\Temp\\tmplsu8sw4d\\assets\n",
      "WARNING:absl:<keras.layers.recurrent.GRUCell object at 0x0000017E0BBDADF0> has the same name 'GRUCell' as a built-in Keras object. Consider renaming <class 'keras.layers.recurrent.GRUCell'> to avoid naming conflicts when loading with `tf.keras.models.load_model`. If renaming is not possible, pass the object in the `custom_objects` parameter of the load function.\n",
      "C:\\Users\\jared\\anaconda3\\envs\\tflow\\lib\\site-packages\\scikeras\\wrappers.py:289: UserWarning: ``build_fn`` will be renamed to ``model`` in a future release, at which point use of ``build_fn`` will raise an Error instead.\n",
      "  warnings.warn(\n"
     ]
    },
    {
     "name": "stdout",
     "output_type": "stream",
     "text": [
      "Epoch 1/20\n",
      "99/99 [==============================] - 3s 17ms/step - loss: 0.7670 - accuracy: 0.5270 - val_loss: 0.6788 - val_accuracy: 0.5578\n",
      "Epoch 2/20\n",
      "99/99 [==============================] - 1s 12ms/step - loss: 0.6790 - accuracy: 0.5524 - val_loss: 0.6755 - val_accuracy: 0.5687\n",
      "Epoch 3/20\n",
      "99/99 [==============================] - 1s 12ms/step - loss: 0.6748 - accuracy: 0.5594 - val_loss: 0.6736 - val_accuracy: 0.5679\n",
      "Epoch 4/20\n",
      "99/99 [==============================] - 1s 12ms/step - loss: 0.6732 - accuracy: 0.5645 - val_loss: 0.6691 - val_accuracy: 0.5700\n",
      "Epoch 5/20\n",
      "99/99 [==============================] - 1s 12ms/step - loss: 0.6716 - accuracy: 0.5670 - val_loss: 0.6660 - val_accuracy: 0.5763\n",
      "Epoch 6/20\n",
      "99/99 [==============================] - 1s 12ms/step - loss: 0.6698 - accuracy: 0.5675 - val_loss: 0.6672 - val_accuracy: 0.5769\n",
      "Epoch 7/20\n",
      "99/99 [==============================] - 1s 12ms/step - loss: 0.6679 - accuracy: 0.5701 - val_loss: 0.6656 - val_accuracy: 0.5778\n",
      "Epoch 8/20\n",
      "99/99 [==============================] - 1s 12ms/step - loss: 0.6669 - accuracy: 0.5726 - val_loss: 0.6713 - val_accuracy: 0.5668\n",
      "Epoch 9/20\n",
      "99/99 [==============================] - 1s 12ms/step - loss: 0.6635 - accuracy: 0.5747 - val_loss: 0.6695 - val_accuracy: 0.5736\n",
      "Epoch 10/20\n",
      "99/99 [==============================] - 1s 12ms/step - loss: 0.6627 - accuracy: 0.5774 - val_loss: 0.6668 - val_accuracy: 0.5716\n",
      "Epoch 00010: early stopping\n",
      "50/50 [==============================] - 0s 4ms/step\n",
      "[CV 1/3] END dropout_rate=0.3, learning_rate=0.01, node_type=gru, nodes=[128];, score=nan total time=  15.6s\n"
     ]
    },
    {
     "name": "stderr",
     "output_type": "stream",
     "text": [
      "C:\\Users\\jared\\anaconda3\\envs\\tflow\\lib\\site-packages\\sklearn\\model_selection\\_validation.py:771: UserWarning: Scoring failed. The score on this train-test partition for these parameters will be set to nan. Details: \n",
      "Traceback (most recent call last):\n",
      "  File \"C:\\Users\\jared\\anaconda3\\envs\\tflow\\lib\\site-packages\\sklearn\\model_selection\\_validation.py\", line 762, in _score\n",
      "    scores = scorer(estimator, X_test, y_test)\n",
      "  File \"C:\\Users\\jared\\anaconda3\\envs\\tflow\\lib\\site-packages\\sklearn\\metrics\\_scorer.py\", line 216, in __call__\n",
      "    return self._score(\n",
      "  File \"C:\\Users\\jared\\anaconda3\\envs\\tflow\\lib\\site-packages\\sklearn\\metrics\\_scorer.py\", line 258, in _score\n",
      "    y_pred = method_caller(estimator, \"predict\", X)\n",
      "  File \"C:\\Users\\jared\\anaconda3\\envs\\tflow\\lib\\site-packages\\sklearn\\metrics\\_scorer.py\", line 68, in _cached_call\n",
      "    return getattr(estimator, method)(*args, **kwargs)\n",
      "  File \"C:\\Users\\jared\\anaconda3\\envs\\tflow\\lib\\site-packages\\scikeras\\wrappers.py\", line 1013, in predict\n",
      "    y_pred = self.target_encoder_.inverse_transform(y_pred)\n",
      "  File \"C:\\Users\\jared\\anaconda3\\envs\\tflow\\lib\\site-packages\\scikeras\\utils\\transformers.py\", line 257, in inverse_transform\n",
      "    class_predictions = self._final_encoder.inverse_transform(class_predictions)\n",
      "  File \"C:\\Users\\jared\\anaconda3\\envs\\tflow\\lib\\site-packages\\sklearn\\utils\\metaestimators.py\", line 113, in <lambda>\n",
      "    out = lambda *args, **kwargs: self.fn(obj, *args, **kwargs)  # noqa\n",
      "  File \"C:\\Users\\jared\\anaconda3\\envs\\tflow\\lib\\site-packages\\sklearn\\pipeline.py\", line 675, in inverse_transform\n",
      "    Xt = transform.inverse_transform(Xt)\n",
      "  File \"C:\\Users\\jared\\anaconda3\\envs\\tflow\\lib\\site-packages\\sklearn\\preprocessing\\_encoders.py\", line 990, in inverse_transform\n",
      "    X_tr[:, i] = self.categories_[i][labels]\n",
      "IndexError: index 34 is out of bounds for axis 0 with size 2\n",
      "\n",
      "  warnings.warn(\n",
      "WARNING:absl:Found untraced functions such as gru_cell_1_layer_call_fn, gru_cell_1_layer_call_and_return_conditional_losses, gru_cell_1_layer_call_fn, gru_cell_1_layer_call_and_return_conditional_losses, gru_cell_1_layer_call_and_return_conditional_losses while saving (showing 5 of 5). These functions will not be directly callable after loading.\n"
     ]
    },
    {
     "name": "stdout",
     "output_type": "stream",
     "text": [
      "INFO:tensorflow:Assets written to: C:\\Users\\jared\\AppData\\Local\\Temp\\tmpkjhi2ixn\\assets\n"
     ]
    },
    {
     "name": "stderr",
     "output_type": "stream",
     "text": [
      "INFO:tensorflow:Assets written to: C:\\Users\\jared\\AppData\\Local\\Temp\\tmpkjhi2ixn\\assets\n",
      "WARNING:absl:<keras.layers.recurrent.GRUCell object at 0x0000017E0BBDADF0> has the same name 'GRUCell' as a built-in Keras object. Consider renaming <class 'keras.layers.recurrent.GRUCell'> to avoid naming conflicts when loading with `tf.keras.models.load_model`. If renaming is not possible, pass the object in the `custom_objects` parameter of the load function.\n",
      "C:\\Users\\jared\\anaconda3\\envs\\tflow\\lib\\site-packages\\scikeras\\wrappers.py:289: UserWarning: ``build_fn`` will be renamed to ``model`` in a future release, at which point use of ``build_fn`` will raise an Error instead.\n",
      "  warnings.warn(\n"
     ]
    },
    {
     "name": "stdout",
     "output_type": "stream",
     "text": [
      "Epoch 1/20\n",
      "99/99 [==============================] - 3s 18ms/step - loss: 0.7325 - accuracy: 0.5338 - val_loss: 0.6810 - val_accuracy: 0.5507\n",
      "Epoch 2/20\n",
      "99/99 [==============================] - 1s 12ms/step - loss: 0.6770 - accuracy: 0.5578 - val_loss: 0.6800 - val_accuracy: 0.5466\n",
      "Epoch 3/20\n",
      "99/99 [==============================] - 1s 12ms/step - loss: 0.6746 - accuracy: 0.5634 - val_loss: 0.6680 - val_accuracy: 0.5743\n",
      "Epoch 4/20\n",
      "99/99 [==============================] - 1s 12ms/step - loss: 0.6720 - accuracy: 0.5662 - val_loss: 0.6834 - val_accuracy: 0.5496\n",
      "Epoch 5/20\n",
      "99/99 [==============================] - 1s 12ms/step - loss: 0.6720 - accuracy: 0.5658 - val_loss: 0.6729 - val_accuracy: 0.5680\n",
      "Epoch 6/20\n",
      "99/99 [==============================] - 1s 12ms/step - loss: 0.6698 - accuracy: 0.5693 - val_loss: 0.6659 - val_accuracy: 0.5783\n",
      "Epoch 7/20\n",
      "99/99 [==============================] - 1s 12ms/step - loss: 0.6679 - accuracy: 0.5727 - val_loss: 0.6835 - val_accuracy: 0.5566\n",
      "Epoch 8/20\n",
      "99/99 [==============================] - 1s 12ms/step - loss: 0.6670 - accuracy: 0.5725 - val_loss: 0.6699 - val_accuracy: 0.5639\n",
      "Epoch 9/20\n",
      "99/99 [==============================] - 1s 12ms/step - loss: 0.6658 - accuracy: 0.5743 - val_loss: 0.6670 - val_accuracy: 0.5796\n",
      "Epoch 00009: early stopping\n",
      "50/50 [==============================] - 0s 4ms/step\n",
      "[CV 2/3] END dropout_rate=0.3, learning_rate=0.01, node_type=gru, nodes=[128];, score=nan total time=  14.5s\n"
     ]
    },
    {
     "name": "stderr",
     "output_type": "stream",
     "text": [
      "C:\\Users\\jared\\anaconda3\\envs\\tflow\\lib\\site-packages\\sklearn\\model_selection\\_validation.py:771: UserWarning: Scoring failed. The score on this train-test partition for these parameters will be set to nan. Details: \n",
      "Traceback (most recent call last):\n",
      "  File \"C:\\Users\\jared\\anaconda3\\envs\\tflow\\lib\\site-packages\\sklearn\\model_selection\\_validation.py\", line 762, in _score\n",
      "    scores = scorer(estimator, X_test, y_test)\n",
      "  File \"C:\\Users\\jared\\anaconda3\\envs\\tflow\\lib\\site-packages\\sklearn\\metrics\\_scorer.py\", line 216, in __call__\n",
      "    return self._score(\n",
      "  File \"C:\\Users\\jared\\anaconda3\\envs\\tflow\\lib\\site-packages\\sklearn\\metrics\\_scorer.py\", line 258, in _score\n",
      "    y_pred = method_caller(estimator, \"predict\", X)\n",
      "  File \"C:\\Users\\jared\\anaconda3\\envs\\tflow\\lib\\site-packages\\sklearn\\metrics\\_scorer.py\", line 68, in _cached_call\n",
      "    return getattr(estimator, method)(*args, **kwargs)\n",
      "  File \"C:\\Users\\jared\\anaconda3\\envs\\tflow\\lib\\site-packages\\scikeras\\wrappers.py\", line 1013, in predict\n",
      "    y_pred = self.target_encoder_.inverse_transform(y_pred)\n",
      "  File \"C:\\Users\\jared\\anaconda3\\envs\\tflow\\lib\\site-packages\\scikeras\\utils\\transformers.py\", line 257, in inverse_transform\n",
      "    class_predictions = self._final_encoder.inverse_transform(class_predictions)\n",
      "  File \"C:\\Users\\jared\\anaconda3\\envs\\tflow\\lib\\site-packages\\sklearn\\utils\\metaestimators.py\", line 113, in <lambda>\n",
      "    out = lambda *args, **kwargs: self.fn(obj, *args, **kwargs)  # noqa\n",
      "  File \"C:\\Users\\jared\\anaconda3\\envs\\tflow\\lib\\site-packages\\sklearn\\pipeline.py\", line 675, in inverse_transform\n",
      "    Xt = transform.inverse_transform(Xt)\n",
      "  File \"C:\\Users\\jared\\anaconda3\\envs\\tflow\\lib\\site-packages\\sklearn\\preprocessing\\_encoders.py\", line 990, in inverse_transform\n",
      "    X_tr[:, i] = self.categories_[i][labels]\n",
      "IndexError: index 57 is out of bounds for axis 0 with size 2\n",
      "\n",
      "  warnings.warn(\n",
      "WARNING:absl:Found untraced functions such as gru_cell_1_layer_call_fn, gru_cell_1_layer_call_and_return_conditional_losses, gru_cell_1_layer_call_fn, gru_cell_1_layer_call_and_return_conditional_losses, gru_cell_1_layer_call_and_return_conditional_losses while saving (showing 5 of 5). These functions will not be directly callable after loading.\n"
     ]
    },
    {
     "name": "stdout",
     "output_type": "stream",
     "text": [
      "INFO:tensorflow:Assets written to: C:\\Users\\jared\\AppData\\Local\\Temp\\tmplb3o8sz9\\assets\n"
     ]
    },
    {
     "name": "stderr",
     "output_type": "stream",
     "text": [
      "INFO:tensorflow:Assets written to: C:\\Users\\jared\\AppData\\Local\\Temp\\tmplb3o8sz9\\assets\n",
      "WARNING:absl:<keras.layers.recurrent.GRUCell object at 0x0000017E0BBDADF0> has the same name 'GRUCell' as a built-in Keras object. Consider renaming <class 'keras.layers.recurrent.GRUCell'> to avoid naming conflicts when loading with `tf.keras.models.load_model`. If renaming is not possible, pass the object in the `custom_objects` parameter of the load function.\n",
      "C:\\Users\\jared\\anaconda3\\envs\\tflow\\lib\\site-packages\\scikeras\\wrappers.py:289: UserWarning: ``build_fn`` will be renamed to ``model`` in a future release, at which point use of ``build_fn`` will raise an Error instead.\n",
      "  warnings.warn(\n"
     ]
    },
    {
     "name": "stdout",
     "output_type": "stream",
     "text": [
      "Epoch 1/20\n",
      "99/99 [==============================] - 3s 17ms/step - loss: 0.7324 - accuracy: 0.5290 - val_loss: 0.6787 - val_accuracy: 0.5552\n",
      "Epoch 2/20\n",
      "99/99 [==============================] - 1s 12ms/step - loss: 0.6774 - accuracy: 0.5565 - val_loss: 0.6731 - val_accuracy: 0.5706\n",
      "Epoch 3/20\n",
      "99/99 [==============================] - 1s 12ms/step - loss: 0.6729 - accuracy: 0.5640 - val_loss: 0.6714 - val_accuracy: 0.5628\n",
      "Epoch 4/20\n",
      "99/99 [==============================] - 1s 12ms/step - loss: 0.6710 - accuracy: 0.5693 - val_loss: 0.6711 - val_accuracy: 0.5606\n",
      "Epoch 5/20\n",
      "99/99 [==============================] - 1s 12ms/step - loss: 0.6694 - accuracy: 0.5685 - val_loss: 0.6697 - val_accuracy: 0.5671\n",
      "Epoch 6/20\n",
      "99/99 [==============================] - 1s 12ms/step - loss: 0.6669 - accuracy: 0.5719 - val_loss: 0.6683 - val_accuracy: 0.5718\n",
      "Epoch 7/20\n",
      "99/99 [==============================] - 1s 12ms/step - loss: 0.6654 - accuracy: 0.5738 - val_loss: 0.6697 - val_accuracy: 0.5726\n",
      "Epoch 8/20\n",
      "99/99 [==============================] - 1s 12ms/step - loss: 0.6615 - accuracy: 0.5796 - val_loss: 0.6709 - val_accuracy: 0.5716\n",
      "Epoch 9/20\n",
      "99/99 [==============================] - 1s 12ms/step - loss: 0.6602 - accuracy: 0.5795 - val_loss: 0.6690 - val_accuracy: 0.5714\n",
      "Epoch 00009: early stopping\n",
      "50/50 [==============================] - 0s 4ms/step\n",
      "[CV 3/3] END dropout_rate=0.3, learning_rate=0.01, node_type=gru, nodes=[128];, score=nan total time=  14.5s\n"
     ]
    },
    {
     "name": "stderr",
     "output_type": "stream",
     "text": [
      "C:\\Users\\jared\\anaconda3\\envs\\tflow\\lib\\site-packages\\sklearn\\model_selection\\_validation.py:771: UserWarning: Scoring failed. The score on this train-test partition for these parameters will be set to nan. Details: \n",
      "Traceback (most recent call last):\n",
      "  File \"C:\\Users\\jared\\anaconda3\\envs\\tflow\\lib\\site-packages\\sklearn\\model_selection\\_validation.py\", line 762, in _score\n",
      "    scores = scorer(estimator, X_test, y_test)\n",
      "  File \"C:\\Users\\jared\\anaconda3\\envs\\tflow\\lib\\site-packages\\sklearn\\metrics\\_scorer.py\", line 216, in __call__\n",
      "    return self._score(\n",
      "  File \"C:\\Users\\jared\\anaconda3\\envs\\tflow\\lib\\site-packages\\sklearn\\metrics\\_scorer.py\", line 258, in _score\n",
      "    y_pred = method_caller(estimator, \"predict\", X)\n",
      "  File \"C:\\Users\\jared\\anaconda3\\envs\\tflow\\lib\\site-packages\\sklearn\\metrics\\_scorer.py\", line 68, in _cached_call\n",
      "    return getattr(estimator, method)(*args, **kwargs)\n",
      "  File \"C:\\Users\\jared\\anaconda3\\envs\\tflow\\lib\\site-packages\\scikeras\\wrappers.py\", line 1013, in predict\n",
      "    y_pred = self.target_encoder_.inverse_transform(y_pred)\n",
      "  File \"C:\\Users\\jared\\anaconda3\\envs\\tflow\\lib\\site-packages\\scikeras\\utils\\transformers.py\", line 257, in inverse_transform\n",
      "    class_predictions = self._final_encoder.inverse_transform(class_predictions)\n",
      "  File \"C:\\Users\\jared\\anaconda3\\envs\\tflow\\lib\\site-packages\\sklearn\\utils\\metaestimators.py\", line 113, in <lambda>\n",
      "    out = lambda *args, **kwargs: self.fn(obj, *args, **kwargs)  # noqa\n",
      "  File \"C:\\Users\\jared\\anaconda3\\envs\\tflow\\lib\\site-packages\\sklearn\\pipeline.py\", line 675, in inverse_transform\n",
      "    Xt = transform.inverse_transform(Xt)\n",
      "  File \"C:\\Users\\jared\\anaconda3\\envs\\tflow\\lib\\site-packages\\sklearn\\preprocessing\\_encoders.py\", line 990, in inverse_transform\n",
      "    X_tr[:, i] = self.categories_[i][labels]\n",
      "IndexError: index 59 is out of bounds for axis 0 with size 2\n",
      "\n",
      "  warnings.warn(\n",
      "WARNING:absl:Found untraced functions such as gru_cell_1_layer_call_fn, gru_cell_1_layer_call_and_return_conditional_losses, gru_cell_1_layer_call_fn, gru_cell_1_layer_call_and_return_conditional_losses, gru_cell_1_layer_call_and_return_conditional_losses while saving (showing 5 of 5). These functions will not be directly callable after loading.\n"
     ]
    },
    {
     "name": "stdout",
     "output_type": "stream",
     "text": [
      "INFO:tensorflow:Assets written to: C:\\Users\\jared\\AppData\\Local\\Temp\\tmpn18oif4v\\assets\n"
     ]
    },
    {
     "name": "stderr",
     "output_type": "stream",
     "text": [
      "INFO:tensorflow:Assets written to: C:\\Users\\jared\\AppData\\Local\\Temp\\tmpn18oif4v\\assets\n",
      "WARNING:absl:<keras.layers.recurrent.GRUCell object at 0x0000017E0BBDADF0> has the same name 'GRUCell' as a built-in Keras object. Consider renaming <class 'keras.layers.recurrent.GRUCell'> to avoid naming conflicts when loading with `tf.keras.models.load_model`. If renaming is not possible, pass the object in the `custom_objects` parameter of the load function.\n",
      "C:\\Users\\jared\\anaconda3\\envs\\tflow\\lib\\site-packages\\scikeras\\wrappers.py:289: UserWarning: ``build_fn`` will be renamed to ``model`` in a future release, at which point use of ``build_fn`` will raise an Error instead.\n",
      "  warnings.warn(\n"
     ]
    },
    {
     "name": "stdout",
     "output_type": "stream",
     "text": [
      "Epoch 1/20\n",
      "99/99 [==============================] - 4s 21ms/step - loss: 0.6955 - accuracy: 0.5907 - val_loss: 0.6364 - val_accuracy: 0.6362\n",
      "Epoch 2/20\n",
      "99/99 [==============================] - 1s 15ms/step - loss: 0.6352 - accuracy: 0.6368 - val_loss: 0.6461 - val_accuracy: 0.6032\n",
      "Epoch 3/20\n",
      "99/99 [==============================] - 1s 14ms/step - loss: 0.6273 - accuracy: 0.6495 - val_loss: 0.6456 - val_accuracy: 0.6182\n",
      "Epoch 4/20\n",
      "99/99 [==============================] - 1s 15ms/step - loss: 0.6221 - accuracy: 0.6557 - val_loss: 0.6477 - val_accuracy: 0.6163\n",
      "Epoch 00004: early stopping\n",
      "50/50 [==============================] - 1s 5ms/step\n",
      "[CV 1/3] END dropout_rate=0.3, learning_rate=0.01, node_type=gru, nodes=[64, 64];, score=0.609 total time=  10.7s\n"
     ]
    },
    {
     "name": "stderr",
     "output_type": "stream",
     "text": [
      "WARNING:absl:Found untraced functions such as gru_cell_1_layer_call_fn, gru_cell_1_layer_call_and_return_conditional_losses, gru_cell_1_layer_call_fn, gru_cell_1_layer_call_and_return_conditional_losses, gru_cell_1_layer_call_and_return_conditional_losses while saving (showing 5 of 5). These functions will not be directly callable after loading.\n"
     ]
    },
    {
     "name": "stdout",
     "output_type": "stream",
     "text": [
      "INFO:tensorflow:Assets written to: C:\\Users\\jared\\AppData\\Local\\Temp\\tmp993yy3cj\\assets\n"
     ]
    },
    {
     "name": "stderr",
     "output_type": "stream",
     "text": [
      "INFO:tensorflow:Assets written to: C:\\Users\\jared\\AppData\\Local\\Temp\\tmp993yy3cj\\assets\n",
      "WARNING:absl:<keras.layers.recurrent.GRUCell object at 0x0000017E0BBDADF0> has the same name 'GRUCell' as a built-in Keras object. Consider renaming <class 'keras.layers.recurrent.GRUCell'> to avoid naming conflicts when loading with `tf.keras.models.load_model`. If renaming is not possible, pass the object in the `custom_objects` parameter of the load function.\n",
      "C:\\Users\\jared\\anaconda3\\envs\\tflow\\lib\\site-packages\\scikeras\\wrappers.py:289: UserWarning: ``build_fn`` will be renamed to ``model`` in a future release, at which point use of ``build_fn`` will raise an Error instead.\n",
      "  warnings.warn(\n"
     ]
    },
    {
     "name": "stdout",
     "output_type": "stream",
     "text": [
      "Epoch 1/20\n",
      "99/99 [==============================] - 4s 22ms/step - loss: 0.6891 - accuracy: 0.5910 - val_loss: 0.6437 - val_accuracy: 0.6288\n",
      "Epoch 2/20\n",
      "99/99 [==============================] - 1s 14ms/step - loss: 0.6353 - accuracy: 0.6338 - val_loss: 0.6405 - val_accuracy: 0.6232\n",
      "Epoch 3/20\n",
      "99/99 [==============================] - 1s 14ms/step - loss: 0.6300 - accuracy: 0.6386 - val_loss: 0.6270 - val_accuracy: 0.6497\n",
      "Epoch 4/20\n",
      "99/99 [==============================] - 1s 14ms/step - loss: 0.6241 - accuracy: 0.6477 - val_loss: 0.6203 - val_accuracy: 0.6523\n",
      "Epoch 5/20\n",
      "99/99 [==============================] - 1s 14ms/step - loss: 0.6178 - accuracy: 0.6539 - val_loss: 0.6328 - val_accuracy: 0.6481\n",
      "Epoch 6/20\n",
      "99/99 [==============================] - 1s 14ms/step - loss: 0.6181 - accuracy: 0.6546 - val_loss: 0.6566 - val_accuracy: 0.6200\n",
      "Epoch 7/20\n",
      "99/99 [==============================] - 1s 14ms/step - loss: 0.6147 - accuracy: 0.6541 - val_loss: 0.6259 - val_accuracy: 0.6406\n",
      "Epoch 00007: early stopping\n",
      "50/50 [==============================] - 1s 5ms/step\n",
      "[CV 2/3] END dropout_rate=0.3, learning_rate=0.01, node_type=gru, nodes=[64, 64];, score=0.633 total time=  15.1s\n"
     ]
    },
    {
     "name": "stderr",
     "output_type": "stream",
     "text": [
      "WARNING:absl:Found untraced functions such as gru_cell_1_layer_call_fn, gru_cell_1_layer_call_and_return_conditional_losses, gru_cell_1_layer_call_fn, gru_cell_1_layer_call_and_return_conditional_losses, gru_cell_1_layer_call_and_return_conditional_losses while saving (showing 5 of 5). These functions will not be directly callable after loading.\n"
     ]
    },
    {
     "name": "stdout",
     "output_type": "stream",
     "text": [
      "INFO:tensorflow:Assets written to: C:\\Users\\jared\\AppData\\Local\\Temp\\tmppiqy0bcb\\assets\n"
     ]
    },
    {
     "name": "stderr",
     "output_type": "stream",
     "text": [
      "INFO:tensorflow:Assets written to: C:\\Users\\jared\\AppData\\Local\\Temp\\tmppiqy0bcb\\assets\n",
      "WARNING:absl:<keras.layers.recurrent.GRUCell object at 0x0000017E0BBDADF0> has the same name 'GRUCell' as a built-in Keras object. Consider renaming <class 'keras.layers.recurrent.GRUCell'> to avoid naming conflicts when loading with `tf.keras.models.load_model`. If renaming is not possible, pass the object in the `custom_objects` parameter of the load function.\n",
      "C:\\Users\\jared\\anaconda3\\envs\\tflow\\lib\\site-packages\\scikeras\\wrappers.py:289: UserWarning: ``build_fn`` will be renamed to ``model`` in a future release, at which point use of ``build_fn`` will raise an Error instead.\n",
      "  warnings.warn(\n"
     ]
    },
    {
     "name": "stdout",
     "output_type": "stream",
     "text": [
      "Epoch 1/20\n",
      "99/99 [==============================] - 4s 21ms/step - loss: 0.6858 - accuracy: 0.5921 - val_loss: 0.6331 - val_accuracy: 0.6409\n",
      "Epoch 2/20\n",
      "99/99 [==============================] - 1s 14ms/step - loss: 0.6371 - accuracy: 0.6344 - val_loss: 0.6517 - val_accuracy: 0.6037\n",
      "Epoch 3/20\n",
      "99/99 [==============================] - 1s 14ms/step - loss: 0.6304 - accuracy: 0.6396 - val_loss: 0.6186 - val_accuracy: 0.6493\n",
      "Epoch 4/20\n",
      "99/99 [==============================] - 1s 14ms/step - loss: 0.6271 - accuracy: 0.6506 - val_loss: 0.6540 - val_accuracy: 0.6110\n",
      "Epoch 5/20\n",
      "99/99 [==============================] - 1s 14ms/step - loss: 0.6277 - accuracy: 0.6443 - val_loss: 0.6264 - val_accuracy: 0.6513\n",
      "Epoch 6/20\n",
      "99/99 [==============================] - 1s 14ms/step - loss: 0.6169 - accuracy: 0.6550 - val_loss: 0.6223 - val_accuracy: 0.6418\n",
      "Epoch 00006: early stopping\n",
      "50/50 [==============================] - 1s 5ms/step\n",
      "[CV 3/3] END dropout_rate=0.3, learning_rate=0.01, node_type=gru, nodes=[64, 64];, score=0.645 total time=  13.4s\n"
     ]
    },
    {
     "name": "stderr",
     "output_type": "stream",
     "text": [
      "WARNING:absl:Found untraced functions such as gru_cell_1_layer_call_fn, gru_cell_1_layer_call_and_return_conditional_losses, gru_cell_1_layer_call_fn, gru_cell_1_layer_call_and_return_conditional_losses, gru_cell_1_layer_call_and_return_conditional_losses while saving (showing 5 of 5). These functions will not be directly callable after loading.\n"
     ]
    },
    {
     "name": "stdout",
     "output_type": "stream",
     "text": [
      "INFO:tensorflow:Assets written to: C:\\Users\\jared\\AppData\\Local\\Temp\\tmp_sa8mx4f\\assets\n"
     ]
    },
    {
     "name": "stderr",
     "output_type": "stream",
     "text": [
      "INFO:tensorflow:Assets written to: C:\\Users\\jared\\AppData\\Local\\Temp\\tmp_sa8mx4f\\assets\n",
      "WARNING:absl:<keras.layers.recurrent.GRUCell object at 0x0000017E0BBDADF0> has the same name 'GRUCell' as a built-in Keras object. Consider renaming <class 'keras.layers.recurrent.GRUCell'> to avoid naming conflicts when loading with `tf.keras.models.load_model`. If renaming is not possible, pass the object in the `custom_objects` parameter of the load function.\n",
      "C:\\Users\\jared\\anaconda3\\envs\\tflow\\lib\\site-packages\\scikeras\\wrappers.py:289: UserWarning: ``build_fn`` will be renamed to ``model`` in a future release, at which point use of ``build_fn`` will raise an Error instead.\n",
      "  warnings.warn(\n"
     ]
    },
    {
     "name": "stdout",
     "output_type": "stream",
     "text": [
      "Epoch 1/20\n",
      "99/99 [==============================] - 5s 28ms/step - loss: 0.7084 - accuracy: 0.5695 - val_loss: 0.6490 - val_accuracy: 0.6293\n",
      "Epoch 2/20\n",
      "99/99 [==============================] - 2s 19ms/step - loss: 0.6437 - accuracy: 0.6296 - val_loss: 0.6322 - val_accuracy: 0.6312\n",
      "Epoch 3/20\n",
      "99/99 [==============================] - 2s 18ms/step - loss: 0.6353 - accuracy: 0.6431 - val_loss: 0.6282 - val_accuracy: 0.6402\n",
      "Epoch 4/20\n",
      "99/99 [==============================] - 2s 18ms/step - loss: 0.6295 - accuracy: 0.6466 - val_loss: 0.6318 - val_accuracy: 0.6431\n",
      "Epoch 5/20\n",
      "99/99 [==============================] - 2s 18ms/step - loss: 0.6272 - accuracy: 0.6487 - val_loss: 0.6335 - val_accuracy: 0.6340\n",
      "Epoch 6/20\n",
      "99/99 [==============================] - 2s 18ms/step - loss: 0.6184 - accuracy: 0.6563 - val_loss: 0.6200 - val_accuracy: 0.6498\n",
      "Epoch 7/20\n",
      "99/99 [==============================] - 2s 19ms/step - loss: 0.6172 - accuracy: 0.6568 - val_loss: 0.6146 - val_accuracy: 0.6629\n",
      "Epoch 8/20\n",
      "99/99 [==============================] - 2s 19ms/step - loss: 0.6098 - accuracy: 0.6631 - val_loss: 0.6326 - val_accuracy: 0.6494\n",
      "Epoch 9/20\n",
      "99/99 [==============================] - 2s 19ms/step - loss: 0.6059 - accuracy: 0.6645 - val_loss: 0.6235 - val_accuracy: 0.6497\n",
      "Epoch 10/20\n",
      "99/99 [==============================] - 2s 18ms/step - loss: 0.6080 - accuracy: 0.6667 - val_loss: 0.6357 - val_accuracy: 0.6446\n",
      "Epoch 00010: early stopping\n",
      "50/50 [==============================] - 1s 6ms/step\n",
      "[CV 1/3] END dropout_rate=0.3, learning_rate=0.01, node_type=gru, nodes=[32, 32, 32];, score=0.640 total time=  24.8s\n"
     ]
    },
    {
     "name": "stderr",
     "output_type": "stream",
     "text": [
      "WARNING:absl:Found untraced functions such as gru_cell_1_layer_call_fn, gru_cell_1_layer_call_and_return_conditional_losses, gru_cell_1_layer_call_fn, gru_cell_1_layer_call_and_return_conditional_losses, gru_cell_1_layer_call_and_return_conditional_losses while saving (showing 5 of 5). These functions will not be directly callable after loading.\n"
     ]
    },
    {
     "name": "stdout",
     "output_type": "stream",
     "text": [
      "INFO:tensorflow:Assets written to: C:\\Users\\jared\\AppData\\Local\\Temp\\tmpfla7naht\\assets\n"
     ]
    },
    {
     "name": "stderr",
     "output_type": "stream",
     "text": [
      "INFO:tensorflow:Assets written to: C:\\Users\\jared\\AppData\\Local\\Temp\\tmpfla7naht\\assets\n",
      "WARNING:absl:<keras.layers.recurrent.GRUCell object at 0x0000017E0BBDADF0> has the same name 'GRUCell' as a built-in Keras object. Consider renaming <class 'keras.layers.recurrent.GRUCell'> to avoid naming conflicts when loading with `tf.keras.models.load_model`. If renaming is not possible, pass the object in the `custom_objects` parameter of the load function.\n",
      "C:\\Users\\jared\\anaconda3\\envs\\tflow\\lib\\site-packages\\scikeras\\wrappers.py:289: UserWarning: ``build_fn`` will be renamed to ``model`` in a future release, at which point use of ``build_fn`` will raise an Error instead.\n",
      "  warnings.warn(\n"
     ]
    },
    {
     "name": "stdout",
     "output_type": "stream",
     "text": [
      "Epoch 1/20\n",
      "99/99 [==============================] - 5s 27ms/step - loss: 0.6945 - accuracy: 0.5842 - val_loss: 0.6534 - val_accuracy: 0.6348\n",
      "Epoch 2/20\n",
      "99/99 [==============================] - 2s 18ms/step - loss: 0.6404 - accuracy: 0.6346 - val_loss: 0.6294 - val_accuracy: 0.6473\n",
      "Epoch 3/20\n",
      "99/99 [==============================] - 2s 19ms/step - loss: 0.6331 - accuracy: 0.6432 - val_loss: 0.6429 - val_accuracy: 0.6108\n",
      "Epoch 4/20\n",
      "99/99 [==============================] - 2s 19ms/step - loss: 0.6267 - accuracy: 0.6447 - val_loss: 0.6184 - val_accuracy: 0.6487\n",
      "Epoch 5/20\n",
      "99/99 [==============================] - 2s 19ms/step - loss: 0.6220 - accuracy: 0.6496 - val_loss: 0.6563 - val_accuracy: 0.6327\n",
      "Epoch 6/20\n",
      "99/99 [==============================] - 2s 19ms/step - loss: 0.6182 - accuracy: 0.6542 - val_loss: 0.6239 - val_accuracy: 0.6536\n",
      "Epoch 7/20\n",
      "99/99 [==============================] - 2s 19ms/step - loss: 0.6141 - accuracy: 0.6573 - val_loss: 0.6188 - val_accuracy: 0.6472\n",
      "Epoch 00007: early stopping\n",
      "50/50 [==============================] - 1s 6ms/step\n",
      "[CV 2/3] END dropout_rate=0.3, learning_rate=0.01, node_type=gru, nodes=[32, 32, 32];, score=0.647 total time=  19.4s\n"
     ]
    },
    {
     "name": "stderr",
     "output_type": "stream",
     "text": [
      "WARNING:absl:Found untraced functions such as gru_cell_1_layer_call_fn, gru_cell_1_layer_call_and_return_conditional_losses, gru_cell_1_layer_call_fn, gru_cell_1_layer_call_and_return_conditional_losses, gru_cell_1_layer_call_and_return_conditional_losses while saving (showing 5 of 5). These functions will not be directly callable after loading.\n"
     ]
    },
    {
     "name": "stdout",
     "output_type": "stream",
     "text": [
      "INFO:tensorflow:Assets written to: C:\\Users\\jared\\AppData\\Local\\Temp\\tmp8uhiwekw\\assets\n"
     ]
    },
    {
     "name": "stderr",
     "output_type": "stream",
     "text": [
      "INFO:tensorflow:Assets written to: C:\\Users\\jared\\AppData\\Local\\Temp\\tmp8uhiwekw\\assets\n",
      "WARNING:absl:<keras.layers.recurrent.GRUCell object at 0x0000017E0BBDADF0> has the same name 'GRUCell' as a built-in Keras object. Consider renaming <class 'keras.layers.recurrent.GRUCell'> to avoid naming conflicts when loading with `tf.keras.models.load_model`. If renaming is not possible, pass the object in the `custom_objects` parameter of the load function.\n",
      "C:\\Users\\jared\\anaconda3\\envs\\tflow\\lib\\site-packages\\scikeras\\wrappers.py:289: UserWarning: ``build_fn`` will be renamed to ``model`` in a future release, at which point use of ``build_fn`` will raise an Error instead.\n",
      "  warnings.warn(\n"
     ]
    },
    {
     "name": "stdout",
     "output_type": "stream",
     "text": [
      "Epoch 1/20\n",
      "99/99 [==============================] - 5s 28ms/step - loss: 0.6961 - accuracy: 0.5810 - val_loss: 0.6502 - val_accuracy: 0.6290\n",
      "Epoch 2/20\n",
      "99/99 [==============================] - 2s 18ms/step - loss: 0.6400 - accuracy: 0.6343 - val_loss: 0.6393 - val_accuracy: 0.6335\n",
      "Epoch 3/20\n",
      "99/99 [==============================] - 2s 19ms/step - loss: 0.6320 - accuracy: 0.6454 - val_loss: 0.6160 - val_accuracy: 0.6562\n",
      "Epoch 4/20\n",
      "99/99 [==============================] - 2s 19ms/step - loss: 0.6267 - accuracy: 0.6483 - val_loss: 0.6145 - val_accuracy: 0.6635\n",
      "Epoch 5/20\n",
      "99/99 [==============================] - 2s 19ms/step - loss: 0.6227 - accuracy: 0.6512 - val_loss: 0.6280 - val_accuracy: 0.6493\n",
      "Epoch 6/20\n",
      "99/99 [==============================] - 2s 19ms/step - loss: 0.6219 - accuracy: 0.6491 - val_loss: 0.6162 - val_accuracy: 0.6561\n",
      "Epoch 7/20\n",
      "99/99 [==============================] - 2s 19ms/step - loss: 0.6158 - accuracy: 0.6549 - val_loss: 0.6195 - val_accuracy: 0.6509\n",
      "Epoch 00007: early stopping\n",
      "50/50 [==============================] - 1s 6ms/step\n",
      "[CV 3/3] END dropout_rate=0.3, learning_rate=0.01, node_type=gru, nodes=[32, 32, 32];, score=0.646 total time=  19.5s\n"
     ]
    },
    {
     "name": "stderr",
     "output_type": "stream",
     "text": [
      "WARNING:absl:Found untraced functions such as gru_cell_1_layer_call_fn, gru_cell_1_layer_call_and_return_conditional_losses, gru_cell_1_layer_call_fn, gru_cell_1_layer_call_and_return_conditional_losses, gru_cell_1_layer_call_and_return_conditional_losses while saving (showing 5 of 5). These functions will not be directly callable after loading.\n"
     ]
    },
    {
     "name": "stdout",
     "output_type": "stream",
     "text": [
      "INFO:tensorflow:Assets written to: C:\\Users\\jared\\AppData\\Local\\Temp\\tmphapf1b6e\\assets\n"
     ]
    },
    {
     "name": "stderr",
     "output_type": "stream",
     "text": [
      "INFO:tensorflow:Assets written to: C:\\Users\\jared\\AppData\\Local\\Temp\\tmphapf1b6e\\assets\n",
      "WARNING:absl:<keras.layers.recurrent.GRUCell object at 0x0000017E0BBDADF0> has the same name 'GRUCell' as a built-in Keras object. Consider renaming <class 'keras.layers.recurrent.GRUCell'> to avoid naming conflicts when loading with `tf.keras.models.load_model`. If renaming is not possible, pass the object in the `custom_objects` parameter of the load function.\n",
      "C:\\Users\\jared\\anaconda3\\envs\\tflow\\lib\\site-packages\\scikeras\\wrappers.py:289: UserWarning: ``build_fn`` will be renamed to ``model`` in a future release, at which point use of ``build_fn`` will raise an Error instead.\n",
      "  warnings.warn(\n"
     ]
    },
    {
     "name": "stdout",
     "output_type": "stream",
     "text": [
      "Epoch 1/20\n",
      "99/99 [==============================] - 3s 18ms/step - loss: 0.7715 - accuracy: 0.5096 - val_loss: 0.6913 - val_accuracy: 0.5172\n",
      "Epoch 2/20\n",
      "99/99 [==============================] - 1s 12ms/step - loss: 0.6907 - accuracy: 0.5251 - val_loss: 0.6917 - val_accuracy: 0.5017\n",
      "Epoch 3/20\n",
      "99/99 [==============================] - 1s 12ms/step - loss: 0.6865 - accuracy: 0.5387 - val_loss: 0.6805 - val_accuracy: 0.5551\n",
      "Epoch 4/20\n",
      "99/99 [==============================] - 1s 12ms/step - loss: 0.6862 - accuracy: 0.5412 - val_loss: 0.6844 - val_accuracy: 0.5311\n",
      "Epoch 5/20\n",
      "99/99 [==============================] - 1s 12ms/step - loss: 0.6852 - accuracy: 0.5427 - val_loss: 0.6896 - val_accuracy: 0.5304\n",
      "Epoch 6/20\n",
      "99/99 [==============================] - 1s 12ms/step - loss: 0.6884 - accuracy: 0.5415 - val_loss: 0.6937 - val_accuracy: 0.5556\n",
      "Epoch 00006: early stopping\n",
      "50/50 [==============================] - 0s 4ms/step\n",
      "[CV 1/3] END dropout_rate=0.3, learning_rate=0.1, node_type=lstm, nodes=[128];, score=nan total time=  11.1s\n"
     ]
    },
    {
     "name": "stderr",
     "output_type": "stream",
     "text": [
      "C:\\Users\\jared\\anaconda3\\envs\\tflow\\lib\\site-packages\\sklearn\\model_selection\\_validation.py:771: UserWarning: Scoring failed. The score on this train-test partition for these parameters will be set to nan. Details: \n",
      "Traceback (most recent call last):\n",
      "  File \"C:\\Users\\jared\\anaconda3\\envs\\tflow\\lib\\site-packages\\sklearn\\model_selection\\_validation.py\", line 762, in _score\n",
      "    scores = scorer(estimator, X_test, y_test)\n",
      "  File \"C:\\Users\\jared\\anaconda3\\envs\\tflow\\lib\\site-packages\\sklearn\\metrics\\_scorer.py\", line 216, in __call__\n",
      "    return self._score(\n",
      "  File \"C:\\Users\\jared\\anaconda3\\envs\\tflow\\lib\\site-packages\\sklearn\\metrics\\_scorer.py\", line 258, in _score\n",
      "    y_pred = method_caller(estimator, \"predict\", X)\n",
      "  File \"C:\\Users\\jared\\anaconda3\\envs\\tflow\\lib\\site-packages\\sklearn\\metrics\\_scorer.py\", line 68, in _cached_call\n",
      "    return getattr(estimator, method)(*args, **kwargs)\n",
      "  File \"C:\\Users\\jared\\anaconda3\\envs\\tflow\\lib\\site-packages\\scikeras\\wrappers.py\", line 1013, in predict\n",
      "    y_pred = self.target_encoder_.inverse_transform(y_pred)\n",
      "  File \"C:\\Users\\jared\\anaconda3\\envs\\tflow\\lib\\site-packages\\scikeras\\utils\\transformers.py\", line 257, in inverse_transform\n",
      "    class_predictions = self._final_encoder.inverse_transform(class_predictions)\n",
      "  File \"C:\\Users\\jared\\anaconda3\\envs\\tflow\\lib\\site-packages\\sklearn\\utils\\metaestimators.py\", line 113, in <lambda>\n",
      "    out = lambda *args, **kwargs: self.fn(obj, *args, **kwargs)  # noqa\n",
      "  File \"C:\\Users\\jared\\anaconda3\\envs\\tflow\\lib\\site-packages\\sklearn\\pipeline.py\", line 675, in inverse_transform\n",
      "    Xt = transform.inverse_transform(Xt)\n",
      "  File \"C:\\Users\\jared\\anaconda3\\envs\\tflow\\lib\\site-packages\\sklearn\\preprocessing\\_encoders.py\", line 990, in inverse_transform\n",
      "    X_tr[:, i] = self.categories_[i][labels]\n",
      "IndexError: index 49 is out of bounds for axis 0 with size 2\n",
      "\n",
      "  warnings.warn(\n",
      "WARNING:absl:Found untraced functions such as gru_cell_1_layer_call_fn, gru_cell_1_layer_call_and_return_conditional_losses, gru_cell_1_layer_call_fn, gru_cell_1_layer_call_and_return_conditional_losses, gru_cell_1_layer_call_and_return_conditional_losses while saving (showing 5 of 5). These functions will not be directly callable after loading.\n"
     ]
    },
    {
     "name": "stdout",
     "output_type": "stream",
     "text": [
      "INFO:tensorflow:Assets written to: C:\\Users\\jared\\AppData\\Local\\Temp\\tmpn0m8e7df\\assets\n"
     ]
    },
    {
     "name": "stderr",
     "output_type": "stream",
     "text": [
      "INFO:tensorflow:Assets written to: C:\\Users\\jared\\AppData\\Local\\Temp\\tmpn0m8e7df\\assets\n",
      "WARNING:absl:<keras.layers.recurrent.GRUCell object at 0x0000017E0BBDADF0> has the same name 'GRUCell' as a built-in Keras object. Consider renaming <class 'keras.layers.recurrent.GRUCell'> to avoid naming conflicts when loading with `tf.keras.models.load_model`. If renaming is not possible, pass the object in the `custom_objects` parameter of the load function.\n",
      "C:\\Users\\jared\\anaconda3\\envs\\tflow\\lib\\site-packages\\scikeras\\wrappers.py:289: UserWarning: ``build_fn`` will be renamed to ``model`` in a future release, at which point use of ``build_fn`` will raise an Error instead.\n",
      "  warnings.warn(\n"
     ]
    },
    {
     "name": "stdout",
     "output_type": "stream",
     "text": [
      "Epoch 1/20\n",
      "99/99 [==============================] - 3s 18ms/step - loss: 0.7467 - accuracy: 0.5103 - val_loss: 0.6958 - val_accuracy: 0.5053\n",
      "Epoch 2/20\n",
      "99/99 [==============================] - 1s 12ms/step - loss: 0.6884 - accuracy: 0.5308 - val_loss: 0.6822 - val_accuracy: 0.5559\n",
      "Epoch 3/20\n",
      "99/99 [==============================] - 1s 12ms/step - loss: 0.6854 - accuracy: 0.5419 - val_loss: 0.6900 - val_accuracy: 0.5378\n",
      "Epoch 4/20\n",
      "99/99 [==============================] - 1s 12ms/step - loss: 0.6851 - accuracy: 0.5448 - val_loss: 0.6790 - val_accuracy: 0.5601\n",
      "Epoch 5/20\n",
      "99/99 [==============================] - 1s 12ms/step - loss: 0.6843 - accuracy: 0.5440 - val_loss: 0.6762 - val_accuracy: 0.5609\n",
      "Epoch 6/20\n",
      "99/99 [==============================] - 1s 12ms/step - loss: 0.6841 - accuracy: 0.5467 - val_loss: 0.6844 - val_accuracy: 0.5482\n",
      "Epoch 7/20\n",
      "99/99 [==============================] - 1s 12ms/step - loss: 0.6822 - accuracy: 0.5490 - val_loss: 0.6906 - val_accuracy: 0.5355\n",
      "Epoch 8/20\n",
      "99/99 [==============================] - 1s 12ms/step - loss: 0.6881 - accuracy: 0.5428 - val_loss: 0.6779 - val_accuracy: 0.5617\n",
      "Epoch 00008: early stopping\n",
      "50/50 [==============================] - 0s 5ms/step\n",
      "[CV 2/3] END dropout_rate=0.3, learning_rate=0.1, node_type=lstm, nodes=[128];, score=nan total time=  13.4s\n"
     ]
    },
    {
     "name": "stderr",
     "output_type": "stream",
     "text": [
      "C:\\Users\\jared\\anaconda3\\envs\\tflow\\lib\\site-packages\\sklearn\\model_selection\\_validation.py:771: UserWarning: Scoring failed. The score on this train-test partition for these parameters will be set to nan. Details: \n",
      "Traceback (most recent call last):\n",
      "  File \"C:\\Users\\jared\\anaconda3\\envs\\tflow\\lib\\site-packages\\sklearn\\model_selection\\_validation.py\", line 762, in _score\n",
      "    scores = scorer(estimator, X_test, y_test)\n",
      "  File \"C:\\Users\\jared\\anaconda3\\envs\\tflow\\lib\\site-packages\\sklearn\\metrics\\_scorer.py\", line 216, in __call__\n",
      "    return self._score(\n",
      "  File \"C:\\Users\\jared\\anaconda3\\envs\\tflow\\lib\\site-packages\\sklearn\\metrics\\_scorer.py\", line 258, in _score\n",
      "    y_pred = method_caller(estimator, \"predict\", X)\n",
      "  File \"C:\\Users\\jared\\anaconda3\\envs\\tflow\\lib\\site-packages\\sklearn\\metrics\\_scorer.py\", line 68, in _cached_call\n",
      "    return getattr(estimator, method)(*args, **kwargs)\n",
      "  File \"C:\\Users\\jared\\anaconda3\\envs\\tflow\\lib\\site-packages\\scikeras\\wrappers.py\", line 1013, in predict\n",
      "    y_pred = self.target_encoder_.inverse_transform(y_pred)\n",
      "  File \"C:\\Users\\jared\\anaconda3\\envs\\tflow\\lib\\site-packages\\scikeras\\utils\\transformers.py\", line 257, in inverse_transform\n",
      "    class_predictions = self._final_encoder.inverse_transform(class_predictions)\n",
      "  File \"C:\\Users\\jared\\anaconda3\\envs\\tflow\\lib\\site-packages\\sklearn\\utils\\metaestimators.py\", line 113, in <lambda>\n",
      "    out = lambda *args, **kwargs: self.fn(obj, *args, **kwargs)  # noqa\n",
      "  File \"C:\\Users\\jared\\anaconda3\\envs\\tflow\\lib\\site-packages\\sklearn\\pipeline.py\", line 675, in inverse_transform\n",
      "    Xt = transform.inverse_transform(Xt)\n",
      "  File \"C:\\Users\\jared\\anaconda3\\envs\\tflow\\lib\\site-packages\\sklearn\\preprocessing\\_encoders.py\", line 990, in inverse_transform\n",
      "    X_tr[:, i] = self.categories_[i][labels]\n",
      "IndexError: index 57 is out of bounds for axis 0 with size 2\n",
      "\n",
      "  warnings.warn(\n",
      "WARNING:absl:Found untraced functions such as gru_cell_1_layer_call_fn, gru_cell_1_layer_call_and_return_conditional_losses, gru_cell_1_layer_call_fn, gru_cell_1_layer_call_and_return_conditional_losses, gru_cell_1_layer_call_and_return_conditional_losses while saving (showing 5 of 5). These functions will not be directly callable after loading.\n"
     ]
    },
    {
     "name": "stdout",
     "output_type": "stream",
     "text": [
      "INFO:tensorflow:Assets written to: C:\\Users\\jared\\AppData\\Local\\Temp\\tmpb_mghcdc\\assets\n"
     ]
    },
    {
     "name": "stderr",
     "output_type": "stream",
     "text": [
      "INFO:tensorflow:Assets written to: C:\\Users\\jared\\AppData\\Local\\Temp\\tmpb_mghcdc\\assets\n",
      "WARNING:absl:<keras.layers.recurrent.GRUCell object at 0x0000017E0BBDADF0> has the same name 'GRUCell' as a built-in Keras object. Consider renaming <class 'keras.layers.recurrent.GRUCell'> to avoid naming conflicts when loading with `tf.keras.models.load_model`. If renaming is not possible, pass the object in the `custom_objects` parameter of the load function.\n",
      "C:\\Users\\jared\\anaconda3\\envs\\tflow\\lib\\site-packages\\scikeras\\wrappers.py:289: UserWarning: ``build_fn`` will be renamed to ``model`` in a future release, at which point use of ``build_fn`` will raise an Error instead.\n",
      "  warnings.warn(\n"
     ]
    },
    {
     "name": "stdout",
     "output_type": "stream",
     "text": [
      "Epoch 1/20\n",
      "99/99 [==============================] - 3s 18ms/step - loss: 0.7564 - accuracy: 0.5060 - val_loss: 0.6932 - val_accuracy: 0.5122\n",
      "Epoch 2/20\n",
      "99/99 [==============================] - 1s 12ms/step - loss: 0.6899 - accuracy: 0.5267 - val_loss: 0.6872 - val_accuracy: 0.5363\n",
      "Epoch 3/20\n",
      "99/99 [==============================] - 1s 12ms/step - loss: 0.6877 - accuracy: 0.5363 - val_loss: 0.6826 - val_accuracy: 0.5486\n",
      "Epoch 4/20\n",
      "99/99 [==============================] - 1s 12ms/step - loss: 0.6879 - accuracy: 0.5369 - val_loss: 0.6803 - val_accuracy: 0.5510\n",
      "Epoch 5/20\n",
      "99/99 [==============================] - 1s 12ms/step - loss: 0.6850 - accuracy: 0.5433 - val_loss: 0.6764 - val_accuracy: 0.5652\n",
      "Epoch 6/20\n",
      "99/99 [==============================] - 1s 12ms/step - loss: 0.6829 - accuracy: 0.5484 - val_loss: 0.6822 - val_accuracy: 0.5416\n",
      "Epoch 7/20\n",
      "99/99 [==============================] - 1s 12ms/step - loss: 0.6821 - accuracy: 0.5508 - val_loss: 0.6778 - val_accuracy: 0.5647\n",
      "Epoch 8/20\n",
      "99/99 [==============================] - 1s 12ms/step - loss: 0.6825 - accuracy: 0.5507 - val_loss: 0.6777 - val_accuracy: 0.5504\n",
      "Epoch 00008: early stopping\n",
      "50/50 [==============================] - 0s 4ms/step\n",
      "[CV 3/3] END dropout_rate=0.3, learning_rate=0.1, node_type=lstm, nodes=[128];, score=nan total time=  13.8s\n"
     ]
    },
    {
     "name": "stderr",
     "output_type": "stream",
     "text": [
      "C:\\Users\\jared\\anaconda3\\envs\\tflow\\lib\\site-packages\\sklearn\\model_selection\\_validation.py:771: UserWarning: Scoring failed. The score on this train-test partition for these parameters will be set to nan. Details: \n",
      "Traceback (most recent call last):\n",
      "  File \"C:\\Users\\jared\\anaconda3\\envs\\tflow\\lib\\site-packages\\sklearn\\model_selection\\_validation.py\", line 762, in _score\n",
      "    scores = scorer(estimator, X_test, y_test)\n",
      "  File \"C:\\Users\\jared\\anaconda3\\envs\\tflow\\lib\\site-packages\\sklearn\\metrics\\_scorer.py\", line 216, in __call__\n",
      "    return self._score(\n",
      "  File \"C:\\Users\\jared\\anaconda3\\envs\\tflow\\lib\\site-packages\\sklearn\\metrics\\_scorer.py\", line 258, in _score\n",
      "    y_pred = method_caller(estimator, \"predict\", X)\n",
      "  File \"C:\\Users\\jared\\anaconda3\\envs\\tflow\\lib\\site-packages\\sklearn\\metrics\\_scorer.py\", line 68, in _cached_call\n",
      "    return getattr(estimator, method)(*args, **kwargs)\n",
      "  File \"C:\\Users\\jared\\anaconda3\\envs\\tflow\\lib\\site-packages\\scikeras\\wrappers.py\", line 1013, in predict\n",
      "    y_pred = self.target_encoder_.inverse_transform(y_pred)\n",
      "  File \"C:\\Users\\jared\\anaconda3\\envs\\tflow\\lib\\site-packages\\scikeras\\utils\\transformers.py\", line 257, in inverse_transform\n",
      "    class_predictions = self._final_encoder.inverse_transform(class_predictions)\n",
      "  File \"C:\\Users\\jared\\anaconda3\\envs\\tflow\\lib\\site-packages\\sklearn\\utils\\metaestimators.py\", line 113, in <lambda>\n",
      "    out = lambda *args, **kwargs: self.fn(obj, *args, **kwargs)  # noqa\n",
      "  File \"C:\\Users\\jared\\anaconda3\\envs\\tflow\\lib\\site-packages\\sklearn\\pipeline.py\", line 675, in inverse_transform\n",
      "    Xt = transform.inverse_transform(Xt)\n",
      "  File \"C:\\Users\\jared\\anaconda3\\envs\\tflow\\lib\\site-packages\\sklearn\\preprocessing\\_encoders.py\", line 990, in inverse_transform\n",
      "    X_tr[:, i] = self.categories_[i][labels]\n",
      "IndexError: index 59 is out of bounds for axis 0 with size 2\n",
      "\n",
      "  warnings.warn(\n",
      "WARNING:absl:Found untraced functions such as gru_cell_1_layer_call_fn, gru_cell_1_layer_call_and_return_conditional_losses, gru_cell_1_layer_call_fn, gru_cell_1_layer_call_and_return_conditional_losses, gru_cell_1_layer_call_and_return_conditional_losses while saving (showing 5 of 5). These functions will not be directly callable after loading.\n"
     ]
    },
    {
     "name": "stdout",
     "output_type": "stream",
     "text": [
      "INFO:tensorflow:Assets written to: C:\\Users\\jared\\AppData\\Local\\Temp\\tmpxetcfxzl\\assets\n"
     ]
    },
    {
     "name": "stderr",
     "output_type": "stream",
     "text": [
      "INFO:tensorflow:Assets written to: C:\\Users\\jared\\AppData\\Local\\Temp\\tmpxetcfxzl\\assets\n",
      "WARNING:absl:<keras.layers.recurrent.GRUCell object at 0x0000017E0BBDADF0> has the same name 'GRUCell' as a built-in Keras object. Consider renaming <class 'keras.layers.recurrent.GRUCell'> to avoid naming conflicts when loading with `tf.keras.models.load_model`. If renaming is not possible, pass the object in the `custom_objects` parameter of the load function.\n",
      "C:\\Users\\jared\\anaconda3\\envs\\tflow\\lib\\site-packages\\scikeras\\wrappers.py:289: UserWarning: ``build_fn`` will be renamed to ``model`` in a future release, at which point use of ``build_fn`` will raise an Error instead.\n",
      "  warnings.warn(\n"
     ]
    },
    {
     "name": "stdout",
     "output_type": "stream",
     "text": [
      "Epoch 1/20\n",
      "99/99 [==============================] - 4s 23ms/step - loss: 0.7311 - accuracy: 0.4965 - val_loss: 0.6926 - val_accuracy: 0.5124\n",
      "Epoch 2/20\n",
      "99/99 [==============================] - 2s 15ms/step - loss: 0.6994 - accuracy: 0.5040 - val_loss: 0.6959 - val_accuracy: 0.5156\n",
      "Epoch 3/20\n",
      "99/99 [==============================] - 1s 15ms/step - loss: 0.7023 - accuracy: 0.5013 - val_loss: 0.6949 - val_accuracy: 0.4917\n",
      "Epoch 4/20\n",
      "99/99 [==============================] - 2s 15ms/step - loss: 0.7060 - accuracy: 0.5057 - val_loss: 0.7759 - val_accuracy: 0.4912\n",
      "Epoch 00004: early stopping\n",
      "50/50 [==============================] - 1s 5ms/step\n",
      "[CV 1/3] END dropout_rate=0.3, learning_rate=0.1, node_type=lstm, nodes=[64, 64];, score=0.491 total time=  11.0s\n"
     ]
    },
    {
     "name": "stderr",
     "output_type": "stream",
     "text": [
      "WARNING:absl:Found untraced functions such as gru_cell_1_layer_call_fn, gru_cell_1_layer_call_and_return_conditional_losses, gru_cell_1_layer_call_fn, gru_cell_1_layer_call_and_return_conditional_losses, gru_cell_1_layer_call_and_return_conditional_losses while saving (showing 5 of 5). These functions will not be directly callable after loading.\n"
     ]
    },
    {
     "name": "stdout",
     "output_type": "stream",
     "text": [
      "INFO:tensorflow:Assets written to: C:\\Users\\jared\\AppData\\Local\\Temp\\tmp_iauamhq\\assets\n"
     ]
    },
    {
     "name": "stderr",
     "output_type": "stream",
     "text": [
      "INFO:tensorflow:Assets written to: C:\\Users\\jared\\AppData\\Local\\Temp\\tmp_iauamhq\\assets\n",
      "WARNING:absl:<keras.layers.recurrent.GRUCell object at 0x0000017E0BBDADF0> has the same name 'GRUCell' as a built-in Keras object. Consider renaming <class 'keras.layers.recurrent.GRUCell'> to avoid naming conflicts when loading with `tf.keras.models.load_model`. If renaming is not possible, pass the object in the `custom_objects` parameter of the load function.\n",
      "C:\\Users\\jared\\anaconda3\\envs\\tflow\\lib\\site-packages\\scikeras\\wrappers.py:289: UserWarning: ``build_fn`` will be renamed to ``model`` in a future release, at which point use of ``build_fn`` will raise an Error instead.\n",
      "  warnings.warn(\n"
     ]
    },
    {
     "name": "stdout",
     "output_type": "stream",
     "text": [
      "Epoch 1/20\n",
      "99/99 [==============================] - 4s 23ms/step - loss: 0.7186 - accuracy: 0.5125 - val_loss: 0.6927 - val_accuracy: 0.5089\n",
      "Epoch 2/20\n",
      "99/99 [==============================] - 2s 15ms/step - loss: 0.6970 - accuracy: 0.5218 - val_loss: 0.6915 - val_accuracy: 0.5220\n",
      "Epoch 3/20\n",
      "99/99 [==============================] - 2s 15ms/step - loss: 0.6990 - accuracy: 0.5096 - val_loss: 0.6967 - val_accuracy: 0.4993\n",
      "Epoch 4/20\n",
      "99/99 [==============================] - 2s 16ms/step - loss: 0.7032 - accuracy: 0.5073 - val_loss: 0.7594 - val_accuracy: 0.4906\n",
      "Epoch 5/20\n",
      "99/99 [==============================] - 2s 16ms/step - loss: 0.7060 - accuracy: 0.4993 - val_loss: 0.6983 - val_accuracy: 0.4939\n",
      "Epoch 00005: early stopping\n",
      "50/50 [==============================] - 1s 5ms/step\n",
      "[CV 2/3] END dropout_rate=0.3, learning_rate=0.1, node_type=lstm, nodes=[64, 64];, score=0.494 total time=  13.0s\n"
     ]
    },
    {
     "name": "stderr",
     "output_type": "stream",
     "text": [
      "WARNING:absl:Found untraced functions such as gru_cell_1_layer_call_fn, gru_cell_1_layer_call_and_return_conditional_losses, gru_cell_1_layer_call_fn, gru_cell_1_layer_call_and_return_conditional_losses, gru_cell_1_layer_call_and_return_conditional_losses while saving (showing 5 of 5). These functions will not be directly callable after loading.\n"
     ]
    },
    {
     "name": "stdout",
     "output_type": "stream",
     "text": [
      "INFO:tensorflow:Assets written to: C:\\Users\\jared\\AppData\\Local\\Temp\\tmpizbyf_yk\\assets\n"
     ]
    },
    {
     "name": "stderr",
     "output_type": "stream",
     "text": [
      "INFO:tensorflow:Assets written to: C:\\Users\\jared\\AppData\\Local\\Temp\\tmpizbyf_yk\\assets\n",
      "WARNING:absl:<keras.layers.recurrent.GRUCell object at 0x0000017E0BBDADF0> has the same name 'GRUCell' as a built-in Keras object. Consider renaming <class 'keras.layers.recurrent.GRUCell'> to avoid naming conflicts when loading with `tf.keras.models.load_model`. If renaming is not possible, pass the object in the `custom_objects` parameter of the load function.\n",
      "C:\\Users\\jared\\anaconda3\\envs\\tflow\\lib\\site-packages\\scikeras\\wrappers.py:289: UserWarning: ``build_fn`` will be renamed to ``model`` in a future release, at which point use of ``build_fn`` will raise an Error instead.\n",
      "  warnings.warn(\n"
     ]
    },
    {
     "name": "stdout",
     "output_type": "stream",
     "text": [
      "Epoch 1/20\n",
      "99/99 [==============================] - 4s 23ms/step - loss: 0.7178 - accuracy: 0.5019 - val_loss: 0.6945 - val_accuracy: 0.5088\n",
      "Epoch 2/20\n",
      "99/99 [==============================] - 2s 15ms/step - loss: 0.6996 - accuracy: 0.5069 - val_loss: 0.7090 - val_accuracy: 0.5088\n",
      "Epoch 3/20\n",
      "99/99 [==============================] - 2s 16ms/step - loss: 0.6982 - accuracy: 0.5015 - val_loss: 0.7066 - val_accuracy: 0.5092\n",
      "Epoch 4/20\n",
      "99/99 [==============================] - 2s 16ms/step - loss: 0.6999 - accuracy: 0.4973 - val_loss: 0.6942 - val_accuracy: 0.4912\n",
      "Epoch 5/20\n",
      "99/99 [==============================] - 2s 16ms/step - loss: 0.6995 - accuracy: 0.4978 - val_loss: 0.6987 - val_accuracy: 0.5086\n",
      "Epoch 6/20\n",
      "99/99 [==============================] - 2s 15ms/step - loss: 0.6961 - accuracy: 0.5019 - val_loss: 0.6933 - val_accuracy: 0.5088\n",
      "Epoch 7/20\n",
      "99/99 [==============================] - 2s 16ms/step - loss: 0.6981 - accuracy: 0.5038 - val_loss: 0.6958 - val_accuracy: 0.4912\n",
      "Epoch 8/20\n",
      "99/99 [==============================] - 2s 15ms/step - loss: 0.6974 - accuracy: 0.4894 - val_loss: 0.6930 - val_accuracy: 0.5088\n",
      "Epoch 9/20\n",
      "99/99 [==============================] - 2s 15ms/step - loss: 0.6965 - accuracy: 0.5010 - val_loss: 0.6959 - val_accuracy: 0.5118\n",
      "Epoch 10/20\n",
      "99/99 [==============================] - 2s 15ms/step - loss: 0.6991 - accuracy: 0.5026 - val_loss: 0.6949 - val_accuracy: 0.5088\n",
      "Epoch 11/20\n",
      "99/99 [==============================] - 2s 16ms/step - loss: 0.6960 - accuracy: 0.5035 - val_loss: 0.7042 - val_accuracy: 0.4920\n",
      "Epoch 00011: early stopping\n",
      "50/50 [==============================] - 1s 5ms/step\n",
      "[CV 3/3] END dropout_rate=0.3, learning_rate=0.1, node_type=lstm, nodes=[64, 64];, score=0.491 total time=  21.9s\n"
     ]
    },
    {
     "name": "stderr",
     "output_type": "stream",
     "text": [
      "WARNING:absl:Found untraced functions such as gru_cell_1_layer_call_fn, gru_cell_1_layer_call_and_return_conditional_losses, gru_cell_1_layer_call_fn, gru_cell_1_layer_call_and_return_conditional_losses, gru_cell_1_layer_call_and_return_conditional_losses while saving (showing 5 of 5). These functions will not be directly callable after loading.\n"
     ]
    },
    {
     "name": "stdout",
     "output_type": "stream",
     "text": [
      "INFO:tensorflow:Assets written to: C:\\Users\\jared\\AppData\\Local\\Temp\\tmpu1yzcz27\\assets\n"
     ]
    },
    {
     "name": "stderr",
     "output_type": "stream",
     "text": [
      "INFO:tensorflow:Assets written to: C:\\Users\\jared\\AppData\\Local\\Temp\\tmpu1yzcz27\\assets\n",
      "WARNING:absl:<keras.layers.recurrent.GRUCell object at 0x0000017E0BBDADF0> has the same name 'GRUCell' as a built-in Keras object. Consider renaming <class 'keras.layers.recurrent.GRUCell'> to avoid naming conflicts when loading with `tf.keras.models.load_model`. If renaming is not possible, pass the object in the `custom_objects` parameter of the load function.\n",
      "C:\\Users\\jared\\anaconda3\\envs\\tflow\\lib\\site-packages\\scikeras\\wrappers.py:289: UserWarning: ``build_fn`` will be renamed to ``model`` in a future release, at which point use of ``build_fn`` will raise an Error instead.\n",
      "  warnings.warn(\n"
     ]
    },
    {
     "name": "stdout",
     "output_type": "stream",
     "text": [
      "Epoch 1/20\n",
      "99/99 [==============================] - 5s 28ms/step - loss: 0.7090 - accuracy: 0.5059 - val_loss: 0.6999 - val_accuracy: 0.5088\n",
      "Epoch 2/20\n",
      "99/99 [==============================] - 2s 19ms/step - loss: 0.6991 - accuracy: 0.4998 - val_loss: 0.6949 - val_accuracy: 0.5088\n",
      "Epoch 3/20\n",
      "99/99 [==============================] - 2s 19ms/step - loss: 0.6969 - accuracy: 0.5029 - val_loss: 0.6930 - val_accuracy: 0.5088\n",
      "Epoch 4/20\n",
      "99/99 [==============================] - 2s 19ms/step - loss: 0.6969 - accuracy: 0.5066 - val_loss: 0.6993 - val_accuracy: 0.4912\n",
      "Epoch 5/20\n",
      "99/99 [==============================] - 2s 19ms/step - loss: 0.6985 - accuracy: 0.4989 - val_loss: 0.6978 - val_accuracy: 0.5036\n",
      "Epoch 6/20\n",
      "99/99 [==============================] - 2s 19ms/step - loss: 0.7040 - accuracy: 0.4971 - val_loss: 0.7208 - val_accuracy: 0.5124\n",
      "Epoch 00006: early stopping\n",
      "50/50 [==============================] - 1s 6ms/step\n",
      "[CV 1/3] END dropout_rate=0.3, learning_rate=0.1, node_type=lstm, nodes=[32, 32, 32];, score=0.508 total time=  17.9s\n"
     ]
    },
    {
     "name": "stderr",
     "output_type": "stream",
     "text": [
      "WARNING:absl:Found untraced functions such as gru_cell_1_layer_call_fn, gru_cell_1_layer_call_and_return_conditional_losses, gru_cell_1_layer_call_fn, gru_cell_1_layer_call_and_return_conditional_losses, gru_cell_1_layer_call_and_return_conditional_losses while saving (showing 5 of 5). These functions will not be directly callable after loading.\n"
     ]
    },
    {
     "name": "stdout",
     "output_type": "stream",
     "text": [
      "INFO:tensorflow:Assets written to: C:\\Users\\jared\\AppData\\Local\\Temp\\tmp87fik_0m\\assets\n"
     ]
    },
    {
     "name": "stderr",
     "output_type": "stream",
     "text": [
      "INFO:tensorflow:Assets written to: C:\\Users\\jared\\AppData\\Local\\Temp\\tmp87fik_0m\\assets\n",
      "WARNING:absl:<keras.layers.recurrent.GRUCell object at 0x0000017E0BBDADF0> has the same name 'GRUCell' as a built-in Keras object. Consider renaming <class 'keras.layers.recurrent.GRUCell'> to avoid naming conflicts when loading with `tf.keras.models.load_model`. If renaming is not possible, pass the object in the `custom_objects` parameter of the load function.\n",
      "C:\\Users\\jared\\anaconda3\\envs\\tflow\\lib\\site-packages\\scikeras\\wrappers.py:289: UserWarning: ``build_fn`` will be renamed to ``model`` in a future release, at which point use of ``build_fn`` will raise an Error instead.\n",
      "  warnings.warn(\n"
     ]
    },
    {
     "name": "stdout",
     "output_type": "stream",
     "text": [
      "Epoch 1/20\n",
      "99/99 [==============================] - 6s 28ms/step - loss: 0.7113 - accuracy: 0.5057 - val_loss: 0.6925 - val_accuracy: 0.5103\n",
      "Epoch 2/20\n",
      "99/99 [==============================] - 2s 19ms/step - loss: 0.6964 - accuracy: 0.5008 - val_loss: 0.6935 - val_accuracy: 0.5088\n",
      "Epoch 3/20\n",
      "99/99 [==============================] - 2s 19ms/step - loss: 0.6962 - accuracy: 0.4992 - val_loss: 0.6979 - val_accuracy: 0.5088\n",
      "Epoch 4/20\n",
      "99/99 [==============================] - 2s 19ms/step - loss: 0.6953 - accuracy: 0.5028 - val_loss: 0.6937 - val_accuracy: 0.4911\n",
      "Epoch 00004: early stopping\n",
      "50/50 [==============================] - 1s 6ms/step\n",
      "[CV 2/3] END dropout_rate=0.3, learning_rate=0.1, node_type=lstm, nodes=[32, 32, 32];, score=0.491 total time=  14.2s\n"
     ]
    },
    {
     "name": "stderr",
     "output_type": "stream",
     "text": [
      "WARNING:absl:Found untraced functions such as gru_cell_1_layer_call_fn, gru_cell_1_layer_call_and_return_conditional_losses, gru_cell_1_layer_call_fn, gru_cell_1_layer_call_and_return_conditional_losses, gru_cell_1_layer_call_and_return_conditional_losses while saving (showing 5 of 5). These functions will not be directly callable after loading.\n"
     ]
    },
    {
     "name": "stdout",
     "output_type": "stream",
     "text": [
      "INFO:tensorflow:Assets written to: C:\\Users\\jared\\AppData\\Local\\Temp\\tmphio5ex5o\\assets\n"
     ]
    },
    {
     "name": "stderr",
     "output_type": "stream",
     "text": [
      "INFO:tensorflow:Assets written to: C:\\Users\\jared\\AppData\\Local\\Temp\\tmphio5ex5o\\assets\n",
      "WARNING:absl:<keras.layers.recurrent.GRUCell object at 0x0000017E0BBDADF0> has the same name 'GRUCell' as a built-in Keras object. Consider renaming <class 'keras.layers.recurrent.GRUCell'> to avoid naming conflicts when loading with `tf.keras.models.load_model`. If renaming is not possible, pass the object in the `custom_objects` parameter of the load function.\n",
      "C:\\Users\\jared\\anaconda3\\envs\\tflow\\lib\\site-packages\\scikeras\\wrappers.py:289: UserWarning: ``build_fn`` will be renamed to ``model`` in a future release, at which point use of ``build_fn`` will raise an Error instead.\n",
      "  warnings.warn(\n"
     ]
    },
    {
     "name": "stdout",
     "output_type": "stream",
     "text": [
      "Epoch 1/20\n",
      "99/99 [==============================] - 5s 28ms/step - loss: 0.7093 - accuracy: 0.5015 - val_loss: 0.7006 - val_accuracy: 0.5088\n",
      "Epoch 2/20\n",
      "99/99 [==============================] - 2s 19ms/step - loss: 0.6972 - accuracy: 0.5008 - val_loss: 0.7020 - val_accuracy: 0.4912\n",
      "Epoch 3/20\n",
      "99/99 [==============================] - 2s 19ms/step - loss: 0.6969 - accuracy: 0.5065 - val_loss: 0.7093 - val_accuracy: 0.5088\n",
      "Epoch 4/20\n",
      "99/99 [==============================] - 2s 19ms/step - loss: 0.6964 - accuracy: 0.4994 - val_loss: 0.7126 - val_accuracy: 0.5088\n",
      "Epoch 00004: early stopping\n",
      "50/50 [==============================] - 1s 7ms/step\n",
      "[CV 3/3] END dropout_rate=0.3, learning_rate=0.1, node_type=lstm, nodes=[32, 32, 32];, score=0.509 total time=  13.7s\n"
     ]
    },
    {
     "name": "stderr",
     "output_type": "stream",
     "text": [
      "WARNING:absl:Found untraced functions such as gru_cell_1_layer_call_fn, gru_cell_1_layer_call_and_return_conditional_losses, gru_cell_1_layer_call_fn, gru_cell_1_layer_call_and_return_conditional_losses, gru_cell_1_layer_call_and_return_conditional_losses while saving (showing 5 of 5). These functions will not be directly callable after loading.\n"
     ]
    },
    {
     "name": "stdout",
     "output_type": "stream",
     "text": [
      "INFO:tensorflow:Assets written to: C:\\Users\\jared\\AppData\\Local\\Temp\\tmp7or_vrxc\\assets\n"
     ]
    },
    {
     "name": "stderr",
     "output_type": "stream",
     "text": [
      "INFO:tensorflow:Assets written to: C:\\Users\\jared\\AppData\\Local\\Temp\\tmp7or_vrxc\\assets\n",
      "WARNING:absl:<keras.layers.recurrent.GRUCell object at 0x0000017E0BBDADF0> has the same name 'GRUCell' as a built-in Keras object. Consider renaming <class 'keras.layers.recurrent.GRUCell'> to avoid naming conflicts when loading with `tf.keras.models.load_model`. If renaming is not possible, pass the object in the `custom_objects` parameter of the load function.\n",
      "C:\\Users\\jared\\anaconda3\\envs\\tflow\\lib\\site-packages\\scikeras\\wrappers.py:289: UserWarning: ``build_fn`` will be renamed to ``model`` in a future release, at which point use of ``build_fn`` will raise an Error instead.\n",
      "  warnings.warn(\n"
     ]
    },
    {
     "name": "stdout",
     "output_type": "stream",
     "text": [
      "Epoch 1/20\n",
      "99/99 [==============================] - 3s 17ms/step - loss: 0.7726 - accuracy: 0.5149 - val_loss: 0.6875 - val_accuracy: 0.5350\n",
      "Epoch 2/20\n",
      "99/99 [==============================] - 1s 12ms/step - loss: 0.6882 - accuracy: 0.5341 - val_loss: 0.6906 - val_accuracy: 0.5269\n",
      "Epoch 3/20\n",
      "99/99 [==============================] - 1s 12ms/step - loss: 0.6865 - accuracy: 0.5403 - val_loss: 0.6779 - val_accuracy: 0.5623\n",
      "Epoch 4/20\n",
      "99/99 [==============================] - 1s 12ms/step - loss: 0.6847 - accuracy: 0.5453 - val_loss: 0.6804 - val_accuracy: 0.5589\n",
      "Epoch 5/20\n",
      "99/99 [==============================] - 1s 12ms/step - loss: 0.6857 - accuracy: 0.5461 - val_loss: 0.6785 - val_accuracy: 0.5647\n",
      "Epoch 6/20\n",
      "99/99 [==============================] - 1s 12ms/step - loss: 0.6854 - accuracy: 0.5454 - val_loss: 0.6825 - val_accuracy: 0.5549\n",
      "Epoch 00006: early stopping\n",
      "50/50 [==============================] - 0s 4ms/step\n",
      "[CV 1/3] END dropout_rate=0.3, learning_rate=0.1, node_type=gru, nodes=[128];, score=nan total time=  10.9s\n"
     ]
    },
    {
     "name": "stderr",
     "output_type": "stream",
     "text": [
      "C:\\Users\\jared\\anaconda3\\envs\\tflow\\lib\\site-packages\\sklearn\\model_selection\\_validation.py:771: UserWarning: Scoring failed. The score on this train-test partition for these parameters will be set to nan. Details: \n",
      "Traceback (most recent call last):\n",
      "  File \"C:\\Users\\jared\\anaconda3\\envs\\tflow\\lib\\site-packages\\sklearn\\model_selection\\_validation.py\", line 762, in _score\n",
      "    scores = scorer(estimator, X_test, y_test)\n",
      "  File \"C:\\Users\\jared\\anaconda3\\envs\\tflow\\lib\\site-packages\\sklearn\\metrics\\_scorer.py\", line 216, in __call__\n",
      "    return self._score(\n",
      "  File \"C:\\Users\\jared\\anaconda3\\envs\\tflow\\lib\\site-packages\\sklearn\\metrics\\_scorer.py\", line 258, in _score\n",
      "    y_pred = method_caller(estimator, \"predict\", X)\n",
      "  File \"C:\\Users\\jared\\anaconda3\\envs\\tflow\\lib\\site-packages\\sklearn\\metrics\\_scorer.py\", line 68, in _cached_call\n",
      "    return getattr(estimator, method)(*args, **kwargs)\n",
      "  File \"C:\\Users\\jared\\anaconda3\\envs\\tflow\\lib\\site-packages\\scikeras\\wrappers.py\", line 1013, in predict\n",
      "    y_pred = self.target_encoder_.inverse_transform(y_pred)\n",
      "  File \"C:\\Users\\jared\\anaconda3\\envs\\tflow\\lib\\site-packages\\scikeras\\utils\\transformers.py\", line 257, in inverse_transform\n",
      "    class_predictions = self._final_encoder.inverse_transform(class_predictions)\n",
      "  File \"C:\\Users\\jared\\anaconda3\\envs\\tflow\\lib\\site-packages\\sklearn\\utils\\metaestimators.py\", line 113, in <lambda>\n",
      "    out = lambda *args, **kwargs: self.fn(obj, *args, **kwargs)  # noqa\n",
      "  File \"C:\\Users\\jared\\anaconda3\\envs\\tflow\\lib\\site-packages\\sklearn\\pipeline.py\", line 675, in inverse_transform\n",
      "    Xt = transform.inverse_transform(Xt)\n",
      "  File \"C:\\Users\\jared\\anaconda3\\envs\\tflow\\lib\\site-packages\\sklearn\\preprocessing\\_encoders.py\", line 990, in inverse_transform\n",
      "    X_tr[:, i] = self.categories_[i][labels]\n",
      "IndexError: index 40 is out of bounds for axis 0 with size 2\n",
      "\n",
      "  warnings.warn(\n",
      "WARNING:absl:Found untraced functions such as gru_cell_1_layer_call_fn, gru_cell_1_layer_call_and_return_conditional_losses, gru_cell_1_layer_call_fn, gru_cell_1_layer_call_and_return_conditional_losses, gru_cell_1_layer_call_and_return_conditional_losses while saving (showing 5 of 5). These functions will not be directly callable after loading.\n"
     ]
    },
    {
     "name": "stdout",
     "output_type": "stream",
     "text": [
      "INFO:tensorflow:Assets written to: C:\\Users\\jared\\AppData\\Local\\Temp\\tmp0ssga2aa\\assets\n"
     ]
    },
    {
     "name": "stderr",
     "output_type": "stream",
     "text": [
      "INFO:tensorflow:Assets written to: C:\\Users\\jared\\AppData\\Local\\Temp\\tmp0ssga2aa\\assets\n",
      "WARNING:absl:<keras.layers.recurrent.GRUCell object at 0x0000017E0BBDADF0> has the same name 'GRUCell' as a built-in Keras object. Consider renaming <class 'keras.layers.recurrent.GRUCell'> to avoid naming conflicts when loading with `tf.keras.models.load_model`. If renaming is not possible, pass the object in the `custom_objects` parameter of the load function.\n",
      "C:\\Users\\jared\\anaconda3\\envs\\tflow\\lib\\site-packages\\scikeras\\wrappers.py:289: UserWarning: ``build_fn`` will be renamed to ``model`` in a future release, at which point use of ``build_fn`` will raise an Error instead.\n",
      "  warnings.warn(\n"
     ]
    },
    {
     "name": "stdout",
     "output_type": "stream",
     "text": [
      "Epoch 1/20\n",
      "99/99 [==============================] - 3s 17ms/step - loss: 0.7770 - accuracy: 0.5107 - val_loss: 0.6999 - val_accuracy: 0.5118\n",
      "Epoch 2/20\n",
      "99/99 [==============================] - 1s 11ms/step - loss: 0.6910 - accuracy: 0.5256 - val_loss: 0.6890 - val_accuracy: 0.5224\n",
      "Epoch 3/20\n",
      "99/99 [==============================] - 1s 12ms/step - loss: 0.6899 - accuracy: 0.5218 - val_loss: 0.6848 - val_accuracy: 0.5342\n",
      "Epoch 4/20\n",
      "99/99 [==============================] - 1s 12ms/step - loss: 0.6890 - accuracy: 0.5289 - val_loss: 0.6915 - val_accuracy: 0.5422\n",
      "Epoch 5/20\n",
      "99/99 [==============================] - 1s 12ms/step - loss: 0.6872 - accuracy: 0.5395 - val_loss: 0.6795 - val_accuracy: 0.5548\n",
      "Epoch 6/20\n",
      "99/99 [==============================] - 1s 12ms/step - loss: 0.6848 - accuracy: 0.5431 - val_loss: 0.6831 - val_accuracy: 0.5572\n",
      "Epoch 7/20\n",
      "99/99 [==============================] - 1s 12ms/step - loss: 0.6874 - accuracy: 0.5426 - val_loss: 0.6884 - val_accuracy: 0.5427\n",
      "Epoch 8/20\n",
      "99/99 [==============================] - 1s 12ms/step - loss: 0.6843 - accuracy: 0.5489 - val_loss: 0.6840 - val_accuracy: 0.5535\n",
      "Epoch 00008: early stopping\n",
      "50/50 [==============================] - 0s 4ms/step\n",
      "[CV 2/3] END dropout_rate=0.3, learning_rate=0.1, node_type=gru, nodes=[128];, score=nan total time=  13.0s\n"
     ]
    },
    {
     "name": "stderr",
     "output_type": "stream",
     "text": [
      "C:\\Users\\jared\\anaconda3\\envs\\tflow\\lib\\site-packages\\sklearn\\model_selection\\_validation.py:771: UserWarning: Scoring failed. The score on this train-test partition for these parameters will be set to nan. Details: \n",
      "Traceback (most recent call last):\n",
      "  File \"C:\\Users\\jared\\anaconda3\\envs\\tflow\\lib\\site-packages\\sklearn\\model_selection\\_validation.py\", line 762, in _score\n",
      "    scores = scorer(estimator, X_test, y_test)\n",
      "  File \"C:\\Users\\jared\\anaconda3\\envs\\tflow\\lib\\site-packages\\sklearn\\metrics\\_scorer.py\", line 216, in __call__\n",
      "    return self._score(\n",
      "  File \"C:\\Users\\jared\\anaconda3\\envs\\tflow\\lib\\site-packages\\sklearn\\metrics\\_scorer.py\", line 258, in _score\n",
      "    y_pred = method_caller(estimator, \"predict\", X)\n",
      "  File \"C:\\Users\\jared\\anaconda3\\envs\\tflow\\lib\\site-packages\\sklearn\\metrics\\_scorer.py\", line 68, in _cached_call\n",
      "    return getattr(estimator, method)(*args, **kwargs)\n",
      "  File \"C:\\Users\\jared\\anaconda3\\envs\\tflow\\lib\\site-packages\\scikeras\\wrappers.py\", line 1013, in predict\n",
      "    y_pred = self.target_encoder_.inverse_transform(y_pred)\n",
      "  File \"C:\\Users\\jared\\anaconda3\\envs\\tflow\\lib\\site-packages\\scikeras\\utils\\transformers.py\", line 257, in inverse_transform\n",
      "    class_predictions = self._final_encoder.inverse_transform(class_predictions)\n",
      "  File \"C:\\Users\\jared\\anaconda3\\envs\\tflow\\lib\\site-packages\\sklearn\\utils\\metaestimators.py\", line 113, in <lambda>\n",
      "    out = lambda *args, **kwargs: self.fn(obj, *args, **kwargs)  # noqa\n",
      "  File \"C:\\Users\\jared\\anaconda3\\envs\\tflow\\lib\\site-packages\\sklearn\\pipeline.py\", line 675, in inverse_transform\n",
      "    Xt = transform.inverse_transform(Xt)\n",
      "  File \"C:\\Users\\jared\\anaconda3\\envs\\tflow\\lib\\site-packages\\sklearn\\preprocessing\\_encoders.py\", line 990, in inverse_transform\n",
      "    X_tr[:, i] = self.categories_[i][labels]\n",
      "IndexError: index 57 is out of bounds for axis 0 with size 2\n",
      "\n",
      "  warnings.warn(\n",
      "WARNING:absl:Found untraced functions such as gru_cell_1_layer_call_fn, gru_cell_1_layer_call_and_return_conditional_losses, gru_cell_1_layer_call_fn, gru_cell_1_layer_call_and_return_conditional_losses, gru_cell_1_layer_call_and_return_conditional_losses while saving (showing 5 of 5). These functions will not be directly callable after loading.\n"
     ]
    },
    {
     "name": "stdout",
     "output_type": "stream",
     "text": [
      "INFO:tensorflow:Assets written to: C:\\Users\\jared\\AppData\\Local\\Temp\\tmp1vbo_deb\\assets\n"
     ]
    },
    {
     "name": "stderr",
     "output_type": "stream",
     "text": [
      "INFO:tensorflow:Assets written to: C:\\Users\\jared\\AppData\\Local\\Temp\\tmp1vbo_deb\\assets\n",
      "WARNING:absl:<keras.layers.recurrent.GRUCell object at 0x0000017E0BBDADF0> has the same name 'GRUCell' as a built-in Keras object. Consider renaming <class 'keras.layers.recurrent.GRUCell'> to avoid naming conflicts when loading with `tf.keras.models.load_model`. If renaming is not possible, pass the object in the `custom_objects` parameter of the load function.\n",
      "C:\\Users\\jared\\anaconda3\\envs\\tflow\\lib\\site-packages\\scikeras\\wrappers.py:289: UserWarning: ``build_fn`` will be renamed to ``model`` in a future release, at which point use of ``build_fn`` will raise an Error instead.\n",
      "  warnings.warn(\n"
     ]
    },
    {
     "name": "stdout",
     "output_type": "stream",
     "text": [
      "Epoch 1/20\n",
      "99/99 [==============================] - 3s 17ms/step - loss: 0.7461 - accuracy: 0.5095 - val_loss: 0.6958 - val_accuracy: 0.5219\n",
      "Epoch 2/20\n",
      "99/99 [==============================] - 1s 12ms/step - loss: 0.6892 - accuracy: 0.5285 - val_loss: 0.6818 - val_accuracy: 0.5569\n",
      "Epoch 3/20\n",
      "99/99 [==============================] - 1s 11ms/step - loss: 0.6872 - accuracy: 0.5425 - val_loss: 0.7204 - val_accuracy: 0.5182\n",
      "Epoch 4/20\n",
      "99/99 [==============================] - 1s 11ms/step - loss: 0.6913 - accuracy: 0.5318 - val_loss: 0.6857 - val_accuracy: 0.5483\n",
      "Epoch 5/20\n",
      "99/99 [==============================] - 1s 11ms/step - loss: 0.6888 - accuracy: 0.5371 - val_loss: 0.6810 - val_accuracy: 0.5468\n",
      "Epoch 6/20\n",
      "99/99 [==============================] - 1s 12ms/step - loss: 0.6856 - accuracy: 0.5419 - val_loss: 0.6823 - val_accuracy: 0.5416\n",
      "Epoch 7/20\n",
      "99/99 [==============================] - 1s 12ms/step - loss: 0.6870 - accuracy: 0.5423 - val_loss: 0.6951 - val_accuracy: 0.5341\n",
      "Epoch 8/20\n",
      "99/99 [==============================] - 1s 12ms/step - loss: 0.6912 - accuracy: 0.5338 - val_loss: 0.6879 - val_accuracy: 0.5262\n",
      "Epoch 00008: early stopping\n",
      "50/50 [==============================] - 0s 4ms/step\n",
      "[CV 3/3] END dropout_rate=0.3, learning_rate=0.1, node_type=gru, nodes=[128];, score=nan total time=  12.9s\n"
     ]
    },
    {
     "name": "stderr",
     "output_type": "stream",
     "text": [
      "C:\\Users\\jared\\anaconda3\\envs\\tflow\\lib\\site-packages\\sklearn\\model_selection\\_validation.py:771: UserWarning: Scoring failed. The score on this train-test partition for these parameters will be set to nan. Details: \n",
      "Traceback (most recent call last):\n",
      "  File \"C:\\Users\\jared\\anaconda3\\envs\\tflow\\lib\\site-packages\\sklearn\\model_selection\\_validation.py\", line 762, in _score\n",
      "    scores = scorer(estimator, X_test, y_test)\n",
      "  File \"C:\\Users\\jared\\anaconda3\\envs\\tflow\\lib\\site-packages\\sklearn\\metrics\\_scorer.py\", line 216, in __call__\n",
      "    return self._score(\n",
      "  File \"C:\\Users\\jared\\anaconda3\\envs\\tflow\\lib\\site-packages\\sklearn\\metrics\\_scorer.py\", line 258, in _score\n",
      "    y_pred = method_caller(estimator, \"predict\", X)\n",
      "  File \"C:\\Users\\jared\\anaconda3\\envs\\tflow\\lib\\site-packages\\sklearn\\metrics\\_scorer.py\", line 68, in _cached_call\n",
      "    return getattr(estimator, method)(*args, **kwargs)\n",
      "  File \"C:\\Users\\jared\\anaconda3\\envs\\tflow\\lib\\site-packages\\scikeras\\wrappers.py\", line 1013, in predict\n",
      "    y_pred = self.target_encoder_.inverse_transform(y_pred)\n",
      "  File \"C:\\Users\\jared\\anaconda3\\envs\\tflow\\lib\\site-packages\\scikeras\\utils\\transformers.py\", line 257, in inverse_transform\n",
      "    class_predictions = self._final_encoder.inverse_transform(class_predictions)\n",
      "  File \"C:\\Users\\jared\\anaconda3\\envs\\tflow\\lib\\site-packages\\sklearn\\utils\\metaestimators.py\", line 113, in <lambda>\n",
      "    out = lambda *args, **kwargs: self.fn(obj, *args, **kwargs)  # noqa\n",
      "  File \"C:\\Users\\jared\\anaconda3\\envs\\tflow\\lib\\site-packages\\sklearn\\pipeline.py\", line 675, in inverse_transform\n",
      "    Xt = transform.inverse_transform(Xt)\n",
      "  File \"C:\\Users\\jared\\anaconda3\\envs\\tflow\\lib\\site-packages\\sklearn\\preprocessing\\_encoders.py\", line 990, in inverse_transform\n",
      "    X_tr[:, i] = self.categories_[i][labels]\n",
      "IndexError: index 53 is out of bounds for axis 0 with size 2\n",
      "\n",
      "  warnings.warn(\n",
      "WARNING:absl:Found untraced functions such as gru_cell_1_layer_call_fn, gru_cell_1_layer_call_and_return_conditional_losses, gru_cell_1_layer_call_fn, gru_cell_1_layer_call_and_return_conditional_losses, gru_cell_1_layer_call_and_return_conditional_losses while saving (showing 5 of 5). These functions will not be directly callable after loading.\n"
     ]
    },
    {
     "name": "stdout",
     "output_type": "stream",
     "text": [
      "INFO:tensorflow:Assets written to: C:\\Users\\jared\\AppData\\Local\\Temp\\tmpjjinz9aj\\assets\n"
     ]
    },
    {
     "name": "stderr",
     "output_type": "stream",
     "text": [
      "INFO:tensorflow:Assets written to: C:\\Users\\jared\\AppData\\Local\\Temp\\tmpjjinz9aj\\assets\n",
      "WARNING:absl:<keras.layers.recurrent.GRUCell object at 0x0000017E0BBDADF0> has the same name 'GRUCell' as a built-in Keras object. Consider renaming <class 'keras.layers.recurrent.GRUCell'> to avoid naming conflicts when loading with `tf.keras.models.load_model`. If renaming is not possible, pass the object in the `custom_objects` parameter of the load function.\n",
      "C:\\Users\\jared\\anaconda3\\envs\\tflow\\lib\\site-packages\\scikeras\\wrappers.py:289: UserWarning: ``build_fn`` will be renamed to ``model`` in a future release, at which point use of ``build_fn`` will raise an Error instead.\n",
      "  warnings.warn(\n"
     ]
    },
    {
     "name": "stdout",
     "output_type": "stream",
     "text": [
      "Epoch 1/20\n",
      "99/99 [==============================] - 4s 21ms/step - loss: 0.7284 - accuracy: 0.5026 - val_loss: 0.6941 - val_accuracy: 0.5031\n",
      "Epoch 2/20\n",
      "99/99 [==============================] - 1s 14ms/step - loss: 0.6982 - accuracy: 0.5062 - val_loss: 0.7190 - val_accuracy: 0.5088\n",
      "Epoch 3/20\n",
      "99/99 [==============================] - 1s 14ms/step - loss: 0.6972 - accuracy: 0.5050 - val_loss: 0.6939 - val_accuracy: 0.5173\n",
      "Epoch 4/20\n",
      "99/99 [==============================] - 1s 14ms/step - loss: 0.7007 - accuracy: 0.5113 - val_loss: 0.7145 - val_accuracy: 0.5094\n",
      "Epoch 5/20\n",
      "99/99 [==============================] - 1s 14ms/step - loss: 0.7044 - accuracy: 0.4973 - val_loss: 0.7004 - val_accuracy: 0.4903\n",
      "Epoch 6/20\n",
      "99/99 [==============================] - 1s 14ms/step - loss: 0.7021 - accuracy: 0.5124 - val_loss: 0.7149 - val_accuracy: 0.5088\n",
      "Epoch 00006: early stopping\n",
      "50/50 [==============================] - 1s 5ms/step\n",
      "[CV 1/3] END dropout_rate=0.3, learning_rate=0.1, node_type=gru, nodes=[64, 64];, score=0.509 total time=  13.6s\n"
     ]
    },
    {
     "name": "stderr",
     "output_type": "stream",
     "text": [
      "WARNING:absl:Found untraced functions such as gru_cell_1_layer_call_fn, gru_cell_1_layer_call_and_return_conditional_losses, gru_cell_1_layer_call_fn, gru_cell_1_layer_call_and_return_conditional_losses, gru_cell_1_layer_call_and_return_conditional_losses while saving (showing 5 of 5). These functions will not be directly callable after loading.\n"
     ]
    },
    {
     "name": "stdout",
     "output_type": "stream",
     "text": [
      "INFO:tensorflow:Assets written to: C:\\Users\\jared\\AppData\\Local\\Temp\\tmpmt2rljw5\\assets\n"
     ]
    },
    {
     "name": "stderr",
     "output_type": "stream",
     "text": [
      "INFO:tensorflow:Assets written to: C:\\Users\\jared\\AppData\\Local\\Temp\\tmpmt2rljw5\\assets\n",
      "WARNING:absl:<keras.layers.recurrent.GRUCell object at 0x0000017E0BBDADF0> has the same name 'GRUCell' as a built-in Keras object. Consider renaming <class 'keras.layers.recurrent.GRUCell'> to avoid naming conflicts when loading with `tf.keras.models.load_model`. If renaming is not possible, pass the object in the `custom_objects` parameter of the load function.\n",
      "C:\\Users\\jared\\anaconda3\\envs\\tflow\\lib\\site-packages\\scikeras\\wrappers.py:289: UserWarning: ``build_fn`` will be renamed to ``model`` in a future release, at which point use of ``build_fn`` will raise an Error instead.\n",
      "  warnings.warn(\n"
     ]
    },
    {
     "name": "stdout",
     "output_type": "stream",
     "text": [
      "Epoch 1/20\n",
      "99/99 [==============================] - 4s 21ms/step - loss: 0.7253 - accuracy: 0.5039 - val_loss: 0.7004 - val_accuracy: 0.4941\n",
      "Epoch 2/20\n",
      "99/99 [==============================] - 1s 14ms/step - loss: 0.6988 - accuracy: 0.5061 - val_loss: 0.7135 - val_accuracy: 0.4917\n",
      "Epoch 3/20\n",
      "99/99 [==============================] - 1s 14ms/step - loss: 0.6981 - accuracy: 0.5126 - val_loss: 0.6942 - val_accuracy: 0.5088\n",
      "Epoch 4/20\n",
      "99/99 [==============================] - 1s 14ms/step - loss: 0.6965 - accuracy: 0.5084 - val_loss: 0.6986 - val_accuracy: 0.5088\n",
      "Epoch 5/20\n",
      "99/99 [==============================] - 1s 14ms/step - loss: 0.6996 - accuracy: 0.5168 - val_loss: 0.7072 - val_accuracy: 0.5088\n",
      "Epoch 6/20\n",
      "99/99 [==============================] - 1s 14ms/step - loss: 0.7103 - accuracy: 0.5066 - val_loss: 0.7387 - val_accuracy: 0.5082\n",
      "Epoch 00006: early stopping\n",
      "50/50 [==============================] - 1s 5ms/step\n",
      "[CV 2/3] END dropout_rate=0.3, learning_rate=0.1, node_type=gru, nodes=[64, 64];, score=0.506 total time=  13.7s\n"
     ]
    },
    {
     "name": "stderr",
     "output_type": "stream",
     "text": [
      "WARNING:absl:Found untraced functions such as gru_cell_1_layer_call_fn, gru_cell_1_layer_call_and_return_conditional_losses, gru_cell_1_layer_call_fn, gru_cell_1_layer_call_and_return_conditional_losses, gru_cell_1_layer_call_and_return_conditional_losses while saving (showing 5 of 5). These functions will not be directly callable after loading.\n"
     ]
    },
    {
     "name": "stdout",
     "output_type": "stream",
     "text": [
      "INFO:tensorflow:Assets written to: C:\\Users\\jared\\AppData\\Local\\Temp\\tmpn63g5yc5\\assets\n"
     ]
    },
    {
     "name": "stderr",
     "output_type": "stream",
     "text": [
      "INFO:tensorflow:Assets written to: C:\\Users\\jared\\AppData\\Local\\Temp\\tmpn63g5yc5\\assets\n",
      "WARNING:absl:<keras.layers.recurrent.GRUCell object at 0x0000017E0BBDADF0> has the same name 'GRUCell' as a built-in Keras object. Consider renaming <class 'keras.layers.recurrent.GRUCell'> to avoid naming conflicts when loading with `tf.keras.models.load_model`. If renaming is not possible, pass the object in the `custom_objects` parameter of the load function.\n",
      "C:\\Users\\jared\\anaconda3\\envs\\tflow\\lib\\site-packages\\scikeras\\wrappers.py:289: UserWarning: ``build_fn`` will be renamed to ``model`` in a future release, at which point use of ``build_fn`` will raise an Error instead.\n",
      "  warnings.warn(\n"
     ]
    },
    {
     "name": "stdout",
     "output_type": "stream",
     "text": [
      "Epoch 1/20\n",
      "99/99 [==============================] - 4s 21ms/step - loss: 0.7300 - accuracy: 0.5028 - val_loss: 0.6958 - val_accuracy: 0.5093\n",
      "Epoch 2/20\n",
      "99/99 [==============================] - 1s 14ms/step - loss: 0.6977 - accuracy: 0.5014 - val_loss: 0.7142 - val_accuracy: 0.5094\n",
      "Epoch 3/20\n",
      "99/99 [==============================] - 1s 14ms/step - loss: 0.6996 - accuracy: 0.4984 - val_loss: 0.6930 - val_accuracy: 0.5133\n",
      "Epoch 4/20\n",
      "99/99 [==============================] - 1s 15ms/step - loss: 0.6968 - accuracy: 0.5126 - val_loss: 0.6998 - val_accuracy: 0.4914\n",
      "Epoch 5/20\n",
      "99/99 [==============================] - 1s 14ms/step - loss: 0.6994 - accuracy: 0.5018 - val_loss: 0.6936 - val_accuracy: 0.5052\n",
      "Epoch 6/20\n",
      "99/99 [==============================] - 1s 14ms/step - loss: 0.6997 - accuracy: 0.5099 - val_loss: 0.6940 - val_accuracy: 0.4976\n",
      "Epoch 00006: early stopping\n",
      "50/50 [==============================] - 1s 5ms/step\n",
      "[CV 3/3] END dropout_rate=0.3, learning_rate=0.1, node_type=gru, nodes=[64, 64];, score=0.503 total time=  13.7s\n"
     ]
    },
    {
     "name": "stderr",
     "output_type": "stream",
     "text": [
      "WARNING:absl:Found untraced functions such as gru_cell_1_layer_call_fn, gru_cell_1_layer_call_and_return_conditional_losses, gru_cell_1_layer_call_fn, gru_cell_1_layer_call_and_return_conditional_losses, gru_cell_1_layer_call_and_return_conditional_losses while saving (showing 5 of 5). These functions will not be directly callable after loading.\n"
     ]
    },
    {
     "name": "stdout",
     "output_type": "stream",
     "text": [
      "INFO:tensorflow:Assets written to: C:\\Users\\jared\\AppData\\Local\\Temp\\tmpuvxgdwke\\assets\n"
     ]
    },
    {
     "name": "stderr",
     "output_type": "stream",
     "text": [
      "INFO:tensorflow:Assets written to: C:\\Users\\jared\\AppData\\Local\\Temp\\tmpuvxgdwke\\assets\n",
      "WARNING:absl:<keras.layers.recurrent.GRUCell object at 0x0000017E0BBDADF0> has the same name 'GRUCell' as a built-in Keras object. Consider renaming <class 'keras.layers.recurrent.GRUCell'> to avoid naming conflicts when loading with `tf.keras.models.load_model`. If renaming is not possible, pass the object in the `custom_objects` parameter of the load function.\n",
      "C:\\Users\\jared\\anaconda3\\envs\\tflow\\lib\\site-packages\\scikeras\\wrappers.py:289: UserWarning: ``build_fn`` will be renamed to ``model`` in a future release, at which point use of ``build_fn`` will raise an Error instead.\n",
      "  warnings.warn(\n"
     ]
    },
    {
     "name": "stdout",
     "output_type": "stream",
     "text": [
      "Epoch 1/20\n",
      "99/99 [==============================] - 5s 27ms/step - loss: 0.7140 - accuracy: 0.4999 - val_loss: 0.6927 - val_accuracy: 0.5118\n",
      "Epoch 2/20\n",
      "99/99 [==============================] - 2s 18ms/step - loss: 0.6966 - accuracy: 0.5056 - val_loss: 0.6936 - val_accuracy: 0.4940\n",
      "Epoch 3/20\n",
      "99/99 [==============================] - 2s 19ms/step - loss: 0.7009 - accuracy: 0.5025 - val_loss: 0.6955 - val_accuracy: 0.5099\n",
      "Epoch 4/20\n",
      "99/99 [==============================] - 2s 19ms/step - loss: 0.6982 - accuracy: 0.4999 - val_loss: 0.6943 - val_accuracy: 0.5088\n",
      "Epoch 00004: early stopping\n",
      "50/50 [==============================] - 1s 6ms/step\n",
      "[CV 1/3] END dropout_rate=0.3, learning_rate=0.1, node_type=gru, nodes=[32, 32, 32];, score=0.509 total time=  13.7s\n"
     ]
    },
    {
     "name": "stderr",
     "output_type": "stream",
     "text": [
      "WARNING:absl:Found untraced functions such as gru_cell_1_layer_call_fn, gru_cell_1_layer_call_and_return_conditional_losses, gru_cell_1_layer_call_fn, gru_cell_1_layer_call_and_return_conditional_losses, gru_cell_1_layer_call_and_return_conditional_losses while saving (showing 5 of 5). These functions will not be directly callable after loading.\n"
     ]
    },
    {
     "name": "stdout",
     "output_type": "stream",
     "text": [
      "INFO:tensorflow:Assets written to: C:\\Users\\jared\\AppData\\Local\\Temp\\tmplwed9o_2\\assets\n"
     ]
    },
    {
     "name": "stderr",
     "output_type": "stream",
     "text": [
      "INFO:tensorflow:Assets written to: C:\\Users\\jared\\AppData\\Local\\Temp\\tmplwed9o_2\\assets\n",
      "WARNING:absl:<keras.layers.recurrent.GRUCell object at 0x0000017E0BBDADF0> has the same name 'GRUCell' as a built-in Keras object. Consider renaming <class 'keras.layers.recurrent.GRUCell'> to avoid naming conflicts when loading with `tf.keras.models.load_model`. If renaming is not possible, pass the object in the `custom_objects` parameter of the load function.\n",
      "C:\\Users\\jared\\anaconda3\\envs\\tflow\\lib\\site-packages\\scikeras\\wrappers.py:289: UserWarning: ``build_fn`` will be renamed to ``model`` in a future release, at which point use of ``build_fn`` will raise an Error instead.\n",
      "  warnings.warn(\n"
     ]
    },
    {
     "name": "stdout",
     "output_type": "stream",
     "text": [
      "Epoch 1/20\n",
      "99/99 [==============================] - 5s 30ms/step - loss: 0.7134 - accuracy: 0.5017 - val_loss: 0.6935 - val_accuracy: 0.5088\n",
      "Epoch 2/20\n",
      "99/99 [==============================] - 2s 19ms/step - loss: 0.6965 - accuracy: 0.4969 - val_loss: 0.6951 - val_accuracy: 0.5088\n",
      "Epoch 3/20\n",
      "99/99 [==============================] - 2s 19ms/step - loss: 0.6957 - accuracy: 0.5018 - val_loss: 0.6933 - val_accuracy: 0.5088\n",
      "Epoch 4/20\n",
      "99/99 [==============================] - 2s 19ms/step - loss: 0.6988 - accuracy: 0.5050 - val_loss: 0.7099 - val_accuracy: 0.5088\n",
      "Epoch 5/20\n",
      "99/99 [==============================] - 2s 19ms/step - loss: 0.7051 - accuracy: 0.5004 - val_loss: 0.7440 - val_accuracy: 0.5088\n",
      "Epoch 6/20\n",
      "99/99 [==============================] - 2s 19ms/step - loss: 0.6995 - accuracy: 0.4993 - val_loss: 0.7117 - val_accuracy: 0.5061\n",
      "Epoch 00006: early stopping\n",
      "50/50 [==============================] - 1s 6ms/step\n",
      "[CV 2/3] END dropout_rate=0.3, learning_rate=0.1, node_type=gru, nodes=[32, 32, 32];, score=0.509 total time=  17.6s\n"
     ]
    },
    {
     "name": "stderr",
     "output_type": "stream",
     "text": [
      "WARNING:absl:Found untraced functions such as gru_cell_1_layer_call_fn, gru_cell_1_layer_call_and_return_conditional_losses, gru_cell_1_layer_call_fn, gru_cell_1_layer_call_and_return_conditional_losses, gru_cell_1_layer_call_and_return_conditional_losses while saving (showing 5 of 5). These functions will not be directly callable after loading.\n"
     ]
    },
    {
     "name": "stdout",
     "output_type": "stream",
     "text": [
      "INFO:tensorflow:Assets written to: C:\\Users\\jared\\AppData\\Local\\Temp\\tmpc040f80o\\assets\n"
     ]
    },
    {
     "name": "stderr",
     "output_type": "stream",
     "text": [
      "INFO:tensorflow:Assets written to: C:\\Users\\jared\\AppData\\Local\\Temp\\tmpc040f80o\\assets\n",
      "WARNING:absl:<keras.layers.recurrent.GRUCell object at 0x0000017E0BBDADF0> has the same name 'GRUCell' as a built-in Keras object. Consider renaming <class 'keras.layers.recurrent.GRUCell'> to avoid naming conflicts when loading with `tf.keras.models.load_model`. If renaming is not possible, pass the object in the `custom_objects` parameter of the load function.\n",
      "C:\\Users\\jared\\anaconda3\\envs\\tflow\\lib\\site-packages\\scikeras\\wrappers.py:289: UserWarning: ``build_fn`` will be renamed to ``model`` in a future release, at which point use of ``build_fn`` will raise an Error instead.\n",
      "  warnings.warn(\n"
     ]
    },
    {
     "name": "stdout",
     "output_type": "stream",
     "text": [
      "Epoch 1/20\n",
      "99/99 [==============================] - 5s 27ms/step - loss: 0.7154 - accuracy: 0.5041 - val_loss: 0.6956 - val_accuracy: 0.4969\n",
      "Epoch 2/20\n",
      "99/99 [==============================] - 2s 19ms/step - loss: 0.6976 - accuracy: 0.5080 - val_loss: 0.6931 - val_accuracy: 0.5120\n",
      "Epoch 3/20\n",
      "99/99 [==============================] - 2s 19ms/step - loss: 0.6973 - accuracy: 0.5084 - val_loss: 0.6969 - val_accuracy: 0.4912\n",
      "Epoch 4/20\n",
      "99/99 [==============================] - 2s 19ms/step - loss: 0.6966 - accuracy: 0.4986 - val_loss: 0.6944 - val_accuracy: 0.5088\n",
      "Epoch 5/20\n",
      "99/99 [==============================] - 2s 18ms/step - loss: 0.6979 - accuracy: 0.4989 - val_loss: 0.6931 - val_accuracy: 0.5088\n",
      "Epoch 6/20\n",
      "99/99 [==============================] - 2s 19ms/step - loss: 0.6977 - accuracy: 0.5099 - val_loss: 0.6930 - val_accuracy: 0.5070\n",
      "Epoch 7/20\n",
      "99/99 [==============================] - 2s 19ms/step - loss: 0.7005 - accuracy: 0.5046 - val_loss: 0.7510 - val_accuracy: 0.4922\n",
      "Epoch 8/20\n",
      "99/99 [==============================] - 2s 18ms/step - loss: 0.6986 - accuracy: 0.4988 - val_loss: 0.7104 - val_accuracy: 0.4912\n",
      "Epoch 9/20\n",
      "99/99 [==============================] - 2s 19ms/step - loss: 0.7018 - accuracy: 0.4986 - val_loss: 0.6969 - val_accuracy: 0.5038\n",
      "Epoch 00009: early stopping\n",
      "50/50 [==============================] - 1s 6ms/step\n",
      "[CV 3/3] END dropout_rate=0.3, learning_rate=0.1, node_type=gru, nodes=[32, 32, 32];, score=0.519 total time=  23.2s\n"
     ]
    },
    {
     "name": "stderr",
     "output_type": "stream",
     "text": [
      "WARNING:absl:Found untraced functions such as gru_cell_1_layer_call_fn, gru_cell_1_layer_call_and_return_conditional_losses, gru_cell_1_layer_call_fn, gru_cell_1_layer_call_and_return_conditional_losses, gru_cell_1_layer_call_and_return_conditional_losses while saving (showing 5 of 5). These functions will not be directly callable after loading.\n"
     ]
    },
    {
     "name": "stdout",
     "output_type": "stream",
     "text": [
      "INFO:tensorflow:Assets written to: C:\\Users\\jared\\AppData\\Local\\Temp\\tmp235wc8x0\\assets\n"
     ]
    },
    {
     "name": "stderr",
     "output_type": "stream",
     "text": [
      "INFO:tensorflow:Assets written to: C:\\Users\\jared\\AppData\\Local\\Temp\\tmp235wc8x0\\assets\n",
      "WARNING:absl:<keras.layers.recurrent.GRUCell object at 0x0000017E0BBDADF0> has the same name 'GRUCell' as a built-in Keras object. Consider renaming <class 'keras.layers.recurrent.GRUCell'> to avoid naming conflicts when loading with `tf.keras.models.load_model`. If renaming is not possible, pass the object in the `custom_objects` parameter of the load function.\n",
      "C:\\Users\\jared\\anaconda3\\envs\\tflow\\lib\\site-packages\\scikeras\\wrappers.py:289: UserWarning: ``build_fn`` will be renamed to ``model`` in a future release, at which point use of ``build_fn`` will raise an Error instead.\n",
      "  warnings.warn(\n"
     ]
    },
    {
     "name": "stdout",
     "output_type": "stream",
     "text": [
      "Epoch 1/20\n",
      "99/99 [==============================] - 3s 21ms/step - loss: 0.8188 - accuracy: 0.5250 - val_loss: 0.6794 - val_accuracy: 0.5495\n",
      "Epoch 2/20\n",
      "99/99 [==============================] - 1s 12ms/step - loss: 0.7175 - accuracy: 0.5409 - val_loss: 0.6738 - val_accuracy: 0.5718\n",
      "Epoch 3/20\n",
      "99/99 [==============================] - 1s 12ms/step - loss: 0.6834 - accuracy: 0.5560 - val_loss: 0.6698 - val_accuracy: 0.5787\n",
      "Epoch 4/20\n",
      "99/99 [==============================] - 1s 12ms/step - loss: 0.6725 - accuracy: 0.5655 - val_loss: 0.6703 - val_accuracy: 0.5699\n",
      "Epoch 5/20\n",
      "99/99 [==============================] - 1s 12ms/step - loss: 0.6674 - accuracy: 0.5706 - val_loss: 0.6676 - val_accuracy: 0.5750\n",
      "Epoch 6/20\n",
      "99/99 [==============================] - 1s 12ms/step - loss: 0.6655 - accuracy: 0.5740 - val_loss: 0.6652 - val_accuracy: 0.5817\n",
      "Epoch 7/20\n",
      "99/99 [==============================] - 1s 12ms/step - loss: 0.6632 - accuracy: 0.5765 - val_loss: 0.6645 - val_accuracy: 0.5804\n",
      "Epoch 8/20\n",
      "99/99 [==============================] - 1s 12ms/step - loss: 0.6610 - accuracy: 0.5791 - val_loss: 0.6694 - val_accuracy: 0.5671\n",
      "Epoch 9/20\n",
      "99/99 [==============================] - 1s 12ms/step - loss: 0.6599 - accuracy: 0.5800 - val_loss: 0.6672 - val_accuracy: 0.5743\n",
      "Epoch 10/20\n",
      "99/99 [==============================] - 1s 12ms/step - loss: 0.6590 - accuracy: 0.5801 - val_loss: 0.6773 - val_accuracy: 0.5628\n",
      "Epoch 00010: early stopping\n",
      "50/50 [==============================] - 0s 5ms/step\n",
      "[CV 1/3] END dropout_rate=0.5, learning_rate=0.001, node_type=lstm, nodes=[128];, score=nan total time=  16.1s\n"
     ]
    },
    {
     "name": "stderr",
     "output_type": "stream",
     "text": [
      "C:\\Users\\jared\\anaconda3\\envs\\tflow\\lib\\site-packages\\sklearn\\model_selection\\_validation.py:771: UserWarning: Scoring failed. The score on this train-test partition for these parameters will be set to nan. Details: \n",
      "Traceback (most recent call last):\n",
      "  File \"C:\\Users\\jared\\anaconda3\\envs\\tflow\\lib\\site-packages\\sklearn\\model_selection\\_validation.py\", line 762, in _score\n",
      "    scores = scorer(estimator, X_test, y_test)\n",
      "  File \"C:\\Users\\jared\\anaconda3\\envs\\tflow\\lib\\site-packages\\sklearn\\metrics\\_scorer.py\", line 216, in __call__\n",
      "    return self._score(\n",
      "  File \"C:\\Users\\jared\\anaconda3\\envs\\tflow\\lib\\site-packages\\sklearn\\metrics\\_scorer.py\", line 258, in _score\n",
      "    y_pred = method_caller(estimator, \"predict\", X)\n",
      "  File \"C:\\Users\\jared\\anaconda3\\envs\\tflow\\lib\\site-packages\\sklearn\\metrics\\_scorer.py\", line 68, in _cached_call\n",
      "    return getattr(estimator, method)(*args, **kwargs)\n",
      "  File \"C:\\Users\\jared\\anaconda3\\envs\\tflow\\lib\\site-packages\\scikeras\\wrappers.py\", line 1013, in predict\n",
      "    y_pred = self.target_encoder_.inverse_transform(y_pred)\n",
      "  File \"C:\\Users\\jared\\anaconda3\\envs\\tflow\\lib\\site-packages\\scikeras\\utils\\transformers.py\", line 257, in inverse_transform\n",
      "    class_predictions = self._final_encoder.inverse_transform(class_predictions)\n",
      "  File \"C:\\Users\\jared\\anaconda3\\envs\\tflow\\lib\\site-packages\\sklearn\\utils\\metaestimators.py\", line 113, in <lambda>\n",
      "    out = lambda *args, **kwargs: self.fn(obj, *args, **kwargs)  # noqa\n",
      "  File \"C:\\Users\\jared\\anaconda3\\envs\\tflow\\lib\\site-packages\\sklearn\\pipeline.py\", line 675, in inverse_transform\n",
      "    Xt = transform.inverse_transform(Xt)\n",
      "  File \"C:\\Users\\jared\\anaconda3\\envs\\tflow\\lib\\site-packages\\sklearn\\preprocessing\\_encoders.py\", line 990, in inverse_transform\n",
      "    X_tr[:, i] = self.categories_[i][labels]\n",
      "IndexError: index 41 is out of bounds for axis 0 with size 2\n",
      "\n",
      "  warnings.warn(\n",
      "WARNING:absl:Found untraced functions such as gru_cell_1_layer_call_fn, gru_cell_1_layer_call_and_return_conditional_losses, gru_cell_1_layer_call_fn, gru_cell_1_layer_call_and_return_conditional_losses, gru_cell_1_layer_call_and_return_conditional_losses while saving (showing 5 of 5). These functions will not be directly callable after loading.\n"
     ]
    },
    {
     "name": "stdout",
     "output_type": "stream",
     "text": [
      "INFO:tensorflow:Assets written to: C:\\Users\\jared\\AppData\\Local\\Temp\\tmpat7sysu7\\assets\n"
     ]
    },
    {
     "name": "stderr",
     "output_type": "stream",
     "text": [
      "INFO:tensorflow:Assets written to: C:\\Users\\jared\\AppData\\Local\\Temp\\tmpat7sysu7\\assets\n",
      "WARNING:absl:<keras.layers.recurrent.GRUCell object at 0x0000017E0BBDADF0> has the same name 'GRUCell' as a built-in Keras object. Consider renaming <class 'keras.layers.recurrent.GRUCell'> to avoid naming conflicts when loading with `tf.keras.models.load_model`. If renaming is not possible, pass the object in the `custom_objects` parameter of the load function.\n",
      "C:\\Users\\jared\\anaconda3\\envs\\tflow\\lib\\site-packages\\scikeras\\wrappers.py:289: UserWarning: ``build_fn`` will be renamed to ``model`` in a future release, at which point use of ``build_fn`` will raise an Error instead.\n",
      "  warnings.warn(\n"
     ]
    },
    {
     "name": "stdout",
     "output_type": "stream",
     "text": [
      "Epoch 1/20\n",
      "99/99 [==============================] - 3s 18ms/step - loss: 0.8077 - accuracy: 0.5267 - val_loss: 0.6780 - val_accuracy: 0.5624\n",
      "Epoch 2/20\n",
      "99/99 [==============================] - 1s 12ms/step - loss: 0.7113 - accuracy: 0.5447 - val_loss: 0.6742 - val_accuracy: 0.5624\n",
      "Epoch 3/20\n",
      "99/99 [==============================] - 1s 12ms/step - loss: 0.6807 - accuracy: 0.5586 - val_loss: 0.6700 - val_accuracy: 0.5780\n",
      "Epoch 4/20\n",
      "99/99 [==============================] - 1s 12ms/step - loss: 0.6695 - accuracy: 0.5696 - val_loss: 0.6665 - val_accuracy: 0.5785\n",
      "Epoch 5/20\n",
      "99/99 [==============================] - 1s 12ms/step - loss: 0.6662 - accuracy: 0.5727 - val_loss: 0.6669 - val_accuracy: 0.5735\n",
      "Epoch 6/20\n",
      "99/99 [==============================] - 1s 12ms/step - loss: 0.6640 - accuracy: 0.5753 - val_loss: 0.6661 - val_accuracy: 0.5741\n",
      "Epoch 7/20\n",
      "99/99 [==============================] - 1s 12ms/step - loss: 0.6608 - accuracy: 0.5803 - val_loss: 0.6639 - val_accuracy: 0.5770\n",
      "Epoch 8/20\n",
      "99/99 [==============================] - 1s 12ms/step - loss: 0.6593 - accuracy: 0.5812 - val_loss: 0.6636 - val_accuracy: 0.5784\n",
      "Epoch 9/20\n",
      "99/99 [==============================] - 1s 12ms/step - loss: 0.6581 - accuracy: 0.5826 - val_loss: 0.6648 - val_accuracy: 0.5792\n",
      "Epoch 10/20\n",
      "99/99 [==============================] - 1s 12ms/step - loss: 0.6557 - accuracy: 0.5843 - val_loss: 0.6644 - val_accuracy: 0.5780\n",
      "Epoch 11/20\n",
      "99/99 [==============================] - 1s 12ms/step - loss: 0.6525 - accuracy: 0.5882 - val_loss: 0.6656 - val_accuracy: 0.5787\n",
      "Epoch 00011: early stopping\n",
      "50/50 [==============================] - 0s 4ms/step\n",
      "[CV 2/3] END dropout_rate=0.5, learning_rate=0.001, node_type=lstm, nodes=[128];, score=nan total time=  17.1s\n"
     ]
    },
    {
     "name": "stderr",
     "output_type": "stream",
     "text": [
      "C:\\Users\\jared\\anaconda3\\envs\\tflow\\lib\\site-packages\\sklearn\\model_selection\\_validation.py:771: UserWarning: Scoring failed. The score on this train-test partition for these parameters will be set to nan. Details: \n",
      "Traceback (most recent call last):\n",
      "  File \"C:\\Users\\jared\\anaconda3\\envs\\tflow\\lib\\site-packages\\sklearn\\model_selection\\_validation.py\", line 762, in _score\n",
      "    scores = scorer(estimator, X_test, y_test)\n",
      "  File \"C:\\Users\\jared\\anaconda3\\envs\\tflow\\lib\\site-packages\\sklearn\\metrics\\_scorer.py\", line 216, in __call__\n",
      "    return self._score(\n",
      "  File \"C:\\Users\\jared\\anaconda3\\envs\\tflow\\lib\\site-packages\\sklearn\\metrics\\_scorer.py\", line 258, in _score\n",
      "    y_pred = method_caller(estimator, \"predict\", X)\n",
      "  File \"C:\\Users\\jared\\anaconda3\\envs\\tflow\\lib\\site-packages\\sklearn\\metrics\\_scorer.py\", line 68, in _cached_call\n",
      "    return getattr(estimator, method)(*args, **kwargs)\n",
      "  File \"C:\\Users\\jared\\anaconda3\\envs\\tflow\\lib\\site-packages\\scikeras\\wrappers.py\", line 1013, in predict\n",
      "    y_pred = self.target_encoder_.inverse_transform(y_pred)\n",
      "  File \"C:\\Users\\jared\\anaconda3\\envs\\tflow\\lib\\site-packages\\scikeras\\utils\\transformers.py\", line 257, in inverse_transform\n",
      "    class_predictions = self._final_encoder.inverse_transform(class_predictions)\n",
      "  File \"C:\\Users\\jared\\anaconda3\\envs\\tflow\\lib\\site-packages\\sklearn\\utils\\metaestimators.py\", line 113, in <lambda>\n",
      "    out = lambda *args, **kwargs: self.fn(obj, *args, **kwargs)  # noqa\n",
      "  File \"C:\\Users\\jared\\anaconda3\\envs\\tflow\\lib\\site-packages\\sklearn\\pipeline.py\", line 675, in inverse_transform\n",
      "    Xt = transform.inverse_transform(Xt)\n",
      "  File \"C:\\Users\\jared\\anaconda3\\envs\\tflow\\lib\\site-packages\\sklearn\\preprocessing\\_encoders.py\", line 990, in inverse_transform\n",
      "    X_tr[:, i] = self.categories_[i][labels]\n",
      "IndexError: index 59 is out of bounds for axis 0 with size 2\n",
      "\n",
      "  warnings.warn(\n",
      "WARNING:absl:Found untraced functions such as gru_cell_1_layer_call_fn, gru_cell_1_layer_call_and_return_conditional_losses, gru_cell_1_layer_call_fn, gru_cell_1_layer_call_and_return_conditional_losses, gru_cell_1_layer_call_and_return_conditional_losses while saving (showing 5 of 5). These functions will not be directly callable after loading.\n"
     ]
    },
    {
     "name": "stdout",
     "output_type": "stream",
     "text": [
      "INFO:tensorflow:Assets written to: C:\\Users\\jared\\AppData\\Local\\Temp\\tmpgwb7c_tt\\assets\n"
     ]
    },
    {
     "name": "stderr",
     "output_type": "stream",
     "text": [
      "INFO:tensorflow:Assets written to: C:\\Users\\jared\\AppData\\Local\\Temp\\tmpgwb7c_tt\\assets\n",
      "WARNING:absl:<keras.layers.recurrent.GRUCell object at 0x0000017E0BBDADF0> has the same name 'GRUCell' as a built-in Keras object. Consider renaming <class 'keras.layers.recurrent.GRUCell'> to avoid naming conflicts when loading with `tf.keras.models.load_model`. If renaming is not possible, pass the object in the `custom_objects` parameter of the load function.\n",
      "C:\\Users\\jared\\anaconda3\\envs\\tflow\\lib\\site-packages\\scikeras\\wrappers.py:289: UserWarning: ``build_fn`` will be renamed to ``model`` in a future release, at which point use of ``build_fn`` will raise an Error instead.\n",
      "  warnings.warn(\n"
     ]
    },
    {
     "name": "stdout",
     "output_type": "stream",
     "text": [
      "Epoch 1/20\n",
      "99/99 [==============================] - 3s 18ms/step - loss: 0.8155 - accuracy: 0.5258 - val_loss: 0.6786 - val_accuracy: 0.5675\n",
      "Epoch 2/20\n",
      "99/99 [==============================] - 1s 12ms/step - loss: 0.7152 - accuracy: 0.5425 - val_loss: 0.6733 - val_accuracy: 0.5751\n",
      "Epoch 3/20\n",
      "99/99 [==============================] - 1s 12ms/step - loss: 0.6818 - accuracy: 0.5585 - val_loss: 0.6706 - val_accuracy: 0.5695\n",
      "Epoch 4/20\n",
      "99/99 [==============================] - 1s 12ms/step - loss: 0.6704 - accuracy: 0.5666 - val_loss: 0.6662 - val_accuracy: 0.5789\n",
      "Epoch 5/20\n",
      "99/99 [==============================] - 1s 12ms/step - loss: 0.6669 - accuracy: 0.5725 - val_loss: 0.6661 - val_accuracy: 0.5786\n",
      "Epoch 6/20\n",
      "99/99 [==============================] - 1s 12ms/step - loss: 0.6640 - accuracy: 0.5766 - val_loss: 0.6636 - val_accuracy: 0.5824\n",
      "Epoch 7/20\n",
      "99/99 [==============================] - 1s 12ms/step - loss: 0.6612 - accuracy: 0.5803 - val_loss: 0.6652 - val_accuracy: 0.5781\n",
      "Epoch 8/20\n",
      "99/99 [==============================] - 1s 12ms/step - loss: 0.6599 - accuracy: 0.5810 - val_loss: 0.6666 - val_accuracy: 0.5698\n",
      "Epoch 9/20\n",
      "99/99 [==============================] - 1s 12ms/step - loss: 0.6572 - accuracy: 0.5825 - val_loss: 0.6643 - val_accuracy: 0.5818\n",
      "Epoch 00009: early stopping\n",
      "50/50 [==============================] - 0s 4ms/step\n",
      "[CV 3/3] END dropout_rate=0.5, learning_rate=0.001, node_type=lstm, nodes=[128];, score=nan total time=  14.7s\n"
     ]
    },
    {
     "name": "stderr",
     "output_type": "stream",
     "text": [
      "C:\\Users\\jared\\anaconda3\\envs\\tflow\\lib\\site-packages\\sklearn\\model_selection\\_validation.py:771: UserWarning: Scoring failed. The score on this train-test partition for these parameters will be set to nan. Details: \n",
      "Traceback (most recent call last):\n",
      "  File \"C:\\Users\\jared\\anaconda3\\envs\\tflow\\lib\\site-packages\\sklearn\\model_selection\\_validation.py\", line 762, in _score\n",
      "    scores = scorer(estimator, X_test, y_test)\n",
      "  File \"C:\\Users\\jared\\anaconda3\\envs\\tflow\\lib\\site-packages\\sklearn\\metrics\\_scorer.py\", line 216, in __call__\n",
      "    return self._score(\n",
      "  File \"C:\\Users\\jared\\anaconda3\\envs\\tflow\\lib\\site-packages\\sklearn\\metrics\\_scorer.py\", line 258, in _score\n",
      "    y_pred = method_caller(estimator, \"predict\", X)\n",
      "  File \"C:\\Users\\jared\\anaconda3\\envs\\tflow\\lib\\site-packages\\sklearn\\metrics\\_scorer.py\", line 68, in _cached_call\n",
      "    return getattr(estimator, method)(*args, **kwargs)\n",
      "  File \"C:\\Users\\jared\\anaconda3\\envs\\tflow\\lib\\site-packages\\scikeras\\wrappers.py\", line 1013, in predict\n",
      "    y_pred = self.target_encoder_.inverse_transform(y_pred)\n",
      "  File \"C:\\Users\\jared\\anaconda3\\envs\\tflow\\lib\\site-packages\\scikeras\\utils\\transformers.py\", line 257, in inverse_transform\n",
      "    class_predictions = self._final_encoder.inverse_transform(class_predictions)\n",
      "  File \"C:\\Users\\jared\\anaconda3\\envs\\tflow\\lib\\site-packages\\sklearn\\utils\\metaestimators.py\", line 113, in <lambda>\n",
      "    out = lambda *args, **kwargs: self.fn(obj, *args, **kwargs)  # noqa\n",
      "  File \"C:\\Users\\jared\\anaconda3\\envs\\tflow\\lib\\site-packages\\sklearn\\pipeline.py\", line 675, in inverse_transform\n",
      "    Xt = transform.inverse_transform(Xt)\n",
      "  File \"C:\\Users\\jared\\anaconda3\\envs\\tflow\\lib\\site-packages\\sklearn\\preprocessing\\_encoders.py\", line 990, in inverse_transform\n",
      "    X_tr[:, i] = self.categories_[i][labels]\n",
      "IndexError: index 59 is out of bounds for axis 0 with size 2\n",
      "\n",
      "  warnings.warn(\n",
      "WARNING:absl:Found untraced functions such as gru_cell_1_layer_call_fn, gru_cell_1_layer_call_and_return_conditional_losses, gru_cell_1_layer_call_fn, gru_cell_1_layer_call_and_return_conditional_losses, gru_cell_1_layer_call_and_return_conditional_losses while saving (showing 5 of 5). These functions will not be directly callable after loading.\n"
     ]
    },
    {
     "name": "stdout",
     "output_type": "stream",
     "text": [
      "INFO:tensorflow:Assets written to: C:\\Users\\jared\\AppData\\Local\\Temp\\tmpkyp6ws8a\\assets\n"
     ]
    },
    {
     "name": "stderr",
     "output_type": "stream",
     "text": [
      "INFO:tensorflow:Assets written to: C:\\Users\\jared\\AppData\\Local\\Temp\\tmpkyp6ws8a\\assets\n",
      "WARNING:absl:<keras.layers.recurrent.GRUCell object at 0x0000017E0BBDADF0> has the same name 'GRUCell' as a built-in Keras object. Consider renaming <class 'keras.layers.recurrent.GRUCell'> to avoid naming conflicts when loading with `tf.keras.models.load_model`. If renaming is not possible, pass the object in the `custom_objects` parameter of the load function.\n",
      "C:\\Users\\jared\\anaconda3\\envs\\tflow\\lib\\site-packages\\scikeras\\wrappers.py:289: UserWarning: ``build_fn`` will be renamed to ``model`` in a future release, at which point use of ``build_fn`` will raise an Error instead.\n",
      "  warnings.warn(\n"
     ]
    },
    {
     "name": "stdout",
     "output_type": "stream",
     "text": [
      "Epoch 1/20\n",
      "99/99 [==============================] - 4s 26ms/step - loss: 0.8612 - accuracy: 0.5373 - val_loss: 0.6585 - val_accuracy: 0.6165\n",
      "Epoch 2/20\n",
      "99/99 [==============================] - 2s 16ms/step - loss: 0.7320 - accuracy: 0.5848 - val_loss: 0.6421 - val_accuracy: 0.6292\n",
      "Epoch 3/20\n",
      "99/99 [==============================] - 2s 16ms/step - loss: 0.6889 - accuracy: 0.5946 - val_loss: 0.6314 - val_accuracy: 0.6369\n",
      "Epoch 4/20\n",
      "99/99 [==============================] - 2s 16ms/step - loss: 0.6516 - accuracy: 0.6229 - val_loss: 0.6209 - val_accuracy: 0.6496\n",
      "Epoch 5/20\n",
      "99/99 [==============================] - 2s 15ms/step - loss: 0.6364 - accuracy: 0.6391 - val_loss: 0.6196 - val_accuracy: 0.6475\n",
      "Epoch 6/20\n",
      "99/99 [==============================] - 2s 15ms/step - loss: 0.6205 - accuracy: 0.6492 - val_loss: 0.6186 - val_accuracy: 0.6498\n",
      "Epoch 7/20\n",
      "99/99 [==============================] - 2s 16ms/step - loss: 0.6143 - accuracy: 0.6601 - val_loss: 0.6218 - val_accuracy: 0.6556\n",
      "Epoch 8/20\n",
      "99/99 [==============================] - 2s 16ms/step - loss: 0.6075 - accuracy: 0.6670 - val_loss: 0.6150 - val_accuracy: 0.6567\n",
      "Epoch 9/20\n",
      "99/99 [==============================] - 2s 16ms/step - loss: 0.6001 - accuracy: 0.6751 - val_loss: 0.6188 - val_accuracy: 0.6541\n",
      "Epoch 10/20\n",
      "99/99 [==============================] - 2s 16ms/step - loss: 0.5957 - accuracy: 0.6739 - val_loss: 0.6323 - val_accuracy: 0.6428\n",
      "Epoch 11/20\n",
      "99/99 [==============================] - 2s 16ms/step - loss: 0.5894 - accuracy: 0.6814 - val_loss: 0.6231 - val_accuracy: 0.6635\n",
      "Epoch 00011: early stopping\n",
      "50/50 [==============================] - 1s 5ms/step\n",
      "[CV 1/3] END dropout_rate=0.5, learning_rate=0.001, node_type=lstm, nodes=[64, 64];, score=0.655 total time=  22.3s\n"
     ]
    },
    {
     "name": "stderr",
     "output_type": "stream",
     "text": [
      "WARNING:absl:Found untraced functions such as gru_cell_1_layer_call_fn, gru_cell_1_layer_call_and_return_conditional_losses, gru_cell_1_layer_call_fn, gru_cell_1_layer_call_and_return_conditional_losses, gru_cell_1_layer_call_and_return_conditional_losses while saving (showing 5 of 5). These functions will not be directly callable after loading.\n"
     ]
    },
    {
     "name": "stdout",
     "output_type": "stream",
     "text": [
      "INFO:tensorflow:Assets written to: C:\\Users\\jared\\AppData\\Local\\Temp\\tmpvncz0hs5\\assets\n"
     ]
    },
    {
     "name": "stderr",
     "output_type": "stream",
     "text": [
      "INFO:tensorflow:Assets written to: C:\\Users\\jared\\AppData\\Local\\Temp\\tmpvncz0hs5\\assets\n",
      "WARNING:absl:<keras.layers.recurrent.GRUCell object at 0x0000017E0BBDADF0> has the same name 'GRUCell' as a built-in Keras object. Consider renaming <class 'keras.layers.recurrent.GRUCell'> to avoid naming conflicts when loading with `tf.keras.models.load_model`. If renaming is not possible, pass the object in the `custom_objects` parameter of the load function.\n",
      "C:\\Users\\jared\\anaconda3\\envs\\tflow\\lib\\site-packages\\scikeras\\wrappers.py:289: UserWarning: ``build_fn`` will be renamed to ``model`` in a future release, at which point use of ``build_fn`` will raise an Error instead.\n",
      "  warnings.warn(\n"
     ]
    },
    {
     "name": "stdout",
     "output_type": "stream",
     "text": [
      "Epoch 1/20\n",
      "99/99 [==============================] - 4s 23ms/step - loss: 0.8400 - accuracy: 0.5424 - val_loss: 0.6605 - val_accuracy: 0.6134\n",
      "Epoch 2/20\n",
      "99/99 [==============================] - 2s 16ms/step - loss: 0.7220 - accuracy: 0.5798 - val_loss: 0.6367 - val_accuracy: 0.6357\n",
      "Epoch 3/20\n",
      "99/99 [==============================] - 2s 16ms/step - loss: 0.6663 - accuracy: 0.6145 - val_loss: 0.6260 - val_accuracy: 0.6414\n",
      "Epoch 4/20\n",
      "99/99 [==============================] - 2s 15ms/step - loss: 0.6433 - accuracy: 0.6333 - val_loss: 0.6154 - val_accuracy: 0.6551\n",
      "Epoch 5/20\n",
      "99/99 [==============================] - 1s 15ms/step - loss: 0.6269 - accuracy: 0.6492 - val_loss: 0.6175 - val_accuracy: 0.6483\n",
      "Epoch 6/20\n",
      "99/99 [==============================] - 2s 16ms/step - loss: 0.6181 - accuracy: 0.6547 - val_loss: 0.6087 - val_accuracy: 0.6528\n",
      "Epoch 7/20\n",
      "99/99 [==============================] - 2s 16ms/step - loss: 0.6084 - accuracy: 0.6604 - val_loss: 0.6115 - val_accuracy: 0.6599\n",
      "Epoch 8/20\n",
      "99/99 [==============================] - 2s 16ms/step - loss: 0.6052 - accuracy: 0.6661 - val_loss: 0.6143 - val_accuracy: 0.6536\n",
      "Epoch 9/20\n",
      "99/99 [==============================] - 2s 15ms/step - loss: 0.5956 - accuracy: 0.6739 - val_loss: 0.6222 - val_accuracy: 0.6482\n",
      "Epoch 00009: early stopping\n",
      "50/50 [==============================] - 1s 5ms/step\n",
      "[CV 2/3] END dropout_rate=0.5, learning_rate=0.001, node_type=lstm, nodes=[64, 64];, score=0.638 total time=  18.8s\n"
     ]
    },
    {
     "name": "stderr",
     "output_type": "stream",
     "text": [
      "WARNING:absl:Found untraced functions such as gru_cell_1_layer_call_fn, gru_cell_1_layer_call_and_return_conditional_losses, gru_cell_1_layer_call_fn, gru_cell_1_layer_call_and_return_conditional_losses, gru_cell_1_layer_call_and_return_conditional_losses while saving (showing 5 of 5). These functions will not be directly callable after loading.\n"
     ]
    },
    {
     "name": "stdout",
     "output_type": "stream",
     "text": [
      "INFO:tensorflow:Assets written to: C:\\Users\\jared\\AppData\\Local\\Temp\\tmpgq39ss0x\\assets\n"
     ]
    },
    {
     "name": "stderr",
     "output_type": "stream",
     "text": [
      "INFO:tensorflow:Assets written to: C:\\Users\\jared\\AppData\\Local\\Temp\\tmpgq39ss0x\\assets\n",
      "WARNING:absl:<keras.layers.recurrent.GRUCell object at 0x0000017E0BBDADF0> has the same name 'GRUCell' as a built-in Keras object. Consider renaming <class 'keras.layers.recurrent.GRUCell'> to avoid naming conflicts when loading with `tf.keras.models.load_model`. If renaming is not possible, pass the object in the `custom_objects` parameter of the load function.\n",
      "C:\\Users\\jared\\anaconda3\\envs\\tflow\\lib\\site-packages\\scikeras\\wrappers.py:289: UserWarning: ``build_fn`` will be renamed to ``model`` in a future release, at which point use of ``build_fn`` will raise an Error instead.\n",
      "  warnings.warn(\n"
     ]
    },
    {
     "name": "stdout",
     "output_type": "stream",
     "text": [
      "Epoch 1/20\n",
      "99/99 [==============================] - 4s 23ms/step - loss: 0.8412 - accuracy: 0.5463 - val_loss: 0.6722 - val_accuracy: 0.5706\n",
      "Epoch 2/20\n",
      "99/99 [==============================] - 2s 16ms/step - loss: 0.7349 - accuracy: 0.5777 - val_loss: 0.6502 - val_accuracy: 0.6073\n",
      "Epoch 3/20\n",
      "99/99 [==============================] - 2s 16ms/step - loss: 0.6868 - accuracy: 0.5938 - val_loss: 0.6316 - val_accuracy: 0.6365\n",
      "Epoch 4/20\n",
      "99/99 [==============================] - 2s 16ms/step - loss: 0.6493 - accuracy: 0.6287 - val_loss: 0.6217 - val_accuracy: 0.6494\n",
      "Epoch 5/20\n",
      "99/99 [==============================] - 2s 16ms/step - loss: 0.6295 - accuracy: 0.6391 - val_loss: 0.6235 - val_accuracy: 0.6502\n",
      "Epoch 6/20\n",
      "99/99 [==============================] - 2s 16ms/step - loss: 0.6202 - accuracy: 0.6533 - val_loss: 0.6220 - val_accuracy: 0.6473\n",
      "Epoch 7/20\n",
      "99/99 [==============================] - 2s 16ms/step - loss: 0.6128 - accuracy: 0.6599 - val_loss: 0.6143 - val_accuracy: 0.6549\n",
      "Epoch 8/20\n",
      "99/99 [==============================] - 2s 15ms/step - loss: 0.6056 - accuracy: 0.6689 - val_loss: 0.6091 - val_accuracy: 0.6645\n",
      "Epoch 9/20\n",
      "99/99 [==============================] - 2s 15ms/step - loss: 0.6019 - accuracy: 0.6701 - val_loss: 0.6209 - val_accuracy: 0.6571\n",
      "Epoch 10/20\n",
      "99/99 [==============================] - 2s 15ms/step - loss: 0.5984 - accuracy: 0.6732 - val_loss: 0.6187 - val_accuracy: 0.6584\n",
      "Epoch 11/20\n",
      "99/99 [==============================] - 2s 15ms/step - loss: 0.5975 - accuracy: 0.6734 - val_loss: 0.6186 - val_accuracy: 0.6512\n",
      "Epoch 00011: early stopping\n",
      "50/50 [==============================] - 1s 5ms/step\n",
      "[CV 3/3] END dropout_rate=0.5, learning_rate=0.001, node_type=lstm, nodes=[64, 64];, score=0.649 total time=  22.4s\n"
     ]
    },
    {
     "name": "stderr",
     "output_type": "stream",
     "text": [
      "WARNING:absl:Found untraced functions such as gru_cell_1_layer_call_fn, gru_cell_1_layer_call_and_return_conditional_losses, gru_cell_1_layer_call_fn, gru_cell_1_layer_call_and_return_conditional_losses, gru_cell_1_layer_call_and_return_conditional_losses while saving (showing 5 of 5). These functions will not be directly callable after loading.\n"
     ]
    },
    {
     "name": "stdout",
     "output_type": "stream",
     "text": [
      "INFO:tensorflow:Assets written to: C:\\Users\\jared\\AppData\\Local\\Temp\\tmpbt7i2prp\\assets\n"
     ]
    },
    {
     "name": "stderr",
     "output_type": "stream",
     "text": [
      "INFO:tensorflow:Assets written to: C:\\Users\\jared\\AppData\\Local\\Temp\\tmpbt7i2prp\\assets\n",
      "WARNING:absl:<keras.layers.recurrent.GRUCell object at 0x0000017E0BBDADF0> has the same name 'GRUCell' as a built-in Keras object. Consider renaming <class 'keras.layers.recurrent.GRUCell'> to avoid naming conflicts when loading with `tf.keras.models.load_model`. If renaming is not possible, pass the object in the `custom_objects` parameter of the load function.\n",
      "C:\\Users\\jared\\anaconda3\\envs\\tflow\\lib\\site-packages\\scikeras\\wrappers.py:289: UserWarning: ``build_fn`` will be renamed to ``model`` in a future release, at which point use of ``build_fn`` will raise an Error instead.\n",
      "  warnings.warn(\n"
     ]
    },
    {
     "name": "stdout",
     "output_type": "stream",
     "text": [
      "Epoch 1/20\n",
      "99/99 [==============================] - 5s 28ms/step - loss: 0.8695 - accuracy: 0.5193 - val_loss: 0.6795 - val_accuracy: 0.5727\n",
      "Epoch 2/20\n",
      "99/99 [==============================] - 2s 19ms/step - loss: 0.7639 - accuracy: 0.5483 - val_loss: 0.6630 - val_accuracy: 0.6038\n",
      "Epoch 3/20\n",
      "99/99 [==============================] - 2s 19ms/step - loss: 0.7132 - accuracy: 0.5730 - val_loss: 0.6472 - val_accuracy: 0.6234\n",
      "Epoch 4/20\n",
      "99/99 [==============================] - 2s 19ms/step - loss: 0.6776 - accuracy: 0.5975 - val_loss: 0.6393 - val_accuracy: 0.6323\n",
      "Epoch 5/20\n",
      "99/99 [==============================] - 2s 19ms/step - loss: 0.6575 - accuracy: 0.6127 - val_loss: 0.6304 - val_accuracy: 0.6396\n",
      "Epoch 6/20\n",
      "99/99 [==============================] - 2s 19ms/step - loss: 0.6444 - accuracy: 0.6288 - val_loss: 0.6283 - val_accuracy: 0.6445\n",
      "Epoch 7/20\n",
      "99/99 [==============================] - 2s 20ms/step - loss: 0.6348 - accuracy: 0.6408 - val_loss: 0.6263 - val_accuracy: 0.6457\n",
      "Epoch 8/20\n",
      "99/99 [==============================] - 2s 19ms/step - loss: 0.6287 - accuracy: 0.6476 - val_loss: 0.6219 - val_accuracy: 0.6547\n",
      "Epoch 9/20\n",
      "99/99 [==============================] - 2s 19ms/step - loss: 0.6209 - accuracy: 0.6523 - val_loss: 0.6293 - val_accuracy: 0.6427\n",
      "Epoch 10/20\n",
      "99/99 [==============================] - 2s 20ms/step - loss: 0.6200 - accuracy: 0.6591 - val_loss: 0.6225 - val_accuracy: 0.6539\n",
      "Epoch 11/20\n",
      "99/99 [==============================] - 2s 19ms/step - loss: 0.6121 - accuracy: 0.6628 - val_loss: 0.6283 - val_accuracy: 0.6487\n",
      "Epoch 00011: early stopping\n",
      "50/50 [==============================] - 1s 7ms/step\n",
      "[CV 1/3] END dropout_rate=0.5, learning_rate=0.001, node_type=lstm, nodes=[32, 32, 32];, score=0.636 total time=  27.6s\n"
     ]
    },
    {
     "name": "stderr",
     "output_type": "stream",
     "text": [
      "WARNING:absl:Found untraced functions such as gru_cell_1_layer_call_fn, gru_cell_1_layer_call_and_return_conditional_losses, gru_cell_1_layer_call_fn, gru_cell_1_layer_call_and_return_conditional_losses, gru_cell_1_layer_call_and_return_conditional_losses while saving (showing 5 of 5). These functions will not be directly callable after loading.\n"
     ]
    },
    {
     "name": "stdout",
     "output_type": "stream",
     "text": [
      "INFO:tensorflow:Assets written to: C:\\Users\\jared\\AppData\\Local\\Temp\\tmp830gearp\\assets\n"
     ]
    },
    {
     "name": "stderr",
     "output_type": "stream",
     "text": [
      "INFO:tensorflow:Assets written to: C:\\Users\\jared\\AppData\\Local\\Temp\\tmp830gearp\\assets\n",
      "WARNING:absl:<keras.layers.recurrent.GRUCell object at 0x0000017E0BBDADF0> has the same name 'GRUCell' as a built-in Keras object. Consider renaming <class 'keras.layers.recurrent.GRUCell'> to avoid naming conflicts when loading with `tf.keras.models.load_model`. If renaming is not possible, pass the object in the `custom_objects` parameter of the load function.\n",
      "C:\\Users\\jared\\anaconda3\\envs\\tflow\\lib\\site-packages\\scikeras\\wrappers.py:289: UserWarning: ``build_fn`` will be renamed to ``model`` in a future release, at which point use of ``build_fn`` will raise an Error instead.\n",
      "  warnings.warn(\n"
     ]
    },
    {
     "name": "stdout",
     "output_type": "stream",
     "text": [
      "Epoch 1/20\n",
      "99/99 [==============================] - 6s 29ms/step - loss: 0.9146 - accuracy: 0.5130 - val_loss: 0.6748 - val_accuracy: 0.5753\n",
      "Epoch 2/20\n",
      "99/99 [==============================] - 2s 19ms/step - loss: 0.7894 - accuracy: 0.5379 - val_loss: 0.6610 - val_accuracy: 0.5963\n",
      "Epoch 3/20\n",
      "99/99 [==============================] - 2s 19ms/step - loss: 0.7189 - accuracy: 0.5658 - val_loss: 0.6494 - val_accuracy: 0.6090\n",
      "Epoch 4/20\n",
      "99/99 [==============================] - 2s 19ms/step - loss: 0.6835 - accuracy: 0.5937 - val_loss: 0.6382 - val_accuracy: 0.6328\n",
      "Epoch 5/20\n",
      "99/99 [==============================] - 2s 20ms/step - loss: 0.6597 - accuracy: 0.6129 - val_loss: 0.6324 - val_accuracy: 0.6427\n",
      "Epoch 6/20\n",
      "99/99 [==============================] - 2s 20ms/step - loss: 0.6452 - accuracy: 0.6265 - val_loss: 0.6267 - val_accuracy: 0.6480\n",
      "Epoch 7/20\n",
      "99/99 [==============================] - 2s 19ms/step - loss: 0.6349 - accuracy: 0.6443 - val_loss: 0.6235 - val_accuracy: 0.6499\n",
      "Epoch 8/20\n",
      "99/99 [==============================] - 2s 19ms/step - loss: 0.6296 - accuracy: 0.6452 - val_loss: 0.6212 - val_accuracy: 0.6502\n",
      "Epoch 9/20\n",
      "99/99 [==============================] - 2s 19ms/step - loss: 0.6218 - accuracy: 0.6538 - val_loss: 0.6194 - val_accuracy: 0.6536\n",
      "Epoch 10/20\n",
      "99/99 [==============================] - 2s 20ms/step - loss: 0.6177 - accuracy: 0.6568 - val_loss: 0.6169 - val_accuracy: 0.6549\n",
      "Epoch 11/20\n",
      "99/99 [==============================] - 2s 19ms/step - loss: 0.6145 - accuracy: 0.6611 - val_loss: 0.6180 - val_accuracy: 0.6608\n",
      "Epoch 12/20\n",
      "99/99 [==============================] - 2s 19ms/step - loss: 0.6082 - accuracy: 0.6688 - val_loss: 0.6230 - val_accuracy: 0.6547\n",
      "Epoch 13/20\n",
      "99/99 [==============================] - 2s 19ms/step - loss: 0.6077 - accuracy: 0.6643 - val_loss: 0.6208 - val_accuracy: 0.6512\n",
      "Epoch 00013: early stopping\n",
      "50/50 [==============================] - 1s 7ms/step\n",
      "[CV 2/3] END dropout_rate=0.5, learning_rate=0.001, node_type=lstm, nodes=[32, 32, 32];, score=0.644 total time=  31.5s\n"
     ]
    },
    {
     "name": "stderr",
     "output_type": "stream",
     "text": [
      "WARNING:absl:Found untraced functions such as gru_cell_1_layer_call_fn, gru_cell_1_layer_call_and_return_conditional_losses, gru_cell_1_layer_call_fn, gru_cell_1_layer_call_and_return_conditional_losses, gru_cell_1_layer_call_and_return_conditional_losses while saving (showing 5 of 5). These functions will not be directly callable after loading.\n"
     ]
    },
    {
     "name": "stdout",
     "output_type": "stream",
     "text": [
      "INFO:tensorflow:Assets written to: C:\\Users\\jared\\AppData\\Local\\Temp\\tmp_kofvmbm\\assets\n"
     ]
    },
    {
     "name": "stderr",
     "output_type": "stream",
     "text": [
      "INFO:tensorflow:Assets written to: C:\\Users\\jared\\AppData\\Local\\Temp\\tmp_kofvmbm\\assets\n",
      "WARNING:absl:<keras.layers.recurrent.GRUCell object at 0x0000017E0BBDADF0> has the same name 'GRUCell' as a built-in Keras object. Consider renaming <class 'keras.layers.recurrent.GRUCell'> to avoid naming conflicts when loading with `tf.keras.models.load_model`. If renaming is not possible, pass the object in the `custom_objects` parameter of the load function.\n",
      "C:\\Users\\jared\\anaconda3\\envs\\tflow\\lib\\site-packages\\scikeras\\wrappers.py:289: UserWarning: ``build_fn`` will be renamed to ``model`` in a future release, at which point use of ``build_fn`` will raise an Error instead.\n",
      "  warnings.warn(\n"
     ]
    },
    {
     "name": "stdout",
     "output_type": "stream",
     "text": [
      "Epoch 1/20\n",
      "99/99 [==============================] - 6s 29ms/step - loss: 0.8594 - accuracy: 0.5221 - val_loss: 0.6794 - val_accuracy: 0.5699\n",
      "Epoch 2/20\n",
      "99/99 [==============================] - 2s 19ms/step - loss: 0.7492 - accuracy: 0.5505 - val_loss: 0.6679 - val_accuracy: 0.5889\n",
      "Epoch 3/20\n",
      "99/99 [==============================] - 2s 19ms/step - loss: 0.7032 - accuracy: 0.5762 - val_loss: 0.6475 - val_accuracy: 0.6175\n",
      "Epoch 4/20\n",
      "99/99 [==============================] - 2s 19ms/step - loss: 0.6759 - accuracy: 0.5987 - val_loss: 0.6366 - val_accuracy: 0.6360\n",
      "Epoch 5/20\n",
      "99/99 [==============================] - 2s 19ms/step - loss: 0.6571 - accuracy: 0.6204 - val_loss: 0.6381 - val_accuracy: 0.6360\n",
      "Epoch 6/20\n",
      "99/99 [==============================] - 2s 19ms/step - loss: 0.6409 - accuracy: 0.6366 - val_loss: 0.6326 - val_accuracy: 0.6423\n",
      "Epoch 7/20\n",
      "99/99 [==============================] - 2s 19ms/step - loss: 0.6341 - accuracy: 0.6440 - val_loss: 0.6249 - val_accuracy: 0.6533\n",
      "Epoch 8/20\n",
      "99/99 [==============================] - 2s 19ms/step - loss: 0.6271 - accuracy: 0.6504 - val_loss: 0.6281 - val_accuracy: 0.6549\n",
      "Epoch 9/20\n",
      "99/99 [==============================] - 2s 19ms/step - loss: 0.6213 - accuracy: 0.6592 - val_loss: 0.6203 - val_accuracy: 0.6530\n",
      "Epoch 10/20\n",
      "99/99 [==============================] - 2s 19ms/step - loss: 0.6190 - accuracy: 0.6546 - val_loss: 0.6341 - val_accuracy: 0.6493\n",
      "Epoch 11/20\n",
      "99/99 [==============================] - 2s 19ms/step - loss: 0.6140 - accuracy: 0.6646 - val_loss: 0.6215 - val_accuracy: 0.6584\n",
      "Epoch 12/20\n",
      "99/99 [==============================] - 2s 19ms/step - loss: 0.6093 - accuracy: 0.6669 - val_loss: 0.6201 - val_accuracy: 0.6578\n",
      "Epoch 13/20\n",
      "99/99 [==============================] - 2s 19ms/step - loss: 0.6069 - accuracy: 0.6680 - val_loss: 0.6184 - val_accuracy: 0.6536\n",
      "Epoch 14/20\n",
      "99/99 [==============================] - 2s 19ms/step - loss: 0.6015 - accuracy: 0.6749 - val_loss: 0.6254 - val_accuracy: 0.6592\n",
      "Epoch 15/20\n",
      "99/99 [==============================] - 2s 19ms/step - loss: 0.5949 - accuracy: 0.6825 - val_loss: 0.6264 - val_accuracy: 0.6512\n",
      "Epoch 16/20\n",
      "99/99 [==============================] - 2s 19ms/step - loss: 0.5958 - accuracy: 0.6833 - val_loss: 0.6281 - val_accuracy: 0.6538\n",
      "Epoch 00016: early stopping\n",
      "50/50 [==============================] - 1s 7ms/step\n",
      "[CV 3/3] END dropout_rate=0.5, learning_rate=0.001, node_type=lstm, nodes=[32, 32, 32];, score=0.652 total time=  37.2s\n"
     ]
    },
    {
     "name": "stderr",
     "output_type": "stream",
     "text": [
      "WARNING:absl:Found untraced functions such as gru_cell_1_layer_call_fn, gru_cell_1_layer_call_and_return_conditional_losses, gru_cell_1_layer_call_fn, gru_cell_1_layer_call_and_return_conditional_losses, gru_cell_1_layer_call_and_return_conditional_losses while saving (showing 5 of 5). These functions will not be directly callable after loading.\n"
     ]
    },
    {
     "name": "stdout",
     "output_type": "stream",
     "text": [
      "INFO:tensorflow:Assets written to: C:\\Users\\jared\\AppData\\Local\\Temp\\tmpqpuspmy3\\assets\n"
     ]
    },
    {
     "name": "stderr",
     "output_type": "stream",
     "text": [
      "INFO:tensorflow:Assets written to: C:\\Users\\jared\\AppData\\Local\\Temp\\tmpqpuspmy3\\assets\n",
      "WARNING:absl:<keras.layers.recurrent.GRUCell object at 0x0000017E0BBDADF0> has the same name 'GRUCell' as a built-in Keras object. Consider renaming <class 'keras.layers.recurrent.GRUCell'> to avoid naming conflicts when loading with `tf.keras.models.load_model`. If renaming is not possible, pass the object in the `custom_objects` parameter of the load function.\n",
      "C:\\Users\\jared\\anaconda3\\envs\\tflow\\lib\\site-packages\\scikeras\\wrappers.py:289: UserWarning: ``build_fn`` will be renamed to ``model`` in a future release, at which point use of ``build_fn`` will raise an Error instead.\n",
      "  warnings.warn(\n"
     ]
    },
    {
     "name": "stdout",
     "output_type": "stream",
     "text": [
      "Epoch 1/20\n",
      "99/99 [==============================] - 3s 17ms/step - loss: 0.8270 - accuracy: 0.5260 - val_loss: 0.6756 - val_accuracy: 0.5682\n",
      "Epoch 2/20\n",
      "99/99 [==============================] - 1s 12ms/step - loss: 0.7241 - accuracy: 0.5389 - val_loss: 0.6732 - val_accuracy: 0.5705\n",
      "Epoch 3/20\n",
      "99/99 [==============================] - 1s 12ms/step - loss: 0.6881 - accuracy: 0.5488 - val_loss: 0.6699 - val_accuracy: 0.5765\n",
      "Epoch 4/20\n",
      "99/99 [==============================] - 1s 12ms/step - loss: 0.6746 - accuracy: 0.5607 - val_loss: 0.6667 - val_accuracy: 0.5783\n",
      "Epoch 5/20\n",
      "99/99 [==============================] - 1s 12ms/step - loss: 0.6708 - accuracy: 0.5663 - val_loss: 0.6669 - val_accuracy: 0.5776\n",
      "Epoch 6/20\n",
      "99/99 [==============================] - 1s 12ms/step - loss: 0.6693 - accuracy: 0.5689 - val_loss: 0.6663 - val_accuracy: 0.5792\n",
      "Epoch 7/20\n",
      "99/99 [==============================] - 1s 12ms/step - loss: 0.6676 - accuracy: 0.5725 - val_loss: 0.6660 - val_accuracy: 0.5781\n",
      "Epoch 8/20\n",
      "99/99 [==============================] - 1s 12ms/step - loss: 0.6668 - accuracy: 0.5727 - val_loss: 0.6660 - val_accuracy: 0.5754\n",
      "Epoch 9/20\n",
      "99/99 [==============================] - 1s 11ms/step - loss: 0.6654 - accuracy: 0.5752 - val_loss: 0.6634 - val_accuracy: 0.5818\n",
      "Epoch 10/20\n",
      "99/99 [==============================] - 1s 12ms/step - loss: 0.6643 - accuracy: 0.5762 - val_loss: 0.6631 - val_accuracy: 0.5804\n",
      "Epoch 11/20\n",
      "99/99 [==============================] - 1s 12ms/step - loss: 0.6632 - accuracy: 0.5784 - val_loss: 0.6640 - val_accuracy: 0.5806\n",
      "Epoch 12/20\n",
      "99/99 [==============================] - 1s 12ms/step - loss: 0.6624 - accuracy: 0.5779 - val_loss: 0.6612 - val_accuracy: 0.5847\n",
      "Epoch 13/20\n",
      "99/99 [==============================] - 1s 12ms/step - loss: 0.6607 - accuracy: 0.5812 - val_loss: 0.6624 - val_accuracy: 0.5830\n",
      "Epoch 14/20\n",
      "99/99 [==============================] - 1s 11ms/step - loss: 0.6596 - accuracy: 0.5830 - val_loss: 0.6629 - val_accuracy: 0.5836\n",
      "Epoch 15/20\n",
      "99/99 [==============================] - 1s 12ms/step - loss: 0.6587 - accuracy: 0.5820 - val_loss: 0.6650 - val_accuracy: 0.5787\n",
      "Epoch 00015: early stopping\n",
      "50/50 [==============================] - 0s 4ms/step\n",
      "[CV 1/3] END dropout_rate=0.5, learning_rate=0.001, node_type=gru, nodes=[128];, score=nan total time=  21.0s\n"
     ]
    },
    {
     "name": "stderr",
     "output_type": "stream",
     "text": [
      "C:\\Users\\jared\\anaconda3\\envs\\tflow\\lib\\site-packages\\sklearn\\model_selection\\_validation.py:771: UserWarning: Scoring failed. The score on this train-test partition for these parameters will be set to nan. Details: \n",
      "Traceback (most recent call last):\n",
      "  File \"C:\\Users\\jared\\anaconda3\\envs\\tflow\\lib\\site-packages\\sklearn\\model_selection\\_validation.py\", line 762, in _score\n",
      "    scores = scorer(estimator, X_test, y_test)\n",
      "  File \"C:\\Users\\jared\\anaconda3\\envs\\tflow\\lib\\site-packages\\sklearn\\metrics\\_scorer.py\", line 216, in __call__\n",
      "    return self._score(\n",
      "  File \"C:\\Users\\jared\\anaconda3\\envs\\tflow\\lib\\site-packages\\sklearn\\metrics\\_scorer.py\", line 258, in _score\n",
      "    y_pred = method_caller(estimator, \"predict\", X)\n",
      "  File \"C:\\Users\\jared\\anaconda3\\envs\\tflow\\lib\\site-packages\\sklearn\\metrics\\_scorer.py\", line 68, in _cached_call\n",
      "    return getattr(estimator, method)(*args, **kwargs)\n",
      "  File \"C:\\Users\\jared\\anaconda3\\envs\\tflow\\lib\\site-packages\\scikeras\\wrappers.py\", line 1013, in predict\n",
      "    y_pred = self.target_encoder_.inverse_transform(y_pred)\n",
      "  File \"C:\\Users\\jared\\anaconda3\\envs\\tflow\\lib\\site-packages\\scikeras\\utils\\transformers.py\", line 257, in inverse_transform\n",
      "    class_predictions = self._final_encoder.inverse_transform(class_predictions)\n",
      "  File \"C:\\Users\\jared\\anaconda3\\envs\\tflow\\lib\\site-packages\\sklearn\\utils\\metaestimators.py\", line 113, in <lambda>\n",
      "    out = lambda *args, **kwargs: self.fn(obj, *args, **kwargs)  # noqa\n",
      "  File \"C:\\Users\\jared\\anaconda3\\envs\\tflow\\lib\\site-packages\\sklearn\\pipeline.py\", line 675, in inverse_transform\n",
      "    Xt = transform.inverse_transform(Xt)\n",
      "  File \"C:\\Users\\jared\\anaconda3\\envs\\tflow\\lib\\site-packages\\sklearn\\preprocessing\\_encoders.py\", line 990, in inverse_transform\n",
      "    X_tr[:, i] = self.categories_[i][labels]\n",
      "IndexError: index 53 is out of bounds for axis 0 with size 2\n",
      "\n",
      "  warnings.warn(\n",
      "WARNING:absl:Found untraced functions such as gru_cell_1_layer_call_fn, gru_cell_1_layer_call_and_return_conditional_losses, gru_cell_1_layer_call_fn, gru_cell_1_layer_call_and_return_conditional_losses, gru_cell_1_layer_call_and_return_conditional_losses while saving (showing 5 of 5). These functions will not be directly callable after loading.\n"
     ]
    },
    {
     "name": "stdout",
     "output_type": "stream",
     "text": [
      "INFO:tensorflow:Assets written to: C:\\Users\\jared\\AppData\\Local\\Temp\\tmprjgowl0h\\assets\n"
     ]
    },
    {
     "name": "stderr",
     "output_type": "stream",
     "text": [
      "INFO:tensorflow:Assets written to: C:\\Users\\jared\\AppData\\Local\\Temp\\tmprjgowl0h\\assets\n",
      "WARNING:absl:<keras.layers.recurrent.GRUCell object at 0x0000017E0BBDADF0> has the same name 'GRUCell' as a built-in Keras object. Consider renaming <class 'keras.layers.recurrent.GRUCell'> to avoid naming conflicts when loading with `tf.keras.models.load_model`. If renaming is not possible, pass the object in the `custom_objects` parameter of the load function.\n",
      "C:\\Users\\jared\\anaconda3\\envs\\tflow\\lib\\site-packages\\scikeras\\wrappers.py:289: UserWarning: ``build_fn`` will be renamed to ``model`` in a future release, at which point use of ``build_fn`` will raise an Error instead.\n",
      "  warnings.warn(\n"
     ]
    },
    {
     "name": "stdout",
     "output_type": "stream",
     "text": [
      "Epoch 1/20\n",
      "99/99 [==============================] - 3s 17ms/step - loss: 0.8042 - accuracy: 0.5257 - val_loss: 0.6763 - val_accuracy: 0.5645\n",
      "Epoch 2/20\n",
      "99/99 [==============================] - 1s 12ms/step - loss: 0.7143 - accuracy: 0.5393 - val_loss: 0.6729 - val_accuracy: 0.5726\n",
      "Epoch 3/20\n",
      "99/99 [==============================] - 1s 12ms/step - loss: 0.6833 - accuracy: 0.5524 - val_loss: 0.6696 - val_accuracy: 0.5768\n",
      "Epoch 4/20\n",
      "99/99 [==============================] - 1s 12ms/step - loss: 0.6731 - accuracy: 0.5646 - val_loss: 0.6675 - val_accuracy: 0.5763\n",
      "Epoch 5/20\n",
      "99/99 [==============================] - 1s 12ms/step - loss: 0.6693 - accuracy: 0.5697 - val_loss: 0.6671 - val_accuracy: 0.5716\n",
      "Epoch 6/20\n",
      "99/99 [==============================] - 1s 12ms/step - loss: 0.6676 - accuracy: 0.5728 - val_loss: 0.6654 - val_accuracy: 0.5782\n",
      "Epoch 7/20\n",
      "99/99 [==============================] - 1s 12ms/step - loss: 0.6664 - accuracy: 0.5736 - val_loss: 0.6646 - val_accuracy: 0.5776\n",
      "Epoch 8/20\n",
      "99/99 [==============================] - 1s 12ms/step - loss: 0.6651 - accuracy: 0.5762 - val_loss: 0.6636 - val_accuracy: 0.5776\n",
      "Epoch 9/20\n",
      "99/99 [==============================] - 1s 12ms/step - loss: 0.6626 - accuracy: 0.5791 - val_loss: 0.6645 - val_accuracy: 0.5780\n",
      "Epoch 10/20\n",
      "99/99 [==============================] - 1s 12ms/step - loss: 0.6626 - accuracy: 0.5783 - val_loss: 0.6636 - val_accuracy: 0.5803\n",
      "Epoch 11/20\n",
      "99/99 [==============================] - 1s 12ms/step - loss: 0.6602 - accuracy: 0.5812 - val_loss: 0.6645 - val_accuracy: 0.5805\n",
      "Epoch 00011: early stopping\n",
      "50/50 [==============================] - 0s 4ms/step\n",
      "[CV 2/3] END dropout_rate=0.5, learning_rate=0.001, node_type=gru, nodes=[128];, score=nan total time=  16.5s\n"
     ]
    },
    {
     "name": "stderr",
     "output_type": "stream",
     "text": [
      "C:\\Users\\jared\\anaconda3\\envs\\tflow\\lib\\site-packages\\sklearn\\model_selection\\_validation.py:771: UserWarning: Scoring failed. The score on this train-test partition for these parameters will be set to nan. Details: \n",
      "Traceback (most recent call last):\n",
      "  File \"C:\\Users\\jared\\anaconda3\\envs\\tflow\\lib\\site-packages\\sklearn\\model_selection\\_validation.py\", line 762, in _score\n",
      "    scores = scorer(estimator, X_test, y_test)\n",
      "  File \"C:\\Users\\jared\\anaconda3\\envs\\tflow\\lib\\site-packages\\sklearn\\metrics\\_scorer.py\", line 216, in __call__\n",
      "    return self._score(\n",
      "  File \"C:\\Users\\jared\\anaconda3\\envs\\tflow\\lib\\site-packages\\sklearn\\metrics\\_scorer.py\", line 258, in _score\n",
      "    y_pred = method_caller(estimator, \"predict\", X)\n",
      "  File \"C:\\Users\\jared\\anaconda3\\envs\\tflow\\lib\\site-packages\\sklearn\\metrics\\_scorer.py\", line 68, in _cached_call\n",
      "    return getattr(estimator, method)(*args, **kwargs)\n",
      "  File \"C:\\Users\\jared\\anaconda3\\envs\\tflow\\lib\\site-packages\\scikeras\\wrappers.py\", line 1013, in predict\n",
      "    y_pred = self.target_encoder_.inverse_transform(y_pred)\n",
      "  File \"C:\\Users\\jared\\anaconda3\\envs\\tflow\\lib\\site-packages\\scikeras\\utils\\transformers.py\", line 257, in inverse_transform\n",
      "    class_predictions = self._final_encoder.inverse_transform(class_predictions)\n",
      "  File \"C:\\Users\\jared\\anaconda3\\envs\\tflow\\lib\\site-packages\\sklearn\\utils\\metaestimators.py\", line 113, in <lambda>\n",
      "    out = lambda *args, **kwargs: self.fn(obj, *args, **kwargs)  # noqa\n",
      "  File \"C:\\Users\\jared\\anaconda3\\envs\\tflow\\lib\\site-packages\\sklearn\\pipeline.py\", line 675, in inverse_transform\n",
      "    Xt = transform.inverse_transform(Xt)\n",
      "  File \"C:\\Users\\jared\\anaconda3\\envs\\tflow\\lib\\site-packages\\sklearn\\preprocessing\\_encoders.py\", line 990, in inverse_transform\n",
      "    X_tr[:, i] = self.categories_[i][labels]\n",
      "IndexError: index 57 is out of bounds for axis 0 with size 2\n",
      "\n",
      "  warnings.warn(\n",
      "WARNING:absl:Found untraced functions such as gru_cell_1_layer_call_fn, gru_cell_1_layer_call_and_return_conditional_losses, gru_cell_1_layer_call_fn, gru_cell_1_layer_call_and_return_conditional_losses, gru_cell_1_layer_call_and_return_conditional_losses while saving (showing 5 of 5). These functions will not be directly callable after loading.\n"
     ]
    },
    {
     "name": "stdout",
     "output_type": "stream",
     "text": [
      "INFO:tensorflow:Assets written to: C:\\Users\\jared\\AppData\\Local\\Temp\\tmpkmibk81o\\assets\n"
     ]
    },
    {
     "name": "stderr",
     "output_type": "stream",
     "text": [
      "INFO:tensorflow:Assets written to: C:\\Users\\jared\\AppData\\Local\\Temp\\tmpkmibk81o\\assets\n",
      "WARNING:absl:<keras.layers.recurrent.GRUCell object at 0x0000017E0BBDADF0> has the same name 'GRUCell' as a built-in Keras object. Consider renaming <class 'keras.layers.recurrent.GRUCell'> to avoid naming conflicts when loading with `tf.keras.models.load_model`. If renaming is not possible, pass the object in the `custom_objects` parameter of the load function.\n",
      "C:\\Users\\jared\\anaconda3\\envs\\tflow\\lib\\site-packages\\scikeras\\wrappers.py:289: UserWarning: ``build_fn`` will be renamed to ``model`` in a future release, at which point use of ``build_fn`` will raise an Error instead.\n",
      "  warnings.warn(\n"
     ]
    },
    {
     "name": "stdout",
     "output_type": "stream",
     "text": [
      "Epoch 1/20\n",
      "99/99 [==============================] - 3s 17ms/step - loss: 0.8262 - accuracy: 0.5211 - val_loss: 0.6749 - val_accuracy: 0.5710\n",
      "Epoch 2/20\n",
      "99/99 [==============================] - 1s 11ms/step - loss: 0.7267 - accuracy: 0.5372 - val_loss: 0.6718 - val_accuracy: 0.5743\n",
      "Epoch 3/20\n",
      "99/99 [==============================] - 1s 11ms/step - loss: 0.6891 - accuracy: 0.5493 - val_loss: 0.6703 - val_accuracy: 0.5734\n",
      "Epoch 4/20\n",
      "99/99 [==============================] - 1s 11ms/step - loss: 0.6763 - accuracy: 0.5588 - val_loss: 0.6668 - val_accuracy: 0.5777\n",
      "Epoch 5/20\n",
      "99/99 [==============================] - 1s 11ms/step - loss: 0.6703 - accuracy: 0.5694 - val_loss: 0.6659 - val_accuracy: 0.5789\n",
      "Epoch 6/20\n",
      "99/99 [==============================] - 1s 12ms/step - loss: 0.6691 - accuracy: 0.5703 - val_loss: 0.6665 - val_accuracy: 0.5737\n",
      "Epoch 7/20\n",
      "99/99 [==============================] - 1s 12ms/step - loss: 0.6674 - accuracy: 0.5728 - val_loss: 0.6657 - val_accuracy: 0.5751\n",
      "Epoch 8/20\n",
      "99/99 [==============================] - 1s 12ms/step - loss: 0.6659 - accuracy: 0.5765 - val_loss: 0.6628 - val_accuracy: 0.5821\n",
      "Epoch 9/20\n",
      "99/99 [==============================] - 1s 12ms/step - loss: 0.6653 - accuracy: 0.5770 - val_loss: 0.6642 - val_accuracy: 0.5833\n",
      "Epoch 10/20\n",
      "99/99 [==============================] - 1s 12ms/step - loss: 0.6638 - accuracy: 0.5787 - val_loss: 0.6640 - val_accuracy: 0.5788\n",
      "Epoch 11/20\n",
      "99/99 [==============================] - 1s 12ms/step - loss: 0.6621 - accuracy: 0.5798 - val_loss: 0.6630 - val_accuracy: 0.5827\n",
      "Epoch 00011: early stopping\n",
      "50/50 [==============================] - 0s 4ms/step\n",
      "[CV 3/3] END dropout_rate=0.5, learning_rate=0.001, node_type=gru, nodes=[128];, score=nan total time=  16.7s\n"
     ]
    },
    {
     "name": "stderr",
     "output_type": "stream",
     "text": [
      "C:\\Users\\jared\\anaconda3\\envs\\tflow\\lib\\site-packages\\sklearn\\model_selection\\_validation.py:771: UserWarning: Scoring failed. The score on this train-test partition for these parameters will be set to nan. Details: \n",
      "Traceback (most recent call last):\n",
      "  File \"C:\\Users\\jared\\anaconda3\\envs\\tflow\\lib\\site-packages\\sklearn\\model_selection\\_validation.py\", line 762, in _score\n",
      "    scores = scorer(estimator, X_test, y_test)\n",
      "  File \"C:\\Users\\jared\\anaconda3\\envs\\tflow\\lib\\site-packages\\sklearn\\metrics\\_scorer.py\", line 216, in __call__\n",
      "    return self._score(\n",
      "  File \"C:\\Users\\jared\\anaconda3\\envs\\tflow\\lib\\site-packages\\sklearn\\metrics\\_scorer.py\", line 258, in _score\n",
      "    y_pred = method_caller(estimator, \"predict\", X)\n",
      "  File \"C:\\Users\\jared\\anaconda3\\envs\\tflow\\lib\\site-packages\\sklearn\\metrics\\_scorer.py\", line 68, in _cached_call\n",
      "    return getattr(estimator, method)(*args, **kwargs)\n",
      "  File \"C:\\Users\\jared\\anaconda3\\envs\\tflow\\lib\\site-packages\\scikeras\\wrappers.py\", line 1013, in predict\n",
      "    y_pred = self.target_encoder_.inverse_transform(y_pred)\n",
      "  File \"C:\\Users\\jared\\anaconda3\\envs\\tflow\\lib\\site-packages\\scikeras\\utils\\transformers.py\", line 257, in inverse_transform\n",
      "    class_predictions = self._final_encoder.inverse_transform(class_predictions)\n",
      "  File \"C:\\Users\\jared\\anaconda3\\envs\\tflow\\lib\\site-packages\\sklearn\\utils\\metaestimators.py\", line 113, in <lambda>\n",
      "    out = lambda *args, **kwargs: self.fn(obj, *args, **kwargs)  # noqa\n",
      "  File \"C:\\Users\\jared\\anaconda3\\envs\\tflow\\lib\\site-packages\\sklearn\\pipeline.py\", line 675, in inverse_transform\n",
      "    Xt = transform.inverse_transform(Xt)\n",
      "  File \"C:\\Users\\jared\\anaconda3\\envs\\tflow\\lib\\site-packages\\sklearn\\preprocessing\\_encoders.py\", line 990, in inverse_transform\n",
      "    X_tr[:, i] = self.categories_[i][labels]\n",
      "IndexError: index 59 is out of bounds for axis 0 with size 2\n",
      "\n",
      "  warnings.warn(\n",
      "WARNING:absl:Found untraced functions such as gru_cell_1_layer_call_fn, gru_cell_1_layer_call_and_return_conditional_losses, gru_cell_1_layer_call_fn, gru_cell_1_layer_call_and_return_conditional_losses, gru_cell_1_layer_call_and_return_conditional_losses while saving (showing 5 of 5). These functions will not be directly callable after loading.\n"
     ]
    },
    {
     "name": "stdout",
     "output_type": "stream",
     "text": [
      "INFO:tensorflow:Assets written to: C:\\Users\\jared\\AppData\\Local\\Temp\\tmpyogl8s8v\\assets\n"
     ]
    },
    {
     "name": "stderr",
     "output_type": "stream",
     "text": [
      "INFO:tensorflow:Assets written to: C:\\Users\\jared\\AppData\\Local\\Temp\\tmpyogl8s8v\\assets\n",
      "WARNING:absl:<keras.layers.recurrent.GRUCell object at 0x0000017E0BBDADF0> has the same name 'GRUCell' as a built-in Keras object. Consider renaming <class 'keras.layers.recurrent.GRUCell'> to avoid naming conflicts when loading with `tf.keras.models.load_model`. If renaming is not possible, pass the object in the `custom_objects` parameter of the load function.\n",
      "C:\\Users\\jared\\anaconda3\\envs\\tflow\\lib\\site-packages\\scikeras\\wrappers.py:289: UserWarning: ``build_fn`` will be renamed to ``model`` in a future release, at which point use of ``build_fn`` will raise an Error instead.\n",
      "  warnings.warn(\n"
     ]
    },
    {
     "name": "stdout",
     "output_type": "stream",
     "text": [
      "Epoch 1/20\n",
      "99/99 [==============================] - 4s 22ms/step - loss: 0.8630 - accuracy: 0.5477 - val_loss: 0.6482 - val_accuracy: 0.6142\n",
      "Epoch 2/20\n",
      "99/99 [==============================] - 1s 14ms/step - loss: 0.7471 - accuracy: 0.5720 - val_loss: 0.6389 - val_accuracy: 0.6224\n",
      "Epoch 3/20\n",
      "99/99 [==============================] - 1s 14ms/step - loss: 0.6884 - accuracy: 0.6032 - val_loss: 0.6406 - val_accuracy: 0.6182\n",
      "Epoch 4/20\n",
      "99/99 [==============================] - 1s 14ms/step - loss: 0.6588 - accuracy: 0.6185 - val_loss: 0.6195 - val_accuracy: 0.6613\n",
      "Epoch 5/20\n",
      "99/99 [==============================] - 1s 14ms/step - loss: 0.6397 - accuracy: 0.6337 - val_loss: 0.6203 - val_accuracy: 0.6541\n",
      "Epoch 6/20\n",
      "99/99 [==============================] - 1s 15ms/step - loss: 0.6316 - accuracy: 0.6372 - val_loss: 0.6279 - val_accuracy: 0.6473\n",
      "Epoch 7/20\n",
      "99/99 [==============================] - 1s 14ms/step - loss: 0.6226 - accuracy: 0.6500 - val_loss: 0.6172 - val_accuracy: 0.6534\n",
      "Epoch 8/20\n",
      "99/99 [==============================] - 1s 14ms/step - loss: 0.6149 - accuracy: 0.6575 - val_loss: 0.6113 - val_accuracy: 0.6667\n",
      "Epoch 9/20\n",
      "99/99 [==============================] - 1s 15ms/step - loss: 0.6107 - accuracy: 0.6614 - val_loss: 0.6093 - val_accuracy: 0.6628\n",
      "Epoch 10/20\n",
      "99/99 [==============================] - 1s 15ms/step - loss: 0.6087 - accuracy: 0.6666 - val_loss: 0.6144 - val_accuracy: 0.6588\n",
      "Epoch 11/20\n",
      "99/99 [==============================] - 1s 15ms/step - loss: 0.6095 - accuracy: 0.6653 - val_loss: 0.6346 - val_accuracy: 0.6353\n",
      "Epoch 12/20\n",
      "99/99 [==============================] - 1s 15ms/step - loss: 0.6026 - accuracy: 0.6671 - val_loss: 0.6101 - val_accuracy: 0.6628\n",
      "Epoch 00012: early stopping\n",
      "50/50 [==============================] - 1s 5ms/step\n",
      "[CV 1/3] END dropout_rate=0.5, learning_rate=0.001, node_type=gru, nodes=[64, 64];, score=0.651 total time=  22.2s\n"
     ]
    },
    {
     "name": "stderr",
     "output_type": "stream",
     "text": [
      "WARNING:absl:Found untraced functions such as gru_cell_1_layer_call_fn, gru_cell_1_layer_call_and_return_conditional_losses, gru_cell_1_layer_call_fn, gru_cell_1_layer_call_and_return_conditional_losses, gru_cell_1_layer_call_and_return_conditional_losses while saving (showing 5 of 5). These functions will not be directly callable after loading.\n"
     ]
    },
    {
     "name": "stdout",
     "output_type": "stream",
     "text": [
      "INFO:tensorflow:Assets written to: C:\\Users\\jared\\AppData\\Local\\Temp\\tmplika5emp\\assets\n"
     ]
    },
    {
     "name": "stderr",
     "output_type": "stream",
     "text": [
      "INFO:tensorflow:Assets written to: C:\\Users\\jared\\AppData\\Local\\Temp\\tmplika5emp\\assets\n",
      "WARNING:absl:<keras.layers.recurrent.GRUCell object at 0x0000017E0BBDADF0> has the same name 'GRUCell' as a built-in Keras object. Consider renaming <class 'keras.layers.recurrent.GRUCell'> to avoid naming conflicts when loading with `tf.keras.models.load_model`. If renaming is not possible, pass the object in the `custom_objects` parameter of the load function.\n",
      "C:\\Users\\jared\\anaconda3\\envs\\tflow\\lib\\site-packages\\scikeras\\wrappers.py:289: UserWarning: ``build_fn`` will be renamed to ``model`` in a future release, at which point use of ``build_fn`` will raise an Error instead.\n",
      "  warnings.warn(\n"
     ]
    },
    {
     "name": "stdout",
     "output_type": "stream",
     "text": [
      "Epoch 1/20\n",
      "99/99 [==============================] - 4s 22ms/step - loss: 0.8456 - accuracy: 0.5480 - val_loss: 0.6461 - val_accuracy: 0.6177\n",
      "Epoch 2/20\n",
      "99/99 [==============================] - 1s 14ms/step - loss: 0.7412 - accuracy: 0.5756 - val_loss: 0.6307 - val_accuracy: 0.6402\n",
      "Epoch 3/20\n",
      "99/99 [==============================] - 1s 14ms/step - loss: 0.6788 - accuracy: 0.6087 - val_loss: 0.6354 - val_accuracy: 0.6323\n",
      "Epoch 4/20\n",
      "99/99 [==============================] - 1s 14ms/step - loss: 0.6520 - accuracy: 0.6263 - val_loss: 0.6225 - val_accuracy: 0.6510\n",
      "Epoch 5/20\n",
      "99/99 [==============================] - 1s 14ms/step - loss: 0.6362 - accuracy: 0.6338 - val_loss: 0.6245 - val_accuracy: 0.6423\n",
      "Epoch 6/20\n",
      "99/99 [==============================] - 1s 14ms/step - loss: 0.6240 - accuracy: 0.6404 - val_loss: 0.6115 - val_accuracy: 0.6596\n",
      "Epoch 7/20\n",
      "99/99 [==============================] - 1s 14ms/step - loss: 0.6146 - accuracy: 0.6550 - val_loss: 0.6058 - val_accuracy: 0.6671\n",
      "Epoch 8/20\n",
      "99/99 [==============================] - 1s 14ms/step - loss: 0.6123 - accuracy: 0.6604 - val_loss: 0.6069 - val_accuracy: 0.6634\n",
      "Epoch 9/20\n",
      "99/99 [==============================] - 1s 15ms/step - loss: 0.6111 - accuracy: 0.6557 - val_loss: 0.6054 - val_accuracy: 0.6629\n",
      "Epoch 10/20\n",
      "99/99 [==============================] - 1s 14ms/step - loss: 0.6045 - accuracy: 0.6628 - val_loss: 0.6582 - val_accuracy: 0.6188\n",
      "Epoch 11/20\n",
      "99/99 [==============================] - 1s 15ms/step - loss: 0.6020 - accuracy: 0.6656 - val_loss: 0.6089 - val_accuracy: 0.6520\n",
      "Epoch 12/20\n",
      "99/99 [==============================] - 1s 14ms/step - loss: 0.5965 - accuracy: 0.6725 - val_loss: 0.6026 - val_accuracy: 0.6635\n",
      "Epoch 13/20\n",
      "99/99 [==============================] - 1s 14ms/step - loss: 0.5969 - accuracy: 0.6718 - val_loss: 0.6083 - val_accuracy: 0.6618\n",
      "Epoch 14/20\n",
      "99/99 [==============================] - 1s 14ms/step - loss: 0.5927 - accuracy: 0.6742 - val_loss: 0.6085 - val_accuracy: 0.6578\n",
      "Epoch 15/20\n",
      "99/99 [==============================] - 1s 14ms/step - loss: 0.5869 - accuracy: 0.6791 - val_loss: 0.6204 - val_accuracy: 0.6498\n",
      "Epoch 00015: early stopping\n",
      "50/50 [==============================] - 1s 5ms/step\n",
      "[CV 2/3] END dropout_rate=0.5, learning_rate=0.001, node_type=gru, nodes=[64, 64];, score=0.648 total time=  26.4s\n"
     ]
    },
    {
     "name": "stderr",
     "output_type": "stream",
     "text": [
      "WARNING:absl:Found untraced functions such as gru_cell_1_layer_call_fn, gru_cell_1_layer_call_and_return_conditional_losses, gru_cell_1_layer_call_fn, gru_cell_1_layer_call_and_return_conditional_losses, gru_cell_1_layer_call_and_return_conditional_losses while saving (showing 5 of 5). These functions will not be directly callable after loading.\n"
     ]
    },
    {
     "name": "stdout",
     "output_type": "stream",
     "text": [
      "INFO:tensorflow:Assets written to: C:\\Users\\jared\\AppData\\Local\\Temp\\tmp2sw49qc6\\assets\n"
     ]
    },
    {
     "name": "stderr",
     "output_type": "stream",
     "text": [
      "INFO:tensorflow:Assets written to: C:\\Users\\jared\\AppData\\Local\\Temp\\tmp2sw49qc6\\assets\n",
      "WARNING:absl:<keras.layers.recurrent.GRUCell object at 0x0000017E0BBDADF0> has the same name 'GRUCell' as a built-in Keras object. Consider renaming <class 'keras.layers.recurrent.GRUCell'> to avoid naming conflicts when loading with `tf.keras.models.load_model`. If renaming is not possible, pass the object in the `custom_objects` parameter of the load function.\n",
      "C:\\Users\\jared\\anaconda3\\envs\\tflow\\lib\\site-packages\\scikeras\\wrappers.py:289: UserWarning: ``build_fn`` will be renamed to ``model`` in a future release, at which point use of ``build_fn`` will raise an Error instead.\n",
      "  warnings.warn(\n"
     ]
    },
    {
     "name": "stdout",
     "output_type": "stream",
     "text": [
      "Epoch 1/20\n",
      "99/99 [==============================] - 4s 21ms/step - loss: 0.8795 - accuracy: 0.5500 - val_loss: 0.6500 - val_accuracy: 0.6075\n",
      "Epoch 2/20\n",
      "99/99 [==============================] - 1s 14ms/step - loss: 0.7585 - accuracy: 0.5796 - val_loss: 0.6336 - val_accuracy: 0.6370\n",
      "Epoch 3/20\n",
      "99/99 [==============================] - 1s 14ms/step - loss: 0.7034 - accuracy: 0.5922 - val_loss: 0.6268 - val_accuracy: 0.6448\n",
      "Epoch 4/20\n",
      "99/99 [==============================] - 1s 15ms/step - loss: 0.6591 - accuracy: 0.6204 - val_loss: 0.6443 - val_accuracy: 0.6168\n",
      "Epoch 5/20\n",
      "99/99 [==============================] - 1s 14ms/step - loss: 0.6374 - accuracy: 0.6353 - val_loss: 0.6151 - val_accuracy: 0.6515\n",
      "Epoch 6/20\n",
      "99/99 [==============================] - 1s 14ms/step - loss: 0.6282 - accuracy: 0.6507 - val_loss: 0.6285 - val_accuracy: 0.6398\n",
      "Epoch 7/20\n",
      "99/99 [==============================] - 1s 14ms/step - loss: 0.6173 - accuracy: 0.6575 - val_loss: 0.6173 - val_accuracy: 0.6600\n",
      "Epoch 8/20\n",
      "99/99 [==============================] - 1s 15ms/step - loss: 0.6151 - accuracy: 0.6613 - val_loss: 0.6086 - val_accuracy: 0.6641\n",
      "Epoch 9/20\n",
      "99/99 [==============================] - 1s 15ms/step - loss: 0.6115 - accuracy: 0.6618 - val_loss: 0.6069 - val_accuracy: 0.6637\n",
      "Epoch 10/20\n",
      "99/99 [==============================] - 1s 15ms/step - loss: 0.6059 - accuracy: 0.6673 - val_loss: 0.6107 - val_accuracy: 0.6547\n",
      "Epoch 11/20\n",
      "99/99 [==============================] - 1s 14ms/step - loss: 0.6051 - accuracy: 0.6664 - val_loss: 0.6027 - val_accuracy: 0.6700\n",
      "Epoch 12/20\n",
      "99/99 [==============================] - 1s 15ms/step - loss: 0.5981 - accuracy: 0.6686 - val_loss: 0.6127 - val_accuracy: 0.6573\n",
      "Epoch 13/20\n",
      "99/99 [==============================] - 1s 15ms/step - loss: 0.5969 - accuracy: 0.6757 - val_loss: 0.6083 - val_accuracy: 0.6594\n",
      "Epoch 14/20\n",
      "99/99 [==============================] - 1s 15ms/step - loss: 0.5958 - accuracy: 0.6737 - val_loss: 0.6038 - val_accuracy: 0.6692\n",
      "Epoch 00014: early stopping\n",
      "50/50 [==============================] - 1s 5ms/step\n",
      "[CV 3/3] END dropout_rate=0.5, learning_rate=0.001, node_type=gru, nodes=[64, 64];, score=0.652 total time=  24.9s\n"
     ]
    },
    {
     "name": "stderr",
     "output_type": "stream",
     "text": [
      "WARNING:absl:Found untraced functions such as gru_cell_1_layer_call_fn, gru_cell_1_layer_call_and_return_conditional_losses, gru_cell_1_layer_call_fn, gru_cell_1_layer_call_and_return_conditional_losses, gru_cell_1_layer_call_and_return_conditional_losses while saving (showing 5 of 5). These functions will not be directly callable after loading.\n"
     ]
    },
    {
     "name": "stdout",
     "output_type": "stream",
     "text": [
      "INFO:tensorflow:Assets written to: C:\\Users\\jared\\AppData\\Local\\Temp\\tmpvcfu4o8p\\assets\n"
     ]
    },
    {
     "name": "stderr",
     "output_type": "stream",
     "text": [
      "INFO:tensorflow:Assets written to: C:\\Users\\jared\\AppData\\Local\\Temp\\tmpvcfu4o8p\\assets\n",
      "WARNING:absl:<keras.layers.recurrent.GRUCell object at 0x0000017E0BBDADF0> has the same name 'GRUCell' as a built-in Keras object. Consider renaming <class 'keras.layers.recurrent.GRUCell'> to avoid naming conflicts when loading with `tf.keras.models.load_model`. If renaming is not possible, pass the object in the `custom_objects` parameter of the load function.\n",
      "C:\\Users\\jared\\anaconda3\\envs\\tflow\\lib\\site-packages\\scikeras\\wrappers.py:289: UserWarning: ``build_fn`` will be renamed to ``model`` in a future release, at which point use of ``build_fn`` will raise an Error instead.\n",
      "  warnings.warn(\n"
     ]
    },
    {
     "name": "stdout",
     "output_type": "stream",
     "text": [
      "Epoch 1/20\n",
      "99/99 [==============================] - 5s 28ms/step - loss: 0.8756 - accuracy: 0.5308 - val_loss: 0.6624 - val_accuracy: 0.6036\n",
      "Epoch 2/20\n",
      "99/99 [==============================] - 2s 20ms/step - loss: 0.7685 - accuracy: 0.5496 - val_loss: 0.6413 - val_accuracy: 0.6281\n",
      "Epoch 3/20\n",
      "99/99 [==============================] - 2s 20ms/step - loss: 0.7136 - accuracy: 0.5755 - val_loss: 0.6374 - val_accuracy: 0.6334\n",
      "Epoch 4/20\n",
      "99/99 [==============================] - 2s 20ms/step - loss: 0.6780 - accuracy: 0.5978 - val_loss: 0.6314 - val_accuracy: 0.6468\n",
      "Epoch 5/20\n",
      "99/99 [==============================] - 2s 18ms/step - loss: 0.6568 - accuracy: 0.6181 - val_loss: 0.6248 - val_accuracy: 0.6561\n",
      "Epoch 6/20\n",
      "99/99 [==============================] - 2s 19ms/step - loss: 0.6428 - accuracy: 0.6355 - val_loss: 0.6221 - val_accuracy: 0.6628\n",
      "Epoch 7/20\n",
      "99/99 [==============================] - 2s 19ms/step - loss: 0.6349 - accuracy: 0.6395 - val_loss: 0.6337 - val_accuracy: 0.6465\n",
      "Epoch 8/20\n",
      "99/99 [==============================] - 2s 19ms/step - loss: 0.6321 - accuracy: 0.6483 - val_loss: 0.6727 - val_accuracy: 0.6169\n",
      "Epoch 9/20\n",
      "99/99 [==============================] - 2s 19ms/step - loss: 0.6303 - accuracy: 0.6502 - val_loss: 0.6218 - val_accuracy: 0.6652\n",
      "Epoch 10/20\n",
      "99/99 [==============================] - 2s 19ms/step - loss: 0.6246 - accuracy: 0.6533 - val_loss: 0.6348 - val_accuracy: 0.6441\n",
      "Epoch 11/20\n",
      "99/99 [==============================] - 2s 19ms/step - loss: 0.6219 - accuracy: 0.6604 - val_loss: 0.6154 - val_accuracy: 0.6663\n",
      "Epoch 12/20\n",
      "99/99 [==============================] - 2s 18ms/step - loss: 0.6212 - accuracy: 0.6580 - val_loss: 0.6136 - val_accuracy: 0.6687\n",
      "Epoch 13/20\n",
      "99/99 [==============================] - 2s 19ms/step - loss: 0.6187 - accuracy: 0.6662 - val_loss: 0.6208 - val_accuracy: 0.6581\n",
      "Epoch 14/20\n",
      "99/99 [==============================] - 2s 19ms/step - loss: 0.6153 - accuracy: 0.6598 - val_loss: 0.6113 - val_accuracy: 0.6687\n",
      "Epoch 15/20\n",
      "99/99 [==============================] - 2s 19ms/step - loss: 0.6110 - accuracy: 0.6617 - val_loss: 0.6226 - val_accuracy: 0.6635\n",
      "Epoch 16/20\n",
      "99/99 [==============================] - 2s 19ms/step - loss: 0.6130 - accuracy: 0.6625 - val_loss: 0.6125 - val_accuracy: 0.6668\n",
      "Epoch 17/20\n",
      "99/99 [==============================] - 2s 18ms/step - loss: 0.6070 - accuracy: 0.6698 - val_loss: 0.6111 - val_accuracy: 0.6705\n",
      "Epoch 18/20\n",
      "99/99 [==============================] - 2s 19ms/step - loss: 0.6088 - accuracy: 0.6625 - val_loss: 0.6180 - val_accuracy: 0.6544\n",
      "Epoch 19/20\n",
      "99/99 [==============================] - 2s 19ms/step - loss: 0.6029 - accuracy: 0.6733 - val_loss: 0.6159 - val_accuracy: 0.6667\n",
      "Epoch 20/20\n",
      "99/99 [==============================] - 2s 19ms/step - loss: 0.6013 - accuracy: 0.6734 - val_loss: 0.6193 - val_accuracy: 0.6612\n",
      "Epoch 00020: early stopping\n",
      "50/50 [==============================] - 1s 6ms/step\n",
      "[CV 1/3] END dropout_rate=0.5, learning_rate=0.001, node_type=gru, nodes=[32, 32, 32];, score=0.653 total time=  43.6s\n"
     ]
    },
    {
     "name": "stderr",
     "output_type": "stream",
     "text": [
      "WARNING:absl:Found untraced functions such as gru_cell_1_layer_call_fn, gru_cell_1_layer_call_and_return_conditional_losses, gru_cell_1_layer_call_fn, gru_cell_1_layer_call_and_return_conditional_losses, gru_cell_1_layer_call_and_return_conditional_losses while saving (showing 5 of 5). These functions will not be directly callable after loading.\n"
     ]
    },
    {
     "name": "stdout",
     "output_type": "stream",
     "text": [
      "INFO:tensorflow:Assets written to: C:\\Users\\jared\\AppData\\Local\\Temp\\tmpv579qtkx\\assets\n"
     ]
    },
    {
     "name": "stderr",
     "output_type": "stream",
     "text": [
      "INFO:tensorflow:Assets written to: C:\\Users\\jared\\AppData\\Local\\Temp\\tmpv579qtkx\\assets\n",
      "WARNING:absl:<keras.layers.recurrent.GRUCell object at 0x0000017E0BBDADF0> has the same name 'GRUCell' as a built-in Keras object. Consider renaming <class 'keras.layers.recurrent.GRUCell'> to avoid naming conflicts when loading with `tf.keras.models.load_model`. If renaming is not possible, pass the object in the `custom_objects` parameter of the load function.\n",
      "C:\\Users\\jared\\anaconda3\\envs\\tflow\\lib\\site-packages\\scikeras\\wrappers.py:289: UserWarning: ``build_fn`` will be renamed to ``model`` in a future release, at which point use of ``build_fn`` will raise an Error instead.\n",
      "  warnings.warn(\n"
     ]
    },
    {
     "name": "stdout",
     "output_type": "stream",
     "text": [
      "Epoch 1/20\n",
      "99/99 [==============================] - 5s 26ms/step - loss: 0.8586 - accuracy: 0.5368 - val_loss: 0.6562 - val_accuracy: 0.6188\n",
      "Epoch 2/20\n",
      "99/99 [==============================] - 2s 18ms/step - loss: 0.7455 - accuracy: 0.5653 - val_loss: 0.6449 - val_accuracy: 0.6150\n",
      "Epoch 3/20\n",
      "99/99 [==============================] - 2s 18ms/step - loss: 0.6980 - accuracy: 0.5848 - val_loss: 0.6302 - val_accuracy: 0.6399\n",
      "Epoch 4/20\n",
      "99/99 [==============================] - 2s 18ms/step - loss: 0.6723 - accuracy: 0.6008 - val_loss: 0.6295 - val_accuracy: 0.6480\n",
      "Epoch 5/20\n",
      "99/99 [==============================] - 2s 18ms/step - loss: 0.6506 - accuracy: 0.6258 - val_loss: 0.6265 - val_accuracy: 0.6430\n",
      "Epoch 6/20\n",
      "99/99 [==============================] - 2s 19ms/step - loss: 0.6398 - accuracy: 0.6371 - val_loss: 0.6195 - val_accuracy: 0.6598\n",
      "Epoch 7/20\n",
      "99/99 [==============================] - 2s 19ms/step - loss: 0.6364 - accuracy: 0.6431 - val_loss: 0.6214 - val_accuracy: 0.6581\n",
      "Epoch 8/20\n",
      "99/99 [==============================] - 2s 19ms/step - loss: 0.6254 - accuracy: 0.6481 - val_loss: 0.6151 - val_accuracy: 0.6591\n",
      "Epoch 9/20\n",
      "99/99 [==============================] - 2s 19ms/step - loss: 0.6220 - accuracy: 0.6548 - val_loss: 0.6094 - val_accuracy: 0.6621\n",
      "Epoch 10/20\n",
      "99/99 [==============================] - 2s 18ms/step - loss: 0.6205 - accuracy: 0.6571 - val_loss: 0.6130 - val_accuracy: 0.6634\n",
      "Epoch 11/20\n",
      "99/99 [==============================] - 2s 18ms/step - loss: 0.6156 - accuracy: 0.6622 - val_loss: 0.6203 - val_accuracy: 0.6596\n",
      "Epoch 12/20\n",
      "99/99 [==============================] - 2s 19ms/step - loss: 0.6141 - accuracy: 0.6608 - val_loss: 0.6268 - val_accuracy: 0.6408\n",
      "Epoch 00012: early stopping\n",
      "50/50 [==============================] - 1s 6ms/step\n",
      "[CV 2/3] END dropout_rate=0.5, learning_rate=0.001, node_type=gru, nodes=[32, 32, 32];, score=0.643 total time=  28.3s\n"
     ]
    },
    {
     "name": "stderr",
     "output_type": "stream",
     "text": [
      "WARNING:absl:Found untraced functions such as gru_cell_1_layer_call_fn, gru_cell_1_layer_call_and_return_conditional_losses, gru_cell_1_layer_call_fn, gru_cell_1_layer_call_and_return_conditional_losses, gru_cell_1_layer_call_and_return_conditional_losses while saving (showing 5 of 5). These functions will not be directly callable after loading.\n"
     ]
    },
    {
     "name": "stdout",
     "output_type": "stream",
     "text": [
      "INFO:tensorflow:Assets written to: C:\\Users\\jared\\AppData\\Local\\Temp\\tmphd7ktetm\\assets\n"
     ]
    },
    {
     "name": "stderr",
     "output_type": "stream",
     "text": [
      "INFO:tensorflow:Assets written to: C:\\Users\\jared\\AppData\\Local\\Temp\\tmphd7ktetm\\assets\n",
      "WARNING:absl:<keras.layers.recurrent.GRUCell object at 0x0000017E0BBDADF0> has the same name 'GRUCell' as a built-in Keras object. Consider renaming <class 'keras.layers.recurrent.GRUCell'> to avoid naming conflicts when loading with `tf.keras.models.load_model`. If renaming is not possible, pass the object in the `custom_objects` parameter of the load function.\n",
      "C:\\Users\\jared\\anaconda3\\envs\\tflow\\lib\\site-packages\\scikeras\\wrappers.py:289: UserWarning: ``build_fn`` will be renamed to ``model`` in a future release, at which point use of ``build_fn`` will raise an Error instead.\n",
      "  warnings.warn(\n"
     ]
    },
    {
     "name": "stdout",
     "output_type": "stream",
     "text": [
      "Epoch 1/20\n",
      "99/99 [==============================] - 5s 27ms/step - loss: 0.9248 - accuracy: 0.5275 - val_loss: 0.6634 - val_accuracy: 0.5997\n",
      "Epoch 2/20\n",
      "99/99 [==============================] - 2s 18ms/step - loss: 0.7902 - accuracy: 0.5473 - val_loss: 0.6449 - val_accuracy: 0.6238\n",
      "Epoch 3/20\n",
      "99/99 [==============================] - 2s 18ms/step - loss: 0.7294 - accuracy: 0.5685 - val_loss: 0.6399 - val_accuracy: 0.6390\n",
      "Epoch 4/20\n",
      "99/99 [==============================] - 2s 18ms/step - loss: 0.6857 - accuracy: 0.5951 - val_loss: 0.6403 - val_accuracy: 0.6451\n",
      "Epoch 5/20\n",
      "99/99 [==============================] - 2s 18ms/step - loss: 0.6656 - accuracy: 0.6155 - val_loss: 0.6323 - val_accuracy: 0.6523\n",
      "Epoch 6/20\n",
      "99/99 [==============================] - 2s 18ms/step - loss: 0.6443 - accuracy: 0.6382 - val_loss: 0.6462 - val_accuracy: 0.6566\n",
      "Epoch 7/20\n",
      "99/99 [==============================] - 2s 18ms/step - loss: 0.6387 - accuracy: 0.6424 - val_loss: 0.6372 - val_accuracy: 0.6412\n",
      "Epoch 8/20\n",
      "99/99 [==============================] - 2s 18ms/step - loss: 0.6348 - accuracy: 0.6519 - val_loss: 0.6456 - val_accuracy: 0.6394\n",
      "Epoch 00008: early stopping\n",
      "50/50 [==============================] - 1s 7ms/step\n",
      "[CV 3/3] END dropout_rate=0.5, learning_rate=0.001, node_type=gru, nodes=[32, 32, 32];, score=0.642 total time=  20.5s\n"
     ]
    },
    {
     "name": "stderr",
     "output_type": "stream",
     "text": [
      "WARNING:absl:Found untraced functions such as gru_cell_1_layer_call_fn, gru_cell_1_layer_call_and_return_conditional_losses, gru_cell_1_layer_call_fn, gru_cell_1_layer_call_and_return_conditional_losses, gru_cell_1_layer_call_and_return_conditional_losses while saving (showing 5 of 5). These functions will not be directly callable after loading.\n"
     ]
    },
    {
     "name": "stdout",
     "output_type": "stream",
     "text": [
      "INFO:tensorflow:Assets written to: C:\\Users\\jared\\AppData\\Local\\Temp\\tmpsbk5eghj\\assets\n"
     ]
    },
    {
     "name": "stderr",
     "output_type": "stream",
     "text": [
      "INFO:tensorflow:Assets written to: C:\\Users\\jared\\AppData\\Local\\Temp\\tmpsbk5eghj\\assets\n",
      "WARNING:absl:<keras.layers.recurrent.GRUCell object at 0x0000017E0BBDADF0> has the same name 'GRUCell' as a built-in Keras object. Consider renaming <class 'keras.layers.recurrent.GRUCell'> to avoid naming conflicts when loading with `tf.keras.models.load_model`. If renaming is not possible, pass the object in the `custom_objects` parameter of the load function.\n",
      "C:\\Users\\jared\\anaconda3\\envs\\tflow\\lib\\site-packages\\scikeras\\wrappers.py:289: UserWarning: ``build_fn`` will be renamed to ``model`` in a future release, at which point use of ``build_fn`` will raise an Error instead.\n",
      "  warnings.warn(\n"
     ]
    },
    {
     "name": "stdout",
     "output_type": "stream",
     "text": [
      "Epoch 1/20\n",
      "99/99 [==============================] - 3s 18ms/step - loss: 0.7426 - accuracy: 0.5182 - val_loss: 0.6879 - val_accuracy: 0.5382\n",
      "Epoch 2/20\n",
      "99/99 [==============================] - 1s 12ms/step - loss: 0.6819 - accuracy: 0.5467 - val_loss: 0.6784 - val_accuracy: 0.5675\n",
      "Epoch 3/20\n",
      "99/99 [==============================] - 1s 12ms/step - loss: 0.6773 - accuracy: 0.5580 - val_loss: 0.6765 - val_accuracy: 0.5610\n",
      "Epoch 4/20\n",
      "99/99 [==============================] - 1s 12ms/step - loss: 0.6752 - accuracy: 0.5608 - val_loss: 0.6758 - val_accuracy: 0.5682\n",
      "Epoch 5/20\n",
      "99/99 [==============================] - 1s 12ms/step - loss: 0.6742 - accuracy: 0.5648 - val_loss: 0.6682 - val_accuracy: 0.5702\n",
      "Epoch 6/20\n",
      "99/99 [==============================] - 1s 12ms/step - loss: 0.6716 - accuracy: 0.5672 - val_loss: 0.6701 - val_accuracy: 0.5715\n",
      "Epoch 7/20\n",
      "99/99 [==============================] - 1s 12ms/step - loss: 0.6694 - accuracy: 0.5701 - val_loss: 0.6698 - val_accuracy: 0.5719\n",
      "Epoch 8/20\n",
      "99/99 [==============================] - 1s 12ms/step - loss: 0.6680 - accuracy: 0.5722 - val_loss: 0.6707 - val_accuracy: 0.5718\n",
      "Epoch 00008: early stopping\n",
      "50/50 [==============================] - 0s 4ms/step\n",
      "[CV 1/3] END dropout_rate=0.5, learning_rate=0.01, node_type=lstm, nodes=[128];, score=nan total time=  13.7s\n"
     ]
    },
    {
     "name": "stderr",
     "output_type": "stream",
     "text": [
      "C:\\Users\\jared\\anaconda3\\envs\\tflow\\lib\\site-packages\\sklearn\\model_selection\\_validation.py:771: UserWarning: Scoring failed. The score on this train-test partition for these parameters will be set to nan. Details: \n",
      "Traceback (most recent call last):\n",
      "  File \"C:\\Users\\jared\\anaconda3\\envs\\tflow\\lib\\site-packages\\sklearn\\model_selection\\_validation.py\", line 762, in _score\n",
      "    scores = scorer(estimator, X_test, y_test)\n",
      "  File \"C:\\Users\\jared\\anaconda3\\envs\\tflow\\lib\\site-packages\\sklearn\\metrics\\_scorer.py\", line 216, in __call__\n",
      "    return self._score(\n",
      "  File \"C:\\Users\\jared\\anaconda3\\envs\\tflow\\lib\\site-packages\\sklearn\\metrics\\_scorer.py\", line 258, in _score\n",
      "    y_pred = method_caller(estimator, \"predict\", X)\n",
      "  File \"C:\\Users\\jared\\anaconda3\\envs\\tflow\\lib\\site-packages\\sklearn\\metrics\\_scorer.py\", line 68, in _cached_call\n",
      "    return getattr(estimator, method)(*args, **kwargs)\n",
      "  File \"C:\\Users\\jared\\anaconda3\\envs\\tflow\\lib\\site-packages\\scikeras\\wrappers.py\", line 1013, in predict\n",
      "    y_pred = self.target_encoder_.inverse_transform(y_pred)\n",
      "  File \"C:\\Users\\jared\\anaconda3\\envs\\tflow\\lib\\site-packages\\scikeras\\utils\\transformers.py\", line 257, in inverse_transform\n",
      "    class_predictions = self._final_encoder.inverse_transform(class_predictions)\n",
      "  File \"C:\\Users\\jared\\anaconda3\\envs\\tflow\\lib\\site-packages\\sklearn\\utils\\metaestimators.py\", line 113, in <lambda>\n",
      "    out = lambda *args, **kwargs: self.fn(obj, *args, **kwargs)  # noqa\n",
      "  File \"C:\\Users\\jared\\anaconda3\\envs\\tflow\\lib\\site-packages\\sklearn\\pipeline.py\", line 675, in inverse_transform\n",
      "    Xt = transform.inverse_transform(Xt)\n",
      "  File \"C:\\Users\\jared\\anaconda3\\envs\\tflow\\lib\\site-packages\\sklearn\\preprocessing\\_encoders.py\", line 990, in inverse_transform\n",
      "    X_tr[:, i] = self.categories_[i][labels]\n",
      "IndexError: index 34 is out of bounds for axis 0 with size 2\n",
      "\n",
      "  warnings.warn(\n",
      "WARNING:absl:Found untraced functions such as gru_cell_1_layer_call_fn, gru_cell_1_layer_call_and_return_conditional_losses, gru_cell_1_layer_call_fn, gru_cell_1_layer_call_and_return_conditional_losses, gru_cell_1_layer_call_and_return_conditional_losses while saving (showing 5 of 5). These functions will not be directly callable after loading.\n"
     ]
    },
    {
     "name": "stdout",
     "output_type": "stream",
     "text": [
      "INFO:tensorflow:Assets written to: C:\\Users\\jared\\AppData\\Local\\Temp\\tmp7l6epty1\\assets\n"
     ]
    },
    {
     "name": "stderr",
     "output_type": "stream",
     "text": [
      "INFO:tensorflow:Assets written to: C:\\Users\\jared\\AppData\\Local\\Temp\\tmp7l6epty1\\assets\n",
      "WARNING:absl:<keras.layers.recurrent.GRUCell object at 0x0000017E0BBDADF0> has the same name 'GRUCell' as a built-in Keras object. Consider renaming <class 'keras.layers.recurrent.GRUCell'> to avoid naming conflicts when loading with `tf.keras.models.load_model`. If renaming is not possible, pass the object in the `custom_objects` parameter of the load function.\n",
      "C:\\Users\\jared\\anaconda3\\envs\\tflow\\lib\\site-packages\\scikeras\\wrappers.py:289: UserWarning: ``build_fn`` will be renamed to ``model`` in a future release, at which point use of ``build_fn`` will raise an Error instead.\n",
      "  warnings.warn(\n"
     ]
    },
    {
     "name": "stdout",
     "output_type": "stream",
     "text": [
      "Epoch 1/20\n",
      "99/99 [==============================] - 3s 18ms/step - loss: 0.7506 - accuracy: 0.5258 - val_loss: 0.6868 - val_accuracy: 0.5480\n",
      "Epoch 2/20\n",
      "99/99 [==============================] - 1s 12ms/step - loss: 0.6786 - accuracy: 0.5558 - val_loss: 0.6767 - val_accuracy: 0.5621\n",
      "Epoch 3/20\n",
      "99/99 [==============================] - 1s 12ms/step - loss: 0.6756 - accuracy: 0.5626 - val_loss: 0.6730 - val_accuracy: 0.5726\n",
      "Epoch 4/20\n",
      "99/99 [==============================] - 1s 12ms/step - loss: 0.6748 - accuracy: 0.5642 - val_loss: 0.6765 - val_accuracy: 0.5517\n",
      "Epoch 5/20\n",
      "99/99 [==============================] - 1s 12ms/step - loss: 0.6731 - accuracy: 0.5661 - val_loss: 0.6708 - val_accuracy: 0.5609\n",
      "Epoch 6/20\n",
      "99/99 [==============================] - 1s 12ms/step - loss: 0.6716 - accuracy: 0.5683 - val_loss: 0.6657 - val_accuracy: 0.5783\n",
      "Epoch 7/20\n",
      "99/99 [==============================] - 1s 12ms/step - loss: 0.6701 - accuracy: 0.5685 - val_loss: 0.6708 - val_accuracy: 0.5695\n",
      "Epoch 8/20\n",
      "99/99 [==============================] - 1s 12ms/step - loss: 0.6697 - accuracy: 0.5693 - val_loss: 0.6671 - val_accuracy: 0.5760\n",
      "Epoch 9/20\n",
      "99/99 [==============================] - 1s 14ms/step - loss: 0.6688 - accuracy: 0.5713 - val_loss: 0.6659 - val_accuracy: 0.5759\n",
      "Epoch 00009: early stopping\n",
      "50/50 [==============================] - 0s 4ms/step\n",
      "[CV 2/3] END dropout_rate=0.5, learning_rate=0.01, node_type=lstm, nodes=[128];, score=nan total time=  14.9s\n"
     ]
    },
    {
     "name": "stderr",
     "output_type": "stream",
     "text": [
      "C:\\Users\\jared\\anaconda3\\envs\\tflow\\lib\\site-packages\\sklearn\\model_selection\\_validation.py:771: UserWarning: Scoring failed. The score on this train-test partition for these parameters will be set to nan. Details: \n",
      "Traceback (most recent call last):\n",
      "  File \"C:\\Users\\jared\\anaconda3\\envs\\tflow\\lib\\site-packages\\sklearn\\model_selection\\_validation.py\", line 762, in _score\n",
      "    scores = scorer(estimator, X_test, y_test)\n",
      "  File \"C:\\Users\\jared\\anaconda3\\envs\\tflow\\lib\\site-packages\\sklearn\\metrics\\_scorer.py\", line 216, in __call__\n",
      "    return self._score(\n",
      "  File \"C:\\Users\\jared\\anaconda3\\envs\\tflow\\lib\\site-packages\\sklearn\\metrics\\_scorer.py\", line 258, in _score\n",
      "    y_pred = method_caller(estimator, \"predict\", X)\n",
      "  File \"C:\\Users\\jared\\anaconda3\\envs\\tflow\\lib\\site-packages\\sklearn\\metrics\\_scorer.py\", line 68, in _cached_call\n",
      "    return getattr(estimator, method)(*args, **kwargs)\n",
      "  File \"C:\\Users\\jared\\anaconda3\\envs\\tflow\\lib\\site-packages\\scikeras\\wrappers.py\", line 1013, in predict\n",
      "    y_pred = self.target_encoder_.inverse_transform(y_pred)\n",
      "  File \"C:\\Users\\jared\\anaconda3\\envs\\tflow\\lib\\site-packages\\scikeras\\utils\\transformers.py\", line 257, in inverse_transform\n",
      "    class_predictions = self._final_encoder.inverse_transform(class_predictions)\n",
      "  File \"C:\\Users\\jared\\anaconda3\\envs\\tflow\\lib\\site-packages\\sklearn\\utils\\metaestimators.py\", line 113, in <lambda>\n",
      "    out = lambda *args, **kwargs: self.fn(obj, *args, **kwargs)  # noqa\n",
      "  File \"C:\\Users\\jared\\anaconda3\\envs\\tflow\\lib\\site-packages\\sklearn\\pipeline.py\", line 675, in inverse_transform\n",
      "    Xt = transform.inverse_transform(Xt)\n",
      "  File \"C:\\Users\\jared\\anaconda3\\envs\\tflow\\lib\\site-packages\\sklearn\\preprocessing\\_encoders.py\", line 990, in inverse_transform\n",
      "    X_tr[:, i] = self.categories_[i][labels]\n",
      "IndexError: index 57 is out of bounds for axis 0 with size 2\n",
      "\n",
      "  warnings.warn(\n",
      "WARNING:absl:Found untraced functions such as gru_cell_1_layer_call_fn, gru_cell_1_layer_call_and_return_conditional_losses, gru_cell_1_layer_call_fn, gru_cell_1_layer_call_and_return_conditional_losses, gru_cell_1_layer_call_and_return_conditional_losses while saving (showing 5 of 5). These functions will not be directly callable after loading.\n"
     ]
    },
    {
     "name": "stdout",
     "output_type": "stream",
     "text": [
      "INFO:tensorflow:Assets written to: C:\\Users\\jared\\AppData\\Local\\Temp\\tmpmksgbokw\\assets\n"
     ]
    },
    {
     "name": "stderr",
     "output_type": "stream",
     "text": [
      "INFO:tensorflow:Assets written to: C:\\Users\\jared\\AppData\\Local\\Temp\\tmpmksgbokw\\assets\n",
      "WARNING:absl:<keras.layers.recurrent.GRUCell object at 0x0000017E0BBDADF0> has the same name 'GRUCell' as a built-in Keras object. Consider renaming <class 'keras.layers.recurrent.GRUCell'> to avoid naming conflicts when loading with `tf.keras.models.load_model`. If renaming is not possible, pass the object in the `custom_objects` parameter of the load function.\n",
      "C:\\Users\\jared\\anaconda3\\envs\\tflow\\lib\\site-packages\\scikeras\\wrappers.py:289: UserWarning: ``build_fn`` will be renamed to ``model`` in a future release, at which point use of ``build_fn`` will raise an Error instead.\n",
      "  warnings.warn(\n"
     ]
    },
    {
     "name": "stdout",
     "output_type": "stream",
     "text": [
      "Epoch 1/20\n",
      "99/99 [==============================] - 3s 19ms/step - loss: 0.7970 - accuracy: 0.5180 - val_loss: 0.6870 - val_accuracy: 0.5443\n",
      "Epoch 2/20\n",
      "99/99 [==============================] - 1s 12ms/step - loss: 0.6814 - accuracy: 0.5496 - val_loss: 0.6800 - val_accuracy: 0.5540\n",
      "Epoch 3/20\n",
      "99/99 [==============================] - 1s 12ms/step - loss: 0.6756 - accuracy: 0.5613 - val_loss: 0.6755 - val_accuracy: 0.5696\n",
      "Epoch 4/20\n",
      "99/99 [==============================] - 1s 12ms/step - loss: 0.6736 - accuracy: 0.5651 - val_loss: 0.6704 - val_accuracy: 0.5702\n",
      "Epoch 5/20\n",
      "99/99 [==============================] - 1s 12ms/step - loss: 0.6732 - accuracy: 0.5653 - val_loss: 0.6734 - val_accuracy: 0.5653\n",
      "Epoch 6/20\n",
      "99/99 [==============================] - 1s 12ms/step - loss: 0.6714 - accuracy: 0.5689 - val_loss: 0.6771 - val_accuracy: 0.5560\n",
      "Epoch 7/20\n",
      "99/99 [==============================] - 1s 12ms/step - loss: 0.6701 - accuracy: 0.5706 - val_loss: 0.6669 - val_accuracy: 0.5808\n",
      "Epoch 8/20\n",
      "99/99 [==============================] - 1s 12ms/step - loss: 0.6692 - accuracy: 0.5716 - val_loss: 0.6684 - val_accuracy: 0.5736\n",
      "Epoch 9/20\n",
      "99/99 [==============================] - 1s 12ms/step - loss: 0.6686 - accuracy: 0.5724 - val_loss: 0.6999 - val_accuracy: 0.5506\n",
      "Epoch 10/20\n",
      "99/99 [==============================] - 1s 12ms/step - loss: 0.6665 - accuracy: 0.5759 - val_loss: 0.6687 - val_accuracy: 0.5747\n",
      "Epoch 00010: early stopping\n",
      "50/50 [==============================] - 0s 4ms/step\n",
      "[CV 3/3] END dropout_rate=0.5, learning_rate=0.01, node_type=lstm, nodes=[128];, score=nan total time=  16.1s\n"
     ]
    },
    {
     "name": "stderr",
     "output_type": "stream",
     "text": [
      "C:\\Users\\jared\\anaconda3\\envs\\tflow\\lib\\site-packages\\sklearn\\model_selection\\_validation.py:771: UserWarning: Scoring failed. The score on this train-test partition for these parameters will be set to nan. Details: \n",
      "Traceback (most recent call last):\n",
      "  File \"C:\\Users\\jared\\anaconda3\\envs\\tflow\\lib\\site-packages\\sklearn\\model_selection\\_validation.py\", line 762, in _score\n",
      "    scores = scorer(estimator, X_test, y_test)\n",
      "  File \"C:\\Users\\jared\\anaconda3\\envs\\tflow\\lib\\site-packages\\sklearn\\metrics\\_scorer.py\", line 216, in __call__\n",
      "    return self._score(\n",
      "  File \"C:\\Users\\jared\\anaconda3\\envs\\tflow\\lib\\site-packages\\sklearn\\metrics\\_scorer.py\", line 258, in _score\n",
      "    y_pred = method_caller(estimator, \"predict\", X)\n",
      "  File \"C:\\Users\\jared\\anaconda3\\envs\\tflow\\lib\\site-packages\\sklearn\\metrics\\_scorer.py\", line 68, in _cached_call\n",
      "    return getattr(estimator, method)(*args, **kwargs)\n",
      "  File \"C:\\Users\\jared\\anaconda3\\envs\\tflow\\lib\\site-packages\\scikeras\\wrappers.py\", line 1013, in predict\n",
      "    y_pred = self.target_encoder_.inverse_transform(y_pred)\n",
      "  File \"C:\\Users\\jared\\anaconda3\\envs\\tflow\\lib\\site-packages\\scikeras\\utils\\transformers.py\", line 257, in inverse_transform\n",
      "    class_predictions = self._final_encoder.inverse_transform(class_predictions)\n",
      "  File \"C:\\Users\\jared\\anaconda3\\envs\\tflow\\lib\\site-packages\\sklearn\\utils\\metaestimators.py\", line 113, in <lambda>\n",
      "    out = lambda *args, **kwargs: self.fn(obj, *args, **kwargs)  # noqa\n",
      "  File \"C:\\Users\\jared\\anaconda3\\envs\\tflow\\lib\\site-packages\\sklearn\\pipeline.py\", line 675, in inverse_transform\n",
      "    Xt = transform.inverse_transform(Xt)\n",
      "  File \"C:\\Users\\jared\\anaconda3\\envs\\tflow\\lib\\site-packages\\sklearn\\preprocessing\\_encoders.py\", line 990, in inverse_transform\n",
      "    X_tr[:, i] = self.categories_[i][labels]\n",
      "IndexError: index 58 is out of bounds for axis 0 with size 2\n",
      "\n",
      "  warnings.warn(\n",
      "WARNING:absl:Found untraced functions such as gru_cell_1_layer_call_fn, gru_cell_1_layer_call_and_return_conditional_losses, gru_cell_1_layer_call_fn, gru_cell_1_layer_call_and_return_conditional_losses, gru_cell_1_layer_call_and_return_conditional_losses while saving (showing 5 of 5). These functions will not be directly callable after loading.\n"
     ]
    },
    {
     "name": "stdout",
     "output_type": "stream",
     "text": [
      "INFO:tensorflow:Assets written to: C:\\Users\\jared\\AppData\\Local\\Temp\\tmp8mbn4yvs\\assets\n"
     ]
    },
    {
     "name": "stderr",
     "output_type": "stream",
     "text": [
      "INFO:tensorflow:Assets written to: C:\\Users\\jared\\AppData\\Local\\Temp\\tmp8mbn4yvs\\assets\n",
      "WARNING:absl:<keras.layers.recurrent.GRUCell object at 0x0000017E0BBDADF0> has the same name 'GRUCell' as a built-in Keras object. Consider renaming <class 'keras.layers.recurrent.GRUCell'> to avoid naming conflicts when loading with `tf.keras.models.load_model`. If renaming is not possible, pass the object in the `custom_objects` parameter of the load function.\n",
      "C:\\Users\\jared\\anaconda3\\envs\\tflow\\lib\\site-packages\\scikeras\\wrappers.py:289: UserWarning: ``build_fn`` will be renamed to ``model`` in a future release, at which point use of ``build_fn`` will raise an Error instead.\n",
      "  warnings.warn(\n"
     ]
    },
    {
     "name": "stdout",
     "output_type": "stream",
     "text": [
      "Epoch 1/20\n",
      "99/99 [==============================] - 4s 23ms/step - loss: 0.7307 - accuracy: 0.5494 - val_loss: 0.6752 - val_accuracy: 0.6037\n",
      "Epoch 2/20\n",
      "99/99 [==============================] - 1s 15ms/step - loss: 0.6547 - accuracy: 0.6181 - val_loss: 0.6424 - val_accuracy: 0.6382\n",
      "Epoch 3/20\n",
      "99/99 [==============================] - 2s 16ms/step - loss: 0.6410 - accuracy: 0.6368 - val_loss: 0.6468 - val_accuracy: 0.6186\n",
      "Epoch 4/20\n",
      "99/99 [==============================] - 2s 15ms/step - loss: 0.6346 - accuracy: 0.6440 - val_loss: 0.6207 - val_accuracy: 0.6545\n",
      "Epoch 5/20\n",
      "99/99 [==============================] - 2s 15ms/step - loss: 0.6290 - accuracy: 0.6503 - val_loss: 0.6467 - val_accuracy: 0.6164\n",
      "Epoch 6/20\n",
      "99/99 [==============================] - 2s 15ms/step - loss: 0.6259 - accuracy: 0.6477 - val_loss: 0.6244 - val_accuracy: 0.6448\n",
      "Epoch 7/20\n",
      "99/99 [==============================] - 1s 15ms/step - loss: 0.6211 - accuracy: 0.6557 - val_loss: 0.6143 - val_accuracy: 0.6610\n",
      "Epoch 8/20\n",
      "99/99 [==============================] - 2s 15ms/step - loss: 0.6208 - accuracy: 0.6531 - val_loss: 0.6163 - val_accuracy: 0.6573\n",
      "Epoch 9/20\n",
      "99/99 [==============================] - 2s 15ms/step - loss: 0.6150 - accuracy: 0.6596 - val_loss: 0.6164 - val_accuracy: 0.6578\n",
      "Epoch 10/20\n",
      "99/99 [==============================] - 1s 15ms/step - loss: 0.6153 - accuracy: 0.6562 - val_loss: 0.6228 - val_accuracy: 0.6592\n",
      "Epoch 00010: early stopping\n",
      "50/50 [==============================] - 1s 5ms/step\n",
      "[CV 1/3] END dropout_rate=0.5, learning_rate=0.01, node_type=lstm, nodes=[64, 64];, score=0.651 total time=  20.4s\n"
     ]
    },
    {
     "name": "stderr",
     "output_type": "stream",
     "text": [
      "WARNING:absl:Found untraced functions such as gru_cell_1_layer_call_fn, gru_cell_1_layer_call_and_return_conditional_losses, gru_cell_1_layer_call_fn, gru_cell_1_layer_call_and_return_conditional_losses, gru_cell_1_layer_call_and_return_conditional_losses while saving (showing 5 of 5). These functions will not be directly callable after loading.\n"
     ]
    },
    {
     "name": "stdout",
     "output_type": "stream",
     "text": [
      "INFO:tensorflow:Assets written to: C:\\Users\\jared\\AppData\\Local\\Temp\\tmpfmokdwjm\\assets\n"
     ]
    },
    {
     "name": "stderr",
     "output_type": "stream",
     "text": [
      "INFO:tensorflow:Assets written to: C:\\Users\\jared\\AppData\\Local\\Temp\\tmpfmokdwjm\\assets\n",
      "WARNING:absl:<keras.layers.recurrent.GRUCell object at 0x0000017E0BBDADF0> has the same name 'GRUCell' as a built-in Keras object. Consider renaming <class 'keras.layers.recurrent.GRUCell'> to avoid naming conflicts when loading with `tf.keras.models.load_model`. If renaming is not possible, pass the object in the `custom_objects` parameter of the load function.\n",
      "C:\\Users\\jared\\anaconda3\\envs\\tflow\\lib\\site-packages\\scikeras\\wrappers.py:289: UserWarning: ``build_fn`` will be renamed to ``model`` in a future release, at which point use of ``build_fn`` will raise an Error instead.\n",
      "  warnings.warn(\n"
     ]
    },
    {
     "name": "stdout",
     "output_type": "stream",
     "text": [
      "Epoch 1/20\n",
      "99/99 [==============================] - 4s 23ms/step - loss: 0.7150 - accuracy: 0.5635 - val_loss: 0.6731 - val_accuracy: 0.6055\n",
      "Epoch 2/20\n",
      "99/99 [==============================] - 1s 15ms/step - loss: 0.6514 - accuracy: 0.6176 - val_loss: 0.6475 - val_accuracy: 0.6213\n",
      "Epoch 3/20\n",
      "99/99 [==============================] - 1s 15ms/step - loss: 0.6444 - accuracy: 0.6276 - val_loss: 0.7091 - val_accuracy: 0.6001\n",
      "Epoch 4/20\n",
      "99/99 [==============================] - 1s 15ms/step - loss: 0.6379 - accuracy: 0.6397 - val_loss: 0.6351 - val_accuracy: 0.6359\n",
      "Epoch 5/20\n",
      "99/99 [==============================] - 1s 15ms/step - loss: 0.6284 - accuracy: 0.6461 - val_loss: 0.6177 - val_accuracy: 0.6567\n",
      "Epoch 6/20\n",
      "99/99 [==============================] - 1s 15ms/step - loss: 0.6299 - accuracy: 0.6446 - val_loss: 0.6181 - val_accuracy: 0.6555\n",
      "Epoch 7/20\n",
      "99/99 [==============================] - 1s 15ms/step - loss: 0.6230 - accuracy: 0.6545 - val_loss: 0.6327 - val_accuracy: 0.6282\n",
      "Epoch 8/20\n",
      "99/99 [==============================] - 2s 15ms/step - loss: 0.6192 - accuracy: 0.6519 - val_loss: 0.6332 - val_accuracy: 0.6329\n",
      "Epoch 00008: early stopping\n",
      "50/50 [==============================] - 1s 5ms/step\n",
      "[CV 2/3] END dropout_rate=0.5, learning_rate=0.01, node_type=lstm, nodes=[64, 64];, score=0.609 total time=  17.3s\n"
     ]
    },
    {
     "name": "stderr",
     "output_type": "stream",
     "text": [
      "WARNING:absl:Found untraced functions such as gru_cell_1_layer_call_fn, gru_cell_1_layer_call_and_return_conditional_losses, gru_cell_1_layer_call_fn, gru_cell_1_layer_call_and_return_conditional_losses, gru_cell_1_layer_call_and_return_conditional_losses while saving (showing 5 of 5). These functions will not be directly callable after loading.\n"
     ]
    },
    {
     "name": "stdout",
     "output_type": "stream",
     "text": [
      "INFO:tensorflow:Assets written to: C:\\Users\\jared\\AppData\\Local\\Temp\\tmp9086phew\\assets\n"
     ]
    },
    {
     "name": "stderr",
     "output_type": "stream",
     "text": [
      "INFO:tensorflow:Assets written to: C:\\Users\\jared\\AppData\\Local\\Temp\\tmp9086phew\\assets\n",
      "WARNING:absl:<keras.layers.recurrent.GRUCell object at 0x0000017E0BBDADF0> has the same name 'GRUCell' as a built-in Keras object. Consider renaming <class 'keras.layers.recurrent.GRUCell'> to avoid naming conflicts when loading with `tf.keras.models.load_model`. If renaming is not possible, pass the object in the `custom_objects` parameter of the load function.\n",
      "C:\\Users\\jared\\anaconda3\\envs\\tflow\\lib\\site-packages\\scikeras\\wrappers.py:289: UserWarning: ``build_fn`` will be renamed to ``model`` in a future release, at which point use of ``build_fn`` will raise an Error instead.\n",
      "  warnings.warn(\n"
     ]
    },
    {
     "name": "stdout",
     "output_type": "stream",
     "text": [
      "Epoch 1/20\n",
      "99/99 [==============================] - 4s 23ms/step - loss: 0.7165 - accuracy: 0.5711 - val_loss: 0.6902 - val_accuracy: 0.5624\n",
      "Epoch 2/20\n",
      "99/99 [==============================] - 2s 16ms/step - loss: 0.6523 - accuracy: 0.6172 - val_loss: 0.6349 - val_accuracy: 0.6459\n",
      "Epoch 3/20\n",
      "99/99 [==============================] - 2s 15ms/step - loss: 0.6422 - accuracy: 0.6331 - val_loss: 0.6501 - val_accuracy: 0.6126\n",
      "Epoch 4/20\n",
      "99/99 [==============================] - 2s 15ms/step - loss: 0.6366 - accuracy: 0.6391 - val_loss: 0.6265 - val_accuracy: 0.6390\n",
      "Epoch 5/20\n",
      "99/99 [==============================] - 2s 15ms/step - loss: 0.6321 - accuracy: 0.6464 - val_loss: 0.6192 - val_accuracy: 0.6565\n",
      "Epoch 6/20\n",
      "99/99 [==============================] - 2s 15ms/step - loss: 0.6284 - accuracy: 0.6481 - val_loss: 0.6215 - val_accuracy: 0.6517\n",
      "Epoch 7/20\n",
      "99/99 [==============================] - 2s 15ms/step - loss: 0.6292 - accuracy: 0.6459 - val_loss: 0.6194 - val_accuracy: 0.6522\n",
      "Epoch 8/20\n",
      "99/99 [==============================] - 2s 16ms/step - loss: 0.6252 - accuracy: 0.6529 - val_loss: 0.6300 - val_accuracy: 0.6561\n",
      "Epoch 00008: early stopping\n",
      "50/50 [==============================] - 1s 5ms/step\n",
      "[CV 3/3] END dropout_rate=0.5, learning_rate=0.01, node_type=lstm, nodes=[64, 64];, score=0.646 total time=  17.6s\n"
     ]
    },
    {
     "name": "stderr",
     "output_type": "stream",
     "text": [
      "WARNING:absl:Found untraced functions such as gru_cell_1_layer_call_fn, gru_cell_1_layer_call_and_return_conditional_losses, gru_cell_1_layer_call_fn, gru_cell_1_layer_call_and_return_conditional_losses, gru_cell_1_layer_call_and_return_conditional_losses while saving (showing 5 of 5). These functions will not be directly callable after loading.\n"
     ]
    },
    {
     "name": "stdout",
     "output_type": "stream",
     "text": [
      "INFO:tensorflow:Assets written to: C:\\Users\\jared\\AppData\\Local\\Temp\\tmpazu1ir25\\assets\n"
     ]
    },
    {
     "name": "stderr",
     "output_type": "stream",
     "text": [
      "INFO:tensorflow:Assets written to: C:\\Users\\jared\\AppData\\Local\\Temp\\tmpazu1ir25\\assets\n",
      "WARNING:absl:<keras.layers.recurrent.GRUCell object at 0x0000017E0BBDADF0> has the same name 'GRUCell' as a built-in Keras object. Consider renaming <class 'keras.layers.recurrent.GRUCell'> to avoid naming conflicts when loading with `tf.keras.models.load_model`. If renaming is not possible, pass the object in the `custom_objects` parameter of the load function.\n",
      "C:\\Users\\jared\\anaconda3\\envs\\tflow\\lib\\site-packages\\scikeras\\wrappers.py:289: UserWarning: ``build_fn`` will be renamed to ``model`` in a future release, at which point use of ``build_fn`` will raise an Error instead.\n",
      "  warnings.warn(\n"
     ]
    },
    {
     "name": "stdout",
     "output_type": "stream",
     "text": [
      "Epoch 1/20\n",
      "99/99 [==============================] - 6s 28ms/step - loss: 0.7219 - accuracy: 0.5334 - val_loss: 0.6764 - val_accuracy: 0.5610\n",
      "Epoch 2/20\n",
      "99/99 [==============================] - 2s 19ms/step - loss: 0.6619 - accuracy: 0.6016 - val_loss: 0.6541 - val_accuracy: 0.6357\n",
      "Epoch 3/20\n",
      "99/99 [==============================] - 2s 19ms/step - loss: 0.6463 - accuracy: 0.6295 - val_loss: 0.6350 - val_accuracy: 0.6514\n",
      "Epoch 4/20\n",
      "99/99 [==============================] - 2s 19ms/step - loss: 0.6410 - accuracy: 0.6355 - val_loss: 0.6214 - val_accuracy: 0.6596\n",
      "Epoch 5/20\n",
      "99/99 [==============================] - 2s 19ms/step - loss: 0.6369 - accuracy: 0.6388 - val_loss: 0.6243 - val_accuracy: 0.6570\n",
      "Epoch 6/20\n",
      "99/99 [==============================] - 2s 19ms/step - loss: 0.6311 - accuracy: 0.6512 - val_loss: 0.6612 - val_accuracy: 0.6084\n",
      "Epoch 7/20\n",
      "99/99 [==============================] - 2s 19ms/step - loss: 0.6295 - accuracy: 0.6499 - val_loss: 0.6317 - val_accuracy: 0.6465\n",
      "Epoch 00007: early stopping\n",
      "50/50 [==============================] - 1s 6ms/step\n",
      "[CV 1/3] END dropout_rate=0.5, learning_rate=0.01, node_type=lstm, nodes=[32, 32, 32];, score=0.632 total time=  19.9s\n"
     ]
    },
    {
     "name": "stderr",
     "output_type": "stream",
     "text": [
      "WARNING:absl:Found untraced functions such as gru_cell_1_layer_call_fn, gru_cell_1_layer_call_and_return_conditional_losses, gru_cell_1_layer_call_fn, gru_cell_1_layer_call_and_return_conditional_losses, gru_cell_1_layer_call_and_return_conditional_losses while saving (showing 5 of 5). These functions will not be directly callable after loading.\n"
     ]
    },
    {
     "name": "stdout",
     "output_type": "stream",
     "text": [
      "INFO:tensorflow:Assets written to: C:\\Users\\jared\\AppData\\Local\\Temp\\tmpg7d4jjse\\assets\n"
     ]
    },
    {
     "name": "stderr",
     "output_type": "stream",
     "text": [
      "INFO:tensorflow:Assets written to: C:\\Users\\jared\\AppData\\Local\\Temp\\tmpg7d4jjse\\assets\n",
      "WARNING:absl:<keras.layers.recurrent.GRUCell object at 0x0000017E0BBDADF0> has the same name 'GRUCell' as a built-in Keras object. Consider renaming <class 'keras.layers.recurrent.GRUCell'> to avoid naming conflicts when loading with `tf.keras.models.load_model`. If renaming is not possible, pass the object in the `custom_objects` parameter of the load function.\n",
      "C:\\Users\\jared\\anaconda3\\envs\\tflow\\lib\\site-packages\\scikeras\\wrappers.py:289: UserWarning: ``build_fn`` will be renamed to ``model`` in a future release, at which point use of ``build_fn`` will raise an Error instead.\n",
      "  warnings.warn(\n"
     ]
    },
    {
     "name": "stdout",
     "output_type": "stream",
     "text": [
      "Epoch 1/20\n",
      "99/99 [==============================] - 5s 28ms/step - loss: 0.7262 - accuracy: 0.5389 - val_loss: 0.6832 - val_accuracy: 0.5775\n",
      "Epoch 2/20\n",
      "99/99 [==============================] - 2s 19ms/step - loss: 0.6714 - accuracy: 0.5871 - val_loss: 0.6541 - val_accuracy: 0.6255\n",
      "Epoch 3/20\n",
      "99/99 [==============================] - 2s 19ms/step - loss: 0.6505 - accuracy: 0.6251 - val_loss: 0.6346 - val_accuracy: 0.6324\n",
      "Epoch 4/20\n",
      "99/99 [==============================] - 2s 19ms/step - loss: 0.6474 - accuracy: 0.6244 - val_loss: 0.6522 - val_accuracy: 0.6006\n",
      "Epoch 5/20\n",
      "99/99 [==============================] - 2s 19ms/step - loss: 0.6366 - accuracy: 0.6350 - val_loss: 0.6237 - val_accuracy: 0.6475\n",
      "Epoch 6/20\n",
      "99/99 [==============================] - 2s 20ms/step - loss: 0.6296 - accuracy: 0.6424 - val_loss: 0.6245 - val_accuracy: 0.6472\n",
      "Epoch 7/20\n",
      "99/99 [==============================] - 2s 19ms/step - loss: 0.6299 - accuracy: 0.6435 - val_loss: 0.6198 - val_accuracy: 0.6472\n",
      "Epoch 8/20\n",
      "99/99 [==============================] - 2s 20ms/step - loss: 0.6266 - accuracy: 0.6488 - val_loss: 0.6226 - val_accuracy: 0.6354\n",
      "Epoch 9/20\n",
      "99/99 [==============================] - 2s 19ms/step - loss: 0.6236 - accuracy: 0.6508 - val_loss: 0.6187 - val_accuracy: 0.6533\n",
      "Epoch 10/20\n",
      "99/99 [==============================] - 2s 19ms/step - loss: 0.6210 - accuracy: 0.6542 - val_loss: 0.6184 - val_accuracy: 0.6603\n",
      "Epoch 11/20\n",
      "99/99 [==============================] - 2s 20ms/step - loss: 0.6201 - accuracy: 0.6497 - val_loss: 0.6366 - val_accuracy: 0.6053\n",
      "Epoch 12/20\n",
      "99/99 [==============================] - 2s 19ms/step - loss: 0.6155 - accuracy: 0.6569 - val_loss: 0.6324 - val_accuracy: 0.6536\n",
      "Epoch 13/20\n",
      "99/99 [==============================] - 2s 19ms/step - loss: 0.6157 - accuracy: 0.6556 - val_loss: 0.6218 - val_accuracy: 0.6624\n",
      "Epoch 00013: early stopping\n",
      "50/50 [==============================] - 1s 7ms/step\n",
      "[CV 2/3] END dropout_rate=0.5, learning_rate=0.01, node_type=lstm, nodes=[32, 32, 32];, score=0.650 total time=  31.6s\n"
     ]
    },
    {
     "name": "stderr",
     "output_type": "stream",
     "text": [
      "WARNING:absl:Found untraced functions such as gru_cell_1_layer_call_fn, gru_cell_1_layer_call_and_return_conditional_losses, gru_cell_1_layer_call_fn, gru_cell_1_layer_call_and_return_conditional_losses, gru_cell_1_layer_call_and_return_conditional_losses while saving (showing 5 of 5). These functions will not be directly callable after loading.\n"
     ]
    },
    {
     "name": "stdout",
     "output_type": "stream",
     "text": [
      "INFO:tensorflow:Assets written to: C:\\Users\\jared\\AppData\\Local\\Temp\\tmpr9azojsd\\assets\n"
     ]
    },
    {
     "name": "stderr",
     "output_type": "stream",
     "text": [
      "INFO:tensorflow:Assets written to: C:\\Users\\jared\\AppData\\Local\\Temp\\tmpr9azojsd\\assets\n",
      "WARNING:absl:<keras.layers.recurrent.GRUCell object at 0x0000017E0BBDADF0> has the same name 'GRUCell' as a built-in Keras object. Consider renaming <class 'keras.layers.recurrent.GRUCell'> to avoid naming conflicts when loading with `tf.keras.models.load_model`. If renaming is not possible, pass the object in the `custom_objects` parameter of the load function.\n",
      "C:\\Users\\jared\\anaconda3\\envs\\tflow\\lib\\site-packages\\scikeras\\wrappers.py:289: UserWarning: ``build_fn`` will be renamed to ``model`` in a future release, at which point use of ``build_fn`` will raise an Error instead.\n",
      "  warnings.warn(\n"
     ]
    },
    {
     "name": "stdout",
     "output_type": "stream",
     "text": [
      "Epoch 1/20\n",
      "99/99 [==============================] - 5s 28ms/step - loss: 0.7347 - accuracy: 0.5218 - val_loss: 0.6865 - val_accuracy: 0.5445\n",
      "Epoch 2/20\n",
      "99/99 [==============================] - 2s 19ms/step - loss: 0.6689 - accuracy: 0.5934 - val_loss: 0.6753 - val_accuracy: 0.5573\n",
      "Epoch 3/20\n",
      "99/99 [==============================] - 2s 19ms/step - loss: 0.6494 - accuracy: 0.6219 - val_loss: 0.6350 - val_accuracy: 0.6344\n",
      "Epoch 4/20\n",
      "99/99 [==============================] - 2s 19ms/step - loss: 0.6406 - accuracy: 0.6343 - val_loss: 0.6240 - val_accuracy: 0.6512\n",
      "Epoch 5/20\n",
      "99/99 [==============================] - 2s 19ms/step - loss: 0.6414 - accuracy: 0.6400 - val_loss: 0.6399 - val_accuracy: 0.6467\n",
      "Epoch 6/20\n",
      "99/99 [==============================] - 2s 19ms/step - loss: 0.6325 - accuracy: 0.6482 - val_loss: 0.6267 - val_accuracy: 0.6454\n",
      "Epoch 7/20\n",
      "99/99 [==============================] - 2s 19ms/step - loss: 0.6331 - accuracy: 0.6396 - val_loss: 0.6296 - val_accuracy: 0.6535\n",
      "Epoch 00007: early stopping\n",
      "50/50 [==============================] - 1s 7ms/step\n",
      "[CV 3/3] END dropout_rate=0.5, learning_rate=0.01, node_type=lstm, nodes=[32, 32, 32];, score=0.638 total time=  19.9s\n"
     ]
    },
    {
     "name": "stderr",
     "output_type": "stream",
     "text": [
      "WARNING:absl:Found untraced functions such as gru_cell_1_layer_call_fn, gru_cell_1_layer_call_and_return_conditional_losses, gru_cell_1_layer_call_fn, gru_cell_1_layer_call_and_return_conditional_losses, gru_cell_1_layer_call_and_return_conditional_losses while saving (showing 5 of 5). These functions will not be directly callable after loading.\n"
     ]
    },
    {
     "name": "stdout",
     "output_type": "stream",
     "text": [
      "INFO:tensorflow:Assets written to: C:\\Users\\jared\\AppData\\Local\\Temp\\tmp_4ywxe2u\\assets\n"
     ]
    },
    {
     "name": "stderr",
     "output_type": "stream",
     "text": [
      "INFO:tensorflow:Assets written to: C:\\Users\\jared\\AppData\\Local\\Temp\\tmp_4ywxe2u\\assets\n",
      "WARNING:absl:<keras.layers.recurrent.GRUCell object at 0x0000017E0BBDADF0> has the same name 'GRUCell' as a built-in Keras object. Consider renaming <class 'keras.layers.recurrent.GRUCell'> to avoid naming conflicts when loading with `tf.keras.models.load_model`. If renaming is not possible, pass the object in the `custom_objects` parameter of the load function.\n",
      "C:\\Users\\jared\\anaconda3\\envs\\tflow\\lib\\site-packages\\scikeras\\wrappers.py:289: UserWarning: ``build_fn`` will be renamed to ``model`` in a future release, at which point use of ``build_fn`` will raise an Error instead.\n",
      "  warnings.warn(\n"
     ]
    },
    {
     "name": "stdout",
     "output_type": "stream",
     "text": [
      "Epoch 1/20\n",
      "99/99 [==============================] - 3s 17ms/step - loss: 0.7640 - accuracy: 0.5269 - val_loss: 0.6838 - val_accuracy: 0.5620\n",
      "Epoch 2/20\n",
      "99/99 [==============================] - 1s 11ms/step - loss: 0.6794 - accuracy: 0.5532 - val_loss: 0.6761 - val_accuracy: 0.5621\n",
      "Epoch 3/20\n",
      "99/99 [==============================] - 1s 12ms/step - loss: 0.6773 - accuracy: 0.5570 - val_loss: 0.6710 - val_accuracy: 0.5758\n",
      "Epoch 4/20\n",
      "99/99 [==============================] - 1s 12ms/step - loss: 0.6755 - accuracy: 0.5620 - val_loss: 0.6705 - val_accuracy: 0.5768\n",
      "Epoch 5/20\n",
      "99/99 [==============================] - 1s 12ms/step - loss: 0.6729 - accuracy: 0.5643 - val_loss: 0.6716 - val_accuracy: 0.5677\n",
      "Epoch 6/20\n",
      "99/99 [==============================] - 1s 12ms/step - loss: 0.6726 - accuracy: 0.5640 - val_loss: 0.6676 - val_accuracy: 0.5758\n",
      "Epoch 7/20\n",
      "99/99 [==============================] - 1s 12ms/step - loss: 0.6706 - accuracy: 0.5689 - val_loss: 0.6675 - val_accuracy: 0.5775\n",
      "Epoch 8/20\n",
      "99/99 [==============================] - 1s 12ms/step - loss: 0.6691 - accuracy: 0.5699 - val_loss: 0.6675 - val_accuracy: 0.5736\n",
      "Epoch 9/20\n",
      "99/99 [==============================] - 1s 12ms/step - loss: 0.6668 - accuracy: 0.5721 - val_loss: 0.6699 - val_accuracy: 0.5702\n",
      "Epoch 10/20\n",
      "99/99 [==============================] - 1s 12ms/step - loss: 0.6656 - accuracy: 0.5734 - val_loss: 0.6687 - val_accuracy: 0.5687\n",
      "Epoch 00010: early stopping\n",
      "50/50 [==============================] - 0s 4ms/step\n",
      "[CV 1/3] END dropout_rate=0.5, learning_rate=0.01, node_type=gru, nodes=[128];, score=nan total time=  15.3s\n"
     ]
    },
    {
     "name": "stderr",
     "output_type": "stream",
     "text": [
      "C:\\Users\\jared\\anaconda3\\envs\\tflow\\lib\\site-packages\\sklearn\\model_selection\\_validation.py:771: UserWarning: Scoring failed. The score on this train-test partition for these parameters will be set to nan. Details: \n",
      "Traceback (most recent call last):\n",
      "  File \"C:\\Users\\jared\\anaconda3\\envs\\tflow\\lib\\site-packages\\sklearn\\model_selection\\_validation.py\", line 762, in _score\n",
      "    scores = scorer(estimator, X_test, y_test)\n",
      "  File \"C:\\Users\\jared\\anaconda3\\envs\\tflow\\lib\\site-packages\\sklearn\\metrics\\_scorer.py\", line 216, in __call__\n",
      "    return self._score(\n",
      "  File \"C:\\Users\\jared\\anaconda3\\envs\\tflow\\lib\\site-packages\\sklearn\\metrics\\_scorer.py\", line 258, in _score\n",
      "    y_pred = method_caller(estimator, \"predict\", X)\n",
      "  File \"C:\\Users\\jared\\anaconda3\\envs\\tflow\\lib\\site-packages\\sklearn\\metrics\\_scorer.py\", line 68, in _cached_call\n",
      "    return getattr(estimator, method)(*args, **kwargs)\n",
      "  File \"C:\\Users\\jared\\anaconda3\\envs\\tflow\\lib\\site-packages\\scikeras\\wrappers.py\", line 1013, in predict\n",
      "    y_pred = self.target_encoder_.inverse_transform(y_pred)\n",
      "  File \"C:\\Users\\jared\\anaconda3\\envs\\tflow\\lib\\site-packages\\scikeras\\utils\\transformers.py\", line 257, in inverse_transform\n",
      "    class_predictions = self._final_encoder.inverse_transform(class_predictions)\n",
      "  File \"C:\\Users\\jared\\anaconda3\\envs\\tflow\\lib\\site-packages\\sklearn\\utils\\metaestimators.py\", line 113, in <lambda>\n",
      "    out = lambda *args, **kwargs: self.fn(obj, *args, **kwargs)  # noqa\n",
      "  File \"C:\\Users\\jared\\anaconda3\\envs\\tflow\\lib\\site-packages\\sklearn\\pipeline.py\", line 675, in inverse_transform\n",
      "    Xt = transform.inverse_transform(Xt)\n",
      "  File \"C:\\Users\\jared\\anaconda3\\envs\\tflow\\lib\\site-packages\\sklearn\\preprocessing\\_encoders.py\", line 990, in inverse_transform\n",
      "    X_tr[:, i] = self.categories_[i][labels]\n",
      "IndexError: index 45 is out of bounds for axis 0 with size 2\n",
      "\n",
      "  warnings.warn(\n",
      "WARNING:absl:Found untraced functions such as gru_cell_1_layer_call_fn, gru_cell_1_layer_call_and_return_conditional_losses, gru_cell_1_layer_call_fn, gru_cell_1_layer_call_and_return_conditional_losses, gru_cell_1_layer_call_and_return_conditional_losses while saving (showing 5 of 5). These functions will not be directly callable after loading.\n"
     ]
    },
    {
     "name": "stdout",
     "output_type": "stream",
     "text": [
      "INFO:tensorflow:Assets written to: C:\\Users\\jared\\AppData\\Local\\Temp\\tmpqc_7r0vf\\assets\n"
     ]
    },
    {
     "name": "stderr",
     "output_type": "stream",
     "text": [
      "INFO:tensorflow:Assets written to: C:\\Users\\jared\\AppData\\Local\\Temp\\tmpqc_7r0vf\\assets\n",
      "WARNING:absl:<keras.layers.recurrent.GRUCell object at 0x0000017E0BBDADF0> has the same name 'GRUCell' as a built-in Keras object. Consider renaming <class 'keras.layers.recurrent.GRUCell'> to avoid naming conflicts when loading with `tf.keras.models.load_model`. If renaming is not possible, pass the object in the `custom_objects` parameter of the load function.\n",
      "C:\\Users\\jared\\anaconda3\\envs\\tflow\\lib\\site-packages\\scikeras\\wrappers.py:289: UserWarning: ``build_fn`` will be renamed to ``model`` in a future release, at which point use of ``build_fn`` will raise an Error instead.\n",
      "  warnings.warn(\n"
     ]
    },
    {
     "name": "stdout",
     "output_type": "stream",
     "text": [
      "Epoch 1/20\n",
      "99/99 [==============================] - 3s 17ms/step - loss: 0.7797 - accuracy: 0.5270 - val_loss: 0.6824 - val_accuracy: 0.5415\n",
      "Epoch 2/20\n",
      "99/99 [==============================] - 1s 12ms/step - loss: 0.6790 - accuracy: 0.5541 - val_loss: 0.6739 - val_accuracy: 0.5644\n",
      "Epoch 3/20\n",
      "99/99 [==============================] - 1s 12ms/step - loss: 0.6757 - accuracy: 0.5599 - val_loss: 0.6702 - val_accuracy: 0.5707\n",
      "Epoch 4/20\n",
      "99/99 [==============================] - 1s 11ms/step - loss: 0.6728 - accuracy: 0.5645 - val_loss: 0.6680 - val_accuracy: 0.5714\n",
      "Epoch 5/20\n",
      "99/99 [==============================] - 1s 11ms/step - loss: 0.6717 - accuracy: 0.5661 - val_loss: 0.6674 - val_accuracy: 0.5774\n",
      "Epoch 6/20\n",
      "99/99 [==============================] - 1s 11ms/step - loss: 0.6700 - accuracy: 0.5703 - val_loss: 0.6673 - val_accuracy: 0.5756\n",
      "Epoch 7/20\n",
      "99/99 [==============================] - 1s 11ms/step - loss: 0.6676 - accuracy: 0.5717 - val_loss: 0.6679 - val_accuracy: 0.5717\n",
      "Epoch 8/20\n",
      "99/99 [==============================] - 1s 12ms/step - loss: 0.6669 - accuracy: 0.5740 - val_loss: 0.6644 - val_accuracy: 0.5773\n",
      "Epoch 9/20\n",
      "99/99 [==============================] - 1s 11ms/step - loss: 0.6631 - accuracy: 0.5785 - val_loss: 0.6710 - val_accuracy: 0.5605\n",
      "Epoch 10/20\n",
      "99/99 [==============================] - 1s 12ms/step - loss: 0.6627 - accuracy: 0.5794 - val_loss: 0.6678 - val_accuracy: 0.5757\n",
      "Epoch 11/20\n",
      "99/99 [==============================] - 1s 12ms/step - loss: 0.6597 - accuracy: 0.5810 - val_loss: 0.6714 - val_accuracy: 0.5694\n",
      "Epoch 00011: early stopping\n",
      "50/50 [==============================] - 0s 4ms/step\n",
      "[CV 2/3] END dropout_rate=0.5, learning_rate=0.01, node_type=gru, nodes=[128];, score=nan total time=  16.5s\n"
     ]
    },
    {
     "name": "stderr",
     "output_type": "stream",
     "text": [
      "C:\\Users\\jared\\anaconda3\\envs\\tflow\\lib\\site-packages\\sklearn\\model_selection\\_validation.py:771: UserWarning: Scoring failed. The score on this train-test partition for these parameters will be set to nan. Details: \n",
      "Traceback (most recent call last):\n",
      "  File \"C:\\Users\\jared\\anaconda3\\envs\\tflow\\lib\\site-packages\\sklearn\\model_selection\\_validation.py\", line 762, in _score\n",
      "    scores = scorer(estimator, X_test, y_test)\n",
      "  File \"C:\\Users\\jared\\anaconda3\\envs\\tflow\\lib\\site-packages\\sklearn\\metrics\\_scorer.py\", line 216, in __call__\n",
      "    return self._score(\n",
      "  File \"C:\\Users\\jared\\anaconda3\\envs\\tflow\\lib\\site-packages\\sklearn\\metrics\\_scorer.py\", line 258, in _score\n",
      "    y_pred = method_caller(estimator, \"predict\", X)\n",
      "  File \"C:\\Users\\jared\\anaconda3\\envs\\tflow\\lib\\site-packages\\sklearn\\metrics\\_scorer.py\", line 68, in _cached_call\n",
      "    return getattr(estimator, method)(*args, **kwargs)\n",
      "  File \"C:\\Users\\jared\\anaconda3\\envs\\tflow\\lib\\site-packages\\scikeras\\wrappers.py\", line 1013, in predict\n",
      "    y_pred = self.target_encoder_.inverse_transform(y_pred)\n",
      "  File \"C:\\Users\\jared\\anaconda3\\envs\\tflow\\lib\\site-packages\\scikeras\\utils\\transformers.py\", line 257, in inverse_transform\n",
      "    class_predictions = self._final_encoder.inverse_transform(class_predictions)\n",
      "  File \"C:\\Users\\jared\\anaconda3\\envs\\tflow\\lib\\site-packages\\sklearn\\utils\\metaestimators.py\", line 113, in <lambda>\n",
      "    out = lambda *args, **kwargs: self.fn(obj, *args, **kwargs)  # noqa\n",
      "  File \"C:\\Users\\jared\\anaconda3\\envs\\tflow\\lib\\site-packages\\sklearn\\pipeline.py\", line 675, in inverse_transform\n",
      "    Xt = transform.inverse_transform(Xt)\n",
      "  File \"C:\\Users\\jared\\anaconda3\\envs\\tflow\\lib\\site-packages\\sklearn\\preprocessing\\_encoders.py\", line 990, in inverse_transform\n",
      "    X_tr[:, i] = self.categories_[i][labels]\n",
      "IndexError: index 57 is out of bounds for axis 0 with size 2\n",
      "\n",
      "  warnings.warn(\n",
      "WARNING:absl:Found untraced functions such as gru_cell_1_layer_call_fn, gru_cell_1_layer_call_and_return_conditional_losses, gru_cell_1_layer_call_fn, gru_cell_1_layer_call_and_return_conditional_losses, gru_cell_1_layer_call_and_return_conditional_losses while saving (showing 5 of 5). These functions will not be directly callable after loading.\n"
     ]
    },
    {
     "name": "stdout",
     "output_type": "stream",
     "text": [
      "INFO:tensorflow:Assets written to: C:\\Users\\jared\\AppData\\Local\\Temp\\tmptmytlnnz\\assets\n"
     ]
    },
    {
     "name": "stderr",
     "output_type": "stream",
     "text": [
      "INFO:tensorflow:Assets written to: C:\\Users\\jared\\AppData\\Local\\Temp\\tmptmytlnnz\\assets\n",
      "WARNING:absl:<keras.layers.recurrent.GRUCell object at 0x0000017E0BBDADF0> has the same name 'GRUCell' as a built-in Keras object. Consider renaming <class 'keras.layers.recurrent.GRUCell'> to avoid naming conflicts when loading with `tf.keras.models.load_model`. If renaming is not possible, pass the object in the `custom_objects` parameter of the load function.\n",
      "C:\\Users\\jared\\anaconda3\\envs\\tflow\\lib\\site-packages\\scikeras\\wrappers.py:289: UserWarning: ``build_fn`` will be renamed to ``model`` in a future release, at which point use of ``build_fn`` will raise an Error instead.\n",
      "  warnings.warn(\n"
     ]
    },
    {
     "name": "stdout",
     "output_type": "stream",
     "text": [
      "Epoch 1/20\n",
      "99/99 [==============================] - 3s 17ms/step - loss: 0.7259 - accuracy: 0.5314 - val_loss: 0.6804 - val_accuracy: 0.5653\n",
      "Epoch 2/20\n",
      "99/99 [==============================] - 1s 12ms/step - loss: 0.6792 - accuracy: 0.5544 - val_loss: 0.6730 - val_accuracy: 0.5690\n",
      "Epoch 3/20\n",
      "99/99 [==============================] - 1s 12ms/step - loss: 0.6758 - accuracy: 0.5615 - val_loss: 0.6718 - val_accuracy: 0.5686\n",
      "Epoch 4/20\n",
      "99/99 [==============================] - 1s 12ms/step - loss: 0.6740 - accuracy: 0.5646 - val_loss: 0.6711 - val_accuracy: 0.5661\n",
      "Epoch 5/20\n",
      "99/99 [==============================] - 1s 12ms/step - loss: 0.6721 - accuracy: 0.5675 - val_loss: 0.6683 - val_accuracy: 0.5770\n",
      "Epoch 6/20\n",
      "99/99 [==============================] - 1s 12ms/step - loss: 0.6708 - accuracy: 0.5701 - val_loss: 0.6699 - val_accuracy: 0.5619\n",
      "Epoch 7/20\n",
      "99/99 [==============================] - 1s 12ms/step - loss: 0.6698 - accuracy: 0.5703 - val_loss: 0.6687 - val_accuracy: 0.5745\n",
      "Epoch 8/20\n",
      "99/99 [==============================] - 1s 12ms/step - loss: 0.6679 - accuracy: 0.5721 - val_loss: 0.6670 - val_accuracy: 0.5762\n",
      "Epoch 9/20\n",
      "99/99 [==============================] - 1s 12ms/step - loss: 0.6657 - accuracy: 0.5738 - val_loss: 0.6662 - val_accuracy: 0.5752\n",
      "Epoch 10/20\n",
      "99/99 [==============================] - 1s 12ms/step - loss: 0.6646 - accuracy: 0.5746 - val_loss: 0.6740 - val_accuracy: 0.5641\n",
      "Epoch 11/20\n",
      "99/99 [==============================] - 1s 12ms/step - loss: 0.6623 - accuracy: 0.5775 - val_loss: 0.6704 - val_accuracy: 0.5690\n",
      "Epoch 12/20\n",
      "99/99 [==============================] - 1s 12ms/step - loss: 0.6605 - accuracy: 0.5799 - val_loss: 0.6696 - val_accuracy: 0.5739\n",
      "Epoch 00012: early stopping\n",
      "50/50 [==============================] - 0s 4ms/step\n",
      "[CV 3/3] END dropout_rate=0.5, learning_rate=0.01, node_type=gru, nodes=[128];, score=nan total time=  17.7s\n"
     ]
    },
    {
     "name": "stderr",
     "output_type": "stream",
     "text": [
      "C:\\Users\\jared\\anaconda3\\envs\\tflow\\lib\\site-packages\\sklearn\\model_selection\\_validation.py:771: UserWarning: Scoring failed. The score on this train-test partition for these parameters will be set to nan. Details: \n",
      "Traceback (most recent call last):\n",
      "  File \"C:\\Users\\jared\\anaconda3\\envs\\tflow\\lib\\site-packages\\sklearn\\model_selection\\_validation.py\", line 762, in _score\n",
      "    scores = scorer(estimator, X_test, y_test)\n",
      "  File \"C:\\Users\\jared\\anaconda3\\envs\\tflow\\lib\\site-packages\\sklearn\\metrics\\_scorer.py\", line 216, in __call__\n",
      "    return self._score(\n",
      "  File \"C:\\Users\\jared\\anaconda3\\envs\\tflow\\lib\\site-packages\\sklearn\\metrics\\_scorer.py\", line 258, in _score\n",
      "    y_pred = method_caller(estimator, \"predict\", X)\n",
      "  File \"C:\\Users\\jared\\anaconda3\\envs\\tflow\\lib\\site-packages\\sklearn\\metrics\\_scorer.py\", line 68, in _cached_call\n",
      "    return getattr(estimator, method)(*args, **kwargs)\n",
      "  File \"C:\\Users\\jared\\anaconda3\\envs\\tflow\\lib\\site-packages\\scikeras\\wrappers.py\", line 1013, in predict\n",
      "    y_pred = self.target_encoder_.inverse_transform(y_pred)\n",
      "  File \"C:\\Users\\jared\\anaconda3\\envs\\tflow\\lib\\site-packages\\scikeras\\utils\\transformers.py\", line 257, in inverse_transform\n",
      "    class_predictions = self._final_encoder.inverse_transform(class_predictions)\n",
      "  File \"C:\\Users\\jared\\anaconda3\\envs\\tflow\\lib\\site-packages\\sklearn\\utils\\metaestimators.py\", line 113, in <lambda>\n",
      "    out = lambda *args, **kwargs: self.fn(obj, *args, **kwargs)  # noqa\n",
      "  File \"C:\\Users\\jared\\anaconda3\\envs\\tflow\\lib\\site-packages\\sklearn\\pipeline.py\", line 675, in inverse_transform\n",
      "    Xt = transform.inverse_transform(Xt)\n",
      "  File \"C:\\Users\\jared\\anaconda3\\envs\\tflow\\lib\\site-packages\\sklearn\\preprocessing\\_encoders.py\", line 990, in inverse_transform\n",
      "    X_tr[:, i] = self.categories_[i][labels]\n",
      "IndexError: index 59 is out of bounds for axis 0 with size 2\n",
      "\n",
      "  warnings.warn(\n",
      "WARNING:absl:Found untraced functions such as gru_cell_1_layer_call_fn, gru_cell_1_layer_call_and_return_conditional_losses, gru_cell_1_layer_call_fn, gru_cell_1_layer_call_and_return_conditional_losses, gru_cell_1_layer_call_and_return_conditional_losses while saving (showing 5 of 5). These functions will not be directly callable after loading.\n"
     ]
    },
    {
     "name": "stdout",
     "output_type": "stream",
     "text": [
      "INFO:tensorflow:Assets written to: C:\\Users\\jared\\AppData\\Local\\Temp\\tmpz4bp2lo4\\assets\n"
     ]
    },
    {
     "name": "stderr",
     "output_type": "stream",
     "text": [
      "INFO:tensorflow:Assets written to: C:\\Users\\jared\\AppData\\Local\\Temp\\tmpz4bp2lo4\\assets\n",
      "WARNING:absl:<keras.layers.recurrent.GRUCell object at 0x0000017E0BBDADF0> has the same name 'GRUCell' as a built-in Keras object. Consider renaming <class 'keras.layers.recurrent.GRUCell'> to avoid naming conflicts when loading with `tf.keras.models.load_model`. If renaming is not possible, pass the object in the `custom_objects` parameter of the load function.\n",
      "C:\\Users\\jared\\anaconda3\\envs\\tflow\\lib\\site-packages\\scikeras\\wrappers.py:289: UserWarning: ``build_fn`` will be renamed to ``model`` in a future release, at which point use of ``build_fn`` will raise an Error instead.\n",
      "  warnings.warn(\n"
     ]
    },
    {
     "name": "stdout",
     "output_type": "stream",
     "text": [
      "Epoch 1/20\n",
      "99/99 [==============================] - 4s 25ms/step - loss: 0.7131 - accuracy: 0.5775 - val_loss: 0.6832 - val_accuracy: 0.5617\n",
      "Epoch 2/20\n",
      "99/99 [==============================] - 1s 14ms/step - loss: 0.6508 - accuracy: 0.6217 - val_loss: 0.6274 - val_accuracy: 0.6507\n",
      "Epoch 3/20\n",
      "99/99 [==============================] - 1s 14ms/step - loss: 0.6404 - accuracy: 0.6370 - val_loss: 0.6378 - val_accuracy: 0.6265\n",
      "Epoch 4/20\n",
      "99/99 [==============================] - 1s 14ms/step - loss: 0.6369 - accuracy: 0.6374 - val_loss: 0.6271 - val_accuracy: 0.6559\n",
      "Epoch 5/20\n",
      "99/99 [==============================] - 1s 14ms/step - loss: 0.6354 - accuracy: 0.6406 - val_loss: 0.6231 - val_accuracy: 0.6546\n",
      "Epoch 6/20\n",
      "99/99 [==============================] - 1s 14ms/step - loss: 0.6311 - accuracy: 0.6436 - val_loss: 0.6195 - val_accuracy: 0.6502\n",
      "Epoch 7/20\n",
      "99/99 [==============================] - 1s 14ms/step - loss: 0.6288 - accuracy: 0.6457 - val_loss: 0.6438 - val_accuracy: 0.6160\n",
      "Epoch 8/20\n",
      "99/99 [==============================] - 1s 15ms/step - loss: 0.6281 - accuracy: 0.6405 - val_loss: 0.6412 - val_accuracy: 0.6230\n",
      "Epoch 9/20\n",
      "99/99 [==============================] - 1s 14ms/step - loss: 0.6223 - accuracy: 0.6461 - val_loss: 0.6385 - val_accuracy: 0.6459\n",
      "Epoch 00009: early stopping\n",
      "50/50 [==============================] - 1s 5ms/step\n",
      "[CV 1/3] END dropout_rate=0.5, learning_rate=0.01, node_type=gru, nodes=[64, 64];, score=0.637 total time=  17.9s\n"
     ]
    },
    {
     "name": "stderr",
     "output_type": "stream",
     "text": [
      "WARNING:absl:Found untraced functions such as gru_cell_1_layer_call_fn, gru_cell_1_layer_call_and_return_conditional_losses, gru_cell_1_layer_call_fn, gru_cell_1_layer_call_and_return_conditional_losses, gru_cell_1_layer_call_and_return_conditional_losses while saving (showing 5 of 5). These functions will not be directly callable after loading.\n"
     ]
    },
    {
     "name": "stdout",
     "output_type": "stream",
     "text": [
      "INFO:tensorflow:Assets written to: C:\\Users\\jared\\AppData\\Local\\Temp\\tmp91msc6nm\\assets\n"
     ]
    },
    {
     "name": "stderr",
     "output_type": "stream",
     "text": [
      "INFO:tensorflow:Assets written to: C:\\Users\\jared\\AppData\\Local\\Temp\\tmp91msc6nm\\assets\n",
      "WARNING:absl:<keras.layers.recurrent.GRUCell object at 0x0000017E0BBDADF0> has the same name 'GRUCell' as a built-in Keras object. Consider renaming <class 'keras.layers.recurrent.GRUCell'> to avoid naming conflicts when loading with `tf.keras.models.load_model`. If renaming is not possible, pass the object in the `custom_objects` parameter of the load function.\n",
      "C:\\Users\\jared\\anaconda3\\envs\\tflow\\lib\\site-packages\\scikeras\\wrappers.py:289: UserWarning: ``build_fn`` will be renamed to ``model`` in a future release, at which point use of ``build_fn`` will raise an Error instead.\n",
      "  warnings.warn(\n"
     ]
    },
    {
     "name": "stdout",
     "output_type": "stream",
     "text": [
      "Epoch 1/20\n",
      "99/99 [==============================] - 4s 21ms/step - loss: 0.7146 - accuracy: 0.5800 - val_loss: 0.6437 - val_accuracy: 0.6277\n",
      "Epoch 2/20\n",
      "99/99 [==============================] - 1s 14ms/step - loss: 0.6499 - accuracy: 0.6228 - val_loss: 0.6381 - val_accuracy: 0.6229\n",
      "Epoch 3/20\n",
      "99/99 [==============================] - 1s 14ms/step - loss: 0.6398 - accuracy: 0.6329 - val_loss: 0.6397 - val_accuracy: 0.6359\n",
      "Epoch 4/20\n",
      "99/99 [==============================] - 1s 14ms/step - loss: 0.6341 - accuracy: 0.6402 - val_loss: 0.6255 - val_accuracy: 0.6427\n",
      "Epoch 5/20\n",
      "99/99 [==============================] - 1s 14ms/step - loss: 0.6288 - accuracy: 0.6442 - val_loss: 0.6296 - val_accuracy: 0.6311\n",
      "Epoch 6/20\n",
      "99/99 [==============================] - 1s 14ms/step - loss: 0.6231 - accuracy: 0.6496 - val_loss: 0.6199 - val_accuracy: 0.6443\n",
      "Epoch 7/20\n",
      "99/99 [==============================] - 1s 14ms/step - loss: 0.6252 - accuracy: 0.6468 - val_loss: 0.6331 - val_accuracy: 0.6591\n",
      "Epoch 8/20\n",
      "99/99 [==============================] - 1s 14ms/step - loss: 0.6207 - accuracy: 0.6533 - val_loss: 0.6251 - val_accuracy: 0.6473\n",
      "Epoch 9/20\n",
      "99/99 [==============================] - 1s 14ms/step - loss: 0.6170 - accuracy: 0.6517 - val_loss: 0.6150 - val_accuracy: 0.6610\n",
      "Epoch 10/20\n",
      "99/99 [==============================] - 1s 14ms/step - loss: 0.6159 - accuracy: 0.6596 - val_loss: 0.6239 - val_accuracy: 0.6487\n",
      "Epoch 11/20\n",
      "99/99 [==============================] - 1s 14ms/step - loss: 0.6145 - accuracy: 0.6573 - val_loss: 0.6140 - val_accuracy: 0.6560\n",
      "Epoch 12/20\n",
      "99/99 [==============================] - 1s 14ms/step - loss: 0.6147 - accuracy: 0.6573 - val_loss: 0.6213 - val_accuracy: 0.6481\n",
      "Epoch 13/20\n",
      "99/99 [==============================] - 1s 14ms/step - loss: 0.6096 - accuracy: 0.6625 - val_loss: 0.6336 - val_accuracy: 0.6475\n",
      "Epoch 14/20\n",
      "99/99 [==============================] - 1s 14ms/step - loss: 0.6088 - accuracy: 0.6573 - val_loss: 0.6249 - val_accuracy: 0.6528\n",
      "Epoch 00014: early stopping\n",
      "50/50 [==============================] - 1s 5ms/step\n",
      "[CV 2/3] END dropout_rate=0.5, learning_rate=0.01, node_type=gru, nodes=[64, 64];, score=0.645 total time=  24.6s\n"
     ]
    },
    {
     "name": "stderr",
     "output_type": "stream",
     "text": [
      "WARNING:absl:Found untraced functions such as gru_cell_1_layer_call_fn, gru_cell_1_layer_call_and_return_conditional_losses, gru_cell_1_layer_call_fn, gru_cell_1_layer_call_and_return_conditional_losses, gru_cell_1_layer_call_and_return_conditional_losses while saving (showing 5 of 5). These functions will not be directly callable after loading.\n"
     ]
    },
    {
     "name": "stdout",
     "output_type": "stream",
     "text": [
      "INFO:tensorflow:Assets written to: C:\\Users\\jared\\AppData\\Local\\Temp\\tmpd0lhvmxj\\assets\n"
     ]
    },
    {
     "name": "stderr",
     "output_type": "stream",
     "text": [
      "INFO:tensorflow:Assets written to: C:\\Users\\jared\\AppData\\Local\\Temp\\tmpd0lhvmxj\\assets\n",
      "WARNING:absl:<keras.layers.recurrent.GRUCell object at 0x0000017E0BBDADF0> has the same name 'GRUCell' as a built-in Keras object. Consider renaming <class 'keras.layers.recurrent.GRUCell'> to avoid naming conflicts when loading with `tf.keras.models.load_model`. If renaming is not possible, pass the object in the `custom_objects` parameter of the load function.\n",
      "C:\\Users\\jared\\anaconda3\\envs\\tflow\\lib\\site-packages\\scikeras\\wrappers.py:289: UserWarning: ``build_fn`` will be renamed to ``model`` in a future release, at which point use of ``build_fn`` will raise an Error instead.\n",
      "  warnings.warn(\n"
     ]
    },
    {
     "name": "stdout",
     "output_type": "stream",
     "text": [
      "Epoch 1/20\n",
      "99/99 [==============================] - 4s 22ms/step - loss: 0.7097 - accuracy: 0.5729 - val_loss: 0.6638 - val_accuracy: 0.5881\n",
      "Epoch 2/20\n",
      "99/99 [==============================] - 1s 14ms/step - loss: 0.6497 - accuracy: 0.6258 - val_loss: 0.6415 - val_accuracy: 0.6345\n",
      "Epoch 3/20\n",
      "99/99 [==============================] - 1s 14ms/step - loss: 0.6382 - accuracy: 0.6346 - val_loss: 0.6245 - val_accuracy: 0.6508\n",
      "Epoch 4/20\n",
      "99/99 [==============================] - 1s 14ms/step - loss: 0.6368 - accuracy: 0.6389 - val_loss: 0.6216 - val_accuracy: 0.6555\n",
      "Epoch 5/20\n",
      "99/99 [==============================] - 1s 14ms/step - loss: 0.6314 - accuracy: 0.6459 - val_loss: 0.7121 - val_accuracy: 0.6187\n",
      "Epoch 6/20\n",
      "99/99 [==============================] - 1s 14ms/step - loss: 0.6293 - accuracy: 0.6503 - val_loss: 0.6392 - val_accuracy: 0.6394\n",
      "Epoch 7/20\n",
      "99/99 [==============================] - 1s 14ms/step - loss: 0.6233 - accuracy: 0.6516 - val_loss: 0.6350 - val_accuracy: 0.6350\n",
      "Epoch 00007: early stopping\n",
      "50/50 [==============================] - 1s 5ms/step\n",
      "[CV 3/3] END dropout_rate=0.5, learning_rate=0.01, node_type=gru, nodes=[64, 64];, score=0.634 total time=  15.1s\n"
     ]
    },
    {
     "name": "stderr",
     "output_type": "stream",
     "text": [
      "WARNING:absl:Found untraced functions such as gru_cell_1_layer_call_fn, gru_cell_1_layer_call_and_return_conditional_losses, gru_cell_1_layer_call_fn, gru_cell_1_layer_call_and_return_conditional_losses, gru_cell_1_layer_call_and_return_conditional_losses while saving (showing 5 of 5). These functions will not be directly callable after loading.\n"
     ]
    },
    {
     "name": "stdout",
     "output_type": "stream",
     "text": [
      "INFO:tensorflow:Assets written to: C:\\Users\\jared\\AppData\\Local\\Temp\\tmp2zt8arks\\assets\n"
     ]
    },
    {
     "name": "stderr",
     "output_type": "stream",
     "text": [
      "INFO:tensorflow:Assets written to: C:\\Users\\jared\\AppData\\Local\\Temp\\tmp2zt8arks\\assets\n",
      "WARNING:absl:<keras.layers.recurrent.GRUCell object at 0x0000017E0BBDADF0> has the same name 'GRUCell' as a built-in Keras object. Consider renaming <class 'keras.layers.recurrent.GRUCell'> to avoid naming conflicts when loading with `tf.keras.models.load_model`. If renaming is not possible, pass the object in the `custom_objects` parameter of the load function.\n",
      "C:\\Users\\jared\\anaconda3\\envs\\tflow\\lib\\site-packages\\scikeras\\wrappers.py:289: UserWarning: ``build_fn`` will be renamed to ``model`` in a future release, at which point use of ``build_fn`` will raise an Error instead.\n",
      "  warnings.warn(\n"
     ]
    },
    {
     "name": "stdout",
     "output_type": "stream",
     "text": [
      "Epoch 1/20\n",
      "99/99 [==============================] - 5s 27ms/step - loss: 0.7196 - accuracy: 0.5580 - val_loss: 0.6600 - val_accuracy: 0.6005\n",
      "Epoch 2/20\n",
      "99/99 [==============================] - 2s 19ms/step - loss: 0.6529 - accuracy: 0.6211 - val_loss: 0.6254 - val_accuracy: 0.6491\n",
      "Epoch 3/20\n",
      "99/99 [==============================] - 2s 19ms/step - loss: 0.6407 - accuracy: 0.6365 - val_loss: 0.6282 - val_accuracy: 0.6489\n",
      "Epoch 4/20\n",
      "99/99 [==============================] - 2s 19ms/step - loss: 0.6298 - accuracy: 0.6519 - val_loss: 0.6272 - val_accuracy: 0.6424\n",
      "Epoch 5/20\n",
      "99/99 [==============================] - 2s 19ms/step - loss: 0.6307 - accuracy: 0.6505 - val_loss: 0.6143 - val_accuracy: 0.6650\n",
      "Epoch 6/20\n",
      "99/99 [==============================] - 2s 19ms/step - loss: 0.6246 - accuracy: 0.6550 - val_loss: 0.6483 - val_accuracy: 0.6256\n",
      "Epoch 7/20\n",
      "99/99 [==============================] - 2s 19ms/step - loss: 0.6193 - accuracy: 0.6568 - val_loss: 0.6498 - val_accuracy: 0.6145\n",
      "Epoch 8/20\n",
      "99/99 [==============================] - 2s 18ms/step - loss: 0.6196 - accuracy: 0.6592 - val_loss: 0.6457 - val_accuracy: 0.6216\n",
      "Epoch 00008: early stopping\n",
      "50/50 [==============================] - 1s 6ms/step\n",
      "[CV 1/3] END dropout_rate=0.5, learning_rate=0.01, node_type=gru, nodes=[32, 32, 32];, score=0.618 total time=  21.0s\n"
     ]
    },
    {
     "name": "stderr",
     "output_type": "stream",
     "text": [
      "WARNING:absl:Found untraced functions such as gru_cell_1_layer_call_fn, gru_cell_1_layer_call_and_return_conditional_losses, gru_cell_1_layer_call_fn, gru_cell_1_layer_call_and_return_conditional_losses, gru_cell_1_layer_call_and_return_conditional_losses while saving (showing 5 of 5). These functions will not be directly callable after loading.\n"
     ]
    },
    {
     "name": "stdout",
     "output_type": "stream",
     "text": [
      "INFO:tensorflow:Assets written to: C:\\Users\\jared\\AppData\\Local\\Temp\\tmpkb8ukgwg\\assets\n"
     ]
    },
    {
     "name": "stderr",
     "output_type": "stream",
     "text": [
      "INFO:tensorflow:Assets written to: C:\\Users\\jared\\AppData\\Local\\Temp\\tmpkb8ukgwg\\assets\n",
      "WARNING:absl:<keras.layers.recurrent.GRUCell object at 0x0000017E0BBDADF0> has the same name 'GRUCell' as a built-in Keras object. Consider renaming <class 'keras.layers.recurrent.GRUCell'> to avoid naming conflicts when loading with `tf.keras.models.load_model`. If renaming is not possible, pass the object in the `custom_objects` parameter of the load function.\n",
      "C:\\Users\\jared\\anaconda3\\envs\\tflow\\lib\\site-packages\\scikeras\\wrappers.py:289: UserWarning: ``build_fn`` will be renamed to ``model`` in a future release, at which point use of ``build_fn`` will raise an Error instead.\n",
      "  warnings.warn(\n"
     ]
    },
    {
     "name": "stdout",
     "output_type": "stream",
     "text": [
      "Epoch 1/20\n",
      "99/99 [==============================] - 5s 27ms/step - loss: 0.7338 - accuracy: 0.5532 - val_loss: 0.6596 - val_accuracy: 0.6218\n",
      "Epoch 2/20\n",
      "99/99 [==============================] - 2s 18ms/step - loss: 0.6507 - accuracy: 0.6210 - val_loss: 0.6704 - val_accuracy: 0.5858\n",
      "Epoch 3/20\n",
      "99/99 [==============================] - 2s 19ms/step - loss: 0.6443 - accuracy: 0.6339 - val_loss: 0.6289 - val_accuracy: 0.6450\n",
      "Epoch 4/20\n",
      "99/99 [==============================] - 2s 19ms/step - loss: 0.6365 - accuracy: 0.6370 - val_loss: 0.6324 - val_accuracy: 0.6440\n",
      "Epoch 5/20\n",
      "99/99 [==============================] - 2s 20ms/step - loss: 0.6302 - accuracy: 0.6466 - val_loss: 0.6296 - val_accuracy: 0.6396\n",
      "Epoch 6/20\n",
      "99/99 [==============================] - 2s 19ms/step - loss: 0.6275 - accuracy: 0.6456 - val_loss: 0.6673 - val_accuracy: 0.5942\n",
      "Epoch 00006: early stopping\n",
      "50/50 [==============================] - 1s 6ms/step\n",
      "[CV 2/3] END dropout_rate=0.5, learning_rate=0.01, node_type=gru, nodes=[32, 32, 32];, score=0.577 total time=  17.6s\n"
     ]
    },
    {
     "name": "stderr",
     "output_type": "stream",
     "text": [
      "WARNING:absl:Found untraced functions such as gru_cell_1_layer_call_fn, gru_cell_1_layer_call_and_return_conditional_losses, gru_cell_1_layer_call_fn, gru_cell_1_layer_call_and_return_conditional_losses, gru_cell_1_layer_call_and_return_conditional_losses while saving (showing 5 of 5). These functions will not be directly callable after loading.\n"
     ]
    },
    {
     "name": "stdout",
     "output_type": "stream",
     "text": [
      "INFO:tensorflow:Assets written to: C:\\Users\\jared\\AppData\\Local\\Temp\\tmpar90nhiu\\assets\n"
     ]
    },
    {
     "name": "stderr",
     "output_type": "stream",
     "text": [
      "INFO:tensorflow:Assets written to: C:\\Users\\jared\\AppData\\Local\\Temp\\tmpar90nhiu\\assets\n",
      "WARNING:absl:<keras.layers.recurrent.GRUCell object at 0x0000017E0BBDADF0> has the same name 'GRUCell' as a built-in Keras object. Consider renaming <class 'keras.layers.recurrent.GRUCell'> to avoid naming conflicts when loading with `tf.keras.models.load_model`. If renaming is not possible, pass the object in the `custom_objects` parameter of the load function.\n",
      "C:\\Users\\jared\\anaconda3\\envs\\tflow\\lib\\site-packages\\scikeras\\wrappers.py:289: UserWarning: ``build_fn`` will be renamed to ``model`` in a future release, at which point use of ``build_fn`` will raise an Error instead.\n",
      "  warnings.warn(\n"
     ]
    },
    {
     "name": "stdout",
     "output_type": "stream",
     "text": [
      "Epoch 1/20\n",
      "99/99 [==============================] - 5s 28ms/step - loss: 0.7200 - accuracy: 0.5565 - val_loss: 0.6557 - val_accuracy: 0.6159\n",
      "Epoch 2/20\n",
      "99/99 [==============================] - 2s 19ms/step - loss: 0.6540 - accuracy: 0.6198 - val_loss: 0.6358 - val_accuracy: 0.6439\n",
      "Epoch 3/20\n",
      "99/99 [==============================] - 2s 19ms/step - loss: 0.6441 - accuracy: 0.6337 - val_loss: 0.6748 - val_accuracy: 0.6148\n",
      "Epoch 4/20\n",
      "99/99 [==============================] - 2s 19ms/step - loss: 0.6380 - accuracy: 0.6397 - val_loss: 0.6371 - val_accuracy: 0.6411\n",
      "Epoch 5/20\n",
      "99/99 [==============================] - 2s 20ms/step - loss: 0.6351 - accuracy: 0.6420 - val_loss: 0.6351 - val_accuracy: 0.6629\n",
      "Epoch 6/20\n",
      "99/99 [==============================] - 2s 19ms/step - loss: 0.6292 - accuracy: 0.6471 - val_loss: 0.6252 - val_accuracy: 0.6584\n",
      "Epoch 7/20\n",
      "99/99 [==============================] - 2s 19ms/step - loss: 0.6268 - accuracy: 0.6527 - val_loss: 0.6232 - val_accuracy: 0.6547\n",
      "Epoch 8/20\n",
      "99/99 [==============================] - 2s 19ms/step - loss: 0.6245 - accuracy: 0.6576 - val_loss: 0.6197 - val_accuracy: 0.6431\n",
      "Epoch 9/20\n",
      "99/99 [==============================] - 2s 19ms/step - loss: 0.6213 - accuracy: 0.6623 - val_loss: 0.6146 - val_accuracy: 0.6570\n",
      "Epoch 10/20\n",
      "99/99 [==============================] - 2s 19ms/step - loss: 0.6228 - accuracy: 0.6636 - val_loss: 0.6268 - val_accuracy: 0.6588\n",
      "Epoch 11/20\n",
      "99/99 [==============================] - 2s 19ms/step - loss: 0.6193 - accuracy: 0.6590 - val_loss: 0.6274 - val_accuracy: 0.6676\n",
      "Epoch 12/20\n",
      "99/99 [==============================] - 2s 19ms/step - loss: 0.6166 - accuracy: 0.6609 - val_loss: 0.6261 - val_accuracy: 0.6631\n",
      "Epoch 00012: early stopping\n",
      "50/50 [==============================] - 1s 6ms/step\n",
      "[CV 3/3] END dropout_rate=0.5, learning_rate=0.01, node_type=gru, nodes=[32, 32, 32];, score=0.650 total time=  29.1s\n"
     ]
    },
    {
     "name": "stderr",
     "output_type": "stream",
     "text": [
      "WARNING:absl:Found untraced functions such as gru_cell_1_layer_call_fn, gru_cell_1_layer_call_and_return_conditional_losses, gru_cell_1_layer_call_fn, gru_cell_1_layer_call_and_return_conditional_losses, gru_cell_1_layer_call_and_return_conditional_losses while saving (showing 5 of 5). These functions will not be directly callable after loading.\n"
     ]
    },
    {
     "name": "stdout",
     "output_type": "stream",
     "text": [
      "INFO:tensorflow:Assets written to: C:\\Users\\jared\\AppData\\Local\\Temp\\tmpkzptgm26\\assets\n"
     ]
    },
    {
     "name": "stderr",
     "output_type": "stream",
     "text": [
      "INFO:tensorflow:Assets written to: C:\\Users\\jared\\AppData\\Local\\Temp\\tmpkzptgm26\\assets\n",
      "WARNING:absl:<keras.layers.recurrent.GRUCell object at 0x0000017E0BBDADF0> has the same name 'GRUCell' as a built-in Keras object. Consider renaming <class 'keras.layers.recurrent.GRUCell'> to avoid naming conflicts when loading with `tf.keras.models.load_model`. If renaming is not possible, pass the object in the `custom_objects` parameter of the load function.\n",
      "C:\\Users\\jared\\anaconda3\\envs\\tflow\\lib\\site-packages\\scikeras\\wrappers.py:289: UserWarning: ``build_fn`` will be renamed to ``model`` in a future release, at which point use of ``build_fn`` will raise an Error instead.\n",
      "  warnings.warn(\n"
     ]
    },
    {
     "name": "stdout",
     "output_type": "stream",
     "text": [
      "Epoch 1/20\n",
      "99/99 [==============================] - 3s 18ms/step - loss: 0.7749 - accuracy: 0.5117 - val_loss: 0.6901 - val_accuracy: 0.5219\n",
      "Epoch 2/20\n",
      "99/99 [==============================] - 1s 12ms/step - loss: 0.6899 - accuracy: 0.5255 - val_loss: 0.6871 - val_accuracy: 0.5408\n",
      "Epoch 3/20\n",
      "99/99 [==============================] - 1s 12ms/step - loss: 0.6868 - accuracy: 0.5341 - val_loss: 0.6800 - val_accuracy: 0.5522\n",
      "Epoch 4/20\n",
      "99/99 [==============================] - 1s 12ms/step - loss: 0.6881 - accuracy: 0.5349 - val_loss: 0.6803 - val_accuracy: 0.5577\n",
      "Epoch 5/20\n",
      "99/99 [==============================] - 1s 12ms/step - loss: 0.6864 - accuracy: 0.5366 - val_loss: 0.6934 - val_accuracy: 0.5100\n",
      "Epoch 6/20\n",
      "99/99 [==============================] - 1s 12ms/step - loss: 0.6846 - accuracy: 0.5433 - val_loss: 0.6872 - val_accuracy: 0.5163\n",
      "Epoch 00006: early stopping\n",
      "50/50 [==============================] - 0s 4ms/step\n",
      "[CV 1/3] END dropout_rate=0.5, learning_rate=0.1, node_type=lstm, nodes=[128];, score=nan total time=  11.1s\n"
     ]
    },
    {
     "name": "stderr",
     "output_type": "stream",
     "text": [
      "C:\\Users\\jared\\anaconda3\\envs\\tflow\\lib\\site-packages\\sklearn\\model_selection\\_validation.py:771: UserWarning: Scoring failed. The score on this train-test partition for these parameters will be set to nan. Details: \n",
      "Traceback (most recent call last):\n",
      "  File \"C:\\Users\\jared\\anaconda3\\envs\\tflow\\lib\\site-packages\\sklearn\\model_selection\\_validation.py\", line 762, in _score\n",
      "    scores = scorer(estimator, X_test, y_test)\n",
      "  File \"C:\\Users\\jared\\anaconda3\\envs\\tflow\\lib\\site-packages\\sklearn\\metrics\\_scorer.py\", line 216, in __call__\n",
      "    return self._score(\n",
      "  File \"C:\\Users\\jared\\anaconda3\\envs\\tflow\\lib\\site-packages\\sklearn\\metrics\\_scorer.py\", line 258, in _score\n",
      "    y_pred = method_caller(estimator, \"predict\", X)\n",
      "  File \"C:\\Users\\jared\\anaconda3\\envs\\tflow\\lib\\site-packages\\sklearn\\metrics\\_scorer.py\", line 68, in _cached_call\n",
      "    return getattr(estimator, method)(*args, **kwargs)\n",
      "  File \"C:\\Users\\jared\\anaconda3\\envs\\tflow\\lib\\site-packages\\scikeras\\wrappers.py\", line 1013, in predict\n",
      "    y_pred = self.target_encoder_.inverse_transform(y_pred)\n",
      "  File \"C:\\Users\\jared\\anaconda3\\envs\\tflow\\lib\\site-packages\\scikeras\\utils\\transformers.py\", line 257, in inverse_transform\n",
      "    class_predictions = self._final_encoder.inverse_transform(class_predictions)\n",
      "  File \"C:\\Users\\jared\\anaconda3\\envs\\tflow\\lib\\site-packages\\sklearn\\utils\\metaestimators.py\", line 113, in <lambda>\n",
      "    out = lambda *args, **kwargs: self.fn(obj, *args, **kwargs)  # noqa\n",
      "  File \"C:\\Users\\jared\\anaconda3\\envs\\tflow\\lib\\site-packages\\sklearn\\pipeline.py\", line 675, in inverse_transform\n",
      "    Xt = transform.inverse_transform(Xt)\n",
      "  File \"C:\\Users\\jared\\anaconda3\\envs\\tflow\\lib\\site-packages\\sklearn\\preprocessing\\_encoders.py\", line 990, in inverse_transform\n",
      "    X_tr[:, i] = self.categories_[i][labels]\n",
      "IndexError: index 54 is out of bounds for axis 0 with size 2\n",
      "\n",
      "  warnings.warn(\n",
      "WARNING:absl:Found untraced functions such as gru_cell_1_layer_call_fn, gru_cell_1_layer_call_and_return_conditional_losses, gru_cell_1_layer_call_fn, gru_cell_1_layer_call_and_return_conditional_losses, gru_cell_1_layer_call_and_return_conditional_losses while saving (showing 5 of 5). These functions will not be directly callable after loading.\n"
     ]
    },
    {
     "name": "stdout",
     "output_type": "stream",
     "text": [
      "INFO:tensorflow:Assets written to: C:\\Users\\jared\\AppData\\Local\\Temp\\tmpppt_f3n6\\assets\n"
     ]
    },
    {
     "name": "stderr",
     "output_type": "stream",
     "text": [
      "INFO:tensorflow:Assets written to: C:\\Users\\jared\\AppData\\Local\\Temp\\tmpppt_f3n6\\assets\n",
      "WARNING:absl:<keras.layers.recurrent.GRUCell object at 0x0000017E0BBDADF0> has the same name 'GRUCell' as a built-in Keras object. Consider renaming <class 'keras.layers.recurrent.GRUCell'> to avoid naming conflicts when loading with `tf.keras.models.load_model`. If renaming is not possible, pass the object in the `custom_objects` parameter of the load function.\n",
      "C:\\Users\\jared\\anaconda3\\envs\\tflow\\lib\\site-packages\\scikeras\\wrappers.py:289: UserWarning: ``build_fn`` will be renamed to ``model`` in a future release, at which point use of ``build_fn`` will raise an Error instead.\n",
      "  warnings.warn(\n"
     ]
    },
    {
     "name": "stdout",
     "output_type": "stream",
     "text": [
      "Epoch 1/20\n",
      "99/99 [==============================] - 3s 18ms/step - loss: 0.7734 - accuracy: 0.5043 - val_loss: 0.6931 - val_accuracy: 0.5092\n",
      "Epoch 2/20\n",
      "99/99 [==============================] - 1s 12ms/step - loss: 0.6917 - accuracy: 0.5228 - val_loss: 0.6911 - val_accuracy: 0.5269\n",
      "Epoch 3/20\n",
      "99/99 [==============================] - 1s 12ms/step - loss: 0.6909 - accuracy: 0.5252 - val_loss: 0.6841 - val_accuracy: 0.5484\n",
      "Epoch 4/20\n",
      "99/99 [==============================] - 1s 12ms/step - loss: 0.6905 - accuracy: 0.5279 - val_loss: 0.6849 - val_accuracy: 0.5474\n",
      "Epoch 5/20\n",
      "99/99 [==============================] - 1s 12ms/step - loss: 0.6869 - accuracy: 0.5359 - val_loss: 0.6809 - val_accuracy: 0.5548\n",
      "Epoch 6/20\n",
      "99/99 [==============================] - 1s 12ms/step - loss: 0.6873 - accuracy: 0.5382 - val_loss: 0.6777 - val_accuracy: 0.5618\n",
      "Epoch 7/20\n",
      "99/99 [==============================] - 1s 12ms/step - loss: 0.6868 - accuracy: 0.5431 - val_loss: 0.6823 - val_accuracy: 0.5533\n",
      "Epoch 8/20\n",
      "99/99 [==============================] - 1s 12ms/step - loss: 0.6885 - accuracy: 0.5377 - val_loss: 0.6793 - val_accuracy: 0.5545\n",
      "Epoch 9/20\n",
      "99/99 [==============================] - 1s 12ms/step - loss: 0.6855 - accuracy: 0.5449 - val_loss: 0.6773 - val_accuracy: 0.5661\n",
      "Epoch 10/20\n",
      "99/99 [==============================] - 1s 12ms/step - loss: 0.6868 - accuracy: 0.5406 - val_loss: 0.6752 - val_accuracy: 0.5638\n",
      "Epoch 11/20\n",
      "99/99 [==============================] - 1s 12ms/step - loss: 0.6867 - accuracy: 0.5438 - val_loss: 0.6870 - val_accuracy: 0.5482\n",
      "Epoch 12/20\n",
      "99/99 [==============================] - 1s 12ms/step - loss: 0.6859 - accuracy: 0.5415 - val_loss: 0.6820 - val_accuracy: 0.5556\n",
      "Epoch 13/20\n",
      "99/99 [==============================] - 1s 12ms/step - loss: 0.6871 - accuracy: 0.5430 - val_loss: 0.6892 - val_accuracy: 0.5517\n",
      "Epoch 00013: early stopping\n",
      "50/50 [==============================] - 0s 4ms/step\n",
      "[CV 2/3] END dropout_rate=0.5, learning_rate=0.1, node_type=lstm, nodes=[128];, score=nan total time=  19.8s\n"
     ]
    },
    {
     "name": "stderr",
     "output_type": "stream",
     "text": [
      "C:\\Users\\jared\\anaconda3\\envs\\tflow\\lib\\site-packages\\sklearn\\model_selection\\_validation.py:771: UserWarning: Scoring failed. The score on this train-test partition for these parameters will be set to nan. Details: \n",
      "Traceback (most recent call last):\n",
      "  File \"C:\\Users\\jared\\anaconda3\\envs\\tflow\\lib\\site-packages\\sklearn\\model_selection\\_validation.py\", line 762, in _score\n",
      "    scores = scorer(estimator, X_test, y_test)\n",
      "  File \"C:\\Users\\jared\\anaconda3\\envs\\tflow\\lib\\site-packages\\sklearn\\metrics\\_scorer.py\", line 216, in __call__\n",
      "    return self._score(\n",
      "  File \"C:\\Users\\jared\\anaconda3\\envs\\tflow\\lib\\site-packages\\sklearn\\metrics\\_scorer.py\", line 258, in _score\n",
      "    y_pred = method_caller(estimator, \"predict\", X)\n",
      "  File \"C:\\Users\\jared\\anaconda3\\envs\\tflow\\lib\\site-packages\\sklearn\\metrics\\_scorer.py\", line 68, in _cached_call\n",
      "    return getattr(estimator, method)(*args, **kwargs)\n",
      "  File \"C:\\Users\\jared\\anaconda3\\envs\\tflow\\lib\\site-packages\\scikeras\\wrappers.py\", line 1013, in predict\n",
      "    y_pred = self.target_encoder_.inverse_transform(y_pred)\n",
      "  File \"C:\\Users\\jared\\anaconda3\\envs\\tflow\\lib\\site-packages\\scikeras\\utils\\transformers.py\", line 257, in inverse_transform\n",
      "    class_predictions = self._final_encoder.inverse_transform(class_predictions)\n",
      "  File \"C:\\Users\\jared\\anaconda3\\envs\\tflow\\lib\\site-packages\\sklearn\\utils\\metaestimators.py\", line 113, in <lambda>\n",
      "    out = lambda *args, **kwargs: self.fn(obj, *args, **kwargs)  # noqa\n",
      "  File \"C:\\Users\\jared\\anaconda3\\envs\\tflow\\lib\\site-packages\\sklearn\\pipeline.py\", line 675, in inverse_transform\n",
      "    Xt = transform.inverse_transform(Xt)\n",
      "  File \"C:\\Users\\jared\\anaconda3\\envs\\tflow\\lib\\site-packages\\sklearn\\preprocessing\\_encoders.py\", line 990, in inverse_transform\n",
      "    X_tr[:, i] = self.categories_[i][labels]\n",
      "IndexError: index 50 is out of bounds for axis 0 with size 2\n",
      "\n",
      "  warnings.warn(\n",
      "WARNING:absl:Found untraced functions such as gru_cell_1_layer_call_fn, gru_cell_1_layer_call_and_return_conditional_losses, gru_cell_1_layer_call_fn, gru_cell_1_layer_call_and_return_conditional_losses, gru_cell_1_layer_call_and_return_conditional_losses while saving (showing 5 of 5). These functions will not be directly callable after loading.\n"
     ]
    },
    {
     "name": "stdout",
     "output_type": "stream",
     "text": [
      "INFO:tensorflow:Assets written to: C:\\Users\\jared\\AppData\\Local\\Temp\\tmp9hai8qf0\\assets\n"
     ]
    },
    {
     "name": "stderr",
     "output_type": "stream",
     "text": [
      "INFO:tensorflow:Assets written to: C:\\Users\\jared\\AppData\\Local\\Temp\\tmp9hai8qf0\\assets\n",
      "WARNING:absl:<keras.layers.recurrent.GRUCell object at 0x0000017E0BBDADF0> has the same name 'GRUCell' as a built-in Keras object. Consider renaming <class 'keras.layers.recurrent.GRUCell'> to avoid naming conflicts when loading with `tf.keras.models.load_model`. If renaming is not possible, pass the object in the `custom_objects` parameter of the load function.\n",
      "C:\\Users\\jared\\anaconda3\\envs\\tflow\\lib\\site-packages\\scikeras\\wrappers.py:289: UserWarning: ``build_fn`` will be renamed to ``model`` in a future release, at which point use of ``build_fn`` will raise an Error instead.\n",
      "  warnings.warn(\n"
     ]
    },
    {
     "name": "stdout",
     "output_type": "stream",
     "text": [
      "Epoch 1/20\n",
      "99/99 [==============================] - 3s 18ms/step - loss: 0.7487 - accuracy: 0.5045 - val_loss: 0.6959 - val_accuracy: 0.5108\n",
      "Epoch 2/20\n",
      "99/99 [==============================] - 1s 12ms/step - loss: 0.6931 - accuracy: 0.5122 - val_loss: 0.6908 - val_accuracy: 0.5255\n",
      "Epoch 3/20\n",
      "99/99 [==============================] - 1s 12ms/step - loss: 0.6920 - accuracy: 0.5178 - val_loss: 0.6891 - val_accuracy: 0.5240\n",
      "Epoch 4/20\n",
      "99/99 [==============================] - 1s 12ms/step - loss: 0.6930 - accuracy: 0.5172 - val_loss: 0.6910 - val_accuracy: 0.5251\n",
      "Epoch 5/20\n",
      "99/99 [==============================] - 1s 12ms/step - loss: 0.6892 - accuracy: 0.5338 - val_loss: 0.6831 - val_accuracy: 0.5532\n",
      "Epoch 6/20\n",
      "99/99 [==============================] - 1s 12ms/step - loss: 0.6882 - accuracy: 0.5357 - val_loss: 0.6796 - val_accuracy: 0.5540\n",
      "Epoch 7/20\n",
      "99/99 [==============================] - 1s 12ms/step - loss: 0.6919 - accuracy: 0.5368 - val_loss: 0.6927 - val_accuracy: 0.5279\n",
      "Epoch 8/20\n",
      "99/99 [==============================] - 1s 12ms/step - loss: 0.6872 - accuracy: 0.5409 - val_loss: 0.6901 - val_accuracy: 0.5443\n",
      "Epoch 9/20\n",
      "99/99 [==============================] - 1s 12ms/step - loss: 0.6862 - accuracy: 0.5461 - val_loss: 0.6882 - val_accuracy: 0.5396\n",
      "Epoch 00009: early stopping\n",
      "50/50 [==============================] - 0s 4ms/step\n",
      "[CV 3/3] END dropout_rate=0.5, learning_rate=0.1, node_type=lstm, nodes=[128];, score=nan total time=  14.5s\n"
     ]
    },
    {
     "name": "stderr",
     "output_type": "stream",
     "text": [
      "C:\\Users\\jared\\anaconda3\\envs\\tflow\\lib\\site-packages\\sklearn\\model_selection\\_validation.py:771: UserWarning: Scoring failed. The score on this train-test partition for these parameters will be set to nan. Details: \n",
      "Traceback (most recent call last):\n",
      "  File \"C:\\Users\\jared\\anaconda3\\envs\\tflow\\lib\\site-packages\\sklearn\\model_selection\\_validation.py\", line 762, in _score\n",
      "    scores = scorer(estimator, X_test, y_test)\n",
      "  File \"C:\\Users\\jared\\anaconda3\\envs\\tflow\\lib\\site-packages\\sklearn\\metrics\\_scorer.py\", line 216, in __call__\n",
      "    return self._score(\n",
      "  File \"C:\\Users\\jared\\anaconda3\\envs\\tflow\\lib\\site-packages\\sklearn\\metrics\\_scorer.py\", line 258, in _score\n",
      "    y_pred = method_caller(estimator, \"predict\", X)\n",
      "  File \"C:\\Users\\jared\\anaconda3\\envs\\tflow\\lib\\site-packages\\sklearn\\metrics\\_scorer.py\", line 68, in _cached_call\n",
      "    return getattr(estimator, method)(*args, **kwargs)\n",
      "  File \"C:\\Users\\jared\\anaconda3\\envs\\tflow\\lib\\site-packages\\scikeras\\wrappers.py\", line 1013, in predict\n",
      "    y_pred = self.target_encoder_.inverse_transform(y_pred)\n",
      "  File \"C:\\Users\\jared\\anaconda3\\envs\\tflow\\lib\\site-packages\\scikeras\\utils\\transformers.py\", line 257, in inverse_transform\n",
      "    class_predictions = self._final_encoder.inverse_transform(class_predictions)\n",
      "  File \"C:\\Users\\jared\\anaconda3\\envs\\tflow\\lib\\site-packages\\sklearn\\utils\\metaestimators.py\", line 113, in <lambda>\n",
      "    out = lambda *args, **kwargs: self.fn(obj, *args, **kwargs)  # noqa\n",
      "  File \"C:\\Users\\jared\\anaconda3\\envs\\tflow\\lib\\site-packages\\sklearn\\pipeline.py\", line 675, in inverse_transform\n",
      "    Xt = transform.inverse_transform(Xt)\n",
      "  File \"C:\\Users\\jared\\anaconda3\\envs\\tflow\\lib\\site-packages\\sklearn\\preprocessing\\_encoders.py\", line 990, in inverse_transform\n",
      "    X_tr[:, i] = self.categories_[i][labels]\n",
      "IndexError: index 59 is out of bounds for axis 0 with size 2\n",
      "\n",
      "  warnings.warn(\n",
      "WARNING:absl:Found untraced functions such as gru_cell_1_layer_call_fn, gru_cell_1_layer_call_and_return_conditional_losses, gru_cell_1_layer_call_fn, gru_cell_1_layer_call_and_return_conditional_losses, gru_cell_1_layer_call_and_return_conditional_losses while saving (showing 5 of 5). These functions will not be directly callable after loading.\n"
     ]
    },
    {
     "name": "stdout",
     "output_type": "stream",
     "text": [
      "INFO:tensorflow:Assets written to: C:\\Users\\jared\\AppData\\Local\\Temp\\tmpuctldtah\\assets\n"
     ]
    },
    {
     "name": "stderr",
     "output_type": "stream",
     "text": [
      "INFO:tensorflow:Assets written to: C:\\Users\\jared\\AppData\\Local\\Temp\\tmpuctldtah\\assets\n",
      "WARNING:absl:<keras.layers.recurrent.GRUCell object at 0x0000017E0BBDADF0> has the same name 'GRUCell' as a built-in Keras object. Consider renaming <class 'keras.layers.recurrent.GRUCell'> to avoid naming conflicts when loading with `tf.keras.models.load_model`. If renaming is not possible, pass the object in the `custom_objects` parameter of the load function.\n",
      "C:\\Users\\jared\\anaconda3\\envs\\tflow\\lib\\site-packages\\scikeras\\wrappers.py:289: UserWarning: ``build_fn`` will be renamed to ``model`` in a future release, at which point use of ``build_fn`` will raise an Error instead.\n",
      "  warnings.warn(\n"
     ]
    },
    {
     "name": "stdout",
     "output_type": "stream",
     "text": [
      "Epoch 1/20\n",
      "99/99 [==============================] - 4s 22ms/step - loss: 0.7306 - accuracy: 0.5147 - val_loss: 0.6949 - val_accuracy: 0.5089\n",
      "Epoch 2/20\n",
      "99/99 [==============================] - 2s 15ms/step - loss: 0.7041 - accuracy: 0.4975 - val_loss: 0.7222 - val_accuracy: 0.4912\n",
      "Epoch 3/20\n",
      "99/99 [==============================] - 2s 16ms/step - loss: 0.7028 - accuracy: 0.4958 - val_loss: 0.6980 - val_accuracy: 0.4912\n",
      "Epoch 4/20\n",
      "99/99 [==============================] - 2s 15ms/step - loss: 0.7050 - accuracy: 0.5068 - val_loss: 0.7164 - val_accuracy: 0.5088\n",
      "Epoch 00004: early stopping\n",
      "50/50 [==============================] - 1s 5ms/step\n",
      "[CV 1/3] END dropout_rate=0.5, learning_rate=0.1, node_type=lstm, nodes=[64, 64];, score=0.509 total time=  11.4s\n"
     ]
    },
    {
     "name": "stderr",
     "output_type": "stream",
     "text": [
      "WARNING:absl:Found untraced functions such as gru_cell_1_layer_call_fn, gru_cell_1_layer_call_and_return_conditional_losses, gru_cell_1_layer_call_fn, gru_cell_1_layer_call_and_return_conditional_losses, gru_cell_1_layer_call_and_return_conditional_losses while saving (showing 5 of 5). These functions will not be directly callable after loading.\n"
     ]
    },
    {
     "name": "stdout",
     "output_type": "stream",
     "text": [
      "INFO:tensorflow:Assets written to: C:\\Users\\jared\\AppData\\Local\\Temp\\tmp75jstn7k\\assets\n"
     ]
    },
    {
     "name": "stderr",
     "output_type": "stream",
     "text": [
      "INFO:tensorflow:Assets written to: C:\\Users\\jared\\AppData\\Local\\Temp\\tmp75jstn7k\\assets\n",
      "WARNING:absl:<keras.layers.recurrent.GRUCell object at 0x0000017E0BBDADF0> has the same name 'GRUCell' as a built-in Keras object. Consider renaming <class 'keras.layers.recurrent.GRUCell'> to avoid naming conflicts when loading with `tf.keras.models.load_model`. If renaming is not possible, pass the object in the `custom_objects` parameter of the load function.\n",
      "C:\\Users\\jared\\anaconda3\\envs\\tflow\\lib\\site-packages\\scikeras\\wrappers.py:289: UserWarning: ``build_fn`` will be renamed to ``model`` in a future release, at which point use of ``build_fn`` will raise an Error instead.\n",
      "  warnings.warn(\n"
     ]
    },
    {
     "name": "stdout",
     "output_type": "stream",
     "text": [
      "Epoch 1/20\n",
      "99/99 [==============================] - 4s 23ms/step - loss: 0.7301 - accuracy: 0.5064 - val_loss: 0.7015 - val_accuracy: 0.4912\n",
      "Epoch 2/20\n",
      "99/99 [==============================] - 2s 16ms/step - loss: 0.7031 - accuracy: 0.4956 - val_loss: 0.6989 - val_accuracy: 0.4912\n",
      "Epoch 3/20\n",
      "99/99 [==============================] - 2s 15ms/step - loss: 0.7075 - accuracy: 0.5102 - val_loss: 0.7009 - val_accuracy: 0.4914\n",
      "Epoch 4/20\n",
      "99/99 [==============================] - 1s 15ms/step - loss: 0.7125 - accuracy: 0.5022 - val_loss: 0.7326 - val_accuracy: 0.5088\n",
      "Epoch 5/20\n",
      "99/99 [==============================] - 1s 15ms/step - loss: 0.7106 - accuracy: 0.5024 - val_loss: 0.7056 - val_accuracy: 0.4912\n",
      "Epoch 00005: early stopping\n",
      "50/50 [==============================] - 1s 5ms/step\n",
      "[CV 2/3] END dropout_rate=0.5, learning_rate=0.1, node_type=lstm, nodes=[64, 64];, score=0.491 total time=  13.0s\n"
     ]
    },
    {
     "name": "stderr",
     "output_type": "stream",
     "text": [
      "WARNING:absl:Found untraced functions such as gru_cell_1_layer_call_fn, gru_cell_1_layer_call_and_return_conditional_losses, gru_cell_1_layer_call_fn, gru_cell_1_layer_call_and_return_conditional_losses, gru_cell_1_layer_call_and_return_conditional_losses while saving (showing 5 of 5). These functions will not be directly callable after loading.\n"
     ]
    },
    {
     "name": "stdout",
     "output_type": "stream",
     "text": [
      "INFO:tensorflow:Assets written to: C:\\Users\\jared\\AppData\\Local\\Temp\\tmph8buv154\\assets\n"
     ]
    },
    {
     "name": "stderr",
     "output_type": "stream",
     "text": [
      "INFO:tensorflow:Assets written to: C:\\Users\\jared\\AppData\\Local\\Temp\\tmph8buv154\\assets\n",
      "WARNING:absl:<keras.layers.recurrent.GRUCell object at 0x0000017E0BBDADF0> has the same name 'GRUCell' as a built-in Keras object. Consider renaming <class 'keras.layers.recurrent.GRUCell'> to avoid naming conflicts when loading with `tf.keras.models.load_model`. If renaming is not possible, pass the object in the `custom_objects` parameter of the load function.\n",
      "C:\\Users\\jared\\anaconda3\\envs\\tflow\\lib\\site-packages\\scikeras\\wrappers.py:289: UserWarning: ``build_fn`` will be renamed to ``model`` in a future release, at which point use of ``build_fn`` will raise an Error instead.\n",
      "  warnings.warn(\n"
     ]
    },
    {
     "name": "stdout",
     "output_type": "stream",
     "text": [
      "Epoch 1/20\n",
      "99/99 [==============================] - 4s 22ms/step - loss: 0.7361 - accuracy: 0.5107 - val_loss: 0.6946 - val_accuracy: 0.4908\n",
      "Epoch 2/20\n",
      "99/99 [==============================] - 1s 15ms/step - loss: 0.7034 - accuracy: 0.5049 - val_loss: 0.6945 - val_accuracy: 0.4861\n",
      "Epoch 3/20\n",
      "99/99 [==============================] - 1s 15ms/step - loss: 0.7060 - accuracy: 0.5045 - val_loss: 0.7057 - val_accuracy: 0.5083\n",
      "Epoch 4/20\n",
      "99/99 [==============================] - 1s 15ms/step - loss: 0.7185 - accuracy: 0.5065 - val_loss: 0.7224 - val_accuracy: 0.5087\n",
      "Epoch 5/20\n",
      "99/99 [==============================] - 1s 15ms/step - loss: 0.7109 - accuracy: 0.4943 - val_loss: 0.7114 - val_accuracy: 0.4904\n",
      "Epoch 00005: early stopping\n",
      "50/50 [==============================] - 1s 5ms/step\n",
      "[CV 3/3] END dropout_rate=0.5, learning_rate=0.1, node_type=lstm, nodes=[64, 64];, score=0.491 total time=  12.8s\n"
     ]
    },
    {
     "name": "stderr",
     "output_type": "stream",
     "text": [
      "WARNING:absl:Found untraced functions such as gru_cell_1_layer_call_fn, gru_cell_1_layer_call_and_return_conditional_losses, gru_cell_1_layer_call_fn, gru_cell_1_layer_call_and_return_conditional_losses, gru_cell_1_layer_call_and_return_conditional_losses while saving (showing 5 of 5). These functions will not be directly callable after loading.\n"
     ]
    },
    {
     "name": "stdout",
     "output_type": "stream",
     "text": [
      "INFO:tensorflow:Assets written to: C:\\Users\\jared\\AppData\\Local\\Temp\\tmptvwdekbo\\assets\n"
     ]
    },
    {
     "name": "stderr",
     "output_type": "stream",
     "text": [
      "INFO:tensorflow:Assets written to: C:\\Users\\jared\\AppData\\Local\\Temp\\tmptvwdekbo\\assets\n",
      "WARNING:absl:<keras.layers.recurrent.GRUCell object at 0x0000017E0BBDADF0> has the same name 'GRUCell' as a built-in Keras object. Consider renaming <class 'keras.layers.recurrent.GRUCell'> to avoid naming conflicts when loading with `tf.keras.models.load_model`. If renaming is not possible, pass the object in the `custom_objects` parameter of the load function.\n",
      "C:\\Users\\jared\\anaconda3\\envs\\tflow\\lib\\site-packages\\scikeras\\wrappers.py:289: UserWarning: ``build_fn`` will be renamed to ``model`` in a future release, at which point use of ``build_fn`` will raise an Error instead.\n",
      "  warnings.warn(\n"
     ]
    },
    {
     "name": "stdout",
     "output_type": "stream",
     "text": [
      "Epoch 1/20\n",
      "99/99 [==============================] - 5s 30ms/step - loss: 0.7161 - accuracy: 0.5105 - val_loss: 0.7018 - val_accuracy: 0.4912\n",
      "Epoch 2/20\n",
      "99/99 [==============================] - 2s 18ms/step - loss: 0.6999 - accuracy: 0.5052 - val_loss: 0.6935 - val_accuracy: 0.4912\n",
      "Epoch 3/20\n",
      "99/99 [==============================] - 2s 18ms/step - loss: 0.6985 - accuracy: 0.4925 - val_loss: 0.6931 - val_accuracy: 0.5070\n",
      "Epoch 4/20\n",
      "99/99 [==============================] - 2s 18ms/step - loss: 0.7002 - accuracy: 0.5077 - val_loss: 0.6981 - val_accuracy: 0.4997\n",
      "Epoch 5/20\n",
      "99/99 [==============================] - 2s 18ms/step - loss: 0.7041 - accuracy: 0.4982 - val_loss: 0.6979 - val_accuracy: 0.5064\n",
      "Epoch 6/20\n",
      "99/99 [==============================] - 2s 18ms/step - loss: 0.7032 - accuracy: 0.4965 - val_loss: 0.6999 - val_accuracy: 0.5087\n",
      "Epoch 00006: early stopping\n",
      "50/50 [==============================] - 1s 6ms/step\n",
      "[CV 1/3] END dropout_rate=0.5, learning_rate=0.1, node_type=lstm, nodes=[32, 32, 32];, score=0.509 total time=  17.5s\n"
     ]
    },
    {
     "name": "stderr",
     "output_type": "stream",
     "text": [
      "WARNING:absl:Found untraced functions such as gru_cell_1_layer_call_fn, gru_cell_1_layer_call_and_return_conditional_losses, gru_cell_1_layer_call_fn, gru_cell_1_layer_call_and_return_conditional_losses, gru_cell_1_layer_call_and_return_conditional_losses while saving (showing 5 of 5). These functions will not be directly callable after loading.\n"
     ]
    },
    {
     "name": "stdout",
     "output_type": "stream",
     "text": [
      "INFO:tensorflow:Assets written to: C:\\Users\\jared\\AppData\\Local\\Temp\\tmpqp4cgb3s\\assets\n"
     ]
    },
    {
     "name": "stderr",
     "output_type": "stream",
     "text": [
      "INFO:tensorflow:Assets written to: C:\\Users\\jared\\AppData\\Local\\Temp\\tmpqp4cgb3s\\assets\n",
      "WARNING:absl:<keras.layers.recurrent.GRUCell object at 0x0000017E0BBDADF0> has the same name 'GRUCell' as a built-in Keras object. Consider renaming <class 'keras.layers.recurrent.GRUCell'> to avoid naming conflicts when loading with `tf.keras.models.load_model`. If renaming is not possible, pass the object in the `custom_objects` parameter of the load function.\n",
      "C:\\Users\\jared\\anaconda3\\envs\\tflow\\lib\\site-packages\\scikeras\\wrappers.py:289: UserWarning: ``build_fn`` will be renamed to ``model`` in a future release, at which point use of ``build_fn`` will raise an Error instead.\n",
      "  warnings.warn(\n"
     ]
    },
    {
     "name": "stdout",
     "output_type": "stream",
     "text": [
      "Epoch 1/20\n",
      "99/99 [==============================] - 5s 27ms/step - loss: 0.7144 - accuracy: 0.4968 - val_loss: 0.6934 - val_accuracy: 0.5088\n",
      "Epoch 2/20\n",
      "99/99 [==============================] - 2s 18ms/step - loss: 0.6972 - accuracy: 0.5034 - val_loss: 0.7013 - val_accuracy: 0.4912\n",
      "Epoch 3/20\n",
      "99/99 [==============================] - 2s 18ms/step - loss: 0.6998 - accuracy: 0.5076 - val_loss: 0.6936 - val_accuracy: 0.5166\n",
      "Epoch 4/20\n",
      "99/99 [==============================] - 2s 18ms/step - loss: 0.6999 - accuracy: 0.4974 - val_loss: 0.6951 - val_accuracy: 0.5088\n",
      "Epoch 00004: early stopping\n",
      "50/50 [==============================] - 1s 6ms/step\n",
      "[CV 2/3] END dropout_rate=0.5, learning_rate=0.1, node_type=lstm, nodes=[32, 32, 32];, score=0.509 total time=  13.7s\n"
     ]
    },
    {
     "name": "stderr",
     "output_type": "stream",
     "text": [
      "WARNING:absl:Found untraced functions such as gru_cell_1_layer_call_fn, gru_cell_1_layer_call_and_return_conditional_losses, gru_cell_1_layer_call_fn, gru_cell_1_layer_call_and_return_conditional_losses, gru_cell_1_layer_call_and_return_conditional_losses while saving (showing 5 of 5). These functions will not be directly callable after loading.\n"
     ]
    },
    {
     "name": "stdout",
     "output_type": "stream",
     "text": [
      "INFO:tensorflow:Assets written to: C:\\Users\\jared\\AppData\\Local\\Temp\\tmpxu1vhyoc\\assets\n"
     ]
    },
    {
     "name": "stderr",
     "output_type": "stream",
     "text": [
      "INFO:tensorflow:Assets written to: C:\\Users\\jared\\AppData\\Local\\Temp\\tmpxu1vhyoc\\assets\n",
      "WARNING:absl:<keras.layers.recurrent.GRUCell object at 0x0000017E0BBDADF0> has the same name 'GRUCell' as a built-in Keras object. Consider renaming <class 'keras.layers.recurrent.GRUCell'> to avoid naming conflicts when loading with `tf.keras.models.load_model`. If renaming is not possible, pass the object in the `custom_objects` parameter of the load function.\n",
      "C:\\Users\\jared\\anaconda3\\envs\\tflow\\lib\\site-packages\\scikeras\\wrappers.py:289: UserWarning: ``build_fn`` will be renamed to ``model`` in a future release, at which point use of ``build_fn`` will raise an Error instead.\n",
      "  warnings.warn(\n"
     ]
    },
    {
     "name": "stdout",
     "output_type": "stream",
     "text": [
      "Epoch 1/20\n",
      "99/99 [==============================] - 5s 27ms/step - loss: 0.7212 - accuracy: 0.5027 - val_loss: 0.6935 - val_accuracy: 0.4912\n",
      "Epoch 2/20\n",
      "99/99 [==============================] - 2s 19ms/step - loss: 0.6961 - accuracy: 0.5042 - val_loss: 0.6930 - val_accuracy: 0.5098\n",
      "Epoch 3/20\n",
      "99/99 [==============================] - 2s 19ms/step - loss: 0.6982 - accuracy: 0.5039 - val_loss: 0.6934 - val_accuracy: 0.4925\n",
      "Epoch 4/20\n",
      "99/99 [==============================] - 2s 18ms/step - loss: 0.6985 - accuracy: 0.5000 - val_loss: 0.7016 - val_accuracy: 0.5088\n",
      "Epoch 5/20\n",
      "99/99 [==============================] - 2s 18ms/step - loss: 0.7038 - accuracy: 0.4971 - val_loss: 0.6963 - val_accuracy: 0.5088\n",
      "Epoch 00005: early stopping\n",
      "50/50 [==============================] - 1s 6ms/step\n",
      "[CV 3/3] END dropout_rate=0.5, learning_rate=0.1, node_type=lstm, nodes=[32, 32, 32];, score=0.509 total time=  15.6s\n"
     ]
    },
    {
     "name": "stderr",
     "output_type": "stream",
     "text": [
      "WARNING:absl:Found untraced functions such as gru_cell_1_layer_call_fn, gru_cell_1_layer_call_and_return_conditional_losses, gru_cell_1_layer_call_fn, gru_cell_1_layer_call_and_return_conditional_losses, gru_cell_1_layer_call_and_return_conditional_losses while saving (showing 5 of 5). These functions will not be directly callable after loading.\n"
     ]
    },
    {
     "name": "stdout",
     "output_type": "stream",
     "text": [
      "INFO:tensorflow:Assets written to: C:\\Users\\jared\\AppData\\Local\\Temp\\tmp25o7yi0_\\assets\n"
     ]
    },
    {
     "name": "stderr",
     "output_type": "stream",
     "text": [
      "INFO:tensorflow:Assets written to: C:\\Users\\jared\\AppData\\Local\\Temp\\tmp25o7yi0_\\assets\n",
      "WARNING:absl:<keras.layers.recurrent.GRUCell object at 0x0000017E0BBDADF0> has the same name 'GRUCell' as a built-in Keras object. Consider renaming <class 'keras.layers.recurrent.GRUCell'> to avoid naming conflicts when loading with `tf.keras.models.load_model`. If renaming is not possible, pass the object in the `custom_objects` parameter of the load function.\n",
      "C:\\Users\\jared\\anaconda3\\envs\\tflow\\lib\\site-packages\\scikeras\\wrappers.py:289: UserWarning: ``build_fn`` will be renamed to ``model`` in a future release, at which point use of ``build_fn`` will raise an Error instead.\n",
      "  warnings.warn(\n"
     ]
    },
    {
     "name": "stdout",
     "output_type": "stream",
     "text": [
      "Epoch 1/20\n",
      "99/99 [==============================] - 3s 17ms/step - loss: 0.7897 - accuracy: 0.5030 - val_loss: 0.6992 - val_accuracy: 0.5103\n",
      "Epoch 2/20\n",
      "99/99 [==============================] - 1s 13ms/step - loss: 0.6926 - accuracy: 0.5160 - val_loss: 0.6895 - val_accuracy: 0.5300\n",
      "Epoch 3/20\n",
      "99/99 [==============================] - 1s 11ms/step - loss: 0.6910 - accuracy: 0.5192 - val_loss: 0.6894 - val_accuracy: 0.5279\n",
      "Epoch 4/20\n",
      "99/99 [==============================] - 1s 11ms/step - loss: 0.6903 - accuracy: 0.5280 - val_loss: 0.6876 - val_accuracy: 0.5390\n",
      "Epoch 5/20\n",
      "99/99 [==============================] - 1s 11ms/step - loss: 0.6903 - accuracy: 0.5232 - val_loss: 0.6874 - val_accuracy: 0.5239\n",
      "Epoch 6/20\n",
      "99/99 [==============================] - 1s 12ms/step - loss: 0.6885 - accuracy: 0.5315 - val_loss: 0.6861 - val_accuracy: 0.5358\n",
      "Epoch 7/20\n",
      "99/99 [==============================] - 1s 11ms/step - loss: 0.6900 - accuracy: 0.5280 - val_loss: 0.6834 - val_accuracy: 0.5560\n",
      "Epoch 8/20\n",
      "99/99 [==============================] - 1s 11ms/step - loss: 0.6894 - accuracy: 0.5343 - val_loss: 0.6852 - val_accuracy: 0.5458\n",
      "Epoch 9/20\n",
      "99/99 [==============================] - 1s 11ms/step - loss: 0.6935 - accuracy: 0.5250 - val_loss: 0.6826 - val_accuracy: 0.5576\n",
      "Epoch 10/20\n",
      "99/99 [==============================] - 1s 12ms/step - loss: 0.6866 - accuracy: 0.5407 - val_loss: 0.6785 - val_accuracy: 0.5645\n",
      "Epoch 11/20\n",
      "99/99 [==============================] - 1s 12ms/step - loss: 0.6859 - accuracy: 0.5439 - val_loss: 0.6848 - val_accuracy: 0.5338\n",
      "Epoch 12/20\n",
      "99/99 [==============================] - 1s 11ms/step - loss: 0.6891 - accuracy: 0.5388 - val_loss: 0.6820 - val_accuracy: 0.5592\n",
      "Epoch 13/20\n",
      "99/99 [==============================] - 1s 12ms/step - loss: 0.6911 - accuracy: 0.5322 - val_loss: 0.6845 - val_accuracy: 0.5398\n",
      "Epoch 00013: early stopping\n",
      "50/50 [==============================] - 0s 4ms/step\n",
      "[CV 1/3] END dropout_rate=0.5, learning_rate=0.1, node_type=gru, nodes=[128];, score=nan total time=  18.6s\n"
     ]
    },
    {
     "name": "stderr",
     "output_type": "stream",
     "text": [
      "C:\\Users\\jared\\anaconda3\\envs\\tflow\\lib\\site-packages\\sklearn\\model_selection\\_validation.py:771: UserWarning: Scoring failed. The score on this train-test partition for these parameters will be set to nan. Details: \n",
      "Traceback (most recent call last):\n",
      "  File \"C:\\Users\\jared\\anaconda3\\envs\\tflow\\lib\\site-packages\\sklearn\\model_selection\\_validation.py\", line 762, in _score\n",
      "    scores = scorer(estimator, X_test, y_test)\n",
      "  File \"C:\\Users\\jared\\anaconda3\\envs\\tflow\\lib\\site-packages\\sklearn\\metrics\\_scorer.py\", line 216, in __call__\n",
      "    return self._score(\n",
      "  File \"C:\\Users\\jared\\anaconda3\\envs\\tflow\\lib\\site-packages\\sklearn\\metrics\\_scorer.py\", line 258, in _score\n",
      "    y_pred = method_caller(estimator, \"predict\", X)\n",
      "  File \"C:\\Users\\jared\\anaconda3\\envs\\tflow\\lib\\site-packages\\sklearn\\metrics\\_scorer.py\", line 68, in _cached_call\n",
      "    return getattr(estimator, method)(*args, **kwargs)\n",
      "  File \"C:\\Users\\jared\\anaconda3\\envs\\tflow\\lib\\site-packages\\scikeras\\wrappers.py\", line 1013, in predict\n",
      "    y_pred = self.target_encoder_.inverse_transform(y_pred)\n",
      "  File \"C:\\Users\\jared\\anaconda3\\envs\\tflow\\lib\\site-packages\\scikeras\\utils\\transformers.py\", line 257, in inverse_transform\n",
      "    class_predictions = self._final_encoder.inverse_transform(class_predictions)\n",
      "  File \"C:\\Users\\jared\\anaconda3\\envs\\tflow\\lib\\site-packages\\sklearn\\utils\\metaestimators.py\", line 113, in <lambda>\n",
      "    out = lambda *args, **kwargs: self.fn(obj, *args, **kwargs)  # noqa\n",
      "  File \"C:\\Users\\jared\\anaconda3\\envs\\tflow\\lib\\site-packages\\sklearn\\pipeline.py\", line 675, in inverse_transform\n",
      "    Xt = transform.inverse_transform(Xt)\n",
      "  File \"C:\\Users\\jared\\anaconda3\\envs\\tflow\\lib\\site-packages\\sklearn\\preprocessing\\_encoders.py\", line 990, in inverse_transform\n",
      "    X_tr[:, i] = self.categories_[i][labels]\n",
      "IndexError: index 59 is out of bounds for axis 0 with size 2\n",
      "\n",
      "  warnings.warn(\n",
      "WARNING:absl:Found untraced functions such as gru_cell_1_layer_call_fn, gru_cell_1_layer_call_and_return_conditional_losses, gru_cell_1_layer_call_fn, gru_cell_1_layer_call_and_return_conditional_losses, gru_cell_1_layer_call_and_return_conditional_losses while saving (showing 5 of 5). These functions will not be directly callable after loading.\n"
     ]
    },
    {
     "name": "stdout",
     "output_type": "stream",
     "text": [
      "INFO:tensorflow:Assets written to: C:\\Users\\jared\\AppData\\Local\\Temp\\tmpwh0isebi\\assets\n"
     ]
    },
    {
     "name": "stderr",
     "output_type": "stream",
     "text": [
      "INFO:tensorflow:Assets written to: C:\\Users\\jared\\AppData\\Local\\Temp\\tmpwh0isebi\\assets\n",
      "WARNING:absl:<keras.layers.recurrent.GRUCell object at 0x0000017E0BBDADF0> has the same name 'GRUCell' as a built-in Keras object. Consider renaming <class 'keras.layers.recurrent.GRUCell'> to avoid naming conflicts when loading with `tf.keras.models.load_model`. If renaming is not possible, pass the object in the `custom_objects` parameter of the load function.\n",
      "C:\\Users\\jared\\anaconda3\\envs\\tflow\\lib\\site-packages\\scikeras\\wrappers.py:289: UserWarning: ``build_fn`` will be renamed to ``model`` in a future release, at which point use of ``build_fn`` will raise an Error instead.\n",
      "  warnings.warn(\n"
     ]
    },
    {
     "name": "stdout",
     "output_type": "stream",
     "text": [
      "Epoch 1/20\n",
      "99/99 [==============================] - 3s 17ms/step - loss: 0.7843 - accuracy: 0.5118 - val_loss: 0.6967 - val_accuracy: 0.4918\n",
      "Epoch 2/20\n",
      "99/99 [==============================] - 1s 12ms/step - loss: 0.6921 - accuracy: 0.5187 - val_loss: 0.6919 - val_accuracy: 0.5122\n",
      "Epoch 3/20\n",
      "99/99 [==============================] - 1s 12ms/step - loss: 0.6909 - accuracy: 0.5244 - val_loss: 0.6914 - val_accuracy: 0.5184\n",
      "Epoch 4/20\n",
      "99/99 [==============================] - 1s 11ms/step - loss: 0.6907 - accuracy: 0.5317 - val_loss: 0.6943 - val_accuracy: 0.5196\n",
      "Epoch 5/20\n",
      "99/99 [==============================] - 1s 11ms/step - loss: 0.6919 - accuracy: 0.5313 - val_loss: 0.6873 - val_accuracy: 0.5383\n",
      "Epoch 6/20\n",
      "99/99 [==============================] - 1s 11ms/step - loss: 0.6885 - accuracy: 0.5370 - val_loss: 0.6818 - val_accuracy: 0.5541\n",
      "Epoch 7/20\n",
      "99/99 [==============================] - 1s 11ms/step - loss: 0.6890 - accuracy: 0.5341 - val_loss: 0.6983 - val_accuracy: 0.5226\n",
      "Epoch 8/20\n",
      "99/99 [==============================] - 1s 11ms/step - loss: 0.6898 - accuracy: 0.5344 - val_loss: 0.6822 - val_accuracy: 0.5561\n",
      "Epoch 9/20\n",
      "99/99 [==============================] - 1s 11ms/step - loss: 0.6864 - accuracy: 0.5425 - val_loss: 0.6840 - val_accuracy: 0.5457\n",
      "Epoch 00009: early stopping\n",
      "50/50 [==============================] - 0s 4ms/step\n",
      "[CV 2/3] END dropout_rate=0.5, learning_rate=0.1, node_type=gru, nodes=[128];, score=nan total time=  13.9s\n"
     ]
    },
    {
     "name": "stderr",
     "output_type": "stream",
     "text": [
      "C:\\Users\\jared\\anaconda3\\envs\\tflow\\lib\\site-packages\\sklearn\\model_selection\\_validation.py:771: UserWarning: Scoring failed. The score on this train-test partition for these parameters will be set to nan. Details: \n",
      "Traceback (most recent call last):\n",
      "  File \"C:\\Users\\jared\\anaconda3\\envs\\tflow\\lib\\site-packages\\sklearn\\model_selection\\_validation.py\", line 762, in _score\n",
      "    scores = scorer(estimator, X_test, y_test)\n",
      "  File \"C:\\Users\\jared\\anaconda3\\envs\\tflow\\lib\\site-packages\\sklearn\\metrics\\_scorer.py\", line 216, in __call__\n",
      "    return self._score(\n",
      "  File \"C:\\Users\\jared\\anaconda3\\envs\\tflow\\lib\\site-packages\\sklearn\\metrics\\_scorer.py\", line 258, in _score\n",
      "    y_pred = method_caller(estimator, \"predict\", X)\n",
      "  File \"C:\\Users\\jared\\anaconda3\\envs\\tflow\\lib\\site-packages\\sklearn\\metrics\\_scorer.py\", line 68, in _cached_call\n",
      "    return getattr(estimator, method)(*args, **kwargs)\n",
      "  File \"C:\\Users\\jared\\anaconda3\\envs\\tflow\\lib\\site-packages\\scikeras\\wrappers.py\", line 1013, in predict\n",
      "    y_pred = self.target_encoder_.inverse_transform(y_pred)\n",
      "  File \"C:\\Users\\jared\\anaconda3\\envs\\tflow\\lib\\site-packages\\scikeras\\utils\\transformers.py\", line 257, in inverse_transform\n",
      "    class_predictions = self._final_encoder.inverse_transform(class_predictions)\n",
      "  File \"C:\\Users\\jared\\anaconda3\\envs\\tflow\\lib\\site-packages\\sklearn\\utils\\metaestimators.py\", line 113, in <lambda>\n",
      "    out = lambda *args, **kwargs: self.fn(obj, *args, **kwargs)  # noqa\n",
      "  File \"C:\\Users\\jared\\anaconda3\\envs\\tflow\\lib\\site-packages\\sklearn\\pipeline.py\", line 675, in inverse_transform\n",
      "    Xt = transform.inverse_transform(Xt)\n",
      "  File \"C:\\Users\\jared\\anaconda3\\envs\\tflow\\lib\\site-packages\\sklearn\\preprocessing\\_encoders.py\", line 990, in inverse_transform\n",
      "    X_tr[:, i] = self.categories_[i][labels]\n",
      "IndexError: index 57 is out of bounds for axis 0 with size 2\n",
      "\n",
      "  warnings.warn(\n",
      "WARNING:absl:Found untraced functions such as gru_cell_1_layer_call_fn, gru_cell_1_layer_call_and_return_conditional_losses, gru_cell_1_layer_call_fn, gru_cell_1_layer_call_and_return_conditional_losses, gru_cell_1_layer_call_and_return_conditional_losses while saving (showing 5 of 5). These functions will not be directly callable after loading.\n"
     ]
    },
    {
     "name": "stdout",
     "output_type": "stream",
     "text": [
      "INFO:tensorflow:Assets written to: C:\\Users\\jared\\AppData\\Local\\Temp\\tmpd3aio2er\\assets\n"
     ]
    },
    {
     "name": "stderr",
     "output_type": "stream",
     "text": [
      "INFO:tensorflow:Assets written to: C:\\Users\\jared\\AppData\\Local\\Temp\\tmpd3aio2er\\assets\n",
      "WARNING:absl:<keras.layers.recurrent.GRUCell object at 0x0000017E0BBDADF0> has the same name 'GRUCell' as a built-in Keras object. Consider renaming <class 'keras.layers.recurrent.GRUCell'> to avoid naming conflicts when loading with `tf.keras.models.load_model`. If renaming is not possible, pass the object in the `custom_objects` parameter of the load function.\n",
      "C:\\Users\\jared\\anaconda3\\envs\\tflow\\lib\\site-packages\\scikeras\\wrappers.py:289: UserWarning: ``build_fn`` will be renamed to ``model`` in a future release, at which point use of ``build_fn`` will raise an Error instead.\n",
      "  warnings.warn(\n"
     ]
    },
    {
     "name": "stdout",
     "output_type": "stream",
     "text": [
      "Epoch 1/20\n",
      "99/99 [==============================] - 3s 17ms/step - loss: 0.7796 - accuracy: 0.5147 - val_loss: 0.6897 - val_accuracy: 0.5244\n",
      "Epoch 2/20\n",
      "99/99 [==============================] - 1s 11ms/step - loss: 0.6929 - accuracy: 0.5182 - val_loss: 0.6893 - val_accuracy: 0.5301\n",
      "Epoch 3/20\n",
      "99/99 [==============================] - 1s 12ms/step - loss: 0.6914 - accuracy: 0.5247 - val_loss: 0.6864 - val_accuracy: 0.5342\n",
      "Epoch 4/20\n",
      "99/99 [==============================] - 1s 11ms/step - loss: 0.6884 - accuracy: 0.5340 - val_loss: 0.6880 - val_accuracy: 0.5372\n",
      "Epoch 5/20\n",
      "99/99 [==============================] - 1s 11ms/step - loss: 0.6875 - accuracy: 0.5367 - val_loss: 0.6859 - val_accuracy: 0.5328\n",
      "Epoch 6/20\n",
      "99/99 [==============================] - 1s 11ms/step - loss: 0.6871 - accuracy: 0.5399 - val_loss: 0.6819 - val_accuracy: 0.5449\n",
      "Epoch 7/20\n",
      "99/99 [==============================] - 1s 11ms/step - loss: 0.6872 - accuracy: 0.5408 - val_loss: 0.6835 - val_accuracy: 0.5401\n",
      "Epoch 8/20\n",
      "99/99 [==============================] - 1s 11ms/step - loss: 0.6873 - accuracy: 0.5390 - val_loss: 0.6764 - val_accuracy: 0.5637\n",
      "Epoch 9/20\n",
      "99/99 [==============================] - 1s 11ms/step - loss: 0.6919 - accuracy: 0.5339 - val_loss: 0.6805 - val_accuracy: 0.5551\n",
      "Epoch 10/20\n",
      "99/99 [==============================] - 1s 11ms/step - loss: 0.6870 - accuracy: 0.5394 - val_loss: 0.6768 - val_accuracy: 0.5636\n",
      "Epoch 11/20\n",
      "99/99 [==============================] - 1s 12ms/step - loss: 0.6868 - accuracy: 0.5434 - val_loss: 0.6813 - val_accuracy: 0.5466\n",
      "Epoch 00011: early stopping\n",
      "50/50 [==============================] - 0s 4ms/step\n",
      "[CV 3/3] END dropout_rate=0.5, learning_rate=0.1, node_type=gru, nodes=[128];, score=nan total time=  16.2s\n"
     ]
    },
    {
     "name": "stderr",
     "output_type": "stream",
     "text": [
      "C:\\Users\\jared\\anaconda3\\envs\\tflow\\lib\\site-packages\\sklearn\\model_selection\\_validation.py:771: UserWarning: Scoring failed. The score on this train-test partition for these parameters will be set to nan. Details: \n",
      "Traceback (most recent call last):\n",
      "  File \"C:\\Users\\jared\\anaconda3\\envs\\tflow\\lib\\site-packages\\sklearn\\model_selection\\_validation.py\", line 762, in _score\n",
      "    scores = scorer(estimator, X_test, y_test)\n",
      "  File \"C:\\Users\\jared\\anaconda3\\envs\\tflow\\lib\\site-packages\\sklearn\\metrics\\_scorer.py\", line 216, in __call__\n",
      "    return self._score(\n",
      "  File \"C:\\Users\\jared\\anaconda3\\envs\\tflow\\lib\\site-packages\\sklearn\\metrics\\_scorer.py\", line 258, in _score\n",
      "    y_pred = method_caller(estimator, \"predict\", X)\n",
      "  File \"C:\\Users\\jared\\anaconda3\\envs\\tflow\\lib\\site-packages\\sklearn\\metrics\\_scorer.py\", line 68, in _cached_call\n",
      "    return getattr(estimator, method)(*args, **kwargs)\n",
      "  File \"C:\\Users\\jared\\anaconda3\\envs\\tflow\\lib\\site-packages\\scikeras\\wrappers.py\", line 1013, in predict\n",
      "    y_pred = self.target_encoder_.inverse_transform(y_pred)\n",
      "  File \"C:\\Users\\jared\\anaconda3\\envs\\tflow\\lib\\site-packages\\scikeras\\utils\\transformers.py\", line 257, in inverse_transform\n",
      "    class_predictions = self._final_encoder.inverse_transform(class_predictions)\n",
      "  File \"C:\\Users\\jared\\anaconda3\\envs\\tflow\\lib\\site-packages\\sklearn\\utils\\metaestimators.py\", line 113, in <lambda>\n",
      "    out = lambda *args, **kwargs: self.fn(obj, *args, **kwargs)  # noqa\n",
      "  File \"C:\\Users\\jared\\anaconda3\\envs\\tflow\\lib\\site-packages\\sklearn\\pipeline.py\", line 675, in inverse_transform\n",
      "    Xt = transform.inverse_transform(Xt)\n",
      "  File \"C:\\Users\\jared\\anaconda3\\envs\\tflow\\lib\\site-packages\\sklearn\\preprocessing\\_encoders.py\", line 990, in inverse_transform\n",
      "    X_tr[:, i] = self.categories_[i][labels]\n",
      "IndexError: index 58 is out of bounds for axis 0 with size 2\n",
      "\n",
      "  warnings.warn(\n",
      "WARNING:absl:Found untraced functions such as gru_cell_1_layer_call_fn, gru_cell_1_layer_call_and_return_conditional_losses, gru_cell_1_layer_call_fn, gru_cell_1_layer_call_and_return_conditional_losses, gru_cell_1_layer_call_and_return_conditional_losses while saving (showing 5 of 5). These functions will not be directly callable after loading.\n"
     ]
    },
    {
     "name": "stdout",
     "output_type": "stream",
     "text": [
      "INFO:tensorflow:Assets written to: C:\\Users\\jared\\AppData\\Local\\Temp\\tmp3pq6m_7g\\assets\n"
     ]
    },
    {
     "name": "stderr",
     "output_type": "stream",
     "text": [
      "INFO:tensorflow:Assets written to: C:\\Users\\jared\\AppData\\Local\\Temp\\tmp3pq6m_7g\\assets\n",
      "WARNING:absl:<keras.layers.recurrent.GRUCell object at 0x0000017E0BBDADF0> has the same name 'GRUCell' as a built-in Keras object. Consider renaming <class 'keras.layers.recurrent.GRUCell'> to avoid naming conflicts when loading with `tf.keras.models.load_model`. If renaming is not possible, pass the object in the `custom_objects` parameter of the load function.\n",
      "C:\\Users\\jared\\anaconda3\\envs\\tflow\\lib\\site-packages\\scikeras\\wrappers.py:289: UserWarning: ``build_fn`` will be renamed to ``model`` in a future release, at which point use of ``build_fn`` will raise an Error instead.\n",
      "  warnings.warn(\n"
     ]
    },
    {
     "name": "stdout",
     "output_type": "stream",
     "text": [
      "Epoch 1/20\n",
      "99/99 [==============================] - 4s 21ms/step - loss: 0.7353 - accuracy: 0.5049 - val_loss: 0.6934 - val_accuracy: 0.4966\n",
      "Epoch 2/20\n",
      "99/99 [==============================] - 1s 14ms/step - loss: 0.7066 - accuracy: 0.5071 - val_loss: 0.6990 - val_accuracy: 0.4945\n",
      "Epoch 3/20\n",
      "99/99 [==============================] - 1s 14ms/step - loss: 0.7104 - accuracy: 0.5109 - val_loss: 0.6986 - val_accuracy: 0.4912\n",
      "Epoch 4/20\n",
      "99/99 [==============================] - 1s 14ms/step - loss: 0.7077 - accuracy: 0.5054 - val_loss: 0.6950 - val_accuracy: 0.5031\n",
      "Epoch 00004: early stopping\n",
      "50/50 [==============================] - 1s 5ms/step\n",
      "[CV 1/3] END dropout_rate=0.5, learning_rate=0.1, node_type=gru, nodes=[64, 64];, score=0.496 total time=  10.6s\n"
     ]
    },
    {
     "name": "stderr",
     "output_type": "stream",
     "text": [
      "WARNING:absl:Found untraced functions such as gru_cell_1_layer_call_fn, gru_cell_1_layer_call_and_return_conditional_losses, gru_cell_1_layer_call_fn, gru_cell_1_layer_call_and_return_conditional_losses, gru_cell_1_layer_call_and_return_conditional_losses while saving (showing 5 of 5). These functions will not be directly callable after loading.\n"
     ]
    },
    {
     "name": "stdout",
     "output_type": "stream",
     "text": [
      "INFO:tensorflow:Assets written to: C:\\Users\\jared\\AppData\\Local\\Temp\\tmpuh9l6php\\assets\n"
     ]
    },
    {
     "name": "stderr",
     "output_type": "stream",
     "text": [
      "INFO:tensorflow:Assets written to: C:\\Users\\jared\\AppData\\Local\\Temp\\tmpuh9l6php\\assets\n",
      "WARNING:absl:<keras.layers.recurrent.GRUCell object at 0x0000017E0BBDADF0> has the same name 'GRUCell' as a built-in Keras object. Consider renaming <class 'keras.layers.recurrent.GRUCell'> to avoid naming conflicts when loading with `tf.keras.models.load_model`. If renaming is not possible, pass the object in the `custom_objects` parameter of the load function.\n",
      "C:\\Users\\jared\\anaconda3\\envs\\tflow\\lib\\site-packages\\scikeras\\wrappers.py:289: UserWarning: ``build_fn`` will be renamed to ``model`` in a future release, at which point use of ``build_fn`` will raise an Error instead.\n",
      "  warnings.warn(\n"
     ]
    },
    {
     "name": "stdout",
     "output_type": "stream",
     "text": [
      "Epoch 1/20\n",
      "99/99 [==============================] - 4s 21ms/step - loss: 0.7386 - accuracy: 0.5007 - val_loss: 0.7086 - val_accuracy: 0.5096\n",
      "Epoch 2/20\n",
      "99/99 [==============================] - 1s 14ms/step - loss: 0.6997 - accuracy: 0.5022 - val_loss: 0.7136 - val_accuracy: 0.5088\n",
      "Epoch 3/20\n",
      "99/99 [==============================] - 1s 14ms/step - loss: 0.7065 - accuracy: 0.5042 - val_loss: 0.6939 - val_accuracy: 0.5047\n",
      "Epoch 4/20\n",
      "99/99 [==============================] - 1s 14ms/step - loss: 0.7092 - accuracy: 0.5089 - val_loss: 0.7319 - val_accuracy: 0.5082\n",
      "Epoch 5/20\n",
      "99/99 [==============================] - 1s 14ms/step - loss: 0.7084 - accuracy: 0.5083 - val_loss: 0.6963 - val_accuracy: 0.4967\n",
      "Epoch 6/20\n",
      "99/99 [==============================] - 1s 14ms/step - loss: 0.7077 - accuracy: 0.5067 - val_loss: 0.6929 - val_accuracy: 0.5154\n",
      "Epoch 7/20\n",
      "99/99 [==============================] - 1s 14ms/step - loss: 0.7092 - accuracy: 0.5042 - val_loss: 0.6931 - val_accuracy: 0.5225\n",
      "Epoch 8/20\n",
      "99/99 [==============================] - 1s 14ms/step - loss: 0.7149 - accuracy: 0.5041 - val_loss: 0.8240 - val_accuracy: 0.4888\n",
      "Epoch 9/20\n",
      "99/99 [==============================] - 1s 14ms/step - loss: 0.7212 - accuracy: 0.4992 - val_loss: 0.6980 - val_accuracy: 0.5142\n",
      "Epoch 00009: early stopping\n",
      "50/50 [==============================] - 1s 5ms/step\n",
      "[CV 2/3] END dropout_rate=0.5, learning_rate=0.1, node_type=gru, nodes=[64, 64];, score=0.510 total time=  17.4s\n"
     ]
    },
    {
     "name": "stderr",
     "output_type": "stream",
     "text": [
      "WARNING:absl:Found untraced functions such as gru_cell_1_layer_call_fn, gru_cell_1_layer_call_and_return_conditional_losses, gru_cell_1_layer_call_fn, gru_cell_1_layer_call_and_return_conditional_losses, gru_cell_1_layer_call_and_return_conditional_losses while saving (showing 5 of 5). These functions will not be directly callable after loading.\n"
     ]
    },
    {
     "name": "stdout",
     "output_type": "stream",
     "text": [
      "INFO:tensorflow:Assets written to: C:\\Users\\jared\\AppData\\Local\\Temp\\tmpbd56sbqp\\assets\n"
     ]
    },
    {
     "name": "stderr",
     "output_type": "stream",
     "text": [
      "INFO:tensorflow:Assets written to: C:\\Users\\jared\\AppData\\Local\\Temp\\tmpbd56sbqp\\assets\n",
      "WARNING:absl:<keras.layers.recurrent.GRUCell object at 0x0000017E0BBDADF0> has the same name 'GRUCell' as a built-in Keras object. Consider renaming <class 'keras.layers.recurrent.GRUCell'> to avoid naming conflicts when loading with `tf.keras.models.load_model`. If renaming is not possible, pass the object in the `custom_objects` parameter of the load function.\n",
      "C:\\Users\\jared\\anaconda3\\envs\\tflow\\lib\\site-packages\\scikeras\\wrappers.py:289: UserWarning: ``build_fn`` will be renamed to ``model`` in a future release, at which point use of ``build_fn`` will raise an Error instead.\n",
      "  warnings.warn(\n"
     ]
    },
    {
     "name": "stdout",
     "output_type": "stream",
     "text": [
      "Epoch 1/20\n",
      "99/99 [==============================] - 4s 21ms/step - loss: 0.7377 - accuracy: 0.4989 - val_loss: 0.6934 - val_accuracy: 0.5105\n",
      "Epoch 2/20\n",
      "99/99 [==============================] - 1s 14ms/step - loss: 0.7040 - accuracy: 0.5074 - val_loss: 0.7160 - val_accuracy: 0.4912\n",
      "Epoch 3/20\n",
      "99/99 [==============================] - 1s 14ms/step - loss: 0.7107 - accuracy: 0.5034 - val_loss: 0.6983 - val_accuracy: 0.4950\n",
      "Epoch 4/20\n",
      "99/99 [==============================] - 1s 14ms/step - loss: 0.7109 - accuracy: 0.5069 - val_loss: 0.6978 - val_accuracy: 0.4871\n",
      "Epoch 00004: early stopping\n",
      "50/50 [==============================] - 1s 5ms/step\n",
      "[CV 3/3] END dropout_rate=0.5, learning_rate=0.1, node_type=gru, nodes=[64, 64];, score=0.492 total time=  10.5s\n"
     ]
    },
    {
     "name": "stderr",
     "output_type": "stream",
     "text": [
      "WARNING:absl:Found untraced functions such as gru_cell_1_layer_call_fn, gru_cell_1_layer_call_and_return_conditional_losses, gru_cell_1_layer_call_fn, gru_cell_1_layer_call_and_return_conditional_losses, gru_cell_1_layer_call_and_return_conditional_losses while saving (showing 5 of 5). These functions will not be directly callable after loading.\n"
     ]
    },
    {
     "name": "stdout",
     "output_type": "stream",
     "text": [
      "INFO:tensorflow:Assets written to: C:\\Users\\jared\\AppData\\Local\\Temp\\tmp7fonzk5s\\assets\n"
     ]
    },
    {
     "name": "stderr",
     "output_type": "stream",
     "text": [
      "INFO:tensorflow:Assets written to: C:\\Users\\jared\\AppData\\Local\\Temp\\tmp7fonzk5s\\assets\n",
      "WARNING:absl:<keras.layers.recurrent.GRUCell object at 0x0000017E0BBDADF0> has the same name 'GRUCell' as a built-in Keras object. Consider renaming <class 'keras.layers.recurrent.GRUCell'> to avoid naming conflicts when loading with `tf.keras.models.load_model`. If renaming is not possible, pass the object in the `custom_objects` parameter of the load function.\n",
      "C:\\Users\\jared\\anaconda3\\envs\\tflow\\lib\\site-packages\\scikeras\\wrappers.py:289: UserWarning: ``build_fn`` will be renamed to ``model`` in a future release, at which point use of ``build_fn`` will raise an Error instead.\n",
      "  warnings.warn(\n"
     ]
    },
    {
     "name": "stdout",
     "output_type": "stream",
     "text": [
      "Epoch 1/20\n",
      "99/99 [==============================] - 5s 26ms/step - loss: 0.7157 - accuracy: 0.5039 - val_loss: 0.6951 - val_accuracy: 0.4912\n",
      "Epoch 2/20\n",
      "99/99 [==============================] - 2s 18ms/step - loss: 0.6975 - accuracy: 0.5031 - val_loss: 0.6970 - val_accuracy: 0.4909\n",
      "Epoch 3/20\n",
      "99/99 [==============================] - 2s 18ms/step - loss: 0.7013 - accuracy: 0.4983 - val_loss: 0.6988 - val_accuracy: 0.4959\n",
      "Epoch 4/20\n",
      "99/99 [==============================] - 2s 18ms/step - loss: 0.7054 - accuracy: 0.5034 - val_loss: 0.6927 - val_accuracy: 0.5146\n",
      "Epoch 5/20\n",
      "99/99 [==============================] - 2s 18ms/step - loss: 0.7037 - accuracy: 0.4987 - val_loss: 0.6971 - val_accuracy: 0.5060\n",
      "Epoch 6/20\n",
      "99/99 [==============================] - 2s 18ms/step - loss: 0.7016 - accuracy: 0.5021 - val_loss: 0.6950 - val_accuracy: 0.4912\n",
      "Epoch 7/20\n",
      "99/99 [==============================] - 2s 18ms/step - loss: 0.7004 - accuracy: 0.5042 - val_loss: 0.7107 - val_accuracy: 0.4916\n",
      "Epoch 00007: early stopping\n",
      "50/50 [==============================] - 1s 6ms/step\n",
      "[CV 1/3] END dropout_rate=0.5, learning_rate=0.1, node_type=gru, nodes=[32, 32, 32];, score=0.490 total time=  18.7s\n"
     ]
    },
    {
     "name": "stderr",
     "output_type": "stream",
     "text": [
      "WARNING:absl:Found untraced functions such as gru_cell_1_layer_call_fn, gru_cell_1_layer_call_and_return_conditional_losses, gru_cell_1_layer_call_fn, gru_cell_1_layer_call_and_return_conditional_losses, gru_cell_1_layer_call_and_return_conditional_losses while saving (showing 5 of 5). These functions will not be directly callable after loading.\n"
     ]
    },
    {
     "name": "stdout",
     "output_type": "stream",
     "text": [
      "INFO:tensorflow:Assets written to: C:\\Users\\jared\\AppData\\Local\\Temp\\tmpruffk_8z\\assets\n"
     ]
    },
    {
     "name": "stderr",
     "output_type": "stream",
     "text": [
      "INFO:tensorflow:Assets written to: C:\\Users\\jared\\AppData\\Local\\Temp\\tmpruffk_8z\\assets\n",
      "WARNING:absl:<keras.layers.recurrent.GRUCell object at 0x0000017E0BBDADF0> has the same name 'GRUCell' as a built-in Keras object. Consider renaming <class 'keras.layers.recurrent.GRUCell'> to avoid naming conflicts when loading with `tf.keras.models.load_model`. If renaming is not possible, pass the object in the `custom_objects` parameter of the load function.\n",
      "C:\\Users\\jared\\anaconda3\\envs\\tflow\\lib\\site-packages\\scikeras\\wrappers.py:289: UserWarning: ``build_fn`` will be renamed to ``model`` in a future release, at which point use of ``build_fn`` will raise an Error instead.\n",
      "  warnings.warn(\n"
     ]
    },
    {
     "name": "stdout",
     "output_type": "stream",
     "text": [
      "Epoch 1/20\n",
      "99/99 [==============================] - 5s 26ms/step - loss: 0.7183 - accuracy: 0.5089 - val_loss: 0.6939 - val_accuracy: 0.5120\n",
      "Epoch 2/20\n",
      "99/99 [==============================] - 2s 18ms/step - loss: 0.7000 - accuracy: 0.5090 - val_loss: 0.6934 - val_accuracy: 0.4961\n",
      "Epoch 3/20\n",
      "99/99 [==============================] - 2s 18ms/step - loss: 0.7009 - accuracy: 0.5010 - val_loss: 0.6948 - val_accuracy: 0.4780\n",
      "Epoch 4/20\n",
      "99/99 [==============================] - 2s 17ms/step - loss: 0.7038 - accuracy: 0.4941 - val_loss: 0.6965 - val_accuracy: 0.4987\n",
      "Epoch 5/20\n",
      "99/99 [==============================] - 2s 18ms/step - loss: 0.7001 - accuracy: 0.5099 - val_loss: 0.6995 - val_accuracy: 0.5088\n",
      "Epoch 00005: early stopping\n",
      "50/50 [==============================] - 1s 6ms/step\n",
      "[CV 2/3] END dropout_rate=0.5, learning_rate=0.1, node_type=gru, nodes=[32, 32, 32];, score=0.509 total time=  14.8s\n"
     ]
    },
    {
     "name": "stderr",
     "output_type": "stream",
     "text": [
      "WARNING:absl:Found untraced functions such as gru_cell_1_layer_call_fn, gru_cell_1_layer_call_and_return_conditional_losses, gru_cell_1_layer_call_fn, gru_cell_1_layer_call_and_return_conditional_losses, gru_cell_1_layer_call_and_return_conditional_losses while saving (showing 5 of 5). These functions will not be directly callable after loading.\n"
     ]
    },
    {
     "name": "stdout",
     "output_type": "stream",
     "text": [
      "INFO:tensorflow:Assets written to: C:\\Users\\jared\\AppData\\Local\\Temp\\tmpc4rzetz4\\assets\n"
     ]
    },
    {
     "name": "stderr",
     "output_type": "stream",
     "text": [
      "INFO:tensorflow:Assets written to: C:\\Users\\jared\\AppData\\Local\\Temp\\tmpc4rzetz4\\assets\n",
      "WARNING:absl:<keras.layers.recurrent.GRUCell object at 0x0000017E0BBDADF0> has the same name 'GRUCell' as a built-in Keras object. Consider renaming <class 'keras.layers.recurrent.GRUCell'> to avoid naming conflicts when loading with `tf.keras.models.load_model`. If renaming is not possible, pass the object in the `custom_objects` parameter of the load function.\n",
      "C:\\Users\\jared\\anaconda3\\envs\\tflow\\lib\\site-packages\\scikeras\\wrappers.py:289: UserWarning: ``build_fn`` will be renamed to ``model`` in a future release, at which point use of ``build_fn`` will raise an Error instead.\n",
      "  warnings.warn(\n"
     ]
    },
    {
     "name": "stdout",
     "output_type": "stream",
     "text": [
      "Epoch 1/20\n",
      "99/99 [==============================] - 5s 27ms/step - loss: 0.7185 - accuracy: 0.4921 - val_loss: 0.6935 - val_accuracy: 0.5001\n",
      "Epoch 2/20\n",
      "99/99 [==============================] - 2s 18ms/step - loss: 0.7003 - accuracy: 0.5005 - val_loss: 0.6947 - val_accuracy: 0.5019\n",
      "Epoch 3/20\n",
      "99/99 [==============================] - 2s 18ms/step - loss: 0.7052 - accuracy: 0.5010 - val_loss: 0.6938 - val_accuracy: 0.5096\n",
      "Epoch 4/20\n",
      "99/99 [==============================] - 2s 18ms/step - loss: 0.7017 - accuracy: 0.5000 - val_loss: 0.6935 - val_accuracy: 0.5089\n",
      "Epoch 00004: early stopping\n",
      "50/50 [==============================] - 1s 6ms/step\n",
      "[CV 3/3] END dropout_rate=0.5, learning_rate=0.1, node_type=gru, nodes=[32, 32, 32];, score=0.510 total time=  13.2s\n"
     ]
    },
    {
     "name": "stderr",
     "output_type": "stream",
     "text": [
      "C:\\Users\\jared\\anaconda3\\envs\\tflow\\lib\\site-packages\\sklearn\\model_selection\\_search.py:969: UserWarning: One or more of the test scores are non-finite: [       nan 0.64057279 0.64295113        nan 0.65024553 0.64517162\n",
      "        nan 0.64289944 0.64363898        nan 0.63634365 0.64094301\n",
      "        nan 0.50177032 0.50256326        nan 0.52328297 0.49738386\n",
      "        nan 0.64221219 0.63898703        nan 0.65267709 0.65532024\n",
      "        nan 0.61308729 0.64638734        nan 0.62656744 0.64057319\n",
      "        nan 0.50774443 0.49690821        nan 0.50245751 0.50906496\n",
      "        nan 0.65325858 0.64501269        nan 0.65013968 0.652783\n",
      "        nan 0.63549909 0.61578538        nan 0.62910406 0.64443174\n",
      "        nan 0.49193938 0.50245757        nan 0.5059991  0.51202512\n",
      "        nan 0.6469154  0.64385049        nan 0.65029862 0.646334\n",
      "        nan 0.63539216 0.64004483        nan 0.63877592 0.61514866\n",
      "        nan 0.49690723 0.50911781        nan 0.49939234 0.50314566]\n",
      "  warnings.warn(\n",
      "WARNING:absl:Found untraced functions such as gru_cell_1_layer_call_fn, gru_cell_1_layer_call_and_return_conditional_losses, gru_cell_1_layer_call_fn, gru_cell_1_layer_call_and_return_conditional_losses, gru_cell_1_layer_call_and_return_conditional_losses while saving (showing 5 of 5). These functions will not be directly callable after loading.\n"
     ]
    },
    {
     "name": "stdout",
     "output_type": "stream",
     "text": [
      "INFO:tensorflow:Assets written to: C:\\Users\\jared\\AppData\\Local\\Temp\\tmpdj87pwrx\\assets\n"
     ]
    },
    {
     "name": "stderr",
     "output_type": "stream",
     "text": [
      "INFO:tensorflow:Assets written to: C:\\Users\\jared\\AppData\\Local\\Temp\\tmpdj87pwrx\\assets\n",
      "WARNING:absl:<keras.layers.recurrent.GRUCell object at 0x0000017E0BBDADF0> has the same name 'GRUCell' as a built-in Keras object. Consider renaming <class 'keras.layers.recurrent.GRUCell'> to avoid naming conflicts when loading with `tf.keras.models.load_model`. If renaming is not possible, pass the object in the `custom_objects` parameter of the load function.\n",
      "WARNING:absl:Found untraced functions such as gru_cell_434_layer_call_fn, gru_cell_434_layer_call_and_return_conditional_losses, gru_cell_434_layer_call_fn, gru_cell_434_layer_call_and_return_conditional_losses, gru_cell_434_layer_call_and_return_conditional_losses while saving (showing 5 of 5). These functions will not be directly callable after loading.\n"
     ]
    },
    {
     "name": "stdout",
     "output_type": "stream",
     "text": [
      "INFO:tensorflow:Assets written to: C:\\Users\\jared\\AppData\\Local\\Temp\\tmp8b_0cpjx\\assets\n"
     ]
    },
    {
     "name": "stderr",
     "output_type": "stream",
     "text": [
      "INFO:tensorflow:Assets written to: C:\\Users\\jared\\AppData\\Local\\Temp\\tmp8b_0cpjx\\assets\n",
      "WARNING:absl:<keras.layers.recurrent.GRUCell object at 0x000001801C3B4910> has the same name 'GRUCell' as a built-in Keras object. Consider renaming <class 'keras.layers.recurrent.GRUCell'> to avoid naming conflicts when loading with `tf.keras.models.load_model`. If renaming is not possible, pass the object in the `custom_objects` parameter of the load function.\n",
      "C:\\Users\\jared\\anaconda3\\envs\\tflow\\lib\\site-packages\\scikeras\\wrappers.py:289: UserWarning: ``build_fn`` will be renamed to ``model`` in a future release, at which point use of ``build_fn`` will raise an Error instead.\n",
      "  warnings.warn(\n"
     ]
    },
    {
     "name": "stdout",
     "output_type": "stream",
     "text": [
      "Epoch 1/20\n",
      "148/148 [==============================] - 6s 22ms/step - loss: 0.7132 - accuracy: 0.5752 - val_loss: 0.6436 - val_accuracy: 0.6350\n",
      "Epoch 2/20\n",
      "148/148 [==============================] - 3s 17ms/step - loss: 0.6584 - accuracy: 0.6229 - val_loss: 0.6265 - val_accuracy: 0.6450\n",
      "Epoch 3/20\n",
      "148/148 [==============================] - 2s 17ms/step - loss: 0.6409 - accuracy: 0.6393 - val_loss: 0.6131 - val_accuracy: 0.6575\n",
      "Epoch 4/20\n",
      "148/148 [==============================] - 2s 17ms/step - loss: 0.6282 - accuracy: 0.6433 - val_loss: 0.6073 - val_accuracy: 0.6630\n",
      "Epoch 5/20\n",
      "148/148 [==============================] - 2s 17ms/step - loss: 0.6159 - accuracy: 0.6589 - val_loss: 0.6051 - val_accuracy: 0.6684\n",
      "Epoch 6/20\n",
      "148/148 [==============================] - 2s 17ms/step - loss: 0.6110 - accuracy: 0.6628 - val_loss: 0.6138 - val_accuracy: 0.6539\n",
      "Epoch 7/20\n",
      "148/148 [==============================] - 2s 17ms/step - loss: 0.6059 - accuracy: 0.6627 - val_loss: 0.6163 - val_accuracy: 0.6587\n",
      "Epoch 8/20\n",
      "148/148 [==============================] - 3s 17ms/step - loss: 0.6019 - accuracy: 0.6677 - val_loss: 0.6048 - val_accuracy: 0.6617\n",
      "Epoch 9/20\n",
      "148/148 [==============================] - 2s 17ms/step - loss: 0.5978 - accuracy: 0.6723 - val_loss: 0.6035 - val_accuracy: 0.6662\n",
      "Epoch 10/20\n",
      "148/148 [==============================] - 2s 17ms/step - loss: 0.5947 - accuracy: 0.6737 - val_loss: 0.6063 - val_accuracy: 0.6650\n",
      "Epoch 11/20\n",
      "148/148 [==============================] - 2s 17ms/step - loss: 0.5891 - accuracy: 0.6811 - val_loss: 0.6102 - val_accuracy: 0.6577\n",
      "Epoch 12/20\n",
      "148/148 [==============================] - 2s 16ms/step - loss: 0.5869 - accuracy: 0.6828 - val_loss: 0.6043 - val_accuracy: 0.6728\n",
      "Epoch 00012: early stopping\n"
     ]
    },
    {
     "data": {
      "text/plain": [
       "GridSearchCV(cv=3,\n",
       "             estimator=KerasClassifier(batch_size=128, build_fn=<function get_model at 0x0000017B13C64AF0>, callbacks=[<keras.callbacks.EarlyStopping object at 0x0000017B06FA5EE0>], dropout_rate=0.2, epochs=20, learning_rate=0.001, node_type='lstm', nodes=[128]),\n",
       "             param_grid={'dropout_rate': [0.1, 0.2, 0.3, 0.5],\n",
       "                         'learning_rate': [0.001, 0.01, 0.1],\n",
       "                         'node_type': ['lstm', 'gru'],\n",
       "                         'nodes': [[128], [64, 64], [32, 32, 32]]},\n",
       "             scoring='accuracy', verbose=3)"
      ]
     },
     "execution_count": 25,
     "metadata": {},
     "output_type": "execute_result"
    }
   ],
   "source": [
    "param_grid = {\n",
    "    'nodes': [[128], [64, 64], [32, 32, 32]],\n",
    "    'dropout_rate': [0.1, 0.2, 0.3, 0.5],\n",
    "    'learning_rate': [0.001, 0.01, 0.1],\n",
    "    'node_type': ['lstm', 'gru']\n",
    "}    \n",
    "\n",
    "rnn = KerasClassifier(\n",
    "    build_fn=get_model,\n",
    "    epochs=20,\n",
    "    batch_size=128,\n",
    "    callbacks=[earlystop],\n",
    "    nodes=[128],\n",
    "    dropout_rate=0.2,\n",
    "    learning_rate=0.001,\n",
    "    node_type='lstm'\n",
    ")\n",
    "\n",
    "grid = GridSearchCV(\n",
    "    estimator=rnn,\n",
    "    param_grid=param_grid,\n",
    "    cv=3,\n",
    "    verbose=3,\n",
    "    scoring='accuracy'\n",
    ")\n",
    "\n",
    "grid.fit(\n",
    "    train_3d_scaled,\n",
    "    train_lables.reshape(-1, 1),\n",
    "    validation_data=(\n",
    "        val_3d_scaled,\n",
    "        val_lables.reshape(-1, 1)\n",
    "    )\n",
    ")"
   ]
  },
  {
   "cell_type": "code",
   "execution_count": 26,
   "metadata": {},
   "outputs": [
    {
     "name": "stdout",
     "output_type": "stream",
     "text": [
      "Best: 0.655320 using {'dropout_rate': 0.2, 'learning_rate': 0.001, 'node_type': 'gru', 'nodes': [32, 32, 32]}\n"
     ]
    }
   ],
   "source": [
    "print(\"Best: %f using %s\" % (grid.best_score_, grid.best_params_))"
   ]
  },
  {
   "cell_type": "markdown",
   "metadata": {},
   "source": [
    "### Model to handle variable length (fit_generator)\n",
    "\n"
   ]
  },
  {
   "cell_type": "code",
   "execution_count": 2,
   "metadata": {},
   "outputs": [],
   "source": [
    "class BatchGeneratorSize1(keras.utils.Sequence):\n",
    "    \"\"\"\n",
    "    Generate batches of data for training.\n",
    "    \n",
    "    Args:\n",
    "        X (list, df): the data to be used for training\n",
    "        y (list, int): the labels to be used for training (same length as X)\n",
    "        batch_size (int): the size of each batch\n",
    "        shuffle (bool): whether to shuffle the data\n",
    "\n",
    "    \"\"\"\n",
    "    def __init__(\n",
    "        self, \n",
    "        X, \n",
    "        y, \n",
    "        columns_list, \n",
    "        batch_size=1, \n",
    "        shuffle=True\n",
    "    ):\n",
    "        self.X, self.y = X, y\n",
    "        self.batch_size = batch_size\n",
    "        self.shuffle = shuffle\n",
    "        self.on_epoch_end()\n",
    "        self.columns_list = columns_list\n",
    "\n",
    "    def __len__(self):\n",
    "        return int(np.ceil(len(self.X) / self.batch_size))\n",
    "\n",
    "    def __getitem__(self, index):\n",
    "        return self.__data_generation(index)\n",
    "\n",
    "    def on_epoch_end(self):\n",
    "        self.indexes = np.arange(len(self.y))\n",
    "        if self.shuffle:\n",
    "            np.random.shuffle(self.indexes)\n",
    "\n",
    "    def __complete_columns(self, df):\n",
    "        \"\"\"\n",
    "        Complete columns of dataframe with zeros\n",
    "        \"\"\"\n",
    "\n",
    "        # get all columns in columns_list that are not in df\n",
    "        new_columns = [\n",
    "            col for col in self.columns_list if col not in df.columns\n",
    "        ]\n",
    "\n",
    "        # assign zeros to new columns\n",
    "        df[new_columns] = 0\n",
    "        \n",
    "        # arrange the columns to all have the same order and return\n",
    "        return df[columns_list]\n",
    "\n",
    "    def __data_generation(self, index):\n",
    "        \"\"\"\n",
    "        Generate batches of data for training.\n",
    "        \"\"\"\n",
    "        # make sure all columns are present and in the same order\n",
    "        complete_df = self.__complete_columns(self.X[index])\n",
    "        # get the data for the batch\n",
    "        df_arr = np.array(complete_df.values[:, :])\n",
    "        # get X and reshape it\n",
    "        Xb = df_arr.reshape((self.batch_size, df_arr.shape[0], df_arr.shape[1]))\n",
    "        # get y and reshape it\n",
    "        yb = self.y[index].reshape((self.batch_size, 1, 1))\n",
    "        \n",
    "        return Xb, yb\n"
   ]
  },
  {
   "cell_type": "code",
   "execution_count": 35,
   "metadata": {},
   "outputs": [
    {
     "name": "stderr",
     "output_type": "stream",
     "text": [
      " 31%|███       | 10317/33783 [1:32:17<3:29:55,  1.86it/s]\n"
     ]
    },
    {
     "ename": "FileNotFoundError",
     "evalue": "[Errno 2] No such file or directory: 'data/clean_events/8269066db4e210ff5031e980f9154cf6e513173b1f0cfe5fe497614cb16f4941.zip'",
     "output_type": "error",
     "traceback": [
      "\u001b[1;31m---------------------------------------------------------------------------\u001b[0m",
      "\u001b[1;31mFileNotFoundError\u001b[0m                         Traceback (most recent call last)",
      "\u001b[1;32m~\\AppData\\Local\\Temp/ipykernel_18544/521058311.py\u001b[0m in \u001b[0;36m<module>\u001b[1;34m\u001b[0m\n\u001b[0;32m     26\u001b[0m \u001b[1;33m\u001b[0m\u001b[0m\n\u001b[0;32m     27\u001b[0m     \u001b[1;31m# read df from pickle\u001b[0m\u001b[1;33m\u001b[0m\u001b[1;33m\u001b[0m\u001b[0m\n\u001b[1;32m---> 28\u001b[1;33m     \u001b[0mdf\u001b[0m \u001b[1;33m=\u001b[0m \u001b[0mpd\u001b[0m\u001b[1;33m.\u001b[0m\u001b[0mread_pickle\u001b[0m\u001b[1;33m(\u001b[0m\u001b[0mdirectory\u001b[0m\u001b[1;33m+\u001b[0m\u001b[0mfilehash\u001b[0m\u001b[1;33m+\u001b[0m\u001b[1;34m'.zip'\u001b[0m\u001b[1;33m)\u001b[0m\u001b[1;33m\u001b[0m\u001b[1;33m\u001b[0m\u001b[0m\n\u001b[0m\u001b[0;32m     29\u001b[0m \u001b[1;33m\u001b[0m\u001b[0m\n\u001b[0;32m     30\u001b[0m     \u001b[1;31m# check that df has no nans\u001b[0m\u001b[1;33m\u001b[0m\u001b[1;33m\u001b[0m\u001b[0m\n",
      "\u001b[1;32m~\\anaconda3\\envs\\tflow2\\lib\\site-packages\\pandas\\io\\pickle.py\u001b[0m in \u001b[0;36mread_pickle\u001b[1;34m(filepath_or_buffer, compression, storage_options)\u001b[0m\n\u001b[0;32m    194\u001b[0m     \"\"\"\n\u001b[0;32m    195\u001b[0m     \u001b[0mexcs_to_catch\u001b[0m \u001b[1;33m=\u001b[0m \u001b[1;33m(\u001b[0m\u001b[0mAttributeError\u001b[0m\u001b[1;33m,\u001b[0m \u001b[0mImportError\u001b[0m\u001b[1;33m,\u001b[0m \u001b[0mModuleNotFoundError\u001b[0m\u001b[1;33m,\u001b[0m \u001b[0mTypeError\u001b[0m\u001b[1;33m)\u001b[0m\u001b[1;33m\u001b[0m\u001b[1;33m\u001b[0m\u001b[0m\n\u001b[1;32m--> 196\u001b[1;33m     with get_handle(\n\u001b[0m\u001b[0;32m    197\u001b[0m         \u001b[0mfilepath_or_buffer\u001b[0m\u001b[1;33m,\u001b[0m\u001b[1;33m\u001b[0m\u001b[1;33m\u001b[0m\u001b[0m\n\u001b[0;32m    198\u001b[0m         \u001b[1;34m\"rb\"\u001b[0m\u001b[1;33m,\u001b[0m\u001b[1;33m\u001b[0m\u001b[1;33m\u001b[0m\u001b[0m\n",
      "\u001b[1;32m~\\anaconda3\\envs\\tflow2\\lib\\site-packages\\pandas\\io\\common.py\u001b[0m in \u001b[0;36mget_handle\u001b[1;34m(path_or_buf, mode, encoding, compression, memory_map, is_text, errors, storage_options)\u001b[0m\n\u001b[0;32m    669\u001b[0m         \u001b[1;31m# ZIP Compression\u001b[0m\u001b[1;33m\u001b[0m\u001b[1;33m\u001b[0m\u001b[0m\n\u001b[0;32m    670\u001b[0m         \u001b[1;32melif\u001b[0m \u001b[0mcompression\u001b[0m \u001b[1;33m==\u001b[0m \u001b[1;34m\"zip\"\u001b[0m\u001b[1;33m:\u001b[0m\u001b[1;33m\u001b[0m\u001b[1;33m\u001b[0m\u001b[0m\n\u001b[1;32m--> 671\u001b[1;33m             \u001b[0mhandle\u001b[0m \u001b[1;33m=\u001b[0m \u001b[0m_BytesZipFile\u001b[0m\u001b[1;33m(\u001b[0m\u001b[0mhandle\u001b[0m\u001b[1;33m,\u001b[0m \u001b[0mioargs\u001b[0m\u001b[1;33m.\u001b[0m\u001b[0mmode\u001b[0m\u001b[1;33m,\u001b[0m \u001b[1;33m**\u001b[0m\u001b[0mcompression_args\u001b[0m\u001b[1;33m)\u001b[0m\u001b[1;33m\u001b[0m\u001b[1;33m\u001b[0m\u001b[0m\n\u001b[0m\u001b[0;32m    672\u001b[0m             \u001b[1;32mif\u001b[0m \u001b[0mhandle\u001b[0m\u001b[1;33m.\u001b[0m\u001b[0mmode\u001b[0m \u001b[1;33m==\u001b[0m \u001b[1;34m\"r\"\u001b[0m\u001b[1;33m:\u001b[0m\u001b[1;33m\u001b[0m\u001b[1;33m\u001b[0m\u001b[0m\n\u001b[0;32m    673\u001b[0m                 \u001b[0mhandles\u001b[0m\u001b[1;33m.\u001b[0m\u001b[0mappend\u001b[0m\u001b[1;33m(\u001b[0m\u001b[0mhandle\u001b[0m\u001b[1;33m)\u001b[0m\u001b[1;33m\u001b[0m\u001b[1;33m\u001b[0m\u001b[0m\n",
      "\u001b[1;32m~\\anaconda3\\envs\\tflow2\\lib\\site-packages\\pandas\\io\\common.py\u001b[0m in \u001b[0;36m__init__\u001b[1;34m(self, file, mode, archive_name, **kwargs)\u001b[0m\n\u001b[0;32m    785\u001b[0m         \u001b[1;31m# TextIOBase, TextIOWrapper, mmap]]]\"; expected \"Union[Union[str,\u001b[0m\u001b[1;33m\u001b[0m\u001b[1;33m\u001b[0m\u001b[0m\n\u001b[0;32m    786\u001b[0m         \u001b[1;31m# _PathLike[str]], IO[bytes]]\"\u001b[0m\u001b[1;33m\u001b[0m\u001b[1;33m\u001b[0m\u001b[0m\n\u001b[1;32m--> 787\u001b[1;33m         \u001b[0msuper\u001b[0m\u001b[1;33m(\u001b[0m\u001b[1;33m)\u001b[0m\u001b[1;33m.\u001b[0m\u001b[0m__init__\u001b[0m\u001b[1;33m(\u001b[0m\u001b[0mfile\u001b[0m\u001b[1;33m,\u001b[0m \u001b[0mmode\u001b[0m\u001b[1;33m,\u001b[0m \u001b[1;33m**\u001b[0m\u001b[0mkwargs_zip\u001b[0m\u001b[1;33m)\u001b[0m  \u001b[1;31m# type: ignore[arg-type]\u001b[0m\u001b[1;33m\u001b[0m\u001b[1;33m\u001b[0m\u001b[0m\n\u001b[0m\u001b[0;32m    788\u001b[0m \u001b[1;33m\u001b[0m\u001b[0m\n\u001b[0;32m    789\u001b[0m     \u001b[1;32mdef\u001b[0m \u001b[0mwrite\u001b[0m\u001b[1;33m(\u001b[0m\u001b[0mself\u001b[0m\u001b[1;33m,\u001b[0m \u001b[0mdata\u001b[0m\u001b[1;33m)\u001b[0m\u001b[1;33m:\u001b[0m\u001b[1;33m\u001b[0m\u001b[1;33m\u001b[0m\u001b[0m\n",
      "\u001b[1;32m~\\anaconda3\\envs\\tflow2\\lib\\zipfile.py\u001b[0m in \u001b[0;36m__init__\u001b[1;34m(self, file, mode, compression, allowZip64, compresslevel, strict_timestamps)\u001b[0m\n\u001b[0;32m   1237\u001b[0m             \u001b[1;32mwhile\u001b[0m \u001b[1;32mTrue\u001b[0m\u001b[1;33m:\u001b[0m\u001b[1;33m\u001b[0m\u001b[1;33m\u001b[0m\u001b[0m\n\u001b[0;32m   1238\u001b[0m                 \u001b[1;32mtry\u001b[0m\u001b[1;33m:\u001b[0m\u001b[1;33m\u001b[0m\u001b[1;33m\u001b[0m\u001b[0m\n\u001b[1;32m-> 1239\u001b[1;33m                     \u001b[0mself\u001b[0m\u001b[1;33m.\u001b[0m\u001b[0mfp\u001b[0m \u001b[1;33m=\u001b[0m \u001b[0mio\u001b[0m\u001b[1;33m.\u001b[0m\u001b[0mopen\u001b[0m\u001b[1;33m(\u001b[0m\u001b[0mfile\u001b[0m\u001b[1;33m,\u001b[0m \u001b[0mfilemode\u001b[0m\u001b[1;33m)\u001b[0m\u001b[1;33m\u001b[0m\u001b[1;33m\u001b[0m\u001b[0m\n\u001b[0m\u001b[0;32m   1240\u001b[0m                 \u001b[1;32mexcept\u001b[0m \u001b[0mOSError\u001b[0m\u001b[1;33m:\u001b[0m\u001b[1;33m\u001b[0m\u001b[1;33m\u001b[0m\u001b[0m\n\u001b[0;32m   1241\u001b[0m                     \u001b[1;32mif\u001b[0m \u001b[0mfilemode\u001b[0m \u001b[1;32min\u001b[0m \u001b[0mmodeDict\u001b[0m\u001b[1;33m:\u001b[0m\u001b[1;33m\u001b[0m\u001b[1;33m\u001b[0m\u001b[0m\n",
      "\u001b[1;31mFileNotFoundError\u001b[0m: [Errno 2] No such file or directory: 'data/clean_events/8269066db4e210ff5031e980f9154cf6e513173b1f0cfe5fe497614cb16f4941.zip'"
     ]
    }
   ],
   "source": [
    "# get spawningtool_df\n",
    "spawningtool_df = pd.read_csv('data/spawningtool_replays.csv')\n",
    "\n",
    "# read in the data using os.walk, modify the dataframe and concatenate\n",
    "# create empty df for the dataframes\n",
    "df_all = pd.DataFrame()\n",
    "player_columns = []\n",
    "non_player_columns = []\n",
    "successful_count = 0\n",
    "\n",
    "# get filehashes of replays of the right length\n",
    "filehash_list = spawningtool_df.loc[\n",
    "    (spawningtool_df['game_length'] > 5*60) & \n",
    "    (spawningtool_df['game_length'] < 45*60),\n",
    "    'filehash'\n",
    "].tolist()\n",
    "\n",
    "# directory from which to read the replays\n",
    "directory = 'data/clean_events/'\n",
    "\n",
    "start_time = time.time()\n",
    "for i in tqdm(range(len(filehash_list))):\n",
    "    \n",
    "    # get the filehash\n",
    "    filehash = filehash_list[i]\n",
    "    \n",
    "    # get the filepath\n",
    "    filepath = directory+filehash+'.zip'\n",
    "\n",
    "    # if the file exists\n",
    "    if os.path.exists(filepath):\n",
    "        # read df from pickle\n",
    "        df = pd.read_pickle(filepath)\n",
    "    else:\n",
    "        continue\n",
    "\n",
    "    # check that df has no nans\n",
    "    if df.isnull().values.any():\n",
    "        continue\n",
    "\n",
    "    successful_count += 1\n",
    "\n",
    "    # get a list of unique column names\n",
    "    for col in df.columns:\n",
    "        if col.startswith('p1_') or col.startswith('p2_'):\n",
    "            if col not in player_columns:\n",
    "                player_columns.append(col)\n",
    "\n",
    "        else:\n",
    "            if col not in non_player_columns:\n",
    "                non_player_columns.append(col)\n",
    "\n",
    "    # write the filehash to the df\n",
    "    df['filehash'] = filehash\n",
    "\n",
    "    # look up winner in spawningtool_df\n",
    "    winner = spawningtool_df.loc[\n",
    "        spawningtool_df['filehash'] == filehash,\n",
    "        'game_winner'\n",
    "    ].values[0]\n",
    "\n",
    "    # add winner to df 1 for player 1 and 0 for player 2\n",
    "    if winner == 1:\n",
    "        df['winner'] = winner\n",
    "    else:\n",
    "        df['winner'] = 0\n",
    "\n",
    "    # reset index\n",
    "    df.reset_index(inplace=True)\n",
    "\n",
    "    # rename index to 'frame'\n",
    "    df.rename(columns={'index': 'frame'}, inplace=True)\n",
    "\n",
    "    # add df to df_all\n",
    "    df_all = pd.concat([df_all, df], axis=0, ignore_index=True)\n",
    "\n",
    "print('Time taken:', timedelta(seconds=time.time() - start_time))\n",
    "print('-' * 20)\n",
    "print(f'Player columns: {len(player_columns)}')\n",
    "print(f'Total columns: {len(player_columns) + len(non_player_columns) + 3}')\n",
    "print(f'Successful count: {successful_count}')\n",
    "print('-' * 20)\n",
    "print(f'df_all shape: {df_all.shape}')"
   ]
  },
  {
   "cell_type": "code",
   "execution_count": null,
   "metadata": {},
   "outputs": [],
   "source": [
    "# write df_dict to pickle\n",
    "df_all.to_pickle('data/combined_clean1.zip')"
   ]
  },
  {
   "cell_type": "code",
   "execution_count": null,
   "metadata": {},
   "outputs": [
    {
     "name": "stdout",
     "output_type": "stream",
     "text": [
      "Overwriting scripts/read_pickles.py\n"
     ]
    }
   ],
   "source": [
    "%%writefile scripts/read_pickles.py\n",
    "import pandas as pd\n",
    "\n",
    "def read_pickles(directory, filehash, metadata_df):\n",
    "    \"\"\"\n",
    "    Reads in pickles from the directory.\n",
    "\n",
    "    Args:\n",
    "        directory (str): the directory from which to read the pickles\n",
    "        filehash (string): list of filehashes to read in\n",
    "        metadata_df (df): the metadata df\n",
    "\n",
    "    Returns:\n",
    "        pandas.Dataframe: the dataframe of the pickles\n",
    "    \"\"\"\n",
    "    # read in the pickle\n",
    "    df = pd.read_pickle(directory + filehash + '.pkl')\n",
    "\n",
    "    # check that df has no nans\n",
    "    if df.isnull().values.any():\n",
    "        return None\n",
    "\n",
    "    # write the filehash to the df\n",
    "    df['filehash'] = filehash\n",
    "\n",
    "    # look up the winner in the metadata df\n",
    "    winner = metadata_df.loc[\n",
    "        metadata_df['filehash'] == filehash,\n",
    "        'game_winner'\n",
    "    ].values[0]\n",
    "\n",
    "    # write the winner to the df\n",
    "    if winner == 1:\n",
    "        df['winner'] = 1\n",
    "    else:\n",
    "        df['winner'] = 0\n",
    "\n",
    "    # reset the index\n",
    "    df.reset_index(inplace=True)\n",
    "\n",
    "    # rename the index to 'frame'\n",
    "    df.rename(columns={'index': 'frame'}, inplace=True)\n",
    "\n",
    "    # return the df\n",
    "    return df"
   ]
  },
  {
   "cell_type": "code",
   "execution_count": null,
   "metadata": {},
   "outputs": [],
   "source": [
    "def append_to_df_all(result):\n",
    "    \"\"\"\n",
    "    Appends the result to the df_all dataframe. Used as a callback function.\n",
    "\n",
    "    Args:\n",
    "        result (pandas.Dataframe): the result to append to the df_all dataframe\n",
    "\n",
    "    Returns:\n",
    "        None\n",
    "    \"\"\"\n",
    "    global df_all\n",
    "    global successful_count\n",
    "\n",
    "    if result is None:\n",
    "        return None\n",
    "\n",
    "    df_all = pd.concat([df_all, result], axis=0, ignore_index=True)\n",
    "    successful_count += 1"
   ]
  },
  {
   "cell_type": "code",
   "execution_count": null,
   "metadata": {},
   "outputs": [],
   "source": [
    "from scripts.read_pickles import read_pickles\n",
    "%autoreload\n",
    "\n",
    "# get spawningtool_df\n",
    "spawningtool_df = pd.read_csv('data/spawningtool_replays.csv')\n",
    "\n",
    "# read in the data using os.walk, modify the dataframe and concatenate\n",
    "# create empty df for the dataframes\n",
    "df_all = pd.DataFrame()\n",
    "player_columns = []\n",
    "successful_count = 0\n",
    "\n",
    "# get filehashes of replays of the right length\n",
    "filehash_list = spawningtool_df.loc[\n",
    "    (spawningtool_df['game_length'] > 5*60) & (spawningtool_df['game_length'] < 45*60),\n",
    "    'filehash'\n",
    "].tolist()\n",
    "\n",
    "# directory from which to read the replays\n",
    "directory = 'data/clean_events/'\n",
    "\n",
    "start_time = time.time()\n",
    "\n",
    "if __name__ == '__main__':\n",
    "    for i in tqdm(range(len(filehash_list))):\n",
    "        \n",
    "        # get the filehash\n",
    "        filehash = filehash_list[i]\n",
    "        \n",
    "        # use pool to read in the pickles\n",
    "        pool = mp.Pool(mp.cpu_count()-2)\n",
    "        pool.apply_async(\n",
    "            read_pickles,\n",
    "            args=(directory, filehash, spawningtool_df), \n",
    "            callback=append_to_df_all\n",
    "        )\n",
    "\n",
    "    pool.close()\n",
    "    pool.join()\n",
    "\n",
    "print('Time taken:', timedelta(seconds=time.time() - start_time))\n",
    "print(f'Successful count: {successful_count}')\n",
    "print('-' * 20)\n",
    "print(f'df_all shape: {df_all.shape}')"
   ]
  },
  {
   "cell_type": "code",
   "execution_count": null,
   "metadata": {},
   "outputs": [],
   "source": [
    "# write df_dict to pickle\n",
    "df_all.to_pickle('data/combined_clean2.zip')"
   ]
  },
  {
   "cell_type": "code",
   "execution_count": null,
   "metadata": {},
   "outputs": [
    {
     "data": {
      "text/plain": [
       "2e72791b4b920c2547572ecadba0ac6e0a34a9f082eb65764106199595bcf5f6    1509\n",
       "7b3b07b710a3371ec4c42f92d9fcd461b33eed45d136bb8cde92a6507bcd6654    1060\n",
       "c699f5fc8a71a3e1f359a49bf55a5cc0884f94f120eb4727a876347511dd8e35    1027\n",
       "1b4f992e34b82687804c05bef02c1b7dab0fc29351ea2d8c6688eada6d146512    1000\n",
       "37a4b62f723414c174e13b51d2072b1a839791e98f143925a9c3c539acff4e6c     976\n",
       "                                                                    ... \n",
       "258de286717fc78b52039b0ed49b650a682fa46364b217c1893bd5ac1761dfe8       1\n",
       "75e516113b5d6180e3cd0b2fc9b2d5f6c5352b5330d00f431637424c191dc24e       1\n",
       "70f71ed6162df9b84df79f8e3c458be670474dcb2b52c5e36014a816b5e09dfb       1\n",
       "b0c2488a6eb4fa3097e5a1f1d0911074fb3cfeeb383a56123479d9b8c220c0d9       1\n",
       "cd753c06b5da98a50fec3d7ee54b2243a2b091ecd3a213857a536a8ee2444c09       1\n",
       "Name: filehash, Length: 3003, dtype: int64"
      ]
     },
     "execution_count": 21,
     "metadata": {},
     "output_type": "execute_result"
    }
   ],
   "source": [
    "# get unique filehashes\n",
    "filehashes = df_all['filehash'].nunique()"
   ]
  },
  {
   "cell_type": "code",
   "execution_count": null,
   "metadata": {},
   "outputs": [],
   "source": [
    "# training_generator = BatchGeneratorSize1(\n",
    "#     X=train_3d_scaled,\n",
    "#     y=train_lables,\n",
    "#     columns_list=columns_list,\n",
    "#     batch_size=1,\n",
    "#     shuffle=True\n",
    "# )\n",
    "\n",
    "# validation_generator = BatchGeneratorSize1(\n",
    "#     X=val_3d_scaled,\n",
    "#     y=val_lables,\n",
    "#     columns_list=columns_list,\n",
    "#     batch_size=1,\n",
    "#     shuffle=True\n",
    "# )\n",
    "\n"
   ]
  }
 ],
 "metadata": {
  "interpreter": {
   "hash": "bbf05e7bea5dc5b1e6773aabcdc8ec9b42c81e35bdf4a9862a95063c00760121"
  },
  "kernelspec": {
   "display_name": "Python 3.9.7 64-bit ('tflow': conda)",
   "language": "python",
   "name": "python3"
  },
  "language_info": {
   "codemirror_mode": {
    "name": "ipython",
    "version": 3
   },
   "file_extension": ".py",
   "mimetype": "text/x-python",
   "name": "python",
   "nbconvert_exporter": "python",
   "pygments_lexer": "ipython3",
   "version": "3.9.7"
  },
  "orig_nbformat": 4
 },
 "nbformat": 4,
 "nbformat_minor": 2
}
