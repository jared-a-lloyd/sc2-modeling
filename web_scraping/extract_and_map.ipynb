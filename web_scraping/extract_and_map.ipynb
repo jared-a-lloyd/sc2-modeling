{
 "cells": [
  {
   "cell_type": "code",
   "execution_count": 1,
   "metadata": {},
   "outputs": [],
   "source": [
    "import os\n",
    "import json\n",
    "import shutil\n",
    "from pathlib import Path\n",
    "import unicodedata\n",
    "import re"
   ]
  },
  {
   "cell_type": "code",
   "execution_count": 8,
   "metadata": {},
   "outputs": [],
   "source": [
    "PARENT_DIR = '/home/jared/sc2reader/data/replays'\n",
    "ARCHIVE_PATH = 'C:/Users/jared/Desktop/Archive'\n",
    "REPLAY_EXT = '.SC2Replay'"
   ]
  },
  {
   "cell_type": "code",
   "execution_count": 6,
   "metadata": {},
   "outputs": [],
   "source": [
    "#https://stackoverflow.com/questions/9618862/how-to-parse-a-directory-structure-into-dictionary\n",
    "\n",
    "def set_leaf(tree, branches, leaf):\n",
    "    \"\"\" Set a terminal element to *leaf* within nested dictionaries.              \n",
    "    *branches* defines the path through dictionaries.                            \n",
    "\n",
    "    Example:                                                                      \n",
    "    >>> t = {}                                                                    \n",
    "    >>> set_leaf(t, ['b1','b2','b3'], 'new_leaf')                                 \n",
    "    >>> print t                                                                   \n",
    "    {'b1': {'b2': {'b3': 'new_leaf'}}}                                             \n",
    "    \"\"\"\n",
    "    if len(branches) == 1:\n",
    "        tree[branches[0]] = leaf\n",
    "        return\n",
    "\n",
    "    if not branches[0] in tree:\n",
    "        tree[branches[0]] = {}\n",
    "    \n",
    "    set_leaf(tree[branches[0]], branches[1:], leaf)\n",
    "\n"
   ]
  },
  {
   "cell_type": "code",
   "execution_count": 4,
   "metadata": {},
   "outputs": [],
   "source": [
    "def make_directory_map(startpath):\n",
    "\n",
    "    tree = {}\n",
    "    for root, dirs, files in os.walk(startpath):\n",
    "        branches = [startpath]\n",
    "        if root != startpath:\n",
    "            branches.extend(os.path.relpath(root, startpath).split('/'))\n",
    "\n",
    "        set_leaf(tree, branches, dict([(d,{}) for d in dirs]+ \\\n",
    "                                    [(f,None) for f in files]))\n",
    "\n",
    "    return tree"
   ]
  },
  {
   "cell_type": "code",
   "execution_count": 12,
   "metadata": {},
   "outputs": [],
   "source": [
    "def move_zip_files(startpath):\n",
    "    for root, dirs, files in os.walk(startpath):\n",
    "        for name in files:\n",
    "            if '.zip' in name:\n",
    "                archive_folder = os.path.split(root)[1] # get bottom folder name\n",
    "                new_path = os.path.join(ARCHIVE_PATH, archive_folder, name)\n",
    "                new_folder = Path(os.path.split(new_path)[0])\n",
    "                # check if new_path exists, create if it doesn't\n",
    "                if not os.path.isdir(new_folder):\n",
    "                    new_folder.mkdir(parents=True)\n",
    "                current_path = os.path.join(root, name)\n",
    "                shutil.move(current_path, new_path)"
   ]
  },
  {
   "cell_type": "code",
   "execution_count": 2,
   "metadata": {},
   "outputs": [],
   "source": [
    "# Loop through dict and extract all zipped files to folders of the same name\n",
    "def file_unzipper(map_dict, root):\n",
    "    for key, value in map_dict.items():\n",
    "        if isinstance(value, dict):\n",
    "            # recurse into unzipper, keep track of path\n",
    "            try:\n",
    "                file_unzipper(value, os.path.join(root, key))\n",
    "            except:\n",
    "                print(root, key)\n",
    "        else:\n",
    "            if '.zip' in key:\n",
    "                path = os.path.join(root, key)\n",
    "                zipless_name = os.path.splitext(key)[0]\n",
    "                new_folder = os.path.join(root, zipless_name)\n",
    "                try:\n",
    "                    shutil.unpack_archive(path, new_folder)\n",
    "                except:\n",
    "                    print(path)"
   ]
  },
  {
   "cell_type": "code",
   "execution_count": 10,
   "metadata": {},
   "outputs": [],
   "source": [
    "def slugify(value, allow_unicode=False):\n",
    "    \"\"\"\n",
    "    Taken from https://github.com/django/django/blob/master/django/utils/text.py\n",
    "    Convert to ASCII if 'allow_unicode' is False. Convert spaces or repeated\n",
    "    dashes to single dashes. Remove characters that aren't alphanumerics,\n",
    "    underscores, or hyphens. Convert to lowercase. Also strip leading and\n",
    "    trailing whitespace, dashes, and underscores.\n",
    "    \"\"\"\n",
    "    value = str(value)\n",
    "    if allow_unicode:\n",
    "        value = unicodedata.normalize('NFKC', value)\n",
    "    else:\n",
    "        value = unicodedata.normalize('NFKD', value).encode('ascii', 'ignore').decode('ascii')\n",
    "    value = re.sub(r'[^\\w\\s-]', '', value.lower())\n",
    "    return re.sub(r'[-\\s]+', '-', value).strip('-_')"
   ]
  },
  {
   "cell_type": "code",
   "execution_count": 9,
   "metadata": {},
   "outputs": [],
   "source": [
    "def despace_names(startpath):\n",
    "    for root, dirs, files in os.walk(startpath):\n",
    "        for name in files:\n",
    "            # loop through each file name and then replace space with _\n",
    "            old_name = os.path.join(root, name)\n",
    "            reg_split = re.compile('{}'.format(REPLAY_EXT), flags=re.I)\n",
    "            name = reg_split.split(name)\n",
    "            if len(name) == 0: # file ext was not found\n",
    "                continue\n",
    "            \n",
    "            new_name = slugify(name[0])+REPLAY_EXT\n",
    "            new_name = os.path.join(root, new_name)\n",
    "            os.rename(old_name, new_name)"
   ]
  },
  {
   "cell_type": "code",
   "execution_count": 15,
   "metadata": {},
   "outputs": [
    {
     "name": "stdout",
     "output_type": "stream",
     "text": [
      "/home/jared/sc2reader/data/replays/SpawningTool/Pro/page960.zip\n",
      "/home/jared/sc2reader/data/replays/SpawningTool/Pro/page600.zip\n",
      "/home/jared/sc2reader/data/replays/SpawningTool/Pro/page550.zip\n"
     ]
    },
    {
     "ename": "FileNotFoundError",
     "evalue": "[Errno 2] No such file or directory: '/home/jared/archive/Other/page549.zip'",
     "output_type": "error",
     "traceback": [
      "\u001b[0;31m---------------------------------------------------------------------------\u001b[0m",
      "\u001b[0;31mFileNotFoundError\u001b[0m                         Traceback (most recent call last)",
      "\u001b[0;32m~/anaconda3/envs/sc2/lib/python3.9/shutil.py\u001b[0m in \u001b[0;36mmove\u001b[0;34m(src, dst, copy_function)\u001b[0m\n\u001b[1;32m    813\u001b[0m     \u001b[0;32mtry\u001b[0m\u001b[0;34m:\u001b[0m\u001b[0;34m\u001b[0m\u001b[0;34m\u001b[0m\u001b[0m\n\u001b[0;32m--> 814\u001b[0;31m         \u001b[0mos\u001b[0m\u001b[0;34m.\u001b[0m\u001b[0mrename\u001b[0m\u001b[0;34m(\u001b[0m\u001b[0msrc\u001b[0m\u001b[0;34m,\u001b[0m \u001b[0mreal_dst\u001b[0m\u001b[0;34m)\u001b[0m\u001b[0;34m\u001b[0m\u001b[0;34m\u001b[0m\u001b[0m\n\u001b[0m\u001b[1;32m    815\u001b[0m     \u001b[0;32mexcept\u001b[0m \u001b[0mOSError\u001b[0m\u001b[0;34m:\u001b[0m\u001b[0;34m\u001b[0m\u001b[0;34m\u001b[0m\u001b[0m\n",
      "\u001b[0;31mFileNotFoundError\u001b[0m: [Errno 2] No such file or directory: '/home/jared/sc2reader/data/replays/SpawningTool/Other/page549.zip' -> '/home/jared/archive/Other/page549.zip'",
      "\nDuring handling of the above exception, another exception occurred:\n",
      "\u001b[0;31mFileNotFoundError\u001b[0m                         Traceback (most recent call last)",
      "\u001b[0;32m/tmp/ipykernel_388/2225983672.py\u001b[0m in \u001b[0;36m<module>\u001b[0;34m\u001b[0m\n\u001b[1;32m      3\u001b[0m \u001b[0;34m\u001b[0m\u001b[0m\n\u001b[1;32m      4\u001b[0m \u001b[0;31m# move all zip files into archive folder\u001b[0m\u001b[0;34m\u001b[0m\u001b[0;34m\u001b[0m\u001b[0m\n\u001b[0;32m----> 5\u001b[0;31m \u001b[0mmove_zip_files\u001b[0m\u001b[0;34m(\u001b[0m\u001b[0mPARENT_DIR\u001b[0m\u001b[0;34m)\u001b[0m\u001b[0;34m\u001b[0m\u001b[0;34m\u001b[0m\u001b[0m\n\u001b[0m\u001b[1;32m      6\u001b[0m \u001b[0;34m\u001b[0m\u001b[0m\n\u001b[1;32m      7\u001b[0m \u001b[0;31m#re-make directory map after unpacking and moving\u001b[0m\u001b[0;34m\u001b[0m\u001b[0;34m\u001b[0m\u001b[0m\n",
      "\u001b[0;32m/tmp/ipykernel_388/1651667919.py\u001b[0m in \u001b[0;36mmove_zip_files\u001b[0;34m(startpath)\u001b[0m\n\u001b[1;32m      6\u001b[0m                 \u001b[0mnew_path\u001b[0m \u001b[0;34m=\u001b[0m \u001b[0mos\u001b[0m\u001b[0;34m.\u001b[0m\u001b[0mpath\u001b[0m\u001b[0;34m.\u001b[0m\u001b[0mjoin\u001b[0m\u001b[0;34m(\u001b[0m\u001b[0mARCHIVE_PATH\u001b[0m\u001b[0;34m,\u001b[0m \u001b[0marchive_folder\u001b[0m\u001b[0;34m,\u001b[0m \u001b[0mname\u001b[0m\u001b[0;34m)\u001b[0m\u001b[0;34m\u001b[0m\u001b[0;34m\u001b[0m\u001b[0m\n\u001b[1;32m      7\u001b[0m                 \u001b[0mcurrent_path\u001b[0m \u001b[0;34m=\u001b[0m \u001b[0mos\u001b[0m\u001b[0;34m.\u001b[0m\u001b[0mpath\u001b[0m\u001b[0;34m.\u001b[0m\u001b[0mjoin\u001b[0m\u001b[0;34m(\u001b[0m\u001b[0mroot\u001b[0m\u001b[0;34m,\u001b[0m \u001b[0mname\u001b[0m\u001b[0;34m)\u001b[0m\u001b[0;34m\u001b[0m\u001b[0;34m\u001b[0m\u001b[0m\n\u001b[0;32m----> 8\u001b[0;31m                 \u001b[0mshutil\u001b[0m\u001b[0;34m.\u001b[0m\u001b[0mmove\u001b[0m\u001b[0;34m(\u001b[0m\u001b[0mcurrent_path\u001b[0m\u001b[0;34m,\u001b[0m \u001b[0mnew_path\u001b[0m\u001b[0;34m)\u001b[0m\u001b[0;34m\u001b[0m\u001b[0;34m\u001b[0m\u001b[0m\n\u001b[0m",
      "\u001b[0;32m~/anaconda3/envs/sc2/lib/python3.9/shutil.py\u001b[0m in \u001b[0;36mmove\u001b[0;34m(src, dst, copy_function)\u001b[0m\n\u001b[1;32m    832\u001b[0m             \u001b[0mrmtree\u001b[0m\u001b[0;34m(\u001b[0m\u001b[0msrc\u001b[0m\u001b[0;34m)\u001b[0m\u001b[0;34m\u001b[0m\u001b[0;34m\u001b[0m\u001b[0m\n\u001b[1;32m    833\u001b[0m         \u001b[0;32melse\u001b[0m\u001b[0;34m:\u001b[0m\u001b[0;34m\u001b[0m\u001b[0;34m\u001b[0m\u001b[0m\n\u001b[0;32m--> 834\u001b[0;31m             \u001b[0mcopy_function\u001b[0m\u001b[0;34m(\u001b[0m\u001b[0msrc\u001b[0m\u001b[0;34m,\u001b[0m \u001b[0mreal_dst\u001b[0m\u001b[0;34m)\u001b[0m\u001b[0;34m\u001b[0m\u001b[0;34m\u001b[0m\u001b[0m\n\u001b[0m\u001b[1;32m    835\u001b[0m             \u001b[0mos\u001b[0m\u001b[0;34m.\u001b[0m\u001b[0munlink\u001b[0m\u001b[0;34m(\u001b[0m\u001b[0msrc\u001b[0m\u001b[0;34m)\u001b[0m\u001b[0;34m\u001b[0m\u001b[0;34m\u001b[0m\u001b[0m\n\u001b[1;32m    836\u001b[0m     \u001b[0;32mreturn\u001b[0m \u001b[0mreal_dst\u001b[0m\u001b[0;34m\u001b[0m\u001b[0;34m\u001b[0m\u001b[0m\n",
      "\u001b[0;32m~/anaconda3/envs/sc2/lib/python3.9/shutil.py\u001b[0m in \u001b[0;36mcopy2\u001b[0;34m(src, dst, follow_symlinks)\u001b[0m\n\u001b[1;32m    441\u001b[0m     \u001b[0;32mif\u001b[0m \u001b[0mos\u001b[0m\u001b[0;34m.\u001b[0m\u001b[0mpath\u001b[0m\u001b[0;34m.\u001b[0m\u001b[0misdir\u001b[0m\u001b[0;34m(\u001b[0m\u001b[0mdst\u001b[0m\u001b[0;34m)\u001b[0m\u001b[0;34m:\u001b[0m\u001b[0;34m\u001b[0m\u001b[0;34m\u001b[0m\u001b[0m\n\u001b[1;32m    442\u001b[0m         \u001b[0mdst\u001b[0m \u001b[0;34m=\u001b[0m \u001b[0mos\u001b[0m\u001b[0;34m.\u001b[0m\u001b[0mpath\u001b[0m\u001b[0;34m.\u001b[0m\u001b[0mjoin\u001b[0m\u001b[0;34m(\u001b[0m\u001b[0mdst\u001b[0m\u001b[0;34m,\u001b[0m \u001b[0mos\u001b[0m\u001b[0;34m.\u001b[0m\u001b[0mpath\u001b[0m\u001b[0;34m.\u001b[0m\u001b[0mbasename\u001b[0m\u001b[0;34m(\u001b[0m\u001b[0msrc\u001b[0m\u001b[0;34m)\u001b[0m\u001b[0;34m)\u001b[0m\u001b[0;34m\u001b[0m\u001b[0;34m\u001b[0m\u001b[0m\n\u001b[0;32m--> 443\u001b[0;31m     \u001b[0mcopyfile\u001b[0m\u001b[0;34m(\u001b[0m\u001b[0msrc\u001b[0m\u001b[0;34m,\u001b[0m \u001b[0mdst\u001b[0m\u001b[0;34m,\u001b[0m \u001b[0mfollow_symlinks\u001b[0m\u001b[0;34m=\u001b[0m\u001b[0mfollow_symlinks\u001b[0m\u001b[0;34m)\u001b[0m\u001b[0;34m\u001b[0m\u001b[0;34m\u001b[0m\u001b[0m\n\u001b[0m\u001b[1;32m    444\u001b[0m     \u001b[0mcopystat\u001b[0m\u001b[0;34m(\u001b[0m\u001b[0msrc\u001b[0m\u001b[0;34m,\u001b[0m \u001b[0mdst\u001b[0m\u001b[0;34m,\u001b[0m \u001b[0mfollow_symlinks\u001b[0m\u001b[0;34m=\u001b[0m\u001b[0mfollow_symlinks\u001b[0m\u001b[0;34m)\u001b[0m\u001b[0;34m\u001b[0m\u001b[0;34m\u001b[0m\u001b[0m\n\u001b[1;32m    445\u001b[0m     \u001b[0;32mreturn\u001b[0m \u001b[0mdst\u001b[0m\u001b[0;34m\u001b[0m\u001b[0;34m\u001b[0m\u001b[0m\n",
      "\u001b[0;32m~/anaconda3/envs/sc2/lib/python3.9/shutil.py\u001b[0m in \u001b[0;36mcopyfile\u001b[0;34m(src, dst, follow_symlinks)\u001b[0m\n\u001b[1;32m    263\u001b[0m     \u001b[0;32melse\u001b[0m\u001b[0;34m:\u001b[0m\u001b[0;34m\u001b[0m\u001b[0;34m\u001b[0m\u001b[0m\n\u001b[1;32m    264\u001b[0m         \u001b[0;32mtry\u001b[0m\u001b[0;34m:\u001b[0m\u001b[0;34m\u001b[0m\u001b[0;34m\u001b[0m\u001b[0m\n\u001b[0;32m--> 265\u001b[0;31m             \u001b[0;32mwith\u001b[0m \u001b[0mopen\u001b[0m\u001b[0;34m(\u001b[0m\u001b[0msrc\u001b[0m\u001b[0;34m,\u001b[0m \u001b[0;34m'rb'\u001b[0m\u001b[0;34m)\u001b[0m \u001b[0;32mas\u001b[0m \u001b[0mfsrc\u001b[0m\u001b[0;34m,\u001b[0m \u001b[0mopen\u001b[0m\u001b[0;34m(\u001b[0m\u001b[0mdst\u001b[0m\u001b[0;34m,\u001b[0m \u001b[0;34m'wb'\u001b[0m\u001b[0;34m)\u001b[0m \u001b[0;32mas\u001b[0m \u001b[0mfdst\u001b[0m\u001b[0;34m:\u001b[0m\u001b[0;34m\u001b[0m\u001b[0;34m\u001b[0m\u001b[0m\n\u001b[0m\u001b[1;32m    266\u001b[0m                 \u001b[0;31m# macOS\u001b[0m\u001b[0;34m\u001b[0m\u001b[0;34m\u001b[0m\u001b[0m\n\u001b[1;32m    267\u001b[0m                 \u001b[0;32mif\u001b[0m \u001b[0m_HAS_FCOPYFILE\u001b[0m\u001b[0;34m:\u001b[0m\u001b[0;34m\u001b[0m\u001b[0;34m\u001b[0m\u001b[0m\n",
      "\u001b[0;31mFileNotFoundError\u001b[0m: [Errno 2] No such file or directory: '/home/jared/archive/Other/page549.zip'"
     ]
    }
   ],
   "source": [
    "# unzip all files\n",
    "file_unzipper(make_directory_map(PARENT_DIR), '')\n",
    "\n",
    "# move all zip files into archive folder\n",
    "move_zip_files(PARENT_DIR)\n",
    "\n",
    "# ensure correct naming of files\n",
    "despace_names(PARENT_DIR)\n",
    "\n",
    "#re-make directory map after unpacking and moving\n",
    "tree = make_directory_map(PARENT_DIR)\n",
    "# write final directory map to json file\n",
    "with open('../info/file_map.json', 'w', encoding=\"utf-8\") as file:\n",
    "        json.dump(tree, file, indent=4, separators=(',', ': '))"
   ]
  },
  {
   "cell_type": "code",
   "execution_count": 36,
   "metadata": {},
   "outputs": [],
   "source": [
    "#re-make directory map after unpacking and moving\n",
    "tree = make_directory_map(PARENT_DIR)\n",
    "# write final directory map to json file\n",
    "with open('../info/file_map.json', 'w', encoding=\"utf-8\") as file:\n",
    "        json.dump(tree, file, indent=4, separators=(',', ': '))"
   ]
  },
  {
   "cell_type": "code",
   "execution_count": 7,
   "metadata": {},
   "outputs": [
    {
     "name": "stdout",
     "output_type": "stream",
     "text": [
      "D:/Apps/Sc2Replays/SpawningTool\\Other\\page1.zip\n",
      "D:/Apps/Sc2Replays/SpawningTool\\Other\\page1000.zip\n",
      "D:/Apps/Sc2Replays/SpawningTool\\Other\\page1005.zip\n",
      "D:/Apps/Sc2Replays/SpawningTool\\Other\\page242.zip\n",
      "D:/Apps/Sc2Replays/SpawningTool\\Other\\page345.zip\n",
      "D:/Apps/Sc2Replays/SpawningTool\\Other\\page423.zip\n",
      "D:/Apps/Sc2Replays/SpawningTool\\Other\\page469.zip\n",
      "D:/Apps/Sc2Replays/SpawningTool\\Other\\page499.zip\n",
      "D:/Apps/Sc2Replays/SpawningTool\\Other\\page505.zip\n",
      "D:/Apps/Sc2Replays/SpawningTool\\Other\\page518.zip\n",
      "D:/Apps/Sc2Replays/SpawningTool\\Other\\page538.zip\n",
      "D:/Apps/Sc2Replays/SpawningTool\\Other\\page539.zip\n",
      "D:/Apps/Sc2Replays/SpawningTool\\Other\\page541.zip\n",
      "D:/Apps/Sc2Replays/SpawningTool\\Other\\page617.zip\n",
      "D:/Apps/Sc2Replays/SpawningTool\\Other\\page632.zip\n",
      "D:/Apps/Sc2Replays/SpawningTool\\Other\\page649.zip\n",
      "D:/Apps/Sc2Replays/SpawningTool\\Other\\page75.zip\n",
      "D:/Apps/Sc2Replays/SpawningTool\\Other\\page821.zip\n",
      "D:/Apps/Sc2Replays/SpawningTool\\Other\\page822.zip\n",
      "D:/Apps/Sc2Replays/SpawningTool\\Other\\page823.zip\n",
      "D:/Apps/Sc2Replays/SpawningTool\\Other\\page844.zip\n",
      "D:/Apps/Sc2Replays/SpawningTool\\Other\\page847.zip\n",
      "D:/Apps/Sc2Replays/SpawningTool\\Other\\page900.zip\n",
      "D:/Apps/Sc2Replays/SpawningTool\\Other\\page910.zip\n",
      "D:/Apps/Sc2Replays/SpawningTool\\Other\\page914.zip\n",
      "D:/Apps/Sc2Replays/SpawningTool\\Other\\page916.zip\n",
      "D:/Apps/Sc2Replays/SpawningTool\\Other\\page986.zip\n",
      "D:/Apps/Sc2Replays/SpawningTool\\Pro\\page225.zip\n",
      "D:/Apps/Sc2Replays/SpawningTool\\Pro\\page226.zip\n",
      "D:/Apps/Sc2Replays/SpawningTool\\Pro\\page550.zip\n",
      "D:/Apps/Sc2Replays/SpawningTool\\Pro\\page567.zip\n",
      "D:/Apps/Sc2Replays/SpawningTool\\Pro\\page600.zip\n",
      "D:/Apps/Sc2Replays/SpawningTool\\Pro\\page634.zip\n",
      "D:/Apps/Sc2Replays/SpawningTool\\Pro\\page869.zip\n",
      "D:/Apps/Sc2Replays/SpawningTool\\Pro\\page904.zip\n",
      "D:/Apps/Sc2Replays/SpawningTool\\Pro\\page960.zip\n"
     ]
    }
   ],
   "source": [
    "file_unzipper(make_directory_map('D:/Apps/Sc2Replays/SpawningTool'), '')"
   ]
  },
  {
   "cell_type": "code",
   "execution_count": 13,
   "metadata": {},
   "outputs": [
    {
     "ename": "FileExistsError",
     "evalue": "[WinError 183] Cannot create a file when that file already exists: 'D:/Apps/Sc2Replays/SpawningTool\\\\Other\\\\page101\\\\iGXY v 小坚强' -> 'D:/Apps/Sc2Replays/SpawningTool\\\\Other\\\\page101\\\\igxy-v.SC2Replay'",
     "output_type": "error",
     "traceback": [
      "\u001b[1;31m---------------------------------------------------------------------------\u001b[0m",
      "\u001b[1;31mFileExistsError\u001b[0m                           Traceback (most recent call last)",
      "\u001b[1;32m~\\AppData\\Local\\Temp/ipykernel_21788/1106891818.py\u001b[0m in \u001b[0;36m<module>\u001b[1;34m\u001b[0m\n\u001b[0;32m      1\u001b[0m \u001b[0mmove_zip_files\u001b[0m\u001b[1;33m(\u001b[0m\u001b[1;34m'D:/Apps/Sc2Replays/SpawningTool'\u001b[0m\u001b[1;33m)\u001b[0m\u001b[1;33m\u001b[0m\u001b[1;33m\u001b[0m\u001b[0m\n\u001b[0;32m      2\u001b[0m \u001b[1;33m\u001b[0m\u001b[0m\n\u001b[1;32m----> 3\u001b[1;33m \u001b[0mdespace_names\u001b[0m\u001b[1;33m(\u001b[0m\u001b[1;34m'D:/Apps/Sc2Replays/SpawningTool'\u001b[0m\u001b[1;33m)\u001b[0m\u001b[1;33m\u001b[0m\u001b[1;33m\u001b[0m\u001b[0m\n\u001b[0m",
      "\u001b[1;32m~\\AppData\\Local\\Temp/ipykernel_21788/506073844.py\u001b[0m in \u001b[0;36mdespace_names\u001b[1;34m(startpath)\u001b[0m\n\u001b[0;32m     11\u001b[0m             \u001b[0mnew_name\u001b[0m \u001b[1;33m=\u001b[0m \u001b[0mslugify\u001b[0m\u001b[1;33m(\u001b[0m\u001b[0mname\u001b[0m\u001b[1;33m[\u001b[0m\u001b[1;36m0\u001b[0m\u001b[1;33m]\u001b[0m\u001b[1;33m)\u001b[0m\u001b[1;33m+\u001b[0m\u001b[0mREPLAY_EXT\u001b[0m\u001b[1;33m\u001b[0m\u001b[1;33m\u001b[0m\u001b[0m\n\u001b[0;32m     12\u001b[0m             \u001b[0mnew_name\u001b[0m \u001b[1;33m=\u001b[0m \u001b[0mos\u001b[0m\u001b[1;33m.\u001b[0m\u001b[0mpath\u001b[0m\u001b[1;33m.\u001b[0m\u001b[0mjoin\u001b[0m\u001b[1;33m(\u001b[0m\u001b[0mroot\u001b[0m\u001b[1;33m,\u001b[0m \u001b[0mnew_name\u001b[0m\u001b[1;33m)\u001b[0m\u001b[1;33m\u001b[0m\u001b[1;33m\u001b[0m\u001b[0m\n\u001b[1;32m---> 13\u001b[1;33m             \u001b[0mos\u001b[0m\u001b[1;33m.\u001b[0m\u001b[0mrename\u001b[0m\u001b[1;33m(\u001b[0m\u001b[0mold_name\u001b[0m\u001b[1;33m,\u001b[0m \u001b[0mnew_name\u001b[0m\u001b[1;33m)\u001b[0m\u001b[1;33m\u001b[0m\u001b[1;33m\u001b[0m\u001b[0m\n\u001b[0m",
      "\u001b[1;31mFileExistsError\u001b[0m: [WinError 183] Cannot create a file when that file already exists: 'D:/Apps/Sc2Replays/SpawningTool\\\\Other\\\\page101\\\\iGXY v 小坚强' -> 'D:/Apps/Sc2Replays/SpawningTool\\\\Other\\\\page101\\\\igxy-v.SC2Replay'"
     ]
    }
   ],
   "source": [
    "move_zip_files('D:/Apps/Sc2Replays/SpawningTool')\n",
    "\n",
    "despace_names('D:/Apps/Sc2Replays/SpawningTool')"
   ]
  }
 ],
 "metadata": {
  "interpreter": {
   "hash": "d4cf022966bbd36933c612b9a537128a7afa164db307dc826422466b94a3d27f"
  },
  "kernelspec": {
   "display_name": "Python 3.9.7 64-bit ('sc2': conda)",
   "name": "python3"
  },
  "language_info": {
   "codemirror_mode": {
    "name": "ipython",
    "version": 3
   },
   "file_extension": ".py",
   "mimetype": "text/x-python",
   "name": "python",
   "nbconvert_exporter": "python",
   "pygments_lexer": "ipython3",
   "version": "3.9.7"
  },
  "orig_nbformat": 4
 },
 "nbformat": 4,
 "nbformat_minor": 2
}
