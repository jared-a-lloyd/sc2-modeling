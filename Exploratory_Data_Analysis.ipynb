{
 "cells": [
  {
   "cell_type": "markdown",
   "metadata": {},
   "source": [
    "# Exploratory Data Analysis\n",
    "\n",
    "This notebook contains the code for exploratory data analysis. It will focus on extracting data from the replays as a whole. The following steps will be followed:\n",
    "1. Create a list of all replays with a relative link to their files.\n",
    "    * Replays will be identified by their filehash, duplicate filehashes will not be added to the list.\n",
    "    * First create the table as a pandas dataframe, after which it can be written to csv.\n",
    "    * The list will be saved in the root of the `data/` folder, and this will be used as the reference point for relative file paths.\n",
    "    * Only 1v1 replays will be considered. This will be confirmed from the `game_type` attribute.\n",
    "2. Extract relevant data from replay files. The following data will be extracted:\n",
    "    * Map\n",
    "    * Player names\n",
    "    * Player races\n",
    "    * Player levels (if available)\n",
    "    * Player highest league (if available)\n",
    "    * Date\n",
    "    * Length\n",
    "    * Winner\n",
    "3. Add all relevant data to the csv\n",
    "4. Data exploration\n",
    "    * Initial data visualization.\n",
    "    * Cleaning any missing data.\n",
    "5. Initial modeling of metadata to observe any interesting trends."
   ]
  },
  {
   "cell_type": "code",
   "execution_count": 14,
   "metadata": {},
   "outputs": [],
   "source": [
    "# initial imports and settings\n",
    "import pandas as pd\n",
    "import numpy as np\n",
    "import matplotlib.pyplot as plt\n",
    "import seaborn as sns\n",
    "import os\n",
    "import sc2reader\n",
    "from multiprocessing import Pool # for parallel processing of replay files\n",
    "import re"
   ]
  },
  {
   "cell_type": "markdown",
   "metadata": {},
   "source": [
    "## Function for extracting data from a single replay file\n",
    "A function will be created to extract the relevant data from a single replay file. This function can then be used in a loop to extract data from all replays.\n",
    "\n",
    "The first attempt will be to use the notebook to build the steps of the function before writing the function itself."
   ]
  },
  {
   "cell_type": "code",
   "execution_count": 3,
   "metadata": {},
   "outputs": [],
   "source": [
    "replays_dir = '/home/jared/sc2_modeling/data/replays/SpawningTool'\n",
    "\n",
    "def get_replays(replays_dir):\n",
    "    # loop through each file in replays_dir using os.walk\n",
    "    for dirpath, dirnames, filenames in os.walk(replays_dir):\n",
    "        # loop through each file in the directory\n",
    "        for filename in filenames:\n",
    "            # if the file is a replay file\n",
    "            if filename.endswith('.SC2Replay'):\n",
    "                # open the replay file\n",
    "                filepath = os.path.join(dirpath, filename)\n",
    "                replay = sc2reader.load_replay(\n",
    "                    filepath, load_level=4)\n",
    "                return replay, filepath # return the first replay found\n",
    "    \n",
    "replay, file_path = get_replays(replays_dir)"
   ]
  },
  {
   "cell_type": "code",
   "execution_count": 46,
   "metadata": {},
   "outputs": [],
   "source": [
    "# check which of Protoss, Terran, Zerg is contained in player1 string\n",
    "def player_name_and_race(players):\n",
    "    \"\"\"\n",
    "    player_name_and_race\n",
    "    Takes players object from sc2reader object and extracts individual\n",
    "    player names and races\n",
    "\n",
    "    Args:\n",
    "        players (sc2reader.replay.players): Players attribute from sc2reader \n",
    "        replay object.\n",
    "\n",
    "    Returns:\n",
    "        tuple: A tuple with name and race, respectively for each player\n",
    "    \"\"\"    \n",
    "    # empty list to store player names and races\n",
    "    player_name = []\n",
    "    player_race = []\n",
    "\n",
    "    # names of the races\n",
    "    race_list = ['Protoss', 'Terran', 'Zerg']\n",
    "\n",
    "    for player in players:\n",
    "        \n",
    "        # convert player to string\n",
    "        player_string = str(player)\n",
    "\n",
    "        for race in race_list:\n",
    "            \n",
    "            if race in player_string:\n",
    "\n",
    "                # delete race from the player1 string\n",
    "                race_string = ' ('+race+')'\n",
    "                # assert that race_string is in player_string\n",
    "                assert race_string in player_string, \\\n",
    "                    f'{player_string} does not adhere to to {race_string} formatting'\n",
    "                # use replace to delete the player_string race\n",
    "                player_string = player_string.replace(race_string, '')\n",
    "\n",
    "                # create regex to find 'Player 1 - ' leaving only actual name\n",
    "                reg_str = r'Player\\s\\d\\s\\-\\s'\n",
    "\n",
    "                # assert that reg_str is in player_string string\n",
    "                assert re.search(reg_str, player_string), \\\n",
    "                    f'{player_string} does not adhere to to {reg_str} formatting'\n",
    "\n",
    "                player_name.append(re.sub(reg_str, '', player_string))\n",
    "                player_race.append(race)\n",
    "\n",
    "    # convert player_name and player_race lists into tuple for return\n",
    "    return tuple(\n",
    "        [val for pair in zip(player_name, player_race) for val in pair])\n",
    "\n"
   ]
  },
  {
   "cell_type": "code",
   "execution_count": 54,
   "metadata": {},
   "outputs": [
    {
     "data": {
      "text/plain": [
       "['URL_TEMPLATE',\n",
       " '__class__',\n",
       " '__delattr__',\n",
       " '__dict__',\n",
       " '__dir__',\n",
       " '__doc__',\n",
       " '__eq__',\n",
       " '__format__',\n",
       " '__ge__',\n",
       " '__getattribute__',\n",
       " '__gt__',\n",
       " '__hash__',\n",
       " '__init__',\n",
       " '__init_subclass__',\n",
       " '__le__',\n",
       " '__lt__',\n",
       " '__module__',\n",
       " '__ne__',\n",
       " '__new__',\n",
       " '__reduce__',\n",
       " '__reduce_ex__',\n",
       " '__repr__',\n",
       " '__setattr__',\n",
       " '__sizeof__',\n",
       " '__str__',\n",
       " '__subclasshook__',\n",
       " '__weakref__',\n",
       " 'archon_leader_id',\n",
       " 'attribute_data',\n",
       " 'clan_tag',\n",
       " 'color',\n",
       " 'combined_race_levels',\n",
       " 'commander',\n",
       " 'commander_level',\n",
       " 'commander_mastery_level',\n",
       " 'commander_mastery_talents',\n",
       " 'detail_data',\n",
       " 'difficulty',\n",
       " 'events',\n",
       " 'format',\n",
       " 'handicap',\n",
       " 'hero_mount',\n",
       " 'hero_name',\n",
       " 'hero_skin',\n",
       " 'highest_league',\n",
       " 'init_data',\n",
       " 'is_human',\n",
       " 'is_observer',\n",
       " 'is_referee',\n",
       " 'killed_units',\n",
       " 'messages',\n",
       " 'name',\n",
       " 'pick_race',\n",
       " 'pid',\n",
       " 'play_race',\n",
       " 'recorder',\n",
       " 'region',\n",
       " 'result',\n",
       " 'sid',\n",
       " 'slot_data',\n",
       " 'subregion',\n",
       " 'team',\n",
       " 'team_id',\n",
       " 'toon_handle',\n",
       " 'toon_id',\n",
       " 'trophy_id',\n",
       " 'uid',\n",
       " 'units',\n",
       " 'url']"
      ]
     },
     "execution_count": 54,
     "metadata": {},
     "output_type": "execute_result"
    }
   ],
   "source": [
    "# if replay.game_type == '1v1':\n",
    "# extract filehash\n",
    "file_hash = replay.filehash\n",
    "# extract map name\n",
    "file_map = replay.map_name\n",
    "# get players\n",
    "player1_name, player1_race, player2_name, player2_race = \\\n",
    "                                player_name_and_race(replay.players)\n",
    "\n",
    "dir(replay.players[0])\n"
   ]
  },
  {
   "cell_type": "code",
   "execution_count": 35,
   "metadata": {},
   "outputs": [
    {
     "data": {
      "text/plain": [
       "[1, 3, 2, 4]"
      ]
     },
     "execution_count": 35,
     "metadata": {},
     "output_type": "execute_result"
    }
   ],
   "source": [
    "a = [1,2]\n",
    "b = [3,4]\n",
    "[val for pair in zip(a, b) for val in pair]"
   ]
  },
  {
   "cell_type": "code",
   "execution_count": null,
   "metadata": {},
   "outputs": [],
   "source": []
  }
 ],
 "metadata": {
  "interpreter": {
   "hash": "d4cf022966bbd36933c612b9a537128a7afa164db307dc826422466b94a3d27f"
  },
  "kernelspec": {
   "display_name": "Python 3.9.7 64-bit ('sc2': conda)",
   "name": "python3"
  },
  "language_info": {
   "codemirror_mode": {
    "name": "ipython",
    "version": 3
   },
   "file_extension": ".py",
   "mimetype": "text/x-python",
   "name": "python",
   "nbconvert_exporter": "python",
   "pygments_lexer": "ipython3",
   "version": "3.9.7"
  },
  "orig_nbformat": 4
 },
 "nbformat": 4,
 "nbformat_minor": 2
}
