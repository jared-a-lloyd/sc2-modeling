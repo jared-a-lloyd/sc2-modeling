{
 "cells": [
  {
   "cell_type": "markdown",
   "metadata": {},
   "source": [
    "# Exploratory Data Analysis\n",
    "\n",
    "This notebook contains the code for exploratory data analysis. It will focus on extracting data from the replays as a whole. The following steps will be followed:\n",
    "1. Create a list of all replays with a relative link to their files.\n",
    "    * Replays will be identified by their filehash, duplicate filehashes will not be added to the list.\n",
    "    * First create the table as a pandas dataframe, after which it can be written to csv.\n",
    "    * The list will be saved in the root of the `data/` folder, and this will be used as the reference point for relative file paths.\n",
    "    * Only 1v1 replays will be considered. This will be confirmed from the `game_type` attribute.\n",
    "2. Extract relevant data from replay files. The following data will be extracted:\n",
    "    * Map\n",
    "    * Player names\n",
    "    * Player races\n",
    "    * Player levels (if available)\n",
    "    * Player highest league (if available)\n",
    "    * Date\n",
    "    * Length\n",
    "    * Winner\n",
    "3. Add all relevant data to the csv\n",
    "4. Data exploration\n",
    "    * Initial data visualization.\n",
    "    * Cleaning any missing data.\n",
    "5. Initial modeling of metadata to observe any interesting trends."
   ]
  },
  {
   "cell_type": "code",
   "execution_count": 1,
   "metadata": {},
   "outputs": [],
   "source": [
    "# initial imports and settings\n",
    "import pandas as pd\n",
    "import numpy as np\n",
    "import matplotlib.pyplot as plt\n",
    "import seaborn as sns\n",
    "import os\n",
    "import sc2reader\n",
    "from multiprocessing import Pool, cpu_count # for parallel processing of replay files\n",
    "import re\n",
    "import random"
   ]
  },
  {
   "cell_type": "markdown",
   "metadata": {},
   "source": [
    "## Function for extracting data from a single replay file\n",
    "A function will be created to extract the relevant data from a single replay file. This function can then be used in a loop to extract data from all replays.\n",
    "\n",
    "The first attempt will be to use the notebook to build the steps of the function before writing the function itself."
   ]
  },
  {
   "cell_type": "code",
   "execution_count": 2,
   "metadata": {},
   "outputs": [],
   "source": [
    "replays_dir = '/home/jared/sc2_modeling/data/replays/Replays'\n",
    "\n",
    "def get_replays(replays_dir):\n",
    "    # loop through each file in replays_dir using os.walk\n",
    "    for dirpath, dirnames, filenames in os.walk(replays_dir):\n",
    "        # loop through each file in the directory\n",
    "        for filename in filenames:\n",
    "            # if the file is a replay file\n",
    "            if filename.endswith('.SC2Replay'):\n",
    "                filepath = os.path.join(dirpath, filename)\n",
    "                replay = sc2reader.load_replay(\n",
    "                    filepath,\n",
    "                    load_level=4\n",
    "                    )\n",
    "                \n",
    "                return replay, filepath # return the first replay found\n",
    "    \n",
    "replay, file_path = get_replays(replays_dir)"
   ]
  },
  {
   "cell_type": "code",
   "execution_count": 20,
   "metadata": {},
   "outputs": [],
   "source": [
    "my_replay = sc2reader.load_replay(\n",
    "    '/home/jared/sc2_modeling/data/replays/Replays/14500c67c7c85f019874c47bc0101d803dab2b908ec5bc777d22f74f59405d2f.SC2Replay',\n",
    "    load_level=4\n",
    "    )\n"
   ]
  },
  {
   "cell_type": "code",
   "execution_count": 21,
   "metadata": {},
   "outputs": [
    {
     "data": {
      "text/plain": [
       "'/home/jared/sc2_modeling/data/replays/Replays/14500c67c7c85f019874c47bc0101d803dab2b908ec5bc777d22f74f59405d2f.SC2Replay'"
      ]
     },
     "execution_count": 21,
     "metadata": {},
     "output_type": "execute_result"
    }
   ],
   "source": [
    "my_replay.filename"
   ]
  },
  {
   "cell_type": "code",
   "execution_count": 24,
   "metadata": {},
   "outputs": [
    {
     "data": {
      "text/plain": [
       "Length(0)"
      ]
     },
     "execution_count": 24,
     "metadata": {},
     "output_type": "execute_result"
    }
   ],
   "source": [
    "my_replay.real_length"
   ]
  },
  {
   "cell_type": "code",
   "execution_count": 22,
   "metadata": {},
   "outputs": [
    {
     "data": {
      "text/plain": [
       "'00.00'"
      ]
     },
     "execution_count": 22,
     "metadata": {},
     "output_type": "execute_result"
    }
   ],
   "source": [
    "str(my_replay.game_length)"
   ]
  },
  {
   "cell_type": "code",
   "execution_count": 6,
   "metadata": {},
   "outputs": [],
   "source": [
    "class ReplayInfo:\n",
    "\n",
    "    def __init__(self, replay):\n",
    "        # self.__Replay = replay\n",
    "        self.map_name = replay.map_name\n",
    "        self.player_races = self._get_player_races(replay)\n",
    "        self.filename = replay.filename\n",
    "        self.player_mmrs = self._get_player_mmrs(replay)\n",
    "        self.game_length = self._get_game_length(replay)\n",
    "        self.game_winner = self._get_winner(replay)\n",
    "        self.timestamp = replay.unix_timestamp\n",
    "        self.game_type = replay.type\n",
    "        self.game_speed = replay.speed\n",
    "        self.fps = replay.game_fps\n",
    "        self.is_ladder = replay.is_ladder\n",
    "        self.region = replay.region\n",
    "\n",
    "        \n",
    "    def _get_game_length(self, replay):\n",
    "\n",
    "        # this converts to minutes.seconds\n",
    "        length_string = str(replay.game_length) \n",
    "\n",
    "        # use regex to extract all numbers from length_string\n",
    "        minutes = length_string.split('.')[0]\n",
    "        seconds = length_string.split('.')[1]\n",
    "\n",
    "        # convert to int in seconds\n",
    "        return int(minutes)*60 + int(seconds)\n",
    "\n",
    "        \n",
    "    def _get_winner(self, replay):\n",
    "        \n",
    "        winner_string = str(replay.winner)\n",
    "        if 'Player 1' in winner_string:\n",
    "            return 1\n",
    "        elif 'Player 2' in winner_string:\n",
    "            return 2\n",
    "        else:\n",
    "            return 0\n",
    "\n",
    "    def _get_player_mmrs(self, replay):\n",
    "        \n",
    "        str_a = 'replay.initData.backup'\n",
    "        str_b = 'user_initial_data'\n",
    "        str_c = 'scaled_rating'\n",
    "\n",
    "        return (\n",
    "            replay.raw_data[str_a][str_b][0][str_c],\n",
    "            replay.raw_data[str_a][str_b][1][str_c]\n",
    "            )\n",
    "\n",
    "\n",
    "    # get the player races\n",
    "    def _get_player_races(self, replay):\n",
    "        \"\"\"\n",
    "        _get_player_races\n",
    "        Iterate through players in self.__Replay.players and extract player \n",
    "        races as strings from the info\n",
    "\n",
    "        Returns:\n",
    "            tuple - Length 2 contain the races of both players\n",
    "        \"\"\"        \n",
    "\n",
    "        player_string = []\n",
    "\n",
    "        for player in replay.players:\n",
    "            # convert player to string\n",
    "            player_string.append(str(player))\n",
    "\n",
    "\n",
    "        return (\n",
    "            self._get_race(player_string[0]),\n",
    "            self._get_race(player_string[1])\n",
    "            )\n",
    "\n",
    "\n",
    "    def _get_race(self, player):\n",
    "        \"\"\"\n",
    "        _get_race Extract race from string. String is assumed to be of the form:\n",
    "        'Player x - Race'. \n",
    "\n",
    "        Args:\n",
    "            player (str): A string of form 'Player x - Race'\n",
    "\n",
    "        Returns:\n",
    "            str: Race of the player\n",
    "        \"\"\"\n",
    "\n",
    "        # assert that player is a string\n",
    "        assert isinstance(player, str), 'player should be a string'\n",
    "\n",
    "        # names of the races\n",
    "        race_list = ['Protoss', 'Terran', 'Zerg']\n",
    "\n",
    "        for race in race_list:\n",
    "                \n",
    "                if race in player:\n",
    "\n",
    "                    # delete race from the player1 string\n",
    "                    race_string = ' ('+race+')'\n",
    "                    # assert that race_string is in player\n",
    "                    assert race_string in player, \\\n",
    "                        f'{player} does not adhere to to {race_string} formatting'\n",
    "                    # use replace to delete the player race\n",
    "                    player = player.replace(race_string, '')\n",
    "\n",
    "                    # create regex to find 'Player 1 - ' leaving only actual name\n",
    "                    reg_str = r'Player\\s\\d\\s\\-\\s'\n",
    "\n",
    "                    # assert that reg_str is in player string\n",
    "                    assert re.search(reg_str, player), \\\n",
    "                        f'{player} does not adhere to to {reg_str} formatting'\n",
    "\n",
    "                    return race\n",
    "                        \n"
   ]
  },
  {
   "cell_type": "code",
   "execution_count": 7,
   "metadata": {},
   "outputs": [],
   "source": [
    "def _get_race(player):\n",
    "    \"\"\"\n",
    "    Takes in a string containing player name and race and returns as tuple\n",
    "    with correct formatting\n",
    "    \"\"\"\n",
    "\n",
    "    # assert that player is a string\n",
    "    assert isinstance(player, str), 'player should be a string'\n",
    "\n",
    "    # names of the races\n",
    "    race_list = ['Protoss', 'Terran', 'Zerg']\n",
    "\n",
    "    for race in race_list:\n",
    "            \n",
    "            if race in player:\n",
    "\n",
    "                # delete race from the player1 string\n",
    "                race_string = ' ('+race+')'\n",
    "                # assert that race_string is in player\n",
    "                assert race_string in player, \\\n",
    "                    f'{player} does not adhere to to {race_string} formatting'\n",
    "                # use replace to delete the player race\n",
    "                player = player.replace(race_string, '')\n",
    "\n",
    "                # create regex to find 'Player 1 - ' leaving only actual name\n",
    "                reg_str = r'Player\\s\\d\\s\\-\\s'\n",
    "\n",
    "                # assert that reg_str is in player string\n",
    "                assert re.search(reg_str, player), \\\n",
    "                    f'{player} does not adhere to to {reg_str} formatting'\n",
    "\n",
    "                return race\n",
    "\n"
   ]
  },
  {
   "cell_type": "code",
   "execution_count": 8,
   "metadata": {},
   "outputs": [],
   "source": [
    "# check which of Protoss, Terran, Zerg is contained in player string\n",
    "def _get_players_race(players):\n",
    "     \n",
    "    # empty dict to store players metadata\n",
    "    players_info = {}\n",
    "\n",
    "    for i, player in enumerate(players):\n",
    "        \n",
    "        # convert player to string\n",
    "        player_string = str(player)\n",
    "\n",
    "        # create player id\n",
    "        player_id = 'player' + str(i+1) \n",
    "\n",
    "        # get player race and store in dict with player id as key\n",
    "        players_info[player_id+'_race'] = _get_race(player_string)\n",
    "\n",
    "    return players_info\n",
    "\n"
   ]
  },
  {
   "cell_type": "code",
   "execution_count": 9,
   "metadata": {},
   "outputs": [],
   "source": [
    "# if replay.game_type == '1v1':\n",
    "# extract filehash\n",
    "file_hash = replay.filehash\n",
    "# extract map name\n",
    "file_map = replay.map_name\n",
    "# get players race\n",
    "players = _get_players_race(replay.players)\n",
    "\n",
    "# get players mmr\n",
    "# players = _get_players_mmr(\n",
    "#     players,\n",
    "#     replay.raw_data['replay.initData.backup']['user_initial_data']\n",
    "#     )\n",
    "\n"
   ]
  },
  {
   "cell_type": "code",
   "execution_count": 10,
   "metadata": {},
   "outputs": [
    {
     "name": "stdout",
     "output_type": "stream",
     "text": [
      "5193\n",
      "6\n",
      "5189\n",
      "6\n",
      "None\n",
      "0\n",
      "None\n",
      "0\n",
      "None\n",
      "0\n",
      "None\n",
      "0\n",
      "None\n",
      "0\n",
      "None\n",
      "0\n",
      "None\n",
      "0\n",
      "None\n",
      "0\n",
      "None\n",
      "0\n",
      "None\n",
      "0\n",
      "None\n",
      "0\n",
      "None\n",
      "0\n",
      "None\n",
      "0\n",
      "None\n",
      "0\n"
     ]
    }
   ],
   "source": [
    "for person in replay.raw_data['replay.initData.backup']['user_initial_data']:\n",
    "    print(person['scaled_rating'])\n",
    "    print(person['highest_league'])\n",
    "        "
   ]
  },
  {
   "cell_type": "code",
   "execution_count": 11,
   "metadata": {},
   "outputs": [],
   "source": [
    "def process_replay(filename):\n",
    "\n",
    "    # load replay\n",
    "    replay = sc2reader.load_replay(\n",
    "        filename,\n",
    "        load_level=4\n",
    "        )\n",
    "\n",
    "    return ReplayInfo(replay)"
   ]
  },
  {
   "cell_type": "code",
   "execution_count": 12,
   "metadata": {},
   "outputs": [],
   "source": [
    "replays_dir = '/home/jared/sc2_modeling/data/replays/Replays'\n",
    "replays_list = []\n",
    "for dirpath, dirnames, filenames in os.walk(replays_dir):\n",
    "    for filename in filenames:\n",
    "        if filename.endswith('.SC2Replay'):\n",
    "            filepath = os.path.join(dirpath, filename)\n",
    "            replays_list.append(filepath)\n"
   ]
  },
  {
   "cell_type": "code",
   "execution_count": 13,
   "metadata": {},
   "outputs": [],
   "source": [
    "# set random seed\n",
    "random.seed(42)\n",
    "\n",
    "# take a random sample of replays_list\n",
    "replays_list_sample = random.sample(replays_list, 1000)"
   ]
  },
  {
   "cell_type": "code",
   "execution_count": 14,
   "metadata": {},
   "outputs": [
    {
     "data": {
      "text/plain": [
       "1000"
      ]
     },
     "execution_count": 14,
     "metadata": {},
     "output_type": "execute_result"
    }
   ],
   "source": [
    "len(replays_list_sample)"
   ]
  },
  {
   "cell_type": "code",
   "execution_count": 15,
   "metadata": {},
   "outputs": [],
   "source": [
    "with Pool() as p:\n",
    "    replay_collection = p.map(process_replay, replays_list_sample)\n"
   ]
  },
  {
   "cell_type": "code",
   "execution_count": 16,
   "metadata": {},
   "outputs": [
    {
     "data": {
      "text/plain": [
       "1000"
      ]
     },
     "execution_count": 16,
     "metadata": {},
     "output_type": "execute_result"
    }
   ],
   "source": [
    "len(replay_collection)"
   ]
  },
  {
   "cell_type": "code",
   "execution_count": 17,
   "metadata": {},
   "outputs": [],
   "source": [
    "# convert replay collection to dataframe\n",
    "replay_df = pd.DataFrame({\n",
    "    'filename':[x.filename for x in replay_collection],\n",
    "    'map':[x.map_name for x in replay_collection],\n",
    "    'player1_race':[x.player_races[0] for x in replay_collection],\n",
    "    'player2_race':[x.player_races[1] for x in replay_collection],\n",
    "    'player1_mmr':[x.player_mmrs[0] for x in replay_collection],\n",
    "    'player2_mmr':[x.player_mmrs[1] for x in replay_collection],\n",
    "    'game_length':[x.game_length for x in replay_collection],\n",
    "    'game_type':[x.game_type for x in replay_collection],\n",
    "    'game_speed':[x.game_speed for x in replay_collection],\n",
    "    'game_winner':[x.game_winner for x in replay_collection],\n",
    "    'timestamp':[x.timestamp for x in replay_collection],\n",
    "    'fps':[x.fps for x in replay_collection],\n",
    "    'is_ladder':[x.is_ladder for x in replay_collection],\n",
    "    'region':[x.region for x in replay_collection]\n",
    "    })"
   ]
  },
  {
   "cell_type": "code",
   "execution_count": 18,
   "metadata": {},
   "outputs": [
    {
     "data": {
      "text/html": [
       "<div>\n",
       "<style scoped>\n",
       "    .dataframe tbody tr th:only-of-type {\n",
       "        vertical-align: middle;\n",
       "    }\n",
       "\n",
       "    .dataframe tbody tr th {\n",
       "        vertical-align: top;\n",
       "    }\n",
       "\n",
       "    .dataframe thead th {\n",
       "        text-align: right;\n",
       "    }\n",
       "</style>\n",
       "<table border=\"1\" class=\"dataframe\">\n",
       "  <thead>\n",
       "    <tr style=\"text-align: right;\">\n",
       "      <th></th>\n",
       "      <th>filename</th>\n",
       "      <th>map</th>\n",
       "      <th>player1_race</th>\n",
       "      <th>player2_race</th>\n",
       "      <th>player1_mmr</th>\n",
       "      <th>player2_mmr</th>\n",
       "      <th>game_length</th>\n",
       "      <th>game_type</th>\n",
       "      <th>game_speed</th>\n",
       "    </tr>\n",
       "  </thead>\n",
       "  <tbody>\n",
       "    <tr>\n",
       "      <th>0</th>\n",
       "      <td>/home/jared/sc2_modeling/data/replays/Replays/...</td>\n",
       "      <td>卡塔莉娜 - 天梯版 （虚空）</td>\n",
       "      <td>Zerg</td>\n",
       "      <td>Protoss</td>\n",
       "      <td>3722</td>\n",
       "      <td>3409</td>\n",
       "      <td>272</td>\n",
       "      <td>1v1</td>\n",
       "      <td>Faster</td>\n",
       "    </tr>\n",
       "    <tr>\n",
       "      <th>1</th>\n",
       "      <td>/home/jared/sc2_modeling/data/replays/Replays/...</td>\n",
       "      <td>Ascension to Aiur LE</td>\n",
       "      <td>Terran</td>\n",
       "      <td>Terran</td>\n",
       "      <td>3573</td>\n",
       "      <td>3509</td>\n",
       "      <td>351</td>\n",
       "      <td>1v1</td>\n",
       "      <td>Faster</td>\n",
       "    </tr>\n",
       "    <tr>\n",
       "      <th>2</th>\n",
       "      <td>/home/jared/sc2_modeling/data/replays/Replays/...</td>\n",
       "      <td>Abyssal Reef LE</td>\n",
       "      <td>Terran</td>\n",
       "      <td>Protoss</td>\n",
       "      <td>2821</td>\n",
       "      <td>2618</td>\n",
       "      <td>401</td>\n",
       "      <td>1v1</td>\n",
       "      <td>Faster</td>\n",
       "    </tr>\n",
       "    <tr>\n",
       "      <th>3</th>\n",
       "      <td>/home/jared/sc2_modeling/data/replays/Replays/...</td>\n",
       "      <td>Mech Depot LE</td>\n",
       "      <td>Zerg</td>\n",
       "      <td>Terran</td>\n",
       "      <td>4082</td>\n",
       "      <td>3927</td>\n",
       "      <td>560</td>\n",
       "      <td>1v1</td>\n",
       "      <td>Faster</td>\n",
       "    </tr>\n",
       "    <tr>\n",
       "      <th>4</th>\n",
       "      <td>/home/jared/sc2_modeling/data/replays/Replays/...</td>\n",
       "      <td>深海暗礁 - 天梯版</td>\n",
       "      <td>Terran</td>\n",
       "      <td>Terran</td>\n",
       "      <td>3876</td>\n",
       "      <td>4006</td>\n",
       "      <td>0</td>\n",
       "      <td>1v1</td>\n",
       "      <td>Faster</td>\n",
       "    </tr>\n",
       "  </tbody>\n",
       "</table>\n",
       "</div>"
      ],
      "text/plain": [
       "                                            filename                   map  \\\n",
       "0  /home/jared/sc2_modeling/data/replays/Replays/...       卡塔莉娜 - 天梯版 （虚空）   \n",
       "1  /home/jared/sc2_modeling/data/replays/Replays/...  Ascension to Aiur LE   \n",
       "2  /home/jared/sc2_modeling/data/replays/Replays/...       Abyssal Reef LE   \n",
       "3  /home/jared/sc2_modeling/data/replays/Replays/...         Mech Depot LE   \n",
       "4  /home/jared/sc2_modeling/data/replays/Replays/...            深海暗礁 - 天梯版   \n",
       "\n",
       "  player1_race player2_race  player1_mmr  player2_mmr  game_length game_type  \\\n",
       "0         Zerg      Protoss         3722         3409          272       1v1   \n",
       "1       Terran       Terran         3573         3509          351       1v1   \n",
       "2       Terran      Protoss         2821         2618          401       1v1   \n",
       "3         Zerg       Terran         4082         3927          560       1v1   \n",
       "4       Terran       Terran         3876         4006            0       1v1   \n",
       "\n",
       "  game_speed  \n",
       "0     Faster  \n",
       "1     Faster  \n",
       "2     Faster  \n",
       "3     Faster  \n",
       "4     Faster  "
      ]
     },
     "execution_count": 18,
     "metadata": {},
     "output_type": "execute_result"
    }
   ],
   "source": [
    "self.map_name = replay.map_name\n",
    "        self.player_races = self._get_player_races(replay)\n",
    "        self.filename = replay.filename\n",
    "        self.player_mmrs = self._get_player_mmrs(replay)\n",
    "        self.game_length = self._get_game_length(replay)\n",
    "        self.game_winner = self._get_winner(replay)\n",
    "        self.timestamp = replay.unix_timestamp\n",
    "        self.game_type = replay.type\n",
    "        self.game_speed = replay.speed\n",
    "        self.fps = replay.game_fps\n",
    "        self.is_ladder = replay.is_ladder\n",
    "        self.region = replay.region"
   ]
  },
  {
   "cell_type": "code",
   "execution_count": 19,
   "metadata": {},
   "outputs": [
    {
     "data": {
      "text/plain": [
       "'/home/jared/sc2_modeling/data/replays/Replays/14500c67c7c85f019874c47bc0101d803dab2b908ec5bc777d22f74f59405d2f.SC2Replay'"
      ]
     },
     "execution_count": 19,
     "metadata": {},
     "output_type": "execute_result"
    }
   ],
   "source": [
    "replay_df.loc[4, 'filename']"
   ]
  }
 ],
 "metadata": {
  "interpreter": {
   "hash": "d4cf022966bbd36933c612b9a537128a7afa164db307dc826422466b94a3d27f"
  },
  "kernelspec": {
   "display_name": "Python 3.9.7 64-bit ('sc2': conda)",
   "name": "python3"
  },
  "language_info": {
   "codemirror_mode": {
    "name": "ipython",
    "version": 3
   },
   "file_extension": ".py",
   "mimetype": "text/x-python",
   "name": "python",
   "nbconvert_exporter": "python",
   "pygments_lexer": "ipython3",
   "version": "3.9.7"
  },
  "orig_nbformat": 4
 },
 "nbformat": 4,
 "nbformat_minor": 2
}
